{
 "cells": [
  {
   "cell_type": "markdown",
   "metadata": {},
   "source": [
    "# DNN Model"
   ]
  },
  {
   "cell_type": "code",
   "execution_count": 1,
   "metadata": {},
   "outputs": [
    {
     "name": "stderr",
     "output_type": "stream",
     "text": [
      "2023-01-10 11:23:28.690859: I tensorflow/core/platform/cpu_feature_guard.cc:193] This TensorFlow binary is optimized with oneAPI Deep Neural Network Library (oneDNN) to use the following CPU instructions in performance-critical operations:  AVX2 FMA\n",
      "To enable them in other operations, rebuild TensorFlow with the appropriate compiler flags.\n",
      "2023-01-10 11:23:28.818302: W tensorflow/compiler/xla/stream_executor/platform/default/dso_loader.cc:64] Could not load dynamic library 'libcudart.so.11.0'; dlerror: libcudart.so.11.0: cannot open shared object file: No such file or directory\n",
      "2023-01-10 11:23:28.818318: I tensorflow/compiler/xla/stream_executor/cuda/cudart_stub.cc:29] Ignore above cudart dlerror if you do not have a GPU set up on your machine.\n",
      "2023-01-10 11:23:29.453759: W tensorflow/compiler/xla/stream_executor/platform/default/dso_loader.cc:64] Could not load dynamic library 'libnvinfer.so.7'; dlerror: libnvinfer.so.7: cannot open shared object file: No such file or directory\n",
      "2023-01-10 11:23:29.453842: W tensorflow/compiler/xla/stream_executor/platform/default/dso_loader.cc:64] Could not load dynamic library 'libnvinfer_plugin.so.7'; dlerror: libnvinfer_plugin.so.7: cannot open shared object file: No such file or directory\n",
      "2023-01-10 11:23:29.453850: W tensorflow/compiler/tf2tensorrt/utils/py_utils.cc:38] TF-TRT Warning: Cannot dlopen some TensorRT libraries. If you would like to use Nvidia GPU with TensorRT, please make sure the missing libraries mentioned above are installed properly.\n"
     ]
    }
   ],
   "source": [
    "import numpy as np\n",
    "import pandas as pd\n",
    "import tensorflow as tf"
   ]
  },
  {
   "cell_type": "code",
   "execution_count": 2,
   "metadata": {},
   "outputs": [],
   "source": [
    "# data loading from .npz generated from tcr_data_process.ipynb\n",
    "# loading train data\n",
    "npz = np.load('data_train.npz')\n",
    "train_inputs = npz['input'].astype(np.float64)\n",
    "train_targets = npz['targets'].astype(np.float64)\n",
    "# loading validation data\n",
    "npz = np.load('data_validation.npz')\n",
    "validation_inputs, validation_targets = npz['input'].astype(np.float64), npz['targets'].astype(np.float64)\n",
    "\n",
    "npz = np.load('data_test.npz')\n",
    "test_inputs, test_targets = npz['input'].astype(np.float64), npz['targets'].astype(np.float64)"
   ]
  },
  {
   "cell_type": "markdown",
   "metadata": {},
   "source": [
    "# ANN Model"
   ]
  },
  {
   "cell_type": "markdown",
   "metadata": {},
   "source": [
    "Outline, Optimizer, Loss function, Early stopping and Training rate"
   ]
  },
  {
   "cell_type": "code",
   "execution_count": 3,
   "metadata": {},
   "outputs": [
    {
     "name": "stderr",
     "output_type": "stream",
     "text": [
      "2023-01-10 11:23:30.269872: W tensorflow/compiler/xla/stream_executor/platform/default/dso_loader.cc:64] Could not load dynamic library 'libcuda.so.1'; dlerror: libcuda.so.1: cannot open shared object file: No such file or directory\n",
      "2023-01-10 11:23:30.269907: W tensorflow/compiler/xla/stream_executor/cuda/cuda_driver.cc:265] failed call to cuInit: UNKNOWN ERROR (303)\n",
      "2023-01-10 11:23:30.269925: I tensorflow/compiler/xla/stream_executor/cuda/cuda_diagnostics.cc:156] kernel driver does not appear to be running on this host (uchp-parmar.icpf.cas.cz): /proc/driver/nvidia/version does not exist\n",
      "2023-01-10 11:23:30.270181: I tensorflow/core/platform/cpu_feature_guard.cc:193] This TensorFlow binary is optimized with oneAPI Deep Neural Network Library (oneDNN) to use the following CPU instructions in performance-critical operations:  AVX2 FMA\n",
      "To enable them in other operations, rebuild TensorFlow with the appropriate compiler flags.\n"
     ]
    }
   ],
   "source": [
    "# NN model prep\n",
    "input_size = 3\n",
    "output_size = 1\n",
    "hidden_layer_1_size = 15\n",
    "hidden_layer_2_size = 15\n",
    "hidden_layer_3_size = 10\n",
    "\n",
    "model = tf.keras.Sequential([\n",
    "    tf.keras.layers.Dense(input_size),\n",
    "    tf.keras.layers.Dense(hidden_layer_1_size, activation='relu'),\n",
    "    tf.keras.layers.Dense(hidden_layer_2_size, activation='relu'),\n",
    "    tf.keras.layers.Dense(hidden_layer_3_size, activation='relu'),\n",
    "    tf.keras.layers.Dense(output_size, activation='linear')\n",
    "])\n"
   ]
  },
  {
   "cell_type": "code",
   "execution_count": 4,
   "metadata": {},
   "outputs": [],
   "source": [
    "# model prep, optimizer and loss function\n",
    "optimizer = tf.keras.optimizers.Adam(learning_rate=0.00001)\n",
    "model.compile(optimizer, loss=tf.keras.losses.MeanSquaredError(),metrics=[tf.keras.metrics.RootMeanSquaredError()])\n"
   ]
  },
  {
   "cell_type": "code",
   "execution_count": 5,
   "metadata": {},
   "outputs": [],
   "source": [
    "# Training\n",
    "BATCH_SIZE = 1\n",
    "MAX_EPOCHS = 1000\n",
    "early_stopping = tf.keras.callbacks.EarlyStopping(patience=2)"
   ]
  },
  {
   "cell_type": "code",
   "execution_count": 6,
   "metadata": {},
   "outputs": [
    {
     "name": "stdout",
     "output_type": "stream",
     "text": [
      "Epoch 1/1000\n",
      "640/640 - 1s - loss: 1.5699 - root_mean_squared_error: 1.2530 - val_loss: 1.4725 - val_root_mean_squared_error: 1.2135 - 1s/epoch - 2ms/step\n",
      "Epoch 2/1000\n",
      "640/640 - 1s - loss: 1.4151 - root_mean_squared_error: 1.1896 - val_loss: 1.3366 - val_root_mean_squared_error: 1.1561 - 550ms/epoch - 860us/step\n",
      "Epoch 3/1000\n",
      "640/640 - 1s - loss: 1.2945 - root_mean_squared_error: 1.1378 - val_loss: 1.2252 - val_root_mean_squared_error: 1.1069 - 645ms/epoch - 1ms/step\n",
      "Epoch 4/1000\n",
      "640/640 - 1s - loss: 1.1939 - root_mean_squared_error: 1.0926 - val_loss: 1.1304 - val_root_mean_squared_error: 1.0632 - 589ms/epoch - 920us/step\n",
      "Epoch 5/1000\n",
      "640/640 - 1s - loss: 1.1082 - root_mean_squared_error: 1.0527 - val_loss: 1.0563 - val_root_mean_squared_error: 1.0278 - 588ms/epoch - 920us/step\n",
      "Epoch 6/1000\n",
      "640/640 - 1s - loss: 1.0444 - root_mean_squared_error: 1.0219 - val_loss: 1.0000 - val_root_mean_squared_error: 1.0000 - 591ms/epoch - 923us/step\n",
      "Epoch 7/1000\n",
      "640/640 - 1s - loss: 0.9901 - root_mean_squared_error: 0.9950 - val_loss: 0.9518 - val_root_mean_squared_error: 0.9756 - 587ms/epoch - 917us/step\n",
      "Epoch 8/1000\n",
      "640/640 - 1s - loss: 0.9488 - root_mean_squared_error: 0.9740 - val_loss: 0.9192 - val_root_mean_squared_error: 0.9588 - 574ms/epoch - 896us/step\n",
      "Epoch 9/1000\n",
      "640/640 - 1s - loss: 0.9176 - root_mean_squared_error: 0.9579 - val_loss: 0.8923 - val_root_mean_squared_error: 0.9446 - 555ms/epoch - 868us/step\n",
      "Epoch 10/1000\n",
      "640/640 - 1s - loss: 0.8908 - root_mean_squared_error: 0.9438 - val_loss: 0.8671 - val_root_mean_squared_error: 0.9312 - 552ms/epoch - 862us/step\n",
      "Epoch 11/1000\n",
      "640/640 - 1s - loss: 0.8656 - root_mean_squared_error: 0.9304 - val_loss: 0.8442 - val_root_mean_squared_error: 0.9188 - 541ms/epoch - 845us/step\n",
      "Epoch 12/1000\n",
      "640/640 - 1s - loss: 0.8427 - root_mean_squared_error: 0.9180 - val_loss: 0.8228 - val_root_mean_squared_error: 0.9071 - 538ms/epoch - 840us/step\n",
      "Epoch 13/1000\n",
      "640/640 - 1s - loss: 0.8207 - root_mean_squared_error: 0.9059 - val_loss: 0.8016 - val_root_mean_squared_error: 0.8953 - 569ms/epoch - 890us/step\n",
      "Epoch 14/1000\n",
      "640/640 - 1s - loss: 0.7990 - root_mean_squared_error: 0.8939 - val_loss: 0.7807 - val_root_mean_squared_error: 0.8836 - 566ms/epoch - 884us/step\n",
      "Epoch 15/1000\n",
      "640/640 - 1s - loss: 0.7776 - root_mean_squared_error: 0.8818 - val_loss: 0.7601 - val_root_mean_squared_error: 0.8718 - 589ms/epoch - 920us/step\n",
      "Epoch 16/1000\n",
      "640/640 - 1s - loss: 0.7570 - root_mean_squared_error: 0.8700 - val_loss: 0.7402 - val_root_mean_squared_error: 0.8603 - 572ms/epoch - 894us/step\n",
      "Epoch 17/1000\n",
      "640/640 - 1s - loss: 0.7370 - root_mean_squared_error: 0.8585 - val_loss: 0.7204 - val_root_mean_squared_error: 0.8488 - 556ms/epoch - 870us/step\n",
      "Epoch 18/1000\n",
      "640/640 - 1s - loss: 0.7170 - root_mean_squared_error: 0.8468 - val_loss: 0.7005 - val_root_mean_squared_error: 0.8370 - 588ms/epoch - 918us/step\n",
      "Epoch 19/1000\n",
      "640/640 - 1s - loss: 0.6977 - root_mean_squared_error: 0.8353 - val_loss: 0.6823 - val_root_mean_squared_error: 0.8260 - 586ms/epoch - 915us/step\n",
      "Epoch 20/1000\n",
      "640/640 - 1s - loss: 0.6792 - root_mean_squared_error: 0.8241 - val_loss: 0.6637 - val_root_mean_squared_error: 0.8147 - 602ms/epoch - 940us/step\n",
      "Epoch 21/1000\n",
      "640/640 - 1s - loss: 0.6602 - root_mean_squared_error: 0.8125 - val_loss: 0.6431 - val_root_mean_squared_error: 0.8019 - 593ms/epoch - 926us/step\n",
      "Epoch 22/1000\n",
      "640/640 - 1s - loss: 0.6364 - root_mean_squared_error: 0.7977 - val_loss: 0.6166 - val_root_mean_squared_error: 0.7852 - 549ms/epoch - 858us/step\n",
      "Epoch 23/1000\n",
      "640/640 - 1s - loss: 0.6060 - root_mean_squared_error: 0.7784 - val_loss: 0.5863 - val_root_mean_squared_error: 0.7657 - 559ms/epoch - 874us/step\n",
      "Epoch 24/1000\n",
      "640/640 - 1s - loss: 0.5752 - root_mean_squared_error: 0.7584 - val_loss: 0.5561 - val_root_mean_squared_error: 0.7457 - 578ms/epoch - 903us/step\n",
      "Epoch 25/1000\n",
      "640/640 - 1s - loss: 0.5445 - root_mean_squared_error: 0.7379 - val_loss: 0.5262 - val_root_mean_squared_error: 0.7254 - 587ms/epoch - 918us/step\n",
      "Epoch 26/1000\n",
      "640/640 - 1s - loss: 0.5147 - root_mean_squared_error: 0.7174 - val_loss: 0.4973 - val_root_mean_squared_error: 0.7052 - 558ms/epoch - 872us/step\n",
      "Epoch 27/1000\n",
      "640/640 - 1s - loss: 0.4853 - root_mean_squared_error: 0.6966 - val_loss: 0.4679 - val_root_mean_squared_error: 0.6840 - 549ms/epoch - 858us/step\n",
      "Epoch 28/1000\n",
      "640/640 - 1s - loss: 0.4550 - root_mean_squared_error: 0.6746 - val_loss: 0.4377 - val_root_mean_squared_error: 0.6616 - 579ms/epoch - 905us/step\n",
      "Epoch 29/1000\n",
      "640/640 - 1s - loss: 0.4244 - root_mean_squared_error: 0.6514 - val_loss: 0.4071 - val_root_mean_squared_error: 0.6381 - 664ms/epoch - 1ms/step\n",
      "Epoch 30/1000\n",
      "640/640 - 1s - loss: 0.3932 - root_mean_squared_error: 0.6271 - val_loss: 0.3761 - val_root_mean_squared_error: 0.6133 - 575ms/epoch - 898us/step\n",
      "Epoch 31/1000\n",
      "640/640 - 1s - loss: 0.3620 - root_mean_squared_error: 0.6016 - val_loss: 0.3453 - val_root_mean_squared_error: 0.5877 - 565ms/epoch - 883us/step\n",
      "Epoch 32/1000\n",
      "640/640 - 1s - loss: 0.3308 - root_mean_squared_error: 0.5752 - val_loss: 0.3146 - val_root_mean_squared_error: 0.5609 - 617ms/epoch - 964us/step\n",
      "Epoch 33/1000\n",
      "640/640 - 1s - loss: 0.2992 - root_mean_squared_error: 0.5470 - val_loss: 0.2835 - val_root_mean_squared_error: 0.5324 - 577ms/epoch - 902us/step\n",
      "Epoch 34/1000\n",
      "640/640 - 1s - loss: 0.2675 - root_mean_squared_error: 0.5172 - val_loss: 0.2528 - val_root_mean_squared_error: 0.5028 - 570ms/epoch - 890us/step\n",
      "Epoch 35/1000\n",
      "640/640 - 1s - loss: 0.2362 - root_mean_squared_error: 0.4860 - val_loss: 0.2223 - val_root_mean_squared_error: 0.4715 - 567ms/epoch - 886us/step\n",
      "Epoch 36/1000\n",
      "640/640 - 1s - loss: 0.2060 - root_mean_squared_error: 0.4539 - val_loss: 0.1938 - val_root_mean_squared_error: 0.4403 - 563ms/epoch - 879us/step\n",
      "Epoch 37/1000\n",
      "640/640 - 1s - loss: 0.1785 - root_mean_squared_error: 0.4225 - val_loss: 0.1686 - val_root_mean_squared_error: 0.4106 - 551ms/epoch - 861us/step\n",
      "Epoch 38/1000\n",
      "640/640 - 1s - loss: 0.1540 - root_mean_squared_error: 0.3925 - val_loss: 0.1462 - val_root_mean_squared_error: 0.3823 - 562ms/epoch - 879us/step\n",
      "Epoch 39/1000\n",
      "640/640 - 1s - loss: 0.1327 - root_mean_squared_error: 0.3642 - val_loss: 0.1267 - val_root_mean_squared_error: 0.3559 - 593ms/epoch - 927us/step\n",
      "Epoch 40/1000\n",
      "640/640 - 1s - loss: 0.1140 - root_mean_squared_error: 0.3376 - val_loss: 0.1104 - val_root_mean_squared_error: 0.3323 - 600ms/epoch - 938us/step\n",
      "Epoch 41/1000\n",
      "640/640 - 1s - loss: 0.0989 - root_mean_squared_error: 0.3145 - val_loss: 0.0975 - val_root_mean_squared_error: 0.3122 - 611ms/epoch - 954us/step\n",
      "Epoch 42/1000\n",
      "640/640 - 1s - loss: 0.0871 - root_mean_squared_error: 0.2952 - val_loss: 0.0875 - val_root_mean_squared_error: 0.2958 - 602ms/epoch - 940us/step\n",
      "Epoch 43/1000\n",
      "640/640 - 1s - loss: 0.0781 - root_mean_squared_error: 0.2795 - val_loss: 0.0796 - val_root_mean_squared_error: 0.2821 - 574ms/epoch - 897us/step\n",
      "Epoch 44/1000\n",
      "640/640 - 1s - loss: 0.0712 - root_mean_squared_error: 0.2669 - val_loss: 0.0735 - val_root_mean_squared_error: 0.2710 - 550ms/epoch - 859us/step\n",
      "Epoch 45/1000\n",
      "640/640 - 1s - loss: 0.0658 - root_mean_squared_error: 0.2564 - val_loss: 0.0684 - val_root_mean_squared_error: 0.2615 - 578ms/epoch - 903us/step\n",
      "Epoch 46/1000\n",
      "640/640 - 1s - loss: 0.0612 - root_mean_squared_error: 0.2475 - val_loss: 0.0641 - val_root_mean_squared_error: 0.2531 - 591ms/epoch - 924us/step\n",
      "Epoch 47/1000\n",
      "640/640 - 1s - loss: 0.0574 - root_mean_squared_error: 0.2397 - val_loss: 0.0604 - val_root_mean_squared_error: 0.2457 - 615ms/epoch - 961us/step\n",
      "Epoch 48/1000\n",
      "640/640 - 1s - loss: 0.0540 - root_mean_squared_error: 0.2325 - val_loss: 0.0568 - val_root_mean_squared_error: 0.2384 - 641ms/epoch - 1ms/step\n",
      "Epoch 49/1000\n",
      "640/640 - 1s - loss: 0.0509 - root_mean_squared_error: 0.2256 - val_loss: 0.0536 - val_root_mean_squared_error: 0.2315 - 644ms/epoch - 1ms/step\n",
      "Epoch 50/1000\n",
      "640/640 - 1s - loss: 0.0481 - root_mean_squared_error: 0.2192 - val_loss: 0.0507 - val_root_mean_squared_error: 0.2252 - 626ms/epoch - 978us/step\n",
      "Epoch 51/1000\n",
      "640/640 - 1s - loss: 0.0454 - root_mean_squared_error: 0.2131 - val_loss: 0.0480 - val_root_mean_squared_error: 0.2191 - 546ms/epoch - 854us/step\n",
      "Epoch 52/1000\n",
      "640/640 - 1s - loss: 0.0429 - root_mean_squared_error: 0.2072 - val_loss: 0.0455 - val_root_mean_squared_error: 0.2132 - 547ms/epoch - 854us/step\n",
      "Epoch 53/1000\n",
      "640/640 - 1s - loss: 0.0406 - root_mean_squared_error: 0.2016 - val_loss: 0.0431 - val_root_mean_squared_error: 0.2077 - 553ms/epoch - 865us/step\n",
      "Epoch 54/1000\n",
      "640/640 - 1s - loss: 0.0385 - root_mean_squared_error: 0.1963 - val_loss: 0.0409 - val_root_mean_squared_error: 0.2023 - 562ms/epoch - 878us/step\n",
      "Epoch 55/1000\n",
      "640/640 - 1s - loss: 0.0365 - root_mean_squared_error: 0.1910 - val_loss: 0.0388 - val_root_mean_squared_error: 0.1969 - 598ms/epoch - 934us/step\n",
      "Epoch 56/1000\n",
      "640/640 - 1s - loss: 0.0345 - root_mean_squared_error: 0.1857 - val_loss: 0.0367 - val_root_mean_squared_error: 0.1917 - 627ms/epoch - 979us/step\n",
      "Epoch 57/1000\n",
      "640/640 - 1s - loss: 0.0327 - root_mean_squared_error: 0.1807 - val_loss: 0.0348 - val_root_mean_squared_error: 0.1866 - 621ms/epoch - 970us/step\n",
      "Epoch 58/1000\n",
      "640/640 - 1s - loss: 0.0309 - root_mean_squared_error: 0.1758 - val_loss: 0.0330 - val_root_mean_squared_error: 0.1816 - 591ms/epoch - 923us/step\n",
      "Epoch 59/1000\n",
      "640/640 - 1s - loss: 0.0293 - root_mean_squared_error: 0.1711 - val_loss: 0.0313 - val_root_mean_squared_error: 0.1768 - 544ms/epoch - 850us/step\n",
      "Epoch 60/1000\n",
      "640/640 - 1s - loss: 0.0277 - root_mean_squared_error: 0.1665 - val_loss: 0.0296 - val_root_mean_squared_error: 0.1721 - 545ms/epoch - 852us/step\n",
      "Epoch 61/1000\n",
      "640/640 - 1s - loss: 0.0263 - root_mean_squared_error: 0.1620 - val_loss: 0.0280 - val_root_mean_squared_error: 0.1674 - 561ms/epoch - 877us/step\n",
      "Epoch 62/1000\n",
      "640/640 - 1s - loss: 0.0249 - root_mean_squared_error: 0.1577 - val_loss: 0.0265 - val_root_mean_squared_error: 0.1628 - 589ms/epoch - 921us/step\n",
      "Epoch 63/1000\n",
      "640/640 - 1s - loss: 0.0235 - root_mean_squared_error: 0.1534 - val_loss: 0.0251 - val_root_mean_squared_error: 0.1585 - 591ms/epoch - 923us/step\n",
      "Epoch 64/1000\n",
      "640/640 - 1s - loss: 0.0223 - root_mean_squared_error: 0.1493 - val_loss: 0.0237 - val_root_mean_squared_error: 0.1540 - 626ms/epoch - 977us/step\n",
      "Epoch 65/1000\n",
      "640/640 - 1s - loss: 0.0211 - root_mean_squared_error: 0.1453 - val_loss: 0.0224 - val_root_mean_squared_error: 0.1497 - 590ms/epoch - 922us/step\n",
      "Epoch 66/1000\n",
      "640/640 - 1s - loss: 0.0200 - root_mean_squared_error: 0.1414 - val_loss: 0.0212 - val_root_mean_squared_error: 0.1456 - 623ms/epoch - 973us/step\n",
      "Epoch 67/1000\n",
      "640/640 - 1s - loss: 0.0190 - root_mean_squared_error: 0.1377 - val_loss: 0.0200 - val_root_mean_squared_error: 0.1416 - 615ms/epoch - 962us/step\n",
      "Epoch 68/1000\n",
      "640/640 - 1s - loss: 0.0180 - root_mean_squared_error: 0.1341 - val_loss: 0.0190 - val_root_mean_squared_error: 0.1378 - 555ms/epoch - 868us/step\n",
      "Epoch 69/1000\n",
      "640/640 - 1s - loss: 0.0171 - root_mean_squared_error: 0.1307 - val_loss: 0.0180 - val_root_mean_squared_error: 0.1341 - 574ms/epoch - 897us/step\n",
      "Epoch 70/1000\n",
      "640/640 - 1s - loss: 0.0163 - root_mean_squared_error: 0.1275 - val_loss: 0.0171 - val_root_mean_squared_error: 0.1306 - 573ms/epoch - 895us/step\n",
      "Epoch 71/1000\n",
      "640/640 - 1s - loss: 0.0155 - root_mean_squared_error: 0.1244 - val_loss: 0.0162 - val_root_mean_squared_error: 0.1273 - 578ms/epoch - 902us/step\n",
      "Epoch 72/1000\n",
      "640/640 - 1s - loss: 0.0148 - root_mean_squared_error: 0.1216 - val_loss: 0.0154 - val_root_mean_squared_error: 0.1241 - 565ms/epoch - 882us/step\n",
      "Epoch 73/1000\n",
      "640/640 - 1s - loss: 0.0141 - root_mean_squared_error: 0.1188 - val_loss: 0.0146 - val_root_mean_squared_error: 0.1210 - 575ms/epoch - 898us/step\n",
      "Epoch 74/1000\n",
      "640/640 - 1s - loss: 0.0135 - root_mean_squared_error: 0.1161 - val_loss: 0.0139 - val_root_mean_squared_error: 0.1181 - 575ms/epoch - 899us/step\n",
      "Epoch 75/1000\n",
      "640/640 - 1s - loss: 0.0129 - root_mean_squared_error: 0.1136 - val_loss: 0.0133 - val_root_mean_squared_error: 0.1153 - 582ms/epoch - 909us/step\n",
      "Epoch 76/1000\n",
      "640/640 - 1s - loss: 0.0124 - root_mean_squared_error: 0.1112 - val_loss: 0.0127 - val_root_mean_squared_error: 0.1125 - 555ms/epoch - 867us/step\n",
      "Epoch 77/1000\n",
      "640/640 - 1s - loss: 0.0119 - root_mean_squared_error: 0.1089 - val_loss: 0.0121 - val_root_mean_squared_error: 0.1098 - 560ms/epoch - 876us/step\n",
      "Epoch 78/1000\n",
      "640/640 - 1s - loss: 0.0114 - root_mean_squared_error: 0.1067 - val_loss: 0.0115 - val_root_mean_squared_error: 0.1072 - 554ms/epoch - 866us/step\n",
      "Epoch 79/1000\n",
      "640/640 - 1s - loss: 0.0109 - root_mean_squared_error: 0.1042 - val_loss: 0.0109 - val_root_mean_squared_error: 0.1046 - 562ms/epoch - 878us/step\n",
      "Epoch 80/1000\n",
      "640/640 - 1s - loss: 0.0104 - root_mean_squared_error: 0.1019 - val_loss: 0.0104 - val_root_mean_squared_error: 0.1020 - 555ms/epoch - 867us/step\n",
      "Epoch 81/1000\n",
      "640/640 - 1s - loss: 0.0099 - root_mean_squared_error: 0.0996 - val_loss: 0.0099 - val_root_mean_squared_error: 0.0995 - 559ms/epoch - 874us/step\n",
      "Epoch 82/1000\n",
      "640/640 - 1s - loss: 0.0095 - root_mean_squared_error: 0.0974 - val_loss: 0.0094 - val_root_mean_squared_error: 0.0968 - 578ms/epoch - 903us/step\n",
      "Epoch 83/1000\n",
      "640/640 - 1s - loss: 0.0091 - root_mean_squared_error: 0.0953 - val_loss: 0.0089 - val_root_mean_squared_error: 0.0945 - 605ms/epoch - 945us/step\n",
      "Epoch 84/1000\n",
      "640/640 - 1s - loss: 0.0087 - root_mean_squared_error: 0.0932 - val_loss: 0.0085 - val_root_mean_squared_error: 0.0924 - 606ms/epoch - 947us/step\n",
      "Epoch 85/1000\n",
      "640/640 - 1s - loss: 0.0083 - root_mean_squared_error: 0.0914 - val_loss: 0.0081 - val_root_mean_squared_error: 0.0900 - 565ms/epoch - 883us/step\n",
      "Epoch 86/1000\n",
      "640/640 - 1s - loss: 0.0080 - root_mean_squared_error: 0.0895 - val_loss: 0.0077 - val_root_mean_squared_error: 0.0880 - 611ms/epoch - 954us/step\n",
      "Epoch 87/1000\n",
      "640/640 - 1s - loss: 0.0077 - root_mean_squared_error: 0.0878 - val_loss: 0.0074 - val_root_mean_squared_error: 0.0858 - 627ms/epoch - 980us/step\n",
      "Epoch 88/1000\n",
      "640/640 - 1s - loss: 0.0074 - root_mean_squared_error: 0.0861 - val_loss: 0.0071 - val_root_mean_squared_error: 0.0840 - 636ms/epoch - 994us/step\n",
      "Epoch 89/1000\n",
      "640/640 - 1s - loss: 0.0071 - root_mean_squared_error: 0.0844 - val_loss: 0.0068 - val_root_mean_squared_error: 0.0823 - 628ms/epoch - 982us/step\n",
      "Epoch 90/1000\n",
      "640/640 - 1s - loss: 0.0069 - root_mean_squared_error: 0.0828 - val_loss: 0.0064 - val_root_mean_squared_error: 0.0803 - 633ms/epoch - 989us/step\n",
      "Epoch 91/1000\n",
      "640/640 - 1s - loss: 0.0066 - root_mean_squared_error: 0.0812 - val_loss: 0.0061 - val_root_mean_squared_error: 0.0784 - 619ms/epoch - 968us/step\n",
      "Epoch 92/1000\n",
      "640/640 - 1s - loss: 0.0063 - root_mean_squared_error: 0.0797 - val_loss: 0.0059 - val_root_mean_squared_error: 0.0767 - 617ms/epoch - 964us/step\n",
      "Epoch 93/1000\n",
      "640/640 - 1s - loss: 0.0061 - root_mean_squared_error: 0.0781 - val_loss: 0.0056 - val_root_mean_squared_error: 0.0750 - 612ms/epoch - 957us/step\n",
      "Epoch 94/1000\n",
      "640/640 - 1s - loss: 0.0059 - root_mean_squared_error: 0.0766 - val_loss: 0.0053 - val_root_mean_squared_error: 0.0731 - 627ms/epoch - 979us/step\n",
      "Epoch 95/1000\n",
      "640/640 - 1s - loss: 0.0056 - root_mean_squared_error: 0.0751 - val_loss: 0.0051 - val_root_mean_squared_error: 0.0714 - 576ms/epoch - 900us/step\n",
      "Epoch 96/1000\n",
      "640/640 - 1s - loss: 0.0054 - root_mean_squared_error: 0.0736 - val_loss: 0.0049 - val_root_mean_squared_error: 0.0698 - 614ms/epoch - 960us/step\n",
      "Epoch 97/1000\n",
      "640/640 - 1s - loss: 0.0052 - root_mean_squared_error: 0.0722 - val_loss: 0.0047 - val_root_mean_squared_error: 0.0682 - 635ms/epoch - 993us/step\n",
      "Epoch 98/1000\n",
      "640/640 - 1s - loss: 0.0050 - root_mean_squared_error: 0.0708 - val_loss: 0.0045 - val_root_mean_squared_error: 0.0669 - 637ms/epoch - 995us/step\n",
      "Epoch 99/1000\n",
      "640/640 - 1s - loss: 0.0048 - root_mean_squared_error: 0.0694 - val_loss: 0.0043 - val_root_mean_squared_error: 0.0654 - 628ms/epoch - 982us/step\n",
      "Epoch 100/1000\n",
      "640/640 - 1s - loss: 0.0046 - root_mean_squared_error: 0.0681 - val_loss: 0.0041 - val_root_mean_squared_error: 0.0639 - 618ms/epoch - 966us/step\n",
      "Epoch 101/1000\n",
      "640/640 - 1s - loss: 0.0045 - root_mean_squared_error: 0.0667 - val_loss: 0.0039 - val_root_mean_squared_error: 0.0622 - 561ms/epoch - 876us/step\n",
      "Epoch 102/1000\n",
      "640/640 - 1s - loss: 0.0043 - root_mean_squared_error: 0.0654 - val_loss: 0.0037 - val_root_mean_squared_error: 0.0608 - 547ms/epoch - 855us/step\n",
      "Epoch 103/1000\n",
      "640/640 - 1s - loss: 0.0041 - root_mean_squared_error: 0.0641 - val_loss: 0.0035 - val_root_mean_squared_error: 0.0594 - 599ms/epoch - 935us/step\n",
      "Epoch 104/1000\n",
      "640/640 - 1s - loss: 0.0040 - root_mean_squared_error: 0.0629 - val_loss: 0.0034 - val_root_mean_squared_error: 0.0581 - 578ms/epoch - 903us/step\n",
      "Epoch 105/1000\n",
      "640/640 - 1s - loss: 0.0038 - root_mean_squared_error: 0.0617 - val_loss: 0.0033 - val_root_mean_squared_error: 0.0570 - 616ms/epoch - 963us/step\n",
      "Epoch 106/1000\n",
      "640/640 - 1s - loss: 0.0037 - root_mean_squared_error: 0.0605 - val_loss: 0.0031 - val_root_mean_squared_error: 0.0556 - 627ms/epoch - 979us/step\n",
      "Epoch 107/1000\n",
      "640/640 - 1s - loss: 0.0035 - root_mean_squared_error: 0.0593 - val_loss: 0.0030 - val_root_mean_squared_error: 0.0545 - 618ms/epoch - 965us/step\n",
      "Epoch 108/1000\n",
      "640/640 - 1s - loss: 0.0034 - root_mean_squared_error: 0.0582 - val_loss: 0.0028 - val_root_mean_squared_error: 0.0532 - 551ms/epoch - 861us/step\n",
      "Epoch 109/1000\n",
      "640/640 - 1s - loss: 0.0033 - root_mean_squared_error: 0.0570 - val_loss: 0.0027 - val_root_mean_squared_error: 0.0521 - 584ms/epoch - 912us/step\n",
      "Epoch 110/1000\n",
      "640/640 - 1s - loss: 0.0031 - root_mean_squared_error: 0.0559 - val_loss: 0.0026 - val_root_mean_squared_error: 0.0509 - 588ms/epoch - 919us/step\n",
      "Epoch 111/1000\n",
      "640/640 - 1s - loss: 0.0030 - root_mean_squared_error: 0.0548 - val_loss: 0.0025 - val_root_mean_squared_error: 0.0498 - 586ms/epoch - 915us/step\n",
      "Epoch 112/1000\n",
      "640/640 - 1s - loss: 0.0029 - root_mean_squared_error: 0.0537 - val_loss: 0.0024 - val_root_mean_squared_error: 0.0487 - 567ms/epoch - 886us/step\n",
      "Epoch 113/1000\n",
      "640/640 - 1s - loss: 0.0028 - root_mean_squared_error: 0.0527 - val_loss: 0.0023 - val_root_mean_squared_error: 0.0475 - 637ms/epoch - 995us/step\n",
      "Epoch 114/1000\n",
      "640/640 - 1s - loss: 0.0027 - root_mean_squared_error: 0.0516 - val_loss: 0.0022 - val_root_mean_squared_error: 0.0466 - 575ms/epoch - 898us/step\n",
      "Epoch 115/1000\n",
      "640/640 - 1s - loss: 0.0026 - root_mean_squared_error: 0.0506 - val_loss: 0.0021 - val_root_mean_squared_error: 0.0455 - 616ms/epoch - 963us/step\n",
      "Epoch 116/1000\n",
      "640/640 - 1s - loss: 0.0025 - root_mean_squared_error: 0.0495 - val_loss: 0.0020 - val_root_mean_squared_error: 0.0444 - 635ms/epoch - 992us/step\n",
      "Epoch 117/1000\n",
      "640/640 - 1s - loss: 0.0024 - root_mean_squared_error: 0.0485 - val_loss: 0.0019 - val_root_mean_squared_error: 0.0434 - 646ms/epoch - 1ms/step\n",
      "Epoch 118/1000\n",
      "640/640 - 1s - loss: 0.0023 - root_mean_squared_error: 0.0475 - val_loss: 0.0018 - val_root_mean_squared_error: 0.0425 - 639ms/epoch - 998us/step\n",
      "Epoch 119/1000\n",
      "640/640 - 1s - loss: 0.0022 - root_mean_squared_error: 0.0465 - val_loss: 0.0017 - val_root_mean_squared_error: 0.0413 - 597ms/epoch - 933us/step\n",
      "Epoch 120/1000\n",
      "640/640 - 1s - loss: 0.0021 - root_mean_squared_error: 0.0453 - val_loss: 0.0016 - val_root_mean_squared_error: 0.0403 - 560ms/epoch - 876us/step\n",
      "Epoch 121/1000\n",
      "640/640 - 1s - loss: 0.0019 - root_mean_squared_error: 0.0441 - val_loss: 0.0015 - val_root_mean_squared_error: 0.0393 - 600ms/epoch - 938us/step\n",
      "Epoch 122/1000\n",
      "640/640 - 1s - loss: 0.0018 - root_mean_squared_error: 0.0430 - val_loss: 0.0015 - val_root_mean_squared_error: 0.0382 - 579ms/epoch - 904us/step\n",
      "Epoch 123/1000\n",
      "640/640 - 1s - loss: 0.0018 - root_mean_squared_error: 0.0419 - val_loss: 0.0014 - val_root_mean_squared_error: 0.0372 - 571ms/epoch - 893us/step\n",
      "Epoch 124/1000\n",
      "640/640 - 1s - loss: 0.0017 - root_mean_squared_error: 0.0408 - val_loss: 0.0013 - val_root_mean_squared_error: 0.0365 - 669ms/epoch - 1ms/step\n",
      "Epoch 125/1000\n",
      "640/640 - 1s - loss: 0.0016 - root_mean_squared_error: 0.0397 - val_loss: 0.0013 - val_root_mean_squared_error: 0.0354 - 536ms/epoch - 838us/step\n",
      "Epoch 126/1000\n",
      "640/640 - 1s - loss: 0.0015 - root_mean_squared_error: 0.0387 - val_loss: 0.0012 - val_root_mean_squared_error: 0.0344 - 544ms/epoch - 851us/step\n",
      "Epoch 127/1000\n",
      "640/640 - 1s - loss: 0.0014 - root_mean_squared_error: 0.0377 - val_loss: 0.0011 - val_root_mean_squared_error: 0.0337 - 589ms/epoch - 921us/step\n",
      "Epoch 128/1000\n",
      "640/640 - 1s - loss: 0.0013 - root_mean_squared_error: 0.0367 - val_loss: 0.0011 - val_root_mean_squared_error: 0.0329 - 588ms/epoch - 919us/step\n",
      "Epoch 129/1000\n",
      "640/640 - 1s - loss: 0.0013 - root_mean_squared_error: 0.0357 - val_loss: 0.0010 - val_root_mean_squared_error: 0.0321 - 547ms/epoch - 855us/step\n",
      "Epoch 130/1000\n",
      "640/640 - 1s - loss: 0.0012 - root_mean_squared_error: 0.0347 - val_loss: 9.7446e-04 - val_root_mean_squared_error: 0.0312 - 543ms/epoch - 849us/step\n",
      "Epoch 131/1000\n",
      "640/640 - 1s - loss: 0.0011 - root_mean_squared_error: 0.0338 - val_loss: 9.2656e-04 - val_root_mean_squared_error: 0.0304 - 570ms/epoch - 891us/step\n",
      "Epoch 132/1000\n",
      "640/640 - 1s - loss: 0.0011 - root_mean_squared_error: 0.0328 - val_loss: 8.7158e-04 - val_root_mean_squared_error: 0.0295 - 586ms/epoch - 915us/step\n",
      "Epoch 133/1000\n",
      "640/640 - 1s - loss: 0.0010 - root_mean_squared_error: 0.0318 - val_loss: 8.2466e-04 - val_root_mean_squared_error: 0.0287 - 655ms/epoch - 1ms/step\n",
      "Epoch 134/1000\n",
      "640/640 - 1s - loss: 9.5124e-04 - root_mean_squared_error: 0.0308 - val_loss: 7.8016e-04 - val_root_mean_squared_error: 0.0279 - 690ms/epoch - 1ms/step\n",
      "Epoch 135/1000\n",
      "640/640 - 1s - loss: 8.9617e-04 - root_mean_squared_error: 0.0299 - val_loss: 7.3903e-04 - val_root_mean_squared_error: 0.0272 - 614ms/epoch - 959us/step\n",
      "Epoch 136/1000\n",
      "640/640 - 1s - loss: 8.4249e-04 - root_mean_squared_error: 0.0290 - val_loss: 7.0422e-04 - val_root_mean_squared_error: 0.0265 - 545ms/epoch - 852us/step\n",
      "Epoch 137/1000\n",
      "640/640 - 1s - loss: 7.9239e-04 - root_mean_squared_error: 0.0281 - val_loss: 6.6860e-04 - val_root_mean_squared_error: 0.0259 - 555ms/epoch - 867us/step\n",
      "Epoch 138/1000\n",
      "640/640 - 1s - loss: 7.4499e-04 - root_mean_squared_error: 0.0273 - val_loss: 6.2907e-04 - val_root_mean_squared_error: 0.0251 - 577ms/epoch - 902us/step\n",
      "Epoch 139/1000\n",
      "640/640 - 1s - loss: 7.0002e-04 - root_mean_squared_error: 0.0265 - val_loss: 5.9146e-04 - val_root_mean_squared_error: 0.0243 - 601ms/epoch - 939us/step\n",
      "Epoch 140/1000\n",
      "640/640 - 1s - loss: 6.5521e-04 - root_mean_squared_error: 0.0256 - val_loss: 5.5739e-04 - val_root_mean_squared_error: 0.0236 - 607ms/epoch - 948us/step\n",
      "Epoch 141/1000\n",
      "640/640 - 1s - loss: 6.1331e-04 - root_mean_squared_error: 0.0248 - val_loss: 5.2265e-04 - val_root_mean_squared_error: 0.0229 - 584ms/epoch - 912us/step\n",
      "Epoch 142/1000\n",
      "640/640 - 1s - loss: 5.7397e-04 - root_mean_squared_error: 0.0240 - val_loss: 4.9304e-04 - val_root_mean_squared_error: 0.0222 - 610ms/epoch - 952us/step\n",
      "Epoch 143/1000\n",
      "640/640 - 1s - loss: 5.3598e-04 - root_mean_squared_error: 0.0232 - val_loss: 4.6713e-04 - val_root_mean_squared_error: 0.0216 - 635ms/epoch - 992us/step\n",
      "Epoch 144/1000\n",
      "640/640 - 1s - loss: 5.0064e-04 - root_mean_squared_error: 0.0224 - val_loss: 4.3681e-04 - val_root_mean_squared_error: 0.0209 - 579ms/epoch - 905us/step\n",
      "Epoch 145/1000\n",
      "640/640 - 1s - loss: 4.6659e-04 - root_mean_squared_error: 0.0216 - val_loss: 4.0714e-04 - val_root_mean_squared_error: 0.0202 - 591ms/epoch - 924us/step\n",
      "Epoch 146/1000\n",
      "640/640 - 1s - loss: 4.3389e-04 - root_mean_squared_error: 0.0208 - val_loss: 3.8115e-04 - val_root_mean_squared_error: 0.0195 - 588ms/epoch - 918us/step\n",
      "Epoch 147/1000\n",
      "640/640 - 1s - loss: 3.9694e-04 - root_mean_squared_error: 0.0199 - val_loss: 3.4845e-04 - val_root_mean_squared_error: 0.0187 - 583ms/epoch - 910us/step\n",
      "Epoch 148/1000\n",
      "640/640 - 1s - loss: 3.6177e-04 - root_mean_squared_error: 0.0190 - val_loss: 3.2541e-04 - val_root_mean_squared_error: 0.0180 - 543ms/epoch - 849us/step\n",
      "Epoch 149/1000\n",
      "640/640 - 1s - loss: 3.3218e-04 - root_mean_squared_error: 0.0182 - val_loss: 2.9422e-04 - val_root_mean_squared_error: 0.0172 - 568ms/epoch - 888us/step\n",
      "Epoch 150/1000\n",
      "640/640 - 1s - loss: 3.0409e-04 - root_mean_squared_error: 0.0174 - val_loss: 2.6799e-04 - val_root_mean_squared_error: 0.0164 - 582ms/epoch - 909us/step\n",
      "Epoch 151/1000\n",
      "640/640 - 1s - loss: 2.7668e-04 - root_mean_squared_error: 0.0166 - val_loss: 2.4862e-04 - val_root_mean_squared_error: 0.0158 - 543ms/epoch - 848us/step\n",
      "Epoch 152/1000\n",
      "640/640 - 1s - loss: 2.5157e-04 - root_mean_squared_error: 0.0159 - val_loss: 2.2291e-04 - val_root_mean_squared_error: 0.0149 - 560ms/epoch - 875us/step\n",
      "Epoch 153/1000\n",
      "640/640 - 1s - loss: 2.2566e-04 - root_mean_squared_error: 0.0150 - val_loss: 1.9315e-04 - val_root_mean_squared_error: 0.0139 - 593ms/epoch - 926us/step\n",
      "Epoch 154/1000\n",
      "640/640 - 1s - loss: 1.8147e-04 - root_mean_squared_error: 0.0135 - val_loss: 1.5431e-04 - val_root_mean_squared_error: 0.0124 - 679ms/epoch - 1ms/step\n",
      "Epoch 155/1000\n",
      "640/640 - 1s - loss: 1.4754e-04 - root_mean_squared_error: 0.0121 - val_loss: 1.2539e-04 - val_root_mean_squared_error: 0.0112 - 670ms/epoch - 1ms/step\n",
      "Epoch 156/1000\n",
      "640/640 - 1s - loss: 1.2207e-04 - root_mean_squared_error: 0.0110 - val_loss: 1.0246e-04 - val_root_mean_squared_error: 0.0101 - 616ms/epoch - 963us/step\n",
      "Epoch 157/1000\n",
      "640/640 - 1s - loss: 1.0215e-04 - root_mean_squared_error: 0.0101 - val_loss: 8.4515e-05 - val_root_mean_squared_error: 0.0092 - 671ms/epoch - 1ms/step\n",
      "Epoch 158/1000\n",
      "640/640 - 1s - loss: 8.6113e-05 - root_mean_squared_error: 0.0093 - val_loss: 7.0748e-05 - val_root_mean_squared_error: 0.0084 - 615ms/epoch - 961us/step\n",
      "Epoch 159/1000\n",
      "640/640 - 1s - loss: 7.3277e-05 - root_mean_squared_error: 0.0086 - val_loss: 5.8613e-05 - val_root_mean_squared_error: 0.0077 - 616ms/epoch - 963us/step\n",
      "Epoch 160/1000\n",
      "640/640 - 1s - loss: 6.1767e-05 - root_mean_squared_error: 0.0079 - val_loss: 4.8498e-05 - val_root_mean_squared_error: 0.0070 - 614ms/epoch - 960us/step\n",
      "Epoch 161/1000\n",
      "640/640 - 1s - loss: 5.1778e-05 - root_mean_squared_error: 0.0072 - val_loss: 4.1355e-05 - val_root_mean_squared_error: 0.0064 - 569ms/epoch - 889us/step\n",
      "Epoch 162/1000\n",
      "640/640 - 1s - loss: 4.3260e-05 - root_mean_squared_error: 0.0066 - val_loss: 3.4188e-05 - val_root_mean_squared_error: 0.0058 - 584ms/epoch - 912us/step\n",
      "Epoch 163/1000\n",
      "640/640 - 1s - loss: 3.6029e-05 - root_mean_squared_error: 0.0060 - val_loss: 3.0021e-05 - val_root_mean_squared_error: 0.0055 - 586ms/epoch - 915us/step\n",
      "Epoch 164/1000\n",
      "640/640 - 1s - loss: 3.0203e-05 - root_mean_squared_error: 0.0055 - val_loss: 2.1926e-05 - val_root_mean_squared_error: 0.0047 - 585ms/epoch - 914us/step\n",
      "Epoch 165/1000\n",
      "640/640 - 1s - loss: 2.4932e-05 - root_mean_squared_error: 0.0050 - val_loss: 1.8001e-05 - val_root_mean_squared_error: 0.0042 - 544ms/epoch - 850us/step\n",
      "Epoch 166/1000\n",
      "640/640 - 1s - loss: 2.1084e-05 - root_mean_squared_error: 0.0046 - val_loss: 1.5745e-05 - val_root_mean_squared_error: 0.0040 - 569ms/epoch - 889us/step\n",
      "Epoch 167/1000\n",
      "640/640 - 1s - loss: 1.7985e-05 - root_mean_squared_error: 0.0042 - val_loss: 1.3209e-05 - val_root_mean_squared_error: 0.0036 - 555ms/epoch - 867us/step\n",
      "Epoch 168/1000\n",
      "640/640 - 1s - loss: 1.5350e-05 - root_mean_squared_error: 0.0039 - val_loss: 1.1000e-05 - val_root_mean_squared_error: 0.0033 - 577ms/epoch - 902us/step\n",
      "Epoch 169/1000\n",
      "640/640 - 1s - loss: 1.3251e-05 - root_mean_squared_error: 0.0036 - val_loss: 9.1835e-06 - val_root_mean_squared_error: 0.0030 - 579ms/epoch - 904us/step\n",
      "Epoch 170/1000\n",
      "640/640 - 1s - loss: 1.1335e-05 - root_mean_squared_error: 0.0034 - val_loss: 8.2215e-06 - val_root_mean_squared_error: 0.0029 - 589ms/epoch - 921us/step\n",
      "Epoch 171/1000\n",
      "640/640 - 1s - loss: 9.6829e-06 - root_mean_squared_error: 0.0031 - val_loss: 6.8769e-06 - val_root_mean_squared_error: 0.0026 - 585ms/epoch - 914us/step\n",
      "Epoch 172/1000\n",
      "640/640 - 1s - loss: 8.5441e-06 - root_mean_squared_error: 0.0029 - val_loss: 5.8801e-06 - val_root_mean_squared_error: 0.0024 - 573ms/epoch - 895us/step\n",
      "Epoch 173/1000\n",
      "640/640 - 1s - loss: 7.4471e-06 - root_mean_squared_error: 0.0027 - val_loss: 5.1584e-06 - val_root_mean_squared_error: 0.0023 - 561ms/epoch - 877us/step\n",
      "Epoch 174/1000\n",
      "640/640 - 1s - loss: 6.5816e-06 - root_mean_squared_error: 0.0026 - val_loss: 4.6050e-06 - val_root_mean_squared_error: 0.0021 - 627ms/epoch - 979us/step\n",
      "Epoch 175/1000\n",
      "640/640 - 1s - loss: 5.8265e-06 - root_mean_squared_error: 0.0024 - val_loss: 4.2442e-06 - val_root_mean_squared_error: 0.0021 - 614ms/epoch - 959us/step\n",
      "Epoch 176/1000\n",
      "640/640 - 1s - loss: 5.3943e-06 - root_mean_squared_error: 0.0023 - val_loss: 4.0108e-06 - val_root_mean_squared_error: 0.0020 - 575ms/epoch - 898us/step\n",
      "Epoch 177/1000\n",
      "640/640 - 1s - loss: 4.9805e-06 - root_mean_squared_error: 0.0022 - val_loss: 3.5771e-06 - val_root_mean_squared_error: 0.0019 - 596ms/epoch - 931us/step\n",
      "Epoch 178/1000\n",
      "640/640 - 1s - loss: 4.6945e-06 - root_mean_squared_error: 0.0022 - val_loss: 3.6661e-06 - val_root_mean_squared_error: 0.0019 - 556ms/epoch - 869us/step\n",
      "Epoch 179/1000\n",
      "640/640 - 1s - loss: 4.5166e-06 - root_mean_squared_error: 0.0021 - val_loss: 3.5059e-06 - val_root_mean_squared_error: 0.0019 - 588ms/epoch - 919us/step\n",
      "Epoch 180/1000\n",
      "640/640 - 1s - loss: 4.3533e-06 - root_mean_squared_error: 0.0021 - val_loss: 3.8918e-06 - val_root_mean_squared_error: 0.0020 - 585ms/epoch - 914us/step\n",
      "Epoch 181/1000\n",
      "640/640 - 1s - loss: 4.3130e-06 - root_mean_squared_error: 0.0021 - val_loss: 3.1821e-06 - val_root_mean_squared_error: 0.0018 - 584ms/epoch - 913us/step\n",
      "Epoch 182/1000\n",
      "640/640 - 1s - loss: 4.1465e-06 - root_mean_squared_error: 0.0020 - val_loss: 3.0626e-06 - val_root_mean_squared_error: 0.0018 - 585ms/epoch - 915us/step\n",
      "Epoch 183/1000\n",
      "640/640 - 1s - loss: 4.0596e-06 - root_mean_squared_error: 0.0020 - val_loss: 3.0062e-06 - val_root_mean_squared_error: 0.0017 - 540ms/epoch - 843us/step\n",
      "Epoch 184/1000\n",
      "640/640 - 1s - loss: 4.0756e-06 - root_mean_squared_error: 0.0020 - val_loss: 3.2001e-06 - val_root_mean_squared_error: 0.0018 - 541ms/epoch - 845us/step\n",
      "Epoch 185/1000\n",
      "640/640 - 1s - loss: 3.9117e-06 - root_mean_squared_error: 0.0020 - val_loss: 3.2082e-06 - val_root_mean_squared_error: 0.0018 - 586ms/epoch - 916us/step\n"
     ]
    }
   ],
   "source": [
    "# fit the model\n",
    "history = model.fit(\n",
    "    train_inputs, train_targets, batch_size=BATCH_SIZE,epochs=MAX_EPOCHS, callbacks=[early_stopping], validation_data=(validation_inputs, validation_targets), verbose=2\n",
    "          )"
   ]
  },
  {
   "cell_type": "code",
   "execution_count": 7,
   "metadata": {},
   "outputs": [
    {
     "name": "stdout",
     "output_type": "stream",
     "text": [
      "Model: \"sequential\"\n",
      "_________________________________________________________________\n",
      " Layer (type)                Output Shape              Param #   \n",
      "=================================================================\n",
      " dense (Dense)               (1, 3)                    12        \n",
      "                                                                 \n",
      " dense_1 (Dense)             (1, 15)                   60        \n",
      "                                                                 \n",
      " dense_2 (Dense)             (1, 15)                   240       \n",
      "                                                                 \n",
      " dense_3 (Dense)             (1, 10)                   160       \n",
      "                                                                 \n",
      " dense_4 (Dense)             (1, 1)                    11        \n",
      "                                                                 \n",
      "=================================================================\n",
      "Total params: 483\n",
      "Trainable params: 483\n",
      "Non-trainable params: 0\n",
      "_________________________________________________________________\n"
     ]
    }
   ],
   "source": [
    "# ANN model summary\n",
    "model.summary()"
   ]
  },
  {
   "cell_type": "code",
   "execution_count": 19,
   "metadata": {},
   "outputs": [
    {
     "data": {
      "image/png": "[encoded data removed]",
      "text/plain": [
       "<Figure size 640x480 with 1 Axes>"
      ]
     },
     "metadata": {},
     "output_type": "display_data"
    },
    {
     "data": {
      "text/plain": [
       "<Figure size 640x480 with 0 Axes>"
      ]
     },
     "metadata": {},
     "output_type": "display_data"
    }
   ],
   "source": [
    "import matplotlib.pyplot as plt\n",
    "plt.plot(history.history['loss'], label='Training_loss')\n",
    "plt.plot(history.history['val_loss'], label='Validation_loss')\n",
    "plt.xlabel('epochs')\n",
    "plt.ylabel('loss')\n",
    "plt.legend()\n",
    "plt.show()\n",
    "plt.savefig('loss.png')"
   ]
  },
  {
   "cell_type": "markdown",
   "metadata": {},
   "source": [
    "# Model check on Test data"
   ]
  },
  {
   "cell_type": "code",
   "execution_count": 9,
   "metadata": {},
   "outputs": [
    {
     "name": "stdout",
     "output_type": "stream",
     "text": [
      "3/3 [==============================] - 0s 2ms/step - loss: 3.2080e-06 - root_mean_squared_error: 0.0018\n"
     ]
    }
   ],
   "source": [
    "test_loss, test_accuracy = model.evaluate(test_inputs, test_targets)"
   ]
  },
  {
   "cell_type": "code",
   "execution_count": 10,
   "metadata": {},
   "outputs": [
    {
     "name": "stdout",
     "output_type": "stream",
     "text": [
      "\n",
      "Test loss: 0.0000. Test accuracy: 0.0018 rmse\n"
     ]
    }
   ],
   "source": [
    "print('\\nTest loss: {0:.4f}. Test accuracy: {1:.4f} rmse'.format(test_loss, test_accuracy))"
   ]
  },
  {
   "cell_type": "code",
   "execution_count": 11,
   "metadata": {},
   "outputs": [
    {
     "name": "stdout",
     "output_type": "stream",
     "text": [
      "3/3 [==============================] - 0s 2ms/step\n"
     ]
    },
    {
     "data": {
      "text/html": [
       "<div>\n",
       "<style scoped>\n",
       "    .dataframe tbody tr th:only-of-type {\n",
       "        vertical-align: middle;\n",
       "    }\n",
       "\n",
       "    .dataframe tbody tr th {\n",
       "        vertical-align: top;\n",
       "    }\n",
       "\n",
       "    .dataframe thead th {\n",
       "        text-align: right;\n",
       "    }\n",
       "</style>\n",
       "<table border=\"1\" class=\"dataframe\">\n",
       "  <thead>\n",
       "    <tr style=\"text-align: right;\">\n",
       "      <th></th>\n",
       "      <th>Target-St(%)</th>\n",
       "      <th>Prediction-St(%)</th>\n",
       "      <th>Pred-Accu-St(%)</th>\n",
       "    </tr>\n",
       "  </thead>\n",
       "  <tbody>\n",
       "    <tr>\n",
       "      <th>0</th>\n",
       "      <td>0.968</td>\n",
       "      <td>0.970</td>\n",
       "      <td>100.21</td>\n",
       "    </tr>\n",
       "    <tr>\n",
       "      <th>1</th>\n",
       "      <td>0.975</td>\n",
       "      <td>0.978</td>\n",
       "      <td>100.31</td>\n",
       "    </tr>\n",
       "    <tr>\n",
       "      <th>2</th>\n",
       "      <td>0.968</td>\n",
       "      <td>0.970</td>\n",
       "      <td>100.21</td>\n",
       "    </tr>\n",
       "    <tr>\n",
       "      <th>3</th>\n",
       "      <td>0.977</td>\n",
       "      <td>0.977</td>\n",
       "      <td>100.00</td>\n",
       "    </tr>\n",
       "    <tr>\n",
       "      <th>4</th>\n",
       "      <td>0.985</td>\n",
       "      <td>0.985</td>\n",
       "      <td>100.00</td>\n",
       "    </tr>\n",
       "    <tr>\n",
       "      <th>...</th>\n",
       "      <td>...</td>\n",
       "      <td>...</td>\n",
       "      <td>...</td>\n",
       "    </tr>\n",
       "    <tr>\n",
       "      <th>75</th>\n",
       "      <td>0.930</td>\n",
       "      <td>0.935</td>\n",
       "      <td>100.54</td>\n",
       "    </tr>\n",
       "    <tr>\n",
       "      <th>76</th>\n",
       "      <td>0.961</td>\n",
       "      <td>0.964</td>\n",
       "      <td>100.31</td>\n",
       "    </tr>\n",
       "    <tr>\n",
       "      <th>77</th>\n",
       "      <td>0.977</td>\n",
       "      <td>0.975</td>\n",
       "      <td>99.80</td>\n",
       "    </tr>\n",
       "    <tr>\n",
       "      <th>78</th>\n",
       "      <td>0.971</td>\n",
       "      <td>0.970</td>\n",
       "      <td>99.90</td>\n",
       "    </tr>\n",
       "    <tr>\n",
       "      <th>79</th>\n",
       "      <td>0.932</td>\n",
       "      <td>0.935</td>\n",
       "      <td>100.32</td>\n",
       "    </tr>\n",
       "  </tbody>\n",
       "</table>\n",
       "<p>80 rows × 3 columns</p>\n",
       "</div>"
      ],
      "text/plain": [
       "    Target-St(%)  Prediction-St(%)  Pred-Accu-St(%)\n",
       "0          0.968             0.970           100.21\n",
       "1          0.975             0.978           100.31\n",
       "2          0.968             0.970           100.21\n",
       "3          0.977             0.977           100.00\n",
       "4          0.985             0.985           100.00\n",
       "..           ...               ...              ...\n",
       "75         0.930             0.935           100.54\n",
       "76         0.961             0.964           100.31\n",
       "77         0.977             0.975            99.80\n",
       "78         0.971             0.970            99.90\n",
       "79         0.932             0.935           100.32\n",
       "\n",
       "[80 rows x 3 columns]"
      ]
     },
     "execution_count": 11,
     "metadata": {},
     "output_type": "execute_result"
    }
   ],
   "source": [
    "prediction = model.predict(test_inputs)\n",
    "data_inputs = pd.DataFrame(test_inputs)\n",
    "prediction = pd.DataFrame(np.round(prediction,3))\n",
    "test_targets = pd.DataFrame(test_targets)\n",
    "pred_accu = np.round((prediction/test_targets)*100,2)\n",
    "\n",
    "result = pd.concat([test_targets, prediction, pred_accu], axis = 1, ignore_index=True)\n",
    "result.columns = ['Target-St(%)', 'Prediction-St(%)','Pred-Accu-St(%)']\n",
    "result"
   ]
  },
  {
   "cell_type": "code",
   "execution_count": 22,
   "metadata": {},
   "outputs": [
    {
     "data": {
      "image/png": "[encoded data removed]",
      "text/plain": [
       "<Figure size 640x480 with 1 Axes>"
      ]
     },
     "metadata": {},
     "output_type": "display_data"
    }
   ],
   "source": [
    "import matplotlib.pyplot as plt\n",
    "plt.scatter(result['Target-St(%)'], result['Pred-Accu-St(%)'], alpha=0.5, color='r')\n",
    "plt.scatter(result['Prediction-St(%)'], result['Pred-Accu-St(%)'],alpha=0.5, color='b')\n",
    "plt.ylabel('Error in the prediction(%)')\n",
    "plt.xlabel('Targets (red) & Predictions (blue)')\n",
    "plt.savefig('pred1.png')"
   ]
  },
  {
   "cell_type": "code",
   "execution_count": 21,
   "metadata": {},
   "outputs": [
    {
     "data": {
      "image/png": "[encoded data removed]",
      "text/plain": [
       "<Figure size 640x480 with 1 Axes>"
      ]
     },
     "metadata": {},
     "output_type": "display_data"
    }
   ],
   "source": [
    "plt.scatter(result['Target-St(%)'], result['Target-St(%)'], alpha=0.5, color='r')\n",
    "plt.scatter(result['Target-St(%)'], result['Prediction-St(%)'], alpha=0.4, color='g')\n",
    "\n",
    "plt.ylabel('predictions')\n",
    "plt.xlabel('Targets (red) & Predictions (green)')\n",
    "plt.savefig('pred2.png')"
   ]
  },
  {
   "cell_type": "code",
   "execution_count": 14,
   "metadata": {},
   "outputs": [
    {
     "data": {
      "text/plain": [
       "0.9935"
      ]
     },
     "execution_count": 14,
     "metadata": {},
     "output_type": "execute_result"
    }
   ],
   "source": [
    "# estimation of R2 score\n",
    "from sklearn.metrics import r2_score\n",
    "r2_score_test = r2_score(test_targets, prediction)\n",
    "np.round(r2_score_test,4)"
   ]
  },
  {
   "cell_type": "code",
   "execution_count": 15,
   "metadata": {},
   "outputs": [
    {
     "data": {
      "text/plain": [
       "0.9932"
      ]
     },
     "execution_count": 15,
     "metadata": {},
     "output_type": "execute_result"
    }
   ],
   "source": [
    "# estimation of adjusted R2 score\n",
    "n = np.size(test_targets)\n",
    "k = 3 # number of features\n",
    "adj_r2_score = 1 - (((1-r2_score_test)*(n-1))/((n-k-1)))\n",
    "np.round(adj_r2_score,4)"
   ]
  },
  {
   "cell_type": "code",
   "execution_count": 16,
   "metadata": {},
   "outputs": [
    {
     "name": "stdout",
     "output_type": "stream",
     "text": [
      "Uncertainty of the ANN model: 0.17 [%]\n",
      "Average test prediction precision 99.83 [%]\n"
     ]
    }
   ],
   "source": [
    "mean_pred = pred_accu.mean()\n",
    "std_pred = pred_accu.std()\n",
    "uncertainty_model = std_pred\n",
    "print(\"Uncertainty of the ANN model:\", np.round(uncertainty_model[0],2), '[%]')\n",
    "print(\"Average test prediction precision\", np.round(100 - uncertainty_model[0],2), '[%]')"
   ]
  },
  {
   "cell_type": "markdown",
   "metadata": {},
   "source": [
    "# ANN Model Deployment"
   ]
  },
  {
   "cell_type": "markdown",
   "metadata": {},
   "source": [
    "ANN model deployment for micro DSC error prediction"
   ]
  },
  {
   "cell_type": "code",
   "execution_count": 17,
   "metadata": {},
   "outputs": [],
   "source": [
    "import keras\n",
    "model.save('micro_dsc_dl.h5')"
   ]
  },
  {
   "cell_type": "code",
   "execution_count": 18,
   "metadata": {},
   "outputs": [],
   "source": [
    "import keras\n",
    "model.save('micro_dsc_dl.hdf5')"
   ]
  }
 ],
 "metadata": {
  "kernelspec": {
   "display_name": ".venv",
   "language": "python",
   "name": "python3"
  },
  "language_info": {
   "codemirror_mode": {
    "name": "ipython",
    "version": 3
   },
   "file_extension": ".py",
   "mimetype": "text/x-python",
   "name": "python",
   "nbconvert_exporter": "python",
   "pygments_lexer": "ipython3",
   "version": "3.10.8"
  },
  "orig_nbformat": 4,
  "vscode": {
   "interpreter": {
    "hash": "936e48570c6d8e03aadc3812174f41544386c43126f76ed1b891f4cd7747e266"
   }
  }
 },
 "nbformat": 4,
 "nbformat_minor": 2
}
