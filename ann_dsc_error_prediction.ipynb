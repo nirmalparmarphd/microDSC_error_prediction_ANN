{
 "cells": [
  {
   "cell_type": "markdown",
   "metadata": {},
   "source": [
    "# DNN Model"
   ]
  },
  {
   "cell_type": "code",
   "execution_count": 499,
   "metadata": {},
   "outputs": [],
   "source": [
    "import numpy as np\n",
    "import pandas as pd\n",
    "import tensorflow as tf"
   ]
  },
  {
   "cell_type": "code",
   "execution_count": 500,
   "metadata": {},
   "outputs": [],
   "source": [
    "# data loading from .npz generated from tcr_data_process.ipynb\n",
    "# loading train data\n",
    "npz = np.load('data_train.npz')\n",
    "train_inputs = npz['input'].astype(np.float64)\n",
    "train_targets = npz['targets'].astype(np.float64)\n",
    "# loading validation data\n",
    "npz = np.load('data_validation.npz')\n",
    "validation_inputs, validation_targets = npz['input'].astype(np.float64), npz['targets'].astype(np.float64)\n",
    "\n",
    "npz = np.load('data_test.npz')\n",
    "test_inputs, test_targets = npz['input'].astype(np.float64), npz['targets'].astype(np.float64)"
   ]
  },
  {
   "cell_type": "markdown",
   "metadata": {},
   "source": [
    "# ANN Model"
   ]
  },
  {
   "cell_type": "markdown",
   "metadata": {},
   "source": [
    "Outline, Optimizer, Loss function, Early stopping and Training rate"
   ]
  },
  {
   "cell_type": "code",
   "execution_count": 501,
   "metadata": {},
   "outputs": [],
   "source": [
    "# NN model prep\n",
    "input_size = 3\n",
    "output_size = 1\n",
    "hidden_layer_1_size = 10\n",
    "hidden_layer_2_size = 10\n",
    "hidden_layer_3_size = 10\n",
    "\n",
    "model = tf.keras.Sequential([\n",
    "    tf.keras.layers.Dense(input_size),\n",
    "    tf.keras.layers.Dense(hidden_layer_1_size, activation='relu'),\n",
    "    tf.keras.layers.Dense(hidden_layer_2_size, activation='relu'),\n",
    "    tf.keras.layers.Dense(hidden_layer_3_size, activation='sigmoid'),\n",
    "    tf.keras.layers.Dense(output_size, activation='linear')\n",
    "])\n"
   ]
  },
  {
   "cell_type": "code",
   "execution_count": 502,
   "metadata": {},
   "outputs": [],
   "source": [
    "# model prep, optimizer and loss function\n",
    "optimizer = tf.keras.optimizers.Adam(learning_rate=0.00001)\n",
    "model.compile(optimizer, loss=tf.keras.losses.MeanSquaredError(),metrics=[tf.keras.metrics.RootMeanSquaredError()])\n"
   ]
  },
  {
   "cell_type": "code",
   "execution_count": 503,
   "metadata": {},
   "outputs": [],
   "source": [
    "# Training\n",
    "BATCH_SIZE = 1\n",
    "MAX_EPOCHS = 1000\n",
    "early_stopping = tf.keras.callbacks.EarlyStopping(patience=2)"
   ]
  },
  {
   "cell_type": "code",
   "execution_count": 504,
   "metadata": {},
   "outputs": [
    {
     "name": "stdout",
     "output_type": "stream",
     "text": [
      "Epoch 1/1000\n",
      "640/640 - 4s - loss: 0.6711 - root_mean_squared_error: 0.8192 - val_loss: 0.6031 - val_root_mean_squared_error: 0.7766 - 4s/epoch - 6ms/step\n",
      "Epoch 2/1000\n",
      "640/640 - 2s - loss: 0.5819 - root_mean_squared_error: 0.7628 - val_loss: 0.5216 - val_root_mean_squared_error: 0.7223 - 2s/epoch - 2ms/step\n",
      "Epoch 3/1000\n",
      "640/640 - 2s - loss: 0.5020 - root_mean_squared_error: 0.7085 - val_loss: 0.4486 - val_root_mean_squared_error: 0.6697 - 2s/epoch - 3ms/step\n",
      "Epoch 4/1000\n",
      "640/640 - 2s - loss: 0.4301 - root_mean_squared_error: 0.6558 - val_loss: 0.3828 - val_root_mean_squared_error: 0.6187 - 2s/epoch - 2ms/step\n",
      "Epoch 5/1000\n",
      "640/640 - 2s - loss: 0.3656 - root_mean_squared_error: 0.6046 - val_loss: 0.3243 - val_root_mean_squared_error: 0.5695 - 2s/epoch - 2ms/step\n",
      "Epoch 6/1000\n",
      "640/640 - 1s - loss: 0.3081 - root_mean_squared_error: 0.5551 - val_loss: 0.2719 - val_root_mean_squared_error: 0.5215 - 1s/epoch - 2ms/step\n",
      "Epoch 7/1000\n",
      "640/640 - 1s - loss: 0.2565 - root_mean_squared_error: 0.5064 - val_loss: 0.2248 - val_root_mean_squared_error: 0.4741 - 1s/epoch - 2ms/step\n",
      "Epoch 8/1000\n",
      "640/640 - 1s - loss: 0.2103 - root_mean_squared_error: 0.4586 - val_loss: 0.1829 - val_root_mean_squared_error: 0.4277 - 1s/epoch - 2ms/step\n",
      "Epoch 9/1000\n",
      "640/640 - 1s - loss: 0.1695 - root_mean_squared_error: 0.4117 - val_loss: 0.1461 - val_root_mean_squared_error: 0.3823 - 1s/epoch - 2ms/step\n",
      "Epoch 10/1000\n",
      "640/640 - 1s - loss: 0.1340 - root_mean_squared_error: 0.3660 - val_loss: 0.1143 - val_root_mean_squared_error: 0.3381 - 1s/epoch - 2ms/step\n",
      "Epoch 11/1000\n",
      "640/640 - 1s - loss: 0.1034 - root_mean_squared_error: 0.3216 - val_loss: 0.0871 - val_root_mean_squared_error: 0.2951 - 1s/epoch - 2ms/step\n",
      "Epoch 12/1000\n",
      "640/640 - 1s - loss: 0.0777 - root_mean_squared_error: 0.2787 - val_loss: 0.0644 - val_root_mean_squared_error: 0.2537 - 1s/epoch - 2ms/step\n",
      "Epoch 13/1000\n",
      "640/640 - 1s - loss: 0.0564 - root_mean_squared_error: 0.2376 - val_loss: 0.0458 - val_root_mean_squared_error: 0.2140 - 1s/epoch - 2ms/step\n",
      "Epoch 14/1000\n",
      "640/640 - 1s - loss: 0.0393 - root_mean_squared_error: 0.1981 - val_loss: 0.0311 - val_root_mean_squared_error: 0.1762 - 1s/epoch - 2ms/step\n",
      "Epoch 15/1000\n",
      "640/640 - 1s - loss: 0.0260 - root_mean_squared_error: 0.1611 - val_loss: 0.0199 - val_root_mean_squared_error: 0.1411 - 1s/epoch - 2ms/step\n",
      "Epoch 16/1000\n",
      "640/640 - 1s - loss: 0.0162 - root_mean_squared_error: 0.1271 - val_loss: 0.0119 - val_root_mean_squared_error: 0.1092 - 1s/epoch - 2ms/step\n",
      "Epoch 17/1000\n",
      "640/640 - 1s - loss: 0.0094 - root_mean_squared_error: 0.0971 - val_loss: 0.0067 - val_root_mean_squared_error: 0.0818 - 1s/epoch - 2ms/step\n",
      "Epoch 18/1000\n",
      "640/640 - 1s - loss: 0.0052 - root_mean_squared_error: 0.0723 - val_loss: 0.0036 - val_root_mean_squared_error: 0.0602 - 1s/epoch - 2ms/step\n",
      "Epoch 19/1000\n",
      "640/640 - 1s - loss: 0.0029 - root_mean_squared_error: 0.0539 - val_loss: 0.0020 - val_root_mean_squared_error: 0.0451 - 1s/epoch - 2ms/step\n",
      "Epoch 20/1000\n",
      "640/640 - 1s - loss: 0.0018 - root_mean_squared_error: 0.0422 - val_loss: 0.0013 - val_root_mean_squared_error: 0.0362 - 1s/epoch - 2ms/step\n",
      "Epoch 21/1000\n",
      "640/640 - 1s - loss: 0.0013 - root_mean_squared_error: 0.0354 - val_loss: 9.8331e-04 - val_root_mean_squared_error: 0.0314 - 1s/epoch - 2ms/step\n",
      "Epoch 22/1000\n",
      "640/640 - 1s - loss: 9.8583e-04 - root_mean_squared_error: 0.0314 - val_loss: 8.1871e-04 - val_root_mean_squared_error: 0.0286 - 1s/epoch - 2ms/step\n",
      "Epoch 23/1000\n",
      "640/640 - 1s - loss: 8.1768e-04 - root_mean_squared_error: 0.0286 - val_loss: 7.0625e-04 - val_root_mean_squared_error: 0.0266 - 1s/epoch - 2ms/step\n",
      "Epoch 24/1000\n",
      "640/640 - 1s - loss: 6.9348e-04 - root_mean_squared_error: 0.0263 - val_loss: 6.2793e-04 - val_root_mean_squared_error: 0.0251 - 1s/epoch - 2ms/step\n",
      "Epoch 25/1000\n",
      "640/640 - 1s - loss: 5.9765e-04 - root_mean_squared_error: 0.0244 - val_loss: 5.6359e-04 - val_root_mean_squared_error: 0.0237 - 1s/epoch - 2ms/step\n",
      "Epoch 26/1000\n",
      "640/640 - 1s - loss: 5.2214e-04 - root_mean_squared_error: 0.0229 - val_loss: 5.1515e-04 - val_root_mean_squared_error: 0.0227 - 1s/epoch - 2ms/step\n",
      "Epoch 27/1000\n",
      "640/640 - 1s - loss: 4.6240e-04 - root_mean_squared_error: 0.0215 - val_loss: 4.7260e-04 - val_root_mean_squared_error: 0.0217 - 1s/epoch - 2ms/step\n",
      "Epoch 28/1000\n",
      "640/640 - 1s - loss: 4.1644e-04 - root_mean_squared_error: 0.0204 - val_loss: 4.3927e-04 - val_root_mean_squared_error: 0.0210 - 1s/epoch - 2ms/step\n",
      "Epoch 29/1000\n",
      "640/640 - 1s - loss: 3.7927e-04 - root_mean_squared_error: 0.0195 - val_loss: 4.1268e-04 - val_root_mean_squared_error: 0.0203 - 1s/epoch - 2ms/step\n",
      "Epoch 30/1000\n",
      "640/640 - 2s - loss: 3.4896e-04 - root_mean_squared_error: 0.0187 - val_loss: 3.8374e-04 - val_root_mean_squared_error: 0.0196 - 2s/epoch - 2ms/step\n",
      "Epoch 31/1000\n",
      "640/640 - 1s - loss: 3.1858e-04 - root_mean_squared_error: 0.0178 - val_loss: 3.5504e-04 - val_root_mean_squared_error: 0.0188 - 1s/epoch - 2ms/step\n",
      "Epoch 32/1000\n",
      "640/640 - 1s - loss: 2.9299e-04 - root_mean_squared_error: 0.0171 - val_loss: 3.2838e-04 - val_root_mean_squared_error: 0.0181 - 1s/epoch - 2ms/step\n",
      "Epoch 33/1000\n",
      "640/640 - 1s - loss: 2.6917e-04 - root_mean_squared_error: 0.0164 - val_loss: 3.0192e-04 - val_root_mean_squared_error: 0.0174 - 1s/epoch - 2ms/step\n",
      "Epoch 34/1000\n",
      "640/640 - 2s - loss: 2.4671e-04 - root_mean_squared_error: 0.0157 - val_loss: 2.7813e-04 - val_root_mean_squared_error: 0.0167 - 2s/epoch - 3ms/step\n",
      "Epoch 35/1000\n",
      "640/640 - 1s - loss: 2.2510e-04 - root_mean_squared_error: 0.0150 - val_loss: 2.5337e-04 - val_root_mean_squared_error: 0.0159 - 1s/epoch - 2ms/step\n",
      "Epoch 36/1000\n",
      "640/640 - 1s - loss: 2.0443e-04 - root_mean_squared_error: 0.0143 - val_loss: 2.2816e-04 - val_root_mean_squared_error: 0.0151 - 1s/epoch - 2ms/step\n",
      "Epoch 37/1000\n",
      "640/640 - 1s - loss: 1.8553e-04 - root_mean_squared_error: 0.0136 - val_loss: 2.0609e-04 - val_root_mean_squared_error: 0.0144 - 1s/epoch - 2ms/step\n",
      "Epoch 38/1000\n",
      "640/640 - 1s - loss: 1.6758e-04 - root_mean_squared_error: 0.0129 - val_loss: 1.8477e-04 - val_root_mean_squared_error: 0.0136 - 1s/epoch - 2ms/step\n",
      "Epoch 39/1000\n",
      "640/640 - 1s - loss: 1.5131e-04 - root_mean_squared_error: 0.0123 - val_loss: 1.6579e-04 - val_root_mean_squared_error: 0.0129 - 1s/epoch - 2ms/step\n",
      "Epoch 40/1000\n",
      "640/640 - 1s - loss: 1.3584e-04 - root_mean_squared_error: 0.0117 - val_loss: 1.4522e-04 - val_root_mean_squared_error: 0.0121 - 1s/epoch - 2ms/step\n",
      "Epoch 41/1000\n",
      "640/640 - 1s - loss: 1.2238e-04 - root_mean_squared_error: 0.0111 - val_loss: 1.2978e-04 - val_root_mean_squared_error: 0.0114 - 1s/epoch - 2ms/step\n",
      "Epoch 42/1000\n",
      "640/640 - 1s - loss: 1.0894e-04 - root_mean_squared_error: 0.0104 - val_loss: 1.1353e-04 - val_root_mean_squared_error: 0.0107 - 1s/epoch - 2ms/step\n",
      "Epoch 43/1000\n",
      "640/640 - 1s - loss: 9.6617e-05 - root_mean_squared_error: 0.0098 - val_loss: 9.8031e-05 - val_root_mean_squared_error: 0.0099 - 1s/epoch - 2ms/step\n",
      "Epoch 44/1000\n",
      "640/640 - 1s - loss: 8.5979e-05 - root_mean_squared_error: 0.0093 - val_loss: 8.5411e-05 - val_root_mean_squared_error: 0.0092 - 1s/epoch - 2ms/step\n",
      "Epoch 45/1000\n",
      "640/640 - 1s - loss: 7.6374e-05 - root_mean_squared_error: 0.0087 - val_loss: 7.4842e-05 - val_root_mean_squared_error: 0.0087 - 1s/epoch - 2ms/step\n",
      "Epoch 46/1000\n",
      "640/640 - 1s - loss: 6.8353e-05 - root_mean_squared_error: 0.0083 - val_loss: 6.5336e-05 - val_root_mean_squared_error: 0.0081 - 1s/epoch - 2ms/step\n",
      "Epoch 47/1000\n",
      "640/640 - 1s - loss: 6.1699e-05 - root_mean_squared_error: 0.0079 - val_loss: 5.7601e-05 - val_root_mean_squared_error: 0.0076 - 1s/epoch - 2ms/step\n",
      "Epoch 48/1000\n",
      "640/640 - 1s - loss: 5.5669e-05 - root_mean_squared_error: 0.0075 - val_loss: 5.3592e-05 - val_root_mean_squared_error: 0.0073 - 1s/epoch - 2ms/step\n",
      "Epoch 49/1000\n",
      "640/640 - 1s - loss: 5.1609e-05 - root_mean_squared_error: 0.0072 - val_loss: 4.5834e-05 - val_root_mean_squared_error: 0.0068 - 1s/epoch - 2ms/step\n",
      "Epoch 50/1000\n",
      "640/640 - 1s - loss: 4.7955e-05 - root_mean_squared_error: 0.0069 - val_loss: 4.2267e-05 - val_root_mean_squared_error: 0.0065 - 1s/epoch - 2ms/step\n",
      "Epoch 51/1000\n",
      "640/640 - 1s - loss: 4.5059e-05 - root_mean_squared_error: 0.0067 - val_loss: 3.9913e-05 - val_root_mean_squared_error: 0.0063 - 1s/epoch - 2ms/step\n",
      "Epoch 52/1000\n",
      "640/640 - 1s - loss: 4.2666e-05 - root_mean_squared_error: 0.0065 - val_loss: 3.8076e-05 - val_root_mean_squared_error: 0.0062 - 1s/epoch - 2ms/step\n",
      "Epoch 53/1000\n",
      "640/640 - 1s - loss: 4.0833e-05 - root_mean_squared_error: 0.0064 - val_loss: 3.5654e-05 - val_root_mean_squared_error: 0.0060 - 1s/epoch - 2ms/step\n",
      "Epoch 54/1000\n",
      "640/640 - 1s - loss: 3.9085e-05 - root_mean_squared_error: 0.0063 - val_loss: 3.2725e-05 - val_root_mean_squared_error: 0.0057 - 1s/epoch - 2ms/step\n",
      "Epoch 55/1000\n",
      "640/640 - 1s - loss: 3.7838e-05 - root_mean_squared_error: 0.0062 - val_loss: 3.1808e-05 - val_root_mean_squared_error: 0.0056 - 1s/epoch - 2ms/step\n",
      "Epoch 56/1000\n",
      "640/640 - 1s - loss: 3.6502e-05 - root_mean_squared_error: 0.0060 - val_loss: 3.2493e-05 - val_root_mean_squared_error: 0.0057 - 1s/epoch - 2ms/step\n",
      "Epoch 57/1000\n",
      "640/640 - 1s - loss: 3.5384e-05 - root_mean_squared_error: 0.0059 - val_loss: 3.0278e-05 - val_root_mean_squared_error: 0.0055 - 1s/epoch - 2ms/step\n",
      "Epoch 58/1000\n",
      "640/640 - 1s - loss: 3.4594e-05 - root_mean_squared_error: 0.0059 - val_loss: 2.9211e-05 - val_root_mean_squared_error: 0.0054 - 1s/epoch - 2ms/step\n",
      "Epoch 59/1000\n",
      "640/640 - 1s - loss: 3.3736e-05 - root_mean_squared_error: 0.0058 - val_loss: 2.7701e-05 - val_root_mean_squared_error: 0.0053 - 1s/epoch - 2ms/step\n",
      "Epoch 60/1000\n",
      "640/640 - 1s - loss: 3.2811e-05 - root_mean_squared_error: 0.0057 - val_loss: 2.7657e-05 - val_root_mean_squared_error: 0.0053 - 1s/epoch - 2ms/step\n",
      "Epoch 61/1000\n",
      "640/640 - 1s - loss: 3.2425e-05 - root_mean_squared_error: 0.0057 - val_loss: 2.6711e-05 - val_root_mean_squared_error: 0.0052 - 1s/epoch - 2ms/step\n",
      "Epoch 62/1000\n",
      "640/640 - 1s - loss: 3.1449e-05 - root_mean_squared_error: 0.0056 - val_loss: 2.9147e-05 - val_root_mean_squared_error: 0.0054 - 1s/epoch - 2ms/step\n",
      "Epoch 63/1000\n",
      "640/640 - 2s - loss: 3.1433e-05 - root_mean_squared_error: 0.0056 - val_loss: 2.6211e-05 - val_root_mean_squared_error: 0.0051 - 2s/epoch - 3ms/step\n",
      "Epoch 64/1000\n",
      "640/640 - 2s - loss: 3.0412e-05 - root_mean_squared_error: 0.0055 - val_loss: 2.7053e-05 - val_root_mean_squared_error: 0.0052 - 2s/epoch - 4ms/step\n",
      "Epoch 65/1000\n",
      "640/640 - 4s - loss: 3.0230e-05 - root_mean_squared_error: 0.0055 - val_loss: 2.5605e-05 - val_root_mean_squared_error: 0.0051 - 4s/epoch - 6ms/step\n",
      "Epoch 66/1000\n",
      "640/640 - 2s - loss: 2.9644e-05 - root_mean_squared_error: 0.0054 - val_loss: 2.4575e-05 - val_root_mean_squared_error: 0.0050 - 2s/epoch - 3ms/step\n",
      "Epoch 67/1000\n",
      "640/640 - 2s - loss: 2.9138e-05 - root_mean_squared_error: 0.0054 - val_loss: 2.4130e-05 - val_root_mean_squared_error: 0.0049 - 2s/epoch - 2ms/step\n",
      "Epoch 68/1000\n",
      "640/640 - 2s - loss: 2.8643e-05 - root_mean_squared_error: 0.0054 - val_loss: 2.3786e-05 - val_root_mean_squared_error: 0.0049 - 2s/epoch - 2ms/step\n",
      "Epoch 69/1000\n",
      "640/640 - 1s - loss: 2.8120e-05 - root_mean_squared_error: 0.0053 - val_loss: 2.3611e-05 - val_root_mean_squared_error: 0.0049 - 1s/epoch - 2ms/step\n",
      "Epoch 70/1000\n",
      "640/640 - 1s - loss: 2.7781e-05 - root_mean_squared_error: 0.0053 - val_loss: 2.3579e-05 - val_root_mean_squared_error: 0.0049 - 1s/epoch - 2ms/step\n",
      "Epoch 71/1000\n",
      "640/640 - 1s - loss: 2.7346e-05 - root_mean_squared_error: 0.0052 - val_loss: 2.2448e-05 - val_root_mean_squared_error: 0.0047 - 1s/epoch - 2ms/step\n",
      "Epoch 72/1000\n",
      "640/640 - 2s - loss: 2.7047e-05 - root_mean_squared_error: 0.0052 - val_loss: 2.2909e-05 - val_root_mean_squared_error: 0.0048 - 2s/epoch - 3ms/step\n",
      "Epoch 73/1000\n",
      "640/640 - 1s - loss: 2.6359e-05 - root_mean_squared_error: 0.0051 - val_loss: 2.2422e-05 - val_root_mean_squared_error: 0.0047 - 1s/epoch - 2ms/step\n",
      "Epoch 74/1000\n",
      "640/640 - 1s - loss: 2.6005e-05 - root_mean_squared_error: 0.0051 - val_loss: 2.1619e-05 - val_root_mean_squared_error: 0.0046 - 1s/epoch - 2ms/step\n",
      "Epoch 75/1000\n",
      "640/640 - 1s - loss: 2.5673e-05 - root_mean_squared_error: 0.0051 - val_loss: 2.2015e-05 - val_root_mean_squared_error: 0.0047 - 1s/epoch - 2ms/step\n",
      "Epoch 76/1000\n",
      "640/640 - 1s - loss: 2.5176e-05 - root_mean_squared_error: 0.0050 - val_loss: 2.1880e-05 - val_root_mean_squared_error: 0.0047 - 1s/epoch - 2ms/step\n"
     ]
    }
   ],
   "source": [
    "# fit the model\n",
    "history = model.fit(\n",
    "    train_inputs, train_targets, batch_size=BATCH_SIZE,epochs=MAX_EPOCHS, callbacks=[early_stopping], validation_data=(validation_inputs, validation_targets), verbose=2\n",
    "          )"
   ]
  },
  {
   "cell_type": "code",
   "execution_count": 505,
   "metadata": {},
   "outputs": [
    {
     "name": "stdout",
     "output_type": "stream",
     "text": [
      "Model: \"sequential_28\"\n",
      "_________________________________________________________________\n",
      " Layer (type)                Output Shape              Param #   \n",
      "=================================================================\n",
      " dense_138 (Dense)           (1, 3)                    12        \n",
      "                                                                 \n",
      " dense_139 (Dense)           (1, 10)                   40        \n",
      "                                                                 \n",
      " dense_140 (Dense)           (1, 10)                   110       \n",
      "                                                                 \n",
      " dense_141 (Dense)           (1, 10)                   110       \n",
      "                                                                 \n",
      " dense_142 (Dense)           (1, 1)                    11        \n",
      "                                                                 \n",
      "=================================================================\n",
      "Total params: 283\n",
      "Trainable params: 283\n",
      "Non-trainable params: 0\n",
      "_________________________________________________________________\n"
     ]
    }
   ],
   "source": [
    "# ANN model summary\n",
    "model.summary()"
   ]
  },
  {
   "cell_type": "code",
   "execution_count": 506,
   "metadata": {},
   "outputs": [
    {
     "data": {
      "image/png": "[encoded data removed]",
      "text/plain": [
       "<Figure size 640x480 with 1 Axes>"
      ]
     },
     "metadata": {},
     "output_type": "display_data"
    }
   ],
   "source": [
    "import matplotlib.pyplot as plt\n",
    "plt.plot(history.history['loss'], label='Training_loss')\n",
    "plt.plot(history.history['val_loss'], label='Validation_loss')\n",
    "plt.xlabel('epochs')\n",
    "plt.ylabel('loss')\n",
    "plt.legend()\n",
    "plt.show()"
   ]
  },
  {
   "cell_type": "markdown",
   "metadata": {},
   "source": [
    "# Model check on Test data"
   ]
  },
  {
   "cell_type": "code",
   "execution_count": 507,
   "metadata": {},
   "outputs": [
    {
     "name": "stdout",
     "output_type": "stream",
     "text": [
      "3/3 [==============================] - 0s 5ms/step - loss: 2.1521e-05 - root_mean_squared_error: 0.0046\n"
     ]
    }
   ],
   "source": [
    "test_loss, test_accuracy = model.evaluate(test_inputs, test_targets)"
   ]
  },
  {
   "cell_type": "code",
   "execution_count": 508,
   "metadata": {},
   "outputs": [
    {
     "name": "stdout",
     "output_type": "stream",
     "text": [
      "\n",
      "Test loss: 0.0000. Test accuracy: 0.0046 rmse\n"
     ]
    }
   ],
   "source": [
    "print('\\nTest loss: {0:.4f}. Test accuracy: {1:.4f} rmse'.format(test_loss, test_accuracy))"
   ]
  },
  {
   "cell_type": "code",
   "execution_count": 509,
   "metadata": {},
   "outputs": [
    {
     "name": "stdout",
     "output_type": "stream",
     "text": [
      "3/3 [==============================] - 0s 4ms/step\n"
     ]
    },
    {
     "data": {
      "text/html": [
       "<div>\n",
       "<style scoped>\n",
       "    .dataframe tbody tr th:only-of-type {\n",
       "        vertical-align: middle;\n",
       "    }\n",
       "\n",
       "    .dataframe tbody tr th {\n",
       "        vertical-align: top;\n",
       "    }\n",
       "\n",
       "    .dataframe thead th {\n",
       "        text-align: right;\n",
       "    }\n",
       "</style>\n",
       "<table border=\"1\" class=\"dataframe\">\n",
       "  <thead>\n",
       "    <tr style=\"text-align: right;\">\n",
       "      <th></th>\n",
       "      <th>Target-St(%)</th>\n",
       "      <th>Prediction-St(%)</th>\n",
       "      <th>Pred-Accu-St(%)</th>\n",
       "    </tr>\n",
       "  </thead>\n",
       "  <tbody>\n",
       "    <tr>\n",
       "      <th>0</th>\n",
       "      <td>0.97</td>\n",
       "      <td>0.9693</td>\n",
       "      <td>99.93</td>\n",
       "    </tr>\n",
       "    <tr>\n",
       "      <th>1</th>\n",
       "      <td>0.99</td>\n",
       "      <td>0.9882</td>\n",
       "      <td>99.82</td>\n",
       "    </tr>\n",
       "    <tr>\n",
       "      <th>2</th>\n",
       "      <td>0.99</td>\n",
       "      <td>0.9867</td>\n",
       "      <td>99.67</td>\n",
       "    </tr>\n",
       "    <tr>\n",
       "      <th>3</th>\n",
       "      <td>0.99</td>\n",
       "      <td>0.9862</td>\n",
       "      <td>99.62</td>\n",
       "    </tr>\n",
       "    <tr>\n",
       "      <th>4</th>\n",
       "      <td>0.96</td>\n",
       "      <td>0.9690</td>\n",
       "      <td>100.94</td>\n",
       "    </tr>\n",
       "    <tr>\n",
       "      <th>...</th>\n",
       "      <td>...</td>\n",
       "      <td>...</td>\n",
       "      <td>...</td>\n",
       "    </tr>\n",
       "    <tr>\n",
       "      <th>75</th>\n",
       "      <td>0.96</td>\n",
       "      <td>0.9603</td>\n",
       "      <td>100.03</td>\n",
       "    </tr>\n",
       "    <tr>\n",
       "      <th>76</th>\n",
       "      <td>0.98</td>\n",
       "      <td>0.9807</td>\n",
       "      <td>100.07</td>\n",
       "    </tr>\n",
       "    <tr>\n",
       "      <th>77</th>\n",
       "      <td>0.98</td>\n",
       "      <td>0.9734</td>\n",
       "      <td>99.33</td>\n",
       "    </tr>\n",
       "    <tr>\n",
       "      <th>78</th>\n",
       "      <td>0.93</td>\n",
       "      <td>0.9392</td>\n",
       "      <td>100.99</td>\n",
       "    </tr>\n",
       "    <tr>\n",
       "      <th>79</th>\n",
       "      <td>0.94</td>\n",
       "      <td>0.9433</td>\n",
       "      <td>100.35</td>\n",
       "    </tr>\n",
       "  </tbody>\n",
       "</table>\n",
       "<p>80 rows × 3 columns</p>\n",
       "</div>"
      ],
      "text/plain": [
       "    Target-St(%)  Prediction-St(%)  Pred-Accu-St(%)\n",
       "0           0.97            0.9693            99.93\n",
       "1           0.99            0.9882            99.82\n",
       "2           0.99            0.9867            99.67\n",
       "3           0.99            0.9862            99.62\n",
       "4           0.96            0.9690           100.94\n",
       "..           ...               ...              ...\n",
       "75          0.96            0.9603           100.03\n",
       "76          0.98            0.9807           100.07\n",
       "77          0.98            0.9734            99.33\n",
       "78          0.93            0.9392           100.99\n",
       "79          0.94            0.9433           100.35\n",
       "\n",
       "[80 rows x 3 columns]"
      ]
     },
     "execution_count": 509,
     "metadata": {},
     "output_type": "execute_result"
    }
   ],
   "source": [
    "prediction = model.predict(test_inputs)\n",
    "data_inputs = pd.DataFrame(test_inputs)\n",
    "prediction = pd.DataFrame(np.round(prediction,4))\n",
    "test_targets = pd.DataFrame(test_targets)\n",
    "pred_accu = np.round((prediction/test_targets)*100,2)\n",
    "\n",
    "result = pd.concat([test_targets, prediction, pred_accu], axis = 1, ignore_index=True)\n",
    "result.columns = ['Target-St(%)', 'Prediction-St(%)','Pred-Accu-St(%)']\n",
    "result"
   ]
  },
  {
   "cell_type": "code",
   "execution_count": 510,
   "metadata": {},
   "outputs": [
    {
     "data": {
      "text/plain": [
       "Text(0.5, 0, 'Targets (red) & Predictions (blue)')"
      ]
     },
     "execution_count": 510,
     "metadata": {},
     "output_type": "execute_result"
    },
    {
     "data": {
      "image/png": "[encoded data removed]",
      "text/plain": [
       "<Figure size 640x480 with 1 Axes>"
      ]
     },
     "metadata": {},
     "output_type": "display_data"
    }
   ],
   "source": [
    "import matplotlib.pyplot as plt\n",
    "plt.scatter(result['Target-St(%)'], result['Pred-Accu-St(%)'], alpha=0.5, color='r')\n",
    "plt.scatter(result['Prediction-St(%)'], result['Pred-Accu-St(%)'],alpha=0.5, color='b')\n",
    "plt.ylabel('Error in the prediction(%)')\n",
    "plt.xlabel('Targets (red) & Predictions (blue)')"
   ]
  },
  {
   "cell_type": "code",
   "execution_count": 519,
   "metadata": {},
   "outputs": [
    {
     "data": {
      "text/plain": [
       "Text(0.5, 0, 'Targets')"
      ]
     },
     "execution_count": 519,
     "metadata": {},
     "output_type": "execute_result"
    },
    {
     "data": {
      "image/png": "[encoded data removed]",
      "text/plain": [
       "<Figure size 640x480 with 1 Axes>"
      ]
     },
     "metadata": {},
     "output_type": "display_data"
    }
   ],
   "source": [
    "plt.scatter(result['Target-St(%)'], result['Target-St(%)'], alpha=0.5, color='r')\n",
    "plt.scatter(result['Target-St(%)'], result['Prediction-St(%)'], alpha=0.2, color='g')\n",
    "\n",
    "plt.ylabel('predictions')\n",
    "plt.xlabel('Targets')"
   ]
  },
  {
   "cell_type": "code",
   "execution_count": 512,
   "metadata": {},
   "outputs": [
    {
     "data": {
      "text/plain": [
       "0.9492"
      ]
     },
     "execution_count": 512,
     "metadata": {},
     "output_type": "execute_result"
    }
   ],
   "source": [
    "# estimation of R2 score\n",
    "from sklearn.metrics import r2_score\n",
    "r2_score_test = r2_score(test_targets, prediction)\n",
    "np.round(r2_score_test,4)"
   ]
  },
  {
   "cell_type": "code",
   "execution_count": 513,
   "metadata": {},
   "outputs": [
    {
     "data": {
      "text/plain": [
       "0.9472"
      ]
     },
     "execution_count": 513,
     "metadata": {},
     "output_type": "execute_result"
    }
   ],
   "source": [
    "# estimation of adjusted R2 score\n",
    "n = np.size(test_targets)\n",
    "k = 3 # number of features\n",
    "adj_r2_score = 1 - (((1-r2_score_test)*(n-1))/((n-k-1)))\n",
    "np.round(adj_r2_score,4)"
   ]
  },
  {
   "cell_type": "code",
   "execution_count": 514,
   "metadata": {},
   "outputs": [
    {
     "name": "stdout",
     "output_type": "stream",
     "text": [
      "Uncertainty of the ANN model: 0.48 [%]\n",
      "Average test prediction precision 99.52 [%]\n"
     ]
    }
   ],
   "source": [
    "mean_pred = pred_accu.mean()\n",
    "std_pred = pred_accu.std()\n",
    "uncertainty_model = std_pred\n",
    "print(\"Uncertainty of the ANN model:\", np.round(uncertainty_model[0],2), '[%]')\n",
    "print(\"Average test prediction precision\", np.round(100 - uncertainty_model[0],2), '[%]')"
   ]
  },
  {
   "cell_type": "markdown",
   "metadata": {},
   "source": [
    "# ANN Model Deployment"
   ]
  },
  {
   "cell_type": "markdown",
   "metadata": {},
   "source": [
    "ANN model deployment for micro DSC error prediction"
   ]
  },
  {
   "cell_type": "code",
   "execution_count": 515,
   "metadata": {},
   "outputs": [],
   "source": [
    "import keras\n",
    "model.save('micro_dsc_dl.h5')"
   ]
  },
  {
   "cell_type": "code",
   "execution_count": null,
   "metadata": {},
   "outputs": [],
   "source": []
  }
 ],
 "metadata": {
  "kernelspec": {
   "display_name": ".venv",
   "language": "python",
   "name": "python3"
  },
  "language_info": {
   "codemirror_mode": {
    "name": "ipython",
    "version": 3
   },
   "file_extension": ".py",
   "mimetype": "text/x-python",
   "name": "python",
   "nbconvert_exporter": "python",
   "pygments_lexer": "ipython3",
   "version": "3.8.9"
  },
  "orig_nbformat": 4,
  "vscode": {
   "interpreter": {
    "hash": "795fce77f85a68c42812bdf3641cf800dca9a871e04df385e26cc90e90697f34"
   }
  }
 },
 "nbformat": 4,
 "nbformat_minor": 2
}
