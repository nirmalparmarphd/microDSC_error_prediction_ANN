{
 "cells": [
  {
   "cell_type": "markdown",
   "metadata": {},
   "source": [
    "# DNN Model"
   ]
  },
  {
   "cell_type": "code",
   "execution_count": 97,
   "metadata": {},
   "outputs": [],
   "source": [
    "import numpy as np\n",
    "import pandas as pd\n",
    "import tensorflow as tf"
   ]
  },
  {
   "cell_type": "code",
   "execution_count": 98,
   "metadata": {},
   "outputs": [],
   "source": [
    "# data loading from .npz generated from tcr_data_process.ipynb\n",
    "# loading train data\n",
    "npz = np.load('data_train.npz')\n",
    "train_inputs = npz['input'].astype(np.float64)\n",
    "train_targets = npz['targets'].astype(np.float64)\n",
    "# loading validation data\n",
    "npz = np.load('data_validation.npz')\n",
    "validation_inputs, validation_targets = npz['input'].astype(np.float64), npz['targets'].astype(np.float64)\n",
    "\n",
    "npz = np.load('data_test.npz')\n",
    "test_inputs, test_targets = npz['input'].astype(np.float64), npz['targets'].astype(np.float64)"
   ]
  },
  {
   "cell_type": "markdown",
   "metadata": {},
   "source": [
    "# ANN Model"
   ]
  },
  {
   "cell_type": "markdown",
   "metadata": {},
   "source": [
    "Outline, Optimizer, Loss function, Early stopping and Training rate"
   ]
  },
  {
   "cell_type": "code",
   "execution_count": 99,
   "metadata": {},
   "outputs": [],
   "source": [
    "# NN model prep\n",
    "input_size = 3\n",
    "output_size = 1\n",
    "hidden_layer_1_size = 10\n",
    "hidden_layer_2_size = 10\n",
    "hidden_layer_3_size = 10\n",
    "\n",
    "model = tf.keras.Sequential([\n",
    "    tf.keras.layers.Dense(input_size),\n",
    "    tf.keras.layers.Dense(hidden_layer_1_size, activation='relu'),\n",
    "    tf.keras.layers.Dense(hidden_layer_2_size, activation='tanh'),\n",
    "    tf.keras.layers.Dense(hidden_layer_3_size, activation='sigmoid'),\n",
    "    tf.keras.layers.Dense(output_size, activation='linear')\n",
    "])\n"
   ]
  },
  {
   "cell_type": "code",
   "execution_count": 100,
   "metadata": {},
   "outputs": [],
   "source": [
    "# model prep, optimizer and loss function\n",
    "optimizer = tf.keras.optimizers.Adam(learning_rate=0.0001)\n",
    "model.compile(optimizer, loss=tf.keras.losses.MeanSquaredError(),metrics=[tf.keras.metrics.RootMeanSquaredError()])\n"
   ]
  },
  {
   "cell_type": "code",
   "execution_count": 101,
   "metadata": {},
   "outputs": [],
   "source": [
    "# Training\n",
    "BATCH_SIZE = 1\n",
    "MAX_EPOCHS = 1000\n",
    "early_stopping = tf.keras.callbacks.EarlyStopping(patience=2)"
   ]
  },
  {
   "cell_type": "code",
   "execution_count": 102,
   "metadata": {},
   "outputs": [
    {
     "name": "stdout",
     "output_type": "stream",
     "text": [
      "Epoch 1/1000\n",
      "102/102 - 3s - loss: 0.8975 - root_mean_squared_error: 0.9474 - val_loss: 0.8712 - val_root_mean_squared_error: 0.9334 - 3s/epoch - 28ms/step\n",
      "Epoch 2/1000\n",
      "102/102 - 1s - loss: 0.7382 - root_mean_squared_error: 0.8592 - val_loss: 0.7215 - val_root_mean_squared_error: 0.8494 - 519ms/epoch - 5ms/step\n",
      "Epoch 3/1000\n",
      "102/102 - 0s - loss: 0.6038 - root_mean_squared_error: 0.7771 - val_loss: 0.5948 - val_root_mean_squared_error: 0.7712 - 277ms/epoch - 3ms/step\n",
      "Epoch 4/1000\n",
      "102/102 - 1s - loss: 0.4903 - root_mean_squared_error: 0.7002 - val_loss: 0.4872 - val_root_mean_squared_error: 0.6980 - 500ms/epoch - 5ms/step\n",
      "Epoch 5/1000\n",
      "102/102 - 1s - loss: 0.3938 - root_mean_squared_error: 0.6275 - val_loss: 0.3945 - val_root_mean_squared_error: 0.6281 - 568ms/epoch - 6ms/step\n",
      "Epoch 6/1000\n",
      "102/102 - 0s - loss: 0.3122 - root_mean_squared_error: 0.5588 - val_loss: 0.3165 - val_root_mean_squared_error: 0.5626 - 310ms/epoch - 3ms/step\n",
      "Epoch 7/1000\n",
      "102/102 - 0s - loss: 0.2444 - root_mean_squared_error: 0.4944 - val_loss: 0.2514 - val_root_mean_squared_error: 0.5014 - 300ms/epoch - 3ms/step\n",
      "Epoch 8/1000\n",
      "102/102 - 0s - loss: 0.1892 - root_mean_squared_error: 0.4349 - val_loss: 0.1977 - val_root_mean_squared_error: 0.4446 - 284ms/epoch - 3ms/step\n",
      "Epoch 9/1000\n",
      "102/102 - 0s - loss: 0.1446 - root_mean_squared_error: 0.3802 - val_loss: 0.1539 - val_root_mean_squared_error: 0.3923 - 293ms/epoch - 3ms/step\n",
      "Epoch 10/1000\n",
      "102/102 - 0s - loss: 0.1091 - root_mean_squared_error: 0.3303 - val_loss: 0.1181 - val_root_mean_squared_error: 0.3436 - 288ms/epoch - 3ms/step\n",
      "Epoch 11/1000\n",
      "102/102 - 0s - loss: 0.0817 - root_mean_squared_error: 0.2859 - val_loss: 0.0900 - val_root_mean_squared_error: 0.3000 - 289ms/epoch - 3ms/step\n",
      "Epoch 12/1000\n",
      "102/102 - 0s - loss: 0.0611 - root_mean_squared_error: 0.2471 - val_loss: 0.0693 - val_root_mean_squared_error: 0.2632 - 271ms/epoch - 3ms/step\n",
      "Epoch 13/1000\n",
      "102/102 - 0s - loss: 0.0461 - root_mean_squared_error: 0.2146 - val_loss: 0.0534 - val_root_mean_squared_error: 0.2311 - 271ms/epoch - 3ms/step\n",
      "Epoch 14/1000\n",
      "102/102 - 0s - loss: 0.0352 - root_mean_squared_error: 0.1876 - val_loss: 0.0424 - val_root_mean_squared_error: 0.2058 - 277ms/epoch - 3ms/step\n",
      "Epoch 15/1000\n",
      "102/102 - 0s - loss: 0.0276 - root_mean_squared_error: 0.1661 - val_loss: 0.0342 - val_root_mean_squared_error: 0.1849 - 314ms/epoch - 3ms/step\n",
      "Epoch 16/1000\n",
      "102/102 - 0s - loss: 0.0222 - root_mean_squared_error: 0.1490 - val_loss: 0.0284 - val_root_mean_squared_error: 0.1687 - 264ms/epoch - 3ms/step\n",
      "Epoch 17/1000\n",
      "102/102 - 0s - loss: 0.0184 - root_mean_squared_error: 0.1358 - val_loss: 0.0242 - val_root_mean_squared_error: 0.1556 - 279ms/epoch - 3ms/step\n",
      "Epoch 18/1000\n",
      "102/102 - 0s - loss: 0.0158 - root_mean_squared_error: 0.1256 - val_loss: 0.0213 - val_root_mean_squared_error: 0.1461 - 315ms/epoch - 3ms/step\n",
      "Epoch 19/1000\n",
      "102/102 - 0s - loss: 0.0138 - root_mean_squared_error: 0.1177 - val_loss: 0.0192 - val_root_mean_squared_error: 0.1384 - 273ms/epoch - 3ms/step\n",
      "Epoch 20/1000\n",
      "102/102 - 0s - loss: 0.0124 - root_mean_squared_error: 0.1116 - val_loss: 0.0177 - val_root_mean_squared_error: 0.1329 - 259ms/epoch - 3ms/step\n",
      "Epoch 21/1000\n",
      "102/102 - 0s - loss: 0.0113 - root_mean_squared_error: 0.1065 - val_loss: 0.0164 - val_root_mean_squared_error: 0.1281 - 264ms/epoch - 3ms/step\n",
      "Epoch 22/1000\n",
      "102/102 - 0s - loss: 0.0105 - root_mean_squared_error: 0.1023 - val_loss: 0.0156 - val_root_mean_squared_error: 0.1248 - 262ms/epoch - 3ms/step\n",
      "Epoch 23/1000\n",
      "102/102 - 0s - loss: 0.0097 - root_mean_squared_error: 0.0987 - val_loss: 0.0147 - val_root_mean_squared_error: 0.1213 - 260ms/epoch - 3ms/step\n",
      "Epoch 24/1000\n",
      "102/102 - 0s - loss: 0.0091 - root_mean_squared_error: 0.0954 - val_loss: 0.0140 - val_root_mean_squared_error: 0.1184 - 266ms/epoch - 3ms/step\n",
      "Epoch 25/1000\n",
      "102/102 - 0s - loss: 0.0086 - root_mean_squared_error: 0.0926 - val_loss: 0.0134 - val_root_mean_squared_error: 0.1158 - 260ms/epoch - 3ms/step\n",
      "Epoch 26/1000\n",
      "102/102 - 0s - loss: 0.0081 - root_mean_squared_error: 0.0901 - val_loss: 0.0127 - val_root_mean_squared_error: 0.1129 - 264ms/epoch - 3ms/step\n",
      "Epoch 27/1000\n",
      "102/102 - 0s - loss: 0.0077 - root_mean_squared_error: 0.0875 - val_loss: 0.0123 - val_root_mean_squared_error: 0.1107 - 275ms/epoch - 3ms/step\n",
      "Epoch 28/1000\n",
      "102/102 - 0s - loss: 0.0073 - root_mean_squared_error: 0.0852 - val_loss: 0.0117 - val_root_mean_squared_error: 0.1081 - 276ms/epoch - 3ms/step\n",
      "Epoch 29/1000\n",
      "102/102 - 0s - loss: 0.0069 - root_mean_squared_error: 0.0831 - val_loss: 0.0112 - val_root_mean_squared_error: 0.1057 - 255ms/epoch - 2ms/step\n",
      "Epoch 30/1000\n",
      "102/102 - 0s - loss: 0.0065 - root_mean_squared_error: 0.0809 - val_loss: 0.0107 - val_root_mean_squared_error: 0.1032 - 265ms/epoch - 3ms/step\n",
      "Epoch 31/1000\n",
      "102/102 - 0s - loss: 0.0062 - root_mean_squared_error: 0.0787 - val_loss: 0.0101 - val_root_mean_squared_error: 0.1006 - 293ms/epoch - 3ms/step\n",
      "Epoch 32/1000\n",
      "102/102 - 0s - loss: 0.0059 - root_mean_squared_error: 0.0768 - val_loss: 0.0097 - val_root_mean_squared_error: 0.0986 - 265ms/epoch - 3ms/step\n",
      "Epoch 33/1000\n",
      "102/102 - 0s - loss: 0.0056 - root_mean_squared_error: 0.0747 - val_loss: 0.0092 - val_root_mean_squared_error: 0.0959 - 262ms/epoch - 3ms/step\n",
      "Epoch 34/1000\n",
      "102/102 - 0s - loss: 0.0053 - root_mean_squared_error: 0.0727 - val_loss: 0.0088 - val_root_mean_squared_error: 0.0939 - 277ms/epoch - 3ms/step\n",
      "Epoch 35/1000\n",
      "102/102 - 0s - loss: 0.0051 - root_mean_squared_error: 0.0711 - val_loss: 0.0084 - val_root_mean_squared_error: 0.0914 - 272ms/epoch - 3ms/step\n",
      "Epoch 36/1000\n",
      "102/102 - 0s - loss: 0.0048 - root_mean_squared_error: 0.0691 - val_loss: 0.0080 - val_root_mean_squared_error: 0.0894 - 260ms/epoch - 3ms/step\n",
      "Epoch 37/1000\n",
      "102/102 - 0s - loss: 0.0046 - root_mean_squared_error: 0.0675 - val_loss: 0.0076 - val_root_mean_squared_error: 0.0874 - 262ms/epoch - 3ms/step\n",
      "Epoch 38/1000\n",
      "102/102 - 0s - loss: 0.0043 - root_mean_squared_error: 0.0657 - val_loss: 0.0073 - val_root_mean_squared_error: 0.0852 - 270ms/epoch - 3ms/step\n",
      "Epoch 39/1000\n",
      "102/102 - 0s - loss: 0.0041 - root_mean_squared_error: 0.0641 - val_loss: 0.0069 - val_root_mean_squared_error: 0.0830 - 258ms/epoch - 3ms/step\n",
      "Epoch 40/1000\n",
      "102/102 - 0s - loss: 0.0039 - root_mean_squared_error: 0.0625 - val_loss: 0.0066 - val_root_mean_squared_error: 0.0812 - 263ms/epoch - 3ms/step\n",
      "Epoch 41/1000\n",
      "102/102 - 0s - loss: 0.0037 - root_mean_squared_error: 0.0609 - val_loss: 0.0063 - val_root_mean_squared_error: 0.0792 - 268ms/epoch - 3ms/step\n",
      "Epoch 42/1000\n",
      "102/102 - 0s - loss: 0.0035 - root_mean_squared_error: 0.0594 - val_loss: 0.0059 - val_root_mean_squared_error: 0.0770 - 278ms/epoch - 3ms/step\n",
      "Epoch 43/1000\n",
      "102/102 - 0s - loss: 0.0033 - root_mean_squared_error: 0.0578 - val_loss: 0.0057 - val_root_mean_squared_error: 0.0753 - 265ms/epoch - 3ms/step\n",
      "Epoch 44/1000\n",
      "102/102 - 0s - loss: 0.0032 - root_mean_squared_error: 0.0563 - val_loss: 0.0054 - val_root_mean_squared_error: 0.0732 - 303ms/epoch - 3ms/step\n",
      "Epoch 45/1000\n",
      "102/102 - 0s - loss: 0.0030 - root_mean_squared_error: 0.0547 - val_loss: 0.0051 - val_root_mean_squared_error: 0.0712 - 272ms/epoch - 3ms/step\n",
      "Epoch 46/1000\n",
      "102/102 - 0s - loss: 0.0029 - root_mean_squared_error: 0.0534 - val_loss: 0.0048 - val_root_mean_squared_error: 0.0694 - 283ms/epoch - 3ms/step\n",
      "Epoch 47/1000\n",
      "102/102 - 0s - loss: 0.0027 - root_mean_squared_error: 0.0519 - val_loss: 0.0046 - val_root_mean_squared_error: 0.0678 - 263ms/epoch - 3ms/step\n",
      "Epoch 48/1000\n",
      "102/102 - 0s - loss: 0.0025 - root_mean_squared_error: 0.0505 - val_loss: 0.0044 - val_root_mean_squared_error: 0.0662 - 258ms/epoch - 3ms/step\n",
      "Epoch 49/1000\n",
      "102/102 - 0s - loss: 0.0024 - root_mean_squared_error: 0.0492 - val_loss: 0.0042 - val_root_mean_squared_error: 0.0645 - 271ms/epoch - 3ms/step\n",
      "Epoch 50/1000\n",
      "102/102 - 0s - loss: 0.0023 - root_mean_squared_error: 0.0480 - val_loss: 0.0039 - val_root_mean_squared_error: 0.0627 - 277ms/epoch - 3ms/step\n",
      "Epoch 51/1000\n",
      "102/102 - 0s - loss: 0.0022 - root_mean_squared_error: 0.0466 - val_loss: 0.0037 - val_root_mean_squared_error: 0.0611 - 273ms/epoch - 3ms/step\n",
      "Epoch 52/1000\n",
      "102/102 - 0s - loss: 0.0021 - root_mean_squared_error: 0.0454 - val_loss: 0.0035 - val_root_mean_squared_error: 0.0594 - 258ms/epoch - 3ms/step\n",
      "Epoch 53/1000\n",
      "102/102 - 0s - loss: 0.0019 - root_mean_squared_error: 0.0441 - val_loss: 0.0033 - val_root_mean_squared_error: 0.0578 - 271ms/epoch - 3ms/step\n",
      "Epoch 54/1000\n",
      "102/102 - 0s - loss: 0.0018 - root_mean_squared_error: 0.0426 - val_loss: 0.0032 - val_root_mean_squared_error: 0.0564 - 253ms/epoch - 2ms/step\n",
      "Epoch 55/1000\n",
      "102/102 - 0s - loss: 0.0017 - root_mean_squared_error: 0.0414 - val_loss: 0.0030 - val_root_mean_squared_error: 0.0548 - 250ms/epoch - 2ms/step\n",
      "Epoch 56/1000\n",
      "102/102 - 0s - loss: 0.0016 - root_mean_squared_error: 0.0402 - val_loss: 0.0028 - val_root_mean_squared_error: 0.0533 - 251ms/epoch - 2ms/step\n",
      "Epoch 57/1000\n",
      "102/102 - 0s - loss: 0.0015 - root_mean_squared_error: 0.0391 - val_loss: 0.0027 - val_root_mean_squared_error: 0.0516 - 266ms/epoch - 3ms/step\n",
      "Epoch 58/1000\n",
      "102/102 - 0s - loss: 0.0014 - root_mean_squared_error: 0.0378 - val_loss: 0.0025 - val_root_mean_squared_error: 0.0503 - 273ms/epoch - 3ms/step\n",
      "Epoch 59/1000\n",
      "102/102 - 0s - loss: 0.0014 - root_mean_squared_error: 0.0368 - val_loss: 0.0024 - val_root_mean_squared_error: 0.0487 - 257ms/epoch - 3ms/step\n",
      "Epoch 60/1000\n",
      "102/102 - 0s - loss: 0.0013 - root_mean_squared_error: 0.0356 - val_loss: 0.0023 - val_root_mean_squared_error: 0.0476 - 271ms/epoch - 3ms/step\n",
      "Epoch 61/1000\n",
      "102/102 - 0s - loss: 0.0012 - root_mean_squared_error: 0.0344 - val_loss: 0.0021 - val_root_mean_squared_error: 0.0462 - 265ms/epoch - 3ms/step\n",
      "Epoch 62/1000\n",
      "102/102 - 0s - loss: 0.0011 - root_mean_squared_error: 0.0334 - val_loss: 0.0020 - val_root_mean_squared_error: 0.0447 - 256ms/epoch - 3ms/step\n",
      "Epoch 63/1000\n",
      "102/102 - 0s - loss: 0.0010 - root_mean_squared_error: 0.0324 - val_loss: 0.0019 - val_root_mean_squared_error: 0.0432 - 269ms/epoch - 3ms/step\n",
      "Epoch 64/1000\n",
      "102/102 - 0s - loss: 9.7699e-04 - root_mean_squared_error: 0.0313 - val_loss: 0.0018 - val_root_mean_squared_error: 0.0419 - 258ms/epoch - 3ms/step\n",
      "Epoch 65/1000\n",
      "102/102 - 1s - loss: 9.2090e-04 - root_mean_squared_error: 0.0303 - val_loss: 0.0016 - val_root_mean_squared_error: 0.0404 - 605ms/epoch - 6ms/step\n",
      "Epoch 66/1000\n",
      "102/102 - 0s - loss: 8.5704e-04 - root_mean_squared_error: 0.0293 - val_loss: 0.0015 - val_root_mean_squared_error: 0.0391 - 438ms/epoch - 4ms/step\n",
      "Epoch 67/1000\n",
      "102/102 - 0s - loss: 7.9475e-04 - root_mean_squared_error: 0.0282 - val_loss: 0.0014 - val_root_mean_squared_error: 0.0378 - 262ms/epoch - 3ms/step\n",
      "Epoch 68/1000\n",
      "102/102 - 0s - loss: 7.4617e-04 - root_mean_squared_error: 0.0273 - val_loss: 0.0013 - val_root_mean_squared_error: 0.0367 - 259ms/epoch - 3ms/step\n",
      "Epoch 69/1000\n",
      "102/102 - 0s - loss: 7.0505e-04 - root_mean_squared_error: 0.0266 - val_loss: 0.0013 - val_root_mean_squared_error: 0.0355 - 280ms/epoch - 3ms/step\n",
      "Epoch 70/1000\n",
      "102/102 - 0s - loss: 6.6091e-04 - root_mean_squared_error: 0.0257 - val_loss: 0.0012 - val_root_mean_squared_error: 0.0343 - 263ms/epoch - 3ms/step\n",
      "Epoch 71/1000\n",
      "102/102 - 0s - loss: 6.1252e-04 - root_mean_squared_error: 0.0247 - val_loss: 0.0011 - val_root_mean_squared_error: 0.0330 - 262ms/epoch - 3ms/step\n",
      "Epoch 72/1000\n",
      "102/102 - 0s - loss: 5.8144e-04 - root_mean_squared_error: 0.0241 - val_loss: 0.0010 - val_root_mean_squared_error: 0.0320 - 276ms/epoch - 3ms/step\n",
      "Epoch 73/1000\n",
      "102/102 - 0s - loss: 5.3972e-04 - root_mean_squared_error: 0.0232 - val_loss: 9.4465e-04 - val_root_mean_squared_error: 0.0307 - 271ms/epoch - 3ms/step\n",
      "Epoch 74/1000\n",
      "102/102 - 0s - loss: 4.9852e-04 - root_mean_squared_error: 0.0223 - val_loss: 8.7754e-04 - val_root_mean_squared_error: 0.0296 - 304ms/epoch - 3ms/step\n",
      "Epoch 75/1000\n",
      "102/102 - 0s - loss: 4.6217e-04 - root_mean_squared_error: 0.0215 - val_loss: 8.2738e-04 - val_root_mean_squared_error: 0.0288 - 260ms/epoch - 3ms/step\n",
      "Epoch 76/1000\n",
      "102/102 - 0s - loss: 4.4305e-04 - root_mean_squared_error: 0.0210 - val_loss: 7.4654e-04 - val_root_mean_squared_error: 0.0273 - 262ms/epoch - 3ms/step\n",
      "Epoch 77/1000\n",
      "102/102 - 0s - loss: 4.0104e-04 - root_mean_squared_error: 0.0200 - val_loss: 6.9201e-04 - val_root_mean_squared_error: 0.0263 - 265ms/epoch - 3ms/step\n",
      "Epoch 78/1000\n",
      "102/102 - 0s - loss: 3.7592e-04 - root_mean_squared_error: 0.0194 - val_loss: 6.4440e-04 - val_root_mean_squared_error: 0.0254 - 269ms/epoch - 3ms/step\n",
      "Epoch 79/1000\n",
      "102/102 - 0s - loss: 3.4677e-04 - root_mean_squared_error: 0.0186 - val_loss: 5.9207e-04 - val_root_mean_squared_error: 0.0243 - 258ms/epoch - 3ms/step\n",
      "Epoch 80/1000\n",
      "102/102 - 0s - loss: 3.2172e-04 - root_mean_squared_error: 0.0179 - val_loss: 5.4494e-04 - val_root_mean_squared_error: 0.0233 - 267ms/epoch - 3ms/step\n",
      "Epoch 81/1000\n",
      "102/102 - 0s - loss: 2.9866e-04 - root_mean_squared_error: 0.0173 - val_loss: 4.9287e-04 - val_root_mean_squared_error: 0.0222 - 270ms/epoch - 3ms/step\n",
      "Epoch 82/1000\n",
      "102/102 - 0s - loss: 2.7817e-04 - root_mean_squared_error: 0.0167 - val_loss: 4.5669e-04 - val_root_mean_squared_error: 0.0214 - 269ms/epoch - 3ms/step\n",
      "Epoch 83/1000\n",
      "102/102 - 0s - loss: 2.5457e-04 - root_mean_squared_error: 0.0160 - val_loss: 4.1021e-04 - val_root_mean_squared_error: 0.0203 - 260ms/epoch - 3ms/step\n",
      "Epoch 84/1000\n",
      "102/102 - 0s - loss: 2.3802e-04 - root_mean_squared_error: 0.0154 - val_loss: 3.7419e-04 - val_root_mean_squared_error: 0.0193 - 278ms/epoch - 3ms/step\n",
      "Epoch 85/1000\n",
      "102/102 - 0s - loss: 2.1721e-04 - root_mean_squared_error: 0.0147 - val_loss: 3.4279e-04 - val_root_mean_squared_error: 0.0185 - 258ms/epoch - 3ms/step\n",
      "Epoch 86/1000\n",
      "102/102 - 0s - loss: 2.0171e-04 - root_mean_squared_error: 0.0142 - val_loss: 3.1743e-04 - val_root_mean_squared_error: 0.0178 - 258ms/epoch - 3ms/step\n",
      "Epoch 87/1000\n",
      "102/102 - 0s - loss: 1.8847e-04 - root_mean_squared_error: 0.0137 - val_loss: 2.8916e-04 - val_root_mean_squared_error: 0.0170 - 258ms/epoch - 3ms/step\n",
      "Epoch 88/1000\n",
      "102/102 - 0s - loss: 1.7267e-04 - root_mean_squared_error: 0.0131 - val_loss: 2.5936e-04 - val_root_mean_squared_error: 0.0161 - 274ms/epoch - 3ms/step\n",
      "Epoch 89/1000\n",
      "102/102 - 0s - loss: 1.6333e-04 - root_mean_squared_error: 0.0128 - val_loss: 2.3678e-04 - val_root_mean_squared_error: 0.0154 - 259ms/epoch - 3ms/step\n",
      "Epoch 90/1000\n",
      "102/102 - 0s - loss: 1.4812e-04 - root_mean_squared_error: 0.0122 - val_loss: 2.1428e-04 - val_root_mean_squared_error: 0.0146 - 252ms/epoch - 2ms/step\n",
      "Epoch 91/1000\n",
      "102/102 - 0s - loss: 1.3629e-04 - root_mean_squared_error: 0.0117 - val_loss: 1.9747e-04 - val_root_mean_squared_error: 0.0141 - 269ms/epoch - 3ms/step\n",
      "Epoch 92/1000\n",
      "102/102 - 0s - loss: 1.2563e-04 - root_mean_squared_error: 0.0112 - val_loss: 1.8060e-04 - val_root_mean_squared_error: 0.0134 - 272ms/epoch - 3ms/step\n",
      "Epoch 93/1000\n",
      "102/102 - 0s - loss: 1.1613e-04 - root_mean_squared_error: 0.0108 - val_loss: 1.7354e-04 - val_root_mean_squared_error: 0.0132 - 263ms/epoch - 3ms/step\n",
      "Epoch 94/1000\n",
      "102/102 - 0s - loss: 1.1137e-04 - root_mean_squared_error: 0.0106 - val_loss: 1.5391e-04 - val_root_mean_squared_error: 0.0124 - 271ms/epoch - 3ms/step\n",
      "Epoch 95/1000\n",
      "102/102 - 0s - loss: 1.0707e-04 - root_mean_squared_error: 0.0103 - val_loss: 1.4013e-04 - val_root_mean_squared_error: 0.0118 - 269ms/epoch - 3ms/step\n",
      "Epoch 96/1000\n",
      "102/102 - 0s - loss: 9.4793e-05 - root_mean_squared_error: 0.0097 - val_loss: 1.3553e-04 - val_root_mean_squared_error: 0.0116 - 314ms/epoch - 3ms/step\n",
      "Epoch 97/1000\n",
      "102/102 - 0s - loss: 8.8512e-05 - root_mean_squared_error: 0.0094 - val_loss: 1.2538e-04 - val_root_mean_squared_error: 0.0112 - 260ms/epoch - 3ms/step\n",
      "Epoch 98/1000\n",
      "102/102 - 0s - loss: 8.5768e-05 - root_mean_squared_error: 0.0093 - val_loss: 1.1454e-04 - val_root_mean_squared_error: 0.0107 - 256ms/epoch - 3ms/step\n",
      "Epoch 99/1000\n",
      "102/102 - 0s - loss: 7.8103e-05 - root_mean_squared_error: 0.0088 - val_loss: 1.0644e-04 - val_root_mean_squared_error: 0.0103 - 264ms/epoch - 3ms/step\n",
      "Epoch 100/1000\n",
      "102/102 - 0s - loss: 7.5073e-05 - root_mean_squared_error: 0.0087 - val_loss: 1.0303e-04 - val_root_mean_squared_error: 0.0102 - 267ms/epoch - 3ms/step\n",
      "Epoch 101/1000\n",
      "102/102 - 0s - loss: 6.8383e-05 - root_mean_squared_error: 0.0083 - val_loss: 9.4873e-05 - val_root_mean_squared_error: 0.0097 - 268ms/epoch - 3ms/step\n",
      "Epoch 102/1000\n",
      "102/102 - 0s - loss: 6.4577e-05 - root_mean_squared_error: 0.0080 - val_loss: 8.9500e-05 - val_root_mean_squared_error: 0.0095 - 258ms/epoch - 3ms/step\n",
      "Epoch 103/1000\n",
      "102/102 - 0s - loss: 6.1238e-05 - root_mean_squared_error: 0.0078 - val_loss: 8.3932e-05 - val_root_mean_squared_error: 0.0092 - 275ms/epoch - 3ms/step\n",
      "Epoch 104/1000\n",
      "102/102 - 0s - loss: 5.7188e-05 - root_mean_squared_error: 0.0076 - val_loss: 8.0115e-05 - val_root_mean_squared_error: 0.0090 - 252ms/epoch - 2ms/step\n",
      "Epoch 105/1000\n",
      "102/102 - 0s - loss: 5.3875e-05 - root_mean_squared_error: 0.0073 - val_loss: 8.0407e-05 - val_root_mean_squared_error: 0.0090 - 258ms/epoch - 3ms/step\n",
      "Epoch 106/1000\n",
      "102/102 - 0s - loss: 4.9549e-05 - root_mean_squared_error: 0.0070 - val_loss: 7.3272e-05 - val_root_mean_squared_error: 0.0086 - 254ms/epoch - 2ms/step\n",
      "Epoch 107/1000\n",
      "102/102 - 0s - loss: 4.7939e-05 - root_mean_squared_error: 0.0069 - val_loss: 7.6090e-05 - val_root_mean_squared_error: 0.0087 - 257ms/epoch - 3ms/step\n",
      "Epoch 108/1000\n",
      "102/102 - 0s - loss: 4.6615e-05 - root_mean_squared_error: 0.0068 - val_loss: 6.8800e-05 - val_root_mean_squared_error: 0.0083 - 256ms/epoch - 3ms/step\n",
      "Epoch 109/1000\n",
      "102/102 - 0s - loss: 4.3932e-05 - root_mean_squared_error: 0.0066 - val_loss: 6.9762e-05 - val_root_mean_squared_error: 0.0084 - 252ms/epoch - 2ms/step\n",
      "Epoch 110/1000\n",
      "102/102 - 0s - loss: 4.4810e-05 - root_mean_squared_error: 0.0067 - val_loss: 6.5302e-05 - val_root_mean_squared_error: 0.0081 - 245ms/epoch - 2ms/step\n",
      "Epoch 111/1000\n",
      "102/102 - 0s - loss: 4.2168e-05 - root_mean_squared_error: 0.0065 - val_loss: 6.7966e-05 - val_root_mean_squared_error: 0.0082 - 252ms/epoch - 2ms/step\n",
      "Epoch 112/1000\n",
      "102/102 - 0s - loss: 4.0323e-05 - root_mean_squared_error: 0.0064 - val_loss: 6.1605e-05 - val_root_mean_squared_error: 0.0078 - 255ms/epoch - 3ms/step\n",
      "Epoch 113/1000\n",
      "102/102 - 0s - loss: 3.7101e-05 - root_mean_squared_error: 0.0061 - val_loss: 6.0585e-05 - val_root_mean_squared_error: 0.0078 - 261ms/epoch - 3ms/step\n",
      "Epoch 114/1000\n",
      "102/102 - 0s - loss: 3.5905e-05 - root_mean_squared_error: 0.0060 - val_loss: 5.9013e-05 - val_root_mean_squared_error: 0.0077 - 273ms/epoch - 3ms/step\n",
      "Epoch 115/1000\n",
      "102/102 - 0s - loss: 3.4126e-05 - root_mean_squared_error: 0.0058 - val_loss: 5.7516e-05 - val_root_mean_squared_error: 0.0076 - 261ms/epoch - 3ms/step\n",
      "Epoch 116/1000\n",
      "102/102 - 0s - loss: 3.4442e-05 - root_mean_squared_error: 0.0059 - val_loss: 5.6182e-05 - val_root_mean_squared_error: 0.0075 - 265ms/epoch - 3ms/step\n",
      "Epoch 117/1000\n",
      "102/102 - 0s - loss: 3.2703e-05 - root_mean_squared_error: 0.0057 - val_loss: 6.1846e-05 - val_root_mean_squared_error: 0.0079 - 273ms/epoch - 3ms/step\n",
      "Epoch 118/1000\n",
      "102/102 - 0s - loss: 3.1224e-05 - root_mean_squared_error: 0.0056 - val_loss: 5.9783e-05 - val_root_mean_squared_error: 0.0077 - 255ms/epoch - 2ms/step\n"
     ]
    }
   ],
   "source": [
    "# fit the model\n",
    "history = model.fit(\n",
    "    train_inputs, train_targets, batch_size=BATCH_SIZE,epochs=MAX_EPOCHS, callbacks=[early_stopping], validation_data=(validation_inputs, validation_targets), verbose=2\n",
    "          )"
   ]
  },
  {
   "cell_type": "code",
   "execution_count": 103,
   "metadata": {},
   "outputs": [
    {
     "name": "stdout",
     "output_type": "stream",
     "text": [
      "Model: \"sequential_6\"\n",
      "_________________________________________________________________\n",
      " Layer (type)                Output Shape              Param #   \n",
      "=================================================================\n",
      " dense_35 (Dense)            (1, 3)                    12        \n",
      "                                                                 \n",
      " dense_36 (Dense)            (1, 10)                   40        \n",
      "                                                                 \n",
      " dense_37 (Dense)            (1, 10)                   110       \n",
      "                                                                 \n",
      " dense_38 (Dense)            (1, 10)                   110       \n",
      "                                                                 \n",
      " dense_39 (Dense)            (1, 1)                    11        \n",
      "                                                                 \n",
      "=================================================================\n",
      "Total params: 283\n",
      "Trainable params: 283\n",
      "Non-trainable params: 0\n",
      "_________________________________________________________________\n"
     ]
    }
   ],
   "source": [
    "# ANN model summary\n",
    "model.summary()"
   ]
  },
  {
   "cell_type": "code",
   "execution_count": 104,
   "metadata": {},
   "outputs": [
    {
     "data": {
      "image/png": "[encoded data removed]",
      "text/plain": [
       "<Figure size 640x480 with 1 Axes>"
      ]
     },
     "metadata": {},
     "output_type": "display_data"
    }
   ],
   "source": [
    "import matplotlib.pyplot as plt\n",
    "plt.plot(history.history['loss'], label='Training_loss')\n",
    "plt.plot(history.history['val_loss'], label='Validation_loss')\n",
    "plt.xlabel('epochs')\n",
    "plt.ylabel('loss')\n",
    "plt.legend()\n",
    "plt.show()"
   ]
  },
  {
   "cell_type": "markdown",
   "metadata": {},
   "source": [
    "# Model check on Test data"
   ]
  },
  {
   "cell_type": "code",
   "execution_count": 105,
   "metadata": {},
   "outputs": [
    {
     "name": "stdout",
     "output_type": "stream",
     "text": [
      "1/1 [==============================] - 0s 346ms/step - loss: 3.6772e-05 - root_mean_squared_error: 0.0061\n"
     ]
    }
   ],
   "source": [
    "test_loss, test_accuracy = model.evaluate(test_inputs, test_targets)"
   ]
  },
  {
   "cell_type": "code",
   "execution_count": 106,
   "metadata": {},
   "outputs": [
    {
     "name": "stdout",
     "output_type": "stream",
     "text": [
      "\n",
      "Test loss: 0.0000. Test accuracy: 0.0061 rmse\n"
     ]
    }
   ],
   "source": [
    "print('\\nTest loss: {0:.4f}. Test accuracy: {1:.4f} rmse'.format(test_loss, test_accuracy))"
   ]
  },
  {
   "cell_type": "code",
   "execution_count": 107,
   "metadata": {},
   "outputs": [
    {
     "name": "stdout",
     "output_type": "stream",
     "text": [
      "WARNING:tensorflow:6 out of the last 9 calls to <function Model.make_predict_function.<locals>.predict_function at 0x153b784c0> triggered tf.function retracing. Tracing is expensive and the excessive number of tracings could be due to (1) creating @tf.function repeatedly in a loop, (2) passing tensors with different shapes, (3) passing Python objects instead of tensors. For (1), please define your @tf.function outside of the loop. For (2), @tf.function has reduce_retracing=True option that can avoid unnecessary retracing. For (3), please refer to https://www.tensorflow.org/guide/function#controlling_retracing and https://www.tensorflow.org/api_docs/python/tf/function for  more details.\n",
      "1/1 [==============================] - 0s 138ms/step\n"
     ]
    },
    {
     "data": {
      "text/html": [
       "<div>\n",
       "<style scoped>\n",
       "    .dataframe tbody tr th:only-of-type {\n",
       "        vertical-align: middle;\n",
       "    }\n",
       "\n",
       "    .dataframe tbody tr th {\n",
       "        vertical-align: top;\n",
       "    }\n",
       "\n",
       "    .dataframe thead th {\n",
       "        text-align: right;\n",
       "    }\n",
       "</style>\n",
       "<table border=\"1\" class=\"dataframe\">\n",
       "  <thead>\n",
       "    <tr style=\"text-align: right;\">\n",
       "      <th></th>\n",
       "      <th>Target-St(%)</th>\n",
       "      <th>Prediction-St(%)</th>\n",
       "      <th>Pred-Accu-St(%)</th>\n",
       "    </tr>\n",
       "  </thead>\n",
       "  <tbody>\n",
       "    <tr>\n",
       "      <th>0</th>\n",
       "      <td>0.94</td>\n",
       "      <td>0.94</td>\n",
       "      <td>100.00</td>\n",
       "    </tr>\n",
       "    <tr>\n",
       "      <th>1</th>\n",
       "      <td>0.95</td>\n",
       "      <td>0.94</td>\n",
       "      <td>98.95</td>\n",
       "    </tr>\n",
       "    <tr>\n",
       "      <th>2</th>\n",
       "      <td>0.94</td>\n",
       "      <td>0.94</td>\n",
       "      <td>100.00</td>\n",
       "    </tr>\n",
       "    <tr>\n",
       "      <th>3</th>\n",
       "      <td>0.95</td>\n",
       "      <td>0.96</td>\n",
       "      <td>101.05</td>\n",
       "    </tr>\n",
       "    <tr>\n",
       "      <th>4</th>\n",
       "      <td>0.98</td>\n",
       "      <td>0.98</td>\n",
       "      <td>100.00</td>\n",
       "    </tr>\n",
       "    <tr>\n",
       "      <th>5</th>\n",
       "      <td>0.99</td>\n",
       "      <td>0.99</td>\n",
       "      <td>100.00</td>\n",
       "    </tr>\n",
       "    <tr>\n",
       "      <th>6</th>\n",
       "      <td>0.98</td>\n",
       "      <td>0.97</td>\n",
       "      <td>98.98</td>\n",
       "    </tr>\n",
       "    <tr>\n",
       "      <th>7</th>\n",
       "      <td>0.98</td>\n",
       "      <td>0.97</td>\n",
       "      <td>98.98</td>\n",
       "    </tr>\n",
       "    <tr>\n",
       "      <th>8</th>\n",
       "      <td>0.97</td>\n",
       "      <td>0.97</td>\n",
       "      <td>100.00</td>\n",
       "    </tr>\n",
       "    <tr>\n",
       "      <th>9</th>\n",
       "      <td>0.99</td>\n",
       "      <td>0.98</td>\n",
       "      <td>98.99</td>\n",
       "    </tr>\n",
       "    <tr>\n",
       "      <th>10</th>\n",
       "      <td>0.99</td>\n",
       "      <td>0.99</td>\n",
       "      <td>100.00</td>\n",
       "    </tr>\n",
       "    <tr>\n",
       "      <th>11</th>\n",
       "      <td>0.99</td>\n",
       "      <td>0.99</td>\n",
       "      <td>100.00</td>\n",
       "    </tr>\n",
       "    <tr>\n",
       "      <th>12</th>\n",
       "      <td>0.94</td>\n",
       "      <td>0.94</td>\n",
       "      <td>100.00</td>\n",
       "    </tr>\n",
       "  </tbody>\n",
       "</table>\n",
       "</div>"
      ],
      "text/plain": [
       "    Target-St(%)  Prediction-St(%)  Pred-Accu-St(%)\n",
       "0           0.94              0.94           100.00\n",
       "1           0.95              0.94            98.95\n",
       "2           0.94              0.94           100.00\n",
       "3           0.95              0.96           101.05\n",
       "4           0.98              0.98           100.00\n",
       "5           0.99              0.99           100.00\n",
       "6           0.98              0.97            98.98\n",
       "7           0.98              0.97            98.98\n",
       "8           0.97              0.97           100.00\n",
       "9           0.99              0.98            98.99\n",
       "10          0.99              0.99           100.00\n",
       "11          0.99              0.99           100.00\n",
       "12          0.94              0.94           100.00"
      ]
     },
     "execution_count": 107,
     "metadata": {},
     "output_type": "execute_result"
    }
   ],
   "source": [
    "prediction = model.predict(test_inputs)\n",
    "data_inputs = pd.DataFrame(test_inputs)\n",
    "prediction = pd.DataFrame(np.round(prediction,2))\n",
    "test_targets = pd.DataFrame(test_targets)\n",
    "pred_accu = np.round((prediction/test_targets)*100,2)\n",
    "\n",
    "result = pd.concat([test_targets, prediction, pred_accu], axis = 1, ignore_index=True)\n",
    "result.columns = ['Target-St(%)', 'Prediction-St(%)','Pred-Accu-St(%)']\n",
    "result"
   ]
  },
  {
   "cell_type": "code",
   "execution_count": 108,
   "metadata": {},
   "outputs": [
    {
     "data": {
      "text/plain": [
       "Text(0.5, 0, 'Targets (red) & Predictions (blue)')"
      ]
     },
     "execution_count": 108,
     "metadata": {},
     "output_type": "execute_result"
    },
    {
     "data": {
      "image/png": "[encoded data removed]",
      "text/plain": [
       "<Figure size 640x480 with 1 Axes>"
      ]
     },
     "metadata": {},
     "output_type": "display_data"
    }
   ],
   "source": [
    "plt.scatter(result['Target-St(%)'], result['Pred-Accu-St(%)'], color='r')\n",
    "plt.scatter(result['Prediction-St(%)'], result['Pred-Accu-St(%)'],alpha=0.4, color='b')\n",
    "plt.ylabel('Error in the prediction(%)')\n",
    "plt.xlabel('Targets (red) & Predictions (blue)')"
   ]
  },
  {
   "cell_type": "code",
   "execution_count": 109,
   "metadata": {},
   "outputs": [
    {
     "data": {
      "text/plain": [
       "Text(0.5, 0, 'Targets')"
      ]
     },
     "execution_count": 109,
     "metadata": {},
     "output_type": "execute_result"
    },
    {
     "data": {
      "image/png": "[encoded data removed]",
      "text/plain": [
       "<Figure size 640x480 with 1 Axes>"
      ]
     },
     "metadata": {},
     "output_type": "display_data"
    }
   ],
   "source": [
    "plt.scatter(result['Target-St(%)'], result['Prediction-St(%)'], alpha=0.3, color='g')\n",
    "plt.ylabel('predictions')\n",
    "plt.xlabel('Targets')"
   ]
  },
  {
   "cell_type": "code",
   "execution_count": 110,
   "metadata": {},
   "outputs": [
    {
     "data": {
      "text/plain": [
       "0.9068771460670636"
      ]
     },
     "execution_count": 110,
     "metadata": {},
     "output_type": "execute_result"
    }
   ],
   "source": [
    "# estimation of R2 score\n",
    "from sklearn.metrics import r2_score\n",
    "r2_score_test = r2_score(test_targets, prediction)\n",
    "r2_score_test"
   ]
  },
  {
   "cell_type": "code",
   "execution_count": 111,
   "metadata": {},
   "outputs": [
    {
     "data": {
      "text/plain": [
       "0.8758361947560848"
      ]
     },
     "execution_count": 111,
     "metadata": {},
     "output_type": "execute_result"
    }
   ],
   "source": [
    "# estimation of adjusted R2 score\n",
    "n = np.size(test_targets)\n",
    "k = 3 # number of features\n",
    "adj_r2_score = 1 - (((1-r2_score_test)*(n-1))/((n-k-1)))\n",
    "adj_r2_score"
   ]
  },
  {
   "cell_type": "code",
   "execution_count": 112,
   "metadata": {},
   "outputs": [
    {
     "name": "stdout",
     "output_type": "stream",
     "text": [
      "Uncertainty of the ANN model: 0.62 [%]\n",
      "Average test prediction precision 99.38 [%]\n"
     ]
    }
   ],
   "source": [
    "mean_pred = pred_accu.mean()\n",
    "std_pred = pred_accu.std()\n",
    "uncertainty_model = std_pred\n",
    "print(\"Uncertainty of the ANN model:\", np.round(uncertainty_model[0],2), '[%]')\n",
    "print(\"Average test prediction precision\", np.round(100 - uncertainty_model[0],2), '[%]')"
   ]
  },
  {
   "cell_type": "markdown",
   "metadata": {},
   "source": [
    "# ANN Model Deployment"
   ]
  },
  {
   "cell_type": "markdown",
   "metadata": {},
   "source": [
    "ANN model deployment for micro DSC error prediction"
   ]
  },
  {
   "cell_type": "code",
   "execution_count": 113,
   "metadata": {},
   "outputs": [],
   "source": [
    "import keras\n",
    "model.save('micro_dsc_dl.h5')"
   ]
  },
  {
   "cell_type": "code",
   "execution_count": null,
   "metadata": {},
   "outputs": [],
   "source": []
  }
 ],
 "metadata": {
  "kernelspec": {
   "display_name": ".venv",
   "language": "python",
   "name": "python3"
  },
  "language_info": {
   "codemirror_mode": {
    "name": "ipython",
    "version": 3
   },
   "file_extension": ".py",
   "mimetype": "text/x-python",
   "name": "python",
   "nbconvert_exporter": "python",
   "pygments_lexer": "ipython3",
   "version": "3.8.9"
  },
  "orig_nbformat": 4,
  "vscode": {
   "interpreter": {
    "hash": "795fce77f85a68c42812bdf3641cf800dca9a871e04df385e26cc90e90697f34"
   }
  }
 },
 "nbformat": 4,
 "nbformat_minor": 2
}
