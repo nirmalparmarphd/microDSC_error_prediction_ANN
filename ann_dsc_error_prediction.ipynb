{
 "cells": [
  {
   "cell_type": "markdown",
   "metadata": {},
   "source": [
    "# DNN Model"
   ]
  },
  {
   "cell_type": "code",
   "execution_count": 8,
   "metadata": {},
   "outputs": [],
   "source": [
    "import numpy as np\n",
    "import pandas as pd\n",
    "import tensorflow as tf"
   ]
  },
  {
   "cell_type": "code",
   "execution_count": 9,
   "metadata": {},
   "outputs": [],
   "source": [
    "# data loading from .npz generated from tcr_data_process.ipynb\n",
    "# loading train data\n",
    "npz = np.load('data_train.npz')\n",
    "train_inputs = npz['input'].astype(np.float64)\n",
    "train_targets = npz['targets'].astype(np.float64)\n",
    "# loading validation data\n",
    "npz = np.load('data_validation.npz')\n",
    "validation_inputs, validation_targets = npz['input'].astype(np.float64), npz['targets'].astype(np.float64)\n",
    "\n",
    "npz = np.load('data_test.npz')\n",
    "test_inputs, test_targets = npz['input'].astype(np.float64), npz['targets'].astype(np.float64)"
   ]
  },
  {
   "cell_type": "markdown",
   "metadata": {},
   "source": [
    "# ANN Model"
   ]
  },
  {
   "cell_type": "markdown",
   "metadata": {},
   "source": [
    "Outline, Optimizer, Loss function, Early stopping and Training rate"
   ]
  },
  {
   "cell_type": "code",
   "execution_count": 10,
   "metadata": {},
   "outputs": [],
   "source": [
    "# NN model prep\n",
    "input_size =3\n",
    "output_size = 1\n",
    "hidden_layer_size = 5\n",
    "\n",
    "model = tf.keras.Sequential([\n",
    "    tf.keras.layers.Dense(hidden_layer_size, activation='relu'),\n",
    "    tf.keras.layers.Dense(hidden_layer_size, activation='relu'),\n",
    "    tf.keras.layers.Dense(hidden_layer_size, activation='relu'),\n",
    "    tf.keras.layers.Dense(output_size, activation='linear')\n",
    "])\n"
   ]
  },
  {
   "cell_type": "code",
   "execution_count": 11,
   "metadata": {},
   "outputs": [],
   "source": [
    "# model prep, optimizer and loss function\n",
    "optimizer = tf.keras.optimizers.Adam(learning_rate=0.0001)\n",
    "model.compile(optimizer, loss=tf.keras.losses.MeanSquaredError(),metrics=[tf.keras.metrics.RootMeanSquaredError()])\n"
   ]
  },
  {
   "cell_type": "code",
   "execution_count": 12,
   "metadata": {},
   "outputs": [],
   "source": [
    "# Training\n",
    "BATCH_SIZE = 1\n",
    "MAX_EPOCHS = 1000\n",
    "early_stopping = tf.keras.callbacks.EarlyStopping(patience=2)"
   ]
  },
  {
   "cell_type": "code",
   "execution_count": 13,
   "metadata": {},
   "outputs": [
    {
     "name": "stdout",
     "output_type": "stream",
     "text": [
      "Epoch 1/1000\n",
      "102/102 - 1s - loss: 1.6969 - root_mean_squared_error: 1.3027 - val_loss: 1.7431 - val_root_mean_squared_error: 1.3203 - 900ms/epoch - 9ms/step\n",
      "Epoch 2/1000\n",
      "102/102 - 0s - loss: 1.5349 - root_mean_squared_error: 1.2389 - val_loss: 1.5776 - val_root_mean_squared_error: 1.2560 - 193ms/epoch - 2ms/step\n",
      "Epoch 3/1000\n",
      "102/102 - 0s - loss: 1.3915 - root_mean_squared_error: 1.1796 - val_loss: 1.4265 - val_root_mean_squared_error: 1.1944 - 176ms/epoch - 2ms/step\n",
      "Epoch 4/1000\n",
      "102/102 - 0s - loss: 1.2641 - root_mean_squared_error: 1.1243 - val_loss: 1.2921 - val_root_mean_squared_error: 1.1367 - 157ms/epoch - 2ms/step\n",
      "Epoch 5/1000\n",
      "102/102 - 0s - loss: 1.1512 - root_mean_squared_error: 1.0729 - val_loss: 1.1688 - val_root_mean_squared_error: 1.0811 - 162ms/epoch - 2ms/step\n",
      "Epoch 6/1000\n",
      "102/102 - 0s - loss: 1.0493 - root_mean_squared_error: 1.0244 - val_loss: 1.0600 - val_root_mean_squared_error: 1.0296 - 186ms/epoch - 2ms/step\n",
      "Epoch 7/1000\n",
      "102/102 - 0s - loss: 0.9583 - root_mean_squared_error: 0.9789 - val_loss: 0.9583 - val_root_mean_squared_error: 0.9789 - 247ms/epoch - 2ms/step\n",
      "Epoch 8/1000\n",
      "102/102 - 0s - loss: 0.8770 - root_mean_squared_error: 0.9365 - val_loss: 0.8703 - val_root_mean_squared_error: 0.9329 - 207ms/epoch - 2ms/step\n",
      "Epoch 9/1000\n",
      "102/102 - 0s - loss: 0.8032 - root_mean_squared_error: 0.8962 - val_loss: 0.7910 - val_root_mean_squared_error: 0.8894 - 153ms/epoch - 1ms/step\n",
      "Epoch 10/1000\n",
      "102/102 - 0s - loss: 0.7322 - root_mean_squared_error: 0.8557 - val_loss: 0.7184 - val_root_mean_squared_error: 0.8476 - 152ms/epoch - 1ms/step\n",
      "Epoch 11/1000\n",
      "102/102 - 0s - loss: 0.6672 - root_mean_squared_error: 0.8169 - val_loss: 0.6486 - val_root_mean_squared_error: 0.8054 - 146ms/epoch - 1ms/step\n",
      "Epoch 12/1000\n",
      "102/102 - 0s - loss: 0.6061 - root_mean_squared_error: 0.7785 - val_loss: 0.5810 - val_root_mean_squared_error: 0.7622 - 196ms/epoch - 2ms/step\n",
      "Epoch 13/1000\n",
      "102/102 - 0s - loss: 0.5468 - root_mean_squared_error: 0.7395 - val_loss: 0.5150 - val_root_mean_squared_error: 0.7176 - 163ms/epoch - 2ms/step\n",
      "Epoch 14/1000\n",
      "102/102 - 0s - loss: 0.4934 - root_mean_squared_error: 0.7024 - val_loss: 0.4593 - val_root_mean_squared_error: 0.6777 - 154ms/epoch - 2ms/step\n",
      "Epoch 15/1000\n",
      "102/102 - 0s - loss: 0.4472 - root_mean_squared_error: 0.6687 - val_loss: 0.4121 - val_root_mean_squared_error: 0.6419 - 159ms/epoch - 2ms/step\n",
      "Epoch 16/1000\n",
      "102/102 - 0s - loss: 0.4062 - root_mean_squared_error: 0.6373 - val_loss: 0.3666 - val_root_mean_squared_error: 0.6055 - 173ms/epoch - 2ms/step\n",
      "Epoch 17/1000\n",
      "102/102 - 0s - loss: 0.3704 - root_mean_squared_error: 0.6086 - val_loss: 0.3290 - val_root_mean_squared_error: 0.5736 - 163ms/epoch - 2ms/step\n",
      "Epoch 18/1000\n",
      "102/102 - 0s - loss: 0.3396 - root_mean_squared_error: 0.5827 - val_loss: 0.2975 - val_root_mean_squared_error: 0.5454 - 175ms/epoch - 2ms/step\n",
      "Epoch 19/1000\n",
      "102/102 - 0s - loss: 0.3127 - root_mean_squared_error: 0.5592 - val_loss: 0.2708 - val_root_mean_squared_error: 0.5204 - 204ms/epoch - 2ms/step\n",
      "Epoch 20/1000\n",
      "102/102 - 0s - loss: 0.2910 - root_mean_squared_error: 0.5394 - val_loss: 0.2505 - val_root_mean_squared_error: 0.5005 - 206ms/epoch - 2ms/step\n",
      "Epoch 21/1000\n",
      "102/102 - 0s - loss: 0.2726 - root_mean_squared_error: 0.5221 - val_loss: 0.2326 - val_root_mean_squared_error: 0.4823 - 157ms/epoch - 2ms/step\n",
      "Epoch 22/1000\n",
      "102/102 - 0s - loss: 0.2551 - root_mean_squared_error: 0.5050 - val_loss: 0.2148 - val_root_mean_squared_error: 0.4634 - 146ms/epoch - 1ms/step\n",
      "Epoch 23/1000\n",
      "102/102 - 0s - loss: 0.2391 - root_mean_squared_error: 0.4890 - val_loss: 0.1993 - val_root_mean_squared_error: 0.4465 - 146ms/epoch - 1ms/step\n",
      "Epoch 24/1000\n",
      "102/102 - 0s - loss: 0.2245 - root_mean_squared_error: 0.4738 - val_loss: 0.1855 - val_root_mean_squared_error: 0.4307 - 146ms/epoch - 1ms/step\n",
      "Epoch 25/1000\n",
      "102/102 - 0s - loss: 0.2098 - root_mean_squared_error: 0.4581 - val_loss: 0.1707 - val_root_mean_squared_error: 0.4131 - 145ms/epoch - 1ms/step\n",
      "Epoch 26/1000\n",
      "102/102 - 0s - loss: 0.1934 - root_mean_squared_error: 0.4397 - val_loss: 0.1549 - val_root_mean_squared_error: 0.3936 - 147ms/epoch - 1ms/step\n",
      "Epoch 27/1000\n",
      "102/102 - 0s - loss: 0.1779 - root_mean_squared_error: 0.4217 - val_loss: 0.1419 - val_root_mean_squared_error: 0.3766 - 148ms/epoch - 1ms/step\n",
      "Epoch 28/1000\n",
      "102/102 - 0s - loss: 0.1638 - root_mean_squared_error: 0.4048 - val_loss: 0.1290 - val_root_mean_squared_error: 0.3592 - 151ms/epoch - 1ms/step\n",
      "Epoch 29/1000\n",
      "102/102 - 0s - loss: 0.1508 - root_mean_squared_error: 0.3884 - val_loss: 0.1178 - val_root_mean_squared_error: 0.3432 - 148ms/epoch - 1ms/step\n",
      "Epoch 30/1000\n",
      "102/102 - 0s - loss: 0.1387 - root_mean_squared_error: 0.3725 - val_loss: 0.1073 - val_root_mean_squared_error: 0.3276 - 147ms/epoch - 1ms/step\n",
      "Epoch 31/1000\n",
      "102/102 - 0s - loss: 0.1277 - root_mean_squared_error: 0.3573 - val_loss: 0.0975 - val_root_mean_squared_error: 0.3123 - 149ms/epoch - 1ms/step\n",
      "Epoch 32/1000\n",
      "102/102 - 0s - loss: 0.1174 - root_mean_squared_error: 0.3427 - val_loss: 0.0891 - val_root_mean_squared_error: 0.2984 - 165ms/epoch - 2ms/step\n",
      "Epoch 33/1000\n",
      "102/102 - 0s - loss: 0.1083 - root_mean_squared_error: 0.3291 - val_loss: 0.0816 - val_root_mean_squared_error: 0.2856 - 149ms/epoch - 1ms/step\n",
      "Epoch 34/1000\n",
      "102/102 - 0s - loss: 0.1002 - root_mean_squared_error: 0.3166 - val_loss: 0.0749 - val_root_mean_squared_error: 0.2737 - 145ms/epoch - 1ms/step\n",
      "Epoch 35/1000\n",
      "102/102 - 0s - loss: 0.0927 - root_mean_squared_error: 0.3045 - val_loss: 0.0682 - val_root_mean_squared_error: 0.2612 - 149ms/epoch - 1ms/step\n",
      "Epoch 36/1000\n",
      "102/102 - 0s - loss: 0.0854 - root_mean_squared_error: 0.2923 - val_loss: 0.0622 - val_root_mean_squared_error: 0.2494 - 146ms/epoch - 1ms/step\n",
      "Epoch 37/1000\n",
      "102/102 - 0s - loss: 0.0786 - root_mean_squared_error: 0.2804 - val_loss: 0.0567 - val_root_mean_squared_error: 0.2380 - 145ms/epoch - 1ms/step\n",
      "Epoch 38/1000\n",
      "102/102 - 0s - loss: 0.0724 - root_mean_squared_error: 0.2691 - val_loss: 0.0519 - val_root_mean_squared_error: 0.2278 - 144ms/epoch - 1ms/step\n",
      "Epoch 39/1000\n",
      "102/102 - 0s - loss: 0.0669 - root_mean_squared_error: 0.2586 - val_loss: 0.0475 - val_root_mean_squared_error: 0.2180 - 144ms/epoch - 1ms/step\n",
      "Epoch 40/1000\n",
      "102/102 - 0s - loss: 0.0618 - root_mean_squared_error: 0.2486 - val_loss: 0.0435 - val_root_mean_squared_error: 0.2086 - 146ms/epoch - 1ms/step\n",
      "Epoch 41/1000\n",
      "102/102 - 0s - loss: 0.0571 - root_mean_squared_error: 0.2390 - val_loss: 0.0400 - val_root_mean_squared_error: 0.1999 - 145ms/epoch - 1ms/step\n",
      "Epoch 42/1000\n",
      "102/102 - 0s - loss: 0.0530 - root_mean_squared_error: 0.2301 - val_loss: 0.0368 - val_root_mean_squared_error: 0.1917 - 144ms/epoch - 1ms/step\n",
      "Epoch 43/1000\n",
      "102/102 - 0s - loss: 0.0492 - root_mean_squared_error: 0.2217 - val_loss: 0.0340 - val_root_mean_squared_error: 0.1845 - 149ms/epoch - 1ms/step\n",
      "Epoch 44/1000\n",
      "102/102 - 0s - loss: 0.0459 - root_mean_squared_error: 0.2142 - val_loss: 0.0317 - val_root_mean_squared_error: 0.1780 - 144ms/epoch - 1ms/step\n",
      "Epoch 45/1000\n",
      "102/102 - 0s - loss: 0.0428 - root_mean_squared_error: 0.2069 - val_loss: 0.0295 - val_root_mean_squared_error: 0.1716 - 155ms/epoch - 2ms/step\n",
      "Epoch 46/1000\n",
      "102/102 - 0s - loss: 0.0400 - root_mean_squared_error: 0.1999 - val_loss: 0.0275 - val_root_mean_squared_error: 0.1657 - 150ms/epoch - 1ms/step\n",
      "Epoch 47/1000\n",
      "102/102 - 0s - loss: 0.0373 - root_mean_squared_error: 0.1932 - val_loss: 0.0256 - val_root_mean_squared_error: 0.1601 - 147ms/epoch - 1ms/step\n",
      "Epoch 48/1000\n",
      "102/102 - 0s - loss: 0.0349 - root_mean_squared_error: 0.1869 - val_loss: 0.0240 - val_root_mean_squared_error: 0.1549 - 145ms/epoch - 1ms/step\n",
      "Epoch 49/1000\n",
      "102/102 - 0s - loss: 0.0326 - root_mean_squared_error: 0.1807 - val_loss: 0.0224 - val_root_mean_squared_error: 0.1498 - 147ms/epoch - 1ms/step\n",
      "Epoch 50/1000\n",
      "102/102 - 0s - loss: 0.0305 - root_mean_squared_error: 0.1745 - val_loss: 0.0207 - val_root_mean_squared_error: 0.1439 - 148ms/epoch - 1ms/step\n",
      "Epoch 51/1000\n",
      "102/102 - 0s - loss: 0.0282 - root_mean_squared_error: 0.1678 - val_loss: 0.0191 - val_root_mean_squared_error: 0.1382 - 143ms/epoch - 1ms/step\n",
      "Epoch 52/1000\n",
      "102/102 - 0s - loss: 0.0261 - root_mean_squared_error: 0.1615 - val_loss: 0.0175 - val_root_mean_squared_error: 0.1322 - 139ms/epoch - 1ms/step\n",
      "Epoch 53/1000\n",
      "102/102 - 0s - loss: 0.0241 - root_mean_squared_error: 0.1553 - val_loss: 0.0161 - val_root_mean_squared_error: 0.1271 - 146ms/epoch - 1ms/step\n",
      "Epoch 54/1000\n",
      "102/102 - 0s - loss: 0.0223 - root_mean_squared_error: 0.1492 - val_loss: 0.0147 - val_root_mean_squared_error: 0.1214 - 150ms/epoch - 1ms/step\n",
      "Epoch 55/1000\n",
      "102/102 - 0s - loss: 0.0206 - root_mean_squared_error: 0.1435 - val_loss: 0.0136 - val_root_mean_squared_error: 0.1167 - 145ms/epoch - 1ms/step\n",
      "Epoch 56/1000\n",
      "102/102 - 0s - loss: 0.0191 - root_mean_squared_error: 0.1382 - val_loss: 0.0126 - val_root_mean_squared_error: 0.1124 - 146ms/epoch - 1ms/step\n",
      "Epoch 57/1000\n",
      "102/102 - 0s - loss: 0.0178 - root_mean_squared_error: 0.1334 - val_loss: 0.0116 - val_root_mean_squared_error: 0.1078 - 145ms/epoch - 1ms/step\n",
      "Epoch 58/1000\n",
      "102/102 - 0s - loss: 0.0165 - root_mean_squared_error: 0.1284 - val_loss: 0.0108 - val_root_mean_squared_error: 0.1040 - 165ms/epoch - 2ms/step\n",
      "Epoch 59/1000\n",
      "102/102 - 0s - loss: 0.0153 - root_mean_squared_error: 0.1239 - val_loss: 0.0100 - val_root_mean_squared_error: 0.1001 - 145ms/epoch - 1ms/step\n",
      "Epoch 60/1000\n",
      "102/102 - 0s - loss: 0.0143 - root_mean_squared_error: 0.1196 - val_loss: 0.0093 - val_root_mean_squared_error: 0.0965 - 159ms/epoch - 2ms/step\n",
      "Epoch 61/1000\n",
      "102/102 - 0s - loss: 0.0134 - root_mean_squared_error: 0.1156 - val_loss: 0.0086 - val_root_mean_squared_error: 0.0928 - 148ms/epoch - 1ms/step\n",
      "Epoch 62/1000\n",
      "102/102 - 0s - loss: 0.0124 - root_mean_squared_error: 0.1114 - val_loss: 0.0080 - val_root_mean_squared_error: 0.0894 - 155ms/epoch - 2ms/step\n",
      "Epoch 63/1000\n",
      "102/102 - 0s - loss: 0.0115 - root_mean_squared_error: 0.1075 - val_loss: 0.0074 - val_root_mean_squared_error: 0.0863 - 158ms/epoch - 2ms/step\n",
      "Epoch 64/1000\n",
      "102/102 - 0s - loss: 0.0108 - root_mean_squared_error: 0.1038 - val_loss: 0.0069 - val_root_mean_squared_error: 0.0831 - 150ms/epoch - 1ms/step\n",
      "Epoch 65/1000\n",
      "102/102 - 0s - loss: 0.0100 - root_mean_squared_error: 0.1002 - val_loss: 0.0064 - val_root_mean_squared_error: 0.0799 - 160ms/epoch - 2ms/step\n",
      "Epoch 66/1000\n",
      "102/102 - 0s - loss: 0.0093 - root_mean_squared_error: 0.0967 - val_loss: 0.0060 - val_root_mean_squared_error: 0.0773 - 156ms/epoch - 2ms/step\n",
      "Epoch 67/1000\n",
      "102/102 - 0s - loss: 0.0087 - root_mean_squared_error: 0.0932 - val_loss: 0.0055 - val_root_mean_squared_error: 0.0743 - 157ms/epoch - 2ms/step\n",
      "Epoch 68/1000\n",
      "102/102 - 0s - loss: 0.0081 - root_mean_squared_error: 0.0898 - val_loss: 0.0051 - val_root_mean_squared_error: 0.0716 - 159ms/epoch - 2ms/step\n",
      "Epoch 69/1000\n",
      "102/102 - 0s - loss: 0.0074 - root_mean_squared_error: 0.0859 - val_loss: 0.0048 - val_root_mean_squared_error: 0.0689 - 157ms/epoch - 2ms/step\n",
      "Epoch 70/1000\n",
      "102/102 - 0s - loss: 0.0067 - root_mean_squared_error: 0.0820 - val_loss: 0.0044 - val_root_mean_squared_error: 0.0661 - 145ms/epoch - 1ms/step\n",
      "Epoch 71/1000\n",
      "102/102 - 0s - loss: 0.0062 - root_mean_squared_error: 0.0784 - val_loss: 0.0041 - val_root_mean_squared_error: 0.0637 - 152ms/epoch - 1ms/step\n",
      "Epoch 72/1000\n",
      "102/102 - 0s - loss: 0.0056 - root_mean_squared_error: 0.0750 - val_loss: 0.0038 - val_root_mean_squared_error: 0.0616 - 163ms/epoch - 2ms/step\n",
      "Epoch 73/1000\n",
      "102/102 - 0s - loss: 0.0051 - root_mean_squared_error: 0.0717 - val_loss: 0.0034 - val_root_mean_squared_error: 0.0585 - 147ms/epoch - 1ms/step\n",
      "Epoch 74/1000\n",
      "102/102 - 0s - loss: 0.0047 - root_mean_squared_error: 0.0686 - val_loss: 0.0032 - val_root_mean_squared_error: 0.0564 - 160ms/epoch - 2ms/step\n",
      "Epoch 75/1000\n",
      "102/102 - 0s - loss: 0.0043 - root_mean_squared_error: 0.0654 - val_loss: 0.0029 - val_root_mean_squared_error: 0.0543 - 156ms/epoch - 2ms/step\n",
      "Epoch 76/1000\n",
      "102/102 - 0s - loss: 0.0039 - root_mean_squared_error: 0.0625 - val_loss: 0.0027 - val_root_mean_squared_error: 0.0522 - 150ms/epoch - 1ms/step\n",
      "Epoch 77/1000\n",
      "102/102 - 0s - loss: 0.0036 - root_mean_squared_error: 0.0596 - val_loss: 0.0025 - val_root_mean_squared_error: 0.0501 - 148ms/epoch - 1ms/step\n",
      "Epoch 78/1000\n",
      "102/102 - 0s - loss: 0.0033 - root_mean_squared_error: 0.0573 - val_loss: 0.0024 - val_root_mean_squared_error: 0.0485 - 150ms/epoch - 1ms/step\n",
      "Epoch 79/1000\n",
      "102/102 - 0s - loss: 0.0030 - root_mean_squared_error: 0.0551 - val_loss: 0.0022 - val_root_mean_squared_error: 0.0469 - 160ms/epoch - 2ms/step\n",
      "Epoch 80/1000\n",
      "102/102 - 0s - loss: 0.0028 - root_mean_squared_error: 0.0530 - val_loss: 0.0021 - val_root_mean_squared_error: 0.0454 - 156ms/epoch - 2ms/step\n",
      "Epoch 81/1000\n",
      "102/102 - 0s - loss: 0.0026 - root_mean_squared_error: 0.0512 - val_loss: 0.0019 - val_root_mean_squared_error: 0.0439 - 148ms/epoch - 1ms/step\n",
      "Epoch 82/1000\n",
      "102/102 - 0s - loss: 0.0024 - root_mean_squared_error: 0.0490 - val_loss: 0.0018 - val_root_mean_squared_error: 0.0423 - 153ms/epoch - 1ms/step\n",
      "Epoch 83/1000\n",
      "102/102 - 0s - loss: 0.0022 - root_mean_squared_error: 0.0473 - val_loss: 0.0017 - val_root_mean_squared_error: 0.0408 - 149ms/epoch - 1ms/step\n",
      "Epoch 84/1000\n",
      "102/102 - 0s - loss: 0.0021 - root_mean_squared_error: 0.0455 - val_loss: 0.0016 - val_root_mean_squared_error: 0.0397 - 149ms/epoch - 1ms/step\n",
      "Epoch 85/1000\n",
      "102/102 - 0s - loss: 0.0019 - root_mean_squared_error: 0.0438 - val_loss: 0.0015 - val_root_mean_squared_error: 0.0386 - 155ms/epoch - 2ms/step\n",
      "Epoch 86/1000\n",
      "102/102 - 0s - loss: 0.0018 - root_mean_squared_error: 0.0421 - val_loss: 0.0014 - val_root_mean_squared_error: 0.0371 - 153ms/epoch - 2ms/step\n",
      "Epoch 87/1000\n",
      "102/102 - 0s - loss: 0.0016 - root_mean_squared_error: 0.0405 - val_loss: 0.0013 - val_root_mean_squared_error: 0.0358 - 153ms/epoch - 1ms/step\n",
      "Epoch 88/1000\n",
      "102/102 - 0s - loss: 0.0015 - root_mean_squared_error: 0.0389 - val_loss: 0.0012 - val_root_mean_squared_error: 0.0346 - 158ms/epoch - 2ms/step\n",
      "Epoch 89/1000\n",
      "102/102 - 0s - loss: 0.0014 - root_mean_squared_error: 0.0375 - val_loss: 0.0011 - val_root_mean_squared_error: 0.0334 - 159ms/epoch - 2ms/step\n",
      "Epoch 90/1000\n",
      "102/102 - 0s - loss: 0.0013 - root_mean_squared_error: 0.0361 - val_loss: 0.0010 - val_root_mean_squared_error: 0.0320 - 154ms/epoch - 2ms/step\n",
      "Epoch 91/1000\n",
      "102/102 - 0s - loss: 0.0012 - root_mean_squared_error: 0.0348 - val_loss: 9.7082e-04 - val_root_mean_squared_error: 0.0312 - 156ms/epoch - 2ms/step\n",
      "Epoch 92/1000\n",
      "102/102 - 0s - loss: 0.0011 - root_mean_squared_error: 0.0335 - val_loss: 9.0829e-04 - val_root_mean_squared_error: 0.0301 - 147ms/epoch - 1ms/step\n",
      "Epoch 93/1000\n",
      "102/102 - 0s - loss: 0.0010 - root_mean_squared_error: 0.0323 - val_loss: 8.7080e-04 - val_root_mean_squared_error: 0.0295 - 153ms/epoch - 1ms/step\n",
      "Epoch 94/1000\n",
      "102/102 - 0s - loss: 9.7317e-04 - root_mean_squared_error: 0.0312 - val_loss: 8.0784e-04 - val_root_mean_squared_error: 0.0284 - 150ms/epoch - 1ms/step\n",
      "Epoch 95/1000\n",
      "102/102 - 0s - loss: 9.0010e-04 - root_mean_squared_error: 0.0300 - val_loss: 7.5895e-04 - val_root_mean_squared_error: 0.0275 - 158ms/epoch - 2ms/step\n",
      "Epoch 96/1000\n",
      "102/102 - 0s - loss: 8.3301e-04 - root_mean_squared_error: 0.0289 - val_loss: 7.1199e-04 - val_root_mean_squared_error: 0.0267 - 158ms/epoch - 2ms/step\n",
      "Epoch 97/1000\n",
      "102/102 - 0s - loss: 7.7237e-04 - root_mean_squared_error: 0.0278 - val_loss: 6.8188e-04 - val_root_mean_squared_error: 0.0261 - 146ms/epoch - 1ms/step\n",
      "Epoch 98/1000\n",
      "102/102 - 0s - loss: 7.2052e-04 - root_mean_squared_error: 0.0268 - val_loss: 6.2408e-04 - val_root_mean_squared_error: 0.0250 - 148ms/epoch - 1ms/step\n",
      "Epoch 99/1000\n",
      "102/102 - 0s - loss: 6.7210e-04 - root_mean_squared_error: 0.0259 - val_loss: 5.9759e-04 - val_root_mean_squared_error: 0.0244 - 160ms/epoch - 2ms/step\n",
      "Epoch 100/1000\n",
      "102/102 - 0s - loss: 6.2206e-04 - root_mean_squared_error: 0.0249 - val_loss: 5.6112e-04 - val_root_mean_squared_error: 0.0237 - 155ms/epoch - 2ms/step\n",
      "Epoch 101/1000\n",
      "102/102 - 0s - loss: 5.8318e-04 - root_mean_squared_error: 0.0241 - val_loss: 5.4207e-04 - val_root_mean_squared_error: 0.0233 - 152ms/epoch - 1ms/step\n",
      "Epoch 102/1000\n",
      "102/102 - 0s - loss: 5.4740e-04 - root_mean_squared_error: 0.0234 - val_loss: 5.0118e-04 - val_root_mean_squared_error: 0.0224 - 153ms/epoch - 2ms/step\n",
      "Epoch 103/1000\n",
      "102/102 - 0s - loss: 5.1057e-04 - root_mean_squared_error: 0.0226 - val_loss: 4.6918e-04 - val_root_mean_squared_error: 0.0217 - 149ms/epoch - 1ms/step\n",
      "Epoch 104/1000\n",
      "102/102 - 0s - loss: 4.7738e-04 - root_mean_squared_error: 0.0218 - val_loss: 4.5560e-04 - val_root_mean_squared_error: 0.0213 - 160ms/epoch - 2ms/step\n",
      "Epoch 105/1000\n",
      "102/102 - 0s - loss: 4.5542e-04 - root_mean_squared_error: 0.0213 - val_loss: 4.3551e-04 - val_root_mean_squared_error: 0.0209 - 156ms/epoch - 2ms/step\n",
      "Epoch 106/1000\n",
      "102/102 - 0s - loss: 4.2871e-04 - root_mean_squared_error: 0.0207 - val_loss: 4.1411e-04 - val_root_mean_squared_error: 0.0203 - 155ms/epoch - 2ms/step\n",
      "Epoch 107/1000\n",
      "102/102 - 0s - loss: 4.0462e-04 - root_mean_squared_error: 0.0201 - val_loss: 4.0320e-04 - val_root_mean_squared_error: 0.0201 - 152ms/epoch - 1ms/step\n",
      "Epoch 108/1000\n",
      "102/102 - 0s - loss: 3.7480e-04 - root_mean_squared_error: 0.0194 - val_loss: 3.7499e-04 - val_root_mean_squared_error: 0.0194 - 151ms/epoch - 1ms/step\n",
      "Epoch 109/1000\n",
      "102/102 - 0s - loss: 3.5884e-04 - root_mean_squared_error: 0.0189 - val_loss: 3.6154e-04 - val_root_mean_squared_error: 0.0190 - 158ms/epoch - 2ms/step\n",
      "Epoch 110/1000\n",
      "102/102 - 0s - loss: 3.3966e-04 - root_mean_squared_error: 0.0184 - val_loss: 3.4249e-04 - val_root_mean_squared_error: 0.0185 - 154ms/epoch - 2ms/step\n",
      "Epoch 111/1000\n",
      "102/102 - 0s - loss: 3.2768e-04 - root_mean_squared_error: 0.0181 - val_loss: 3.3747e-04 - val_root_mean_squared_error: 0.0184 - 161ms/epoch - 2ms/step\n",
      "Epoch 112/1000\n",
      "102/102 - 0s - loss: 3.0911e-04 - root_mean_squared_error: 0.0176 - val_loss: 3.3693e-04 - val_root_mean_squared_error: 0.0184 - 156ms/epoch - 2ms/step\n",
      "Epoch 113/1000\n",
      "102/102 - 0s - loss: 2.9877e-04 - root_mean_squared_error: 0.0173 - val_loss: 3.0719e-04 - val_root_mean_squared_error: 0.0175 - 157ms/epoch - 2ms/step\n",
      "Epoch 114/1000\n",
      "102/102 - 0s - loss: 2.7862e-04 - root_mean_squared_error: 0.0167 - val_loss: 2.9020e-04 - val_root_mean_squared_error: 0.0170 - 153ms/epoch - 1ms/step\n",
      "Epoch 115/1000\n",
      "102/102 - 0s - loss: 2.6808e-04 - root_mean_squared_error: 0.0164 - val_loss: 2.9069e-04 - val_root_mean_squared_error: 0.0170 - 152ms/epoch - 1ms/step\n",
      "Epoch 116/1000\n",
      "102/102 - 0s - loss: 2.6263e-04 - root_mean_squared_error: 0.0162 - val_loss: 2.8976e-04 - val_root_mean_squared_error: 0.0170 - 164ms/epoch - 2ms/step\n",
      "Epoch 117/1000\n",
      "102/102 - 0s - loss: 2.4703e-04 - root_mean_squared_error: 0.0157 - val_loss: 2.6395e-04 - val_root_mean_squared_error: 0.0162 - 151ms/epoch - 1ms/step\n",
      "Epoch 118/1000\n",
      "102/102 - 0s - loss: 2.4759e-04 - root_mean_squared_error: 0.0157 - val_loss: 2.6198e-04 - val_root_mean_squared_error: 0.0162 - 150ms/epoch - 1ms/step\n",
      "Epoch 119/1000\n",
      "102/102 - 0s - loss: 2.2997e-04 - root_mean_squared_error: 0.0152 - val_loss: 2.6679e-04 - val_root_mean_squared_error: 0.0163 - 156ms/epoch - 2ms/step\n",
      "Epoch 120/1000\n",
      "102/102 - 0s - loss: 2.1836e-04 - root_mean_squared_error: 0.0148 - val_loss: 2.5183e-04 - val_root_mean_squared_error: 0.0159 - 157ms/epoch - 2ms/step\n",
      "Epoch 121/1000\n",
      "102/102 - 0s - loss: 2.1731e-04 - root_mean_squared_error: 0.0147 - val_loss: 2.3938e-04 - val_root_mean_squared_error: 0.0155 - 149ms/epoch - 1ms/step\n",
      "Epoch 122/1000\n",
      "102/102 - 0s - loss: 2.0463e-04 - root_mean_squared_error: 0.0143 - val_loss: 2.3242e-04 - val_root_mean_squared_error: 0.0152 - 173ms/epoch - 2ms/step\n",
      "Epoch 123/1000\n",
      "102/102 - 0s - loss: 1.9739e-04 - root_mean_squared_error: 0.0140 - val_loss: 2.5042e-04 - val_root_mean_squared_error: 0.0158 - 159ms/epoch - 2ms/step\n",
      "Epoch 124/1000\n",
      "102/102 - 0s - loss: 1.9337e-04 - root_mean_squared_error: 0.0139 - val_loss: 2.1696e-04 - val_root_mean_squared_error: 0.0147 - 162ms/epoch - 2ms/step\n",
      "Epoch 125/1000\n",
      "102/102 - 0s - loss: 1.9720e-04 - root_mean_squared_error: 0.0140 - val_loss: 2.0827e-04 - val_root_mean_squared_error: 0.0144 - 165ms/epoch - 2ms/step\n",
      "Epoch 126/1000\n",
      "102/102 - 0s - loss: 1.8994e-04 - root_mean_squared_error: 0.0138 - val_loss: 2.0541e-04 - val_root_mean_squared_error: 0.0143 - 159ms/epoch - 2ms/step\n",
      "Epoch 127/1000\n",
      "102/102 - 0s - loss: 1.7497e-04 - root_mean_squared_error: 0.0132 - val_loss: 2.0365e-04 - val_root_mean_squared_error: 0.0143 - 168ms/epoch - 2ms/step\n",
      "Epoch 128/1000\n",
      "102/102 - 0s - loss: 1.7360e-04 - root_mean_squared_error: 0.0132 - val_loss: 2.1134e-04 - val_root_mean_squared_error: 0.0145 - 155ms/epoch - 2ms/step\n",
      "Epoch 129/1000\n",
      "102/102 - 0s - loss: 1.7260e-04 - root_mean_squared_error: 0.0131 - val_loss: 1.7798e-04 - val_root_mean_squared_error: 0.0133 - 156ms/epoch - 2ms/step\n",
      "Epoch 130/1000\n",
      "102/102 - 0s - loss: 1.5447e-04 - root_mean_squared_error: 0.0124 - val_loss: 1.6423e-04 - val_root_mean_squared_error: 0.0128 - 157ms/epoch - 2ms/step\n",
      "Epoch 131/1000\n",
      "102/102 - 0s - loss: 1.3805e-04 - root_mean_squared_error: 0.0117 - val_loss: 1.5505e-04 - val_root_mean_squared_error: 0.0125 - 161ms/epoch - 2ms/step\n",
      "Epoch 132/1000\n",
      "102/102 - 0s - loss: 1.3113e-04 - root_mean_squared_error: 0.0115 - val_loss: 1.4732e-04 - val_root_mean_squared_error: 0.0121 - 159ms/epoch - 2ms/step\n",
      "Epoch 133/1000\n",
      "102/102 - 0s - loss: 1.1368e-04 - root_mean_squared_error: 0.0107 - val_loss: 1.3680e-04 - val_root_mean_squared_error: 0.0117 - 163ms/epoch - 2ms/step\n",
      "Epoch 134/1000\n",
      "102/102 - 0s - loss: 1.0859e-04 - root_mean_squared_error: 0.0104 - val_loss: 1.4024e-04 - val_root_mean_squared_error: 0.0118 - 149ms/epoch - 1ms/step\n",
      "Epoch 135/1000\n",
      "102/102 - 0s - loss: 1.0557e-04 - root_mean_squared_error: 0.0103 - val_loss: 1.2676e-04 - val_root_mean_squared_error: 0.0113 - 143ms/epoch - 1ms/step\n",
      "Epoch 136/1000\n",
      "102/102 - 0s - loss: 9.8988e-05 - root_mean_squared_error: 0.0099 - val_loss: 1.2388e-04 - val_root_mean_squared_error: 0.0111 - 157ms/epoch - 2ms/step\n",
      "Epoch 137/1000\n",
      "102/102 - 0s - loss: 9.9517e-05 - root_mean_squared_error: 0.0100 - val_loss: 1.3341e-04 - val_root_mean_squared_error: 0.0116 - 150ms/epoch - 1ms/step\n",
      "Epoch 138/1000\n",
      "102/102 - 0s - loss: 9.6484e-05 - root_mean_squared_error: 0.0098 - val_loss: 1.2417e-04 - val_root_mean_squared_error: 0.0111 - 156ms/epoch - 2ms/step\n"
     ]
    }
   ],
   "source": [
    "# fit the model\n",
    "history = model.fit(\n",
    "    train_inputs, train_targets, batch_size=BATCH_SIZE,epochs=MAX_EPOCHS, callbacks=[early_stopping], validation_data=(validation_inputs, validation_targets), verbose=2\n",
    "          )"
   ]
  },
  {
   "cell_type": "code",
   "execution_count": 14,
   "metadata": {},
   "outputs": [
    {
     "name": "stdout",
     "output_type": "stream",
     "text": [
      "Model: \"sequential_1\"\n",
      "_________________________________________________________________\n",
      " Layer (type)                Output Shape              Param #   \n",
      "=================================================================\n",
      " dense_4 (Dense)             (1, 5)                    20        \n",
      "                                                                 \n",
      " dense_5 (Dense)             (1, 5)                    30        \n",
      "                                                                 \n",
      " dense_6 (Dense)             (1, 5)                    30        \n",
      "                                                                 \n",
      " dense_7 (Dense)             (1, 1)                    6         \n",
      "                                                                 \n",
      "=================================================================\n",
      "Total params: 86\n",
      "Trainable params: 86\n",
      "Non-trainable params: 0\n",
      "_________________________________________________________________\n"
     ]
    }
   ],
   "source": [
    "# ANN model summary\n",
    "model.summary()"
   ]
  },
  {
   "cell_type": "code",
   "execution_count": 15,
   "metadata": {},
   "outputs": [
    {
     "data": {
      "image/png": "[encoded data removed]",
      "text/plain": [
       "<Figure size 640x480 with 1 Axes>"
      ]
     },
     "metadata": {},
     "output_type": "display_data"
    }
   ],
   "source": [
    "import matplotlib.pyplot as plt\n",
    "plt.plot(history.history['loss'], label='Training_loss')\n",
    "plt.plot(history.history['val_loss'], label='Validation_loss')\n",
    "plt.xlabel('epochs')\n",
    "plt.ylabel('loss')\n",
    "plt.legend()\n",
    "plt.show()"
   ]
  },
  {
   "cell_type": "markdown",
   "metadata": {},
   "source": [
    "# Model check on Test data"
   ]
  },
  {
   "cell_type": "code",
   "execution_count": 16,
   "metadata": {},
   "outputs": [
    {
     "name": "stdout",
     "output_type": "stream",
     "text": [
      "1/1 [==============================] - 0s 147ms/step - loss: 9.3038e-05 - root_mean_squared_error: 0.0096\n"
     ]
    }
   ],
   "source": [
    "test_loss, test_accuracy = model.evaluate(test_inputs, test_targets)"
   ]
  },
  {
   "cell_type": "code",
   "execution_count": 17,
   "metadata": {},
   "outputs": [
    {
     "name": "stdout",
     "output_type": "stream",
     "text": [
      "\n",
      "Test loss: 0.0001. Test accuracy: 0.0096 rmse\n"
     ]
    }
   ],
   "source": [
    "print('\\nTest loss: {0:.4f}. Test accuracy: {1:.4f} rmse'.format(test_loss, test_accuracy))"
   ]
  },
  {
   "cell_type": "code",
   "execution_count": 18,
   "metadata": {},
   "outputs": [
    {
     "name": "stdout",
     "output_type": "stream",
     "text": [
      "1/1 [==============================] - 0s 86ms/step\n"
     ]
    },
    {
     "data": {
      "text/html": [
       "<div>\n",
       "<style scoped>\n",
       "    .dataframe tbody tr th:only-of-type {\n",
       "        vertical-align: middle;\n",
       "    }\n",
       "\n",
       "    .dataframe tbody tr th {\n",
       "        vertical-align: top;\n",
       "    }\n",
       "\n",
       "    .dataframe thead th {\n",
       "        text-align: right;\n",
       "    }\n",
       "</style>\n",
       "<table border=\"1\" class=\"dataframe\">\n",
       "  <thead>\n",
       "    <tr style=\"text-align: right;\">\n",
       "      <th></th>\n",
       "      <th>Target-St(%)</th>\n",
       "      <th>Prediction-St(%)</th>\n",
       "      <th>prediction-accuracy(%)</th>\n",
       "    </tr>\n",
       "  </thead>\n",
       "  <tbody>\n",
       "    <tr>\n",
       "      <th>0</th>\n",
       "      <td>0.971389</td>\n",
       "      <td>0.968164</td>\n",
       "      <td>99.667972</td>\n",
       "    </tr>\n",
       "    <tr>\n",
       "      <th>1</th>\n",
       "      <td>0.984452</td>\n",
       "      <td>0.985782</td>\n",
       "      <td>100.135084</td>\n",
       "    </tr>\n",
       "    <tr>\n",
       "      <th>2</th>\n",
       "      <td>0.976922</td>\n",
       "      <td>0.956500</td>\n",
       "      <td>97.909547</td>\n",
       "    </tr>\n",
       "    <tr>\n",
       "      <th>3</th>\n",
       "      <td>0.970551</td>\n",
       "      <td>0.960861</td>\n",
       "      <td>99.001559</td>\n",
       "    </tr>\n",
       "    <tr>\n",
       "      <th>4</th>\n",
       "      <td>0.946679</td>\n",
       "      <td>0.948820</td>\n",
       "      <td>100.226197</td>\n",
       "    </tr>\n",
       "    <tr>\n",
       "      <th>5</th>\n",
       "      <td>0.971013</td>\n",
       "      <td>0.968164</td>\n",
       "      <td>99.706608</td>\n",
       "    </tr>\n",
       "    <tr>\n",
       "      <th>6</th>\n",
       "      <td>0.990679</td>\n",
       "      <td>0.996470</td>\n",
       "      <td>100.584632</td>\n",
       "    </tr>\n",
       "    <tr>\n",
       "      <th>7</th>\n",
       "      <td>0.997296</td>\n",
       "      <td>0.993109</td>\n",
       "      <td>99.580183</td>\n",
       "    </tr>\n",
       "    <tr>\n",
       "      <th>8</th>\n",
       "      <td>0.950887</td>\n",
       "      <td>0.973677</td>\n",
       "      <td>102.396693</td>\n",
       "    </tr>\n",
       "    <tr>\n",
       "      <th>9</th>\n",
       "      <td>0.991350</td>\n",
       "      <td>0.995745</td>\n",
       "      <td>100.443336</td>\n",
       "    </tr>\n",
       "    <tr>\n",
       "      <th>10</th>\n",
       "      <td>0.979012</td>\n",
       "      <td>0.979499</td>\n",
       "      <td>100.049714</td>\n",
       "    </tr>\n",
       "    <tr>\n",
       "      <th>11</th>\n",
       "      <td>0.938767</td>\n",
       "      <td>0.946029</td>\n",
       "      <td>100.773614</td>\n",
       "    </tr>\n",
       "    <tr>\n",
       "      <th>12</th>\n",
       "      <td>0.990911</td>\n",
       "      <td>0.996470</td>\n",
       "      <td>100.561091</td>\n",
       "    </tr>\n",
       "  </tbody>\n",
       "</table>\n",
       "</div>"
      ],
      "text/plain": [
       "    Target-St(%)  Prediction-St(%)  prediction-accuracy(%)\n",
       "0       0.971389          0.968164               99.667972\n",
       "1       0.984452          0.985782              100.135084\n",
       "2       0.976922          0.956500               97.909547\n",
       "3       0.970551          0.960861               99.001559\n",
       "4       0.946679          0.948820              100.226197\n",
       "5       0.971013          0.968164               99.706608\n",
       "6       0.990679          0.996470              100.584632\n",
       "7       0.997296          0.993109               99.580183\n",
       "8       0.950887          0.973677              102.396693\n",
       "9       0.991350          0.995745              100.443336\n",
       "10      0.979012          0.979499              100.049714\n",
       "11      0.938767          0.946029              100.773614\n",
       "12      0.990911          0.996470              100.561091"
      ]
     },
     "execution_count": 18,
     "metadata": {},
     "output_type": "execute_result"
    }
   ],
   "source": [
    "prediction = model.predict(test_inputs)\n",
    "data_inputs = pd.DataFrame(test_inputs)\n",
    "prediction = pd.DataFrame(prediction)\n",
    "test_targets = pd.DataFrame(test_targets)\n",
    "pred_accu = (prediction/test_targets)*100\n",
    "pred_accu_avg = pred_accu.sum()/pred_accu.shape[0]\n",
    "\n",
    "result = pd.concat([test_targets, prediction, pred_accu], axis = 1, ignore_index=True)\n",
    "result.columns = ['Target-St(%)', 'Prediction-St(%)','prediction-accuracy(%)']\n",
    "result"
   ]
  },
  {
   "cell_type": "code",
   "execution_count": 24,
   "metadata": {},
   "outputs": [
    {
     "name": "stdout",
     "output_type": "stream",
     "text": [
      "Uncertainty of the ANN model: 0.08 [%]\n",
      "Average test prediction precision 99.92 [%]\n"
     ]
    }
   ],
   "source": [
    "uncertainty_model = abs(pred_accu_avg-100) \n",
    "print(\"Uncertainty of the ANN model:\", np.round(uncertainty_model[0],2), '[%]')\n",
    "print(\"Average test prediction precision\", np.round(100 - uncertainty_model[0],2), '[%]')"
   ]
  },
  {
   "cell_type": "markdown",
   "metadata": {},
   "source": [
    "# ANN Model Deployment"
   ]
  },
  {
   "cell_type": "markdown",
   "metadata": {},
   "source": [
    "ANN model deployment for micro DSC error prediction"
   ]
  },
  {
   "cell_type": "code",
   "execution_count": 20,
   "metadata": {},
   "outputs": [],
   "source": [
    "import keras\n",
    "model.save('micro_dsc_dl.h5')"
   ]
  }
 ],
 "metadata": {
  "kernelspec": {
   "display_name": "Python 3.10.5 ('.venv': venv)",
   "language": "python",
   "name": "python3"
  },
  "language_info": {
   "codemirror_mode": {
    "name": "ipython",
    "version": 3
   },
   "file_extension": ".py",
   "mimetype": "text/x-python",
   "name": "python",
   "nbconvert_exporter": "python",
   "pygments_lexer": "ipython3",
   "version": "3.10.5"
  },
  "orig_nbformat": 4,
  "vscode": {
   "interpreter": {
    "hash": "b0667ed0555a5541255d8935e54f48182eafb6e29843e63fd65cc0cee63f4b66"
   }
  }
 },
 "nbformat": 4,
 "nbformat_minor": 2
}
