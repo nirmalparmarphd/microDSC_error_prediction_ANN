{
 "cells": [
  {
   "cell_type": "markdown",
   "metadata": {},
   "source": [
    "# DNN Model"
   ]
  },
  {
   "cell_type": "code",
   "execution_count": 331,
   "metadata": {},
   "outputs": [],
   "source": [
    "import numpy as np\n",
    "import pandas as pd\n",
    "import tensorflow as tf"
   ]
  },
  {
   "cell_type": "code",
   "execution_count": 332,
   "metadata": {},
   "outputs": [],
   "source": [
    "# data loading from .npz generated from tcr_data_process.ipynb\n",
    "# loading train data\n",
    "npz = np.load('data_train.npz')\n",
    "train_inputs = npz['input'].astype(np.float64)\n",
    "train_targets = npz['targets'].astype(np.float64)\n",
    "# loading validation data\n",
    "npz = np.load('data_validation.npz')\n",
    "validation_inputs, validation_targets = npz['input'].astype(np.float64), npz['targets'].astype(np.float64)\n",
    "\n",
    "npz = np.load('data_test.npz')\n",
    "test_inputs, test_targets = npz['input'].astype(np.float64), npz['targets'].astype(np.float64)"
   ]
  },
  {
   "cell_type": "markdown",
   "metadata": {},
   "source": [
    "# ANN Model"
   ]
  },
  {
   "cell_type": "markdown",
   "metadata": {},
   "source": [
    "Outline, Optimizer, Loss function, Early stopping and Training rate"
   ]
  },
  {
   "cell_type": "code",
   "execution_count": 333,
   "metadata": {},
   "outputs": [],
   "source": [
    "# NN model prep\n",
    "input_size = 3\n",
    "output_size = 1\n",
    "hidden_layer_1_size = 10\n",
    "hidden_layer_2_size = 10\n",
    "hidden_layer_3_size = 10\n",
    "\n",
    "model = tf.keras.Sequential([\n",
    "    tf.keras.layers.Dense(input_size),\n",
    "    tf.keras.layers.Dense(hidden_layer_1_size, activation='relu'),\n",
    "    tf.keras.layers.Dense(hidden_layer_2_size, activation='relu'),\n",
    "    tf.keras.layers.Dense(hidden_layer_3_size, activation='relu'),\n",
    "    tf.keras.layers.Dense(output_size, activation='linear')\n",
    "])\n"
   ]
  },
  {
   "cell_type": "code",
   "execution_count": 334,
   "metadata": {},
   "outputs": [],
   "source": [
    "# model prep, optimizer and loss function\n",
    "optimizer = tf.keras.optimizers.Adam(learning_rate=0.00001)\n",
    "model.compile(optimizer, loss=tf.keras.losses.MeanSquaredError(),metrics=[tf.keras.metrics.RootMeanSquaredError()])\n"
   ]
  },
  {
   "cell_type": "code",
   "execution_count": 335,
   "metadata": {},
   "outputs": [],
   "source": [
    "# Training\n",
    "BATCH_SIZE = 1\n",
    "MAX_EPOCHS = 1000\n",
    "early_stopping = tf.keras.callbacks.EarlyStopping(patience=2)"
   ]
  },
  {
   "cell_type": "code",
   "execution_count": 336,
   "metadata": {},
   "outputs": [
    {
     "name": "stdout",
     "output_type": "stream",
     "text": [
      "Epoch 1/1000\n",
      "640/640 - 11s - loss: 0.4936 - root_mean_squared_error: 0.7026 - val_loss: 0.4384 - val_root_mean_squared_error: 0.6621 - 11s/epoch - 18ms/step\n",
      "Epoch 2/1000\n",
      "640/640 - 2s - loss: 0.3995 - root_mean_squared_error: 0.6321 - val_loss: 0.3553 - val_root_mean_squared_error: 0.5961 - 2s/epoch - 3ms/step\n",
      "Epoch 3/1000\n",
      "640/640 - 1s - loss: 0.3273 - root_mean_squared_error: 0.5721 - val_loss: 0.2927 - val_root_mean_squared_error: 0.5410 - 1s/epoch - 2ms/step\n",
      "Epoch 4/1000\n",
      "640/640 - 2s - loss: 0.2742 - root_mean_squared_error: 0.5236 - val_loss: 0.2473 - val_root_mean_squared_error: 0.4972 - 2s/epoch - 3ms/step\n",
      "Epoch 5/1000\n",
      "640/640 - 1s - loss: 0.2348 - root_mean_squared_error: 0.4846 - val_loss: 0.2150 - val_root_mean_squared_error: 0.4637 - 1s/epoch - 2ms/step\n",
      "Epoch 6/1000\n",
      "640/640 - 1s - loss: 0.2066 - root_mean_squared_error: 0.4545 - val_loss: 0.1921 - val_root_mean_squared_error: 0.4383 - 1s/epoch - 2ms/step\n",
      "Epoch 7/1000\n",
      "640/640 - 1s - loss: 0.1852 - root_mean_squared_error: 0.4304 - val_loss: 0.1746 - val_root_mean_squared_error: 0.4179 - 1s/epoch - 2ms/step\n",
      "Epoch 8/1000\n",
      "640/640 - 1s - loss: 0.1691 - root_mean_squared_error: 0.4112 - val_loss: 0.1615 - val_root_mean_squared_error: 0.4018 - 1s/epoch - 2ms/step\n",
      "Epoch 9/1000\n",
      "640/640 - 1s - loss: 0.1565 - root_mean_squared_error: 0.3956 - val_loss: 0.1511 - val_root_mean_squared_error: 0.3887 - 1s/epoch - 2ms/step\n",
      "Epoch 10/1000\n",
      "640/640 - 2s - loss: 0.1459 - root_mean_squared_error: 0.3819 - val_loss: 0.1420 - val_root_mean_squared_error: 0.3768 - 2s/epoch - 2ms/step\n",
      "Epoch 11/1000\n",
      "640/640 - 1s - loss: 0.1366 - root_mean_squared_error: 0.3696 - val_loss: 0.1341 - val_root_mean_squared_error: 0.3663 - 1s/epoch - 2ms/step\n",
      "Epoch 12/1000\n",
      "640/640 - 1s - loss: 0.1286 - root_mean_squared_error: 0.3585 - val_loss: 0.1274 - val_root_mean_squared_error: 0.3570 - 1s/epoch - 2ms/step\n",
      "Epoch 13/1000\n",
      "640/640 - 1s - loss: 0.1213 - root_mean_squared_error: 0.3483 - val_loss: 0.1211 - val_root_mean_squared_error: 0.3480 - 1s/epoch - 2ms/step\n",
      "Epoch 14/1000\n",
      "640/640 - 2s - loss: 0.1146 - root_mean_squared_error: 0.3385 - val_loss: 0.1153 - val_root_mean_squared_error: 0.3395 - 2s/epoch - 3ms/step\n",
      "Epoch 15/1000\n",
      "640/640 - 3s - loss: 0.1083 - root_mean_squared_error: 0.3292 - val_loss: 0.1098 - val_root_mean_squared_error: 0.3313 - 3s/epoch - 5ms/step\n",
      "Epoch 16/1000\n",
      "640/640 - 2s - loss: 0.1026 - root_mean_squared_error: 0.3203 - val_loss: 0.1046 - val_root_mean_squared_error: 0.3235 - 2s/epoch - 4ms/step\n",
      "Epoch 17/1000\n",
      "640/640 - 2s - loss: 0.0972 - root_mean_squared_error: 0.3118 - val_loss: 0.0998 - val_root_mean_squared_error: 0.3160 - 2s/epoch - 3ms/step\n",
      "Epoch 18/1000\n",
      "640/640 - 2s - loss: 0.0923 - root_mean_squared_error: 0.3038 - val_loss: 0.0953 - val_root_mean_squared_error: 0.3087 - 2s/epoch - 3ms/step\n",
      "Epoch 19/1000\n",
      "640/640 - 2s - loss: 0.0876 - root_mean_squared_error: 0.2960 - val_loss: 0.0910 - val_root_mean_squared_error: 0.3016 - 2s/epoch - 3ms/step\n",
      "Epoch 20/1000\n",
      "640/640 - 2s - loss: 0.0832 - root_mean_squared_error: 0.2884 - val_loss: 0.0867 - val_root_mean_squared_error: 0.2945 - 2s/epoch - 3ms/step\n",
      "Epoch 21/1000\n",
      "640/640 - 2s - loss: 0.0789 - root_mean_squared_error: 0.2808 - val_loss: 0.0826 - val_root_mean_squared_error: 0.2874 - 2s/epoch - 3ms/step\n",
      "Epoch 22/1000\n",
      "640/640 - 2s - loss: 0.0748 - root_mean_squared_error: 0.2735 - val_loss: 0.0787 - val_root_mean_squared_error: 0.2805 - 2s/epoch - 3ms/step\n",
      "Epoch 23/1000\n",
      "640/640 - 2s - loss: 0.0710 - root_mean_squared_error: 0.2665 - val_loss: 0.0750 - val_root_mean_squared_error: 0.2739 - 2s/epoch - 3ms/step\n",
      "Epoch 24/1000\n",
      "640/640 - 2s - loss: 0.0675 - root_mean_squared_error: 0.2597 - val_loss: 0.0715 - val_root_mean_squared_error: 0.2674 - 2s/epoch - 3ms/step\n",
      "Epoch 25/1000\n",
      "640/640 - 2s - loss: 0.0641 - root_mean_squared_error: 0.2532 - val_loss: 0.0681 - val_root_mean_squared_error: 0.2609 - 2s/epoch - 3ms/step\n",
      "Epoch 26/1000\n",
      "640/640 - 2s - loss: 0.0608 - root_mean_squared_error: 0.2466 - val_loss: 0.0647 - val_root_mean_squared_error: 0.2544 - 2s/epoch - 3ms/step\n",
      "Epoch 27/1000\n",
      "640/640 - 2s - loss: 0.0577 - root_mean_squared_error: 0.2402 - val_loss: 0.0616 - val_root_mean_squared_error: 0.2481 - 2s/epoch - 3ms/step\n",
      "Epoch 28/1000\n",
      "640/640 - 2s - loss: 0.0548 - root_mean_squared_error: 0.2341 - val_loss: 0.0586 - val_root_mean_squared_error: 0.2420 - 2s/epoch - 3ms/step\n",
      "Epoch 29/1000\n",
      "640/640 - 2s - loss: 0.0520 - root_mean_squared_error: 0.2281 - val_loss: 0.0557 - val_root_mean_squared_error: 0.2359 - 2s/epoch - 3ms/step\n",
      "Epoch 30/1000\n",
      "640/640 - 2s - loss: 0.0494 - root_mean_squared_error: 0.2222 - val_loss: 0.0529 - val_root_mean_squared_error: 0.2300 - 2s/epoch - 2ms/step\n",
      "Epoch 31/1000\n",
      "640/640 - 2s - loss: 0.0468 - root_mean_squared_error: 0.2164 - val_loss: 0.0502 - val_root_mean_squared_error: 0.2240 - 2s/epoch - 2ms/step\n",
      "Epoch 32/1000\n",
      "640/640 - 2s - loss: 0.0443 - root_mean_squared_error: 0.2104 - val_loss: 0.0474 - val_root_mean_squared_error: 0.2177 - 2s/epoch - 2ms/step\n",
      "Epoch 33/1000\n",
      "640/640 - 2s - loss: 0.0418 - root_mean_squared_error: 0.2046 - val_loss: 0.0448 - val_root_mean_squared_error: 0.2117 - 2s/epoch - 3ms/step\n",
      "Epoch 34/1000\n",
      "640/640 - 2s - loss: 0.0396 - root_mean_squared_error: 0.1989 - val_loss: 0.0424 - val_root_mean_squared_error: 0.2058 - 2s/epoch - 2ms/step\n",
      "Epoch 35/1000\n",
      "640/640 - 1s - loss: 0.0374 - root_mean_squared_error: 0.1933 - val_loss: 0.0401 - val_root_mean_squared_error: 0.2001 - 1s/epoch - 2ms/step\n",
      "Epoch 36/1000\n",
      "640/640 - 1s - loss: 0.0353 - root_mean_squared_error: 0.1879 - val_loss: 0.0378 - val_root_mean_squared_error: 0.1945 - 1s/epoch - 2ms/step\n",
      "Epoch 37/1000\n",
      "640/640 - 1s - loss: 0.0333 - root_mean_squared_error: 0.1825 - val_loss: 0.0357 - val_root_mean_squared_error: 0.1889 - 1s/epoch - 2ms/step\n",
      "Epoch 38/1000\n",
      "640/640 - 1s - loss: 0.0314 - root_mean_squared_error: 0.1772 - val_loss: 0.0336 - val_root_mean_squared_error: 0.1833 - 1s/epoch - 2ms/step\n",
      "Epoch 39/1000\n",
      "640/640 - 1s - loss: 0.0296 - root_mean_squared_error: 0.1719 - val_loss: 0.0316 - val_root_mean_squared_error: 0.1778 - 1s/epoch - 2ms/step\n",
      "Epoch 40/1000\n",
      "640/640 - 1s - loss: 0.0279 - root_mean_squared_error: 0.1669 - val_loss: 0.0298 - val_root_mean_squared_error: 0.1726 - 1s/epoch - 2ms/step\n",
      "Epoch 41/1000\n",
      "640/640 - 1s - loss: 0.0262 - root_mean_squared_error: 0.1619 - val_loss: 0.0280 - val_root_mean_squared_error: 0.1675 - 1s/epoch - 2ms/step\n",
      "Epoch 42/1000\n",
      "640/640 - 1s - loss: 0.0247 - root_mean_squared_error: 0.1571 - val_loss: 0.0264 - val_root_mean_squared_error: 0.1624 - 1s/epoch - 2ms/step\n",
      "Epoch 43/1000\n",
      "640/640 - 1s - loss: 0.0232 - root_mean_squared_error: 0.1524 - val_loss: 0.0248 - val_root_mean_squared_error: 0.1574 - 1s/epoch - 2ms/step\n",
      "Epoch 44/1000\n",
      "640/640 - 2s - loss: 0.0218 - root_mean_squared_error: 0.1477 - val_loss: 0.0233 - val_root_mean_squared_error: 0.1525 - 2s/epoch - 2ms/step\n",
      "Epoch 45/1000\n",
      "640/640 - 1s - loss: 0.0204 - root_mean_squared_error: 0.1430 - val_loss: 0.0218 - val_root_mean_squared_error: 0.1477 - 1s/epoch - 2ms/step\n",
      "Epoch 46/1000\n",
      "640/640 - 2s - loss: 0.0191 - root_mean_squared_error: 0.1383 - val_loss: 0.0204 - val_root_mean_squared_error: 0.1427 - 2s/epoch - 2ms/step\n",
      "Epoch 47/1000\n",
      "640/640 - 1s - loss: 0.0179 - root_mean_squared_error: 0.1337 - val_loss: 0.0190 - val_root_mean_squared_error: 0.1379 - 1s/epoch - 2ms/step\n",
      "Epoch 48/1000\n",
      "640/640 - 1s - loss: 0.0167 - root_mean_squared_error: 0.1290 - val_loss: 0.0177 - val_root_mean_squared_error: 0.1331 - 1s/epoch - 2ms/step\n",
      "Epoch 49/1000\n",
      "640/640 - 1s - loss: 0.0155 - root_mean_squared_error: 0.1245 - val_loss: 0.0165 - val_root_mean_squared_error: 0.1284 - 1s/epoch - 2ms/step\n",
      "Epoch 50/1000\n",
      "640/640 - 1s - loss: 0.0144 - root_mean_squared_error: 0.1201 - val_loss: 0.0153 - val_root_mean_squared_error: 0.1237 - 1s/epoch - 2ms/step\n",
      "Epoch 51/1000\n",
      "640/640 - 1s - loss: 0.0134 - root_mean_squared_error: 0.1157 - val_loss: 0.0142 - val_root_mean_squared_error: 0.1192 - 1s/epoch - 2ms/step\n",
      "Epoch 52/1000\n",
      "640/640 - 1s - loss: 0.0124 - root_mean_squared_error: 0.1114 - val_loss: 0.0132 - val_root_mean_squared_error: 0.1148 - 1s/epoch - 2ms/step\n",
      "Epoch 53/1000\n",
      "640/640 - 1s - loss: 0.0115 - root_mean_squared_error: 0.1073 - val_loss: 0.0122 - val_root_mean_squared_error: 0.1105 - 1s/epoch - 2ms/step\n",
      "Epoch 54/1000\n",
      "640/640 - 1s - loss: 0.0106 - root_mean_squared_error: 0.1032 - val_loss: 0.0113 - val_root_mean_squared_error: 0.1062 - 1s/epoch - 2ms/step\n",
      "Epoch 55/1000\n",
      "640/640 - 2s - loss: 0.0098 - root_mean_squared_error: 0.0992 - val_loss: 0.0105 - val_root_mean_squared_error: 0.1023 - 2s/epoch - 3ms/step\n",
      "Epoch 56/1000\n",
      "640/640 - 2s - loss: 0.0091 - root_mean_squared_error: 0.0954 - val_loss: 0.0096 - val_root_mean_squared_error: 0.0981 - 2s/epoch - 4ms/step\n",
      "Epoch 57/1000\n",
      "640/640 - 4s - loss: 0.0084 - root_mean_squared_error: 0.0917 - val_loss: 0.0088 - val_root_mean_squared_error: 0.0940 - 4s/epoch - 6ms/step\n",
      "Epoch 58/1000\n",
      "640/640 - 1s - loss: 0.0077 - root_mean_squared_error: 0.0880 - val_loss: 0.0081 - val_root_mean_squared_error: 0.0901 - 1s/epoch - 2ms/step\n",
      "Epoch 59/1000\n",
      "640/640 - 1s - loss: 0.0071 - root_mean_squared_error: 0.0844 - val_loss: 0.0075 - val_root_mean_squared_error: 0.0865 - 1s/epoch - 2ms/step\n",
      "Epoch 60/1000\n",
      "640/640 - 1s - loss: 0.0066 - root_mean_squared_error: 0.0809 - val_loss: 0.0069 - val_root_mean_squared_error: 0.0828 - 1s/epoch - 2ms/step\n",
      "Epoch 61/1000\n",
      "640/640 - 2s - loss: 0.0060 - root_mean_squared_error: 0.0775 - val_loss: 0.0062 - val_root_mean_squared_error: 0.0789 - 2s/epoch - 3ms/step\n",
      "Epoch 62/1000\n",
      "640/640 - 1s - loss: 0.0055 - root_mean_squared_error: 0.0739 - val_loss: 0.0057 - val_root_mean_squared_error: 0.0752 - 1s/epoch - 2ms/step\n",
      "Epoch 63/1000\n",
      "640/640 - 1s - loss: 0.0050 - root_mean_squared_error: 0.0704 - val_loss: 0.0051 - val_root_mean_squared_error: 0.0715 - 1s/epoch - 2ms/step\n",
      "Epoch 64/1000\n",
      "640/640 - 1s - loss: 0.0045 - root_mean_squared_error: 0.0670 - val_loss: 0.0046 - val_root_mean_squared_error: 0.0681 - 1s/epoch - 2ms/step\n",
      "Epoch 65/1000\n",
      "640/640 - 1s - loss: 0.0041 - root_mean_squared_error: 0.0637 - val_loss: 0.0042 - val_root_mean_squared_error: 0.0645 - 1s/epoch - 2ms/step\n",
      "Epoch 66/1000\n",
      "640/640 - 1s - loss: 0.0036 - root_mean_squared_error: 0.0604 - val_loss: 0.0037 - val_root_mean_squared_error: 0.0609 - 1s/epoch - 2ms/step\n",
      "Epoch 67/1000\n",
      "640/640 - 1s - loss: 0.0033 - root_mean_squared_error: 0.0572 - val_loss: 0.0033 - val_root_mean_squared_error: 0.0575 - 1s/epoch - 2ms/step\n",
      "Epoch 68/1000\n",
      "640/640 - 1s - loss: 0.0029 - root_mean_squared_error: 0.0540 - val_loss: 0.0029 - val_root_mean_squared_error: 0.0542 - 1s/epoch - 2ms/step\n",
      "Epoch 69/1000\n",
      "640/640 - 2s - loss: 0.0026 - root_mean_squared_error: 0.0509 - val_loss: 0.0026 - val_root_mean_squared_error: 0.0512 - 2s/epoch - 3ms/step\n",
      "Epoch 70/1000\n",
      "640/640 - 2s - loss: 0.0023 - root_mean_squared_error: 0.0479 - val_loss: 0.0023 - val_root_mean_squared_error: 0.0479 - 2s/epoch - 3ms/step\n",
      "Epoch 71/1000\n",
      "640/640 - 1s - loss: 0.0020 - root_mean_squared_error: 0.0450 - val_loss: 0.0020 - val_root_mean_squared_error: 0.0449 - 1s/epoch - 2ms/step\n",
      "Epoch 72/1000\n",
      "640/640 - 1s - loss: 0.0018 - root_mean_squared_error: 0.0422 - val_loss: 0.0018 - val_root_mean_squared_error: 0.0419 - 1s/epoch - 2ms/step\n",
      "Epoch 73/1000\n",
      "640/640 - 1s - loss: 0.0016 - root_mean_squared_error: 0.0395 - val_loss: 0.0015 - val_root_mean_squared_error: 0.0392 - 1s/epoch - 2ms/step\n",
      "Epoch 74/1000\n",
      "640/640 - 1s - loss: 0.0014 - root_mean_squared_error: 0.0370 - val_loss: 0.0013 - val_root_mean_squared_error: 0.0367 - 1s/epoch - 2ms/step\n",
      "Epoch 75/1000\n",
      "640/640 - 1s - loss: 0.0012 - root_mean_squared_error: 0.0345 - val_loss: 0.0012 - val_root_mean_squared_error: 0.0342 - 1s/epoch - 2ms/step\n",
      "Epoch 76/1000\n",
      "640/640 - 1s - loss: 0.0010 - root_mean_squared_error: 0.0322 - val_loss: 0.0010 - val_root_mean_squared_error: 0.0320 - 1s/epoch - 2ms/step\n",
      "Epoch 77/1000\n",
      "640/640 - 1s - loss: 9.0592e-04 - root_mean_squared_error: 0.0301 - val_loss: 8.9031e-04 - val_root_mean_squared_error: 0.0298 - 1s/epoch - 2ms/step\n",
      "Epoch 78/1000\n",
      "640/640 - 1s - loss: 7.9306e-04 - root_mean_squared_error: 0.0282 - val_loss: 7.7728e-04 - val_root_mean_squared_error: 0.0279 - 1s/epoch - 2ms/step\n",
      "Epoch 79/1000\n",
      "640/640 - 1s - loss: 6.9067e-04 - root_mean_squared_error: 0.0263 - val_loss: 6.7968e-04 - val_root_mean_squared_error: 0.0261 - 1s/epoch - 2ms/step\n",
      "Epoch 80/1000\n",
      "640/640 - 1s - loss: 6.0474e-04 - root_mean_squared_error: 0.0246 - val_loss: 6.0425e-04 - val_root_mean_squared_error: 0.0246 - 1s/epoch - 2ms/step\n",
      "Epoch 81/1000\n",
      "640/640 - 1s - loss: 5.3633e-04 - root_mean_squared_error: 0.0232 - val_loss: 5.3638e-04 - val_root_mean_squared_error: 0.0232 - 1s/epoch - 2ms/step\n",
      "Epoch 82/1000\n",
      "640/640 - 1s - loss: 4.7484e-04 - root_mean_squared_error: 0.0218 - val_loss: 4.8030e-04 - val_root_mean_squared_error: 0.0219 - 1s/epoch - 2ms/step\n",
      "Epoch 83/1000\n",
      "640/640 - 1s - loss: 4.2450e-04 - root_mean_squared_error: 0.0206 - val_loss: 4.3258e-04 - val_root_mean_squared_error: 0.0208 - 1s/epoch - 2ms/step\n",
      "Epoch 84/1000\n",
      "640/640 - 1s - loss: 3.7975e-04 - root_mean_squared_error: 0.0195 - val_loss: 3.8928e-04 - val_root_mean_squared_error: 0.0197 - 1s/epoch - 2ms/step\n",
      "Epoch 85/1000\n",
      "640/640 - 1s - loss: 3.4352e-04 - root_mean_squared_error: 0.0185 - val_loss: 3.5582e-04 - val_root_mean_squared_error: 0.0189 - 1s/epoch - 2ms/step\n",
      "Epoch 86/1000\n",
      "640/640 - 1s - loss: 3.1129e-04 - root_mean_squared_error: 0.0176 - val_loss: 3.3054e-04 - val_root_mean_squared_error: 0.0182 - 1s/epoch - 2ms/step\n",
      "Epoch 87/1000\n",
      "640/640 - 1s - loss: 2.8445e-04 - root_mean_squared_error: 0.0169 - val_loss: 3.0171e-04 - val_root_mean_squared_error: 0.0174 - 1s/epoch - 2ms/step\n",
      "Epoch 88/1000\n",
      "640/640 - 1s - loss: 2.6032e-04 - root_mean_squared_error: 0.0161 - val_loss: 2.7817e-04 - val_root_mean_squared_error: 0.0167 - 1s/epoch - 2ms/step\n",
      "Epoch 89/1000\n",
      "640/640 - 1s - loss: 2.3982e-04 - root_mean_squared_error: 0.0155 - val_loss: 2.5812e-04 - val_root_mean_squared_error: 0.0161 - 1s/epoch - 2ms/step\n",
      "Epoch 90/1000\n",
      "640/640 - 1s - loss: 2.1857e-04 - root_mean_squared_error: 0.0148 - val_loss: 2.3609e-04 - val_root_mean_squared_error: 0.0154 - 1s/epoch - 2ms/step\n",
      "Epoch 91/1000\n",
      "640/640 - 1s - loss: 2.0003e-04 - root_mean_squared_error: 0.0141 - val_loss: 2.1909e-04 - val_root_mean_squared_error: 0.0148 - 1s/epoch - 2ms/step\n",
      "Epoch 92/1000\n",
      "640/640 - 1s - loss: 1.8532e-04 - root_mean_squared_error: 0.0136 - val_loss: 2.0479e-04 - val_root_mean_squared_error: 0.0143 - 1s/epoch - 2ms/step\n",
      "Epoch 93/1000\n",
      "640/640 - 1s - loss: 1.7064e-04 - root_mean_squared_error: 0.0131 - val_loss: 1.9105e-04 - val_root_mean_squared_error: 0.0138 - 1s/epoch - 2ms/step\n",
      "Epoch 94/1000\n",
      "640/640 - 1s - loss: 1.5713e-04 - root_mean_squared_error: 0.0125 - val_loss: 1.7921e-04 - val_root_mean_squared_error: 0.0134 - 1s/epoch - 2ms/step\n",
      "Epoch 95/1000\n",
      "640/640 - 1s - loss: 1.4659e-04 - root_mean_squared_error: 0.0121 - val_loss: 1.6787e-04 - val_root_mean_squared_error: 0.0130 - 1s/epoch - 2ms/step\n",
      "Epoch 96/1000\n",
      "640/640 - 1s - loss: 1.3714e-04 - root_mean_squared_error: 0.0117 - val_loss: 1.5681e-04 - val_root_mean_squared_error: 0.0125 - 1s/epoch - 2ms/step\n",
      "Epoch 97/1000\n",
      "640/640 - 1s - loss: 1.2860e-04 - root_mean_squared_error: 0.0113 - val_loss: 1.5122e-04 - val_root_mean_squared_error: 0.0123 - 1s/epoch - 2ms/step\n",
      "Epoch 98/1000\n",
      "640/640 - 1s - loss: 1.2234e-04 - root_mean_squared_error: 0.0111 - val_loss: 1.4169e-04 - val_root_mean_squared_error: 0.0119 - 1s/epoch - 2ms/step\n",
      "Epoch 99/1000\n",
      "640/640 - 1s - loss: 1.1526e-04 - root_mean_squared_error: 0.0107 - val_loss: 1.3341e-04 - val_root_mean_squared_error: 0.0116 - 1s/epoch - 2ms/step\n",
      "Epoch 100/1000\n",
      "640/640 - 1s - loss: 1.0965e-04 - root_mean_squared_error: 0.0105 - val_loss: 1.2578e-04 - val_root_mean_squared_error: 0.0112 - 1s/epoch - 2ms/step\n",
      "Epoch 101/1000\n",
      "640/640 - 1s - loss: 1.0397e-04 - root_mean_squared_error: 0.0102 - val_loss: 1.1921e-04 - val_root_mean_squared_error: 0.0109 - 1s/epoch - 2ms/step\n",
      "Epoch 102/1000\n",
      "640/640 - 1s - loss: 9.7950e-05 - root_mean_squared_error: 0.0099 - val_loss: 1.1523e-04 - val_root_mean_squared_error: 0.0107 - 1s/epoch - 2ms/step\n",
      "Epoch 103/1000\n",
      "640/640 - 1s - loss: 9.3060e-05 - root_mean_squared_error: 0.0096 - val_loss: 1.0458e-04 - val_root_mean_squared_error: 0.0102 - 1s/epoch - 2ms/step\n",
      "Epoch 104/1000\n",
      "640/640 - 1s - loss: 8.8805e-05 - root_mean_squared_error: 0.0094 - val_loss: 9.9259e-05 - val_root_mean_squared_error: 0.0100 - 1s/epoch - 2ms/step\n",
      "Epoch 105/1000\n",
      "640/640 - 1s - loss: 8.4205e-05 - root_mean_squared_error: 0.0092 - val_loss: 9.5580e-05 - val_root_mean_squared_error: 0.0098 - 1s/epoch - 2ms/step\n",
      "Epoch 106/1000\n",
      "640/640 - 1s - loss: 8.0481e-05 - root_mean_squared_error: 0.0090 - val_loss: 8.9258e-05 - val_root_mean_squared_error: 0.0094 - 1s/epoch - 2ms/step\n",
      "Epoch 107/1000\n",
      "640/640 - 1s - loss: 7.6850e-05 - root_mean_squared_error: 0.0088 - val_loss: 8.7676e-05 - val_root_mean_squared_error: 0.0094 - 1s/epoch - 2ms/step\n",
      "Epoch 108/1000\n",
      "640/640 - 1s - loss: 7.1192e-05 - root_mean_squared_error: 0.0084 - val_loss: 7.6033e-05 - val_root_mean_squared_error: 0.0087 - 1s/epoch - 2ms/step\n",
      "Epoch 109/1000\n",
      "640/640 - 1s - loss: 6.4799e-05 - root_mean_squared_error: 0.0080 - val_loss: 7.2156e-05 - val_root_mean_squared_error: 0.0085 - 1s/epoch - 2ms/step\n",
      "Epoch 110/1000\n",
      "640/640 - 1s - loss: 6.0198e-05 - root_mean_squared_error: 0.0078 - val_loss: 6.5212e-05 - val_root_mean_squared_error: 0.0081 - 1s/epoch - 2ms/step\n",
      "Epoch 111/1000\n",
      "640/640 - 1s - loss: 5.6201e-05 - root_mean_squared_error: 0.0075 - val_loss: 6.0935e-05 - val_root_mean_squared_error: 0.0078 - 1s/epoch - 2ms/step\n",
      "Epoch 112/1000\n",
      "640/640 - 1s - loss: 5.2856e-05 - root_mean_squared_error: 0.0073 - val_loss: 5.7975e-05 - val_root_mean_squared_error: 0.0076 - 1s/epoch - 2ms/step\n",
      "Epoch 113/1000\n",
      "640/640 - 1s - loss: 4.9089e-05 - root_mean_squared_error: 0.0070 - val_loss: 5.4163e-05 - val_root_mean_squared_error: 0.0074 - 1s/epoch - 2ms/step\n",
      "Epoch 114/1000\n",
      "640/640 - 1s - loss: 4.6462e-05 - root_mean_squared_error: 0.0068 - val_loss: 5.0559e-05 - val_root_mean_squared_error: 0.0071 - 1s/epoch - 2ms/step\n",
      "Epoch 115/1000\n",
      "640/640 - 1s - loss: 4.3465e-05 - root_mean_squared_error: 0.0066 - val_loss: 4.6934e-05 - val_root_mean_squared_error: 0.0069 - 1s/epoch - 2ms/step\n",
      "Epoch 116/1000\n",
      "640/640 - 1s - loss: 4.0507e-05 - root_mean_squared_error: 0.0064 - val_loss: 4.4157e-05 - val_root_mean_squared_error: 0.0066 - 1s/epoch - 2ms/step\n",
      "Epoch 117/1000\n",
      "640/640 - 1s - loss: 3.8624e-05 - root_mean_squared_error: 0.0062 - val_loss: 4.3147e-05 - val_root_mean_squared_error: 0.0066 - 1s/epoch - 2ms/step\n",
      "Epoch 118/1000\n",
      "640/640 - 1s - loss: 3.6323e-05 - root_mean_squared_error: 0.0060 - val_loss: 3.9337e-05 - val_root_mean_squared_error: 0.0063 - 1s/epoch - 2ms/step\n",
      "Epoch 119/1000\n",
      "640/640 - 1s - loss: 3.4505e-05 - root_mean_squared_error: 0.0059 - val_loss: 3.7352e-05 - val_root_mean_squared_error: 0.0061 - 1s/epoch - 2ms/step\n",
      "Epoch 120/1000\n",
      "640/640 - 1s - loss: 3.2561e-05 - root_mean_squared_error: 0.0057 - val_loss: 3.4161e-05 - val_root_mean_squared_error: 0.0058 - 1s/epoch - 2ms/step\n",
      "Epoch 121/1000\n",
      "640/640 - 1s - loss: 3.0989e-05 - root_mean_squared_error: 0.0056 - val_loss: 3.2256e-05 - val_root_mean_squared_error: 0.0057 - 1s/epoch - 2ms/step\n",
      "Epoch 122/1000\n",
      "640/640 - 1s - loss: 2.9487e-05 - root_mean_squared_error: 0.0054 - val_loss: 3.1072e-05 - val_root_mean_squared_error: 0.0056 - 1s/epoch - 2ms/step\n",
      "Epoch 123/1000\n",
      "640/640 - 1s - loss: 2.8288e-05 - root_mean_squared_error: 0.0053 - val_loss: 3.0533e-05 - val_root_mean_squared_error: 0.0055 - 1s/epoch - 2ms/step\n",
      "Epoch 124/1000\n",
      "640/640 - 1s - loss: 2.7425e-05 - root_mean_squared_error: 0.0052 - val_loss: 2.8831e-05 - val_root_mean_squared_error: 0.0054 - 1s/epoch - 2ms/step\n",
      "Epoch 125/1000\n",
      "640/640 - 1s - loss: 2.6167e-05 - root_mean_squared_error: 0.0051 - val_loss: 2.7597e-05 - val_root_mean_squared_error: 0.0053 - 1s/epoch - 2ms/step\n",
      "Epoch 126/1000\n",
      "640/640 - 1s - loss: 2.5588e-05 - root_mean_squared_error: 0.0051 - val_loss: 2.6283e-05 - val_root_mean_squared_error: 0.0051 - 1s/epoch - 2ms/step\n",
      "Epoch 127/1000\n",
      "640/640 - 1s - loss: 2.4673e-05 - root_mean_squared_error: 0.0050 - val_loss: 2.5256e-05 - val_root_mean_squared_error: 0.0050 - 1s/epoch - 2ms/step\n",
      "Epoch 128/1000\n",
      "640/640 - 1s - loss: 2.4201e-05 - root_mean_squared_error: 0.0049 - val_loss: 2.5781e-05 - val_root_mean_squared_error: 0.0051 - 1s/epoch - 2ms/step\n",
      "Epoch 129/1000\n",
      "640/640 - 1s - loss: 2.3530e-05 - root_mean_squared_error: 0.0049 - val_loss: 2.3875e-05 - val_root_mean_squared_error: 0.0049 - 1s/epoch - 2ms/step\n",
      "Epoch 130/1000\n",
      "640/640 - 1s - loss: 2.2686e-05 - root_mean_squared_error: 0.0048 - val_loss: 2.2781e-05 - val_root_mean_squared_error: 0.0048 - 1s/epoch - 2ms/step\n",
      "Epoch 131/1000\n",
      "640/640 - 1s - loss: 2.1767e-05 - root_mean_squared_error: 0.0047 - val_loss: 2.2315e-05 - val_root_mean_squared_error: 0.0047 - 1s/epoch - 2ms/step\n",
      "Epoch 132/1000\n",
      "640/640 - 1s - loss: 2.1334e-05 - root_mean_squared_error: 0.0046 - val_loss: 2.1460e-05 - val_root_mean_squared_error: 0.0046 - 1s/epoch - 2ms/step\n",
      "Epoch 133/1000\n",
      "640/640 - 1s - loss: 2.0914e-05 - root_mean_squared_error: 0.0046 - val_loss: 2.0534e-05 - val_root_mean_squared_error: 0.0045 - 1s/epoch - 2ms/step\n",
      "Epoch 134/1000\n",
      "640/640 - 1s - loss: 2.0339e-05 - root_mean_squared_error: 0.0045 - val_loss: 2.0606e-05 - val_root_mean_squared_error: 0.0045 - 1s/epoch - 2ms/step\n",
      "Epoch 135/1000\n",
      "640/640 - 1s - loss: 1.9798e-05 - root_mean_squared_error: 0.0044 - val_loss: 1.9583e-05 - val_root_mean_squared_error: 0.0044 - 1s/epoch - 2ms/step\n",
      "Epoch 136/1000\n",
      "640/640 - 1s - loss: 1.9380e-05 - root_mean_squared_error: 0.0044 - val_loss: 2.0735e-05 - val_root_mean_squared_error: 0.0046 - 1s/epoch - 2ms/step\n",
      "Epoch 137/1000\n",
      "640/640 - 1s - loss: 1.9201e-05 - root_mean_squared_error: 0.0044 - val_loss: 1.9226e-05 - val_root_mean_squared_error: 0.0044 - 1s/epoch - 2ms/step\n",
      "Epoch 138/1000\n",
      "640/640 - 1s - loss: 1.8749e-05 - root_mean_squared_error: 0.0043 - val_loss: 1.8348e-05 - val_root_mean_squared_error: 0.0043 - 1s/epoch - 2ms/step\n",
      "Epoch 139/1000\n",
      "640/640 - 2s - loss: 1.8339e-05 - root_mean_squared_error: 0.0043 - val_loss: 1.8929e-05 - val_root_mean_squared_error: 0.0044 - 2s/epoch - 3ms/step\n",
      "Epoch 140/1000\n",
      "640/640 - 1s - loss: 1.7980e-05 - root_mean_squared_error: 0.0042 - val_loss: 1.7921e-05 - val_root_mean_squared_error: 0.0042 - 1s/epoch - 2ms/step\n",
      "Epoch 141/1000\n",
      "640/640 - 1s - loss: 1.7262e-05 - root_mean_squared_error: 0.0042 - val_loss: 1.8586e-05 - val_root_mean_squared_error: 0.0043 - 1s/epoch - 2ms/step\n",
      "Epoch 142/1000\n",
      "640/640 - 1s - loss: 1.7570e-05 - root_mean_squared_error: 0.0042 - val_loss: 1.7453e-05 - val_root_mean_squared_error: 0.0042 - 1s/epoch - 2ms/step\n",
      "Epoch 143/1000\n",
      "640/640 - 2s - loss: 1.6897e-05 - root_mean_squared_error: 0.0041 - val_loss: 1.6694e-05 - val_root_mean_squared_error: 0.0041 - 2s/epoch - 3ms/step\n",
      "Epoch 144/1000\n",
      "640/640 - 2s - loss: 1.6513e-05 - root_mean_squared_error: 0.0041 - val_loss: 1.6636e-05 - val_root_mean_squared_error: 0.0041 - 2s/epoch - 2ms/step\n",
      "Epoch 145/1000\n",
      "640/640 - 1s - loss: 1.6449e-05 - root_mean_squared_error: 0.0041 - val_loss: 1.5826e-05 - val_root_mean_squared_error: 0.0040 - 1s/epoch - 2ms/step\n",
      "Epoch 146/1000\n",
      "640/640 - 1s - loss: 1.6255e-05 - root_mean_squared_error: 0.0040 - val_loss: 1.5283e-05 - val_root_mean_squared_error: 0.0039 - 1s/epoch - 2ms/step\n",
      "Epoch 147/1000\n",
      "640/640 - 2s - loss: 1.5758e-05 - root_mean_squared_error: 0.0040 - val_loss: 1.5688e-05 - val_root_mean_squared_error: 0.0040 - 2s/epoch - 3ms/step\n",
      "Epoch 148/1000\n",
      "640/640 - 2s - loss: 1.5562e-05 - root_mean_squared_error: 0.0039 - val_loss: 1.4587e-05 - val_root_mean_squared_error: 0.0038 - 2s/epoch - 2ms/step\n",
      "Epoch 149/1000\n",
      "640/640 - 1s - loss: 1.5362e-05 - root_mean_squared_error: 0.0039 - val_loss: 1.4518e-05 - val_root_mean_squared_error: 0.0038 - 1s/epoch - 2ms/step\n",
      "Epoch 150/1000\n",
      "640/640 - 1s - loss: 1.5058e-05 - root_mean_squared_error: 0.0039 - val_loss: 1.4978e-05 - val_root_mean_squared_error: 0.0039 - 1s/epoch - 2ms/step\n",
      "Epoch 151/1000\n",
      "640/640 - 1s - loss: 1.4897e-05 - root_mean_squared_error: 0.0039 - val_loss: 1.4399e-05 - val_root_mean_squared_error: 0.0038 - 1s/epoch - 2ms/step\n",
      "Epoch 152/1000\n",
      "640/640 - 1s - loss: 1.4571e-05 - root_mean_squared_error: 0.0038 - val_loss: 1.3992e-05 - val_root_mean_squared_error: 0.0037 - 1s/epoch - 2ms/step\n",
      "Epoch 153/1000\n",
      "640/640 - 1s - loss: 1.4610e-05 - root_mean_squared_error: 0.0038 - val_loss: 1.3726e-05 - val_root_mean_squared_error: 0.0037 - 1s/epoch - 2ms/step\n",
      "Epoch 154/1000\n",
      "640/640 - 1s - loss: 1.4075e-05 - root_mean_squared_error: 0.0038 - val_loss: 1.5596e-05 - val_root_mean_squared_error: 0.0039 - 1s/epoch - 2ms/step\n",
      "Epoch 155/1000\n",
      "640/640 - 1s - loss: 1.3860e-05 - root_mean_squared_error: 0.0037 - val_loss: 1.2805e-05 - val_root_mean_squared_error: 0.0036 - 1s/epoch - 2ms/step\n",
      "Epoch 156/1000\n",
      "640/640 - 1s - loss: 1.3654e-05 - root_mean_squared_error: 0.0037 - val_loss: 1.4160e-05 - val_root_mean_squared_error: 0.0038 - 1s/epoch - 2ms/step\n",
      "Epoch 157/1000\n",
      "640/640 - 1s - loss: 1.3381e-05 - root_mean_squared_error: 0.0037 - val_loss: 1.2584e-05 - val_root_mean_squared_error: 0.0035 - 1s/epoch - 2ms/step\n",
      "Epoch 158/1000\n",
      "640/640 - 1s - loss: 1.3010e-05 - root_mean_squared_error: 0.0036 - val_loss: 1.3644e-05 - val_root_mean_squared_error: 0.0037 - 1s/epoch - 2ms/step\n",
      "Epoch 159/1000\n",
      "640/640 - 1s - loss: 1.3427e-05 - root_mean_squared_error: 0.0037 - val_loss: 1.3368e-05 - val_root_mean_squared_error: 0.0037 - 1s/epoch - 2ms/step\n"
     ]
    }
   ],
   "source": [
    "# fit the model\n",
    "history = model.fit(\n",
    "    train_inputs, train_targets, batch_size=BATCH_SIZE,epochs=MAX_EPOCHS, callbacks=[early_stopping], validation_data=(validation_inputs, validation_targets), verbose=2\n",
    "          )"
   ]
  },
  {
   "cell_type": "code",
   "execution_count": 337,
   "metadata": {},
   "outputs": [
    {
     "name": "stdout",
     "output_type": "stream",
     "text": [
      "Model: \"sequential_20\"\n",
      "_________________________________________________________________\n",
      " Layer (type)                Output Shape              Param #   \n",
      "=================================================================\n",
      " dense_94 (Dense)            (1, 3)                    12        \n",
      "                                                                 \n",
      " dense_95 (Dense)            (1, 10)                   40        \n",
      "                                                                 \n",
      " dense_96 (Dense)            (1, 10)                   110       \n",
      "                                                                 \n",
      " dense_97 (Dense)            (1, 10)                   110       \n",
      "                                                                 \n",
      " dense_98 (Dense)            (1, 1)                    11        \n",
      "                                                                 \n",
      "=================================================================\n",
      "Total params: 283\n",
      "Trainable params: 283\n",
      "Non-trainable params: 0\n",
      "_________________________________________________________________\n"
     ]
    }
   ],
   "source": [
    "# ANN model summary\n",
    "model.summary()"
   ]
  },
  {
   "cell_type": "code",
   "execution_count": 338,
   "metadata": {},
   "outputs": [
    {
     "data": {
      "image/png": "[encoded data removed]",
      "text/plain": [
       "<Figure size 640x480 with 1 Axes>"
      ]
     },
     "metadata": {},
     "output_type": "display_data"
    }
   ],
   "source": [
    "import matplotlib.pyplot as plt\n",
    "plt.plot(history.history['loss'], label='Training_loss')\n",
    "plt.plot(history.history['val_loss'], label='Validation_loss')\n",
    "plt.xlabel('epochs')\n",
    "plt.ylabel('loss')\n",
    "plt.legend()\n",
    "plt.show()"
   ]
  },
  {
   "cell_type": "markdown",
   "metadata": {},
   "source": [
    "# Model check on Test data"
   ]
  },
  {
   "cell_type": "code",
   "execution_count": 339,
   "metadata": {},
   "outputs": [
    {
     "name": "stdout",
     "output_type": "stream",
     "text": [
      "3/3 [==============================] - 1s 6ms/step - loss: 1.5317e-05 - root_mean_squared_error: 0.0039\n"
     ]
    }
   ],
   "source": [
    "test_loss, test_accuracy = model.evaluate(test_inputs, test_targets)"
   ]
  },
  {
   "cell_type": "code",
   "execution_count": 340,
   "metadata": {},
   "outputs": [
    {
     "name": "stdout",
     "output_type": "stream",
     "text": [
      "\n",
      "Test loss: 0.0000. Test accuracy: 0.0039 rmse\n"
     ]
    }
   ],
   "source": [
    "print('\\nTest loss: {0:.4f}. Test accuracy: {1:.4f} rmse'.format(test_loss, test_accuracy))"
   ]
  },
  {
   "cell_type": "code",
   "execution_count": 341,
   "metadata": {},
   "outputs": [
    {
     "name": "stdout",
     "output_type": "stream",
     "text": [
      "3/3 [==============================] - 0s 4ms/step\n"
     ]
    },
    {
     "data": {
      "text/html": [
       "<div>\n",
       "<style scoped>\n",
       "    .dataframe tbody tr th:only-of-type {\n",
       "        vertical-align: middle;\n",
       "    }\n",
       "\n",
       "    .dataframe tbody tr th {\n",
       "        vertical-align: top;\n",
       "    }\n",
       "\n",
       "    .dataframe thead th {\n",
       "        text-align: right;\n",
       "    }\n",
       "</style>\n",
       "<table border=\"1\" class=\"dataframe\">\n",
       "  <thead>\n",
       "    <tr style=\"text-align: right;\">\n",
       "      <th></th>\n",
       "      <th>Target-St(%)</th>\n",
       "      <th>Prediction-St(%)</th>\n",
       "      <th>Pred-Accu-St(%)</th>\n",
       "    </tr>\n",
       "  </thead>\n",
       "  <tbody>\n",
       "    <tr>\n",
       "      <th>0</th>\n",
       "      <td>0.938</td>\n",
       "      <td>0.936</td>\n",
       "      <td>99.79</td>\n",
       "    </tr>\n",
       "    <tr>\n",
       "      <th>1</th>\n",
       "      <td>0.991</td>\n",
       "      <td>0.998</td>\n",
       "      <td>100.71</td>\n",
       "    </tr>\n",
       "    <tr>\n",
       "      <th>2</th>\n",
       "      <td>0.977</td>\n",
       "      <td>0.977</td>\n",
       "      <td>100.00</td>\n",
       "    </tr>\n",
       "    <tr>\n",
       "      <th>3</th>\n",
       "      <td>0.977</td>\n",
       "      <td>0.979</td>\n",
       "      <td>100.20</td>\n",
       "    </tr>\n",
       "    <tr>\n",
       "      <th>4</th>\n",
       "      <td>1.000</td>\n",
       "      <td>1.003</td>\n",
       "      <td>100.30</td>\n",
       "    </tr>\n",
       "    <tr>\n",
       "      <th>...</th>\n",
       "      <td>...</td>\n",
       "      <td>...</td>\n",
       "      <td>...</td>\n",
       "    </tr>\n",
       "    <tr>\n",
       "      <th>75</th>\n",
       "      <td>0.951</td>\n",
       "      <td>0.954</td>\n",
       "      <td>100.32</td>\n",
       "    </tr>\n",
       "    <tr>\n",
       "      <th>76</th>\n",
       "      <td>0.930</td>\n",
       "      <td>0.936</td>\n",
       "      <td>100.65</td>\n",
       "    </tr>\n",
       "    <tr>\n",
       "      <th>77</th>\n",
       "      <td>1.000</td>\n",
       "      <td>1.003</td>\n",
       "      <td>100.30</td>\n",
       "    </tr>\n",
       "    <tr>\n",
       "      <th>78</th>\n",
       "      <td>0.938</td>\n",
       "      <td>0.936</td>\n",
       "      <td>99.79</td>\n",
       "    </tr>\n",
       "    <tr>\n",
       "      <th>79</th>\n",
       "      <td>0.990</td>\n",
       "      <td>0.981</td>\n",
       "      <td>99.09</td>\n",
       "    </tr>\n",
       "  </tbody>\n",
       "</table>\n",
       "<p>80 rows × 3 columns</p>\n",
       "</div>"
      ],
      "text/plain": [
       "    Target-St(%)  Prediction-St(%)  Pred-Accu-St(%)\n",
       "0          0.938             0.936            99.79\n",
       "1          0.991             0.998           100.71\n",
       "2          0.977             0.977           100.00\n",
       "3          0.977             0.979           100.20\n",
       "4          1.000             1.003           100.30\n",
       "..           ...               ...              ...\n",
       "75         0.951             0.954           100.32\n",
       "76         0.930             0.936           100.65\n",
       "77         1.000             1.003           100.30\n",
       "78         0.938             0.936            99.79\n",
       "79         0.990             0.981            99.09\n",
       "\n",
       "[80 rows x 3 columns]"
      ]
     },
     "execution_count": 341,
     "metadata": {},
     "output_type": "execute_result"
    }
   ],
   "source": [
    "prediction = model.predict(test_inputs)\n",
    "data_inputs = pd.DataFrame(test_inputs)\n",
    "prediction = pd.DataFrame(np.round(prediction,3))\n",
    "test_targets = pd.DataFrame(test_targets)\n",
    "pred_accu = np.round((prediction/test_targets)*100,2)\n",
    "\n",
    "result = pd.concat([test_targets, prediction, pred_accu], axis = 1, ignore_index=True)\n",
    "result.columns = ['Target-St(%)', 'Prediction-St(%)','Pred-Accu-St(%)']\n",
    "result"
   ]
  },
  {
   "cell_type": "code",
   "execution_count": 342,
   "metadata": {},
   "outputs": [
    {
     "data": {
      "text/plain": [
       "Text(0.5, 0, 'Targets (red) & Predictions (blue)')"
      ]
     },
     "execution_count": 342,
     "metadata": {},
     "output_type": "execute_result"
    },
    {
     "data": {
      "image/png": "[encoded data removed]",
      "text/plain": [
       "<Figure size 640x480 with 1 Axes>"
      ]
     },
     "metadata": {},
     "output_type": "display_data"
    }
   ],
   "source": [
    "import matplotlib.pyplot as plt\n",
    "plt.scatter(result['Target-St(%)'], result['Pred-Accu-St(%)'], alpha=0.5, color='r')\n",
    "plt.scatter(result['Prediction-St(%)'], result['Pred-Accu-St(%)'],alpha=0.5, color='b')\n",
    "plt.ylabel('Error in the prediction(%)')\n",
    "plt.xlabel('Targets (red) & Predictions (blue)')"
   ]
  },
  {
   "cell_type": "code",
   "execution_count": 351,
   "metadata": {},
   "outputs": [
    {
     "data": {
      "text/plain": [
       "Text(0.5, 0, 'Targets (red) & Predictions (green)')"
      ]
     },
     "execution_count": 351,
     "metadata": {},
     "output_type": "execute_result"
    },
    {
     "data": {
      "image/png": "[encoded data removed]",
      "text/plain": [
       "<Figure size 640x480 with 1 Axes>"
      ]
     },
     "metadata": {},
     "output_type": "display_data"
    }
   ],
   "source": [
    "plt.scatter(result['Target-St(%)'], result['Target-St(%)'], alpha=0.5, color='r')\n",
    "plt.scatter(result['Target-St(%)'], result['Prediction-St(%)'], alpha=0.4, color='g')\n",
    "\n",
    "plt.ylabel('predictions')\n",
    "plt.xlabel('Targets (red) & Predictions (green)')"
   ]
  },
  {
   "cell_type": "code",
   "execution_count": 344,
   "metadata": {},
   "outputs": [
    {
     "data": {
      "text/plain": [
       "0.9679"
      ]
     },
     "execution_count": 344,
     "metadata": {},
     "output_type": "execute_result"
    }
   ],
   "source": [
    "# estimation of R2 score\n",
    "from sklearn.metrics import r2_score\n",
    "r2_score_test = r2_score(test_targets, prediction)\n",
    "np.round(r2_score_test,4)"
   ]
  },
  {
   "cell_type": "code",
   "execution_count": 345,
   "metadata": {},
   "outputs": [
    {
     "data": {
      "text/plain": [
       "0.9666"
      ]
     },
     "execution_count": 345,
     "metadata": {},
     "output_type": "execute_result"
    }
   ],
   "source": [
    "# estimation of adjusted R2 score\n",
    "n = np.size(test_targets)\n",
    "k = 3 # number of features\n",
    "adj_r2_score = 1 - (((1-r2_score_test)*(n-1))/((n-k-1)))\n",
    "np.round(adj_r2_score,4)"
   ]
  },
  {
   "cell_type": "code",
   "execution_count": 346,
   "metadata": {},
   "outputs": [
    {
     "name": "stdout",
     "output_type": "stream",
     "text": [
      "Uncertainty of the ANN model: 0.4 [%]\n",
      "Average test prediction precision 99.6 [%]\n"
     ]
    }
   ],
   "source": [
    "mean_pred = pred_accu.mean()\n",
    "std_pred = pred_accu.std()\n",
    "uncertainty_model = std_pred\n",
    "print(\"Uncertainty of the ANN model:\", np.round(uncertainty_model[0],2), '[%]')\n",
    "print(\"Average test prediction precision\", np.round(100 - uncertainty_model[0],2), '[%]')"
   ]
  },
  {
   "cell_type": "markdown",
   "metadata": {},
   "source": [
    "# ANN Model Deployment"
   ]
  },
  {
   "cell_type": "markdown",
   "metadata": {},
   "source": [
    "ANN model deployment for micro DSC error prediction"
   ]
  },
  {
   "cell_type": "code",
   "execution_count": 347,
   "metadata": {},
   "outputs": [],
   "source": [
    "import keras\n",
    "model.save('micro_dsc_dl.h5')"
   ]
  },
  {
   "cell_type": "code",
   "execution_count": null,
   "metadata": {},
   "outputs": [],
   "source": []
  }
 ],
 "metadata": {
  "kernelspec": {
   "display_name": ".venv",
   "language": "python",
   "name": "python3"
  },
  "language_info": {
   "codemirror_mode": {
    "name": "ipython",
    "version": 3
   },
   "file_extension": ".py",
   "mimetype": "text/x-python",
   "name": "python",
   "nbconvert_exporter": "python",
   "pygments_lexer": "ipython3",
   "version": "3.8.9"
  },
  "orig_nbformat": 4,
  "vscode": {
   "interpreter": {
    "hash": "6922cdaeb71861185ead2220765f61360c8c577271e89b0df9cb02b0ddb1fa67"
   }
  }
 },
 "nbformat": 4,
 "nbformat_minor": 2
}
