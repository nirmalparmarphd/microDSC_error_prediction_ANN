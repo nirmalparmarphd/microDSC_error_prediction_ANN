{
 "cells": [
  {
   "cell_type": "markdown",
   "metadata": {},
   "source": [
    "# DNN Model"
   ]
  },
  {
   "cell_type": "code",
   "execution_count": 270,
   "metadata": {},
   "outputs": [],
   "source": [
    "import numpy as np\n",
    "import pandas as pd\n",
    "import tensorflow as tf"
   ]
  },
  {
   "cell_type": "code",
   "execution_count": 271,
   "metadata": {},
   "outputs": [],
   "source": [
    "# data loading from .npz generated from tcr_data_process.ipynb\n",
    "# loading train data\n",
    "npz = np.load('data_train.npz')\n",
    "train_inputs = npz['input'].astype(np.float64)\n",
    "train_targets = npz['targets'].astype(np.float64)\n",
    "# loading validation data\n",
    "npz = np.load('data_validation.npz')\n",
    "validation_inputs, validation_targets = npz['input'].astype(np.float64), npz['targets'].astype(np.float64)\n",
    "\n",
    "npz = np.load('data_test.npz')\n",
    "test_inputs, test_targets = npz['input'].astype(np.float64), npz['targets'].astype(np.float64)"
   ]
  },
  {
   "cell_type": "markdown",
   "metadata": {},
   "source": [
    "# ANN Model"
   ]
  },
  {
   "cell_type": "markdown",
   "metadata": {},
   "source": [
    "Outline, Optimizer, Loss function, Early stopping and Training rate"
   ]
  },
  {
   "cell_type": "code",
   "execution_count": 272,
   "metadata": {},
   "outputs": [],
   "source": [
    "# NN model prep\n",
    "input_size = 19\n",
    "output_size = 1\n",
    "hidden_layer_1_size = 50\n",
    "hidden_layer_2_size = 50\n",
    "hidden_layer_3_size = 25\n",
    "\n",
    "model = tf.keras.Sequential([\n",
    "    tf.keras.layers.Dense(input_size),\n",
    "    tf.keras.layers.Dense(hidden_layer_1_size, activation='relu'),\n",
    "    tf.keras.layers.Dense(hidden_layer_2_size, activation='relu'),\n",
    "    tf.keras.layers.Dense(hidden_layer_3_size, activation='relu'),\n",
    "    tf.keras.layers.Dense(output_size, activation='sigmoid'),\n",
    "])\n"
   ]
  },
  {
   "cell_type": "code",
   "execution_count": 273,
   "metadata": {},
   "outputs": [],
   "source": [
    "# model prep, optimizer and loss function\n",
    "optimizer = tf.keras.optimizers.Adam(learning_rate=0.00001)\n",
    "model.compile(optimizer, loss=tf.keras.losses.MeanSquaredError(), metrics=[tf.keras.metrics.RootMeanSquaredError()])\n",
    "\n"
   ]
  },
  {
   "cell_type": "code",
   "execution_count": 274,
   "metadata": {},
   "outputs": [],
   "source": [
    "# Training\n",
    "BATCH_SIZE = 1\n",
    "MAX_EPOCHS = 1000\n",
    "early_stopping = tf.keras.callbacks.EarlyStopping(patience=2)"
   ]
  },
  {
   "cell_type": "code",
   "execution_count": 275,
   "metadata": {},
   "outputs": [
    {
     "name": "stdout",
     "output_type": "stream",
     "text": [
      "Epoch 1/1000\n",
      "102/102 - 7s - loss: 0.3104 - root_mean_squared_error: 0.5571 - val_loss: 0.2962 - val_root_mean_squared_error: 0.5442 - 7s/epoch - 72ms/step\n",
      "Epoch 2/1000\n",
      "102/102 - 1s - loss: 0.2972 - root_mean_squared_error: 0.5451 - val_loss: 0.2829 - val_root_mean_squared_error: 0.5318 - 812ms/epoch - 8ms/step\n",
      "Epoch 3/1000\n",
      "102/102 - 1s - loss: 0.2844 - root_mean_squared_error: 0.5333 - val_loss: 0.2703 - val_root_mean_squared_error: 0.5199 - 1s/epoch - 11ms/step\n",
      "Epoch 4/1000\n",
      "102/102 - 1s - loss: 0.2721 - root_mean_squared_error: 0.5217 - val_loss: 0.2580 - val_root_mean_squared_error: 0.5080 - 629ms/epoch - 6ms/step\n",
      "Epoch 5/1000\n",
      "102/102 - 1s - loss: 0.2602 - root_mean_squared_error: 0.5101 - val_loss: 0.2464 - val_root_mean_squared_error: 0.4964 - 736ms/epoch - 7ms/step\n",
      "Epoch 6/1000\n",
      "102/102 - 1s - loss: 0.2486 - root_mean_squared_error: 0.4986 - val_loss: 0.2350 - val_root_mean_squared_error: 0.4848 - 836ms/epoch - 8ms/step\n",
      "Epoch 7/1000\n",
      "102/102 - 1s - loss: 0.2372 - root_mean_squared_error: 0.4871 - val_loss: 0.2242 - val_root_mean_squared_error: 0.4735 - 670ms/epoch - 7ms/step\n",
      "Epoch 8/1000\n",
      "102/102 - 1s - loss: 0.2266 - root_mean_squared_error: 0.4760 - val_loss: 0.2141 - val_root_mean_squared_error: 0.4627 - 799ms/epoch - 8ms/step\n",
      "Epoch 9/1000\n",
      "102/102 - 1s - loss: 0.2166 - root_mean_squared_error: 0.4654 - val_loss: 0.2044 - val_root_mean_squared_error: 0.4521 - 867ms/epoch - 8ms/step\n",
      "Epoch 10/1000\n",
      "102/102 - 1s - loss: 0.2068 - root_mean_squared_error: 0.4547 - val_loss: 0.1948 - val_root_mean_squared_error: 0.4414 - 661ms/epoch - 6ms/step\n",
      "Epoch 11/1000\n",
      "102/102 - 1s - loss: 0.1969 - root_mean_squared_error: 0.4438 - val_loss: 0.1855 - val_root_mean_squared_error: 0.4307 - 632ms/epoch - 6ms/step\n",
      "Epoch 12/1000\n",
      "102/102 - 1s - loss: 0.1877 - root_mean_squared_error: 0.4332 - val_loss: 0.1765 - val_root_mean_squared_error: 0.4201 - 643ms/epoch - 6ms/step\n",
      "Epoch 13/1000\n",
      "102/102 - 0s - loss: 0.1787 - root_mean_squared_error: 0.4227 - val_loss: 0.1680 - val_root_mean_squared_error: 0.4099 - 430ms/epoch - 4ms/step\n",
      "Epoch 14/1000\n",
      "102/102 - 1s - loss: 0.1703 - root_mean_squared_error: 0.4127 - val_loss: 0.1603 - val_root_mean_squared_error: 0.4003 - 618ms/epoch - 6ms/step\n",
      "Epoch 15/1000\n",
      "102/102 - 1s - loss: 0.1624 - root_mean_squared_error: 0.4030 - val_loss: 0.1527 - val_root_mean_squared_error: 0.3908 - 515ms/epoch - 5ms/step\n",
      "Epoch 16/1000\n",
      "102/102 - 0s - loss: 0.1548 - root_mean_squared_error: 0.3935 - val_loss: 0.1456 - val_root_mean_squared_error: 0.3816 - 354ms/epoch - 3ms/step\n",
      "Epoch 17/1000\n",
      "102/102 - 0s - loss: 0.1476 - root_mean_squared_error: 0.3841 - val_loss: 0.1389 - val_root_mean_squared_error: 0.3726 - 287ms/epoch - 3ms/step\n",
      "Epoch 18/1000\n",
      "102/102 - 0s - loss: 0.1406 - root_mean_squared_error: 0.3749 - val_loss: 0.1322 - val_root_mean_squared_error: 0.3636 - 303ms/epoch - 3ms/step\n",
      "Epoch 19/1000\n",
      "102/102 - 0s - loss: 0.1338 - root_mean_squared_error: 0.3658 - val_loss: 0.1257 - val_root_mean_squared_error: 0.3546 - 319ms/epoch - 3ms/step\n",
      "Epoch 20/1000\n",
      "102/102 - 0s - loss: 0.1271 - root_mean_squared_error: 0.3566 - val_loss: 0.1193 - val_root_mean_squared_error: 0.3454 - 295ms/epoch - 3ms/step\n",
      "Epoch 21/1000\n",
      "102/102 - 0s - loss: 0.1206 - root_mean_squared_error: 0.3472 - val_loss: 0.1132 - val_root_mean_squared_error: 0.3365 - 279ms/epoch - 3ms/step\n",
      "Epoch 22/1000\n",
      "102/102 - 0s - loss: 0.1143 - root_mean_squared_error: 0.3380 - val_loss: 0.1075 - val_root_mean_squared_error: 0.3279 - 300ms/epoch - 3ms/step\n",
      "Epoch 23/1000\n",
      "102/102 - 0s - loss: 0.1083 - root_mean_squared_error: 0.3290 - val_loss: 0.1019 - val_root_mean_squared_error: 0.3192 - 282ms/epoch - 3ms/step\n",
      "Epoch 24/1000\n",
      "102/102 - 0s - loss: 0.1024 - root_mean_squared_error: 0.3200 - val_loss: 0.0962 - val_root_mean_squared_error: 0.3102 - 269ms/epoch - 3ms/step\n",
      "Epoch 25/1000\n",
      "102/102 - 0s - loss: 0.0968 - root_mean_squared_error: 0.3112 - val_loss: 0.0908 - val_root_mean_squared_error: 0.3014 - 296ms/epoch - 3ms/step\n",
      "Epoch 26/1000\n",
      "102/102 - 0s - loss: 0.0912 - root_mean_squared_error: 0.3020 - val_loss: 0.0855 - val_root_mean_squared_error: 0.2924 - 269ms/epoch - 3ms/step\n",
      "Epoch 27/1000\n",
      "102/102 - 0s - loss: 0.0858 - root_mean_squared_error: 0.2929 - val_loss: 0.0802 - val_root_mean_squared_error: 0.2832 - 275ms/epoch - 3ms/step\n",
      "Epoch 28/1000\n",
      "102/102 - 0s - loss: 0.0806 - root_mean_squared_error: 0.2838 - val_loss: 0.0754 - val_root_mean_squared_error: 0.2745 - 262ms/epoch - 3ms/step\n",
      "Epoch 29/1000\n",
      "102/102 - 0s - loss: 0.0756 - root_mean_squared_error: 0.2750 - val_loss: 0.0706 - val_root_mean_squared_error: 0.2656 - 272ms/epoch - 3ms/step\n",
      "Epoch 30/1000\n",
      "102/102 - 0s - loss: 0.0710 - root_mean_squared_error: 0.2664 - val_loss: 0.0662 - val_root_mean_squared_error: 0.2572 - 260ms/epoch - 3ms/step\n",
      "Epoch 31/1000\n",
      "102/102 - 0s - loss: 0.0665 - root_mean_squared_error: 0.2579 - val_loss: 0.0618 - val_root_mean_squared_error: 0.2486 - 282ms/epoch - 3ms/step\n",
      "Epoch 32/1000\n",
      "102/102 - 0s - loss: 0.0622 - root_mean_squared_error: 0.2495 - val_loss: 0.0576 - val_root_mean_squared_error: 0.2401 - 277ms/epoch - 3ms/step\n",
      "Epoch 33/1000\n",
      "102/102 - 0s - loss: 0.0582 - root_mean_squared_error: 0.2412 - val_loss: 0.0538 - val_root_mean_squared_error: 0.2319 - 272ms/epoch - 3ms/step\n",
      "Epoch 34/1000\n",
      "102/102 - 0s - loss: 0.0544 - root_mean_squared_error: 0.2332 - val_loss: 0.0501 - val_root_mean_squared_error: 0.2239 - 268ms/epoch - 3ms/step\n",
      "Epoch 35/1000\n",
      "102/102 - 0s - loss: 0.0508 - root_mean_squared_error: 0.2254 - val_loss: 0.0468 - val_root_mean_squared_error: 0.2163 - 268ms/epoch - 3ms/step\n",
      "Epoch 36/1000\n",
      "102/102 - 0s - loss: 0.0474 - root_mean_squared_error: 0.2176 - val_loss: 0.0435 - val_root_mean_squared_error: 0.2086 - 266ms/epoch - 3ms/step\n",
      "Epoch 37/1000\n",
      "102/102 - 0s - loss: 0.0441 - root_mean_squared_error: 0.2101 - val_loss: 0.0405 - val_root_mean_squared_error: 0.2014 - 265ms/epoch - 3ms/step\n",
      "Epoch 38/1000\n",
      "102/102 - 0s - loss: 0.0411 - root_mean_squared_error: 0.2028 - val_loss: 0.0377 - val_root_mean_squared_error: 0.1941 - 406ms/epoch - 4ms/step\n",
      "Epoch 39/1000\n",
      "102/102 - 0s - loss: 0.0383 - root_mean_squared_error: 0.1957 - val_loss: 0.0351 - val_root_mean_squared_error: 0.1873 - 268ms/epoch - 3ms/step\n",
      "Epoch 40/1000\n",
      "102/102 - 0s - loss: 0.0357 - root_mean_squared_error: 0.1889 - val_loss: 0.0327 - val_root_mean_squared_error: 0.1808 - 264ms/epoch - 3ms/step\n",
      "Epoch 41/1000\n",
      "102/102 - 0s - loss: 0.0332 - root_mean_squared_error: 0.1823 - val_loss: 0.0304 - val_root_mean_squared_error: 0.1742 - 334ms/epoch - 3ms/step\n",
      "Epoch 42/1000\n",
      "102/102 - 0s - loss: 0.0309 - root_mean_squared_error: 0.1759 - val_loss: 0.0282 - val_root_mean_squared_error: 0.1680 - 313ms/epoch - 3ms/step\n",
      "Epoch 43/1000\n",
      "102/102 - 0s - loss: 0.0288 - root_mean_squared_error: 0.1696 - val_loss: 0.0263 - val_root_mean_squared_error: 0.1622 - 282ms/epoch - 3ms/step\n",
      "Epoch 44/1000\n",
      "102/102 - 0s - loss: 0.0268 - root_mean_squared_error: 0.1637 - val_loss: 0.0245 - val_root_mean_squared_error: 0.1564 - 293ms/epoch - 3ms/step\n",
      "Epoch 45/1000\n",
      "102/102 - 0s - loss: 0.0249 - root_mean_squared_error: 0.1578 - val_loss: 0.0227 - val_root_mean_squared_error: 0.1507 - 331ms/epoch - 3ms/step\n",
      "Epoch 46/1000\n",
      "102/102 - 0s - loss: 0.0231 - root_mean_squared_error: 0.1521 - val_loss: 0.0210 - val_root_mean_squared_error: 0.1451 - 358ms/epoch - 4ms/step\n",
      "Epoch 47/1000\n",
      "102/102 - 0s - loss: 0.0215 - root_mean_squared_error: 0.1466 - val_loss: 0.0196 - val_root_mean_squared_error: 0.1399 - 308ms/epoch - 3ms/step\n",
      "Epoch 48/1000\n",
      "102/102 - 0s - loss: 0.0200 - root_mean_squared_error: 0.1414 - val_loss: 0.0182 - val_root_mean_squared_error: 0.1347 - 269ms/epoch - 3ms/step\n",
      "Epoch 49/1000\n",
      "102/102 - 0s - loss: 0.0186 - root_mean_squared_error: 0.1364 - val_loss: 0.0168 - val_root_mean_squared_error: 0.1298 - 269ms/epoch - 3ms/step\n",
      "Epoch 50/1000\n",
      "102/102 - 0s - loss: 0.0173 - root_mean_squared_error: 0.1315 - val_loss: 0.0157 - val_root_mean_squared_error: 0.1251 - 285ms/epoch - 3ms/step\n",
      "Epoch 51/1000\n",
      "102/102 - 0s - loss: 0.0161 - root_mean_squared_error: 0.1269 - val_loss: 0.0145 - val_root_mean_squared_error: 0.1204 - 265ms/epoch - 3ms/step\n",
      "Epoch 52/1000\n",
      "102/102 - 0s - loss: 0.0150 - root_mean_squared_error: 0.1224 - val_loss: 0.0134 - val_root_mean_squared_error: 0.1159 - 262ms/epoch - 3ms/step\n",
      "Epoch 53/1000\n",
      "102/102 - 0s - loss: 0.0139 - root_mean_squared_error: 0.1180 - val_loss: 0.0124 - val_root_mean_squared_error: 0.1116 - 265ms/epoch - 3ms/step\n",
      "Epoch 54/1000\n",
      "102/102 - 0s - loss: 0.0129 - root_mean_squared_error: 0.1137 - val_loss: 0.0115 - val_root_mean_squared_error: 0.1071 - 266ms/epoch - 3ms/step\n",
      "Epoch 55/1000\n",
      "102/102 - 0s - loss: 0.0120 - root_mean_squared_error: 0.1095 - val_loss: 0.0106 - val_root_mean_squared_error: 0.1029 - 319ms/epoch - 3ms/step\n",
      "Epoch 56/1000\n",
      "102/102 - 0s - loss: 0.0111 - root_mean_squared_error: 0.1055 - val_loss: 0.0097 - val_root_mean_squared_error: 0.0986 - 266ms/epoch - 3ms/step\n",
      "Epoch 57/1000\n",
      "102/102 - 0s - loss: 0.0103 - root_mean_squared_error: 0.1016 - val_loss: 0.0089 - val_root_mean_squared_error: 0.0944 - 257ms/epoch - 3ms/step\n",
      "Epoch 58/1000\n",
      "102/102 - 0s - loss: 0.0096 - root_mean_squared_error: 0.0978 - val_loss: 0.0082 - val_root_mean_squared_error: 0.0905 - 258ms/epoch - 3ms/step\n",
      "Epoch 59/1000\n",
      "102/102 - 0s - loss: 0.0089 - root_mean_squared_error: 0.0943 - val_loss: 0.0075 - val_root_mean_squared_error: 0.0867 - 282ms/epoch - 3ms/step\n",
      "Epoch 60/1000\n",
      "102/102 - 1s - loss: 0.0083 - root_mean_squared_error: 0.0908 - val_loss: 0.0069 - val_root_mean_squared_error: 0.0829 - 566ms/epoch - 6ms/step\n",
      "Epoch 61/1000\n",
      "102/102 - 0s - loss: 0.0077 - root_mean_squared_error: 0.0875 - val_loss: 0.0063 - val_root_mean_squared_error: 0.0794 - 336ms/epoch - 3ms/step\n",
      "Epoch 62/1000\n",
      "102/102 - 0s - loss: 0.0071 - root_mean_squared_error: 0.0843 - val_loss: 0.0058 - val_root_mean_squared_error: 0.0761 - 265ms/epoch - 3ms/step\n",
      "Epoch 63/1000\n",
      "102/102 - 0s - loss: 0.0066 - root_mean_squared_error: 0.0813 - val_loss: 0.0053 - val_root_mean_squared_error: 0.0729 - 263ms/epoch - 3ms/step\n",
      "Epoch 64/1000\n",
      "102/102 - 0s - loss: 0.0061 - root_mean_squared_error: 0.0783 - val_loss: 0.0048 - val_root_mean_squared_error: 0.0696 - 264ms/epoch - 3ms/step\n",
      "Epoch 65/1000\n",
      "102/102 - 0s - loss: 0.0057 - root_mean_squared_error: 0.0755 - val_loss: 0.0044 - val_root_mean_squared_error: 0.0666 - 275ms/epoch - 3ms/step\n",
      "Epoch 66/1000\n",
      "102/102 - 0s - loss: 0.0053 - root_mean_squared_error: 0.0727 - val_loss: 0.0040 - val_root_mean_squared_error: 0.0636 - 283ms/epoch - 3ms/step\n",
      "Epoch 67/1000\n",
      "102/102 - 0s - loss: 0.0049 - root_mean_squared_error: 0.0699 - val_loss: 0.0037 - val_root_mean_squared_error: 0.0608 - 271ms/epoch - 3ms/step\n",
      "Epoch 68/1000\n",
      "102/102 - 0s - loss: 0.0045 - root_mean_squared_error: 0.0672 - val_loss: 0.0034 - val_root_mean_squared_error: 0.0582 - 263ms/epoch - 3ms/step\n",
      "Epoch 69/1000\n",
      "102/102 - 0s - loss: 0.0042 - root_mean_squared_error: 0.0647 - val_loss: 0.0031 - val_root_mean_squared_error: 0.0555 - 262ms/epoch - 3ms/step\n",
      "Epoch 70/1000\n",
      "102/102 - 0s - loss: 0.0039 - root_mean_squared_error: 0.0622 - val_loss: 0.0028 - val_root_mean_squared_error: 0.0529 - 261ms/epoch - 3ms/step\n",
      "Epoch 71/1000\n",
      "102/102 - 0s - loss: 0.0036 - root_mean_squared_error: 0.0599 - val_loss: 0.0025 - val_root_mean_squared_error: 0.0504 - 269ms/epoch - 3ms/step\n",
      "Epoch 72/1000\n",
      "102/102 - 0s - loss: 0.0033 - root_mean_squared_error: 0.0576 - val_loss: 0.0023 - val_root_mean_squared_error: 0.0481 - 269ms/epoch - 3ms/step\n",
      "Epoch 73/1000\n",
      "102/102 - 0s - loss: 0.0031 - root_mean_squared_error: 0.0554 - val_loss: 0.0021 - val_root_mean_squared_error: 0.0459 - 271ms/epoch - 3ms/step\n",
      "Epoch 74/1000\n",
      "102/102 - 0s - loss: 0.0028 - root_mean_squared_error: 0.0533 - val_loss: 0.0019 - val_root_mean_squared_error: 0.0438 - 266ms/epoch - 3ms/step\n",
      "Epoch 75/1000\n",
      "102/102 - 0s - loss: 0.0026 - root_mean_squared_error: 0.0513 - val_loss: 0.0017 - val_root_mean_squared_error: 0.0418 - 272ms/epoch - 3ms/step\n",
      "Epoch 76/1000\n",
      "102/102 - 0s - loss: 0.0024 - root_mean_squared_error: 0.0494 - val_loss: 0.0016 - val_root_mean_squared_error: 0.0399 - 278ms/epoch - 3ms/step\n",
      "Epoch 77/1000\n",
      "102/102 - 0s - loss: 0.0023 - root_mean_squared_error: 0.0476 - val_loss: 0.0015 - val_root_mean_squared_error: 0.0381 - 267ms/epoch - 3ms/step\n",
      "Epoch 78/1000\n",
      "102/102 - 0s - loss: 0.0021 - root_mean_squared_error: 0.0458 - val_loss: 0.0013 - val_root_mean_squared_error: 0.0365 - 266ms/epoch - 3ms/step\n",
      "Epoch 79/1000\n",
      "102/102 - 0s - loss: 0.0020 - root_mean_squared_error: 0.0442 - val_loss: 0.0012 - val_root_mean_squared_error: 0.0349 - 267ms/epoch - 3ms/step\n",
      "Epoch 80/1000\n",
      "102/102 - 0s - loss: 0.0018 - root_mean_squared_error: 0.0427 - val_loss: 0.0011 - val_root_mean_squared_error: 0.0333 - 322ms/epoch - 3ms/step\n",
      "Epoch 81/1000\n",
      "102/102 - 0s - loss: 0.0017 - root_mean_squared_error: 0.0411 - val_loss: 0.0010 - val_root_mean_squared_error: 0.0319 - 268ms/epoch - 3ms/step\n",
      "Epoch 82/1000\n",
      "102/102 - 0s - loss: 0.0016 - root_mean_squared_error: 0.0397 - val_loss: 9.3737e-04 - val_root_mean_squared_error: 0.0306 - 273ms/epoch - 3ms/step\n",
      "Epoch 83/1000\n",
      "102/102 - 0s - loss: 0.0015 - root_mean_squared_error: 0.0384 - val_loss: 8.6292e-04 - val_root_mean_squared_error: 0.0294 - 258ms/epoch - 3ms/step\n",
      "Epoch 84/1000\n",
      "102/102 - 0s - loss: 0.0014 - root_mean_squared_error: 0.0371 - val_loss: 7.9618e-04 - val_root_mean_squared_error: 0.0282 - 264ms/epoch - 3ms/step\n",
      "Epoch 85/1000\n",
      "102/102 - 0s - loss: 0.0013 - root_mean_squared_error: 0.0358 - val_loss: 7.3255e-04 - val_root_mean_squared_error: 0.0271 - 265ms/epoch - 3ms/step\n",
      "Epoch 86/1000\n",
      "102/102 - 0s - loss: 0.0012 - root_mean_squared_error: 0.0347 - val_loss: 6.7897e-04 - val_root_mean_squared_error: 0.0261 - 261ms/epoch - 3ms/step\n",
      "Epoch 87/1000\n",
      "102/102 - 0s - loss: 0.0011 - root_mean_squared_error: 0.0335 - val_loss: 6.2963e-04 - val_root_mean_squared_error: 0.0251 - 271ms/epoch - 3ms/step\n",
      "Epoch 88/1000\n",
      "102/102 - 0s - loss: 0.0011 - root_mean_squared_error: 0.0325 - val_loss: 5.8569e-04 - val_root_mean_squared_error: 0.0242 - 260ms/epoch - 3ms/step\n",
      "Epoch 89/1000\n",
      "102/102 - 0s - loss: 9.9074e-04 - root_mean_squared_error: 0.0315 - val_loss: 5.4627e-04 - val_root_mean_squared_error: 0.0234 - 252ms/epoch - 2ms/step\n",
      "Epoch 90/1000\n",
      "102/102 - 0s - loss: 9.3069e-04 - root_mean_squared_error: 0.0305 - val_loss: 5.1062e-04 - val_root_mean_squared_error: 0.0226 - 268ms/epoch - 3ms/step\n",
      "Epoch 91/1000\n",
      "102/102 - 0s - loss: 8.7549e-04 - root_mean_squared_error: 0.0296 - val_loss: 4.7905e-04 - val_root_mean_squared_error: 0.0219 - 272ms/epoch - 3ms/step\n",
      "Epoch 92/1000\n",
      "102/102 - 0s - loss: 8.2465e-04 - root_mean_squared_error: 0.0287 - val_loss: 4.4833e-04 - val_root_mean_squared_error: 0.0212 - 261ms/epoch - 3ms/step\n",
      "Epoch 93/1000\n",
      "102/102 - 0s - loss: 7.7598e-04 - root_mean_squared_error: 0.0279 - val_loss: 4.2371e-04 - val_root_mean_squared_error: 0.0206 - 257ms/epoch - 3ms/step\n",
      "Epoch 94/1000\n",
      "102/102 - 0s - loss: 7.3122e-04 - root_mean_squared_error: 0.0270 - val_loss: 3.9968e-04 - val_root_mean_squared_error: 0.0200 - 261ms/epoch - 3ms/step\n",
      "Epoch 95/1000\n",
      "102/102 - 0s - loss: 6.8344e-04 - root_mean_squared_error: 0.0261 - val_loss: 3.7892e-04 - val_root_mean_squared_error: 0.0195 - 266ms/epoch - 3ms/step\n",
      "Epoch 96/1000\n",
      "102/102 - 0s - loss: 6.4223e-04 - root_mean_squared_error: 0.0253 - val_loss: 3.5983e-04 - val_root_mean_squared_error: 0.0190 - 267ms/epoch - 3ms/step\n",
      "Epoch 97/1000\n",
      "102/102 - 0s - loss: 6.0351e-04 - root_mean_squared_error: 0.0246 - val_loss: 3.4117e-04 - val_root_mean_squared_error: 0.0185 - 256ms/epoch - 3ms/step\n",
      "Epoch 98/1000\n",
      "102/102 - 0s - loss: 5.6671e-04 - root_mean_squared_error: 0.0238 - val_loss: 3.2327e-04 - val_root_mean_squared_error: 0.0180 - 263ms/epoch - 3ms/step\n",
      "Epoch 99/1000\n",
      "102/102 - 0s - loss: 5.3404e-04 - root_mean_squared_error: 0.0231 - val_loss: 3.0833e-04 - val_root_mean_squared_error: 0.0176 - 264ms/epoch - 3ms/step\n",
      "Epoch 100/1000\n",
      "102/102 - 0s - loss: 5.0384e-04 - root_mean_squared_error: 0.0224 - val_loss: 2.9517e-04 - val_root_mean_squared_error: 0.0172 - 268ms/epoch - 3ms/step\n",
      "Epoch 101/1000\n",
      "102/102 - 0s - loss: 4.7637e-04 - root_mean_squared_error: 0.0218 - val_loss: 2.8395e-04 - val_root_mean_squared_error: 0.0169 - 412ms/epoch - 4ms/step\n",
      "Epoch 102/1000\n",
      "102/102 - 1s - loss: 4.5112e-04 - root_mean_squared_error: 0.0212 - val_loss: 2.7418e-04 - val_root_mean_squared_error: 0.0166 - 629ms/epoch - 6ms/step\n",
      "Epoch 103/1000\n",
      "102/102 - 0s - loss: 4.2836e-04 - root_mean_squared_error: 0.0207 - val_loss: 2.6418e-04 - val_root_mean_squared_error: 0.0163 - 299ms/epoch - 3ms/step\n",
      "Epoch 104/1000\n",
      "102/102 - 0s - loss: 4.0679e-04 - root_mean_squared_error: 0.0202 - val_loss: 2.5598e-04 - val_root_mean_squared_error: 0.0160 - 339ms/epoch - 3ms/step\n",
      "Epoch 105/1000\n",
      "102/102 - 0s - loss: 3.8740e-04 - root_mean_squared_error: 0.0197 - val_loss: 2.4854e-04 - val_root_mean_squared_error: 0.0158 - 322ms/epoch - 3ms/step\n",
      "Epoch 106/1000\n",
      "102/102 - 0s - loss: 3.6888e-04 - root_mean_squared_error: 0.0192 - val_loss: 2.4204e-04 - val_root_mean_squared_error: 0.0156 - 281ms/epoch - 3ms/step\n",
      "Epoch 107/1000\n",
      "102/102 - 0s - loss: 3.5269e-04 - root_mean_squared_error: 0.0188 - val_loss: 2.3595e-04 - val_root_mean_squared_error: 0.0154 - 307ms/epoch - 3ms/step\n",
      "Epoch 108/1000\n",
      "102/102 - 0s - loss: 3.3682e-04 - root_mean_squared_error: 0.0184 - val_loss: 2.3040e-04 - val_root_mean_squared_error: 0.0152 - 294ms/epoch - 3ms/step\n",
      "Epoch 109/1000\n",
      "102/102 - 0s - loss: 3.2221e-04 - root_mean_squared_error: 0.0180 - val_loss: 2.2508e-04 - val_root_mean_squared_error: 0.0150 - 366ms/epoch - 4ms/step\n",
      "Epoch 110/1000\n",
      "102/102 - 0s - loss: 3.0855e-04 - root_mean_squared_error: 0.0176 - val_loss: 2.2039e-04 - val_root_mean_squared_error: 0.0148 - 257ms/epoch - 3ms/step\n",
      "Epoch 111/1000\n",
      "102/102 - 0s - loss: 2.9553e-04 - root_mean_squared_error: 0.0172 - val_loss: 2.1627e-04 - val_root_mean_squared_error: 0.0147 - 271ms/epoch - 3ms/step\n",
      "Epoch 112/1000\n",
      "102/102 - 0s - loss: 2.8362e-04 - root_mean_squared_error: 0.0168 - val_loss: 2.1193e-04 - val_root_mean_squared_error: 0.0146 - 261ms/epoch - 3ms/step\n",
      "Epoch 113/1000\n",
      "102/102 - 0s - loss: 2.7245e-04 - root_mean_squared_error: 0.0165 - val_loss: 2.0719e-04 - val_root_mean_squared_error: 0.0144 - 272ms/epoch - 3ms/step\n",
      "Epoch 114/1000\n",
      "102/102 - 0s - loss: 2.6177e-04 - root_mean_squared_error: 0.0162 - val_loss: 2.0329e-04 - val_root_mean_squared_error: 0.0143 - 265ms/epoch - 3ms/step\n",
      "Epoch 115/1000\n",
      "102/102 - 0s - loss: 2.5126e-04 - root_mean_squared_error: 0.0159 - val_loss: 1.9911e-04 - val_root_mean_squared_error: 0.0141 - 274ms/epoch - 3ms/step\n",
      "Epoch 116/1000\n",
      "102/102 - 0s - loss: 2.4154e-04 - root_mean_squared_error: 0.0155 - val_loss: 1.9520e-04 - val_root_mean_squared_error: 0.0140 - 272ms/epoch - 3ms/step\n",
      "Epoch 117/1000\n",
      "102/102 - 0s - loss: 2.3246e-04 - root_mean_squared_error: 0.0152 - val_loss: 1.9098e-04 - val_root_mean_squared_error: 0.0138 - 275ms/epoch - 3ms/step\n",
      "Epoch 118/1000\n",
      "102/102 - 0s - loss: 2.2269e-04 - root_mean_squared_error: 0.0149 - val_loss: 1.8648e-04 - val_root_mean_squared_error: 0.0137 - 302ms/epoch - 3ms/step\n",
      "Epoch 119/1000\n",
      "102/102 - 0s - loss: 2.1433e-04 - root_mean_squared_error: 0.0146 - val_loss: 1.8222e-04 - val_root_mean_squared_error: 0.0135 - 278ms/epoch - 3ms/step\n",
      "Epoch 120/1000\n",
      "102/102 - 0s - loss: 2.0596e-04 - root_mean_squared_error: 0.0144 - val_loss: 1.7767e-04 - val_root_mean_squared_error: 0.0133 - 256ms/epoch - 3ms/step\n",
      "Epoch 121/1000\n",
      "102/102 - 0s - loss: 1.9797e-04 - root_mean_squared_error: 0.0141 - val_loss: 1.7362e-04 - val_root_mean_squared_error: 0.0132 - 268ms/epoch - 3ms/step\n",
      "Epoch 122/1000\n",
      "102/102 - 0s - loss: 1.9021e-04 - root_mean_squared_error: 0.0138 - val_loss: 1.6936e-04 - val_root_mean_squared_error: 0.0130 - 267ms/epoch - 3ms/step\n",
      "Epoch 123/1000\n",
      "102/102 - 0s - loss: 1.8285e-04 - root_mean_squared_error: 0.0135 - val_loss: 1.6493e-04 - val_root_mean_squared_error: 0.0128 - 267ms/epoch - 3ms/step\n",
      "Epoch 124/1000\n",
      "102/102 - 0s - loss: 1.7535e-04 - root_mean_squared_error: 0.0132 - val_loss: 1.6090e-04 - val_root_mean_squared_error: 0.0127 - 270ms/epoch - 3ms/step\n",
      "Epoch 125/1000\n",
      "102/102 - 0s - loss: 1.6833e-04 - root_mean_squared_error: 0.0130 - val_loss: 1.5645e-04 - val_root_mean_squared_error: 0.0125 - 260ms/epoch - 3ms/step\n",
      "Epoch 126/1000\n",
      "102/102 - 0s - loss: 1.6184e-04 - root_mean_squared_error: 0.0127 - val_loss: 1.5299e-04 - val_root_mean_squared_error: 0.0124 - 261ms/epoch - 3ms/step\n",
      "Epoch 127/1000\n",
      "102/102 - 0s - loss: 1.5515e-04 - root_mean_squared_error: 0.0125 - val_loss: 1.4835e-04 - val_root_mean_squared_error: 0.0122 - 306ms/epoch - 3ms/step\n",
      "Epoch 128/1000\n",
      "102/102 - 0s - loss: 1.4888e-04 - root_mean_squared_error: 0.0122 - val_loss: 1.4416e-04 - val_root_mean_squared_error: 0.0120 - 323ms/epoch - 3ms/step\n",
      "Epoch 129/1000\n",
      "102/102 - 0s - loss: 1.4278e-04 - root_mean_squared_error: 0.0119 - val_loss: 1.4026e-04 - val_root_mean_squared_error: 0.0118 - 270ms/epoch - 3ms/step\n",
      "Epoch 130/1000\n",
      "102/102 - 0s - loss: 1.3725e-04 - root_mean_squared_error: 0.0117 - val_loss: 1.3693e-04 - val_root_mean_squared_error: 0.0117 - 262ms/epoch - 3ms/step\n",
      "Epoch 131/1000\n",
      "102/102 - 0s - loss: 1.3144e-04 - root_mean_squared_error: 0.0115 - val_loss: 1.3281e-04 - val_root_mean_squared_error: 0.0115 - 264ms/epoch - 3ms/step\n",
      "Epoch 132/1000\n",
      "102/102 - 0s - loss: 1.2612e-04 - root_mean_squared_error: 0.0112 - val_loss: 1.2927e-04 - val_root_mean_squared_error: 0.0114 - 269ms/epoch - 3ms/step\n",
      "Epoch 133/1000\n",
      "102/102 - 0s - loss: 1.2081e-04 - root_mean_squared_error: 0.0110 - val_loss: 1.2543e-04 - val_root_mean_squared_error: 0.0112 - 287ms/epoch - 3ms/step\n",
      "Epoch 134/1000\n",
      "102/102 - 0s - loss: 1.1587e-04 - root_mean_squared_error: 0.0108 - val_loss: 1.2203e-04 - val_root_mean_squared_error: 0.0110 - 264ms/epoch - 3ms/step\n",
      "Epoch 135/1000\n",
      "102/102 - 0s - loss: 1.1115e-04 - root_mean_squared_error: 0.0105 - val_loss: 1.1854e-04 - val_root_mean_squared_error: 0.0109 - 278ms/epoch - 3ms/step\n",
      "Epoch 136/1000\n",
      "102/102 - 0s - loss: 1.0632e-04 - root_mean_squared_error: 0.0103 - val_loss: 1.1515e-04 - val_root_mean_squared_error: 0.0107 - 257ms/epoch - 3ms/step\n",
      "Epoch 137/1000\n",
      "102/102 - 0s - loss: 1.0183e-04 - root_mean_squared_error: 0.0101 - val_loss: 1.1203e-04 - val_root_mean_squared_error: 0.0106 - 310ms/epoch - 3ms/step\n",
      "Epoch 138/1000\n",
      "102/102 - 0s - loss: 9.7670e-05 - root_mean_squared_error: 0.0099 - val_loss: 1.0895e-04 - val_root_mean_squared_error: 0.0104 - 270ms/epoch - 3ms/step\n",
      "Epoch 139/1000\n",
      "102/102 - 0s - loss: 9.3572e-05 - root_mean_squared_error: 0.0097 - val_loss: 1.0623e-04 - val_root_mean_squared_error: 0.0103 - 308ms/epoch - 3ms/step\n",
      "Epoch 140/1000\n",
      "102/102 - 0s - loss: 8.9619e-05 - root_mean_squared_error: 0.0095 - val_loss: 1.0338e-04 - val_root_mean_squared_error: 0.0102 - 293ms/epoch - 3ms/step\n",
      "Epoch 141/1000\n",
      "102/102 - 0s - loss: 8.5872e-05 - root_mean_squared_error: 0.0093 - val_loss: 1.0062e-04 - val_root_mean_squared_error: 0.0100 - 349ms/epoch - 3ms/step\n",
      "Epoch 142/1000\n",
      "102/102 - 0s - loss: 8.2049e-05 - root_mean_squared_error: 0.0091 - val_loss: 9.7995e-05 - val_root_mean_squared_error: 0.0099 - 279ms/epoch - 3ms/step\n",
      "Epoch 143/1000\n",
      "102/102 - 0s - loss: 7.8561e-05 - root_mean_squared_error: 0.0089 - val_loss: 9.5203e-05 - val_root_mean_squared_error: 0.0098 - 255ms/epoch - 3ms/step\n",
      "Epoch 144/1000\n",
      "102/102 - 0s - loss: 7.5155e-05 - root_mean_squared_error: 0.0087 - val_loss: 9.2790e-05 - val_root_mean_squared_error: 0.0096 - 257ms/epoch - 3ms/step\n",
      "Epoch 145/1000\n",
      "102/102 - 0s - loss: 7.1856e-05 - root_mean_squared_error: 0.0085 - val_loss: 9.0265e-05 - val_root_mean_squared_error: 0.0095 - 304ms/epoch - 3ms/step\n",
      "Epoch 146/1000\n",
      "102/102 - 0s - loss: 6.8765e-05 - root_mean_squared_error: 0.0083 - val_loss: 8.7998e-05 - val_root_mean_squared_error: 0.0094 - 284ms/epoch - 3ms/step\n",
      "Epoch 147/1000\n",
      "102/102 - 0s - loss: 6.5714e-05 - root_mean_squared_error: 0.0081 - val_loss: 8.5748e-05 - val_root_mean_squared_error: 0.0093 - 261ms/epoch - 3ms/step\n",
      "Epoch 148/1000\n",
      "102/102 - 0s - loss: 6.2840e-05 - root_mean_squared_error: 0.0079 - val_loss: 8.3771e-05 - val_root_mean_squared_error: 0.0092 - 252ms/epoch - 2ms/step\n",
      "Epoch 149/1000\n",
      "102/102 - 0s - loss: 6.0098e-05 - root_mean_squared_error: 0.0078 - val_loss: 8.1581e-05 - val_root_mean_squared_error: 0.0090 - 269ms/epoch - 3ms/step\n",
      "Epoch 150/1000\n",
      "102/102 - 0s - loss: 5.7463e-05 - root_mean_squared_error: 0.0076 - val_loss: 7.9586e-05 - val_root_mean_squared_error: 0.0089 - 261ms/epoch - 3ms/step\n",
      "Epoch 151/1000\n",
      "102/102 - 0s - loss: 5.5051e-05 - root_mean_squared_error: 0.0074 - val_loss: 7.7549e-05 - val_root_mean_squared_error: 0.0088 - 281ms/epoch - 3ms/step\n",
      "Epoch 152/1000\n",
      "102/102 - 0s - loss: 5.2636e-05 - root_mean_squared_error: 0.0073 - val_loss: 7.5762e-05 - val_root_mean_squared_error: 0.0087 - 260ms/epoch - 3ms/step\n",
      "Epoch 153/1000\n",
      "102/102 - 0s - loss: 5.0337e-05 - root_mean_squared_error: 0.0071 - val_loss: 7.4373e-05 - val_root_mean_squared_error: 0.0086 - 267ms/epoch - 3ms/step\n",
      "Epoch 154/1000\n",
      "102/102 - 0s - loss: 4.8128e-05 - root_mean_squared_error: 0.0069 - val_loss: 7.2602e-05 - val_root_mean_squared_error: 0.0085 - 269ms/epoch - 3ms/step\n",
      "Epoch 155/1000\n",
      "102/102 - 0s - loss: 4.5867e-05 - root_mean_squared_error: 0.0068 - val_loss: 7.1169e-05 - val_root_mean_squared_error: 0.0084 - 261ms/epoch - 3ms/step\n",
      "Epoch 156/1000\n",
      "102/102 - 0s - loss: 4.3831e-05 - root_mean_squared_error: 0.0066 - val_loss: 6.9692e-05 - val_root_mean_squared_error: 0.0083 - 254ms/epoch - 2ms/step\n",
      "Epoch 157/1000\n",
      "102/102 - 0s - loss: 4.1992e-05 - root_mean_squared_error: 0.0065 - val_loss: 6.8324e-05 - val_root_mean_squared_error: 0.0083 - 273ms/epoch - 3ms/step\n",
      "Epoch 158/1000\n",
      "102/102 - 0s - loss: 4.0092e-05 - root_mean_squared_error: 0.0063 - val_loss: 6.7124e-05 - val_root_mean_squared_error: 0.0082 - 258ms/epoch - 3ms/step\n",
      "Epoch 159/1000\n",
      "102/102 - 0s - loss: 3.8380e-05 - root_mean_squared_error: 0.0062 - val_loss: 6.6006e-05 - val_root_mean_squared_error: 0.0081 - 259ms/epoch - 3ms/step\n",
      "Epoch 160/1000\n",
      "102/102 - 0s - loss: 3.6640e-05 - root_mean_squared_error: 0.0061 - val_loss: 6.5001e-05 - val_root_mean_squared_error: 0.0081 - 263ms/epoch - 3ms/step\n",
      "Epoch 161/1000\n",
      "102/102 - 0s - loss: 3.4972e-05 - root_mean_squared_error: 0.0059 - val_loss: 6.4095e-05 - val_root_mean_squared_error: 0.0080 - 261ms/epoch - 3ms/step\n",
      "Epoch 162/1000\n",
      "102/102 - 0s - loss: 3.3539e-05 - root_mean_squared_error: 0.0058 - val_loss: 6.3245e-05 - val_root_mean_squared_error: 0.0080 - 256ms/epoch - 3ms/step\n",
      "Epoch 163/1000\n",
      "102/102 - 0s - loss: 3.2145e-05 - root_mean_squared_error: 0.0057 - val_loss: 6.2471e-05 - val_root_mean_squared_error: 0.0079 - 267ms/epoch - 3ms/step\n",
      "Epoch 164/1000\n",
      "102/102 - 0s - loss: 3.0776e-05 - root_mean_squared_error: 0.0055 - val_loss: 6.1931e-05 - val_root_mean_squared_error: 0.0079 - 266ms/epoch - 3ms/step\n",
      "Epoch 165/1000\n",
      "102/102 - 0s - loss: 2.9524e-05 - root_mean_squared_error: 0.0054 - val_loss: 6.1286e-05 - val_root_mean_squared_error: 0.0078 - 249ms/epoch - 2ms/step\n",
      "Epoch 166/1000\n",
      "102/102 - 0s - loss: 2.8357e-05 - root_mean_squared_error: 0.0053 - val_loss: 6.0650e-05 - val_root_mean_squared_error: 0.0078 - 315ms/epoch - 3ms/step\n",
      "Epoch 167/1000\n",
      "102/102 - 0s - loss: 2.7202e-05 - root_mean_squared_error: 0.0052 - val_loss: 6.0404e-05 - val_root_mean_squared_error: 0.0078 - 257ms/epoch - 3ms/step\n",
      "Epoch 168/1000\n",
      "102/102 - 0s - loss: 2.6120e-05 - root_mean_squared_error: 0.0051 - val_loss: 6.0022e-05 - val_root_mean_squared_error: 0.0077 - 282ms/epoch - 3ms/step\n",
      "Epoch 169/1000\n",
      "102/102 - 0s - loss: 2.5105e-05 - root_mean_squared_error: 0.0050 - val_loss: 5.9691e-05 - val_root_mean_squared_error: 0.0077 - 309ms/epoch - 3ms/step\n",
      "Epoch 170/1000\n",
      "102/102 - 0s - loss: 2.4204e-05 - root_mean_squared_error: 0.0049 - val_loss: 5.9426e-05 - val_root_mean_squared_error: 0.0077 - 261ms/epoch - 3ms/step\n",
      "Epoch 171/1000\n",
      "102/102 - 0s - loss: 2.3254e-05 - root_mean_squared_error: 0.0048 - val_loss: 5.9043e-05 - val_root_mean_squared_error: 0.0077 - 259ms/epoch - 3ms/step\n",
      "Epoch 172/1000\n",
      "102/102 - 0s - loss: 2.2450e-05 - root_mean_squared_error: 0.0047 - val_loss: 5.8843e-05 - val_root_mean_squared_error: 0.0077 - 259ms/epoch - 3ms/step\n",
      "Epoch 173/1000\n",
      "102/102 - 0s - loss: 2.1674e-05 - root_mean_squared_error: 0.0047 - val_loss: 5.8712e-05 - val_root_mean_squared_error: 0.0077 - 256ms/epoch - 3ms/step\n",
      "Epoch 174/1000\n",
      "102/102 - 0s - loss: 2.0937e-05 - root_mean_squared_error: 0.0046 - val_loss: 5.8579e-05 - val_root_mean_squared_error: 0.0077 - 257ms/epoch - 3ms/step\n",
      "Epoch 175/1000\n",
      "102/102 - 0s - loss: 2.0260e-05 - root_mean_squared_error: 0.0045 - val_loss: 5.8384e-05 - val_root_mean_squared_error: 0.0076 - 261ms/epoch - 3ms/step\n",
      "Epoch 176/1000\n",
      "102/102 - 0s - loss: 1.9770e-05 - root_mean_squared_error: 0.0044 - val_loss: 5.8468e-05 - val_root_mean_squared_error: 0.0076 - 260ms/epoch - 3ms/step\n",
      "Epoch 177/1000\n",
      "102/102 - 0s - loss: 1.8957e-05 - root_mean_squared_error: 0.0044 - val_loss: 5.8269e-05 - val_root_mean_squared_error: 0.0076 - 266ms/epoch - 3ms/step\n",
      "Epoch 178/1000\n",
      "102/102 - 0s - loss: 1.8519e-05 - root_mean_squared_error: 0.0043 - val_loss: 5.8319e-05 - val_root_mean_squared_error: 0.0076 - 256ms/epoch - 3ms/step\n",
      "Epoch 179/1000\n",
      "102/102 - 0s - loss: 1.7859e-05 - root_mean_squared_error: 0.0042 - val_loss: 5.8390e-05 - val_root_mean_squared_error: 0.0076 - 267ms/epoch - 3ms/step\n"
     ]
    }
   ],
   "source": [
    "# fit the model\n",
    "history = model.fit(\n",
    "    train_inputs, train_targets, batch_size=BATCH_SIZE,epochs=MAX_EPOCHS, callbacks=[early_stopping], validation_data=(validation_inputs, validation_targets), verbose=2\n",
    "          )"
   ]
  },
  {
   "cell_type": "code",
   "execution_count": 276,
   "metadata": {},
   "outputs": [
    {
     "name": "stdout",
     "output_type": "stream",
     "text": [
      "Model: \"sequential_21\"\n",
      "_________________________________________________________________\n",
      " Layer (type)                Output Shape              Param #   \n",
      "=================================================================\n",
      " dense_86 (Dense)            (1, 19)                   380       \n",
      "                                                                 \n",
      " dense_87 (Dense)            (1, 50)                   1000      \n",
      "                                                                 \n",
      " dense_88 (Dense)            (1, 50)                   2550      \n",
      "                                                                 \n",
      " dense_89 (Dense)            (1, 25)                   1275      \n",
      "                                                                 \n",
      " dense_90 (Dense)            (1, 1)                    26        \n",
      "                                                                 \n",
      "=================================================================\n",
      "Total params: 5,231\n",
      "Trainable params: 5,231\n",
      "Non-trainable params: 0\n",
      "_________________________________________________________________\n"
     ]
    }
   ],
   "source": [
    "# ANN model summary\n",
    "model.summary()"
   ]
  },
  {
   "cell_type": "code",
   "execution_count": 277,
   "metadata": {},
   "outputs": [
    {
     "data": {
      "image/png": "[encoded data removed]",
      "text/plain": [
       "<Figure size 640x480 with 1 Axes>"
      ]
     },
     "metadata": {},
     "output_type": "display_data"
    }
   ],
   "source": [
    "import matplotlib.pyplot as plt\n",
    "plt.plot(history.history['loss'], label='Training_loss')\n",
    "plt.plot(history.history['val_loss'], label='Validation_loss')\n",
    "plt.xlabel('epochs')\n",
    "plt.ylabel('loss')\n",
    "plt.legend()\n",
    "plt.show()"
   ]
  },
  {
   "cell_type": "markdown",
   "metadata": {},
   "source": [
    "# Model check on Test data"
   ]
  },
  {
   "cell_type": "code",
   "execution_count": 278,
   "metadata": {},
   "outputs": [
    {
     "name": "stdout",
     "output_type": "stream",
     "text": [
      "1/1 [==============================] - 1s 743ms/step - loss: 1.1090e-05 - root_mean_squared_error: 0.0033\n"
     ]
    }
   ],
   "source": [
    "test_loss, test_accuracy = model.evaluate(test_inputs, test_targets)"
   ]
  },
  {
   "cell_type": "code",
   "execution_count": 279,
   "metadata": {},
   "outputs": [
    {
     "name": "stdout",
     "output_type": "stream",
     "text": [
      "\n",
      "Test loss: 0.0000. Test accuracy: 0.0033 rmse\n"
     ]
    }
   ],
   "source": [
    "print('\\nTest loss: {0:.4f}. Test accuracy: {1:.4f} rmse'.format(test_loss, test_accuracy))"
   ]
  },
  {
   "cell_type": "code",
   "execution_count": 280,
   "metadata": {},
   "outputs": [
    {
     "name": "stdout",
     "output_type": "stream",
     "text": [
      "1/1 [==============================] - 0s 300ms/step\n"
     ]
    },
    {
     "data": {
      "text/html": [
       "<div>\n",
       "<style scoped>\n",
       "    .dataframe tbody tr th:only-of-type {\n",
       "        vertical-align: middle;\n",
       "    }\n",
       "\n",
       "    .dataframe tbody tr th {\n",
       "        vertical-align: top;\n",
       "    }\n",
       "\n",
       "    .dataframe thead th {\n",
       "        text-align: right;\n",
       "    }\n",
       "</style>\n",
       "<table border=\"1\" class=\"dataframe\">\n",
       "  <thead>\n",
       "    <tr style=\"text-align: right;\">\n",
       "      <th></th>\n",
       "      <th>Target-St(%)</th>\n",
       "      <th>Prediction-St(%)</th>\n",
       "      <th>Pred-Accu-St(%)</th>\n",
       "    </tr>\n",
       "  </thead>\n",
       "  <tbody>\n",
       "    <tr>\n",
       "      <th>0</th>\n",
       "      <td>0.97</td>\n",
       "      <td>0.968332</td>\n",
       "      <td>99.828071</td>\n",
       "    </tr>\n",
       "    <tr>\n",
       "      <th>1</th>\n",
       "      <td>0.98</td>\n",
       "      <td>0.977954</td>\n",
       "      <td>99.791191</td>\n",
       "    </tr>\n",
       "    <tr>\n",
       "      <th>2</th>\n",
       "      <td>0.99</td>\n",
       "      <td>0.983549</td>\n",
       "      <td>99.348414</td>\n",
       "    </tr>\n",
       "    <tr>\n",
       "      <th>3</th>\n",
       "      <td>0.99</td>\n",
       "      <td>0.988595</td>\n",
       "      <td>99.858070</td>\n",
       "    </tr>\n",
       "    <tr>\n",
       "      <th>4</th>\n",
       "      <td>0.99</td>\n",
       "      <td>0.987193</td>\n",
       "      <td>99.716488</td>\n",
       "    </tr>\n",
       "    <tr>\n",
       "      <th>5</th>\n",
       "      <td>0.94</td>\n",
       "      <td>0.940383</td>\n",
       "      <td>100.040740</td>\n",
       "    </tr>\n",
       "    <tr>\n",
       "      <th>6</th>\n",
       "      <td>0.97</td>\n",
       "      <td>0.971012</td>\n",
       "      <td>100.104286</td>\n",
       "    </tr>\n",
       "    <tr>\n",
       "      <th>7</th>\n",
       "      <td>1.00</td>\n",
       "      <td>0.992195</td>\n",
       "      <td>99.219531</td>\n",
       "    </tr>\n",
       "    <tr>\n",
       "      <th>8</th>\n",
       "      <td>0.98</td>\n",
       "      <td>0.980571</td>\n",
       "      <td>100.058299</td>\n",
       "    </tr>\n",
       "    <tr>\n",
       "      <th>9</th>\n",
       "      <td>0.99</td>\n",
       "      <td>0.987193</td>\n",
       "      <td>99.716488</td>\n",
       "    </tr>\n",
       "    <tr>\n",
       "      <th>10</th>\n",
       "      <td>0.97</td>\n",
       "      <td>0.968332</td>\n",
       "      <td>99.828071</td>\n",
       "    </tr>\n",
       "    <tr>\n",
       "      <th>11</th>\n",
       "      <td>0.99</td>\n",
       "      <td>0.990254</td>\n",
       "      <td>100.025691</td>\n",
       "    </tr>\n",
       "    <tr>\n",
       "      <th>12</th>\n",
       "      <td>0.98</td>\n",
       "      <td>0.983549</td>\n",
       "      <td>100.362173</td>\n",
       "    </tr>\n",
       "  </tbody>\n",
       "</table>\n",
       "</div>"
      ],
      "text/plain": [
       "    Target-St(%)  Prediction-St(%)  Pred-Accu-St(%)\n",
       "0           0.97          0.968332        99.828071\n",
       "1           0.98          0.977954        99.791191\n",
       "2           0.99          0.983549        99.348414\n",
       "3           0.99          0.988595        99.858070\n",
       "4           0.99          0.987193        99.716488\n",
       "5           0.94          0.940383       100.040740\n",
       "6           0.97          0.971012       100.104286\n",
       "7           1.00          0.992195        99.219531\n",
       "8           0.98          0.980571       100.058299\n",
       "9           0.99          0.987193        99.716488\n",
       "10          0.97          0.968332        99.828071\n",
       "11          0.99          0.990254       100.025691\n",
       "12          0.98          0.983549       100.362173"
      ]
     },
     "execution_count": 280,
     "metadata": {},
     "output_type": "execute_result"
    }
   ],
   "source": [
    "prediction = model.predict(test_inputs)\n",
    "data_inputs = pd.DataFrame(test_inputs)\n",
    "prediction = pd.DataFrame(prediction)\n",
    "test_targets = pd.DataFrame(test_targets)\n",
    "pred_accu = (prediction/test_targets)*100\n",
    "\n",
    "result = pd.concat([test_targets, prediction, pred_accu], axis = 1, ignore_index=True)\n",
    "result.columns = ['Target-St(%)', 'Prediction-St(%)','Pred-Accu-St(%)']\n",
    "result"
   ]
  },
  {
   "cell_type": "code",
   "execution_count": 286,
   "metadata": {},
   "outputs": [
    {
     "data": {
      "text/plain": [
       "Text(0.5, 0, 'Targets (red) & Predictions (blue)')"
      ]
     },
     "execution_count": 286,
     "metadata": {},
     "output_type": "execute_result"
    },
    {
     "data": {
      "image/png": "[encoded data removed]",
      "text/plain": [
       "<Figure size 640x480 with 1 Axes>"
      ]
     },
     "metadata": {},
     "output_type": "display_data"
    }
   ],
   "source": [
    "plt.scatter(result['Target-St(%)'], result['Pred-Accu-St(%)'], color='r')\n",
    "plt.scatter(result['Prediction-St(%)'], result['Pred-Accu-St(%)'],alpha=0.4, color='b')\n",
    "plt.ylabel('Error in the prediction(%)')\n",
    "plt.xlabel('Targets (red) & Predictions (blue)')\n"
   ]
  },
  {
   "cell_type": "code",
   "execution_count": 282,
   "metadata": {},
   "outputs": [
    {
     "data": {
      "text/plain": [
       "0.9485129994616072"
      ]
     },
     "execution_count": 282,
     "metadata": {},
     "output_type": "execute_result"
    }
   ],
   "source": [
    "# estimation of R2 score\n",
    "from sklearn.metrics import r2_score\n",
    "r2_score_test = r2_score(test_targets, prediction)\n",
    "r2_score_test"
   ]
  },
  {
   "cell_type": "code",
   "execution_count": 283,
   "metadata": {},
   "outputs": [
    {
     "data": {
      "text/plain": [
       "0.9313506659488096"
      ]
     },
     "execution_count": 283,
     "metadata": {},
     "output_type": "execute_result"
    }
   ],
   "source": [
    "# estimation of adjusted R2 score\n",
    "n = np.size(test_targets)\n",
    "k = 3 # number of features\n",
    "adj_r2_score = 1 - (((1-r2_score_test)*(n-1))/((n-k-1)))\n",
    "adj_r2_score"
   ]
  },
  {
   "cell_type": "code",
   "execution_count": 284,
   "metadata": {},
   "outputs": [
    {
     "name": "stdout",
     "output_type": "stream",
     "text": [
      "Uncertainty of the ANN model: 0.31 [%]\n",
      "Average test prediction precision 99.69 [%]\n"
     ]
    }
   ],
   "source": [
    "mean_pred = pred_accu.mean()\n",
    "std_pred = pred_accu.std()\n",
    "uncertainty_model = std_pred\n",
    "print(\"Uncertainty of the ANN model:\", np.round(uncertainty_model[0],2), '[%]')\n",
    "print(\"Average test prediction precision\", np.round(100 - uncertainty_model[0],2), '[%]')"
   ]
  },
  {
   "cell_type": "markdown",
   "metadata": {},
   "source": [
    "# ANN Model Deployment"
   ]
  },
  {
   "cell_type": "markdown",
   "metadata": {},
   "source": [
    "ANN model deployment for micro DSC error prediction"
   ]
  },
  {
   "cell_type": "code",
   "execution_count": 285,
   "metadata": {},
   "outputs": [],
   "source": [
    "import keras\n",
    "model.save('micro_dsc_dl.h5')"
   ]
  },
  {
   "cell_type": "code",
   "execution_count": null,
   "metadata": {},
   "outputs": [],
   "source": []
  }
 ],
 "metadata": {
  "kernelspec": {
   "display_name": ".venv",
   "language": "python",
   "name": "python3"
  },
  "language_info": {
   "codemirror_mode": {
    "name": "ipython",
    "version": 3
   },
   "file_extension": ".py",
   "mimetype": "text/x-python",
   "name": "python",
   "nbconvert_exporter": "python",
   "pygments_lexer": "ipython3",
   "version": "3.8.9"
  },
  "orig_nbformat": 4,
  "vscode": {
   "interpreter": {
    "hash": "795fce77f85a68c42812bdf3641cf800dca9a871e04df385e26cc90e90697f34"
   }
  }
 },
 "nbformat": 4,
 "nbformat_minor": 2
}
