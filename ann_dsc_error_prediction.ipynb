{
 "cells": [
  {
   "cell_type": "markdown",
   "metadata": {},
   "source": [
    "# DNN Model"
   ]
  },
  {
   "cell_type": "code",
   "execution_count": 363,
   "metadata": {},
   "outputs": [],
   "source": [
    "import numpy as np\n",
    "import pandas as pd\n",
    "import tensorflow as tf"
   ]
  },
  {
   "cell_type": "code",
   "execution_count": 364,
   "metadata": {},
   "outputs": [],
   "source": [
    "# data loading from .npz generated from tcr_data_process.ipynb\n",
    "# loading train data\n",
    "npz = np.load('data_train.npz')\n",
    "train_inputs = npz['input'].astype(np.float64)\n",
    "train_targets = npz['targets'].astype(np.float64)\n",
    "# loading validation data\n",
    "npz = np.load('data_validation.npz')\n",
    "validation_inputs, validation_targets = npz['input'].astype(np.float64), npz['targets'].astype(np.float64)\n",
    "\n",
    "npz = np.load('data_test.npz')\n",
    "test_inputs, test_targets = npz['input'].astype(np.float64), npz['targets'].astype(np.float64)"
   ]
  },
  {
   "cell_type": "markdown",
   "metadata": {},
   "source": [
    "# ANN Model"
   ]
  },
  {
   "cell_type": "markdown",
   "metadata": {},
   "source": [
    "Outline, Optimizer, Loss function, Early stopping and Training rate"
   ]
  },
  {
   "cell_type": "code",
   "execution_count": 365,
   "metadata": {},
   "outputs": [],
   "source": [
    "# NN model prep\n",
    "input_size = 19\n",
    "output_size = 1\n",
    "hidden_layer_1_size = 70\n",
    "hidden_layer_2_size = 70\n",
    "hidden_layer_3_size = 50\n",
    "\n",
    "model = tf.keras.Sequential([\n",
    "    tf.keras.layers.Dense(input_size),\n",
    "    tf.keras.layers.Dense(hidden_layer_1_size, activation='relu'),\n",
    "    tf.keras.layers.Dense(hidden_layer_2_size, activation='relu'),\n",
    "    tf.keras.layers.Dense(hidden_layer_3_size, activation='relu'),\n",
    "    tf.keras.layers.Dense(output_size, activation='sigmoid'),\n",
    "])\n"
   ]
  },
  {
   "cell_type": "code",
   "execution_count": 366,
   "metadata": {},
   "outputs": [],
   "source": [
    "# model prep, optimizer and loss function\n",
    "optimizer = tf.keras.optimizers.Adam(learning_rate=0.0001)\n",
    "model.compile(optimizer, loss=tf.keras.losses.MeanSquaredError(), metrics=[tf.keras.metrics.RootMeanSquaredError()])\n",
    "\n"
   ]
  },
  {
   "cell_type": "code",
   "execution_count": 367,
   "metadata": {},
   "outputs": [],
   "source": [
    "# Training\n",
    "BATCH_SIZE = 1\n",
    "MAX_EPOCHS = 1000\n",
    "early_stopping = tf.keras.callbacks.EarlyStopping(patience=2)"
   ]
  },
  {
   "cell_type": "code",
   "execution_count": 368,
   "metadata": {},
   "outputs": [
    {
     "name": "stdout",
     "output_type": "stream",
     "text": [
      "Epoch 1/1000\n",
      "102/102 - 3s - loss: 0.1904 - root_mean_squared_error: 0.4363 - val_loss: 0.1307 - val_root_mean_squared_error: 0.3616 - 3s/epoch - 26ms/step\n",
      "Epoch 2/1000\n",
      "102/102 - 1s - loss: 0.0979 - root_mean_squared_error: 0.3129 - val_loss: 0.0656 - val_root_mean_squared_error: 0.2562 - 765ms/epoch - 8ms/step\n",
      "Epoch 3/1000\n",
      "102/102 - 1s - loss: 0.0454 - root_mean_squared_error: 0.2131 - val_loss: 0.0300 - val_root_mean_squared_error: 0.1732 - 667ms/epoch - 7ms/step\n",
      "Epoch 4/1000\n",
      "102/102 - 0s - loss: 0.0203 - root_mean_squared_error: 0.1423 - val_loss: 0.0137 - val_root_mean_squared_error: 0.1172 - 499ms/epoch - 5ms/step\n",
      "Epoch 5/1000\n",
      "102/102 - 0s - loss: 0.0096 - root_mean_squared_error: 0.0982 - val_loss: 0.0069 - val_root_mean_squared_error: 0.0831 - 482ms/epoch - 5ms/step\n",
      "Epoch 6/1000\n",
      "102/102 - 0s - loss: 0.0051 - root_mean_squared_error: 0.0718 - val_loss: 0.0038 - val_root_mean_squared_error: 0.0616 - 381ms/epoch - 4ms/step\n",
      "Epoch 7/1000\n",
      "102/102 - 1s - loss: 0.0031 - root_mean_squared_error: 0.0552 - val_loss: 0.0022 - val_root_mean_squared_error: 0.0474 - 504ms/epoch - 5ms/step\n",
      "Epoch 8/1000\n",
      "102/102 - 0s - loss: 0.0020 - root_mean_squared_error: 0.0444 - val_loss: 0.0015 - val_root_mean_squared_error: 0.0382 - 348ms/epoch - 3ms/step\n",
      "Epoch 9/1000\n",
      "102/102 - 1s - loss: 0.0014 - root_mean_squared_error: 0.0371 - val_loss: 0.0010 - val_root_mean_squared_error: 0.0319 - 502ms/epoch - 5ms/step\n",
      "Epoch 10/1000\n",
      "102/102 - 0s - loss: 0.0010 - root_mean_squared_error: 0.0320 - val_loss: 7.6199e-04 - val_root_mean_squared_error: 0.0276 - 322ms/epoch - 3ms/step\n",
      "Epoch 11/1000\n",
      "102/102 - 0s - loss: 8.0058e-04 - root_mean_squared_error: 0.0283 - val_loss: 5.9469e-04 - val_root_mean_squared_error: 0.0244 - 346ms/epoch - 3ms/step\n",
      "Epoch 12/1000\n",
      "102/102 - 1s - loss: 6.5409e-04 - root_mean_squared_error: 0.0256 - val_loss: 4.8564e-04 - val_root_mean_squared_error: 0.0220 - 610ms/epoch - 6ms/step\n",
      "Epoch 13/1000\n",
      "102/102 - 0s - loss: 5.5412e-04 - root_mean_squared_error: 0.0235 - val_loss: 4.1534e-04 - val_root_mean_squared_error: 0.0204 - 365ms/epoch - 4ms/step\n",
      "Epoch 14/1000\n",
      "102/102 - 0s - loss: 4.8075e-04 - root_mean_squared_error: 0.0219 - val_loss: 3.6689e-04 - val_root_mean_squared_error: 0.0192 - 331ms/epoch - 3ms/step\n",
      "Epoch 15/1000\n",
      "102/102 - 0s - loss: 4.2426e-04 - root_mean_squared_error: 0.0206 - val_loss: 3.3139e-04 - val_root_mean_squared_error: 0.0182 - 353ms/epoch - 3ms/step\n",
      "Epoch 16/1000\n",
      "102/102 - 0s - loss: 3.8069e-04 - root_mean_squared_error: 0.0195 - val_loss: 3.0471e-04 - val_root_mean_squared_error: 0.0175 - 313ms/epoch - 3ms/step\n",
      "Epoch 17/1000\n",
      "102/102 - 1s - loss: 3.4548e-04 - root_mean_squared_error: 0.0186 - val_loss: 2.8300e-04 - val_root_mean_squared_error: 0.0168 - 527ms/epoch - 5ms/step\n",
      "Epoch 18/1000\n",
      "102/102 - 0s - loss: 3.1671e-04 - root_mean_squared_error: 0.0178 - val_loss: 2.6490e-04 - val_root_mean_squared_error: 0.0163 - 322ms/epoch - 3ms/step\n",
      "Epoch 19/1000\n",
      "102/102 - 0s - loss: 2.9041e-04 - root_mean_squared_error: 0.0170 - val_loss: 2.4791e-04 - val_root_mean_squared_error: 0.0157 - 297ms/epoch - 3ms/step\n",
      "Epoch 20/1000\n",
      "102/102 - 0s - loss: 2.6610e-04 - root_mean_squared_error: 0.0163 - val_loss: 2.3202e-04 - val_root_mean_squared_error: 0.0152 - 304ms/epoch - 3ms/step\n",
      "Epoch 21/1000\n",
      "102/102 - 0s - loss: 2.4406e-04 - root_mean_squared_error: 0.0156 - val_loss: 2.1536e-04 - val_root_mean_squared_error: 0.0147 - 305ms/epoch - 3ms/step\n",
      "Epoch 22/1000\n",
      "102/102 - 0s - loss: 2.2137e-04 - root_mean_squared_error: 0.0149 - val_loss: 1.9914e-04 - val_root_mean_squared_error: 0.0141 - 295ms/epoch - 3ms/step\n",
      "Epoch 23/1000\n",
      "102/102 - 0s - loss: 1.9923e-04 - root_mean_squared_error: 0.0141 - val_loss: 1.8533e-04 - val_root_mean_squared_error: 0.0136 - 417ms/epoch - 4ms/step\n",
      "Epoch 24/1000\n",
      "102/102 - 0s - loss: 1.7812e-04 - root_mean_squared_error: 0.0133 - val_loss: 1.6812e-04 - val_root_mean_squared_error: 0.0130 - 285ms/epoch - 3ms/step\n",
      "Epoch 25/1000\n",
      "102/102 - 0s - loss: 1.5717e-04 - root_mean_squared_error: 0.0125 - val_loss: 1.5336e-04 - val_root_mean_squared_error: 0.0124 - 305ms/epoch - 3ms/step\n",
      "Epoch 26/1000\n",
      "102/102 - 0s - loss: 1.3707e-04 - root_mean_squared_error: 0.0117 - val_loss: 1.3600e-04 - val_root_mean_squared_error: 0.0117 - 275ms/epoch - 3ms/step\n",
      "Epoch 27/1000\n",
      "102/102 - 0s - loss: 1.1778e-04 - root_mean_squared_error: 0.0109 - val_loss: 1.1924e-04 - val_root_mean_squared_error: 0.0109 - 299ms/epoch - 3ms/step\n",
      "Epoch 28/1000\n",
      "102/102 - 0s - loss: 1.0143e-04 - root_mean_squared_error: 0.0101 - val_loss: 1.0621e-04 - val_root_mean_squared_error: 0.0103 - 284ms/epoch - 3ms/step\n",
      "Epoch 29/1000\n",
      "102/102 - 0s - loss: 8.7285e-05 - root_mean_squared_error: 0.0093 - val_loss: 9.6871e-05 - val_root_mean_squared_error: 0.0098 - 313ms/epoch - 3ms/step\n",
      "Epoch 30/1000\n",
      "102/102 - 0s - loss: 7.6493e-05 - root_mean_squared_error: 0.0087 - val_loss: 9.0007e-05 - val_root_mean_squared_error: 0.0095 - 330ms/epoch - 3ms/step\n",
      "Epoch 31/1000\n",
      "102/102 - 0s - loss: 6.7528e-05 - root_mean_squared_error: 0.0082 - val_loss: 8.4682e-05 - val_root_mean_squared_error: 0.0092 - 331ms/epoch - 3ms/step\n",
      "Epoch 32/1000\n",
      "102/102 - 0s - loss: 6.0556e-05 - root_mean_squared_error: 0.0078 - val_loss: 8.0974e-05 - val_root_mean_squared_error: 0.0090 - 296ms/epoch - 3ms/step\n",
      "Epoch 33/1000\n",
      "102/102 - 0s - loss: 5.5090e-05 - root_mean_squared_error: 0.0074 - val_loss: 7.7997e-05 - val_root_mean_squared_error: 0.0088 - 296ms/epoch - 3ms/step\n",
      "Epoch 34/1000\n",
      "102/102 - 0s - loss: 5.0515e-05 - root_mean_squared_error: 0.0071 - val_loss: 7.6018e-05 - val_root_mean_squared_error: 0.0087 - 310ms/epoch - 3ms/step\n",
      "Epoch 35/1000\n",
      "102/102 - 0s - loss: 4.6953e-05 - root_mean_squared_error: 0.0069 - val_loss: 7.3856e-05 - val_root_mean_squared_error: 0.0086 - 298ms/epoch - 3ms/step\n",
      "Epoch 36/1000\n",
      "102/102 - 0s - loss: 4.3836e-05 - root_mean_squared_error: 0.0066 - val_loss: 7.1845e-05 - val_root_mean_squared_error: 0.0085 - 292ms/epoch - 3ms/step\n",
      "Epoch 37/1000\n",
      "102/102 - 0s - loss: 4.1034e-05 - root_mean_squared_error: 0.0064 - val_loss: 7.0788e-05 - val_root_mean_squared_error: 0.0084 - 303ms/epoch - 3ms/step\n",
      "Epoch 38/1000\n",
      "102/102 - 0s - loss: 3.8676e-05 - root_mean_squared_error: 0.0062 - val_loss: 7.0344e-05 - val_root_mean_squared_error: 0.0084 - 305ms/epoch - 3ms/step\n",
      "Epoch 39/1000\n",
      "102/102 - 0s - loss: 3.6637e-05 - root_mean_squared_error: 0.0061 - val_loss: 6.9195e-05 - val_root_mean_squared_error: 0.0083 - 290ms/epoch - 3ms/step\n",
      "Epoch 40/1000\n",
      "102/102 - 0s - loss: 3.4684e-05 - root_mean_squared_error: 0.0059 - val_loss: 6.9020e-05 - val_root_mean_squared_error: 0.0083 - 295ms/epoch - 3ms/step\n",
      "Epoch 41/1000\n",
      "102/102 - 0s - loss: 3.3018e-05 - root_mean_squared_error: 0.0057 - val_loss: 6.7888e-05 - val_root_mean_squared_error: 0.0082 - 309ms/epoch - 3ms/step\n",
      "Epoch 42/1000\n",
      "102/102 - 0s - loss: 3.1334e-05 - root_mean_squared_error: 0.0056 - val_loss: 6.8474e-05 - val_root_mean_squared_error: 0.0083 - 279ms/epoch - 3ms/step\n",
      "Epoch 43/1000\n",
      "102/102 - 0s - loss: 2.9915e-05 - root_mean_squared_error: 0.0055 - val_loss: 6.6945e-05 - val_root_mean_squared_error: 0.0082 - 280ms/epoch - 3ms/step\n",
      "Epoch 44/1000\n",
      "102/102 - 0s - loss: 2.8608e-05 - root_mean_squared_error: 0.0053 - val_loss: 6.6352e-05 - val_root_mean_squared_error: 0.0081 - 279ms/epoch - 3ms/step\n",
      "Epoch 45/1000\n",
      "102/102 - 0s - loss: 2.7100e-05 - root_mean_squared_error: 0.0052 - val_loss: 6.6429e-05 - val_root_mean_squared_error: 0.0082 - 281ms/epoch - 3ms/step\n",
      "Epoch 46/1000\n",
      "102/102 - 0s - loss: 2.5922e-05 - root_mean_squared_error: 0.0051 - val_loss: 6.5206e-05 - val_root_mean_squared_error: 0.0081 - 284ms/epoch - 3ms/step\n",
      "Epoch 47/1000\n",
      "102/102 - 0s - loss: 2.4721e-05 - root_mean_squared_error: 0.0050 - val_loss: 6.3886e-05 - val_root_mean_squared_error: 0.0080 - 277ms/epoch - 3ms/step\n",
      "Epoch 48/1000\n",
      "102/102 - 0s - loss: 2.3595e-05 - root_mean_squared_error: 0.0049 - val_loss: 6.2778e-05 - val_root_mean_squared_error: 0.0079 - 303ms/epoch - 3ms/step\n",
      "Epoch 49/1000\n",
      "102/102 - 0s - loss: 2.2504e-05 - root_mean_squared_error: 0.0047 - val_loss: 6.2079e-05 - val_root_mean_squared_error: 0.0079 - 282ms/epoch - 3ms/step\n",
      "Epoch 50/1000\n",
      "102/102 - 0s - loss: 2.1295e-05 - root_mean_squared_error: 0.0046 - val_loss: 6.1753e-05 - val_root_mean_squared_error: 0.0079 - 293ms/epoch - 3ms/step\n",
      "Epoch 51/1000\n",
      "102/102 - 0s - loss: 2.0334e-05 - root_mean_squared_error: 0.0045 - val_loss: 6.0748e-05 - val_root_mean_squared_error: 0.0078 - 302ms/epoch - 3ms/step\n",
      "Epoch 52/1000\n",
      "102/102 - 0s - loss: 1.9407e-05 - root_mean_squared_error: 0.0044 - val_loss: 5.8684e-05 - val_root_mean_squared_error: 0.0077 - 277ms/epoch - 3ms/step\n",
      "Epoch 53/1000\n",
      "102/102 - 0s - loss: 1.8321e-05 - root_mean_squared_error: 0.0043 - val_loss: 6.1083e-05 - val_root_mean_squared_error: 0.0078 - 279ms/epoch - 3ms/step\n",
      "Epoch 54/1000\n",
      "102/102 - 0s - loss: 1.7580e-05 - root_mean_squared_error: 0.0042 - val_loss: 6.3036e-05 - val_root_mean_squared_error: 0.0079 - 268ms/epoch - 3ms/step\n"
     ]
    }
   ],
   "source": [
    "# fit the model\n",
    "history = model.fit(\n",
    "    train_inputs, train_targets, batch_size=BATCH_SIZE,epochs=MAX_EPOCHS, callbacks=[early_stopping], validation_data=(validation_inputs, validation_targets), verbose=2\n",
    "          )"
   ]
  },
  {
   "cell_type": "code",
   "execution_count": 369,
   "metadata": {},
   "outputs": [
    {
     "name": "stdout",
     "output_type": "stream",
     "text": [
      "Model: \"sequential_26\"\n",
      "_________________________________________________________________\n",
      " Layer (type)                Output Shape              Param #   \n",
      "=================================================================\n",
      " dense_111 (Dense)           (1, 19)                   380       \n",
      "                                                                 \n",
      " dense_112 (Dense)           (1, 70)                   1400      \n",
      "                                                                 \n",
      " dense_113 (Dense)           (1, 70)                   4970      \n",
      "                                                                 \n",
      " dense_114 (Dense)           (1, 50)                   3550      \n",
      "                                                                 \n",
      " dense_115 (Dense)           (1, 1)                    51        \n",
      "                                                                 \n",
      "=================================================================\n",
      "Total params: 10,351\n",
      "Trainable params: 10,351\n",
      "Non-trainable params: 0\n",
      "_________________________________________________________________\n"
     ]
    }
   ],
   "source": [
    "# ANN model summary\n",
    "model.summary()"
   ]
  },
  {
   "cell_type": "code",
   "execution_count": 370,
   "metadata": {},
   "outputs": [
    {
     "data": {
      "image/png": "[encoded data removed]",
      "text/plain": [
       "<Figure size 640x480 with 1 Axes>"
      ]
     },
     "metadata": {},
     "output_type": "display_data"
    }
   ],
   "source": [
    "import matplotlib.pyplot as plt\n",
    "plt.plot(history.history['loss'], label='Training_loss')\n",
    "plt.plot(history.history['val_loss'], label='Validation_loss')\n",
    "plt.xlabel('epochs')\n",
    "plt.ylabel('loss')\n",
    "plt.legend()\n",
    "plt.show()"
   ]
  },
  {
   "cell_type": "markdown",
   "metadata": {},
   "source": [
    "# Model check on Test data"
   ]
  },
  {
   "cell_type": "code",
   "execution_count": 371,
   "metadata": {},
   "outputs": [
    {
     "name": "stdout",
     "output_type": "stream",
     "text": [
      "1/1 [==============================] - 1s 578ms/step - loss: 1.0049e-05 - root_mean_squared_error: 0.0032\n"
     ]
    }
   ],
   "source": [
    "test_loss, test_accuracy = model.evaluate(test_inputs, test_targets)"
   ]
  },
  {
   "cell_type": "code",
   "execution_count": 372,
   "metadata": {},
   "outputs": [
    {
     "name": "stdout",
     "output_type": "stream",
     "text": [
      "\n",
      "Test loss: 0.0000. Test accuracy: 0.0032 rmse\n"
     ]
    }
   ],
   "source": [
    "print('\\nTest loss: {0:.4f}. Test accuracy: {1:.4f} rmse'.format(test_loss, test_accuracy))"
   ]
  },
  {
   "cell_type": "code",
   "execution_count": 385,
   "metadata": {},
   "outputs": [
    {
     "name": "stdout",
     "output_type": "stream",
     "text": [
      "1/1 [==============================] - 0s 87ms/step\n"
     ]
    },
    {
     "data": {
      "text/html": [
       "<div>\n",
       "<style scoped>\n",
       "    .dataframe tbody tr th:only-of-type {\n",
       "        vertical-align: middle;\n",
       "    }\n",
       "\n",
       "    .dataframe tbody tr th {\n",
       "        vertical-align: top;\n",
       "    }\n",
       "\n",
       "    .dataframe thead th {\n",
       "        text-align: right;\n",
       "    }\n",
       "</style>\n",
       "<table border=\"1\" class=\"dataframe\">\n",
       "  <thead>\n",
       "    <tr style=\"text-align: right;\">\n",
       "      <th></th>\n",
       "      <th>Target-St(%)</th>\n",
       "      <th>Prediction-St(%)</th>\n",
       "      <th>Pred-Accu-St(%)</th>\n",
       "    </tr>\n",
       "  </thead>\n",
       "  <tbody>\n",
       "    <tr>\n",
       "      <th>0</th>\n",
       "      <td>0.97</td>\n",
       "      <td>0.968</td>\n",
       "      <td>99.79</td>\n",
       "    </tr>\n",
       "    <tr>\n",
       "      <th>1</th>\n",
       "      <td>0.98</td>\n",
       "      <td>0.983</td>\n",
       "      <td>100.31</td>\n",
       "    </tr>\n",
       "    <tr>\n",
       "      <th>2</th>\n",
       "      <td>0.99</td>\n",
       "      <td>0.989</td>\n",
       "      <td>99.90</td>\n",
       "    </tr>\n",
       "    <tr>\n",
       "      <th>3</th>\n",
       "      <td>0.99</td>\n",
       "      <td>0.987</td>\n",
       "      <td>99.70</td>\n",
       "    </tr>\n",
       "    <tr>\n",
       "      <th>4</th>\n",
       "      <td>0.99</td>\n",
       "      <td>0.987</td>\n",
       "      <td>99.70</td>\n",
       "    </tr>\n",
       "    <tr>\n",
       "      <th>5</th>\n",
       "      <td>0.94</td>\n",
       "      <td>0.940</td>\n",
       "      <td>100.00</td>\n",
       "    </tr>\n",
       "    <tr>\n",
       "      <th>6</th>\n",
       "      <td>0.97</td>\n",
       "      <td>0.970</td>\n",
       "      <td>100.00</td>\n",
       "    </tr>\n",
       "    <tr>\n",
       "      <th>7</th>\n",
       "      <td>1.00</td>\n",
       "      <td>0.997</td>\n",
       "      <td>99.70</td>\n",
       "    </tr>\n",
       "    <tr>\n",
       "      <th>8</th>\n",
       "      <td>0.98</td>\n",
       "      <td>0.981</td>\n",
       "      <td>100.10</td>\n",
       "    </tr>\n",
       "    <tr>\n",
       "      <th>9</th>\n",
       "      <td>0.99</td>\n",
       "      <td>0.987</td>\n",
       "      <td>99.70</td>\n",
       "    </tr>\n",
       "    <tr>\n",
       "      <th>10</th>\n",
       "      <td>0.97</td>\n",
       "      <td>0.968</td>\n",
       "      <td>99.79</td>\n",
       "    </tr>\n",
       "    <tr>\n",
       "      <th>11</th>\n",
       "      <td>0.99</td>\n",
       "      <td>0.987</td>\n",
       "      <td>99.70</td>\n",
       "    </tr>\n",
       "    <tr>\n",
       "      <th>12</th>\n",
       "      <td>0.98</td>\n",
       "      <td>0.989</td>\n",
       "      <td>100.92</td>\n",
       "    </tr>\n",
       "  </tbody>\n",
       "</table>\n",
       "</div>"
      ],
      "text/plain": [
       "    Target-St(%)  Prediction-St(%)  Pred-Accu-St(%)\n",
       "0           0.97             0.968            99.79\n",
       "1           0.98             0.983           100.31\n",
       "2           0.99             0.989            99.90\n",
       "3           0.99             0.987            99.70\n",
       "4           0.99             0.987            99.70\n",
       "5           0.94             0.940           100.00\n",
       "6           0.97             0.970           100.00\n",
       "7           1.00             0.997            99.70\n",
       "8           0.98             0.981           100.10\n",
       "9           0.99             0.987            99.70\n",
       "10          0.97             0.968            99.79\n",
       "11          0.99             0.987            99.70\n",
       "12          0.98             0.989           100.92"
      ]
     },
     "execution_count": 385,
     "metadata": {},
     "output_type": "execute_result"
    }
   ],
   "source": [
    "prediction = model.predict(test_inputs)\n",
    "data_inputs = pd.DataFrame(test_inputs)\n",
    "prediction = pd.DataFrame(np.round(prediction,3))\n",
    "test_targets = pd.DataFrame(test_targets)\n",
    "pred_accu = np.round(((prediction)/test_targets)*100,2)\n",
    "\n",
    "result = pd.concat([test_targets, prediction, pred_accu], axis = 1, ignore_index=True)\n",
    "result.columns = ['Target-St(%)', 'Prediction-St(%)','Pred-Accu-St(%)']\n",
    "result"
   ]
  },
  {
   "cell_type": "code",
   "execution_count": 386,
   "metadata": {},
   "outputs": [
    {
     "data": {
      "text/plain": [
       "Text(0.5, 0, 'Targets (red) & Predictions (blue)')"
      ]
     },
     "execution_count": 386,
     "metadata": {},
     "output_type": "execute_result"
    },
    {
     "data": {
      "image/png": "[encoded data removed]",
      "text/plain": [
       "<Figure size 640x480 with 1 Axes>"
      ]
     },
     "metadata": {},
     "output_type": "display_data"
    }
   ],
   "source": [
    "plt.scatter(result['Target-St(%)'], result['Pred-Accu-St(%)'], color='r')\n",
    "plt.scatter(result['Prediction-St(%)'], result['Pred-Accu-St(%)'],alpha=0.4, color='b')\n",
    "plt.ylabel('Error in the prediction(%)')\n",
    "plt.xlabel('Targets (red) & Predictions (blue)')\n"
   ]
  },
  {
   "cell_type": "code",
   "execution_count": 387,
   "metadata": {},
   "outputs": [
    {
     "data": {
      "text/plain": [
       "Text(0.5, 0, 'Targets')"
      ]
     },
     "execution_count": 387,
     "metadata": {},
     "output_type": "execute_result"
    },
    {
     "data": {
      "image/png": "[encoded data removed]",
      "text/plain": [
       "<Figure size 640x480 with 1 Axes>"
      ]
     },
     "metadata": {},
     "output_type": "display_data"
    }
   ],
   "source": [
    "plt.scatter(result['Target-St(%)'], result['Prediction-St(%)'], alpha=0.3, color='g')\n",
    "plt.ylabel('predictions')\n",
    "plt.xlabel('Targets')\n"
   ]
  },
  {
   "cell_type": "code",
   "execution_count": 388,
   "metadata": {},
   "outputs": [
    {
     "data": {
      "text/plain": [
       "0.9482140370766002"
      ]
     },
     "execution_count": 388,
     "metadata": {},
     "output_type": "execute_result"
    }
   ],
   "source": [
    "# estimation of R2 score\n",
    "from sklearn.metrics import r2_score\n",
    "r2_score_test = r2_score(test_targets, prediction)\n",
    "r2_score_test"
   ]
  },
  {
   "cell_type": "code",
   "execution_count": 389,
   "metadata": {},
   "outputs": [
    {
     "data": {
      "text/plain": [
       "0.9309520494354669"
      ]
     },
     "execution_count": 389,
     "metadata": {},
     "output_type": "execute_result"
    }
   ],
   "source": [
    "# estimation of adjusted R2 score\n",
    "n = np.size(test_targets)\n",
    "k = 3 # number of features\n",
    "adj_r2_score = 1 - (((1-r2_score_test)*(n-1))/((n-k-1)))\n",
    "adj_r2_score"
   ]
  },
  {
   "cell_type": "code",
   "execution_count": 390,
   "metadata": {},
   "outputs": [
    {
     "name": "stdout",
     "output_type": "stream",
     "text": [
      "Uncertainty of the ANN model: 0.35 [%]\n",
      "Average test prediction precision 99.65 [%]\n"
     ]
    }
   ],
   "source": [
    "mean_pred = pred_accu.mean()\n",
    "std_pred = pred_accu.std()\n",
    "uncertainty_model = std_pred\n",
    "print(\"Uncertainty of the ANN model:\", np.round(uncertainty_model[0],2), '[%]')\n",
    "print(\"Average test prediction precision\", np.round(100 - uncertainty_model[0],2), '[%]')"
   ]
  },
  {
   "cell_type": "markdown",
   "metadata": {},
   "source": [
    "# ANN Model Deployment"
   ]
  },
  {
   "cell_type": "markdown",
   "metadata": {},
   "source": [
    "ANN model deployment for micro DSC error prediction"
   ]
  },
  {
   "cell_type": "code",
   "execution_count": 391,
   "metadata": {},
   "outputs": [],
   "source": [
    "import keras\n",
    "model.save('micro_dsc_dl.h5')"
   ]
  },
  {
   "cell_type": "code",
   "execution_count": null,
   "metadata": {},
   "outputs": [],
   "source": []
  }
 ],
 "metadata": {
  "kernelspec": {
   "display_name": ".venv",
   "language": "python",
   "name": "python3"
  },
  "language_info": {
   "codemirror_mode": {
    "name": "ipython",
    "version": 3
   },
   "file_extension": ".py",
   "mimetype": "text/x-python",
   "name": "python",
   "nbconvert_exporter": "python",
   "pygments_lexer": "ipython3",
   "version": "3.8.9"
  },
  "orig_nbformat": 4,
  "vscode": {
   "interpreter": {
    "hash": "795fce77f85a68c42812bdf3641cf800dca9a871e04df385e26cc90e90697f34"
   }
  }
 },
 "nbformat": 4,
 "nbformat_minor": 2
}
