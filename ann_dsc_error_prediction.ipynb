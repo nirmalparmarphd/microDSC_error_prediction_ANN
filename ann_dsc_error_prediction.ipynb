{
 "cells": [
  {
   "cell_type": "markdown",
   "metadata": {},
   "source": [
    "# DNN Model"
   ]
  },
  {
   "cell_type": "code",
   "execution_count": 114,
   "metadata": {},
   "outputs": [],
   "source": [
    "import numpy as np\n",
    "import pandas as pd\n",
    "import tensorflow as tf"
   ]
  },
  {
   "cell_type": "code",
   "execution_count": 115,
   "metadata": {},
   "outputs": [],
   "source": [
    "# data loading from .npz generated from tcr_data_process.ipynb\n",
    "# loading train data\n",
    "npz = np.load('data_train.npz')\n",
    "train_inputs = npz['input'].astype(np.float64)\n",
    "train_targets = npz['targets'].astype(np.float64)\n",
    "# loading validation data\n",
    "npz = np.load('data_validation.npz')\n",
    "validation_inputs, validation_targets = npz['input'].astype(np.float64), npz['targets'].astype(np.float64)\n",
    "\n",
    "npz = np.load('data_test.npz')\n",
    "test_inputs, test_targets = npz['input'].astype(np.float64), npz['targets'].astype(np.float64)"
   ]
  },
  {
   "cell_type": "markdown",
   "metadata": {},
   "source": [
    "# ANN Model"
   ]
  },
  {
   "cell_type": "markdown",
   "metadata": {},
   "source": [
    "Outline, Optimizer, Loss function, Early stopping and Training rate"
   ]
  },
  {
   "cell_type": "code",
   "execution_count": 116,
   "metadata": {},
   "outputs": [],
   "source": [
    "# NN model prep\n",
    "input_size = 3\n",
    "output_size = 1\n",
    "hidden_layer_1_size = 10\n",
    "hidden_layer_2_size = 10\n",
    "hidden_layer_3_size = 10\n",
    "\n",
    "model = tf.keras.Sequential([\n",
    "    tf.keras.layers.Dense(input_size),\n",
    "    tf.keras.layers.Dense(hidden_layer_1_size, activation='relu'),\n",
    "    tf.keras.layers.Dense(hidden_layer_2_size, activation='tanh'),\n",
    "    tf.keras.layers.Dense(hidden_layer_3_size, activation='sigmoid'),\n",
    "    tf.keras.layers.Dense(output_size, activation='linear')\n",
    "])\n"
   ]
  },
  {
   "cell_type": "code",
   "execution_count": 117,
   "metadata": {},
   "outputs": [],
   "source": [
    "# model prep, optimizer and loss function\n",
    "optimizer = tf.keras.optimizers.Adam(learning_rate=0.0001)\n",
    "model.compile(optimizer, loss=tf.keras.losses.MeanSquaredError(),metrics=[tf.keras.metrics.RootMeanSquaredError()])\n"
   ]
  },
  {
   "cell_type": "code",
   "execution_count": 118,
   "metadata": {},
   "outputs": [],
   "source": [
    "# Training\n",
    "BATCH_SIZE = 1\n",
    "MAX_EPOCHS = 1000\n",
    "early_stopping = tf.keras.callbacks.EarlyStopping(patience=2)"
   ]
  },
  {
   "cell_type": "code",
   "execution_count": 119,
   "metadata": {},
   "outputs": [
    {
     "name": "stdout",
     "output_type": "stream",
     "text": [
      "Epoch 1/1000\n",
      "102/102 - 3s - loss: 1.2142 - root_mean_squared_error: 1.1019 - val_loss: 1.1430 - val_root_mean_squared_error: 1.0691 - 3s/epoch - 33ms/step\n",
      "Epoch 2/1000\n",
      "102/102 - 0s - loss: 0.9967 - root_mean_squared_error: 0.9983 - val_loss: 0.9328 - val_root_mean_squared_error: 0.9658 - 355ms/epoch - 3ms/step\n",
      "Epoch 3/1000\n",
      "102/102 - 0s - loss: 0.8094 - root_mean_squared_error: 0.8997 - val_loss: 0.7529 - val_root_mean_squared_error: 0.8677 - 337ms/epoch - 3ms/step\n",
      "Epoch 4/1000\n",
      "102/102 - 1s - loss: 0.6483 - root_mean_squared_error: 0.8051 - val_loss: 0.5986 - val_root_mean_squared_error: 0.7737 - 528ms/epoch - 5ms/step\n",
      "Epoch 5/1000\n",
      "102/102 - 0s - loss: 0.5109 - root_mean_squared_error: 0.7148 - val_loss: 0.4672 - val_root_mean_squared_error: 0.6836 - 276ms/epoch - 3ms/step\n",
      "Epoch 6/1000\n",
      "102/102 - 0s - loss: 0.3961 - root_mean_squared_error: 0.6294 - val_loss: 0.3594 - val_root_mean_squared_error: 0.5995 - 299ms/epoch - 3ms/step\n",
      "Epoch 7/1000\n",
      "102/102 - 0s - loss: 0.3021 - root_mean_squared_error: 0.5497 - val_loss: 0.2713 - val_root_mean_squared_error: 0.5209 - 429ms/epoch - 4ms/step\n",
      "Epoch 8/1000\n",
      "102/102 - 0s - loss: 0.2262 - root_mean_squared_error: 0.4756 - val_loss: 0.2014 - val_root_mean_squared_error: 0.4487 - 374ms/epoch - 4ms/step\n",
      "Epoch 9/1000\n",
      "102/102 - 0s - loss: 0.1665 - root_mean_squared_error: 0.4080 - val_loss: 0.1476 - val_root_mean_squared_error: 0.3842 - 276ms/epoch - 3ms/step\n",
      "Epoch 10/1000\n",
      "102/102 - 0s - loss: 0.1209 - root_mean_squared_error: 0.3477 - val_loss: 0.1065 - val_root_mean_squared_error: 0.3263 - 292ms/epoch - 3ms/step\n",
      "Epoch 11/1000\n",
      "102/102 - 0s - loss: 0.0870 - root_mean_squared_error: 0.2949 - val_loss: 0.0763 - val_root_mean_squared_error: 0.2762 - 327ms/epoch - 3ms/step\n",
      "Epoch 12/1000\n",
      "102/102 - 1s - loss: 0.0625 - root_mean_squared_error: 0.2501 - val_loss: 0.0546 - val_root_mean_squared_error: 0.2337 - 900ms/epoch - 9ms/step\n",
      "Epoch 13/1000\n",
      "102/102 - 0s - loss: 0.0452 - root_mean_squared_error: 0.2126 - val_loss: 0.0397 - val_root_mean_squared_error: 0.1991 - 323ms/epoch - 3ms/step\n",
      "Epoch 14/1000\n",
      "102/102 - 0s - loss: 0.0333 - root_mean_squared_error: 0.1824 - val_loss: 0.0295 - val_root_mean_squared_error: 0.1716 - 294ms/epoch - 3ms/step\n",
      "Epoch 15/1000\n",
      "102/102 - 0s - loss: 0.0253 - root_mean_squared_error: 0.1590 - val_loss: 0.0225 - val_root_mean_squared_error: 0.1500 - 288ms/epoch - 3ms/step\n",
      "Epoch 16/1000\n",
      "102/102 - 0s - loss: 0.0200 - root_mean_squared_error: 0.1414 - val_loss: 0.0177 - val_root_mean_squared_error: 0.1330 - 268ms/epoch - 3ms/step\n",
      "Epoch 17/1000\n",
      "102/102 - 0s - loss: 0.0164 - root_mean_squared_error: 0.1282 - val_loss: 0.0148 - val_root_mean_squared_error: 0.1217 - 270ms/epoch - 3ms/step\n",
      "Epoch 18/1000\n",
      "102/102 - 0s - loss: 0.0140 - root_mean_squared_error: 0.1184 - val_loss: 0.0128 - val_root_mean_squared_error: 0.1131 - 269ms/epoch - 3ms/step\n",
      "Epoch 19/1000\n",
      "102/102 - 0s - loss: 0.0122 - root_mean_squared_error: 0.1106 - val_loss: 0.0111 - val_root_mean_squared_error: 0.1055 - 271ms/epoch - 3ms/step\n",
      "Epoch 20/1000\n",
      "102/102 - 0s - loss: 0.0108 - root_mean_squared_error: 0.1040 - val_loss: 0.0100 - val_root_mean_squared_error: 0.1000 - 287ms/epoch - 3ms/step\n",
      "Epoch 21/1000\n",
      "102/102 - 0s - loss: 0.0097 - root_mean_squared_error: 0.0987 - val_loss: 0.0091 - val_root_mean_squared_error: 0.0953 - 270ms/epoch - 3ms/step\n",
      "Epoch 22/1000\n",
      "102/102 - 0s - loss: 0.0088 - root_mean_squared_error: 0.0938 - val_loss: 0.0083 - val_root_mean_squared_error: 0.0912 - 263ms/epoch - 3ms/step\n",
      "Epoch 23/1000\n",
      "102/102 - 0s - loss: 0.0080 - root_mean_squared_error: 0.0892 - val_loss: 0.0076 - val_root_mean_squared_error: 0.0873 - 270ms/epoch - 3ms/step\n",
      "Epoch 24/1000\n",
      "102/102 - 0s - loss: 0.0072 - root_mean_squared_error: 0.0851 - val_loss: 0.0071 - val_root_mean_squared_error: 0.0840 - 272ms/epoch - 3ms/step\n",
      "Epoch 25/1000\n",
      "102/102 - 0s - loss: 0.0065 - root_mean_squared_error: 0.0808 - val_loss: 0.0064 - val_root_mean_squared_error: 0.0802 - 266ms/epoch - 3ms/step\n",
      "Epoch 26/1000\n",
      "102/102 - 0s - loss: 0.0059 - root_mean_squared_error: 0.0770 - val_loss: 0.0059 - val_root_mean_squared_error: 0.0770 - 287ms/epoch - 3ms/step\n",
      "Epoch 27/1000\n",
      "102/102 - 0s - loss: 0.0054 - root_mean_squared_error: 0.0733 - val_loss: 0.0054 - val_root_mean_squared_error: 0.0738 - 264ms/epoch - 3ms/step\n",
      "Epoch 28/1000\n",
      "102/102 - 0s - loss: 0.0049 - root_mean_squared_error: 0.0698 - val_loss: 0.0050 - val_root_mean_squared_error: 0.0706 - 263ms/epoch - 3ms/step\n",
      "Epoch 29/1000\n",
      "102/102 - 0s - loss: 0.0044 - root_mean_squared_error: 0.0665 - val_loss: 0.0046 - val_root_mean_squared_error: 0.0675 - 264ms/epoch - 3ms/step\n",
      "Epoch 30/1000\n",
      "102/102 - 0s - loss: 0.0040 - root_mean_squared_error: 0.0633 - val_loss: 0.0042 - val_root_mean_squared_error: 0.0644 - 336ms/epoch - 3ms/step\n",
      "Epoch 31/1000\n",
      "102/102 - 0s - loss: 0.0036 - root_mean_squared_error: 0.0601 - val_loss: 0.0038 - val_root_mean_squared_error: 0.0617 - 271ms/epoch - 3ms/step\n",
      "Epoch 32/1000\n",
      "102/102 - 0s - loss: 0.0033 - root_mean_squared_error: 0.0573 - val_loss: 0.0035 - val_root_mean_squared_error: 0.0588 - 268ms/epoch - 3ms/step\n",
      "Epoch 33/1000\n",
      "102/102 - 0s - loss: 0.0030 - root_mean_squared_error: 0.0544 - val_loss: 0.0031 - val_root_mean_squared_error: 0.0559 - 273ms/epoch - 3ms/step\n",
      "Epoch 34/1000\n",
      "102/102 - 0s - loss: 0.0027 - root_mean_squared_error: 0.0516 - val_loss: 0.0029 - val_root_mean_squared_error: 0.0535 - 268ms/epoch - 3ms/step\n",
      "Epoch 35/1000\n",
      "102/102 - 0s - loss: 0.0024 - root_mean_squared_error: 0.0490 - val_loss: 0.0026 - val_root_mean_squared_error: 0.0508 - 288ms/epoch - 3ms/step\n",
      "Epoch 36/1000\n",
      "102/102 - 0s - loss: 0.0022 - root_mean_squared_error: 0.0466 - val_loss: 0.0024 - val_root_mean_squared_error: 0.0486 - 454ms/epoch - 4ms/step\n",
      "Epoch 37/1000\n",
      "102/102 - 0s - loss: 0.0020 - root_mean_squared_error: 0.0443 - val_loss: 0.0021 - val_root_mean_squared_error: 0.0460 - 316ms/epoch - 3ms/step\n",
      "Epoch 38/1000\n",
      "102/102 - 0s - loss: 0.0018 - root_mean_squared_error: 0.0422 - val_loss: 0.0019 - val_root_mean_squared_error: 0.0441 - 290ms/epoch - 3ms/step\n",
      "Epoch 39/1000\n",
      "102/102 - 0s - loss: 0.0016 - root_mean_squared_error: 0.0402 - val_loss: 0.0018 - val_root_mean_squared_error: 0.0421 - 297ms/epoch - 3ms/step\n",
      "Epoch 40/1000\n",
      "102/102 - 0s - loss: 0.0015 - root_mean_squared_error: 0.0385 - val_loss: 0.0017 - val_root_mean_squared_error: 0.0408 - 282ms/epoch - 3ms/step\n",
      "Epoch 41/1000\n",
      "102/102 - 0s - loss: 0.0014 - root_mean_squared_error: 0.0368 - val_loss: 0.0015 - val_root_mean_squared_error: 0.0389 - 281ms/epoch - 3ms/step\n",
      "Epoch 42/1000\n",
      "102/102 - 0s - loss: 0.0012 - root_mean_squared_error: 0.0354 - val_loss: 0.0014 - val_root_mean_squared_error: 0.0371 - 294ms/epoch - 3ms/step\n",
      "Epoch 43/1000\n",
      "102/102 - 0s - loss: 0.0012 - root_mean_squared_error: 0.0339 - val_loss: 0.0013 - val_root_mean_squared_error: 0.0361 - 296ms/epoch - 3ms/step\n",
      "Epoch 44/1000\n",
      "102/102 - 0s - loss: 0.0011 - root_mean_squared_error: 0.0327 - val_loss: 0.0012 - val_root_mean_squared_error: 0.0350 - 294ms/epoch - 3ms/step\n",
      "Epoch 45/1000\n",
      "102/102 - 0s - loss: 9.9477e-04 - root_mean_squared_error: 0.0315 - val_loss: 0.0011 - val_root_mean_squared_error: 0.0339 - 292ms/epoch - 3ms/step\n",
      "Epoch 46/1000\n",
      "102/102 - 0s - loss: 9.2762e-04 - root_mean_squared_error: 0.0305 - val_loss: 0.0011 - val_root_mean_squared_error: 0.0333 - 289ms/epoch - 3ms/step\n",
      "Epoch 47/1000\n",
      "102/102 - 0s - loss: 8.7490e-04 - root_mean_squared_error: 0.0296 - val_loss: 0.0010 - val_root_mean_squared_error: 0.0320 - 288ms/epoch - 3ms/step\n",
      "Epoch 48/1000\n",
      "102/102 - 0s - loss: 8.2150e-04 - root_mean_squared_error: 0.0287 - val_loss: 9.5947e-04 - val_root_mean_squared_error: 0.0310 - 342ms/epoch - 3ms/step\n",
      "Epoch 49/1000\n",
      "102/102 - 0s - loss: 7.7419e-04 - root_mean_squared_error: 0.0278 - val_loss: 9.2589e-04 - val_root_mean_squared_error: 0.0304 - 298ms/epoch - 3ms/step\n",
      "Epoch 50/1000\n",
      "102/102 - 0s - loss: 7.3749e-04 - root_mean_squared_error: 0.0272 - val_loss: 8.8566e-04 - val_root_mean_squared_error: 0.0298 - 372ms/epoch - 4ms/step\n",
      "Epoch 51/1000\n",
      "102/102 - 0s - loss: 6.9102e-04 - root_mean_squared_error: 0.0263 - val_loss: 8.3530e-04 - val_root_mean_squared_error: 0.0289 - 286ms/epoch - 3ms/step\n",
      "Epoch 52/1000\n",
      "102/102 - 0s - loss: 6.5869e-04 - root_mean_squared_error: 0.0257 - val_loss: 8.3713e-04 - val_root_mean_squared_error: 0.0289 - 281ms/epoch - 3ms/step\n",
      "Epoch 53/1000\n",
      "102/102 - 0s - loss: 6.2316e-04 - root_mean_squared_error: 0.0250 - val_loss: 8.0149e-04 - val_root_mean_squared_error: 0.0283 - 285ms/epoch - 3ms/step\n",
      "Epoch 54/1000\n",
      "102/102 - 0s - loss: 5.9128e-04 - root_mean_squared_error: 0.0243 - val_loss: 7.4928e-04 - val_root_mean_squared_error: 0.0274 - 337ms/epoch - 3ms/step\n",
      "Epoch 55/1000\n",
      "102/102 - 0s - loss: 5.6086e-04 - root_mean_squared_error: 0.0237 - val_loss: 7.4388e-04 - val_root_mean_squared_error: 0.0273 - 288ms/epoch - 3ms/step\n",
      "Epoch 56/1000\n",
      "102/102 - 0s - loss: 5.3394e-04 - root_mean_squared_error: 0.0231 - val_loss: 6.7367e-04 - val_root_mean_squared_error: 0.0260 - 278ms/epoch - 3ms/step\n",
      "Epoch 57/1000\n",
      "102/102 - 0s - loss: 5.0247e-04 - root_mean_squared_error: 0.0224 - val_loss: 6.6624e-04 - val_root_mean_squared_error: 0.0258 - 289ms/epoch - 3ms/step\n",
      "Epoch 58/1000\n",
      "102/102 - 0s - loss: 4.7748e-04 - root_mean_squared_error: 0.0219 - val_loss: 6.2872e-04 - val_root_mean_squared_error: 0.0251 - 278ms/epoch - 3ms/step\n",
      "Epoch 59/1000\n",
      "102/102 - 0s - loss: 4.5640e-04 - root_mean_squared_error: 0.0214 - val_loss: 5.7631e-04 - val_root_mean_squared_error: 0.0240 - 329ms/epoch - 3ms/step\n",
      "Epoch 60/1000\n",
      "102/102 - 0s - loss: 4.3105e-04 - root_mean_squared_error: 0.0208 - val_loss: 5.9232e-04 - val_root_mean_squared_error: 0.0243 - 285ms/epoch - 3ms/step\n",
      "Epoch 61/1000\n",
      "102/102 - 0s - loss: 4.0566e-04 - root_mean_squared_error: 0.0201 - val_loss: 5.7018e-04 - val_root_mean_squared_error: 0.0239 - 325ms/epoch - 3ms/step\n",
      "Epoch 62/1000\n",
      "102/102 - 0s - loss: 3.8870e-04 - root_mean_squared_error: 0.0197 - val_loss: 5.3688e-04 - val_root_mean_squared_error: 0.0232 - 281ms/epoch - 3ms/step\n",
      "Epoch 63/1000\n",
      "102/102 - 0s - loss: 3.7133e-04 - root_mean_squared_error: 0.0193 - val_loss: 4.9611e-04 - val_root_mean_squared_error: 0.0223 - 302ms/epoch - 3ms/step\n",
      "Epoch 64/1000\n",
      "102/102 - 0s - loss: 3.4446e-04 - root_mean_squared_error: 0.0186 - val_loss: 4.9460e-04 - val_root_mean_squared_error: 0.0222 - 284ms/epoch - 3ms/step\n",
      "Epoch 65/1000\n",
      "102/102 - 0s - loss: 3.2704e-04 - root_mean_squared_error: 0.0181 - val_loss: 4.6800e-04 - val_root_mean_squared_error: 0.0216 - 290ms/epoch - 3ms/step\n",
      "Epoch 66/1000\n",
      "102/102 - 0s - loss: 3.0999e-04 - root_mean_squared_error: 0.0176 - val_loss: 4.4675e-04 - val_root_mean_squared_error: 0.0211 - 298ms/epoch - 3ms/step\n",
      "Epoch 67/1000\n",
      "102/102 - 0s - loss: 2.9415e-04 - root_mean_squared_error: 0.0172 - val_loss: 4.6131e-04 - val_root_mean_squared_error: 0.0215 - 285ms/epoch - 3ms/step\n",
      "Epoch 68/1000\n",
      "102/102 - 0s - loss: 2.7898e-04 - root_mean_squared_error: 0.0167 - val_loss: 4.3981e-04 - val_root_mean_squared_error: 0.0210 - 280ms/epoch - 3ms/step\n",
      "Epoch 69/1000\n",
      "102/102 - 0s - loss: 2.6316e-04 - root_mean_squared_error: 0.0162 - val_loss: 4.0778e-04 - val_root_mean_squared_error: 0.0202 - 285ms/epoch - 3ms/step\n",
      "Epoch 70/1000\n",
      "102/102 - 0s - loss: 2.4959e-04 - root_mean_squared_error: 0.0158 - val_loss: 3.5879e-04 - val_root_mean_squared_error: 0.0189 - 288ms/epoch - 3ms/step\n",
      "Epoch 71/1000\n",
      "102/102 - 0s - loss: 2.4204e-04 - root_mean_squared_error: 0.0156 - val_loss: 3.5454e-04 - val_root_mean_squared_error: 0.0188 - 277ms/epoch - 3ms/step\n",
      "Epoch 72/1000\n",
      "102/102 - 0s - loss: 2.2470e-04 - root_mean_squared_error: 0.0150 - val_loss: 3.4626e-04 - val_root_mean_squared_error: 0.0186 - 281ms/epoch - 3ms/step\n",
      "Epoch 73/1000\n",
      "102/102 - 0s - loss: 2.1271e-04 - root_mean_squared_error: 0.0146 - val_loss: 3.3848e-04 - val_root_mean_squared_error: 0.0184 - 279ms/epoch - 3ms/step\n",
      "Epoch 74/1000\n",
      "102/102 - 0s - loss: 2.0379e-04 - root_mean_squared_error: 0.0143 - val_loss: 3.1266e-04 - val_root_mean_squared_error: 0.0177 - 288ms/epoch - 3ms/step\n",
      "Epoch 75/1000\n",
      "102/102 - 0s - loss: 1.9117e-04 - root_mean_squared_error: 0.0138 - val_loss: 3.1940e-04 - val_root_mean_squared_error: 0.0179 - 278ms/epoch - 3ms/step\n",
      "Epoch 76/1000\n",
      "102/102 - 0s - loss: 1.7894e-04 - root_mean_squared_error: 0.0134 - val_loss: 2.7711e-04 - val_root_mean_squared_error: 0.0166 - 283ms/epoch - 3ms/step\n",
      "Epoch 77/1000\n",
      "102/102 - 0s - loss: 1.7489e-04 - root_mean_squared_error: 0.0132 - val_loss: 2.6862e-04 - val_root_mean_squared_error: 0.0164 - 282ms/epoch - 3ms/step\n",
      "Epoch 78/1000\n",
      "102/102 - 0s - loss: 1.6497e-04 - root_mean_squared_error: 0.0128 - val_loss: 2.6685e-04 - val_root_mean_squared_error: 0.0163 - 291ms/epoch - 3ms/step\n",
      "Epoch 79/1000\n",
      "102/102 - 0s - loss: 1.5968e-04 - root_mean_squared_error: 0.0126 - val_loss: 2.4546e-04 - val_root_mean_squared_error: 0.0157 - 288ms/epoch - 3ms/step\n",
      "Epoch 80/1000\n",
      "102/102 - 0s - loss: 1.4832e-04 - root_mean_squared_error: 0.0122 - val_loss: 2.3453e-04 - val_root_mean_squared_error: 0.0153 - 286ms/epoch - 3ms/step\n",
      "Epoch 81/1000\n",
      "102/102 - 0s - loss: 1.4073e-04 - root_mean_squared_error: 0.0119 - val_loss: 2.3653e-04 - val_root_mean_squared_error: 0.0154 - 287ms/epoch - 3ms/step\n",
      "Epoch 82/1000\n",
      "102/102 - 0s - loss: 1.3043e-04 - root_mean_squared_error: 0.0114 - val_loss: 2.2649e-04 - val_root_mean_squared_error: 0.0150 - 278ms/epoch - 3ms/step\n",
      "Epoch 83/1000\n",
      "102/102 - 0s - loss: 1.2137e-04 - root_mean_squared_error: 0.0110 - val_loss: 2.9341e-04 - val_root_mean_squared_error: 0.0171 - 279ms/epoch - 3ms/step\n",
      "Epoch 84/1000\n",
      "102/102 - 0s - loss: 1.2303e-04 - root_mean_squared_error: 0.0111 - val_loss: 2.0857e-04 - val_root_mean_squared_error: 0.0144 - 272ms/epoch - 3ms/step\n",
      "Epoch 85/1000\n",
      "102/102 - 0s - loss: 1.0958e-04 - root_mean_squared_error: 0.0105 - val_loss: 1.9648e-04 - val_root_mean_squared_error: 0.0140 - 278ms/epoch - 3ms/step\n",
      "Epoch 86/1000\n",
      "102/102 - 0s - loss: 1.0717e-04 - root_mean_squared_error: 0.0104 - val_loss: 1.9189e-04 - val_root_mean_squared_error: 0.0139 - 282ms/epoch - 3ms/step\n",
      "Epoch 87/1000\n",
      "102/102 - 0s - loss: 9.8157e-05 - root_mean_squared_error: 0.0099 - val_loss: 1.9897e-04 - val_root_mean_squared_error: 0.0141 - 281ms/epoch - 3ms/step\n",
      "Epoch 88/1000\n",
      "102/102 - 0s - loss: 9.3943e-05 - root_mean_squared_error: 0.0097 - val_loss: 1.7992e-04 - val_root_mean_squared_error: 0.0134 - 297ms/epoch - 3ms/step\n",
      "Epoch 89/1000\n",
      "102/102 - 0s - loss: 8.4986e-05 - root_mean_squared_error: 0.0092 - val_loss: 1.7138e-04 - val_root_mean_squared_error: 0.0131 - 288ms/epoch - 3ms/step\n",
      "Epoch 90/1000\n",
      "102/102 - 0s - loss: 8.4537e-05 - root_mean_squared_error: 0.0092 - val_loss: 1.7878e-04 - val_root_mean_squared_error: 0.0134 - 284ms/epoch - 3ms/step\n",
      "Epoch 91/1000\n",
      "102/102 - 0s - loss: 8.0216e-05 - root_mean_squared_error: 0.0090 - val_loss: 1.5422e-04 - val_root_mean_squared_error: 0.0124 - 279ms/epoch - 3ms/step\n",
      "Epoch 92/1000\n",
      "102/102 - 0s - loss: 7.4996e-05 - root_mean_squared_error: 0.0087 - val_loss: 1.4561e-04 - val_root_mean_squared_error: 0.0121 - 343ms/epoch - 3ms/step\n",
      "Epoch 93/1000\n",
      "102/102 - 0s - loss: 6.9949e-05 - root_mean_squared_error: 0.0084 - val_loss: 1.5186e-04 - val_root_mean_squared_error: 0.0123 - 289ms/epoch - 3ms/step\n",
      "Epoch 94/1000\n",
      "102/102 - 0s - loss: 6.7270e-05 - root_mean_squared_error: 0.0082 - val_loss: 1.4991e-04 - val_root_mean_squared_error: 0.0122 - 285ms/epoch - 3ms/step\n"
     ]
    }
   ],
   "source": [
    "# fit the model\n",
    "history = model.fit(\n",
    "    train_inputs, train_targets, batch_size=BATCH_SIZE,epochs=MAX_EPOCHS, callbacks=[early_stopping], validation_data=(validation_inputs, validation_targets), verbose=2\n",
    "          )"
   ]
  },
  {
   "cell_type": "code",
   "execution_count": 120,
   "metadata": {},
   "outputs": [
    {
     "name": "stdout",
     "output_type": "stream",
     "text": [
      "Model: \"sequential_7\"\n",
      "_________________________________________________________________\n",
      " Layer (type)                Output Shape              Param #   \n",
      "=================================================================\n",
      " dense_40 (Dense)            (1, 3)                    12        \n",
      "                                                                 \n",
      " dense_41 (Dense)            (1, 10)                   40        \n",
      "                                                                 \n",
      " dense_42 (Dense)            (1, 10)                   110       \n",
      "                                                                 \n",
      " dense_43 (Dense)            (1, 10)                   110       \n",
      "                                                                 \n",
      " dense_44 (Dense)            (1, 1)                    11        \n",
      "                                                                 \n",
      "=================================================================\n",
      "Total params: 283\n",
      "Trainable params: 283\n",
      "Non-trainable params: 0\n",
      "_________________________________________________________________\n"
     ]
    }
   ],
   "source": [
    "# ANN model summary\n",
    "model.summary()"
   ]
  },
  {
   "cell_type": "code",
   "execution_count": 121,
   "metadata": {},
   "outputs": [
    {
     "data": {
      "image/png": "[encoded data removed]",
      "text/plain": [
       "<Figure size 640x480 with 1 Axes>"
      ]
     },
     "metadata": {},
     "output_type": "display_data"
    }
   ],
   "source": [
    "import matplotlib.pyplot as plt\n",
    "plt.plot(history.history['loss'], label='Training_loss')\n",
    "plt.plot(history.history['val_loss'], label='Validation_loss')\n",
    "plt.xlabel('epochs')\n",
    "plt.ylabel('loss')\n",
    "plt.legend()\n",
    "plt.show()"
   ]
  },
  {
   "cell_type": "markdown",
   "metadata": {},
   "source": [
    "# Model check on Test data"
   ]
  },
  {
   "cell_type": "code",
   "execution_count": 122,
   "metadata": {},
   "outputs": [
    {
     "name": "stdout",
     "output_type": "stream",
     "text": [
      "1/1 [==============================] - 0s 298ms/step - loss: 2.1373e-05 - root_mean_squared_error: 0.0046\n"
     ]
    }
   ],
   "source": [
    "test_loss, test_accuracy = model.evaluate(test_inputs, test_targets)"
   ]
  },
  {
   "cell_type": "code",
   "execution_count": 123,
   "metadata": {},
   "outputs": [
    {
     "name": "stdout",
     "output_type": "stream",
     "text": [
      "\n",
      "Test loss: 0.0000. Test accuracy: 0.0046 rmse\n"
     ]
    }
   ],
   "source": [
    "print('\\nTest loss: {0:.4f}. Test accuracy: {1:.4f} rmse'.format(test_loss, test_accuracy))"
   ]
  },
  {
   "cell_type": "code",
   "execution_count": 124,
   "metadata": {},
   "outputs": [
    {
     "name": "stdout",
     "output_type": "stream",
     "text": [
      "1/1 [==============================] - 0s 122ms/step\n"
     ]
    },
    {
     "data": {
      "text/html": [
       "<div>\n",
       "<style scoped>\n",
       "    .dataframe tbody tr th:only-of-type {\n",
       "        vertical-align: middle;\n",
       "    }\n",
       "\n",
       "    .dataframe tbody tr th {\n",
       "        vertical-align: top;\n",
       "    }\n",
       "\n",
       "    .dataframe thead th {\n",
       "        text-align: right;\n",
       "    }\n",
       "</style>\n",
       "<table border=\"1\" class=\"dataframe\">\n",
       "  <thead>\n",
       "    <tr style=\"text-align: right;\">\n",
       "      <th></th>\n",
       "      <th>Target-St(%)</th>\n",
       "      <th>Prediction-St(%)</th>\n",
       "      <th>Pred-Accu-St(%)</th>\n",
       "    </tr>\n",
       "  </thead>\n",
       "  <tbody>\n",
       "    <tr>\n",
       "      <th>0</th>\n",
       "      <td>0.94</td>\n",
       "      <td>0.94</td>\n",
       "      <td>100.00</td>\n",
       "    </tr>\n",
       "    <tr>\n",
       "      <th>1</th>\n",
       "      <td>0.95</td>\n",
       "      <td>0.95</td>\n",
       "      <td>100.00</td>\n",
       "    </tr>\n",
       "    <tr>\n",
       "      <th>2</th>\n",
       "      <td>0.94</td>\n",
       "      <td>0.94</td>\n",
       "      <td>100.00</td>\n",
       "    </tr>\n",
       "    <tr>\n",
       "      <th>3</th>\n",
       "      <td>0.95</td>\n",
       "      <td>0.95</td>\n",
       "      <td>100.00</td>\n",
       "    </tr>\n",
       "    <tr>\n",
       "      <th>4</th>\n",
       "      <td>0.98</td>\n",
       "      <td>0.97</td>\n",
       "      <td>98.98</td>\n",
       "    </tr>\n",
       "    <tr>\n",
       "      <th>5</th>\n",
       "      <td>0.99</td>\n",
       "      <td>0.99</td>\n",
       "      <td>100.00</td>\n",
       "    </tr>\n",
       "    <tr>\n",
       "      <th>6</th>\n",
       "      <td>0.98</td>\n",
       "      <td>0.98</td>\n",
       "      <td>100.00</td>\n",
       "    </tr>\n",
       "    <tr>\n",
       "      <th>7</th>\n",
       "      <td>0.98</td>\n",
       "      <td>0.98</td>\n",
       "      <td>100.00</td>\n",
       "    </tr>\n",
       "    <tr>\n",
       "      <th>8</th>\n",
       "      <td>0.97</td>\n",
       "      <td>0.97</td>\n",
       "      <td>100.00</td>\n",
       "    </tr>\n",
       "    <tr>\n",
       "      <th>9</th>\n",
       "      <td>0.99</td>\n",
       "      <td>0.98</td>\n",
       "      <td>98.99</td>\n",
       "    </tr>\n",
       "    <tr>\n",
       "      <th>10</th>\n",
       "      <td>0.99</td>\n",
       "      <td>0.99</td>\n",
       "      <td>100.00</td>\n",
       "    </tr>\n",
       "    <tr>\n",
       "      <th>11</th>\n",
       "      <td>0.99</td>\n",
       "      <td>0.99</td>\n",
       "      <td>100.00</td>\n",
       "    </tr>\n",
       "    <tr>\n",
       "      <th>12</th>\n",
       "      <td>0.94</td>\n",
       "      <td>0.94</td>\n",
       "      <td>100.00</td>\n",
       "    </tr>\n",
       "  </tbody>\n",
       "</table>\n",
       "</div>"
      ],
      "text/plain": [
       "    Target-St(%)  Prediction-St(%)  Pred-Accu-St(%)\n",
       "0           0.94              0.94           100.00\n",
       "1           0.95              0.95           100.00\n",
       "2           0.94              0.94           100.00\n",
       "3           0.95              0.95           100.00\n",
       "4           0.98              0.97            98.98\n",
       "5           0.99              0.99           100.00\n",
       "6           0.98              0.98           100.00\n",
       "7           0.98              0.98           100.00\n",
       "8           0.97              0.97           100.00\n",
       "9           0.99              0.98            98.99\n",
       "10          0.99              0.99           100.00\n",
       "11          0.99              0.99           100.00\n",
       "12          0.94              0.94           100.00"
      ]
     },
     "execution_count": 124,
     "metadata": {},
     "output_type": "execute_result"
    }
   ],
   "source": [
    "prediction = model.predict(test_inputs)\n",
    "data_inputs = pd.DataFrame(test_inputs)\n",
    "prediction = pd.DataFrame(np.round(prediction,2))\n",
    "test_targets = pd.DataFrame(test_targets)\n",
    "pred_accu = np.round((prediction/test_targets)*100,2)\n",
    "\n",
    "result = pd.concat([test_targets, prediction, pred_accu], axis = 1, ignore_index=True)\n",
    "result.columns = ['Target-St(%)', 'Prediction-St(%)','Pred-Accu-St(%)']\n",
    "result"
   ]
  },
  {
   "cell_type": "code",
   "execution_count": 125,
   "metadata": {},
   "outputs": [
    {
     "data": {
      "text/plain": [
       "Text(0.5, 0, 'Targets (red) & Predictions (blue)')"
      ]
     },
     "execution_count": 125,
     "metadata": {},
     "output_type": "execute_result"
    },
    {
     "data": {
      "image/png": "[encoded data removed]",
      "text/plain": [
       "<Figure size 640x480 with 1 Axes>"
      ]
     },
     "metadata": {},
     "output_type": "display_data"
    }
   ],
   "source": [
    "plt.scatter(result['Target-St(%)'], result['Pred-Accu-St(%)'], color='r')\n",
    "plt.scatter(result['Prediction-St(%)'], result['Pred-Accu-St(%)'],alpha=0.4, color='b')\n",
    "plt.ylabel('Error in the prediction(%)')\n",
    "plt.xlabel('Targets (red) & Predictions (blue)')"
   ]
  },
  {
   "cell_type": "code",
   "execution_count": 126,
   "metadata": {},
   "outputs": [
    {
     "data": {
      "text/plain": [
       "Text(0.5, 0, 'Targets')"
      ]
     },
     "execution_count": 126,
     "metadata": {},
     "output_type": "execute_result"
    },
    {
     "data": {
      "image/png": "[encoded data removed]",
      "text/plain": [
       "<Figure size 640x480 with 1 Axes>"
      ]
     },
     "metadata": {},
     "output_type": "display_data"
    }
   ],
   "source": [
    "plt.scatter(result['Target-St(%)'], result['Prediction-St(%)'], alpha=0.3, color='g')\n",
    "plt.ylabel('predictions')\n",
    "plt.xlabel('Targets')"
   ]
  },
  {
   "cell_type": "code",
   "execution_count": 127,
   "metadata": {},
   "outputs": [
    {
     "data": {
      "text/plain": [
       "0.962750893950189"
      ]
     },
     "execution_count": 127,
     "metadata": {},
     "output_type": "execute_result"
    }
   ],
   "source": [
    "# estimation of R2 score\n",
    "from sklearn.metrics import r2_score\n",
    "r2_score_test = r2_score(test_targets, prediction)\n",
    "r2_score_test"
   ]
  },
  {
   "cell_type": "code",
   "execution_count": 128,
   "metadata": {},
   "outputs": [
    {
     "data": {
      "text/plain": [
       "0.9503345252669186"
      ]
     },
     "execution_count": 128,
     "metadata": {},
     "output_type": "execute_result"
    }
   ],
   "source": [
    "# estimation of adjusted R2 score\n",
    "n = np.size(test_targets)\n",
    "k = 3 # number of features\n",
    "adj_r2_score = 1 - (((1-r2_score_test)*(n-1))/((n-k-1)))\n",
    "adj_r2_score"
   ]
  },
  {
   "cell_type": "code",
   "execution_count": 129,
   "metadata": {},
   "outputs": [
    {
     "name": "stdout",
     "output_type": "stream",
     "text": [
      "Uncertainty of the ANN model: 0.38 [%]\n",
      "Average test prediction precision 99.62 [%]\n"
     ]
    }
   ],
   "source": [
    "mean_pred = pred_accu.mean()\n",
    "std_pred = pred_accu.std()\n",
    "uncertainty_model = std_pred\n",
    "print(\"Uncertainty of the ANN model:\", np.round(uncertainty_model[0],2), '[%]')\n",
    "print(\"Average test prediction precision\", np.round(100 - uncertainty_model[0],2), '[%]')"
   ]
  },
  {
   "cell_type": "markdown",
   "metadata": {},
   "source": [
    "# ANN Model Deployment"
   ]
  },
  {
   "cell_type": "markdown",
   "metadata": {},
   "source": [
    "ANN model deployment for micro DSC error prediction"
   ]
  },
  {
   "cell_type": "code",
   "execution_count": 130,
   "metadata": {},
   "outputs": [],
   "source": [
    "import keras\n",
    "model.save('micro_dsc_dl.h5')"
   ]
  },
  {
   "cell_type": "code",
   "execution_count": null,
   "metadata": {},
   "outputs": [],
   "source": []
  }
 ],
 "metadata": {
  "kernelspec": {
   "display_name": ".venv",
   "language": "python",
   "name": "python3"
  },
  "language_info": {
   "codemirror_mode": {
    "name": "ipython",
    "version": 3
   },
   "file_extension": ".py",
   "mimetype": "text/x-python",
   "name": "python",
   "nbconvert_exporter": "python",
   "pygments_lexer": "ipython3",
   "version": "3.8.9"
  },
  "orig_nbformat": 4,
  "vscode": {
   "interpreter": {
    "hash": "795fce77f85a68c42812bdf3641cf800dca9a871e04df385e26cc90e90697f34"
   }
  }
 },
 "nbformat": 4,
 "nbformat_minor": 2
}
