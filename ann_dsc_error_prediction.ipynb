{
 "cells": [
  {
   "cell_type": "markdown",
   "metadata": {},
   "source": [
    "# DNN Model"
   ]
  },
  {
   "cell_type": "code",
   "execution_count": 314,
   "metadata": {},
   "outputs": [],
   "source": [
    "import numpy as np\n",
    "import pandas as pd\n",
    "import tensorflow as tf"
   ]
  },
  {
   "cell_type": "code",
   "execution_count": 315,
   "metadata": {},
   "outputs": [],
   "source": [
    "# data loading from .npz generated from tcr_data_process.ipynb\n",
    "# loading train data\n",
    "npz = np.load('data_train.npz')\n",
    "train_inputs = npz['input'].astype(np.float64)\n",
    "train_targets = npz['targets'].astype(np.float64)\n",
    "# loading validation data\n",
    "npz = np.load('data_validation.npz')\n",
    "validation_inputs, validation_targets = npz['input'].astype(np.float64), npz['targets'].astype(np.float64)\n",
    "\n",
    "npz = np.load('data_test.npz')\n",
    "test_inputs, test_targets = npz['input'].astype(np.float64), npz['targets'].astype(np.float64)"
   ]
  },
  {
   "cell_type": "markdown",
   "metadata": {},
   "source": [
    "# ANN Model"
   ]
  },
  {
   "cell_type": "markdown",
   "metadata": {},
   "source": [
    "Outline, Optimizer, Loss function, Early stopping and Training rate"
   ]
  },
  {
   "cell_type": "code",
   "execution_count": 316,
   "metadata": {},
   "outputs": [],
   "source": [
    "# NN model prep\n",
    "input_size = 3\n",
    "output_size = 1\n",
    "hidden_layer_1_size = 10\n",
    "hidden_layer_2_size = 10\n",
    "hidden_layer_3_size = 10\n",
    "\n",
    "model = tf.keras.Sequential([\n",
    "    tf.keras.layers.Dense(input_size),\n",
    "    tf.keras.layers.Dense(hidden_layer_1_size, activation='relu'),\n",
    "    tf.keras.layers.Dense(hidden_layer_2_size, activation='relu'),\n",
    "    tf.keras.layers.Dense(hidden_layer_3_size, activation='relu'),\n",
    "    tf.keras.layers.Dense(output_size, activation='linear')\n",
    "])\n"
   ]
  },
  {
   "cell_type": "code",
   "execution_count": 317,
   "metadata": {},
   "outputs": [],
   "source": [
    "# model prep, optimizer and loss function\n",
    "optimizer = tf.keras.optimizers.Adam(learning_rate=0.00001)\n",
    "model.compile(optimizer, loss=tf.keras.losses.MeanSquaredError(),metrics=[tf.keras.metrics.RootMeanSquaredError()])\n"
   ]
  },
  {
   "cell_type": "code",
   "execution_count": 318,
   "metadata": {},
   "outputs": [],
   "source": [
    "# Training\n",
    "BATCH_SIZE = 1\n",
    "MAX_EPOCHS = 1000\n",
    "early_stopping = tf.keras.callbacks.EarlyStopping(patience=2)"
   ]
  },
  {
   "cell_type": "code",
   "execution_count": 319,
   "metadata": {},
   "outputs": [
    {
     "name": "stdout",
     "output_type": "stream",
     "text": [
      "Epoch 1/1000\n",
      "640/640 - 11s - loss: 1.3234 - root_mean_squared_error: 1.1504 - val_loss: 1.2445 - val_root_mean_squared_error: 1.1156 - 11s/epoch - 18ms/step\n",
      "Epoch 2/1000\n",
      "640/640 - 3s - loss: 1.1935 - root_mean_squared_error: 1.0925 - val_loss: 1.1316 - val_root_mean_squared_error: 1.0638 - 3s/epoch - 5ms/step\n",
      "Epoch 3/1000\n",
      "640/640 - 2s - loss: 1.0791 - root_mean_squared_error: 1.0388 - val_loss: 1.0256 - val_root_mean_squared_error: 1.0127 - 2s/epoch - 3ms/step\n",
      "Epoch 4/1000\n",
      "640/640 - 1s - loss: 0.9757 - root_mean_squared_error: 0.9878 - val_loss: 0.9301 - val_root_mean_squared_error: 0.9644 - 1s/epoch - 2ms/step\n",
      "Epoch 5/1000\n",
      "640/640 - 1s - loss: 0.8798 - root_mean_squared_error: 0.9380 - val_loss: 0.8414 - val_root_mean_squared_error: 0.9173 - 1s/epoch - 2ms/step\n",
      "Epoch 6/1000\n",
      "640/640 - 2s - loss: 0.7912 - root_mean_squared_error: 0.8895 - val_loss: 0.7577 - val_root_mean_squared_error: 0.8705 - 2s/epoch - 3ms/step\n",
      "Epoch 7/1000\n",
      "640/640 - 1s - loss: 0.7066 - root_mean_squared_error: 0.8406 - val_loss: 0.6812 - val_root_mean_squared_error: 0.8253 - 1s/epoch - 2ms/step\n",
      "Epoch 8/1000\n",
      "640/640 - 1s - loss: 0.6298 - root_mean_squared_error: 0.7936 - val_loss: 0.6100 - val_root_mean_squared_error: 0.7810 - 1s/epoch - 2ms/step\n",
      "Epoch 9/1000\n",
      "640/640 - 1s - loss: 0.5585 - root_mean_squared_error: 0.7474 - val_loss: 0.5434 - val_root_mean_squared_error: 0.7372 - 1s/epoch - 2ms/step\n",
      "Epoch 10/1000\n",
      "640/640 - 1s - loss: 0.4938 - root_mean_squared_error: 0.7027 - val_loss: 0.4839 - val_root_mean_squared_error: 0.6956 - 1s/epoch - 2ms/step\n",
      "Epoch 11/1000\n",
      "640/640 - 2s - loss: 0.4357 - root_mean_squared_error: 0.6601 - val_loss: 0.4290 - val_root_mean_squared_error: 0.6549 - 2s/epoch - 3ms/step\n",
      "Epoch 12/1000\n",
      "640/640 - 2s - loss: 0.3814 - root_mean_squared_error: 0.6176 - val_loss: 0.3763 - val_root_mean_squared_error: 0.6135 - 2s/epoch - 2ms/step\n",
      "Epoch 13/1000\n",
      "640/640 - 1s - loss: 0.3303 - root_mean_squared_error: 0.5747 - val_loss: 0.3271 - val_root_mean_squared_error: 0.5719 - 1s/epoch - 2ms/step\n",
      "Epoch 14/1000\n",
      "640/640 - 1s - loss: 0.2835 - root_mean_squared_error: 0.5324 - val_loss: 0.2821 - val_root_mean_squared_error: 0.5311 - 1s/epoch - 2ms/step\n",
      "Epoch 15/1000\n",
      "640/640 - 2s - loss: 0.2415 - root_mean_squared_error: 0.4914 - val_loss: 0.2416 - val_root_mean_squared_error: 0.4916 - 2s/epoch - 2ms/step\n",
      "Epoch 16/1000\n",
      "640/640 - 1s - loss: 0.2047 - root_mean_squared_error: 0.4524 - val_loss: 0.2061 - val_root_mean_squared_error: 0.4540 - 1s/epoch - 2ms/step\n",
      "Epoch 17/1000\n",
      "640/640 - 1s - loss: 0.1732 - root_mean_squared_error: 0.4162 - val_loss: 0.1758 - val_root_mean_squared_error: 0.4193 - 1s/epoch - 2ms/step\n",
      "Epoch 18/1000\n",
      "640/640 - 1s - loss: 0.1472 - root_mean_squared_error: 0.3837 - val_loss: 0.1505 - val_root_mean_squared_error: 0.3879 - 1s/epoch - 2ms/step\n",
      "Epoch 19/1000\n",
      "640/640 - 1s - loss: 0.1260 - root_mean_squared_error: 0.3550 - val_loss: 0.1294 - val_root_mean_squared_error: 0.3597 - 1s/epoch - 2ms/step\n",
      "Epoch 20/1000\n",
      "640/640 - 1s - loss: 0.1086 - root_mean_squared_error: 0.3295 - val_loss: 0.1117 - val_root_mean_squared_error: 0.3343 - 1s/epoch - 2ms/step\n",
      "Epoch 21/1000\n",
      "640/640 - 1s - loss: 0.0940 - root_mean_squared_error: 0.3066 - val_loss: 0.0966 - val_root_mean_squared_error: 0.3108 - 1s/epoch - 2ms/step\n",
      "Epoch 22/1000\n",
      "640/640 - 1s - loss: 0.0814 - root_mean_squared_error: 0.2854 - val_loss: 0.0836 - val_root_mean_squared_error: 0.2891 - 1s/epoch - 2ms/step\n",
      "Epoch 23/1000\n",
      "640/640 - 1s - loss: 0.0705 - root_mean_squared_error: 0.2655 - val_loss: 0.0723 - val_root_mean_squared_error: 0.2690 - 1s/epoch - 2ms/step\n",
      "Epoch 24/1000\n",
      "640/640 - 1s - loss: 0.0611 - root_mean_squared_error: 0.2471 - val_loss: 0.0628 - val_root_mean_squared_error: 0.2505 - 1s/epoch - 2ms/step\n",
      "Epoch 25/1000\n",
      "640/640 - 1s - loss: 0.0529 - root_mean_squared_error: 0.2299 - val_loss: 0.0546 - val_root_mean_squared_error: 0.2338 - 1s/epoch - 2ms/step\n",
      "Epoch 26/1000\n",
      "640/640 - 1s - loss: 0.0458 - root_mean_squared_error: 0.2140 - val_loss: 0.0479 - val_root_mean_squared_error: 0.2189 - 1s/epoch - 2ms/step\n",
      "Epoch 27/1000\n",
      "640/640 - 1s - loss: 0.0398 - root_mean_squared_error: 0.1994 - val_loss: 0.0423 - val_root_mean_squared_error: 0.2056 - 1s/epoch - 2ms/step\n",
      "Epoch 28/1000\n",
      "640/640 - 1s - loss: 0.0348 - root_mean_squared_error: 0.1864 - val_loss: 0.0378 - val_root_mean_squared_error: 0.1943 - 1s/epoch - 2ms/step\n",
      "Epoch 29/1000\n",
      "640/640 - 1s - loss: 0.0307 - root_mean_squared_error: 0.1751 - val_loss: 0.0341 - val_root_mean_squared_error: 0.1846 - 1s/epoch - 2ms/step\n",
      "Epoch 30/1000\n",
      "640/640 - 1s - loss: 0.0272 - root_mean_squared_error: 0.1651 - val_loss: 0.0310 - val_root_mean_squared_error: 0.1760 - 1s/epoch - 2ms/step\n",
      "Epoch 31/1000\n",
      "640/640 - 1s - loss: 0.0242 - root_mean_squared_error: 0.1557 - val_loss: 0.0282 - val_root_mean_squared_error: 0.1680 - 1s/epoch - 2ms/step\n",
      "Epoch 32/1000\n",
      "640/640 - 1s - loss: 0.0217 - root_mean_squared_error: 0.1473 - val_loss: 0.0259 - val_root_mean_squared_error: 0.1610 - 1s/epoch - 2ms/step\n",
      "Epoch 33/1000\n",
      "640/640 - 1s - loss: 0.0196 - root_mean_squared_error: 0.1402 - val_loss: 0.0240 - val_root_mean_squared_error: 0.1549 - 1s/epoch - 2ms/step\n",
      "Epoch 34/1000\n",
      "640/640 - 1s - loss: 0.0180 - root_mean_squared_error: 0.1342 - val_loss: 0.0224 - val_root_mean_squared_error: 0.1497 - 1s/epoch - 2ms/step\n",
      "Epoch 35/1000\n",
      "640/640 - 1s - loss: 0.0167 - root_mean_squared_error: 0.1291 - val_loss: 0.0211 - val_root_mean_squared_error: 0.1452 - 1s/epoch - 2ms/step\n",
      "Epoch 36/1000\n",
      "640/640 - 1s - loss: 0.0155 - root_mean_squared_error: 0.1245 - val_loss: 0.0199 - val_root_mean_squared_error: 0.1409 - 1s/epoch - 2ms/step\n",
      "Epoch 37/1000\n",
      "640/640 - 1s - loss: 0.0145 - root_mean_squared_error: 0.1203 - val_loss: 0.0188 - val_root_mean_squared_error: 0.1369 - 1s/epoch - 2ms/step\n",
      "Epoch 38/1000\n",
      "640/640 - 1s - loss: 0.0135 - root_mean_squared_error: 0.1163 - val_loss: 0.0177 - val_root_mean_squared_error: 0.1332 - 1s/epoch - 2ms/step\n",
      "Epoch 39/1000\n",
      "640/640 - 1s - loss: 0.0127 - root_mean_squared_error: 0.1127 - val_loss: 0.0168 - val_root_mean_squared_error: 0.1296 - 1s/epoch - 2ms/step\n",
      "Epoch 40/1000\n",
      "640/640 - 1s - loss: 0.0119 - root_mean_squared_error: 0.1090 - val_loss: 0.0158 - val_root_mean_squared_error: 0.1257 - 1s/epoch - 2ms/step\n",
      "Epoch 41/1000\n",
      "640/640 - 1s - loss: 0.0110 - root_mean_squared_error: 0.1050 - val_loss: 0.0148 - val_root_mean_squared_error: 0.1216 - 1s/epoch - 2ms/step\n",
      "Epoch 42/1000\n",
      "640/640 - 1s - loss: 0.0102 - root_mean_squared_error: 0.1011 - val_loss: 0.0137 - val_root_mean_squared_error: 0.1172 - 1s/epoch - 2ms/step\n",
      "Epoch 43/1000\n",
      "640/640 - 1s - loss: 0.0094 - root_mean_squared_error: 0.0971 - val_loss: 0.0128 - val_root_mean_squared_error: 0.1132 - 1s/epoch - 2ms/step\n",
      "Epoch 44/1000\n",
      "640/640 - 1s - loss: 0.0088 - root_mean_squared_error: 0.0938 - val_loss: 0.0121 - val_root_mean_squared_error: 0.1100 - 1s/epoch - 2ms/step\n",
      "Epoch 45/1000\n",
      "640/640 - 2s - loss: 0.0082 - root_mean_squared_error: 0.0908 - val_loss: 0.0114 - val_root_mean_squared_error: 0.1068 - 2s/epoch - 3ms/step\n",
      "Epoch 46/1000\n",
      "640/640 - 2s - loss: 0.0077 - root_mean_squared_error: 0.0879 - val_loss: 0.0108 - val_root_mean_squared_error: 0.1037 - 2s/epoch - 3ms/step\n",
      "Epoch 47/1000\n",
      "640/640 - 2s - loss: 0.0072 - root_mean_squared_error: 0.0851 - val_loss: 0.0101 - val_root_mean_squared_error: 0.1006 - 2s/epoch - 3ms/step\n",
      "Epoch 48/1000\n",
      "640/640 - 2s - loss: 0.0068 - root_mean_squared_error: 0.0823 - val_loss: 0.0095 - val_root_mean_squared_error: 0.0975 - 2s/epoch - 4ms/step\n",
      "Epoch 49/1000\n",
      "640/640 - 1s - loss: 0.0064 - root_mean_squared_error: 0.0797 - val_loss: 0.0089 - val_root_mean_squared_error: 0.0945 - 1s/epoch - 2ms/step\n",
      "Epoch 50/1000\n",
      "640/640 - 1s - loss: 0.0060 - root_mean_squared_error: 0.0773 - val_loss: 0.0084 - val_root_mean_squared_error: 0.0917 - 1s/epoch - 2ms/step\n",
      "Epoch 51/1000\n",
      "640/640 - 1s - loss: 0.0056 - root_mean_squared_error: 0.0750 - val_loss: 0.0079 - val_root_mean_squared_error: 0.0891 - 1s/epoch - 2ms/step\n",
      "Epoch 52/1000\n",
      "640/640 - 1s - loss: 0.0053 - root_mean_squared_error: 0.0731 - val_loss: 0.0076 - val_root_mean_squared_error: 0.0869 - 1s/epoch - 2ms/step\n",
      "Epoch 53/1000\n",
      "640/640 - 1s - loss: 0.0051 - root_mean_squared_error: 0.0714 - val_loss: 0.0072 - val_root_mean_squared_error: 0.0848 - 1s/epoch - 2ms/step\n",
      "Epoch 54/1000\n",
      "640/640 - 2s - loss: 0.0049 - root_mean_squared_error: 0.0697 - val_loss: 0.0068 - val_root_mean_squared_error: 0.0827 - 2s/epoch - 3ms/step\n",
      "Epoch 55/1000\n",
      "640/640 - 1s - loss: 0.0046 - root_mean_squared_error: 0.0681 - val_loss: 0.0065 - val_root_mean_squared_error: 0.0807 - 1s/epoch - 2ms/step\n",
      "Epoch 56/1000\n",
      "640/640 - 1s - loss: 0.0044 - root_mean_squared_error: 0.0666 - val_loss: 0.0062 - val_root_mean_squared_error: 0.0788 - 1s/epoch - 2ms/step\n",
      "Epoch 57/1000\n",
      "640/640 - 1s - loss: 0.0042 - root_mean_squared_error: 0.0651 - val_loss: 0.0059 - val_root_mean_squared_error: 0.0769 - 1s/epoch - 2ms/step\n",
      "Epoch 58/1000\n",
      "640/640 - 1s - loss: 0.0040 - root_mean_squared_error: 0.0636 - val_loss: 0.0056 - val_root_mean_squared_error: 0.0750 - 1s/epoch - 2ms/step\n",
      "Epoch 59/1000\n",
      "640/640 - 1s - loss: 0.0039 - root_mean_squared_error: 0.0622 - val_loss: 0.0054 - val_root_mean_squared_error: 0.0732 - 1s/epoch - 2ms/step\n",
      "Epoch 60/1000\n",
      "640/640 - 1s - loss: 0.0037 - root_mean_squared_error: 0.0609 - val_loss: 0.0051 - val_root_mean_squared_error: 0.0714 - 1s/epoch - 2ms/step\n",
      "Epoch 61/1000\n",
      "640/640 - 1s - loss: 0.0035 - root_mean_squared_error: 0.0595 - val_loss: 0.0049 - val_root_mean_squared_error: 0.0697 - 1s/epoch - 2ms/step\n",
      "Epoch 62/1000\n",
      "640/640 - 1s - loss: 0.0034 - root_mean_squared_error: 0.0582 - val_loss: 0.0046 - val_root_mean_squared_error: 0.0679 - 1s/epoch - 2ms/step\n",
      "Epoch 63/1000\n",
      "640/640 - 1s - loss: 0.0032 - root_mean_squared_error: 0.0569 - val_loss: 0.0044 - val_root_mean_squared_error: 0.0662 - 1s/epoch - 2ms/step\n",
      "Epoch 64/1000\n",
      "640/640 - 1s - loss: 0.0031 - root_mean_squared_error: 0.0556 - val_loss: 0.0042 - val_root_mean_squared_error: 0.0646 - 1s/epoch - 2ms/step\n",
      "Epoch 65/1000\n",
      "640/640 - 1s - loss: 0.0030 - root_mean_squared_error: 0.0543 - val_loss: 0.0040 - val_root_mean_squared_error: 0.0630 - 1s/epoch - 2ms/step\n",
      "Epoch 66/1000\n",
      "640/640 - 1s - loss: 0.0028 - root_mean_squared_error: 0.0532 - val_loss: 0.0038 - val_root_mean_squared_error: 0.0614 - 1s/epoch - 2ms/step\n",
      "Epoch 67/1000\n",
      "640/640 - 1s - loss: 0.0027 - root_mean_squared_error: 0.0520 - val_loss: 0.0036 - val_root_mean_squared_error: 0.0599 - 1s/epoch - 2ms/step\n",
      "Epoch 68/1000\n",
      "640/640 - 1s - loss: 0.0026 - root_mean_squared_error: 0.0508 - val_loss: 0.0034 - val_root_mean_squared_error: 0.0584 - 1s/epoch - 2ms/step\n",
      "Epoch 69/1000\n",
      "640/640 - 1s - loss: 0.0025 - root_mean_squared_error: 0.0497 - val_loss: 0.0032 - val_root_mean_squared_error: 0.0569 - 1s/epoch - 2ms/step\n",
      "Epoch 70/1000\n",
      "640/640 - 1s - loss: 0.0024 - root_mean_squared_error: 0.0486 - val_loss: 0.0031 - val_root_mean_squared_error: 0.0555 - 1s/epoch - 2ms/step\n",
      "Epoch 71/1000\n",
      "640/640 - 1s - loss: 0.0023 - root_mean_squared_error: 0.0475 - val_loss: 0.0029 - val_root_mean_squared_error: 0.0541 - 1s/epoch - 2ms/step\n",
      "Epoch 72/1000\n",
      "640/640 - 1s - loss: 0.0022 - root_mean_squared_error: 0.0464 - val_loss: 0.0028 - val_root_mean_squared_error: 0.0527 - 1s/epoch - 2ms/step\n",
      "Epoch 73/1000\n",
      "640/640 - 1s - loss: 0.0020 - root_mean_squared_error: 0.0452 - val_loss: 0.0026 - val_root_mean_squared_error: 0.0514 - 1s/epoch - 2ms/step\n",
      "Epoch 74/1000\n",
      "640/640 - 1s - loss: 0.0019 - root_mean_squared_error: 0.0441 - val_loss: 0.0025 - val_root_mean_squared_error: 0.0501 - 1s/epoch - 2ms/step\n",
      "Epoch 75/1000\n",
      "640/640 - 1s - loss: 0.0018 - root_mean_squared_error: 0.0430 - val_loss: 0.0024 - val_root_mean_squared_error: 0.0487 - 1s/epoch - 2ms/step\n",
      "Epoch 76/1000\n",
      "640/640 - 1s - loss: 0.0018 - root_mean_squared_error: 0.0419 - val_loss: 0.0022 - val_root_mean_squared_error: 0.0474 - 1s/epoch - 2ms/step\n",
      "Epoch 77/1000\n",
      "640/640 - 1s - loss: 0.0017 - root_mean_squared_error: 0.0408 - val_loss: 0.0021 - val_root_mean_squared_error: 0.0461 - 1s/epoch - 2ms/step\n",
      "Epoch 78/1000\n",
      "640/640 - 1s - loss: 0.0016 - root_mean_squared_error: 0.0397 - val_loss: 0.0020 - val_root_mean_squared_error: 0.0447 - 1s/epoch - 2ms/step\n",
      "Epoch 79/1000\n",
      "640/640 - 1s - loss: 0.0015 - root_mean_squared_error: 0.0386 - val_loss: 0.0019 - val_root_mean_squared_error: 0.0435 - 1s/epoch - 2ms/step\n",
      "Epoch 80/1000\n",
      "640/640 - 1s - loss: 0.0014 - root_mean_squared_error: 0.0375 - val_loss: 0.0018 - val_root_mean_squared_error: 0.0422 - 1s/epoch - 2ms/step\n",
      "Epoch 81/1000\n",
      "640/640 - 1s - loss: 0.0013 - root_mean_squared_error: 0.0365 - val_loss: 0.0017 - val_root_mean_squared_error: 0.0409 - 1s/epoch - 2ms/step\n",
      "Epoch 82/1000\n",
      "640/640 - 1s - loss: 0.0013 - root_mean_squared_error: 0.0354 - val_loss: 0.0016 - val_root_mean_squared_error: 0.0397 - 1s/epoch - 2ms/step\n",
      "Epoch 83/1000\n",
      "640/640 - 1s - loss: 0.0012 - root_mean_squared_error: 0.0344 - val_loss: 0.0015 - val_root_mean_squared_error: 0.0384 - 1s/epoch - 2ms/step\n",
      "Epoch 84/1000\n",
      "640/640 - 1s - loss: 0.0011 - root_mean_squared_error: 0.0334 - val_loss: 0.0014 - val_root_mean_squared_error: 0.0371 - 1s/epoch - 2ms/step\n",
      "Epoch 85/1000\n",
      "640/640 - 1s - loss: 0.0010 - root_mean_squared_error: 0.0323 - val_loss: 0.0013 - val_root_mean_squared_error: 0.0357 - 1s/epoch - 2ms/step\n",
      "Epoch 86/1000\n",
      "640/640 - 1s - loss: 9.7196e-04 - root_mean_squared_error: 0.0312 - val_loss: 0.0012 - val_root_mean_squared_error: 0.0344 - 1s/epoch - 2ms/step\n",
      "Epoch 87/1000\n",
      "640/640 - 1s - loss: 9.0649e-04 - root_mean_squared_error: 0.0301 - val_loss: 0.0011 - val_root_mean_squared_error: 0.0332 - 1s/epoch - 2ms/step\n",
      "Epoch 88/1000\n",
      "640/640 - 1s - loss: 8.4270e-04 - root_mean_squared_error: 0.0290 - val_loss: 0.0010 - val_root_mean_squared_error: 0.0319 - 1s/epoch - 2ms/step\n",
      "Epoch 89/1000\n",
      "640/640 - 1s - loss: 7.8253e-04 - root_mean_squared_error: 0.0280 - val_loss: 9.4141e-04 - val_root_mean_squared_error: 0.0307 - 1s/epoch - 2ms/step\n",
      "Epoch 90/1000\n",
      "640/640 - 1s - loss: 7.2741e-04 - root_mean_squared_error: 0.0270 - val_loss: 8.7170e-04 - val_root_mean_squared_error: 0.0295 - 1s/epoch - 2ms/step\n",
      "Epoch 91/1000\n",
      "640/640 - 2s - loss: 6.7710e-04 - root_mean_squared_error: 0.0260 - val_loss: 8.0494e-04 - val_root_mean_squared_error: 0.0284 - 2s/epoch - 3ms/step\n",
      "Epoch 92/1000\n",
      "640/640 - 2s - loss: 6.2866e-04 - root_mean_squared_error: 0.0251 - val_loss: 7.4636e-04 - val_root_mean_squared_error: 0.0273 - 2s/epoch - 3ms/step\n",
      "Epoch 93/1000\n",
      "640/640 - 1s - loss: 5.8724e-04 - root_mean_squared_error: 0.0242 - val_loss: 6.8976e-04 - val_root_mean_squared_error: 0.0263 - 1s/epoch - 2ms/step\n",
      "Epoch 94/1000\n",
      "640/640 - 1s - loss: 5.4826e-04 - root_mean_squared_error: 0.0234 - val_loss: 6.4125e-04 - val_root_mean_squared_error: 0.0253 - 1s/epoch - 2ms/step\n",
      "Epoch 95/1000\n",
      "640/640 - 1s - loss: 5.1211e-04 - root_mean_squared_error: 0.0226 - val_loss: 5.9353e-04 - val_root_mean_squared_error: 0.0244 - 1s/epoch - 2ms/step\n",
      "Epoch 96/1000\n",
      "640/640 - 1s - loss: 4.7805e-04 - root_mean_squared_error: 0.0219 - val_loss: 5.5428e-04 - val_root_mean_squared_error: 0.0235 - 1s/epoch - 2ms/step\n",
      "Epoch 97/1000\n",
      "640/640 - 1s - loss: 4.4838e-04 - root_mean_squared_error: 0.0212 - val_loss: 5.1289e-04 - val_root_mean_squared_error: 0.0226 - 1s/epoch - 2ms/step\n",
      "Epoch 98/1000\n",
      "640/640 - 1s - loss: 4.1999e-04 - root_mean_squared_error: 0.0205 - val_loss: 4.7706e-04 - val_root_mean_squared_error: 0.0218 - 1s/epoch - 2ms/step\n",
      "Epoch 99/1000\n",
      "640/640 - 1s - loss: 3.9327e-04 - root_mean_squared_error: 0.0198 - val_loss: 4.4616e-04 - val_root_mean_squared_error: 0.0211 - 1s/epoch - 2ms/step\n",
      "Epoch 100/1000\n",
      "640/640 - 1s - loss: 3.6887e-04 - root_mean_squared_error: 0.0192 - val_loss: 4.1461e-04 - val_root_mean_squared_error: 0.0204 - 1s/epoch - 2ms/step\n",
      "Epoch 101/1000\n",
      "640/640 - 1s - loss: 3.4545e-04 - root_mean_squared_error: 0.0186 - val_loss: 3.8647e-04 - val_root_mean_squared_error: 0.0197 - 1s/epoch - 2ms/step\n",
      "Epoch 102/1000\n",
      "640/640 - 1s - loss: 3.2394e-04 - root_mean_squared_error: 0.0180 - val_loss: 3.5931e-04 - val_root_mean_squared_error: 0.0190 - 1s/epoch - 2ms/step\n",
      "Epoch 103/1000\n",
      "640/640 - 1s - loss: 3.0412e-04 - root_mean_squared_error: 0.0174 - val_loss: 3.3538e-04 - val_root_mean_squared_error: 0.0183 - 1s/epoch - 2ms/step\n",
      "Epoch 104/1000\n",
      "640/640 - 1s - loss: 2.8456e-04 - root_mean_squared_error: 0.0169 - val_loss: 3.1044e-04 - val_root_mean_squared_error: 0.0176 - 1s/epoch - 2ms/step\n",
      "Epoch 105/1000\n",
      "640/640 - 1s - loss: 2.6620e-04 - root_mean_squared_error: 0.0163 - val_loss: 2.9092e-04 - val_root_mean_squared_error: 0.0171 - 1s/epoch - 2ms/step\n",
      "Epoch 106/1000\n",
      "640/640 - 2s - loss: 2.4912e-04 - root_mean_squared_error: 0.0158 - val_loss: 2.6746e-04 - val_root_mean_squared_error: 0.0164 - 2s/epoch - 2ms/step\n",
      "Epoch 107/1000\n",
      "640/640 - 1s - loss: 2.3187e-04 - root_mean_squared_error: 0.0152 - val_loss: 2.4722e-04 - val_root_mean_squared_error: 0.0157 - 1s/epoch - 2ms/step\n",
      "Epoch 108/1000\n",
      "640/640 - 1s - loss: 2.1673e-04 - root_mean_squared_error: 0.0147 - val_loss: 2.2739e-04 - val_root_mean_squared_error: 0.0151 - 1s/epoch - 2ms/step\n",
      "Epoch 109/1000\n",
      "640/640 - 1s - loss: 2.0134e-04 - root_mean_squared_error: 0.0142 - val_loss: 2.1203e-04 - val_root_mean_squared_error: 0.0146 - 1s/epoch - 2ms/step\n",
      "Epoch 110/1000\n",
      "640/640 - 1s - loss: 1.8780e-04 - root_mean_squared_error: 0.0137 - val_loss: 1.9411e-04 - val_root_mean_squared_error: 0.0139 - 1s/epoch - 2ms/step\n",
      "Epoch 111/1000\n",
      "640/640 - 1s - loss: 1.7424e-04 - root_mean_squared_error: 0.0132 - val_loss: 1.8039e-04 - val_root_mean_squared_error: 0.0134 - 1s/epoch - 2ms/step\n",
      "Epoch 112/1000\n",
      "640/640 - 1s - loss: 1.6196e-04 - root_mean_squared_error: 0.0127 - val_loss: 1.6290e-04 - val_root_mean_squared_error: 0.0128 - 1s/epoch - 2ms/step\n",
      "Epoch 113/1000\n",
      "640/640 - 1s - loss: 1.5016e-04 - root_mean_squared_error: 0.0123 - val_loss: 1.5523e-04 - val_root_mean_squared_error: 0.0125 - 1s/epoch - 2ms/step\n",
      "Epoch 114/1000\n",
      "640/640 - 1s - loss: 1.3964e-04 - root_mean_squared_error: 0.0118 - val_loss: 1.3727e-04 - val_root_mean_squared_error: 0.0117 - 1s/epoch - 2ms/step\n",
      "Epoch 115/1000\n",
      "640/640 - 1s - loss: 1.2883e-04 - root_mean_squared_error: 0.0114 - val_loss: 1.2739e-04 - val_root_mean_squared_error: 0.0113 - 1s/epoch - 2ms/step\n",
      "Epoch 116/1000\n",
      "640/640 - 1s - loss: 1.1851e-04 - root_mean_squared_error: 0.0109 - val_loss: 1.1498e-04 - val_root_mean_squared_error: 0.0107 - 1s/epoch - 2ms/step\n",
      "Epoch 117/1000\n",
      "640/640 - 1s - loss: 1.1012e-04 - root_mean_squared_error: 0.0105 - val_loss: 1.0633e-04 - val_root_mean_squared_error: 0.0103 - 1s/epoch - 2ms/step\n",
      "Epoch 118/1000\n",
      "640/640 - 1s - loss: 1.0159e-04 - root_mean_squared_error: 0.0101 - val_loss: 9.8689e-05 - val_root_mean_squared_error: 0.0099 - 1s/epoch - 2ms/step\n",
      "Epoch 119/1000\n",
      "640/640 - 1s - loss: 9.3486e-05 - root_mean_squared_error: 0.0097 - val_loss: 8.9581e-05 - val_root_mean_squared_error: 0.0095 - 1s/epoch - 2ms/step\n",
      "Epoch 120/1000\n",
      "640/640 - 1s - loss: 8.6312e-05 - root_mean_squared_error: 0.0093 - val_loss: 8.2424e-05 - val_root_mean_squared_error: 0.0091 - 1s/epoch - 2ms/step\n",
      "Epoch 121/1000\n",
      "640/640 - 1s - loss: 7.9334e-05 - root_mean_squared_error: 0.0089 - val_loss: 7.3450e-05 - val_root_mean_squared_error: 0.0086 - 1s/epoch - 2ms/step\n",
      "Epoch 122/1000\n",
      "640/640 - 1s - loss: 7.3017e-05 - root_mean_squared_error: 0.0085 - val_loss: 6.8297e-05 - val_root_mean_squared_error: 0.0083 - 1s/epoch - 2ms/step\n",
      "Epoch 123/1000\n",
      "640/640 - 1s - loss: 6.7259e-05 - root_mean_squared_error: 0.0082 - val_loss: 6.1792e-05 - val_root_mean_squared_error: 0.0079 - 1s/epoch - 2ms/step\n",
      "Epoch 124/1000\n",
      "640/640 - 1s - loss: 6.1402e-05 - root_mean_squared_error: 0.0078 - val_loss: 5.7462e-05 - val_root_mean_squared_error: 0.0076 - 1s/epoch - 2ms/step\n",
      "Epoch 125/1000\n",
      "640/640 - 1s - loss: 5.4960e-05 - root_mean_squared_error: 0.0074 - val_loss: 5.0786e-05 - val_root_mean_squared_error: 0.0071 - 1s/epoch - 2ms/step\n",
      "Epoch 126/1000\n",
      "640/640 - 1s - loss: 4.9276e-05 - root_mean_squared_error: 0.0070 - val_loss: 4.5649e-05 - val_root_mean_squared_error: 0.0068 - 1s/epoch - 2ms/step\n",
      "Epoch 127/1000\n",
      "640/640 - 1s - loss: 4.4635e-05 - root_mean_squared_error: 0.0067 - val_loss: 4.0799e-05 - val_root_mean_squared_error: 0.0064 - 1s/epoch - 2ms/step\n",
      "Epoch 128/1000\n",
      "640/640 - 1s - loss: 3.9217e-05 - root_mean_squared_error: 0.0063 - val_loss: 3.5982e-05 - val_root_mean_squared_error: 0.0060 - 1s/epoch - 2ms/step\n",
      "Epoch 129/1000\n",
      "640/640 - 1s - loss: 3.4649e-05 - root_mean_squared_error: 0.0059 - val_loss: 3.2039e-05 - val_root_mean_squared_error: 0.0057 - 1s/epoch - 2ms/step\n",
      "Epoch 130/1000\n",
      "640/640 - 1s - loss: 3.0583e-05 - root_mean_squared_error: 0.0055 - val_loss: 2.6979e-05 - val_root_mean_squared_error: 0.0052 - 1s/epoch - 2ms/step\n",
      "Epoch 131/1000\n",
      "640/640 - 1s - loss: 2.7636e-05 - root_mean_squared_error: 0.0053 - val_loss: 2.3998e-05 - val_root_mean_squared_error: 0.0049 - 1s/epoch - 2ms/step\n",
      "Epoch 132/1000\n",
      "640/640 - 1s - loss: 2.4824e-05 - root_mean_squared_error: 0.0050 - val_loss: 2.1359e-05 - val_root_mean_squared_error: 0.0046 - 1s/epoch - 2ms/step\n",
      "Epoch 133/1000\n",
      "640/640 - 1s - loss: 2.2644e-05 - root_mean_squared_error: 0.0048 - val_loss: 1.9749e-05 - val_root_mean_squared_error: 0.0044 - 1s/epoch - 2ms/step\n",
      "Epoch 134/1000\n",
      "640/640 - 1s - loss: 2.0891e-05 - root_mean_squared_error: 0.0046 - val_loss: 1.8658e-05 - val_root_mean_squared_error: 0.0043 - 1s/epoch - 2ms/step\n",
      "Epoch 135/1000\n",
      "640/640 - 1s - loss: 1.9650e-05 - root_mean_squared_error: 0.0044 - val_loss: 1.6716e-05 - val_root_mean_squared_error: 0.0041 - 1s/epoch - 2ms/step\n",
      "Epoch 136/1000\n",
      "640/640 - 1s - loss: 1.8549e-05 - root_mean_squared_error: 0.0043 - val_loss: 1.5659e-05 - val_root_mean_squared_error: 0.0040 - 1s/epoch - 2ms/step\n",
      "Epoch 137/1000\n",
      "640/640 - 1s - loss: 1.7543e-05 - root_mean_squared_error: 0.0042 - val_loss: 1.5672e-05 - val_root_mean_squared_error: 0.0040 - 1s/epoch - 2ms/step\n",
      "Epoch 138/1000\n",
      "640/640 - 1s - loss: 1.6760e-05 - root_mean_squared_error: 0.0041 - val_loss: 1.4449e-05 - val_root_mean_squared_error: 0.0038 - 1s/epoch - 2ms/step\n",
      "Epoch 139/1000\n",
      "640/640 - 1s - loss: 1.6251e-05 - root_mean_squared_error: 0.0040 - val_loss: 1.4207e-05 - val_root_mean_squared_error: 0.0038 - 1s/epoch - 2ms/step\n",
      "Epoch 140/1000\n",
      "640/640 - 1s - loss: 1.5716e-05 - root_mean_squared_error: 0.0040 - val_loss: 1.3517e-05 - val_root_mean_squared_error: 0.0037 - 1s/epoch - 2ms/step\n",
      "Epoch 141/1000\n",
      "640/640 - 1s - loss: 1.5131e-05 - root_mean_squared_error: 0.0039 - val_loss: 1.2965e-05 - val_root_mean_squared_error: 0.0036 - 1s/epoch - 2ms/step\n",
      "Epoch 142/1000\n",
      "640/640 - 1s - loss: 1.5001e-05 - root_mean_squared_error: 0.0039 - val_loss: 1.2307e-05 - val_root_mean_squared_error: 0.0035 - 1s/epoch - 2ms/step\n",
      "Epoch 143/1000\n",
      "640/640 - 1s - loss: 1.4719e-05 - root_mean_squared_error: 0.0038 - val_loss: 1.2092e-05 - val_root_mean_squared_error: 0.0035 - 1s/epoch - 2ms/step\n",
      "Epoch 144/1000\n",
      "640/640 - 1s - loss: 1.4389e-05 - root_mean_squared_error: 0.0038 - val_loss: 1.2056e-05 - val_root_mean_squared_error: 0.0035 - 1s/epoch - 2ms/step\n",
      "Epoch 145/1000\n",
      "640/640 - 1s - loss: 1.4370e-05 - root_mean_squared_error: 0.0038 - val_loss: 1.1401e-05 - val_root_mean_squared_error: 0.0034 - 1s/epoch - 2ms/step\n",
      "Epoch 146/1000\n",
      "640/640 - 1s - loss: 1.3650e-05 - root_mean_squared_error: 0.0037 - val_loss: 1.1403e-05 - val_root_mean_squared_error: 0.0034 - 1s/epoch - 2ms/step\n",
      "Epoch 147/1000\n",
      "640/640 - 1s - loss: 1.3748e-05 - root_mean_squared_error: 0.0037 - val_loss: 1.1126e-05 - val_root_mean_squared_error: 0.0033 - 1s/epoch - 2ms/step\n",
      "Epoch 148/1000\n",
      "640/640 - 1s - loss: 1.3927e-05 - root_mean_squared_error: 0.0037 - val_loss: 1.1625e-05 - val_root_mean_squared_error: 0.0034 - 1s/epoch - 2ms/step\n",
      "Epoch 149/1000\n",
      "640/640 - 1s - loss: 1.3788e-05 - root_mean_squared_error: 0.0037 - val_loss: 1.1417e-05 - val_root_mean_squared_error: 0.0034 - 1s/epoch - 2ms/step\n"
     ]
    }
   ],
   "source": [
    "# fit the model\n",
    "history = model.fit(\n",
    "    train_inputs, train_targets, batch_size=BATCH_SIZE,epochs=MAX_EPOCHS, callbacks=[early_stopping], validation_data=(validation_inputs, validation_targets), verbose=2\n",
    "          )"
   ]
  },
  {
   "cell_type": "code",
   "execution_count": 320,
   "metadata": {},
   "outputs": [
    {
     "name": "stdout",
     "output_type": "stream",
     "text": [
      "Model: \"sequential_19\"\n",
      "_________________________________________________________________\n",
      " Layer (type)                Output Shape              Param #   \n",
      "=================================================================\n",
      " dense_89 (Dense)            (1, 3)                    12        \n",
      "                                                                 \n",
      " dense_90 (Dense)            (1, 10)                   40        \n",
      "                                                                 \n",
      " dense_91 (Dense)            (1, 10)                   110       \n",
      "                                                                 \n",
      " dense_92 (Dense)            (1, 10)                   110       \n",
      "                                                                 \n",
      " dense_93 (Dense)            (1, 1)                    11        \n",
      "                                                                 \n",
      "=================================================================\n",
      "Total params: 283\n",
      "Trainable params: 283\n",
      "Non-trainable params: 0\n",
      "_________________________________________________________________\n"
     ]
    }
   ],
   "source": [
    "# ANN model summary\n",
    "model.summary()"
   ]
  },
  {
   "cell_type": "code",
   "execution_count": 321,
   "metadata": {},
   "outputs": [
    {
     "data": {
      "image/png": "[encoded data removed]",
      "text/plain": [
       "<Figure size 640x480 with 1 Axes>"
      ]
     },
     "metadata": {},
     "output_type": "display_data"
    }
   ],
   "source": [
    "import matplotlib.pyplot as plt\n",
    "plt.plot(history.history['loss'], label='Training_loss')\n",
    "plt.plot(history.history['val_loss'], label='Validation_loss')\n",
    "plt.xlabel('epochs')\n",
    "plt.ylabel('loss')\n",
    "plt.legend()\n",
    "plt.show()"
   ]
  },
  {
   "cell_type": "markdown",
   "metadata": {},
   "source": [
    "# Model check on Test data"
   ]
  },
  {
   "cell_type": "code",
   "execution_count": 322,
   "metadata": {},
   "outputs": [
    {
     "name": "stdout",
     "output_type": "stream",
     "text": [
      "3/3 [==============================] - 0s 6ms/step - loss: 1.7303e-05 - root_mean_squared_error: 0.0042\n"
     ]
    }
   ],
   "source": [
    "test_loss, test_accuracy = model.evaluate(test_inputs, test_targets)"
   ]
  },
  {
   "cell_type": "code",
   "execution_count": 323,
   "metadata": {},
   "outputs": [
    {
     "name": "stdout",
     "output_type": "stream",
     "text": [
      "\n",
      "Test loss: 0.0000. Test accuracy: 0.0042 rmse\n"
     ]
    }
   ],
   "source": [
    "print('\\nTest loss: {0:.4f}. Test accuracy: {1:.4f} rmse'.format(test_loss, test_accuracy))"
   ]
  },
  {
   "cell_type": "code",
   "execution_count": 324,
   "metadata": {},
   "outputs": [
    {
     "name": "stdout",
     "output_type": "stream",
     "text": [
      "3/3 [==============================] - 0s 3ms/step\n"
     ]
    },
    {
     "data": {
      "text/html": [
       "<div>\n",
       "<style scoped>\n",
       "    .dataframe tbody tr th:only-of-type {\n",
       "        vertical-align: middle;\n",
       "    }\n",
       "\n",
       "    .dataframe tbody tr th {\n",
       "        vertical-align: top;\n",
       "    }\n",
       "\n",
       "    .dataframe thead th {\n",
       "        text-align: right;\n",
       "    }\n",
       "</style>\n",
       "<table border=\"1\" class=\"dataframe\">\n",
       "  <thead>\n",
       "    <tr style=\"text-align: right;\">\n",
       "      <th></th>\n",
       "      <th>Target-St(%)</th>\n",
       "      <th>Prediction-St(%)</th>\n",
       "      <th>Pred-Accu-St(%)</th>\n",
       "    </tr>\n",
       "  </thead>\n",
       "  <tbody>\n",
       "    <tr>\n",
       "      <th>0</th>\n",
       "      <td>0.99</td>\n",
       "      <td>0.989</td>\n",
       "      <td>99.90</td>\n",
       "    </tr>\n",
       "    <tr>\n",
       "      <th>1</th>\n",
       "      <td>0.96</td>\n",
       "      <td>0.949</td>\n",
       "      <td>98.85</td>\n",
       "    </tr>\n",
       "    <tr>\n",
       "      <th>2</th>\n",
       "      <td>0.99</td>\n",
       "      <td>0.984</td>\n",
       "      <td>99.39</td>\n",
       "    </tr>\n",
       "    <tr>\n",
       "      <th>3</th>\n",
       "      <td>0.94</td>\n",
       "      <td>0.937</td>\n",
       "      <td>99.68</td>\n",
       "    </tr>\n",
       "    <tr>\n",
       "      <th>4</th>\n",
       "      <td>0.99</td>\n",
       "      <td>0.993</td>\n",
       "      <td>100.30</td>\n",
       "    </tr>\n",
       "    <tr>\n",
       "      <th>...</th>\n",
       "      <td>...</td>\n",
       "      <td>...</td>\n",
       "      <td>...</td>\n",
       "    </tr>\n",
       "    <tr>\n",
       "      <th>75</th>\n",
       "      <td>0.97</td>\n",
       "      <td>0.969</td>\n",
       "      <td>99.90</td>\n",
       "    </tr>\n",
       "    <tr>\n",
       "      <th>76</th>\n",
       "      <td>0.94</td>\n",
       "      <td>0.944</td>\n",
       "      <td>100.43</td>\n",
       "    </tr>\n",
       "    <tr>\n",
       "      <th>77</th>\n",
       "      <td>0.99</td>\n",
       "      <td>0.984</td>\n",
       "      <td>99.39</td>\n",
       "    </tr>\n",
       "    <tr>\n",
       "      <th>78</th>\n",
       "      <td>0.94</td>\n",
       "      <td>0.944</td>\n",
       "      <td>100.43</td>\n",
       "    </tr>\n",
       "    <tr>\n",
       "      <th>79</th>\n",
       "      <td>0.99</td>\n",
       "      <td>0.989</td>\n",
       "      <td>99.90</td>\n",
       "    </tr>\n",
       "  </tbody>\n",
       "</table>\n",
       "<p>80 rows × 3 columns</p>\n",
       "</div>"
      ],
      "text/plain": [
       "    Target-St(%)  Prediction-St(%)  Pred-Accu-St(%)\n",
       "0           0.99             0.989            99.90\n",
       "1           0.96             0.949            98.85\n",
       "2           0.99             0.984            99.39\n",
       "3           0.94             0.937            99.68\n",
       "4           0.99             0.993           100.30\n",
       "..           ...               ...              ...\n",
       "75          0.97             0.969            99.90\n",
       "76          0.94             0.944           100.43\n",
       "77          0.99             0.984            99.39\n",
       "78          0.94             0.944           100.43\n",
       "79          0.99             0.989            99.90\n",
       "\n",
       "[80 rows x 3 columns]"
      ]
     },
     "execution_count": 324,
     "metadata": {},
     "output_type": "execute_result"
    }
   ],
   "source": [
    "prediction = model.predict(test_inputs)\n",
    "data_inputs = pd.DataFrame(test_inputs)\n",
    "prediction = pd.DataFrame(np.round(prediction,3))\n",
    "test_targets = pd.DataFrame(test_targets)\n",
    "pred_accu = np.round((prediction/test_targets)*100,2)\n",
    "\n",
    "result = pd.concat([test_targets, prediction, pred_accu], axis = 1, ignore_index=True)\n",
    "result.columns = ['Target-St(%)', 'Prediction-St(%)','Pred-Accu-St(%)']\n",
    "result"
   ]
  },
  {
   "cell_type": "code",
   "execution_count": 325,
   "metadata": {},
   "outputs": [
    {
     "data": {
      "text/plain": [
       "Text(0.5, 0, 'Targets (red) & Predictions (blue)')"
      ]
     },
     "execution_count": 325,
     "metadata": {},
     "output_type": "execute_result"
    },
    {
     "data": {
      "image/png": "[encoded data removed]",
      "text/plain": [
       "<Figure size 640x480 with 1 Axes>"
      ]
     },
     "metadata": {},
     "output_type": "display_data"
    }
   ],
   "source": [
    "import matplotlib.pyplot as plt\n",
    "plt.scatter(result['Target-St(%)'], result['Pred-Accu-St(%)'], alpha=0.5, color='r')\n",
    "plt.scatter(result['Prediction-St(%)'], result['Pred-Accu-St(%)'],alpha=0.5, color='b')\n",
    "plt.ylabel('Error in the prediction(%)')\n",
    "plt.xlabel('Targets (red) & Predictions (blue)')"
   ]
  },
  {
   "cell_type": "code",
   "execution_count": 326,
   "metadata": {},
   "outputs": [
    {
     "data": {
      "text/plain": [
       "Text(0.5, 0, 'Targets')"
      ]
     },
     "execution_count": 326,
     "metadata": {},
     "output_type": "execute_result"
    },
    {
     "data": {
      "image/png": "[encoded data removed]",
      "text/plain": [
       "<Figure size 640x480 with 1 Axes>"
      ]
     },
     "metadata": {},
     "output_type": "display_data"
    }
   ],
   "source": [
    "plt.scatter(result['Target-St(%)'], result['Target-St(%)'], alpha=0.5, color='r')\n",
    "plt.scatter(result['Target-St(%)'], result['Prediction-St(%)'], alpha=0.2, color='g')\n",
    "\n",
    "plt.ylabel('predictions')\n",
    "plt.xlabel('Targets')"
   ]
  },
  {
   "cell_type": "code",
   "execution_count": 327,
   "metadata": {},
   "outputs": [
    {
     "data": {
      "text/plain": [
       "0.9593"
      ]
     },
     "execution_count": 327,
     "metadata": {},
     "output_type": "execute_result"
    }
   ],
   "source": [
    "# estimation of R2 score\n",
    "from sklearn.metrics import r2_score\n",
    "r2_score_test = r2_score(test_targets, prediction)\n",
    "np.round(r2_score_test,4)"
   ]
  },
  {
   "cell_type": "code",
   "execution_count": 328,
   "metadata": {},
   "outputs": [
    {
     "data": {
      "text/plain": [
       "0.9577"
      ]
     },
     "execution_count": 328,
     "metadata": {},
     "output_type": "execute_result"
    }
   ],
   "source": [
    "# estimation of adjusted R2 score\n",
    "n = np.size(test_targets)\n",
    "k = 3 # number of features\n",
    "adj_r2_score = 1 - (((1-r2_score_test)*(n-1))/((n-k-1)))\n",
    "np.round(adj_r2_score,4)"
   ]
  },
  {
   "cell_type": "code",
   "execution_count": 329,
   "metadata": {},
   "outputs": [
    {
     "name": "stdout",
     "output_type": "stream",
     "text": [
      "Uncertainty of the ANN model: 0.43 [%]\n",
      "Average test prediction precision 99.57 [%]\n"
     ]
    }
   ],
   "source": [
    "mean_pred = pred_accu.mean()\n",
    "std_pred = pred_accu.std()\n",
    "uncertainty_model = std_pred\n",
    "print(\"Uncertainty of the ANN model:\", np.round(uncertainty_model[0],2), '[%]')\n",
    "print(\"Average test prediction precision\", np.round(100 - uncertainty_model[0],2), '[%]')"
   ]
  },
  {
   "cell_type": "markdown",
   "metadata": {},
   "source": [
    "# ANN Model Deployment"
   ]
  },
  {
   "cell_type": "markdown",
   "metadata": {},
   "source": [
    "ANN model deployment for micro DSC error prediction"
   ]
  },
  {
   "cell_type": "code",
   "execution_count": 330,
   "metadata": {},
   "outputs": [],
   "source": [
    "import keras\n",
    "model.save('micro_dsc_dl.h5')"
   ]
  },
  {
   "cell_type": "code",
   "execution_count": null,
   "metadata": {},
   "outputs": [],
   "source": []
  }
 ],
 "metadata": {
  "kernelspec": {
   "display_name": ".venv",
   "language": "python",
   "name": "python3"
  },
  "language_info": {
   "codemirror_mode": {
    "name": "ipython",
    "version": 3
   },
   "file_extension": ".py",
   "mimetype": "text/x-python",
   "name": "python",
   "nbconvert_exporter": "python",
   "pygments_lexer": "ipython3",
   "version": "3.8.9"
  },
  "orig_nbformat": 4,
  "vscode": {
   "interpreter": {
    "hash": "6922cdaeb71861185ead2220765f61360c8c577271e89b0df9cb02b0ddb1fa67"
   }
  }
 },
 "nbformat": 4,
 "nbformat_minor": 2
}
