{
 "cells": [
  {
   "cell_type": "markdown",
   "metadata": {},
   "source": [
    "# DNN Model"
   ]
  },
  {
   "cell_type": "code",
   "execution_count": 396,
   "metadata": {},
   "outputs": [],
   "source": [
    "import numpy as np\n",
    "import pandas as pd\n",
    "import tensorflow as tf"
   ]
  },
  {
   "cell_type": "code",
   "execution_count": 397,
   "metadata": {},
   "outputs": [],
   "source": [
    "# data loading from .npz generated from tcr_data_process.ipynb\n",
    "# loading train data\n",
    "npz = np.load('data_train.npz')\n",
    "train_inputs = npz['input'].astype(np.float64)\n",
    "train_targets = npz['targets'].astype(np.float64)\n",
    "# loading validation data\n",
    "npz = np.load('data_validation.npz')\n",
    "validation_inputs, validation_targets = npz['input'].astype(np.float64), npz['targets'].astype(np.float64)\n",
    "\n",
    "npz = np.load('data_test.npz')\n",
    "test_inputs, test_targets = npz['input'].astype(np.float64), npz['targets'].astype(np.float64)"
   ]
  },
  {
   "cell_type": "markdown",
   "metadata": {},
   "source": [
    "# ANN Model"
   ]
  },
  {
   "cell_type": "markdown",
   "metadata": {},
   "source": [
    "Outline, Optimizer, Loss function, Early stopping and Training rate"
   ]
  },
  {
   "cell_type": "code",
   "execution_count": 398,
   "metadata": {},
   "outputs": [],
   "source": [
    "# NN model prep\n",
    "input_size = 3\n",
    "output_size = 1\n",
    "hidden_layer_1_size = 5\n",
    "hidden_layer_2_size = 5\n",
    "hidden_layer_3_size = 5\n",
    "\n",
    "model = tf.keras.Sequential([\n",
    "    tf.keras.layers.Dense(input_size, activation='relu'),\n",
    "    tf.keras.layers.Dense(hidden_layer_1_size, activation='relu'),\n",
    "    tf.keras.layers.Dense(hidden_layer_2_size, activation='relu'),\n",
    "    tf.keras.layers.Dense(hidden_layer_3_size, activation='relu'),\n",
    "    tf.keras.layers.Dense(output_size, activation='linear')\n",
    "])\n"
   ]
  },
  {
   "cell_type": "code",
   "execution_count": 399,
   "metadata": {},
   "outputs": [],
   "source": [
    "# model prep, optimizer and loss function\n",
    "optimizer = tf.keras.optimizers.Adam(learning_rate=0.0001)\n",
    "model.compile(optimizer, loss=tf.keras.losses.MeanSquaredError(),metrics=[tf.keras.metrics.RootMeanSquaredError()])\n"
   ]
  },
  {
   "cell_type": "code",
   "execution_count": 400,
   "metadata": {},
   "outputs": [],
   "source": [
    "# Training\n",
    "BATCH_SIZE = 1\n",
    "MAX_EPOCHS = 1000\n",
    "early_stopping = tf.keras.callbacks.EarlyStopping(patience=2)"
   ]
  },
  {
   "cell_type": "code",
   "execution_count": 401,
   "metadata": {},
   "outputs": [
    {
     "name": "stdout",
     "output_type": "stream",
     "text": [
      "Epoch 1/1000\n",
      "102/102 - 3s - loss: 0.9747 - root_mean_squared_error: 0.9873 - val_loss: 0.9677 - val_root_mean_squared_error: 0.9837 - 3s/epoch - 34ms/step\n",
      "Epoch 2/1000\n",
      "102/102 - 0s - loss: 0.9230 - root_mean_squared_error: 0.9607 - val_loss: 0.9259 - val_root_mean_squared_error: 0.9622 - 343ms/epoch - 3ms/step\n",
      "Epoch 3/1000\n",
      "102/102 - 0s - loss: 0.8883 - root_mean_squared_error: 0.9425 - val_loss: 0.8915 - val_root_mean_squared_error: 0.9442 - 335ms/epoch - 3ms/step\n",
      "Epoch 4/1000\n",
      "102/102 - 0s - loss: 0.8588 - root_mean_squared_error: 0.9267 - val_loss: 0.8616 - val_root_mean_squared_error: 0.9282 - 328ms/epoch - 3ms/step\n",
      "Epoch 5/1000\n",
      "102/102 - 0s - loss: 0.8307 - root_mean_squared_error: 0.9114 - val_loss: 0.8308 - val_root_mean_squared_error: 0.9115 - 329ms/epoch - 3ms/step\n",
      "Epoch 6/1000\n",
      "102/102 - 1s - loss: 0.8018 - root_mean_squared_error: 0.8954 - val_loss: 0.7996 - val_root_mean_squared_error: 0.8942 - 543ms/epoch - 5ms/step\n",
      "Epoch 7/1000\n",
      "102/102 - 0s - loss: 0.7717 - root_mean_squared_error: 0.8785 - val_loss: 0.7672 - val_root_mean_squared_error: 0.8759 - 318ms/epoch - 3ms/step\n",
      "Epoch 8/1000\n",
      "102/102 - 0s - loss: 0.7401 - root_mean_squared_error: 0.8603 - val_loss: 0.7325 - val_root_mean_squared_error: 0.8559 - 334ms/epoch - 3ms/step\n",
      "Epoch 9/1000\n",
      "102/102 - 0s - loss: 0.7068 - root_mean_squared_error: 0.8407 - val_loss: 0.6954 - val_root_mean_squared_error: 0.8339 - 304ms/epoch - 3ms/step\n",
      "Epoch 10/1000\n",
      "102/102 - 0s - loss: 0.6710 - root_mean_squared_error: 0.8192 - val_loss: 0.6542 - val_root_mean_squared_error: 0.8088 - 320ms/epoch - 3ms/step\n",
      "Epoch 11/1000\n",
      "102/102 - 1s - loss: 0.6318 - root_mean_squared_error: 0.7949 - val_loss: 0.6099 - val_root_mean_squared_error: 0.7810 - 674ms/epoch - 7ms/step\n",
      "Epoch 12/1000\n",
      "102/102 - 0s - loss: 0.5903 - root_mean_squared_error: 0.7683 - val_loss: 0.5625 - val_root_mean_squared_error: 0.7500 - 378ms/epoch - 4ms/step\n",
      "Epoch 13/1000\n",
      "102/102 - 0s - loss: 0.5480 - root_mean_squared_error: 0.7402 - val_loss: 0.5136 - val_root_mean_squared_error: 0.7166 - 322ms/epoch - 3ms/step\n",
      "Epoch 14/1000\n",
      "102/102 - 0s - loss: 0.5049 - root_mean_squared_error: 0.7105 - val_loss: 0.4639 - val_root_mean_squared_error: 0.6811 - 309ms/epoch - 3ms/step\n",
      "Epoch 15/1000\n",
      "102/102 - 0s - loss: 0.4601 - root_mean_squared_error: 0.6783 - val_loss: 0.4120 - val_root_mean_squared_error: 0.6418 - 359ms/epoch - 4ms/step\n",
      "Epoch 16/1000\n",
      "102/102 - 1s - loss: 0.4118 - root_mean_squared_error: 0.6417 - val_loss: 0.3547 - val_root_mean_squared_error: 0.5956 - 554ms/epoch - 5ms/step\n",
      "Epoch 17/1000\n",
      "102/102 - 0s - loss: 0.3633 - root_mean_squared_error: 0.6028 - val_loss: 0.2994 - val_root_mean_squared_error: 0.5472 - 301ms/epoch - 3ms/step\n",
      "Epoch 18/1000\n",
      "102/102 - 0s - loss: 0.3172 - root_mean_squared_error: 0.5632 - val_loss: 0.2496 - val_root_mean_squared_error: 0.4996 - 311ms/epoch - 3ms/step\n",
      "Epoch 19/1000\n",
      "102/102 - 0s - loss: 0.2748 - root_mean_squared_error: 0.5242 - val_loss: 0.2044 - val_root_mean_squared_error: 0.4521 - 283ms/epoch - 3ms/step\n",
      "Epoch 20/1000\n",
      "102/102 - 0s - loss: 0.2360 - root_mean_squared_error: 0.4858 - val_loss: 0.1649 - val_root_mean_squared_error: 0.4061 - 283ms/epoch - 3ms/step\n",
      "Epoch 21/1000\n",
      "102/102 - 0s - loss: 0.2020 - root_mean_squared_error: 0.4495 - val_loss: 0.1321 - val_root_mean_squared_error: 0.3635 - 312ms/epoch - 3ms/step\n",
      "Epoch 22/1000\n",
      "102/102 - 0s - loss: 0.1726 - root_mean_squared_error: 0.4155 - val_loss: 0.1048 - val_root_mean_squared_error: 0.3237 - 296ms/epoch - 3ms/step\n",
      "Epoch 23/1000\n",
      "102/102 - 0s - loss: 0.1471 - root_mean_squared_error: 0.3835 - val_loss: 0.0843 - val_root_mean_squared_error: 0.2903 - 302ms/epoch - 3ms/step\n",
      "Epoch 24/1000\n",
      "102/102 - 0s - loss: 0.1267 - root_mean_squared_error: 0.3560 - val_loss: 0.0687 - val_root_mean_squared_error: 0.2622 - 330ms/epoch - 3ms/step\n",
      "Epoch 25/1000\n",
      "102/102 - 0s - loss: 0.1106 - root_mean_squared_error: 0.3326 - val_loss: 0.0577 - val_root_mean_squared_error: 0.2401 - 304ms/epoch - 3ms/step\n",
      "Epoch 26/1000\n",
      "102/102 - 0s - loss: 0.0970 - root_mean_squared_error: 0.3114 - val_loss: 0.0489 - val_root_mean_squared_error: 0.2211 - 280ms/epoch - 3ms/step\n",
      "Epoch 27/1000\n",
      "102/102 - 0s - loss: 0.0843 - root_mean_squared_error: 0.2904 - val_loss: 0.0419 - val_root_mean_squared_error: 0.2046 - 298ms/epoch - 3ms/step\n",
      "Epoch 28/1000\n",
      "102/102 - 0s - loss: 0.0737 - root_mean_squared_error: 0.2714 - val_loss: 0.0363 - val_root_mean_squared_error: 0.1906 - 497ms/epoch - 5ms/step\n",
      "Epoch 29/1000\n",
      "102/102 - 0s - loss: 0.0649 - root_mean_squared_error: 0.2547 - val_loss: 0.0317 - val_root_mean_squared_error: 0.1781 - 241ms/epoch - 2ms/step\n",
      "Epoch 30/1000\n",
      "102/102 - 0s - loss: 0.0572 - root_mean_squared_error: 0.2391 - val_loss: 0.0278 - val_root_mean_squared_error: 0.1669 - 244ms/epoch - 2ms/step\n",
      "Epoch 31/1000\n",
      "102/102 - 0s - loss: 0.0497 - root_mean_squared_error: 0.2229 - val_loss: 0.0244 - val_root_mean_squared_error: 0.1562 - 292ms/epoch - 3ms/step\n",
      "Epoch 32/1000\n",
      "102/102 - 0s - loss: 0.0416 - root_mean_squared_error: 0.2039 - val_loss: 0.0209 - val_root_mean_squared_error: 0.1444 - 351ms/epoch - 3ms/step\n",
      "Epoch 33/1000\n",
      "102/102 - 0s - loss: 0.0334 - root_mean_squared_error: 0.1828 - val_loss: 0.0179 - val_root_mean_squared_error: 0.1336 - 287ms/epoch - 3ms/step\n",
      "Epoch 34/1000\n",
      "102/102 - 1s - loss: 0.0262 - root_mean_squared_error: 0.1619 - val_loss: 0.0145 - val_root_mean_squared_error: 0.1205 - 657ms/epoch - 6ms/step\n",
      "Epoch 35/1000\n",
      "102/102 - 0s - loss: 0.0191 - root_mean_squared_error: 0.1382 - val_loss: 0.0107 - val_root_mean_squared_error: 0.1035 - 475ms/epoch - 5ms/step\n",
      "Epoch 36/1000\n",
      "102/102 - 0s - loss: 0.0139 - root_mean_squared_error: 0.1178 - val_loss: 0.0081 - val_root_mean_squared_error: 0.0899 - 253ms/epoch - 2ms/step\n",
      "Epoch 37/1000\n",
      "102/102 - 0s - loss: 0.0100 - root_mean_squared_error: 0.1002 - val_loss: 0.0059 - val_root_mean_squared_error: 0.0769 - 269ms/epoch - 3ms/step\n",
      "Epoch 38/1000\n",
      "102/102 - 0s - loss: 0.0066 - root_mean_squared_error: 0.0814 - val_loss: 0.0045 - val_root_mean_squared_error: 0.0669 - 270ms/epoch - 3ms/step\n",
      "Epoch 39/1000\n",
      "102/102 - 0s - loss: 0.0045 - root_mean_squared_error: 0.0673 - val_loss: 0.0036 - val_root_mean_squared_error: 0.0597 - 264ms/epoch - 3ms/step\n",
      "Epoch 40/1000\n",
      "102/102 - 0s - loss: 0.0034 - root_mean_squared_error: 0.0581 - val_loss: 0.0030 - val_root_mean_squared_error: 0.0546 - 272ms/epoch - 3ms/step\n",
      "Epoch 41/1000\n",
      "102/102 - 0s - loss: 0.0027 - root_mean_squared_error: 0.0517 - val_loss: 0.0026 - val_root_mean_squared_error: 0.0505 - 261ms/epoch - 3ms/step\n",
      "Epoch 42/1000\n",
      "102/102 - 0s - loss: 0.0023 - root_mean_squared_error: 0.0475 - val_loss: 0.0023 - val_root_mean_squared_error: 0.0475 - 253ms/epoch - 2ms/step\n",
      "Epoch 43/1000\n",
      "102/102 - 0s - loss: 0.0020 - root_mean_squared_error: 0.0444 - val_loss: 0.0020 - val_root_mean_squared_error: 0.0451 - 253ms/epoch - 2ms/step\n",
      "Epoch 44/1000\n",
      "102/102 - 0s - loss: 0.0018 - root_mean_squared_error: 0.0422 - val_loss: 0.0019 - val_root_mean_squared_error: 0.0430 - 270ms/epoch - 3ms/step\n",
      "Epoch 45/1000\n",
      "102/102 - 0s - loss: 0.0016 - root_mean_squared_error: 0.0406 - val_loss: 0.0017 - val_root_mean_squared_error: 0.0414 - 344ms/epoch - 3ms/step\n",
      "Epoch 46/1000\n",
      "102/102 - 1s - loss: 0.0015 - root_mean_squared_error: 0.0392 - val_loss: 0.0016 - val_root_mean_squared_error: 0.0398 - 501ms/epoch - 5ms/step\n",
      "Epoch 47/1000\n",
      "102/102 - 0s - loss: 0.0014 - root_mean_squared_error: 0.0379 - val_loss: 0.0015 - val_root_mean_squared_error: 0.0388 - 435ms/epoch - 4ms/step\n",
      "Epoch 48/1000\n",
      "102/102 - 0s - loss: 0.0014 - root_mean_squared_error: 0.0368 - val_loss: 0.0014 - val_root_mean_squared_error: 0.0376 - 256ms/epoch - 3ms/step\n",
      "Epoch 49/1000\n",
      "102/102 - 0s - loss: 0.0013 - root_mean_squared_error: 0.0357 - val_loss: 0.0013 - val_root_mean_squared_error: 0.0365 - 262ms/epoch - 3ms/step\n",
      "Epoch 50/1000\n",
      "102/102 - 0s - loss: 0.0012 - root_mean_squared_error: 0.0347 - val_loss: 0.0013 - val_root_mean_squared_error: 0.0355 - 253ms/epoch - 2ms/step\n",
      "Epoch 51/1000\n",
      "102/102 - 0s - loss: 0.0011 - root_mean_squared_error: 0.0337 - val_loss: 0.0012 - val_root_mean_squared_error: 0.0345 - 261ms/epoch - 3ms/step\n",
      "Epoch 52/1000\n",
      "102/102 - 0s - loss: 0.0011 - root_mean_squared_error: 0.0327 - val_loss: 0.0011 - val_root_mean_squared_error: 0.0333 - 277ms/epoch - 3ms/step\n",
      "Epoch 53/1000\n",
      "102/102 - 0s - loss: 0.0010 - root_mean_squared_error: 0.0318 - val_loss: 0.0011 - val_root_mean_squared_error: 0.0325 - 251ms/epoch - 2ms/step\n",
      "Epoch 54/1000\n",
      "102/102 - 0s - loss: 9.5092e-04 - root_mean_squared_error: 0.0308 - val_loss: 0.0010 - val_root_mean_squared_error: 0.0317 - 258ms/epoch - 3ms/step\n",
      "Epoch 55/1000\n",
      "102/102 - 0s - loss: 9.0062e-04 - root_mean_squared_error: 0.0300 - val_loss: 9.3366e-04 - val_root_mean_squared_error: 0.0306 - 268ms/epoch - 3ms/step\n",
      "Epoch 56/1000\n",
      "102/102 - 0s - loss: 8.4123e-04 - root_mean_squared_error: 0.0290 - val_loss: 8.7703e-04 - val_root_mean_squared_error: 0.0296 - 307ms/epoch - 3ms/step\n",
      "Epoch 57/1000\n",
      "102/102 - 0s - loss: 7.8930e-04 - root_mean_squared_error: 0.0281 - val_loss: 8.1224e-04 - val_root_mean_squared_error: 0.0285 - 300ms/epoch - 3ms/step\n",
      "Epoch 58/1000\n",
      "102/102 - 0s - loss: 7.2676e-04 - root_mean_squared_error: 0.0270 - val_loss: 7.5221e-04 - val_root_mean_squared_error: 0.0274 - 302ms/epoch - 3ms/step\n",
      "Epoch 59/1000\n",
      "102/102 - 0s - loss: 6.7396e-04 - root_mean_squared_error: 0.0260 - val_loss: 7.0803e-04 - val_root_mean_squared_error: 0.0266 - 288ms/epoch - 3ms/step\n",
      "Epoch 60/1000\n",
      "102/102 - 0s - loss: 6.2500e-04 - root_mean_squared_error: 0.0250 - val_loss: 6.5573e-04 - val_root_mean_squared_error: 0.0256 - 482ms/epoch - 5ms/step\n",
      "Epoch 61/1000\n",
      "102/102 - 0s - loss: 5.8214e-04 - root_mean_squared_error: 0.0241 - val_loss: 6.0802e-04 - val_root_mean_squared_error: 0.0247 - 302ms/epoch - 3ms/step\n",
      "Epoch 62/1000\n",
      "102/102 - 0s - loss: 5.4061e-04 - root_mean_squared_error: 0.0233 - val_loss: 5.6579e-04 - val_root_mean_squared_error: 0.0238 - 298ms/epoch - 3ms/step\n",
      "Epoch 63/1000\n",
      "102/102 - 0s - loss: 5.0641e-04 - root_mean_squared_error: 0.0225 - val_loss: 5.2190e-04 - val_root_mean_squared_error: 0.0228 - 296ms/epoch - 3ms/step\n",
      "Epoch 64/1000\n",
      "102/102 - 0s - loss: 4.6009e-04 - root_mean_squared_error: 0.0214 - val_loss: 4.7262e-04 - val_root_mean_squared_error: 0.0217 - 289ms/epoch - 3ms/step\n",
      "Epoch 65/1000\n",
      "102/102 - 0s - loss: 4.1542e-04 - root_mean_squared_error: 0.0204 - val_loss: 4.2779e-04 - val_root_mean_squared_error: 0.0207 - 292ms/epoch - 3ms/step\n",
      "Epoch 66/1000\n",
      "102/102 - 1s - loss: 3.7685e-04 - root_mean_squared_error: 0.0194 - val_loss: 3.8728e-04 - val_root_mean_squared_error: 0.0197 - 502ms/epoch - 5ms/step\n",
      "Epoch 67/1000\n",
      "102/102 - 0s - loss: 3.4895e-04 - root_mean_squared_error: 0.0187 - val_loss: 3.6039e-04 - val_root_mean_squared_error: 0.0190 - 298ms/epoch - 3ms/step\n",
      "Epoch 68/1000\n",
      "102/102 - 0s - loss: 3.1315e-04 - root_mean_squared_error: 0.0177 - val_loss: 3.2126e-04 - val_root_mean_squared_error: 0.0179 - 333ms/epoch - 3ms/step\n",
      "Epoch 69/1000\n",
      "102/102 - 0s - loss: 2.8591e-04 - root_mean_squared_error: 0.0169 - val_loss: 2.9040e-04 - val_root_mean_squared_error: 0.0170 - 468ms/epoch - 5ms/step\n",
      "Epoch 70/1000\n",
      "102/102 - 0s - loss: 2.5639e-04 - root_mean_squared_error: 0.0160 - val_loss: 2.6973e-04 - val_root_mean_squared_error: 0.0164 - 462ms/epoch - 5ms/step\n",
      "Epoch 71/1000\n",
      "102/102 - 0s - loss: 2.2965e-04 - root_mean_squared_error: 0.0152 - val_loss: 2.4415e-04 - val_root_mean_squared_error: 0.0156 - 360ms/epoch - 4ms/step\n",
      "Epoch 72/1000\n",
      "102/102 - 1s - loss: 2.0575e-04 - root_mean_squared_error: 0.0143 - val_loss: 2.2663e-04 - val_root_mean_squared_error: 0.0151 - 517ms/epoch - 5ms/step\n",
      "Epoch 73/1000\n",
      "102/102 - 0s - loss: 1.8426e-04 - root_mean_squared_error: 0.0136 - val_loss: 2.0680e-04 - val_root_mean_squared_error: 0.0144 - 286ms/epoch - 3ms/step\n",
      "Epoch 74/1000\n",
      "102/102 - 0s - loss: 1.7026e-04 - root_mean_squared_error: 0.0130 - val_loss: 1.9054e-04 - val_root_mean_squared_error: 0.0138 - 291ms/epoch - 3ms/step\n",
      "Epoch 75/1000\n",
      "102/102 - 0s - loss: 1.5275e-04 - root_mean_squared_error: 0.0124 - val_loss: 1.8106e-04 - val_root_mean_squared_error: 0.0135 - 293ms/epoch - 3ms/step\n",
      "Epoch 76/1000\n",
      "102/102 - 0s - loss: 1.3913e-04 - root_mean_squared_error: 0.0118 - val_loss: 1.7358e-04 - val_root_mean_squared_error: 0.0132 - 280ms/epoch - 3ms/step\n",
      "Epoch 77/1000\n",
      "102/102 - 0s - loss: 1.2630e-04 - root_mean_squared_error: 0.0112 - val_loss: 1.5620e-04 - val_root_mean_squared_error: 0.0125 - 291ms/epoch - 3ms/step\n",
      "Epoch 78/1000\n",
      "102/102 - 0s - loss: 1.1687e-04 - root_mean_squared_error: 0.0108 - val_loss: 1.4723e-04 - val_root_mean_squared_error: 0.0121 - 272ms/epoch - 3ms/step\n",
      "Epoch 79/1000\n",
      "102/102 - 0s - loss: 1.0813e-04 - root_mean_squared_error: 0.0104 - val_loss: 1.4115e-04 - val_root_mean_squared_error: 0.0119 - 275ms/epoch - 3ms/step\n",
      "Epoch 80/1000\n",
      "102/102 - 0s - loss: 9.8633e-05 - root_mean_squared_error: 0.0099 - val_loss: 1.3393e-04 - val_root_mean_squared_error: 0.0116 - 289ms/epoch - 3ms/step\n",
      "Epoch 81/1000\n",
      "102/102 - 0s - loss: 9.1222e-05 - root_mean_squared_error: 0.0096 - val_loss: 1.2831e-04 - val_root_mean_squared_error: 0.0113 - 296ms/epoch - 3ms/step\n",
      "Epoch 82/1000\n",
      "102/102 - 0s - loss: 8.5070e-05 - root_mean_squared_error: 0.0092 - val_loss: 1.2511e-04 - val_root_mean_squared_error: 0.0112 - 271ms/epoch - 3ms/step\n",
      "Epoch 83/1000\n",
      "102/102 - 0s - loss: 7.9765e-05 - root_mean_squared_error: 0.0089 - val_loss: 1.0945e-04 - val_root_mean_squared_error: 0.0105 - 283ms/epoch - 3ms/step\n",
      "Epoch 84/1000\n",
      "102/102 - 0s - loss: 7.3146e-05 - root_mean_squared_error: 0.0086 - val_loss: 1.0614e-04 - val_root_mean_squared_error: 0.0103 - 283ms/epoch - 3ms/step\n",
      "Epoch 85/1000\n",
      "102/102 - 0s - loss: 6.8019e-05 - root_mean_squared_error: 0.0082 - val_loss: 9.7419e-05 - val_root_mean_squared_error: 0.0099 - 289ms/epoch - 3ms/step\n",
      "Epoch 86/1000\n",
      "102/102 - 0s - loss: 6.3802e-05 - root_mean_squared_error: 0.0080 - val_loss: 1.0036e-04 - val_root_mean_squared_error: 0.0100 - 276ms/epoch - 3ms/step\n",
      "Epoch 87/1000\n",
      "102/102 - 0s - loss: 6.0190e-05 - root_mean_squared_error: 0.0078 - val_loss: 1.0052e-04 - val_root_mean_squared_error: 0.0100 - 280ms/epoch - 3ms/step\n"
     ]
    }
   ],
   "source": [
    "# fit the model\n",
    "history = model.fit(\n",
    "    train_inputs, train_targets, batch_size=BATCH_SIZE,epochs=MAX_EPOCHS, callbacks=[early_stopping], validation_data=(validation_inputs, validation_targets), verbose=2\n",
    "          )"
   ]
  },
  {
   "cell_type": "code",
   "execution_count": 402,
   "metadata": {},
   "outputs": [
    {
     "name": "stdout",
     "output_type": "stream",
     "text": [
      "Model: \"sequential_29\"\n",
      "_________________________________________________________________\n",
      " Layer (type)                Output Shape              Param #   \n",
      "=================================================================\n",
      " dense_138 (Dense)           (1, 3)                    12        \n",
      "                                                                 \n",
      " dense_139 (Dense)           (1, 5)                    20        \n",
      "                                                                 \n",
      " dense_140 (Dense)           (1, 5)                    30        \n",
      "                                                                 \n",
      " dense_141 (Dense)           (1, 5)                    30        \n",
      "                                                                 \n",
      " dense_142 (Dense)           (1, 1)                    6         \n",
      "                                                                 \n",
      "=================================================================\n",
      "Total params: 98\n",
      "Trainable params: 98\n",
      "Non-trainable params: 0\n",
      "_________________________________________________________________\n"
     ]
    }
   ],
   "source": [
    "# ANN model summary\n",
    "model.summary()"
   ]
  },
  {
   "cell_type": "code",
   "execution_count": 403,
   "metadata": {},
   "outputs": [
    {
     "data": {
      "image/png": "[encoded data removed]",
      "text/plain": [
       "<Figure size 640x480 with 1 Axes>"
      ]
     },
     "metadata": {},
     "output_type": "display_data"
    }
   ],
   "source": [
    "import matplotlib.pyplot as plt\n",
    "plt.plot(history.history['loss'], label='Training_loss')\n",
    "plt.plot(history.history['val_loss'], label='Validation_loss')\n",
    "plt.xlabel('epochs')\n",
    "plt.ylabel('loss')\n",
    "plt.legend()\n",
    "plt.show()"
   ]
  },
  {
   "cell_type": "markdown",
   "metadata": {},
   "source": [
    "# Model check on Test data"
   ]
  },
  {
   "cell_type": "code",
   "execution_count": 404,
   "metadata": {},
   "outputs": [
    {
     "name": "stdout",
     "output_type": "stream",
     "text": [
      "1/1 [==============================] - 0s 264ms/step - loss: 7.5880e-05 - root_mean_squared_error: 0.0087\n"
     ]
    }
   ],
   "source": [
    "test_loss, test_accuracy = model.evaluate(test_inputs, test_targets)"
   ]
  },
  {
   "cell_type": "code",
   "execution_count": 405,
   "metadata": {},
   "outputs": [
    {
     "name": "stdout",
     "output_type": "stream",
     "text": [
      "\n",
      "Test loss: 0.0001. Test accuracy: 0.0087 rmse\n"
     ]
    }
   ],
   "source": [
    "print('\\nTest loss: {0:.4f}. Test accuracy: {1:.4f} rmse'.format(test_loss, test_accuracy))"
   ]
  },
  {
   "cell_type": "code",
   "execution_count": 406,
   "metadata": {},
   "outputs": [
    {
     "name": "stdout",
     "output_type": "stream",
     "text": [
      "1/1 [==============================] - 0s 124ms/step\n"
     ]
    },
    {
     "data": {
      "text/html": [
       "<div>\n",
       "<style scoped>\n",
       "    .dataframe tbody tr th:only-of-type {\n",
       "        vertical-align: middle;\n",
       "    }\n",
       "\n",
       "    .dataframe tbody tr th {\n",
       "        vertical-align: top;\n",
       "    }\n",
       "\n",
       "    .dataframe thead th {\n",
       "        text-align: right;\n",
       "    }\n",
       "</style>\n",
       "<table border=\"1\" class=\"dataframe\">\n",
       "  <thead>\n",
       "    <tr style=\"text-align: right;\">\n",
       "      <th></th>\n",
       "      <th>Target-St(%)</th>\n",
       "      <th>Prediction-St(%)</th>\n",
       "      <th>prediction-accuracy(%)</th>\n",
       "    </tr>\n",
       "  </thead>\n",
       "  <tbody>\n",
       "    <tr>\n",
       "      <th>0</th>\n",
       "      <td>0.984452</td>\n",
       "      <td>0.993750</td>\n",
       "      <td>100.944450</td>\n",
       "    </tr>\n",
       "    <tr>\n",
       "      <th>1</th>\n",
       "      <td>0.971013</td>\n",
       "      <td>0.950668</td>\n",
       "      <td>97.904785</td>\n",
       "    </tr>\n",
       "    <tr>\n",
       "      <th>2</th>\n",
       "      <td>0.950768</td>\n",
       "      <td>0.959155</td>\n",
       "      <td>100.882086</td>\n",
       "    </tr>\n",
       "    <tr>\n",
       "      <th>3</th>\n",
       "      <td>0.946679</td>\n",
       "      <td>0.946191</td>\n",
       "      <td>99.948440</td>\n",
       "    </tr>\n",
       "    <tr>\n",
       "      <th>4</th>\n",
       "      <td>0.979012</td>\n",
       "      <td>0.972235</td>\n",
       "      <td>99.307721</td>\n",
       "    </tr>\n",
       "    <tr>\n",
       "      <th>5</th>\n",
       "      <td>0.991408</td>\n",
       "      <td>0.990691</td>\n",
       "      <td>99.927644</td>\n",
       "    </tr>\n",
       "    <tr>\n",
       "      <th>6</th>\n",
       "      <td>0.985184</td>\n",
       "      <td>0.993750</td>\n",
       "      <td>100.869441</td>\n",
       "    </tr>\n",
       "    <tr>\n",
       "      <th>7</th>\n",
       "      <td>0.950887</td>\n",
       "      <td>0.959155</td>\n",
       "      <td>100.869430</td>\n",
       "    </tr>\n",
       "    <tr>\n",
       "      <th>8</th>\n",
       "      <td>0.938767</td>\n",
       "      <td>0.935173</td>\n",
       "      <td>99.617155</td>\n",
       "    </tr>\n",
       "    <tr>\n",
       "      <th>9</th>\n",
       "      <td>0.946806</td>\n",
       "      <td>0.946191</td>\n",
       "      <td>99.934987</td>\n",
       "    </tr>\n",
       "    <tr>\n",
       "      <th>10</th>\n",
       "      <td>0.970551</td>\n",
       "      <td>0.982010</td>\n",
       "      <td>101.180653</td>\n",
       "    </tr>\n",
       "    <tr>\n",
       "      <th>11</th>\n",
       "      <td>0.991350</td>\n",
       "      <td>0.982601</td>\n",
       "      <td>99.117501</td>\n",
       "    </tr>\n",
       "    <tr>\n",
       "      <th>12</th>\n",
       "      <td>0.939463</td>\n",
       "      <td>0.936973</td>\n",
       "      <td>99.734906</td>\n",
       "    </tr>\n",
       "  </tbody>\n",
       "</table>\n",
       "</div>"
      ],
      "text/plain": [
       "    Target-St(%)  Prediction-St(%)  prediction-accuracy(%)\n",
       "0       0.984452          0.993750              100.944450\n",
       "1       0.971013          0.950668               97.904785\n",
       "2       0.950768          0.959155              100.882086\n",
       "3       0.946679          0.946191               99.948440\n",
       "4       0.979012          0.972235               99.307721\n",
       "5       0.991408          0.990691               99.927644\n",
       "6       0.985184          0.993750              100.869441\n",
       "7       0.950887          0.959155              100.869430\n",
       "8       0.938767          0.935173               99.617155\n",
       "9       0.946806          0.946191               99.934987\n",
       "10      0.970551          0.982010              101.180653\n",
       "11      0.991350          0.982601               99.117501\n",
       "12      0.939463          0.936973               99.734906"
      ]
     },
     "execution_count": 406,
     "metadata": {},
     "output_type": "execute_result"
    }
   ],
   "source": [
    "prediction = model.predict(test_inputs)\n",
    "data_inputs = pd.DataFrame(test_inputs)\n",
    "prediction = pd.DataFrame(prediction)\n",
    "test_targets = pd.DataFrame(test_targets)\n",
    "pred_accu = (prediction/test_targets)*100\n",
    "pred_accu_avg = pred_accu.sum()/pred_accu.shape[0]\n",
    "\n",
    "result = pd.concat([test_targets, prediction, pred_accu], axis = 1, ignore_index=True)\n",
    "result.columns = ['Target-St(%)', 'Prediction-St(%)','prediction-accuracy(%)']\n",
    "result"
   ]
  },
  {
   "cell_type": "code",
   "execution_count": 407,
   "metadata": {},
   "outputs": [
    {
     "data": {
      "text/plain": [
       "0.7965851455010495"
      ]
     },
     "execution_count": 407,
     "metadata": {},
     "output_type": "execute_result"
    }
   ],
   "source": [
    "# estimation of R2 score\n",
    "from sklearn.metrics import r2_score\n",
    "r2_score_test = r2_score(test_targets, prediction)\n",
    "r2_score_test"
   ]
  },
  {
   "cell_type": "code",
   "execution_count": 420,
   "metadata": {},
   "outputs": [
    {
     "data": {
      "text/plain": [
       "0.7287801940013994"
      ]
     },
     "execution_count": 420,
     "metadata": {},
     "output_type": "execute_result"
    }
   ],
   "source": [
    "# estimation of adjusted R2 score\n",
    "n = np.size(test_targets)\n",
    "k = 3 # number of features\n",
    "adj_r2_score = 1 - (((1-r2_score_test)*(n-1))/((n-k-1)))\n",
    "adj_r2_score"
   ]
  },
  {
   "cell_type": "code",
   "execution_count": 408,
   "metadata": {},
   "outputs": [
    {
     "name": "stdout",
     "output_type": "stream",
     "text": [
      "Uncertainty of the ANN model: 0.02 [%]\n",
      "Average test prediction precision 99.98 [%]\n"
     ]
    }
   ],
   "source": [
    "uncertainty_model = abs(pred_accu_avg-100) \n",
    "print(\"Uncertainty of the ANN model:\", np.round(uncertainty_model[0],2), '[%]')\n",
    "print(\"Average test prediction precision\", np.round(100 - uncertainty_model[0],2), '[%]')"
   ]
  },
  {
   "cell_type": "markdown",
   "metadata": {},
   "source": [
    "# ANN Model Deployment"
   ]
  },
  {
   "cell_type": "markdown",
   "metadata": {},
   "source": [
    "ANN model deployment for micro DSC error prediction"
   ]
  },
  {
   "cell_type": "code",
   "execution_count": 410,
   "metadata": {},
   "outputs": [],
   "source": [
    "import keras\n",
    "model.save('micro_dsc_dl.h5')"
   ]
  },
  {
   "cell_type": "code",
   "execution_count": null,
   "metadata": {},
   "outputs": [],
   "source": []
  }
 ],
 "metadata": {
  "kernelspec": {
   "display_name": ".venv",
   "language": "python",
   "name": "python3"
  },
  "language_info": {
   "codemirror_mode": {
    "name": "ipython",
    "version": 3
   },
   "file_extension": ".py",
   "mimetype": "text/x-python",
   "name": "python",
   "nbconvert_exporter": "python",
   "pygments_lexer": "ipython3",
   "version": "3.8.9"
  },
  "orig_nbformat": 4,
  "vscode": {
   "interpreter": {
    "hash": "795fce77f85a68c42812bdf3641cf800dca9a871e04df385e26cc90e90697f34"
   }
  }
 },
 "nbformat": 4,
 "nbformat_minor": 2
}
