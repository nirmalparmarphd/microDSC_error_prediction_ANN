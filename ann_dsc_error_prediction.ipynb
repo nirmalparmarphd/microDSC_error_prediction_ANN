{
 "cells": [
  {
   "cell_type": "markdown",
   "metadata": {},
   "source": [
    "# DNN Model"
   ]
  },
  {
   "cell_type": "code",
   "execution_count": 205,
   "metadata": {},
   "outputs": [],
   "source": [
    "import numpy as np\n",
    "import pandas as pd\n",
    "import tensorflow as tf"
   ]
  },
  {
   "cell_type": "code",
   "execution_count": 206,
   "metadata": {},
   "outputs": [],
   "source": [
    "# data loading from .npz generated from tcr_data_process.ipynb\n",
    "# loading train data\n",
    "npz = np.load('data_train.npz')\n",
    "train_inputs = npz['input'].astype(np.float64)\n",
    "train_targets = npz['targets'].astype(np.float64)\n",
    "# loading validation data\n",
    "npz = np.load('data_validation.npz')\n",
    "validation_inputs, validation_targets = npz['input'].astype(np.float64), npz['targets'].astype(np.float64)\n",
    "\n",
    "npz = np.load('data_test.npz')\n",
    "test_inputs, test_targets = npz['input'].astype(np.float64), npz['targets'].astype(np.float64)"
   ]
  },
  {
   "cell_type": "markdown",
   "metadata": {},
   "source": [
    "# ANN Model"
   ]
  },
  {
   "cell_type": "markdown",
   "metadata": {},
   "source": [
    "Outline, Optimizer, Loss function, Early stopping and Training rate"
   ]
  },
  {
   "cell_type": "code",
   "execution_count": 207,
   "metadata": {},
   "outputs": [],
   "source": [
    "# NN model prep\n",
    "input_size = 19\n",
    "output_size = 1\n",
    "hidden_layer_1_size = 40\n",
    "hidden_layer_2_size = 40\n",
    "\n",
    "model = tf.keras.Sequential([\n",
    "    tf.keras.layers.Dense(input_size),\n",
    "    tf.keras.layers.Dense(hidden_layer_1_size, activation='relu'),\n",
    "    tf.keras.layers.Dense(hidden_layer_2_size, activation='relu'),\n",
    "    tf.keras.layers.Dense(output_size, activation='sigmoid'),\n",
    "])\n"
   ]
  },
  {
   "cell_type": "code",
   "execution_count": 208,
   "metadata": {},
   "outputs": [],
   "source": [
    "# model prep, optimizer and loss function\n",
    "optimizer = tf.keras.optimizers.Adam(learning_rate=0.0001)\n",
    "model.compile(optimizer, loss=tf.keras.losses.MeanSquaredError(), metrics=[tf.keras.metrics.RootMeanSquaredError()])\n",
    "\n"
   ]
  },
  {
   "cell_type": "code",
   "execution_count": 209,
   "metadata": {},
   "outputs": [],
   "source": [
    "# Training\n",
    "BATCH_SIZE = 1\n",
    "MAX_EPOCHS = 1000\n",
    "early_stopping = tf.keras.callbacks.EarlyStopping(patience=2)"
   ]
  },
  {
   "cell_type": "code",
   "execution_count": 210,
   "metadata": {},
   "outputs": [
    {
     "name": "stdout",
     "output_type": "stream",
     "text": [
      "Epoch 1/1000\n",
      "102/102 - 1s - loss: 0.1451 - root_mean_squared_error: 0.3809 - val_loss: 0.1299 - val_root_mean_squared_error: 0.3604 - 684ms/epoch - 7ms/step\n",
      "Epoch 2/1000\n",
      "102/102 - 0s - loss: 0.1022 - root_mean_squared_error: 0.3196 - val_loss: 0.0899 - val_root_mean_squared_error: 0.2999 - 105ms/epoch - 1ms/step\n",
      "Epoch 3/1000\n",
      "102/102 - 0s - loss: 0.0707 - root_mean_squared_error: 0.2660 - val_loss: 0.0617 - val_root_mean_squared_error: 0.2484 - 107ms/epoch - 1ms/step\n",
      "Epoch 4/1000\n",
      "102/102 - 0s - loss: 0.0488 - root_mean_squared_error: 0.2209 - val_loss: 0.0411 - val_root_mean_squared_error: 0.2026 - 110ms/epoch - 1ms/step\n",
      "Epoch 5/1000\n",
      "102/102 - 0s - loss: 0.0335 - root_mean_squared_error: 0.1830 - val_loss: 0.0275 - val_root_mean_squared_error: 0.1657 - 106ms/epoch - 1ms/step\n",
      "Epoch 6/1000\n",
      "102/102 - 0s - loss: 0.0230 - root_mean_squared_error: 0.1515 - val_loss: 0.0184 - val_root_mean_squared_error: 0.1358 - 105ms/epoch - 1ms/step\n",
      "Epoch 7/1000\n",
      "102/102 - 0s - loss: 0.0161 - root_mean_squared_error: 0.1267 - val_loss: 0.0127 - val_root_mean_squared_error: 0.1126 - 105ms/epoch - 1ms/step\n",
      "Epoch 8/1000\n",
      "102/102 - 0s - loss: 0.0115 - root_mean_squared_error: 0.1074 - val_loss: 0.0090 - val_root_mean_squared_error: 0.0948 - 108ms/epoch - 1ms/step\n",
      "Epoch 9/1000\n",
      "102/102 - 0s - loss: 0.0085 - root_mean_squared_error: 0.0923 - val_loss: 0.0065 - val_root_mean_squared_error: 0.0806 - 106ms/epoch - 1ms/step\n",
      "Epoch 10/1000\n",
      "102/102 - 0s - loss: 0.0064 - root_mean_squared_error: 0.0800 - val_loss: 0.0048 - val_root_mean_squared_error: 0.0691 - 105ms/epoch - 1ms/step\n",
      "Epoch 11/1000\n",
      "102/102 - 0s - loss: 0.0049 - root_mean_squared_error: 0.0697 - val_loss: 0.0036 - val_root_mean_squared_error: 0.0602 - 104ms/epoch - 1ms/step\n",
      "Epoch 12/1000\n",
      "102/102 - 0s - loss: 0.0038 - root_mean_squared_error: 0.0615 - val_loss: 0.0028 - val_root_mean_squared_error: 0.0526 - 106ms/epoch - 1ms/step\n",
      "Epoch 13/1000\n",
      "102/102 - 0s - loss: 0.0030 - root_mean_squared_error: 0.0546 - val_loss: 0.0022 - val_root_mean_squared_error: 0.0465 - 105ms/epoch - 1ms/step\n",
      "Epoch 14/1000\n",
      "102/102 - 0s - loss: 0.0024 - root_mean_squared_error: 0.0488 - val_loss: 0.0017 - val_root_mean_squared_error: 0.0413 - 110ms/epoch - 1ms/step\n",
      "Epoch 15/1000\n",
      "102/102 - 0s - loss: 0.0019 - root_mean_squared_error: 0.0439 - val_loss: 0.0013 - val_root_mean_squared_error: 0.0367 - 110ms/epoch - 1ms/step\n",
      "Epoch 16/1000\n",
      "102/102 - 0s - loss: 0.0016 - root_mean_squared_error: 0.0397 - val_loss: 0.0011 - val_root_mean_squared_error: 0.0331 - 114ms/epoch - 1ms/step\n",
      "Epoch 17/1000\n",
      "102/102 - 0s - loss: 0.0013 - root_mean_squared_error: 0.0363 - val_loss: 9.0763e-04 - val_root_mean_squared_error: 0.0301 - 111ms/epoch - 1ms/step\n",
      "Epoch 18/1000\n",
      "102/102 - 0s - loss: 0.0011 - root_mean_squared_error: 0.0333 - val_loss: 7.5968e-04 - val_root_mean_squared_error: 0.0276 - 118ms/epoch - 1ms/step\n",
      "Epoch 19/1000\n",
      "102/102 - 0s - loss: 9.4766e-04 - root_mean_squared_error: 0.0308 - val_loss: 6.4232e-04 - val_root_mean_squared_error: 0.0253 - 110ms/epoch - 1ms/step\n",
      "Epoch 20/1000\n",
      "102/102 - 0s - loss: 8.1720e-04 - root_mean_squared_error: 0.0286 - val_loss: 5.5172e-04 - val_root_mean_squared_error: 0.0235 - 112ms/epoch - 1ms/step\n",
      "Epoch 21/1000\n",
      "102/102 - 0s - loss: 7.1097e-04 - root_mean_squared_error: 0.0267 - val_loss: 4.7837e-04 - val_root_mean_squared_error: 0.0219 - 101ms/epoch - 994us/step\n",
      "Epoch 22/1000\n",
      "102/102 - 0s - loss: 6.2629e-04 - root_mean_squared_error: 0.0250 - val_loss: 4.1971e-04 - val_root_mean_squared_error: 0.0205 - 101ms/epoch - 988us/step\n",
      "Epoch 23/1000\n",
      "102/102 - 0s - loss: 5.5627e-04 - root_mean_squared_error: 0.0236 - val_loss: 3.7320e-04 - val_root_mean_squared_error: 0.0193 - 112ms/epoch - 1ms/step\n",
      "Epoch 24/1000\n",
      "102/102 - 0s - loss: 4.9913e-04 - root_mean_squared_error: 0.0223 - val_loss: 3.3263e-04 - val_root_mean_squared_error: 0.0182 - 108ms/epoch - 1ms/step\n",
      "Epoch 25/1000\n",
      "102/102 - 0s - loss: 4.4941e-04 - root_mean_squared_error: 0.0212 - val_loss: 2.9997e-04 - val_root_mean_squared_error: 0.0173 - 114ms/epoch - 1ms/step\n",
      "Epoch 26/1000\n",
      "102/102 - 0s - loss: 4.0827e-04 - root_mean_squared_error: 0.0202 - val_loss: 2.7398e-04 - val_root_mean_squared_error: 0.0166 - 103ms/epoch - 1ms/step\n",
      "Epoch 27/1000\n",
      "102/102 - 0s - loss: 3.7251e-04 - root_mean_squared_error: 0.0193 - val_loss: 2.4991e-04 - val_root_mean_squared_error: 0.0158 - 102ms/epoch - 1ms/step\n",
      "Epoch 28/1000\n",
      "102/102 - 0s - loss: 3.4143e-04 - root_mean_squared_error: 0.0185 - val_loss: 2.3111e-04 - val_root_mean_squared_error: 0.0152 - 105ms/epoch - 1ms/step\n",
      "Epoch 29/1000\n",
      "102/102 - 0s - loss: 3.1392e-04 - root_mean_squared_error: 0.0177 - val_loss: 2.1380e-04 - val_root_mean_squared_error: 0.0146 - 104ms/epoch - 1ms/step\n",
      "Epoch 30/1000\n",
      "102/102 - 0s - loss: 2.8970e-04 - root_mean_squared_error: 0.0170 - val_loss: 1.9945e-04 - val_root_mean_squared_error: 0.0141 - 104ms/epoch - 1ms/step\n",
      "Epoch 31/1000\n",
      "102/102 - 0s - loss: 2.6738e-04 - root_mean_squared_error: 0.0164 - val_loss: 1.8619e-04 - val_root_mean_squared_error: 0.0136 - 103ms/epoch - 1ms/step\n",
      "Epoch 32/1000\n",
      "102/102 - 0s - loss: 2.4763e-04 - root_mean_squared_error: 0.0157 - val_loss: 1.7548e-04 - val_root_mean_squared_error: 0.0132 - 104ms/epoch - 1ms/step\n",
      "Epoch 33/1000\n",
      "102/102 - 0s - loss: 2.2847e-04 - root_mean_squared_error: 0.0151 - val_loss: 1.6453e-04 - val_root_mean_squared_error: 0.0128 - 105ms/epoch - 1ms/step\n",
      "Epoch 34/1000\n",
      "102/102 - 0s - loss: 2.1117e-04 - root_mean_squared_error: 0.0145 - val_loss: 1.5602e-04 - val_root_mean_squared_error: 0.0125 - 102ms/epoch - 998us/step\n",
      "Epoch 35/1000\n",
      "102/102 - 0s - loss: 1.9415e-04 - root_mean_squared_error: 0.0139 - val_loss: 1.4787e-04 - val_root_mean_squared_error: 0.0122 - 103ms/epoch - 1ms/step\n",
      "Epoch 36/1000\n",
      "102/102 - 0s - loss: 1.7715e-04 - root_mean_squared_error: 0.0133 - val_loss: 1.3855e-04 - val_root_mean_squared_error: 0.0118 - 105ms/epoch - 1ms/step\n",
      "Epoch 37/1000\n",
      "102/102 - 0s - loss: 1.6051e-04 - root_mean_squared_error: 0.0127 - val_loss: 1.3048e-04 - val_root_mean_squared_error: 0.0114 - 104ms/epoch - 1ms/step\n",
      "Epoch 38/1000\n",
      "102/102 - 0s - loss: 1.4530e-04 - root_mean_squared_error: 0.0121 - val_loss: 1.2349e-04 - val_root_mean_squared_error: 0.0111 - 104ms/epoch - 1ms/step\n",
      "Epoch 39/1000\n",
      "102/102 - 0s - loss: 1.3062e-04 - root_mean_squared_error: 0.0114 - val_loss: 1.1620e-04 - val_root_mean_squared_error: 0.0108 - 104ms/epoch - 1ms/step\n",
      "Epoch 40/1000\n",
      "102/102 - 0s - loss: 1.1700e-04 - root_mean_squared_error: 0.0108 - val_loss: 1.0974e-04 - val_root_mean_squared_error: 0.0105 - 103ms/epoch - 1ms/step\n",
      "Epoch 41/1000\n",
      "102/102 - 0s - loss: 1.0410e-04 - root_mean_squared_error: 0.0102 - val_loss: 1.0396e-04 - val_root_mean_squared_error: 0.0102 - 103ms/epoch - 1ms/step\n",
      "Epoch 42/1000\n",
      "102/102 - 0s - loss: 9.2268e-05 - root_mean_squared_error: 0.0096 - val_loss: 9.8479e-05 - val_root_mean_squared_error: 0.0099 - 104ms/epoch - 1ms/step\n",
      "Epoch 43/1000\n",
      "102/102 - 0s - loss: 8.3202e-05 - root_mean_squared_error: 0.0091 - val_loss: 9.3401e-05 - val_root_mean_squared_error: 0.0097 - 103ms/epoch - 1ms/step\n",
      "Epoch 44/1000\n",
      "102/102 - 0s - loss: 7.5284e-05 - root_mean_squared_error: 0.0087 - val_loss: 8.9035e-05 - val_root_mean_squared_error: 0.0094 - 102ms/epoch - 1000us/step\n",
      "Epoch 45/1000\n",
      "102/102 - 0s - loss: 6.8048e-05 - root_mean_squared_error: 0.0082 - val_loss: 8.4317e-05 - val_root_mean_squared_error: 0.0092 - 106ms/epoch - 1ms/step\n",
      "Epoch 46/1000\n",
      "102/102 - 0s - loss: 6.2052e-05 - root_mean_squared_error: 0.0079 - val_loss: 7.9268e-05 - val_root_mean_squared_error: 0.0089 - 104ms/epoch - 1ms/step\n",
      "Epoch 47/1000\n",
      "102/102 - 0s - loss: 5.6990e-05 - root_mean_squared_error: 0.0075 - val_loss: 7.6343e-05 - val_root_mean_squared_error: 0.0087 - 106ms/epoch - 1ms/step\n",
      "Epoch 48/1000\n",
      "102/102 - 0s - loss: 5.2702e-05 - root_mean_squared_error: 0.0073 - val_loss: 7.1348e-05 - val_root_mean_squared_error: 0.0084 - 106ms/epoch - 1ms/step\n",
      "Epoch 49/1000\n",
      "102/102 - 0s - loss: 4.8731e-05 - root_mean_squared_error: 0.0070 - val_loss: 6.6400e-05 - val_root_mean_squared_error: 0.0081 - 113ms/epoch - 1ms/step\n",
      "Epoch 50/1000\n",
      "102/102 - 0s - loss: 4.5431e-05 - root_mean_squared_error: 0.0067 - val_loss: 6.2569e-05 - val_root_mean_squared_error: 0.0079 - 103ms/epoch - 1ms/step\n",
      "Epoch 51/1000\n",
      "102/102 - 0s - loss: 4.2852e-05 - root_mean_squared_error: 0.0065 - val_loss: 5.8638e-05 - val_root_mean_squared_error: 0.0077 - 102ms/epoch - 1ms/step\n",
      "Epoch 52/1000\n",
      "102/102 - 0s - loss: 4.0334e-05 - root_mean_squared_error: 0.0064 - val_loss: 5.4718e-05 - val_root_mean_squared_error: 0.0074 - 104ms/epoch - 1ms/step\n",
      "Epoch 53/1000\n",
      "102/102 - 0s - loss: 3.8133e-05 - root_mean_squared_error: 0.0062 - val_loss: 5.2064e-05 - val_root_mean_squared_error: 0.0072 - 104ms/epoch - 1ms/step\n",
      "Epoch 54/1000\n",
      "102/102 - 0s - loss: 3.6290e-05 - root_mean_squared_error: 0.0060 - val_loss: 4.8811e-05 - val_root_mean_squared_error: 0.0070 - 104ms/epoch - 1ms/step\n",
      "Epoch 55/1000\n",
      "102/102 - 0s - loss: 3.4622e-05 - root_mean_squared_error: 0.0059 - val_loss: 4.5648e-05 - val_root_mean_squared_error: 0.0068 - 101ms/epoch - 993us/step\n",
      "Epoch 56/1000\n",
      "102/102 - 0s - loss: 3.3043e-05 - root_mean_squared_error: 0.0057 - val_loss: 4.2823e-05 - val_root_mean_squared_error: 0.0065 - 104ms/epoch - 1ms/step\n",
      "Epoch 57/1000\n",
      "102/102 - 0s - loss: 3.1667e-05 - root_mean_squared_error: 0.0056 - val_loss: 4.0472e-05 - val_root_mean_squared_error: 0.0064 - 105ms/epoch - 1ms/step\n",
      "Epoch 58/1000\n",
      "102/102 - 0s - loss: 3.0469e-05 - root_mean_squared_error: 0.0055 - val_loss: 3.7922e-05 - val_root_mean_squared_error: 0.0062 - 105ms/epoch - 1ms/step\n",
      "Epoch 59/1000\n",
      "102/102 - 0s - loss: 2.9523e-05 - root_mean_squared_error: 0.0054 - val_loss: 3.6280e-05 - val_root_mean_squared_error: 0.0060 - 105ms/epoch - 1ms/step\n",
      "Epoch 60/1000\n",
      "102/102 - 0s - loss: 2.8128e-05 - root_mean_squared_error: 0.0053 - val_loss: 3.4454e-05 - val_root_mean_squared_error: 0.0059 - 105ms/epoch - 1ms/step\n",
      "Epoch 61/1000\n",
      "102/102 - 0s - loss: 2.7394e-05 - root_mean_squared_error: 0.0052 - val_loss: 3.1712e-05 - val_root_mean_squared_error: 0.0056 - 103ms/epoch - 1ms/step\n",
      "Epoch 62/1000\n",
      "102/102 - 0s - loss: 2.6616e-05 - root_mean_squared_error: 0.0052 - val_loss: 3.0058e-05 - val_root_mean_squared_error: 0.0055 - 103ms/epoch - 1ms/step\n",
      "Epoch 63/1000\n",
      "102/102 - 0s - loss: 2.5808e-05 - root_mean_squared_error: 0.0051 - val_loss: 2.7651e-05 - val_root_mean_squared_error: 0.0053 - 105ms/epoch - 1ms/step\n",
      "Epoch 64/1000\n",
      "102/102 - 0s - loss: 2.5275e-05 - root_mean_squared_error: 0.0050 - val_loss: 2.7202e-05 - val_root_mean_squared_error: 0.0052 - 103ms/epoch - 1ms/step\n",
      "Epoch 65/1000\n",
      "102/102 - 0s - loss: 2.4309e-05 - root_mean_squared_error: 0.0049 - val_loss: 2.5662e-05 - val_root_mean_squared_error: 0.0051 - 103ms/epoch - 1ms/step\n",
      "Epoch 66/1000\n",
      "102/102 - 0s - loss: 2.3814e-05 - root_mean_squared_error: 0.0049 - val_loss: 2.5801e-05 - val_root_mean_squared_error: 0.0051 - 102ms/epoch - 1ms/step\n",
      "Epoch 67/1000\n",
      "102/102 - 0s - loss: 2.3382e-05 - root_mean_squared_error: 0.0048 - val_loss: 2.3977e-05 - val_root_mean_squared_error: 0.0049 - 101ms/epoch - 995us/step\n",
      "Epoch 68/1000\n",
      "102/102 - 0s - loss: 2.2732e-05 - root_mean_squared_error: 0.0048 - val_loss: 2.3024e-05 - val_root_mean_squared_error: 0.0048 - 119ms/epoch - 1ms/step\n",
      "Epoch 69/1000\n",
      "102/102 - 0s - loss: 2.2287e-05 - root_mean_squared_error: 0.0047 - val_loss: 2.2030e-05 - val_root_mean_squared_error: 0.0047 - 104ms/epoch - 1ms/step\n",
      "Epoch 70/1000\n",
      "102/102 - 0s - loss: 2.1975e-05 - root_mean_squared_error: 0.0047 - val_loss: 1.8967e-05 - val_root_mean_squared_error: 0.0044 - 103ms/epoch - 1ms/step\n",
      "Epoch 71/1000\n",
      "102/102 - 0s - loss: 2.1300e-05 - root_mean_squared_error: 0.0046 - val_loss: 1.9892e-05 - val_root_mean_squared_error: 0.0045 - 101ms/epoch - 992us/step\n",
      "Epoch 72/1000\n",
      "102/102 - 0s - loss: 2.1230e-05 - root_mean_squared_error: 0.0046 - val_loss: 2.0297e-05 - val_root_mean_squared_error: 0.0045 - 101ms/epoch - 992us/step\n"
     ]
    }
   ],
   "source": [
    "# fit the model\n",
    "history = model.fit(\n",
    "    train_inputs, train_targets, batch_size=BATCH_SIZE,epochs=MAX_EPOCHS, callbacks=[early_stopping], validation_data=(validation_inputs, validation_targets), verbose=2\n",
    "          )"
   ]
  },
  {
   "cell_type": "code",
   "execution_count": 211,
   "metadata": {},
   "outputs": [
    {
     "name": "stdout",
     "output_type": "stream",
     "text": [
      "Model: \"sequential_12\"\n",
      "_________________________________________________________________\n",
      " Layer (type)                Output Shape              Param #   \n",
      "=================================================================\n",
      " dense_54 (Dense)            (1, 19)                   380       \n",
      "                                                                 \n",
      " dense_55 (Dense)            (1, 40)                   800       \n",
      "                                                                 \n",
      " dense_56 (Dense)            (1, 40)                   1640      \n",
      "                                                                 \n",
      " dense_57 (Dense)            (1, 1)                    41        \n",
      "                                                                 \n",
      "=================================================================\n",
      "Total params: 2,861\n",
      "Trainable params: 2,861\n",
      "Non-trainable params: 0\n",
      "_________________________________________________________________\n"
     ]
    }
   ],
   "source": [
    "# ANN model summary\n",
    "model.summary()"
   ]
  },
  {
   "cell_type": "code",
   "execution_count": 212,
   "metadata": {},
   "outputs": [
    {
     "data": {
      "image/png": "[encoded data removed]",
      "text/plain": [
       "<Figure size 640x480 with 1 Axes>"
      ]
     },
     "metadata": {},
     "output_type": "display_data"
    }
   ],
   "source": [
    "import matplotlib.pyplot as plt\n",
    "plt.plot(history.history['loss'], label='Training_loss')\n",
    "plt.plot(history.history['val_loss'], label='Validation_loss')\n",
    "plt.xlabel('epochs')\n",
    "plt.ylabel('loss')\n",
    "plt.legend()\n",
    "plt.show()"
   ]
  },
  {
   "cell_type": "markdown",
   "metadata": {},
   "source": [
    "# Model check on Test data"
   ]
  },
  {
   "cell_type": "code",
   "execution_count": 213,
   "metadata": {},
   "outputs": [
    {
     "name": "stdout",
     "output_type": "stream",
     "text": [
      "1/1 [==============================] - 0s 95ms/step - loss: 2.8801e-05 - root_mean_squared_error: 0.0054\n"
     ]
    }
   ],
   "source": [
    "test_loss, test_accuracy = model.evaluate(test_inputs, test_targets)"
   ]
  },
  {
   "cell_type": "code",
   "execution_count": 214,
   "metadata": {},
   "outputs": [
    {
     "name": "stdout",
     "output_type": "stream",
     "text": [
      "\n",
      "Test loss: 0.0000. Test accuracy: 0.0054 rmse\n"
     ]
    }
   ],
   "source": [
    "print('\\nTest loss: {0:.4f}. Test accuracy: {1:.4f} rmse'.format(test_loss, test_accuracy))"
   ]
  },
  {
   "cell_type": "code",
   "execution_count": 215,
   "metadata": {},
   "outputs": [
    {
     "name": "stdout",
     "output_type": "stream",
     "text": [
      "1/1 [==============================] - 0s 42ms/step\n"
     ]
    },
    {
     "data": {
      "text/html": [
       "<div>\n",
       "<style scoped>\n",
       "    .dataframe tbody tr th:only-of-type {\n",
       "        vertical-align: middle;\n",
       "    }\n",
       "\n",
       "    .dataframe tbody tr th {\n",
       "        vertical-align: top;\n",
       "    }\n",
       "\n",
       "    .dataframe thead th {\n",
       "        text-align: right;\n",
       "    }\n",
       "</style>\n",
       "<table border=\"1\" class=\"dataframe\">\n",
       "  <thead>\n",
       "    <tr style=\"text-align: right;\">\n",
       "      <th></th>\n",
       "      <th>Target-St(%)</th>\n",
       "      <th>Prediction-St(%)</th>\n",
       "      <th>Pred-Accu-St(%)</th>\n",
       "    </tr>\n",
       "  </thead>\n",
       "  <tbody>\n",
       "    <tr>\n",
       "      <th>0</th>\n",
       "      <td>0.99</td>\n",
       "      <td>0.993</td>\n",
       "      <td>100.30</td>\n",
       "    </tr>\n",
       "    <tr>\n",
       "      <th>1</th>\n",
       "      <td>0.99</td>\n",
       "      <td>0.987</td>\n",
       "      <td>99.70</td>\n",
       "    </tr>\n",
       "    <tr>\n",
       "      <th>2</th>\n",
       "      <td>0.99</td>\n",
       "      <td>0.993</td>\n",
       "      <td>100.30</td>\n",
       "    </tr>\n",
       "    <tr>\n",
       "      <th>3</th>\n",
       "      <td>0.95</td>\n",
       "      <td>0.950</td>\n",
       "      <td>100.00</td>\n",
       "    </tr>\n",
       "    <tr>\n",
       "      <th>4</th>\n",
       "      <td>0.96</td>\n",
       "      <td>0.969</td>\n",
       "      <td>100.94</td>\n",
       "    </tr>\n",
       "    <tr>\n",
       "      <th>5</th>\n",
       "      <td>0.98</td>\n",
       "      <td>0.982</td>\n",
       "      <td>100.20</td>\n",
       "    </tr>\n",
       "    <tr>\n",
       "      <th>6</th>\n",
       "      <td>0.97</td>\n",
       "      <td>0.971</td>\n",
       "      <td>100.10</td>\n",
       "    </tr>\n",
       "    <tr>\n",
       "      <th>7</th>\n",
       "      <td>0.94</td>\n",
       "      <td>0.940</td>\n",
       "      <td>100.00</td>\n",
       "    </tr>\n",
       "    <tr>\n",
       "      <th>8</th>\n",
       "      <td>0.98</td>\n",
       "      <td>0.980</td>\n",
       "      <td>100.00</td>\n",
       "    </tr>\n",
       "    <tr>\n",
       "      <th>9</th>\n",
       "      <td>0.95</td>\n",
       "      <td>0.961</td>\n",
       "      <td>101.16</td>\n",
       "    </tr>\n",
       "    <tr>\n",
       "      <th>10</th>\n",
       "      <td>0.95</td>\n",
       "      <td>0.961</td>\n",
       "      <td>101.16</td>\n",
       "    </tr>\n",
       "    <tr>\n",
       "      <th>11</th>\n",
       "      <td>0.97</td>\n",
       "      <td>0.971</td>\n",
       "      <td>100.10</td>\n",
       "    </tr>\n",
       "    <tr>\n",
       "      <th>12</th>\n",
       "      <td>0.98</td>\n",
       "      <td>0.980</td>\n",
       "      <td>100.00</td>\n",
       "    </tr>\n",
       "  </tbody>\n",
       "</table>\n",
       "</div>"
      ],
      "text/plain": [
       "    Target-St(%)  Prediction-St(%)  Pred-Accu-St(%)\n",
       "0           0.99             0.993           100.30\n",
       "1           0.99             0.987            99.70\n",
       "2           0.99             0.993           100.30\n",
       "3           0.95             0.950           100.00\n",
       "4           0.96             0.969           100.94\n",
       "5           0.98             0.982           100.20\n",
       "6           0.97             0.971           100.10\n",
       "7           0.94             0.940           100.00\n",
       "8           0.98             0.980           100.00\n",
       "9           0.95             0.961           101.16\n",
       "10          0.95             0.961           101.16\n",
       "11          0.97             0.971           100.10\n",
       "12          0.98             0.980           100.00"
      ]
     },
     "execution_count": 215,
     "metadata": {},
     "output_type": "execute_result"
    }
   ],
   "source": [
    "prediction = model.predict(test_inputs)\n",
    "data_inputs = pd.DataFrame(test_inputs)\n",
    "prediction = pd.DataFrame(np.round(prediction,3))\n",
    "test_targets = pd.DataFrame(test_targets)\n",
    "pred_accu = np.round(((prediction)/test_targets)*100,2)\n",
    "\n",
    "result = pd.concat([test_targets, prediction, pred_accu], axis = 1, ignore_index=True)\n",
    "result.columns = ['Target-St(%)', 'Prediction-St(%)','Pred-Accu-St(%)']\n",
    "result"
   ]
  },
  {
   "cell_type": "code",
   "execution_count": 216,
   "metadata": {},
   "outputs": [
    {
     "data": {
      "text/plain": [
       "Text(0.5, 0, 'Targets (red) & Predictions (blue)')"
      ]
     },
     "execution_count": 216,
     "metadata": {},
     "output_type": "execute_result"
    },
    {
     "data": {
      "image/png": "[encoded data removed]",
      "text/plain": [
       "<Figure size 640x480 with 1 Axes>"
      ]
     },
     "metadata": {},
     "output_type": "display_data"
    }
   ],
   "source": [
    "plt.scatter(result['Target-St(%)'], result['Pred-Accu-St(%)'], color='r')\n",
    "plt.scatter(result['Prediction-St(%)'], result['Pred-Accu-St(%)'],alpha=0.4, color='b')\n",
    "plt.ylabel('Error in the prediction(%)')\n",
    "plt.xlabel('Targets (red) & Predictions (blue)')\n"
   ]
  },
  {
   "cell_type": "code",
   "execution_count": 217,
   "metadata": {},
   "outputs": [
    {
     "data": {
      "text/plain": [
       "Text(0.5, 0, 'Targets')"
      ]
     },
     "execution_count": 217,
     "metadata": {},
     "output_type": "execute_result"
    },
    {
     "data": {
      "image/png": "[encoded data removed]",
      "text/plain": [
       "<Figure size 640x480 with 1 Axes>"
      ]
     },
     "metadata": {},
     "output_type": "display_data"
    }
   ],
   "source": [
    "plt.scatter(result['Target-St(%)'], result['Prediction-St(%)'], alpha=0.3, color='g')\n",
    "plt.ylabel('predictions')\n",
    "plt.xlabel('Targets')\n"
   ]
  },
  {
   "cell_type": "code",
   "execution_count": 218,
   "metadata": {},
   "outputs": [
    {
     "data": {
      "text/plain": [
       "0.9035831866251218"
      ]
     },
     "execution_count": 218,
     "metadata": {},
     "output_type": "execute_result"
    }
   ],
   "source": [
    "# estimation of R2 score\n",
    "from sklearn.metrics import r2_score\n",
    "r2_score_test = r2_score(test_targets, prediction)\n",
    "r2_score_test"
   ]
  },
  {
   "cell_type": "code",
   "execution_count": 219,
   "metadata": {},
   "outputs": [
    {
     "data": {
      "text/plain": [
       "0.8714442488334958"
      ]
     },
     "execution_count": 219,
     "metadata": {},
     "output_type": "execute_result"
    }
   ],
   "source": [
    "# estimation of adjusted R2 score\n",
    "n = np.size(test_targets)\n",
    "k = 3 # number of features\n",
    "adj_r2_score = 1 - (((1-r2_score_test)*(n-1))/((n-k-1)))\n",
    "adj_r2_score"
   ]
  },
  {
   "cell_type": "code",
   "execution_count": 220,
   "metadata": {},
   "outputs": [
    {
     "name": "stdout",
     "output_type": "stream",
     "text": [
      "Uncertainty of the ANN model: 0.47 [%]\n",
      "Average test prediction precision 99.53 [%]\n"
     ]
    }
   ],
   "source": [
    "mean_pred = pred_accu.mean()\n",
    "std_pred = pred_accu.std()\n",
    "uncertainty_model = std_pred\n",
    "print(\"Uncertainty of the ANN model:\", np.round(uncertainty_model[0],2), '[%]')\n",
    "print(\"Average test prediction precision\", np.round(100 - uncertainty_model[0],2), '[%]')"
   ]
  },
  {
   "cell_type": "markdown",
   "metadata": {},
   "source": [
    "# ANN Model Deployment"
   ]
  },
  {
   "cell_type": "markdown",
   "metadata": {},
   "source": [
    "ANN model deployment for micro DSC error prediction"
   ]
  },
  {
   "cell_type": "code",
   "execution_count": 221,
   "metadata": {},
   "outputs": [],
   "source": [
    "import keras\n",
    "model.save('micro_dsc_dl.h5')"
   ]
  },
  {
   "cell_type": "code",
   "execution_count": null,
   "metadata": {},
   "outputs": [],
   "source": []
  }
 ],
 "metadata": {
  "kernelspec": {
   "display_name": ".venv",
   "language": "python",
   "name": "python3"
  },
  "language_info": {
   "codemirror_mode": {
    "name": "ipython",
    "version": 3
   },
   "file_extension": ".py",
   "mimetype": "text/x-python",
   "name": "python",
   "nbconvert_exporter": "python",
   "pygments_lexer": "ipython3",
   "version": "3.10.8"
  },
  "orig_nbformat": 4,
  "vscode": {
   "interpreter": {
    "hash": "7a894ceb47d099db229f364d40afe4cffd5fd7a0bd37c3a5ba433ad048c7676c"
   }
  }
 },
 "nbformat": 4,
 "nbformat_minor": 2
}
