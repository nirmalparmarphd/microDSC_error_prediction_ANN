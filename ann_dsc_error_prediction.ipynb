{
 "cells": [
  {
   "cell_type": "markdown",
   "metadata": {},
   "source": [
    "# DNN Model"
   ]
  },
  {
   "cell_type": "code",
   "execution_count": 200,
   "metadata": {},
   "outputs": [],
   "source": [
    "import numpy as np\n",
    "import pandas as pd\n",
    "import tensorflow as tf"
   ]
  },
  {
   "cell_type": "code",
   "execution_count": 201,
   "metadata": {},
   "outputs": [],
   "source": [
    "# data loading from .npz generated from tcr_data_process.ipynb\n",
    "# loading train data\n",
    "npz = np.load('data_train.npz')\n",
    "train_inputs = npz['input'].astype(np.float64)\n",
    "train_targets = npz['targets'].astype(np.float64)\n",
    "# loading validation data\n",
    "npz = np.load('data_validation.npz')\n",
    "validation_inputs, validation_targets = npz['input'].astype(np.float64), npz['targets'].astype(np.float64)\n",
    "\n",
    "npz = np.load('data_test.npz')\n",
    "test_inputs, test_targets = npz['input'].astype(np.float64), npz['targets'].astype(np.float64)"
   ]
  },
  {
   "cell_type": "markdown",
   "metadata": {},
   "source": [
    "# ANN Model"
   ]
  },
  {
   "cell_type": "markdown",
   "metadata": {},
   "source": [
    "Outline, Optimizer, Loss function, Early stopping and Training rate"
   ]
  },
  {
   "cell_type": "code",
   "execution_count": 202,
   "metadata": {},
   "outputs": [],
   "source": [
    "# NN model prep\n",
    "input_size = 3\n",
    "output_size = 1\n",
    "hidden_layer_1_size = 10\n",
    "hidden_layer_2_size = 10\n",
    "hidden_layer_3_size = 10\n",
    "\n",
    "model = tf.keras.Sequential([\n",
    "    tf.keras.layers.Dense(input_size),\n",
    "    tf.keras.layers.Dense(hidden_layer_1_size, activation='relu'),\n",
    "    tf.keras.layers.Dense(hidden_layer_2_size, activation='relu'),\n",
    "    #tf.keras.layers.Dense(hidden_layer_3_size, activation='relu'),\n",
    "    tf.keras.layers.Dense(output_size, activation='linear')\n",
    "])\n"
   ]
  },
  {
   "cell_type": "code",
   "execution_count": 203,
   "metadata": {},
   "outputs": [],
   "source": [
    "# model prep, optimizer and loss function\n",
    "optimizer = tf.keras.optimizers.Adam(learning_rate=0.0001)\n",
    "model.compile(optimizer, loss=tf.keras.losses.MeanSquaredError(),metrics=[tf.keras.metrics.RootMeanSquaredError()])\n"
   ]
  },
  {
   "cell_type": "code",
   "execution_count": 204,
   "metadata": {},
   "outputs": [],
   "source": [
    "# Training\n",
    "BATCH_SIZE = 1\n",
    "MAX_EPOCHS = 1000\n",
    "early_stopping = tf.keras.callbacks.EarlyStopping(patience=2)"
   ]
  },
  {
   "cell_type": "code",
   "execution_count": 205,
   "metadata": {},
   "outputs": [
    {
     "name": "stdout",
     "output_type": "stream",
     "text": [
      "Epoch 1/1000\n",
      "640/640 - 5s - loss: 1.2195 - root_mean_squared_error: 1.1043 - val_loss: 0.7881 - val_root_mean_squared_error: 0.8878 - 5s/epoch - 7ms/step\n",
      "Epoch 2/1000\n",
      "640/640 - 2s - loss: 0.5957 - root_mean_squared_error: 0.7718 - val_loss: 0.3640 - val_root_mean_squared_error: 0.6034 - 2s/epoch - 3ms/step\n",
      "Epoch 3/1000\n",
      "640/640 - 1s - loss: 0.2738 - root_mean_squared_error: 0.5233 - val_loss: 0.1712 - val_root_mean_squared_error: 0.4138 - 1s/epoch - 2ms/step\n",
      "Epoch 4/1000\n",
      "640/640 - 2s - loss: 0.1236 - root_mean_squared_error: 0.3515 - val_loss: 0.0846 - val_root_mean_squared_error: 0.2908 - 2s/epoch - 3ms/step\n",
      "Epoch 5/1000\n",
      "640/640 - 2s - loss: 0.0512 - root_mean_squared_error: 0.2262 - val_loss: 0.0378 - val_root_mean_squared_error: 0.1945 - 2s/epoch - 3ms/step\n",
      "Epoch 6/1000\n",
      "640/640 - 1s - loss: 0.0214 - root_mean_squared_error: 0.1461 - val_loss: 0.0176 - val_root_mean_squared_error: 0.1327 - 1s/epoch - 2ms/step\n",
      "Epoch 7/1000\n",
      "640/640 - 2s - loss: 0.0103 - root_mean_squared_error: 0.1014 - val_loss: 0.0090 - val_root_mean_squared_error: 0.0947 - 2s/epoch - 3ms/step\n",
      "Epoch 8/1000\n",
      "640/640 - 2s - loss: 0.0053 - root_mean_squared_error: 0.0730 - val_loss: 0.0045 - val_root_mean_squared_error: 0.0669 - 2s/epoch - 3ms/step\n",
      "Epoch 9/1000\n",
      "640/640 - 2s - loss: 0.0026 - root_mean_squared_error: 0.0510 - val_loss: 0.0020 - val_root_mean_squared_error: 0.0452 - 2s/epoch - 3ms/step\n",
      "Epoch 10/1000\n",
      "640/640 - 1s - loss: 0.0011 - root_mean_squared_error: 0.0325 - val_loss: 7.3982e-04 - val_root_mean_squared_error: 0.0272 - 1s/epoch - 2ms/step\n",
      "Epoch 11/1000\n",
      "640/640 - 2s - loss: 4.4507e-04 - root_mean_squared_error: 0.0211 - val_loss: 3.4427e-04 - val_root_mean_squared_error: 0.0186 - 2s/epoch - 2ms/step\n",
      "Epoch 12/1000\n",
      "640/640 - 2s - loss: 2.2531e-04 - root_mean_squared_error: 0.0150 - val_loss: 1.9116e-04 - val_root_mean_squared_error: 0.0138 - 2s/epoch - 3ms/step\n",
      "Epoch 13/1000\n",
      "640/640 - 1s - loss: 1.4308e-04 - root_mean_squared_error: 0.0120 - val_loss: 1.3654e-04 - val_root_mean_squared_error: 0.0117 - 1s/epoch - 2ms/step\n",
      "Epoch 14/1000\n",
      "640/640 - 1s - loss: 1.0529e-04 - root_mean_squared_error: 0.0103 - val_loss: 1.1112e-04 - val_root_mean_squared_error: 0.0105 - 1s/epoch - 2ms/step\n",
      "Epoch 15/1000\n",
      "640/640 - 2s - loss: 8.4814e-05 - root_mean_squared_error: 0.0092 - val_loss: 8.7091e-05 - val_root_mean_squared_error: 0.0093 - 2s/epoch - 3ms/step\n",
      "Epoch 16/1000\n",
      "640/640 - 1s - loss: 6.9300e-05 - root_mean_squared_error: 0.0083 - val_loss: 7.1827e-05 - val_root_mean_squared_error: 0.0085 - 1s/epoch - 2ms/step\n",
      "Epoch 17/1000\n",
      "640/640 - 1s - loss: 5.6991e-05 - root_mean_squared_error: 0.0075 - val_loss: 5.8826e-05 - val_root_mean_squared_error: 0.0077 - 1s/epoch - 2ms/step\n",
      "Epoch 18/1000\n",
      "640/640 - 1s - loss: 4.7444e-05 - root_mean_squared_error: 0.0069 - val_loss: 5.7937e-05 - val_root_mean_squared_error: 0.0076 - 1s/epoch - 2ms/step\n",
      "Epoch 19/1000\n",
      "640/640 - 2s - loss: 4.0881e-05 - root_mean_squared_error: 0.0064 - val_loss: 3.8659e-05 - val_root_mean_squared_error: 0.0062 - 2s/epoch - 3ms/step\n",
      "Epoch 20/1000\n",
      "640/640 - 2s - loss: 3.4486e-05 - root_mean_squared_error: 0.0059 - val_loss: 3.5436e-05 - val_root_mean_squared_error: 0.0060 - 2s/epoch - 3ms/step\n",
      "Epoch 21/1000\n",
      "640/640 - 1s - loss: 3.1111e-05 - root_mean_squared_error: 0.0056 - val_loss: 3.2374e-05 - val_root_mean_squared_error: 0.0057 - 1s/epoch - 2ms/step\n",
      "Epoch 22/1000\n",
      "640/640 - 1s - loss: 2.8829e-05 - root_mean_squared_error: 0.0054 - val_loss: 2.8712e-05 - val_root_mean_squared_error: 0.0054 - 1s/epoch - 2ms/step\n",
      "Epoch 23/1000\n",
      "640/640 - 1s - loss: 2.7036e-05 - root_mean_squared_error: 0.0052 - val_loss: 2.6651e-05 - val_root_mean_squared_error: 0.0052 - 1s/epoch - 2ms/step\n",
      "Epoch 24/1000\n",
      "640/640 - 1s - loss: 2.3941e-05 - root_mean_squared_error: 0.0049 - val_loss: 2.5427e-05 - val_root_mean_squared_error: 0.0050 - 1s/epoch - 2ms/step\n",
      "Epoch 25/1000\n",
      "640/640 - 1s - loss: 2.2133e-05 - root_mean_squared_error: 0.0047 - val_loss: 2.3584e-05 - val_root_mean_squared_error: 0.0049 - 1s/epoch - 2ms/step\n",
      "Epoch 26/1000\n",
      "640/640 - 1s - loss: 2.1233e-05 - root_mean_squared_error: 0.0046 - val_loss: 2.0762e-05 - val_root_mean_squared_error: 0.0046 - 1s/epoch - 2ms/step\n",
      "Epoch 27/1000\n",
      "640/640 - 1s - loss: 1.9322e-05 - root_mean_squared_error: 0.0044 - val_loss: 2.0957e-05 - val_root_mean_squared_error: 0.0046 - 1s/epoch - 2ms/step\n",
      "Epoch 28/1000\n",
      "640/640 - 1s - loss: 2.0823e-05 - root_mean_squared_error: 0.0046 - val_loss: 2.1343e-05 - val_root_mean_squared_error: 0.0046 - 1s/epoch - 2ms/step\n"
     ]
    }
   ],
   "source": [
    "# fit the model\n",
    "history = model.fit(\n",
    "    train_inputs, train_targets, batch_size=BATCH_SIZE,epochs=MAX_EPOCHS, callbacks=[early_stopping], validation_data=(validation_inputs, validation_targets), verbose=2\n",
    "          )"
   ]
  },
  {
   "cell_type": "code",
   "execution_count": 206,
   "metadata": {},
   "outputs": [
    {
     "name": "stdout",
     "output_type": "stream",
     "text": [
      "Model: \"sequential_13\"\n",
      "_________________________________________________________________\n",
      " Layer (type)                Output Shape              Param #   \n",
      "=================================================================\n",
      " dense_65 (Dense)            (1, 3)                    12        \n",
      "                                                                 \n",
      " dense_66 (Dense)            (1, 10)                   40        \n",
      "                                                                 \n",
      " dense_67 (Dense)            (1, 10)                   110       \n",
      "                                                                 \n",
      " dense_68 (Dense)            (1, 1)                    11        \n",
      "                                                                 \n",
      "=================================================================\n",
      "Total params: 173\n",
      "Trainable params: 173\n",
      "Non-trainable params: 0\n",
      "_________________________________________________________________\n"
     ]
    }
   ],
   "source": [
    "# ANN model summary\n",
    "model.summary()"
   ]
  },
  {
   "cell_type": "code",
   "execution_count": 207,
   "metadata": {},
   "outputs": [
    {
     "data": {
      "image/png": "[encoded data removed]",
      "text/plain": [
       "<Figure size 640x480 with 1 Axes>"
      ]
     },
     "metadata": {},
     "output_type": "display_data"
    }
   ],
   "source": [
    "import matplotlib.pyplot as plt\n",
    "plt.plot(history.history['loss'], label='Training_loss')\n",
    "plt.plot(history.history['val_loss'], label='Validation_loss')\n",
    "plt.xlabel('epochs')\n",
    "plt.ylabel('loss')\n",
    "plt.legend()\n",
    "plt.show()"
   ]
  },
  {
   "cell_type": "markdown",
   "metadata": {},
   "source": [
    "# Model check on Test data"
   ]
  },
  {
   "cell_type": "code",
   "execution_count": 208,
   "metadata": {},
   "outputs": [
    {
     "name": "stdout",
     "output_type": "stream",
     "text": [
      "3/3 [==============================] - 0s 5ms/step - loss: 1.9218e-05 - root_mean_squared_error: 0.0044\n"
     ]
    }
   ],
   "source": [
    "test_loss, test_accuracy = model.evaluate(test_inputs, test_targets)"
   ]
  },
  {
   "cell_type": "code",
   "execution_count": 209,
   "metadata": {},
   "outputs": [
    {
     "name": "stdout",
     "output_type": "stream",
     "text": [
      "\n",
      "Test loss: 0.0000. Test accuracy: 0.0044 rmse\n"
     ]
    }
   ],
   "source": [
    "print('\\nTest loss: {0:.4f}. Test accuracy: {1:.4f} rmse'.format(test_loss, test_accuracy))"
   ]
  },
  {
   "cell_type": "code",
   "execution_count": 223,
   "metadata": {},
   "outputs": [
    {
     "name": "stdout",
     "output_type": "stream",
     "text": [
      "3/3 [==============================] - 0s 6ms/step\n"
     ]
    },
    {
     "data": {
      "text/html": [
       "<div>\n",
       "<style scoped>\n",
       "    .dataframe tbody tr th:only-of-type {\n",
       "        vertical-align: middle;\n",
       "    }\n",
       "\n",
       "    .dataframe tbody tr th {\n",
       "        vertical-align: top;\n",
       "    }\n",
       "\n",
       "    .dataframe thead th {\n",
       "        text-align: right;\n",
       "    }\n",
       "</style>\n",
       "<table border=\"1\" class=\"dataframe\">\n",
       "  <thead>\n",
       "    <tr style=\"text-align: right;\">\n",
       "      <th></th>\n",
       "      <th>Target-St(%)</th>\n",
       "      <th>Prediction-St(%)</th>\n",
       "      <th>Pred-Accu-St(%)</th>\n",
       "    </tr>\n",
       "  </thead>\n",
       "  <tbody>\n",
       "    <tr>\n",
       "      <th>0</th>\n",
       "      <td>0.99</td>\n",
       "      <td>0.990</td>\n",
       "      <td>100.00</td>\n",
       "    </tr>\n",
       "    <tr>\n",
       "      <th>1</th>\n",
       "      <td>0.99</td>\n",
       "      <td>0.990</td>\n",
       "      <td>100.00</td>\n",
       "    </tr>\n",
       "    <tr>\n",
       "      <th>2</th>\n",
       "      <td>0.98</td>\n",
       "      <td>0.974</td>\n",
       "      <td>99.39</td>\n",
       "    </tr>\n",
       "    <tr>\n",
       "      <th>3</th>\n",
       "      <td>0.99</td>\n",
       "      <td>0.985</td>\n",
       "      <td>99.49</td>\n",
       "    </tr>\n",
       "    <tr>\n",
       "      <th>4</th>\n",
       "      <td>1.00</td>\n",
       "      <td>1.000</td>\n",
       "      <td>100.00</td>\n",
       "    </tr>\n",
       "    <tr>\n",
       "      <th>...</th>\n",
       "      <td>...</td>\n",
       "      <td>...</td>\n",
       "      <td>...</td>\n",
       "    </tr>\n",
       "    <tr>\n",
       "      <th>75</th>\n",
       "      <td>0.94</td>\n",
       "      <td>0.933</td>\n",
       "      <td>99.26</td>\n",
       "    </tr>\n",
       "    <tr>\n",
       "      <th>76</th>\n",
       "      <td>0.94</td>\n",
       "      <td>0.933</td>\n",
       "      <td>99.26</td>\n",
       "    </tr>\n",
       "    <tr>\n",
       "      <th>77</th>\n",
       "      <td>1.00</td>\n",
       "      <td>1.000</td>\n",
       "      <td>100.00</td>\n",
       "    </tr>\n",
       "    <tr>\n",
       "      <th>78</th>\n",
       "      <td>0.97</td>\n",
       "      <td>0.976</td>\n",
       "      <td>100.62</td>\n",
       "    </tr>\n",
       "    <tr>\n",
       "      <th>79</th>\n",
       "      <td>0.96</td>\n",
       "      <td>0.951</td>\n",
       "      <td>99.06</td>\n",
       "    </tr>\n",
       "  </tbody>\n",
       "</table>\n",
       "<p>80 rows × 3 columns</p>\n",
       "</div>"
      ],
      "text/plain": [
       "    Target-St(%)  Prediction-St(%)  Pred-Accu-St(%)\n",
       "0           0.99             0.990           100.00\n",
       "1           0.99             0.990           100.00\n",
       "2           0.98             0.974            99.39\n",
       "3           0.99             0.985            99.49\n",
       "4           1.00             1.000           100.00\n",
       "..           ...               ...              ...\n",
       "75          0.94             0.933            99.26\n",
       "76          0.94             0.933            99.26\n",
       "77          1.00             1.000           100.00\n",
       "78          0.97             0.976           100.62\n",
       "79          0.96             0.951            99.06\n",
       "\n",
       "[80 rows x 3 columns]"
      ]
     },
     "execution_count": 223,
     "metadata": {},
     "output_type": "execute_result"
    }
   ],
   "source": [
    "prediction = model.predict(test_inputs)\n",
    "data_inputs = pd.DataFrame(test_inputs)\n",
    "prediction = pd.DataFrame(np.round(prediction,3))\n",
    "test_targets = pd.DataFrame(test_targets)\n",
    "pred_accu = np.round((prediction/test_targets)*100,2)\n",
    "\n",
    "result = pd.concat([test_targets, prediction, pred_accu], axis = 1, ignore_index=True)\n",
    "result.columns = ['Target-St(%)', 'Prediction-St(%)','Pred-Accu-St(%)']\n",
    "result"
   ]
  },
  {
   "cell_type": "code",
   "execution_count": 224,
   "metadata": {},
   "outputs": [
    {
     "data": {
      "text/plain": [
       "Text(0.5, 0, 'Targets (red) & Predictions (blue)')"
      ]
     },
     "execution_count": 224,
     "metadata": {},
     "output_type": "execute_result"
    },
    {
     "data": {
      "image/png": "[encoded data removed]",
      "text/plain": [
       "<Figure size 640x480 with 1 Axes>"
      ]
     },
     "metadata": {},
     "output_type": "display_data"
    }
   ],
   "source": [
    "import matplotlib.pyplot as plt\n",
    "plt.scatter(result['Target-St(%)'], result['Pred-Accu-St(%)'], alpha=0.5, color='r')\n",
    "plt.scatter(result['Prediction-St(%)'], result['Pred-Accu-St(%)'],alpha=0.5, color='b')\n",
    "plt.ylabel('Error in the prediction(%)')\n",
    "plt.xlabel('Targets (red) & Predictions (blue)')"
   ]
  },
  {
   "cell_type": "code",
   "execution_count": 225,
   "metadata": {},
   "outputs": [
    {
     "data": {
      "text/plain": [
       "Text(0.5, 0, 'Targets')"
      ]
     },
     "execution_count": 225,
     "metadata": {},
     "output_type": "execute_result"
    },
    {
     "data": {
      "image/png": "[encoded data removed]",
      "text/plain": [
       "<Figure size 640x480 with 1 Axes>"
      ]
     },
     "metadata": {},
     "output_type": "display_data"
    }
   ],
   "source": [
    "plt.scatter(result['Target-St(%)'], result['Target-St(%)'], alpha=0.5, color='r')\n",
    "plt.scatter(result['Target-St(%)'], result['Prediction-St(%)'], alpha=0.2, color='g')\n",
    "\n",
    "plt.ylabel('predictions')\n",
    "plt.xlabel('Targets')"
   ]
  },
  {
   "cell_type": "code",
   "execution_count": 226,
   "metadata": {},
   "outputs": [
    {
     "data": {
      "text/plain": [
       "0.9546"
      ]
     },
     "execution_count": 226,
     "metadata": {},
     "output_type": "execute_result"
    }
   ],
   "source": [
    "# estimation of R2 score\n",
    "from sklearn.metrics import r2_score\n",
    "r2_score_test = r2_score(test_targets, prediction)\n",
    "np.round(r2_score_test,4)"
   ]
  },
  {
   "cell_type": "code",
   "execution_count": 227,
   "metadata": {},
   "outputs": [
    {
     "data": {
      "text/plain": [
       "0.9528"
      ]
     },
     "execution_count": 227,
     "metadata": {},
     "output_type": "execute_result"
    }
   ],
   "source": [
    "# estimation of adjusted R2 score\n",
    "n = np.size(test_targets)\n",
    "k = 3 # number of features\n",
    "adj_r2_score = 1 - (((1-r2_score_test)*(n-1))/((n-k-1)))\n",
    "np.round(adj_r2_score,4)"
   ]
  },
  {
   "cell_type": "code",
   "execution_count": 228,
   "metadata": {},
   "outputs": [
    {
     "name": "stdout",
     "output_type": "stream",
     "text": [
      "Uncertainty of the ANN model: 0.44 [%]\n",
      "Average test prediction precision 99.56 [%]\n"
     ]
    }
   ],
   "source": [
    "mean_pred = pred_accu.mean()\n",
    "std_pred = pred_accu.std()\n",
    "uncertainty_model = std_pred\n",
    "print(\"Uncertainty of the ANN model:\", np.round(uncertainty_model[0],2), '[%]')\n",
    "print(\"Average test prediction precision\", np.round(100 - uncertainty_model[0],2), '[%]')"
   ]
  },
  {
   "cell_type": "markdown",
   "metadata": {},
   "source": [
    "# ANN Model Deployment"
   ]
  },
  {
   "cell_type": "markdown",
   "metadata": {},
   "source": [
    "ANN model deployment for micro DSC error prediction"
   ]
  },
  {
   "cell_type": "code",
   "execution_count": 216,
   "metadata": {},
   "outputs": [],
   "source": [
    "import keras\n",
    "model.save('micro_dsc_dl.h5')"
   ]
  },
  {
   "cell_type": "code",
   "execution_count": null,
   "metadata": {},
   "outputs": [],
   "source": []
  }
 ],
 "metadata": {
  "kernelspec": {
   "display_name": ".venv",
   "language": "python",
   "name": "python3"
  },
  "language_info": {
   "codemirror_mode": {
    "name": "ipython",
    "version": 3
   },
   "file_extension": ".py",
   "mimetype": "text/x-python",
   "name": "python",
   "nbconvert_exporter": "python",
   "pygments_lexer": "ipython3",
   "version": "3.8.9"
  },
  "orig_nbformat": 4,
  "vscode": {
   "interpreter": {
    "hash": "6922cdaeb71861185ead2220765f61360c8c577271e89b0df9cb02b0ddb1fa67"
   }
  }
 },
 "nbformat": 4,
 "nbformat_minor": 2
}
