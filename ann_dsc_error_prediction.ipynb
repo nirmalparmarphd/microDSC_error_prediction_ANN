{
 "cells": [
  {
   "cell_type": "markdown",
   "metadata": {},
   "source": [
    "# DNN Model"
   ]
  },
  {
   "cell_type": "code",
   "execution_count": 75,
   "metadata": {},
   "outputs": [],
   "source": [
    "import numpy as np\n",
    "import pandas as pd\n",
    "import tensorflow as tf"
   ]
  },
  {
   "cell_type": "code",
   "execution_count": 76,
   "metadata": {},
   "outputs": [],
   "source": [
    "# data loading from .npz generated from tcr_data_process.ipynb\n",
    "# loading train data\n",
    "npz = np.load('data_train.npz')\n",
    "train_inputs = npz['input'].astype(np.float64)\n",
    "train_targets = npz['targets'].astype(np.float64)\n",
    "# loading validation data\n",
    "npz = np.load('data_validation.npz')\n",
    "validation_inputs, validation_targets = npz['input'].astype(np.float64), npz['targets'].astype(np.float64)\n",
    "\n",
    "npz = np.load('data_test.npz')\n",
    "test_inputs, test_targets = npz['input'].astype(np.float64), npz['targets'].astype(np.float64)"
   ]
  },
  {
   "cell_type": "markdown",
   "metadata": {},
   "source": [
    "# ANN Model"
   ]
  },
  {
   "cell_type": "markdown",
   "metadata": {},
   "source": [
    "Outline, Optimizer, Loss function, Early stopping and Training rate"
   ]
  },
  {
   "cell_type": "code",
   "execution_count": 77,
   "metadata": {},
   "outputs": [],
   "source": [
    "# NN model prep\n",
    "input_size = 3\n",
    "output_size = 2\n",
    "hidden_layer_1_size = 10\n",
    "hidden_layer_2_size = 10\n",
    "hidden_layer_3_size = 10\n",
    "\n",
    "model = tf.keras.Sequential([\n",
    "    tf.keras.layers.Dense(input_size),\n",
    "    tf.keras.layers.Dense(hidden_layer_1_size, activation='relu'),\n",
    "    tf.keras.layers.Dense(hidden_layer_2_size, activation='softmax'),\n",
    "    tf.keras.layers.Dense(hidden_layer_3_size, activation='relu'),\n",
    "    tf.keras.layers.Dense(output_size, activation='linear')\n",
    "])\n"
   ]
  },
  {
   "cell_type": "code",
   "execution_count": 78,
   "metadata": {},
   "outputs": [],
   "source": [
    "# model prep, optimizer and loss function\n",
    "optimizer = tf.keras.optimizers.Adam(learning_rate=0.0001)\n",
    "model.compile(optimizer, loss=tf.keras.losses.MeanSquaredError(),metrics=[tf.keras.metrics.RootMeanSquaredError()])\n"
   ]
  },
  {
   "cell_type": "code",
   "execution_count": 79,
   "metadata": {},
   "outputs": [],
   "source": [
    "# Training\n",
    "BATCH_SIZE = 1\n",
    "MAX_EPOCHS = 1000\n",
    "early_stopping = tf.keras.callbacks.EarlyStopping(patience=2)"
   ]
  },
  {
   "cell_type": "code",
   "execution_count": 80,
   "metadata": {},
   "outputs": [
    {
     "name": "stdout",
     "output_type": "stream",
     "text": [
      "Epoch 1/1000\n",
      "102/102 - 5s - loss: 0.7801 - root_mean_squared_error: 0.8832 - val_loss: 0.7270 - val_root_mean_squared_error: 0.8526 - 5s/epoch - 50ms/step\n",
      "Epoch 2/1000\n",
      "102/102 - 0s - loss: 0.7098 - root_mean_squared_error: 0.8425 - val_loss: 0.6554 - val_root_mean_squared_error: 0.8096 - 254ms/epoch - 2ms/step\n",
      "Epoch 3/1000\n",
      "102/102 - 0s - loss: 0.6373 - root_mean_squared_error: 0.7983 - val_loss: 0.5815 - val_root_mean_squared_error: 0.7626 - 256ms/epoch - 3ms/step\n",
      "Epoch 4/1000\n",
      "102/102 - 0s - loss: 0.5626 - root_mean_squared_error: 0.7501 - val_loss: 0.5057 - val_root_mean_squared_error: 0.7111 - 242ms/epoch - 2ms/step\n",
      "Epoch 5/1000\n",
      "102/102 - 0s - loss: 0.4877 - root_mean_squared_error: 0.6984 - val_loss: 0.4327 - val_root_mean_squared_error: 0.6578 - 256ms/epoch - 3ms/step\n",
      "Epoch 6/1000\n",
      "102/102 - 1s - loss: 0.4137 - root_mean_squared_error: 0.6432 - val_loss: 0.3612 - val_root_mean_squared_error: 0.6010 - 538ms/epoch - 5ms/step\n",
      "Epoch 7/1000\n",
      "102/102 - 0s - loss: 0.3424 - root_mean_squared_error: 0.5851 - val_loss: 0.2943 - val_root_mean_squared_error: 0.5425 - 293ms/epoch - 3ms/step\n",
      "Epoch 8/1000\n",
      "102/102 - 0s - loss: 0.2786 - root_mean_squared_error: 0.5278 - val_loss: 0.2381 - val_root_mean_squared_error: 0.4879 - 249ms/epoch - 2ms/step\n",
      "Epoch 9/1000\n",
      "102/102 - 1s - loss: 0.2254 - root_mean_squared_error: 0.4748 - val_loss: 0.1918 - val_root_mean_squared_error: 0.4379 - 613ms/epoch - 6ms/step\n",
      "Epoch 10/1000\n",
      "102/102 - 1s - loss: 0.1814 - root_mean_squared_error: 0.4259 - val_loss: 0.1537 - val_root_mean_squared_error: 0.3921 - 607ms/epoch - 6ms/step\n",
      "Epoch 11/1000\n",
      "102/102 - 0s - loss: 0.1451 - root_mean_squared_error: 0.3809 - val_loss: 0.1225 - val_root_mean_squared_error: 0.3500 - 270ms/epoch - 3ms/step\n",
      "Epoch 12/1000\n",
      "102/102 - 1s - loss: 0.1154 - root_mean_squared_error: 0.3397 - val_loss: 0.0971 - val_root_mean_squared_error: 0.3116 - 594ms/epoch - 6ms/step\n",
      "Epoch 13/1000\n",
      "102/102 - 0s - loss: 0.0912 - root_mean_squared_error: 0.3020 - val_loss: 0.0765 - val_root_mean_squared_error: 0.2767 - 305ms/epoch - 3ms/step\n",
      "Epoch 14/1000\n",
      "102/102 - 0s - loss: 0.0715 - root_mean_squared_error: 0.2673 - val_loss: 0.0600 - val_root_mean_squared_error: 0.2449 - 245ms/epoch - 2ms/step\n",
      "Epoch 15/1000\n",
      "102/102 - 0s - loss: 0.0556 - root_mean_squared_error: 0.2357 - val_loss: 0.0467 - val_root_mean_squared_error: 0.2162 - 250ms/epoch - 2ms/step\n",
      "Epoch 16/1000\n",
      "102/102 - 0s - loss: 0.0428 - root_mean_squared_error: 0.2070 - val_loss: 0.0362 - val_root_mean_squared_error: 0.1902 - 249ms/epoch - 2ms/step\n",
      "Epoch 17/1000\n",
      "102/102 - 0s - loss: 0.0328 - root_mean_squared_error: 0.1812 - val_loss: 0.0280 - val_root_mean_squared_error: 0.1673 - 321ms/epoch - 3ms/step\n",
      "Epoch 18/1000\n",
      "102/102 - 0s - loss: 0.0250 - root_mean_squared_error: 0.1580 - val_loss: 0.0218 - val_root_mean_squared_error: 0.1478 - 473ms/epoch - 5ms/step\n",
      "Epoch 19/1000\n",
      "102/102 - 0s - loss: 0.0190 - root_mean_squared_error: 0.1379 - val_loss: 0.0172 - val_root_mean_squared_error: 0.1312 - 478ms/epoch - 5ms/step\n",
      "Epoch 20/1000\n",
      "102/102 - 0s - loss: 0.0145 - root_mean_squared_error: 0.1206 - val_loss: 0.0138 - val_root_mean_squared_error: 0.1174 - 418ms/epoch - 4ms/step\n",
      "Epoch 21/1000\n",
      "102/102 - 1s - loss: 0.0112 - root_mean_squared_error: 0.1061 - val_loss: 0.0114 - val_root_mean_squared_error: 0.1066 - 516ms/epoch - 5ms/step\n",
      "Epoch 22/1000\n",
      "102/102 - 0s - loss: 0.0089 - root_mean_squared_error: 0.0943 - val_loss: 0.0097 - val_root_mean_squared_error: 0.0983 - 475ms/epoch - 5ms/step\n",
      "Epoch 23/1000\n",
      "102/102 - 0s - loss: 0.0072 - root_mean_squared_error: 0.0848 - val_loss: 0.0084 - val_root_mean_squared_error: 0.0919 - 479ms/epoch - 5ms/step\n",
      "Epoch 24/1000\n",
      "102/102 - 0s - loss: 0.0060 - root_mean_squared_error: 0.0775 - val_loss: 0.0076 - val_root_mean_squared_error: 0.0871 - 271ms/epoch - 3ms/step\n",
      "Epoch 25/1000\n",
      "102/102 - 0s - loss: 0.0051 - root_mean_squared_error: 0.0717 - val_loss: 0.0069 - val_root_mean_squared_error: 0.0831 - 262ms/epoch - 3ms/step\n",
      "Epoch 26/1000\n",
      "102/102 - 0s - loss: 0.0045 - root_mean_squared_error: 0.0669 - val_loss: 0.0063 - val_root_mean_squared_error: 0.0796 - 265ms/epoch - 3ms/step\n",
      "Epoch 27/1000\n",
      "102/102 - 0s - loss: 0.0040 - root_mean_squared_error: 0.0631 - val_loss: 0.0059 - val_root_mean_squared_error: 0.0769 - 271ms/epoch - 3ms/step\n",
      "Epoch 28/1000\n",
      "102/102 - 0s - loss: 0.0036 - root_mean_squared_error: 0.0600 - val_loss: 0.0055 - val_root_mean_squared_error: 0.0741 - 268ms/epoch - 3ms/step\n",
      "Epoch 29/1000\n",
      "102/102 - 0s - loss: 0.0033 - root_mean_squared_error: 0.0572 - val_loss: 0.0051 - val_root_mean_squared_error: 0.0716 - 266ms/epoch - 3ms/step\n",
      "Epoch 30/1000\n",
      "102/102 - 0s - loss: 0.0030 - root_mean_squared_error: 0.0546 - val_loss: 0.0048 - val_root_mean_squared_error: 0.0692 - 285ms/epoch - 3ms/step\n",
      "Epoch 31/1000\n",
      "102/102 - 0s - loss: 0.0027 - root_mean_squared_error: 0.0522 - val_loss: 0.0044 - val_root_mean_squared_error: 0.0667 - 275ms/epoch - 3ms/step\n",
      "Epoch 32/1000\n",
      "102/102 - 0s - loss: 0.0025 - root_mean_squared_error: 0.0501 - val_loss: 0.0042 - val_root_mean_squared_error: 0.0647 - 282ms/epoch - 3ms/step\n",
      "Epoch 33/1000\n",
      "102/102 - 0s - loss: 0.0023 - root_mean_squared_error: 0.0479 - val_loss: 0.0039 - val_root_mean_squared_error: 0.0621 - 275ms/epoch - 3ms/step\n",
      "Epoch 34/1000\n",
      "102/102 - 0s - loss: 0.0021 - root_mean_squared_error: 0.0459 - val_loss: 0.0036 - val_root_mean_squared_error: 0.0598 - 283ms/epoch - 3ms/step\n",
      "Epoch 35/1000\n",
      "102/102 - 0s - loss: 0.0019 - root_mean_squared_error: 0.0441 - val_loss: 0.0033 - val_root_mean_squared_error: 0.0579 - 264ms/epoch - 3ms/step\n",
      "Epoch 36/1000\n",
      "102/102 - 0s - loss: 0.0018 - root_mean_squared_error: 0.0421 - val_loss: 0.0031 - val_root_mean_squared_error: 0.0556 - 255ms/epoch - 2ms/step\n",
      "Epoch 37/1000\n",
      "102/102 - 0s - loss: 0.0016 - root_mean_squared_error: 0.0403 - val_loss: 0.0029 - val_root_mean_squared_error: 0.0541 - 268ms/epoch - 3ms/step\n",
      "Epoch 38/1000\n",
      "102/102 - 0s - loss: 0.0015 - root_mean_squared_error: 0.0385 - val_loss: 0.0026 - val_root_mean_squared_error: 0.0512 - 272ms/epoch - 3ms/step\n",
      "Epoch 39/1000\n",
      "102/102 - 0s - loss: 0.0014 - root_mean_squared_error: 0.0369 - val_loss: 0.0024 - val_root_mean_squared_error: 0.0493 - 257ms/epoch - 3ms/step\n",
      "Epoch 40/1000\n",
      "102/102 - 0s - loss: 0.0012 - root_mean_squared_error: 0.0353 - val_loss: 0.0022 - val_root_mean_squared_error: 0.0473 - 346ms/epoch - 3ms/step\n",
      "Epoch 41/1000\n",
      "102/102 - 0s - loss: 0.0011 - root_mean_squared_error: 0.0338 - val_loss: 0.0021 - val_root_mean_squared_error: 0.0455 - 255ms/epoch - 3ms/step\n",
      "Epoch 42/1000\n",
      "102/102 - 0s - loss: 0.0010 - root_mean_squared_error: 0.0324 - val_loss: 0.0019 - val_root_mean_squared_error: 0.0437 - 260ms/epoch - 3ms/step\n",
      "Epoch 43/1000\n",
      "102/102 - 0s - loss: 9.5629e-04 - root_mean_squared_error: 0.0309 - val_loss: 0.0018 - val_root_mean_squared_error: 0.0424 - 258ms/epoch - 3ms/step\n",
      "Epoch 44/1000\n",
      "102/102 - 0s - loss: 8.7933e-04 - root_mean_squared_error: 0.0297 - val_loss: 0.0016 - val_root_mean_squared_error: 0.0402 - 254ms/epoch - 2ms/step\n",
      "Epoch 45/1000\n",
      "102/102 - 0s - loss: 8.0156e-04 - root_mean_squared_error: 0.0283 - val_loss: 0.0015 - val_root_mean_squared_error: 0.0389 - 263ms/epoch - 3ms/step\n",
      "Epoch 46/1000\n",
      "102/102 - 0s - loss: 7.3280e-04 - root_mean_squared_error: 0.0271 - val_loss: 0.0014 - val_root_mean_squared_error: 0.0373 - 265ms/epoch - 3ms/step\n",
      "Epoch 47/1000\n",
      "102/102 - 0s - loss: 6.7506e-04 - root_mean_squared_error: 0.0260 - val_loss: 0.0013 - val_root_mean_squared_error: 0.0358 - 265ms/epoch - 3ms/step\n",
      "Epoch 48/1000\n",
      "102/102 - 0s - loss: 6.1820e-04 - root_mean_squared_error: 0.0249 - val_loss: 0.0012 - val_root_mean_squared_error: 0.0344 - 260ms/epoch - 3ms/step\n",
      "Epoch 49/1000\n",
      "102/102 - 0s - loss: 5.6932e-04 - root_mean_squared_error: 0.0239 - val_loss: 0.0011 - val_root_mean_squared_error: 0.0331 - 258ms/epoch - 3ms/step\n",
      "Epoch 50/1000\n",
      "102/102 - 0s - loss: 5.2444e-04 - root_mean_squared_error: 0.0229 - val_loss: 0.0010 - val_root_mean_squared_error: 0.0319 - 266ms/epoch - 3ms/step\n",
      "Epoch 51/1000\n",
      "102/102 - 0s - loss: 4.8367e-04 - root_mean_squared_error: 0.0220 - val_loss: 9.3946e-04 - val_root_mean_squared_error: 0.0307 - 267ms/epoch - 3ms/step\n",
      "Epoch 52/1000\n",
      "102/102 - 0s - loss: 4.4561e-04 - root_mean_squared_error: 0.0211 - val_loss: 8.5929e-04 - val_root_mean_squared_error: 0.0293 - 257ms/epoch - 3ms/step\n",
      "Epoch 53/1000\n",
      "102/102 - 0s - loss: 4.1660e-04 - root_mean_squared_error: 0.0204 - val_loss: 8.1346e-04 - val_root_mean_squared_error: 0.0285 - 277ms/epoch - 3ms/step\n",
      "Epoch 54/1000\n",
      "102/102 - 0s - loss: 3.8273e-04 - root_mean_squared_error: 0.0196 - val_loss: 7.5688e-04 - val_root_mean_squared_error: 0.0275 - 261ms/epoch - 3ms/step\n",
      "Epoch 55/1000\n",
      "102/102 - 0s - loss: 3.5440e-04 - root_mean_squared_error: 0.0188 - val_loss: 6.9576e-04 - val_root_mean_squared_error: 0.0264 - 265ms/epoch - 3ms/step\n",
      "Epoch 56/1000\n",
      "102/102 - 0s - loss: 3.3180e-04 - root_mean_squared_error: 0.0182 - val_loss: 6.5001e-04 - val_root_mean_squared_error: 0.0255 - 260ms/epoch - 3ms/step\n",
      "Epoch 57/1000\n",
      "102/102 - 0s - loss: 3.0957e-04 - root_mean_squared_error: 0.0176 - val_loss: 6.0100e-04 - val_root_mean_squared_error: 0.0245 - 255ms/epoch - 3ms/step\n",
      "Epoch 58/1000\n",
      "102/102 - 0s - loss: 2.8879e-04 - root_mean_squared_error: 0.0170 - val_loss: 5.6937e-04 - val_root_mean_squared_error: 0.0239 - 255ms/epoch - 3ms/step\n",
      "Epoch 59/1000\n",
      "102/102 - 0s - loss: 2.6947e-04 - root_mean_squared_error: 0.0164 - val_loss: 5.2822e-04 - val_root_mean_squared_error: 0.0230 - 262ms/epoch - 3ms/step\n",
      "Epoch 60/1000\n",
      "102/102 - 0s - loss: 2.5376e-04 - root_mean_squared_error: 0.0159 - val_loss: 5.2015e-04 - val_root_mean_squared_error: 0.0228 - 264ms/epoch - 3ms/step\n",
      "Epoch 61/1000\n",
      "102/102 - 0s - loss: 2.3820e-04 - root_mean_squared_error: 0.0154 - val_loss: 4.7060e-04 - val_root_mean_squared_error: 0.0217 - 252ms/epoch - 2ms/step\n",
      "Epoch 62/1000\n",
      "102/102 - 0s - loss: 2.2534e-04 - root_mean_squared_error: 0.0150 - val_loss: 4.3387e-04 - val_root_mean_squared_error: 0.0208 - 254ms/epoch - 2ms/step\n",
      "Epoch 63/1000\n",
      "102/102 - 0s - loss: 2.1119e-04 - root_mean_squared_error: 0.0145 - val_loss: 4.0872e-04 - val_root_mean_squared_error: 0.0202 - 262ms/epoch - 3ms/step\n",
      "Epoch 64/1000\n",
      "102/102 - 0s - loss: 1.9819e-04 - root_mean_squared_error: 0.0141 - val_loss: 3.8396e-04 - val_root_mean_squared_error: 0.0196 - 275ms/epoch - 3ms/step\n",
      "Epoch 65/1000\n",
      "102/102 - 0s - loss: 1.8661e-04 - root_mean_squared_error: 0.0137 - val_loss: 3.7957e-04 - val_root_mean_squared_error: 0.0195 - 258ms/epoch - 3ms/step\n",
      "Epoch 66/1000\n",
      "102/102 - 0s - loss: 1.7690e-04 - root_mean_squared_error: 0.0133 - val_loss: 3.3093e-04 - val_root_mean_squared_error: 0.0182 - 255ms/epoch - 3ms/step\n",
      "Epoch 67/1000\n",
      "102/102 - 0s - loss: 1.6961e-04 - root_mean_squared_error: 0.0130 - val_loss: 3.1138e-04 - val_root_mean_squared_error: 0.0176 - 266ms/epoch - 3ms/step\n",
      "Epoch 68/1000\n",
      "102/102 - 0s - loss: 1.5722e-04 - root_mean_squared_error: 0.0125 - val_loss: 3.0088e-04 - val_root_mean_squared_error: 0.0173 - 261ms/epoch - 3ms/step\n",
      "Epoch 69/1000\n",
      "102/102 - 0s - loss: 1.4996e-04 - root_mean_squared_error: 0.0122 - val_loss: 2.8180e-04 - val_root_mean_squared_error: 0.0168 - 257ms/epoch - 3ms/step\n",
      "Epoch 70/1000\n",
      "102/102 - 0s - loss: 1.4087e-04 - root_mean_squared_error: 0.0119 - val_loss: 2.6960e-04 - val_root_mean_squared_error: 0.0164 - 267ms/epoch - 3ms/step\n",
      "Epoch 71/1000\n",
      "102/102 - 0s - loss: 1.3378e-04 - root_mean_squared_error: 0.0116 - val_loss: 2.4725e-04 - val_root_mean_squared_error: 0.0157 - 324ms/epoch - 3ms/step\n",
      "Epoch 72/1000\n",
      "102/102 - 0s - loss: 1.2536e-04 - root_mean_squared_error: 0.0112 - val_loss: 2.4528e-04 - val_root_mean_squared_error: 0.0157 - 265ms/epoch - 3ms/step\n",
      "Epoch 73/1000\n",
      "102/102 - 0s - loss: 1.2018e-04 - root_mean_squared_error: 0.0110 - val_loss: 2.3424e-04 - val_root_mean_squared_error: 0.0153 - 255ms/epoch - 3ms/step\n",
      "Epoch 74/1000\n",
      "102/102 - 0s - loss: 1.1263e-04 - root_mean_squared_error: 0.0106 - val_loss: 2.1028e-04 - val_root_mean_squared_error: 0.0145 - 256ms/epoch - 3ms/step\n",
      "Epoch 75/1000\n",
      "102/102 - 0s - loss: 1.0643e-04 - root_mean_squared_error: 0.0103 - val_loss: 1.9759e-04 - val_root_mean_squared_error: 0.0141 - 275ms/epoch - 3ms/step\n",
      "Epoch 76/1000\n",
      "102/102 - 0s - loss: 1.0127e-04 - root_mean_squared_error: 0.0101 - val_loss: 1.8519e-04 - val_root_mean_squared_error: 0.0136 - 256ms/epoch - 3ms/step\n",
      "Epoch 77/1000\n",
      "102/102 - 0s - loss: 9.8164e-05 - root_mean_squared_error: 0.0099 - val_loss: 1.8532e-04 - val_root_mean_squared_error: 0.0136 - 272ms/epoch - 3ms/step\n",
      "Epoch 78/1000\n",
      "102/102 - 0s - loss: 9.3517e-05 - root_mean_squared_error: 0.0097 - val_loss: 1.7628e-04 - val_root_mean_squared_error: 0.0133 - 264ms/epoch - 3ms/step\n",
      "Epoch 79/1000\n",
      "102/102 - 0s - loss: 8.9630e-05 - root_mean_squared_error: 0.0095 - val_loss: 1.6929e-04 - val_root_mean_squared_error: 0.0130 - 269ms/epoch - 3ms/step\n",
      "Epoch 80/1000\n",
      "102/102 - 0s - loss: 8.4216e-05 - root_mean_squared_error: 0.0092 - val_loss: 1.6288e-04 - val_root_mean_squared_error: 0.0128 - 263ms/epoch - 3ms/step\n",
      "Epoch 81/1000\n",
      "102/102 - 0s - loss: 7.9872e-05 - root_mean_squared_error: 0.0089 - val_loss: 1.4770e-04 - val_root_mean_squared_error: 0.0122 - 259ms/epoch - 3ms/step\n",
      "Epoch 82/1000\n",
      "102/102 - 0s - loss: 7.7388e-05 - root_mean_squared_error: 0.0088 - val_loss: 1.4988e-04 - val_root_mean_squared_error: 0.0122 - 266ms/epoch - 3ms/step\n",
      "Epoch 83/1000\n",
      "102/102 - 0s - loss: 7.2981e-05 - root_mean_squared_error: 0.0085 - val_loss: 1.3109e-04 - val_root_mean_squared_error: 0.0114 - 253ms/epoch - 2ms/step\n",
      "Epoch 84/1000\n",
      "102/102 - 0s - loss: 7.1595e-05 - root_mean_squared_error: 0.0085 - val_loss: 1.2635e-04 - val_root_mean_squared_error: 0.0112 - 258ms/epoch - 3ms/step\n",
      "Epoch 85/1000\n",
      "102/102 - 0s - loss: 6.6288e-05 - root_mean_squared_error: 0.0081 - val_loss: 1.3641e-04 - val_root_mean_squared_error: 0.0117 - 259ms/epoch - 3ms/step\n",
      "Epoch 86/1000\n",
      "102/102 - 0s - loss: 6.5614e-05 - root_mean_squared_error: 0.0081 - val_loss: 1.2522e-04 - val_root_mean_squared_error: 0.0112 - 258ms/epoch - 3ms/step\n",
      "Epoch 87/1000\n",
      "102/102 - 0s - loss: 6.2739e-05 - root_mean_squared_error: 0.0079 - val_loss: 1.2020e-04 - val_root_mean_squared_error: 0.0110 - 250ms/epoch - 2ms/step\n",
      "Epoch 88/1000\n",
      "102/102 - 0s - loss: 5.9018e-05 - root_mean_squared_error: 0.0077 - val_loss: 1.0868e-04 - val_root_mean_squared_error: 0.0104 - 252ms/epoch - 2ms/step\n",
      "Epoch 89/1000\n",
      "102/102 - 0s - loss: 5.6855e-05 - root_mean_squared_error: 0.0075 - val_loss: 1.2170e-04 - val_root_mean_squared_error: 0.0110 - 251ms/epoch - 2ms/step\n",
      "Epoch 90/1000\n",
      "102/102 - 0s - loss: 5.4535e-05 - root_mean_squared_error: 0.0074 - val_loss: 1.0117e-04 - val_root_mean_squared_error: 0.0101 - 249ms/epoch - 2ms/step\n",
      "Epoch 91/1000\n",
      "102/102 - 0s - loss: 5.4574e-05 - root_mean_squared_error: 0.0074 - val_loss: 9.9783e-05 - val_root_mean_squared_error: 0.0100 - 260ms/epoch - 3ms/step\n",
      "Epoch 92/1000\n",
      "102/102 - 0s - loss: 5.1232e-05 - root_mean_squared_error: 0.0072 - val_loss: 1.0038e-04 - val_root_mean_squared_error: 0.0100 - 254ms/epoch - 2ms/step\n",
      "Epoch 93/1000\n",
      "102/102 - 0s - loss: 4.9171e-05 - root_mean_squared_error: 0.0070 - val_loss: 9.6073e-05 - val_root_mean_squared_error: 0.0098 - 250ms/epoch - 2ms/step\n",
      "Epoch 94/1000\n",
      "102/102 - 0s - loss: 4.8750e-05 - root_mean_squared_error: 0.0070 - val_loss: 8.1855e-05 - val_root_mean_squared_error: 0.0090 - 261ms/epoch - 3ms/step\n",
      "Epoch 95/1000\n",
      "102/102 - 0s - loss: 4.8156e-05 - root_mean_squared_error: 0.0069 - val_loss: 8.0450e-05 - val_root_mean_squared_error: 0.0090 - 254ms/epoch - 2ms/step\n",
      "Epoch 96/1000\n",
      "102/102 - 0s - loss: 4.4414e-05 - root_mean_squared_error: 0.0067 - val_loss: 8.0323e-05 - val_root_mean_squared_error: 0.0090 - 257ms/epoch - 3ms/step\n",
      "Epoch 97/1000\n",
      "102/102 - 0s - loss: 4.2392e-05 - root_mean_squared_error: 0.0065 - val_loss: 8.5556e-05 - val_root_mean_squared_error: 0.0092 - 253ms/epoch - 2ms/step\n",
      "Epoch 98/1000\n",
      "102/102 - 0s - loss: 4.1480e-05 - root_mean_squared_error: 0.0064 - val_loss: 7.8512e-05 - val_root_mean_squared_error: 0.0089 - 252ms/epoch - 2ms/step\n",
      "Epoch 99/1000\n",
      "102/102 - 0s - loss: 3.9820e-05 - root_mean_squared_error: 0.0063 - val_loss: 8.3311e-05 - val_root_mean_squared_error: 0.0091 - 257ms/epoch - 3ms/step\n",
      "Epoch 100/1000\n",
      "102/102 - 0s - loss: 3.8328e-05 - root_mean_squared_error: 0.0062 - val_loss: 6.8214e-05 - val_root_mean_squared_error: 0.0083 - 251ms/epoch - 2ms/step\n",
      "Epoch 101/1000\n",
      "102/102 - 0s - loss: 3.7674e-05 - root_mean_squared_error: 0.0061 - val_loss: 7.5077e-05 - val_root_mean_squared_error: 0.0087 - 259ms/epoch - 3ms/step\n",
      "Epoch 102/1000\n",
      "102/102 - 0s - loss: 3.6803e-05 - root_mean_squared_error: 0.0061 - val_loss: 8.3893e-05 - val_root_mean_squared_error: 0.0092 - 258ms/epoch - 3ms/step\n"
     ]
    }
   ],
   "source": [
    "# fit the model\n",
    "history = model.fit(\n",
    "    train_inputs, train_targets, batch_size=BATCH_SIZE,epochs=MAX_EPOCHS, callbacks=[early_stopping], validation_data=(validation_inputs, validation_targets), verbose=2\n",
    "          )"
   ]
  },
  {
   "cell_type": "code",
   "execution_count": 81,
   "metadata": {},
   "outputs": [
    {
     "name": "stdout",
     "output_type": "stream",
     "text": [
      "Model: \"sequential_4\"\n",
      "_________________________________________________________________\n",
      " Layer (type)                Output Shape              Param #   \n",
      "=================================================================\n",
      " dense_20 (Dense)            (1, 3)                    12        \n",
      "                                                                 \n",
      " dense_21 (Dense)            (1, 10)                   40        \n",
      "                                                                 \n",
      " dense_22 (Dense)            (1, 10)                   110       \n",
      "                                                                 \n",
      " dense_23 (Dense)            (1, 10)                   110       \n",
      "                                                                 \n",
      " dense_24 (Dense)            (1, 2)                    22        \n",
      "                                                                 \n",
      "=================================================================\n",
      "Total params: 294\n",
      "Trainable params: 294\n",
      "Non-trainable params: 0\n",
      "_________________________________________________________________\n"
     ]
    }
   ],
   "source": [
    "# ANN model summary\n",
    "model.summary()"
   ]
  },
  {
   "cell_type": "code",
   "execution_count": 82,
   "metadata": {},
   "outputs": [
    {
     "data": {
      "image/png": "[encoded data removed]",
      "text/plain": [
       "<Figure size 640x480 with 1 Axes>"
      ]
     },
     "metadata": {},
     "output_type": "display_data"
    }
   ],
   "source": [
    "import matplotlib.pyplot as plt\n",
    "plt.plot(history.history['loss'], label='Training_loss')\n",
    "plt.plot(history.history['val_loss'], label='Validation_loss')\n",
    "plt.xlabel('epochs')\n",
    "plt.ylabel('loss')\n",
    "plt.legend()\n",
    "plt.show()"
   ]
  },
  {
   "cell_type": "markdown",
   "metadata": {},
   "source": [
    "# Model check on Test data"
   ]
  },
  {
   "cell_type": "code",
   "execution_count": 83,
   "metadata": {},
   "outputs": [
    {
     "name": "stdout",
     "output_type": "stream",
     "text": [
      "1/1 [==============================] - 0s 223ms/step - loss: 2.9518e-05 - root_mean_squared_error: 0.0054\n"
     ]
    }
   ],
   "source": [
    "test_loss, test_accuracy = model.evaluate(test_inputs, test_targets)"
   ]
  },
  {
   "cell_type": "code",
   "execution_count": 84,
   "metadata": {},
   "outputs": [
    {
     "name": "stdout",
     "output_type": "stream",
     "text": [
      "\n",
      "Test loss: 0.0000. Test accuracy: 0.0054 rmse\n"
     ]
    }
   ],
   "source": [
    "print('\\nTest loss: {0:.4f}. Test accuracy: {1:.4f} rmse'.format(test_loss, test_accuracy))"
   ]
  },
  {
   "cell_type": "code",
   "execution_count": 85,
   "metadata": {},
   "outputs": [
    {
     "name": "stdout",
     "output_type": "stream",
     "text": [
      "WARNING:tensorflow:5 out of the last 5 calls to <function Model.make_predict_function.<locals>.predict_function at 0x152ad1dc0> triggered tf.function retracing. Tracing is expensive and the excessive number of tracings could be due to (1) creating @tf.function repeatedly in a loop, (2) passing tensors with different shapes, (3) passing Python objects instead of tensors. For (1), please define your @tf.function outside of the loop. For (2), @tf.function has reduce_retracing=True option that can avoid unnecessary retracing. For (3), please refer to https://www.tensorflow.org/guide/function#controlling_retracing and https://www.tensorflow.org/api_docs/python/tf/function for  more details.\n",
      "1/1 [==============================] - 0s 147ms/step\n"
     ]
    },
    {
     "data": {
      "text/html": [
       "<div>\n",
       "<style scoped>\n",
       "    .dataframe tbody tr th:only-of-type {\n",
       "        vertical-align: middle;\n",
       "    }\n",
       "\n",
       "    .dataframe tbody tr th {\n",
       "        vertical-align: top;\n",
       "    }\n",
       "\n",
       "    .dataframe thead th {\n",
       "        text-align: right;\n",
       "    }\n",
       "</style>\n",
       "<table border=\"1\" class=\"dataframe\">\n",
       "  <thead>\n",
       "    <tr style=\"text-align: right;\">\n",
       "      <th></th>\n",
       "      <th>Target-St(%)</th>\n",
       "      <th>Target-R(%)</th>\n",
       "      <th>Prediction-St(%)</th>\n",
       "      <th>Prediction-R(%)</th>\n",
       "      <th>Pred-Accu-St(%)</th>\n",
       "      <th>Pred-Accu-R(%)</th>\n",
       "    </tr>\n",
       "  </thead>\n",
       "  <tbody>\n",
       "    <tr>\n",
       "      <th>0</th>\n",
       "      <td>0.938767</td>\n",
       "      <td>0.947619</td>\n",
       "      <td>0.944971</td>\n",
       "      <td>0.955338</td>\n",
       "      <td>100.660845</td>\n",
       "      <td>100.814555</td>\n",
       "    </tr>\n",
       "    <tr>\n",
       "      <th>1</th>\n",
       "      <td>0.979012</td>\n",
       "      <td>0.987826</td>\n",
       "      <td>0.976985</td>\n",
       "      <td>0.991221</td>\n",
       "      <td>99.792936</td>\n",
       "      <td>100.343675</td>\n",
       "    </tr>\n",
       "    <tr>\n",
       "      <th>2</th>\n",
       "      <td>0.966854</td>\n",
       "      <td>0.975332</td>\n",
       "      <td>0.969434</td>\n",
       "      <td>0.983572</td>\n",
       "      <td>100.266839</td>\n",
       "      <td>100.844865</td>\n",
       "    </tr>\n",
       "    <tr>\n",
       "      <th>3</th>\n",
       "      <td>0.983239</td>\n",
       "      <td>0.979754</td>\n",
       "      <td>0.980339</td>\n",
       "      <td>0.976615</td>\n",
       "      <td>99.705032</td>\n",
       "      <td>99.679631</td>\n",
       "    </tr>\n",
       "    <tr>\n",
       "      <th>4</th>\n",
       "      <td>0.999646</td>\n",
       "      <td>1.000000</td>\n",
       "      <td>1.006230</td>\n",
       "      <td>1.006295</td>\n",
       "      <td>100.658618</td>\n",
       "      <td>100.629508</td>\n",
       "    </tr>\n",
       "    <tr>\n",
       "      <th>5</th>\n",
       "      <td>0.990412</td>\n",
       "      <td>1.000000</td>\n",
       "      <td>0.987198</td>\n",
       "      <td>0.998730</td>\n",
       "      <td>99.675549</td>\n",
       "      <td>99.873048</td>\n",
       "    </tr>\n",
       "    <tr>\n",
       "      <th>6</th>\n",
       "      <td>0.991350</td>\n",
       "      <td>0.987596</td>\n",
       "      <td>0.984267</td>\n",
       "      <td>0.981966</td>\n",
       "      <td>99.285484</td>\n",
       "      <td>99.429900</td>\n",
       "    </tr>\n",
       "    <tr>\n",
       "      <th>7</th>\n",
       "      <td>0.976922</td>\n",
       "      <td>0.980144</td>\n",
       "      <td>0.980339</td>\n",
       "      <td>0.976615</td>\n",
       "      <td>100.349793</td>\n",
       "      <td>99.639942</td>\n",
       "    </tr>\n",
       "    <tr>\n",
       "      <th>8</th>\n",
       "      <td>0.977105</td>\n",
       "      <td>0.979754</td>\n",
       "      <td>0.973831</td>\n",
       "      <td>0.966876</td>\n",
       "      <td>99.664900</td>\n",
       "      <td>98.685541</td>\n",
       "    </tr>\n",
       "    <tr>\n",
       "      <th>9</th>\n",
       "      <td>0.939463</td>\n",
       "      <td>0.947287</td>\n",
       "      <td>0.934684</td>\n",
       "      <td>0.948210</td>\n",
       "      <td>99.491256</td>\n",
       "      <td>100.097457</td>\n",
       "    </tr>\n",
       "    <tr>\n",
       "      <th>10</th>\n",
       "      <td>0.997296</td>\n",
       "      <td>1.000000</td>\n",
       "      <td>1.002878</td>\n",
       "      <td>1.005104</td>\n",
       "      <td>100.559668</td>\n",
       "      <td>100.510383</td>\n",
       "    </tr>\n",
       "    <tr>\n",
       "      <th>11</th>\n",
       "      <td>0.990911</td>\n",
       "      <td>1.000000</td>\n",
       "      <td>0.987198</td>\n",
       "      <td>0.998730</td>\n",
       "      <td>99.625388</td>\n",
       "      <td>99.873048</td>\n",
       "    </tr>\n",
       "    <tr>\n",
       "      <th>12</th>\n",
       "      <td>0.985184</td>\n",
       "      <td>0.984421</td>\n",
       "      <td>0.992156</td>\n",
       "      <td>0.990630</td>\n",
       "      <td>100.707679</td>\n",
       "      <td>100.630762</td>\n",
       "    </tr>\n",
       "  </tbody>\n",
       "</table>\n",
       "</div>"
      ],
      "text/plain": [
       "    Target-St(%)  Target-R(%)  Prediction-St(%)  Prediction-R(%)  \\\n",
       "0       0.938767     0.947619          0.944971         0.955338   \n",
       "1       0.979012     0.987826          0.976985         0.991221   \n",
       "2       0.966854     0.975332          0.969434         0.983572   \n",
       "3       0.983239     0.979754          0.980339         0.976615   \n",
       "4       0.999646     1.000000          1.006230         1.006295   \n",
       "5       0.990412     1.000000          0.987198         0.998730   \n",
       "6       0.991350     0.987596          0.984267         0.981966   \n",
       "7       0.976922     0.980144          0.980339         0.976615   \n",
       "8       0.977105     0.979754          0.973831         0.966876   \n",
       "9       0.939463     0.947287          0.934684         0.948210   \n",
       "10      0.997296     1.000000          1.002878         1.005104   \n",
       "11      0.990911     1.000000          0.987198         0.998730   \n",
       "12      0.985184     0.984421          0.992156         0.990630   \n",
       "\n",
       "    Pred-Accu-St(%)  Pred-Accu-R(%)  \n",
       "0        100.660845      100.814555  \n",
       "1         99.792936      100.343675  \n",
       "2        100.266839      100.844865  \n",
       "3         99.705032       99.679631  \n",
       "4        100.658618      100.629508  \n",
       "5         99.675549       99.873048  \n",
       "6         99.285484       99.429900  \n",
       "7        100.349793       99.639942  \n",
       "8         99.664900       98.685541  \n",
       "9         99.491256      100.097457  \n",
       "10       100.559668      100.510383  \n",
       "11        99.625388       99.873048  \n",
       "12       100.707679      100.630762  "
      ]
     },
     "execution_count": 85,
     "metadata": {},
     "output_type": "execute_result"
    }
   ],
   "source": [
    "prediction = model.predict(test_inputs)\n",
    "data_inputs = pd.DataFrame(test_inputs)\n",
    "prediction = pd.DataFrame(prediction)\n",
    "test_targets = pd.DataFrame(test_targets)\n",
    "pred_accu = (prediction/test_targets)*100\n",
    "\n",
    "result = pd.concat([test_targets, prediction, pred_accu], axis = 1, ignore_index=True)\n",
    "result.columns = ['Target-St(%)', 'Target-R(%)', 'Prediction-St(%)','Prediction-R(%)','Pred-Accu-St(%)','Pred-Accu-R(%)']\n",
    "result"
   ]
  },
  {
   "cell_type": "code",
   "execution_count": 86,
   "metadata": {},
   "outputs": [
    {
     "data": {
      "text/plain": [
       "Text(0.5, 0, 'Targets (red) & Predictions (blue)')"
      ]
     },
     "execution_count": 86,
     "metadata": {},
     "output_type": "execute_result"
    },
    {
     "data": {
      "image/png": "[encoded data removed]",
      "text/plain": [
       "<Figure size 640x480 with 1 Axes>"
      ]
     },
     "metadata": {},
     "output_type": "display_data"
    }
   ],
   "source": [
    "plt.scatter(result['Target-St(%)'], result['Pred-Accu-St(%)'], color='r')\n",
    "plt.scatter(result['Prediction-St(%)'], result['Pred-Accu-St(%)'], color='b')\n",
    "plt.ylabel('Deviation in prediction St-Total(%)')\n",
    "plt.xlabel('Targets (red) & Predictions (blue)')\n"
   ]
  },
  {
   "cell_type": "code",
   "execution_count": 87,
   "metadata": {},
   "outputs": [
    {
     "data": {
      "text/plain": [
       "Text(0.5, 0, 'Targets (red) & Predictions (blue)')"
      ]
     },
     "execution_count": 87,
     "metadata": {},
     "output_type": "execute_result"
    },
    {
     "data": {
      "image/png": "[encoded data removed]",
      "text/plain": [
       "<Figure size 640x480 with 1 Axes>"
      ]
     },
     "metadata": {},
     "output_type": "display_data"
    }
   ],
   "source": [
    "plt.scatter(result['Target-R(%)'], result['Pred-Accu-R(%)'], color='r')\n",
    "plt.scatter(result['Prediction-R(%)'], result['Pred-Accu-R(%)'], color='b')\n",
    "plt.ylabel('Deviation in prediction Reference(%)')\n",
    "plt.xlabel('Targets (red) & Predictions (blue)')\n"
   ]
  },
  {
   "cell_type": "code",
   "execution_count": 88,
   "metadata": {},
   "outputs": [
    {
     "data": {
      "text/plain": [
       "0.9058545170731729"
      ]
     },
     "execution_count": 88,
     "metadata": {},
     "output_type": "execute_result"
    }
   ],
   "source": [
    "# estimation of R2 score\n",
    "from sklearn.metrics import r2_score\n",
    "r2_score_test = r2_score(test_targets, prediction)\n",
    "r2_score_test"
   ]
  },
  {
   "cell_type": "code",
   "execution_count": 89,
   "metadata": {},
   "outputs": [
    {
     "data": {
      "text/plain": [
       "0.8930164966740601"
      ]
     },
     "execution_count": 89,
     "metadata": {},
     "output_type": "execute_result"
    }
   ],
   "source": [
    "# estimation of adjusted R2 score\n",
    "n = np.size(test_targets)\n",
    "k = 3 # number of features\n",
    "adj_r2_score = 1 - (((1-r2_score_test)*(n-1))/((n-k-1)))\n",
    "adj_r2_score"
   ]
  },
  {
   "cell_type": "code",
   "execution_count": 90,
   "metadata": {},
   "outputs": [
    {
     "name": "stdout",
     "output_type": "stream",
     "text": [
      "Uncertainty of the ANN model: 0.51 [%]\n",
      "Average test prediction precision 99.49 [%]\n"
     ]
    }
   ],
   "source": [
    "mean_pred = pred_accu.mean()\n",
    "std_pred = pred_accu.std()\n",
    "uncertainty_model = std_pred\n",
    "print(\"Uncertainty of the ANN model:\", np.round(uncertainty_model[0],2), '[%]')\n",
    "print(\"Average test prediction precision\", np.round(100 - uncertainty_model[0],2), '[%]')"
   ]
  },
  {
   "cell_type": "markdown",
   "metadata": {},
   "source": [
    "# ANN Model Deployment"
   ]
  },
  {
   "cell_type": "markdown",
   "metadata": {},
   "source": [
    "ANN model deployment for micro DSC error prediction"
   ]
  },
  {
   "cell_type": "code",
   "execution_count": 91,
   "metadata": {},
   "outputs": [],
   "source": [
    "import keras\n",
    "model.save('micro_dsc_dl.h5')"
   ]
  },
  {
   "cell_type": "code",
   "execution_count": null,
   "metadata": {},
   "outputs": [],
   "source": []
  }
 ],
 "metadata": {
  "kernelspec": {
   "display_name": ".venv",
   "language": "python",
   "name": "python3"
  },
  "language_info": {
   "codemirror_mode": {
    "name": "ipython",
    "version": 3
   },
   "file_extension": ".py",
   "mimetype": "text/x-python",
   "name": "python",
   "nbconvert_exporter": "python",
   "pygments_lexer": "ipython3",
   "version": "3.8.9"
  },
  "orig_nbformat": 4,
  "vscode": {
   "interpreter": {
    "hash": "795fce77f85a68c42812bdf3641cf800dca9a871e04df385e26cc90e90697f34"
   }
  }
 },
 "nbformat": 4,
 "nbformat_minor": 2
}
