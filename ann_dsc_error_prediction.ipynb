{
 "cells": [
  {
   "attachments": {},
   "cell_type": "markdown",
   "metadata": {},
   "source": [
    "# ANN Model"
   ]
  },
  {
   "cell_type": "code",
   "execution_count": 1,
   "metadata": {},
   "outputs": [
    {
     "name": "stderr",
     "output_type": "stream",
     "text": [
      "2023-01-06 11:00:10.776454: I tensorflow/core/platform/cpu_feature_guard.cc:193] This TensorFlow binary is optimized with oneAPI Deep Neural Network Library (oneDNN) to use the following CPU instructions in performance-critical operations:  AVX2 FMA\n",
      "To enable them in other operations, rebuild TensorFlow with the appropriate compiler flags.\n",
      "2023-01-06 11:00:10.887877: W tensorflow/compiler/xla/stream_executor/platform/default/dso_loader.cc:64] Could not load dynamic library 'libcudart.so.11.0'; dlerror: libcudart.so.11.0: cannot open shared object file: No such file or directory\n",
      "2023-01-06 11:00:10.887893: I tensorflow/compiler/xla/stream_executor/cuda/cudart_stub.cc:29] Ignore above cudart dlerror if you do not have a GPU set up on your machine.\n",
      "2023-01-06 11:00:11.530835: W tensorflow/compiler/xla/stream_executor/platform/default/dso_loader.cc:64] Could not load dynamic library 'libnvinfer.so.7'; dlerror: libnvinfer.so.7: cannot open shared object file: No such file or directory\n",
      "2023-01-06 11:00:11.530901: W tensorflow/compiler/xla/stream_executor/platform/default/dso_loader.cc:64] Could not load dynamic library 'libnvinfer_plugin.so.7'; dlerror: libnvinfer_plugin.so.7: cannot open shared object file: No such file or directory\n",
      "2023-01-06 11:00:11.530907: W tensorflow/compiler/tf2tensorrt/utils/py_utils.cc:38] TF-TRT Warning: Cannot dlopen some TensorRT libraries. If you would like to use Nvidia GPU with TensorRT, please make sure the missing libraries mentioned above are installed properly.\n"
     ]
    }
   ],
   "source": [
    "import numpy as np\n",
    "import pandas as pd\n",
    "import tensorflow as tf"
   ]
  },
  {
   "cell_type": "code",
   "execution_count": 2,
   "metadata": {},
   "outputs": [],
   "source": [
    "# data loading from .npz generated from tcr_data_process.ipynb\n",
    "# loading train data\n",
    "npz = np.load('data_train.npz')\n",
    "train_inputs = npz['input'].astype(np.float64)\n",
    "train_targets = npz['targets'].astype(np.float64)\n",
    "# loading validation data\n",
    "npz = np.load('data_validation.npz')\n",
    "validation_inputs, validation_targets = npz['input'].astype(np.float64), npz['targets'].astype(np.float64)\n",
    "\n",
    "npz = np.load('data_test.npz')\n",
    "test_inputs, test_targets = npz['input'].astype(np.float64), npz['targets'].astype(np.float64)"
   ]
  },
  {
   "cell_type": "markdown",
   "metadata": {},
   "source": [
    "# ANN Model"
   ]
  },
  {
   "cell_type": "markdown",
   "metadata": {},
   "source": [
    "Outline, Optimizer, Loss function, Early stopping and Training rate"
   ]
  },
  {
   "cell_type": "code",
   "execution_count": 3,
   "metadata": {},
   "outputs": [
    {
     "name": "stderr",
     "output_type": "stream",
     "text": [
      "2023-01-06 11:00:12.272667: W tensorflow/compiler/xla/stream_executor/platform/default/dso_loader.cc:64] Could not load dynamic library 'libcuda.so.1'; dlerror: libcuda.so.1: cannot open shared object file: No such file or directory\n",
      "2023-01-06 11:00:12.272688: W tensorflow/compiler/xla/stream_executor/cuda/cuda_driver.cc:265] failed call to cuInit: UNKNOWN ERROR (303)\n",
      "2023-01-06 11:00:12.272704: I tensorflow/compiler/xla/stream_executor/cuda/cuda_diagnostics.cc:156] kernel driver does not appear to be running on this host (uchp-parmar.icpf.cas.cz): /proc/driver/nvidia/version does not exist\n",
      "2023-01-06 11:00:12.272893: I tensorflow/core/platform/cpu_feature_guard.cc:193] This TensorFlow binary is optimized with oneAPI Deep Neural Network Library (oneDNN) to use the following CPU instructions in performance-critical operations:  AVX2 FMA\n",
      "To enable them in other operations, rebuild TensorFlow with the appropriate compiler flags.\n"
     ]
    }
   ],
   "source": [
    "# NN model prep\n",
    "input_size = 3\n",
    "output_size = 1\n",
    "hidden_layer_1_size = 10\n",
    "hidden_layer_2_size = 10\n",
    "hidden_layer_3_size = 10\n",
    "\n",
    "model = tf.keras.Sequential([\n",
    "    tf.keras.layers.Dense(input_size),\n",
    "    tf.keras.layers.Dense(hidden_layer_1_size, activation='relu'),\n",
    "    tf.keras.layers.Dense(hidden_layer_2_size, activation='relu'),\n",
    "    tf.keras.layers.Dense(hidden_layer_3_size, activation='sigmoid'),\n",
    "    tf.keras.layers.Dense(output_size, activation='linear')\n",
    "])\n"
   ]
  },
  {
   "cell_type": "code",
   "execution_count": 4,
   "metadata": {},
   "outputs": [],
   "source": [
    "# model prep, optimizer and loss function\n",
    "optimizer = tf.keras.optimizers.Adam(learning_rate=0.00001)\n",
    "model.compile(optimizer, loss=tf.keras.losses.MeanSquaredError(),metrics=[tf.keras.metrics.RootMeanSquaredError()])\n"
   ]
  },
  {
   "cell_type": "code",
   "execution_count": 5,
   "metadata": {},
   "outputs": [],
   "source": [
    "# Training\n",
    "BATCH_SIZE = 1\n",
    "MAX_EPOCHS = 1000\n",
    "early_stopping = tf.keras.callbacks.EarlyStopping(patience=2)"
   ]
  },
  {
   "cell_type": "code",
   "execution_count": 6,
   "metadata": {},
   "outputs": [
    {
     "name": "stdout",
     "output_type": "stream",
     "text": [
      "Epoch 1/1000\n",
      "640/640 - 1s - loss: 1.3673 - root_mean_squared_error: 1.1693 - val_loss: 1.3052 - val_root_mean_squared_error: 1.1425 - 1s/epoch - 2ms/step\n",
      "Epoch 2/1000\n",
      "640/640 - 1s - loss: 1.2544 - root_mean_squared_error: 1.1200 - val_loss: 1.1965 - val_root_mean_squared_error: 1.0938 - 565ms/epoch - 883us/step\n",
      "Epoch 3/1000\n",
      "640/640 - 1s - loss: 1.1499 - root_mean_squared_error: 1.0723 - val_loss: 1.0956 - val_root_mean_squared_error: 1.0467 - 678ms/epoch - 1ms/step\n",
      "Epoch 4/1000\n",
      "640/640 - 1s - loss: 1.0519 - root_mean_squared_error: 1.0256 - val_loss: 1.0008 - val_root_mean_squared_error: 1.0004 - 668ms/epoch - 1ms/step\n",
      "Epoch 5/1000\n",
      "640/640 - 1s - loss: 0.9594 - root_mean_squared_error: 0.9795 - val_loss: 0.9110 - val_root_mean_squared_error: 0.9545 - 551ms/epoch - 860us/step\n",
      "Epoch 6/1000\n",
      "640/640 - 1s - loss: 0.8720 - root_mean_squared_error: 0.9338 - val_loss: 0.8263 - val_root_mean_squared_error: 0.9090 - 593ms/epoch - 926us/step\n",
      "Epoch 7/1000\n",
      "640/640 - 1s - loss: 0.7895 - root_mean_squared_error: 0.8885 - val_loss: 0.7465 - val_root_mean_squared_error: 0.8640 - 594ms/epoch - 929us/step\n",
      "Epoch 8/1000\n",
      "640/640 - 1s - loss: 0.7117 - root_mean_squared_error: 0.8436 - val_loss: 0.6712 - val_root_mean_squared_error: 0.8193 - 629ms/epoch - 982us/step\n",
      "Epoch 9/1000\n",
      "640/640 - 1s - loss: 0.6380 - root_mean_squared_error: 0.7987 - val_loss: 0.6005 - val_root_mean_squared_error: 0.7749 - 632ms/epoch - 987us/step\n",
      "Epoch 10/1000\n",
      "640/640 - 1s - loss: 0.5687 - root_mean_squared_error: 0.7541 - val_loss: 0.5341 - val_root_mean_squared_error: 0.7308 - 616ms/epoch - 962us/step\n",
      "Epoch 11/1000\n",
      "640/640 - 1s - loss: 0.5034 - root_mean_squared_error: 0.7095 - val_loss: 0.4716 - val_root_mean_squared_error: 0.6867 - 554ms/epoch - 866us/step\n",
      "Epoch 12/1000\n",
      "640/640 - 1s - loss: 0.4424 - root_mean_squared_error: 0.6651 - val_loss: 0.4133 - val_root_mean_squared_error: 0.6429 - 621ms/epoch - 971us/step\n",
      "Epoch 13/1000\n",
      "640/640 - 1s - loss: 0.3855 - root_mean_squared_error: 0.6209 - val_loss: 0.3584 - val_root_mean_squared_error: 0.5987 - 610ms/epoch - 954us/step\n",
      "Epoch 14/1000\n",
      "640/640 - 1s - loss: 0.3316 - root_mean_squared_error: 0.5758 - val_loss: 0.3059 - val_root_mean_squared_error: 0.5531 - 603ms/epoch - 942us/step\n",
      "Epoch 15/1000\n",
      "640/640 - 1s - loss: 0.2814 - root_mean_squared_error: 0.5304 - val_loss: 0.2578 - val_root_mean_squared_error: 0.5077 - 597ms/epoch - 932us/step\n",
      "Epoch 16/1000\n",
      "640/640 - 1s - loss: 0.2353 - root_mean_squared_error: 0.4851 - val_loss: 0.2140 - val_root_mean_squared_error: 0.4627 - 598ms/epoch - 935us/step\n",
      "Epoch 17/1000\n",
      "640/640 - 1s - loss: 0.1938 - root_mean_squared_error: 0.4402 - val_loss: 0.1748 - val_root_mean_squared_error: 0.4181 - 591ms/epoch - 923us/step\n",
      "Epoch 18/1000\n",
      "640/640 - 1s - loss: 0.1565 - root_mean_squared_error: 0.3957 - val_loss: 0.1401 - val_root_mean_squared_error: 0.3743 - 562ms/epoch - 877us/step\n",
      "Epoch 19/1000\n",
      "640/640 - 1s - loss: 0.1239 - root_mean_squared_error: 0.3520 - val_loss: 0.1099 - val_root_mean_squared_error: 0.3315 - 571ms/epoch - 892us/step\n",
      "Epoch 20/1000\n",
      "640/640 - 1s - loss: 0.0958 - root_mean_squared_error: 0.3096 - val_loss: 0.0841 - val_root_mean_squared_error: 0.2899 - 548ms/epoch - 856us/step\n",
      "Epoch 21/1000\n",
      "640/640 - 1s - loss: 0.0721 - root_mean_squared_error: 0.2685 - val_loss: 0.0625 - val_root_mean_squared_error: 0.2500 - 546ms/epoch - 853us/step\n",
      "Epoch 22/1000\n",
      "640/640 - 1s - loss: 0.0526 - root_mean_squared_error: 0.2293 - val_loss: 0.0451 - val_root_mean_squared_error: 0.2123 - 546ms/epoch - 853us/step\n",
      "Epoch 23/1000\n",
      "640/640 - 1s - loss: 0.0370 - root_mean_squared_error: 0.1923 - val_loss: 0.0315 - val_root_mean_squared_error: 0.1774 - 563ms/epoch - 879us/step\n",
      "Epoch 24/1000\n",
      "640/640 - 1s - loss: 0.0252 - root_mean_squared_error: 0.1587 - val_loss: 0.0215 - val_root_mean_squared_error: 0.1465 - 597ms/epoch - 934us/step\n",
      "Epoch 25/1000\n",
      "640/640 - 1s - loss: 0.0168 - root_mean_squared_error: 0.1295 - val_loss: 0.0145 - val_root_mean_squared_error: 0.1206 - 633ms/epoch - 988us/step\n",
      "Epoch 26/1000\n",
      "640/640 - 1s - loss: 0.0112 - root_mean_squared_error: 0.1057 - val_loss: 0.0101 - val_root_mean_squared_error: 0.1003 - 576ms/epoch - 900us/step\n",
      "Epoch 27/1000\n",
      "640/640 - 1s - loss: 0.0077 - root_mean_squared_error: 0.0877 - val_loss: 0.0073 - val_root_mean_squared_error: 0.0855 - 566ms/epoch - 884us/step\n",
      "Epoch 28/1000\n",
      "640/640 - 1s - loss: 0.0056 - root_mean_squared_error: 0.0747 - val_loss: 0.0056 - val_root_mean_squared_error: 0.0745 - 549ms/epoch - 857us/step\n",
      "Epoch 29/1000\n",
      "640/640 - 1s - loss: 0.0042 - root_mean_squared_error: 0.0651 - val_loss: 0.0043 - val_root_mean_squared_error: 0.0658 - 579ms/epoch - 904us/step\n",
      "Epoch 30/1000\n",
      "640/640 - 1s - loss: 0.0033 - root_mean_squared_error: 0.0578 - val_loss: 0.0035 - val_root_mean_squared_error: 0.0588 - 628ms/epoch - 982us/step\n",
      "Epoch 31/1000\n",
      "640/640 - 1s - loss: 0.0027 - root_mean_squared_error: 0.0520 - val_loss: 0.0028 - val_root_mean_squared_error: 0.0530 - 585ms/epoch - 914us/step\n",
      "Epoch 32/1000\n",
      "640/640 - 1s - loss: 0.0022 - root_mean_squared_error: 0.0470 - val_loss: 0.0023 - val_root_mean_squared_error: 0.0476 - 601ms/epoch - 940us/step\n",
      "Epoch 33/1000\n",
      "640/640 - 1s - loss: 0.0018 - root_mean_squared_error: 0.0426 - val_loss: 0.0018 - val_root_mean_squared_error: 0.0427 - 633ms/epoch - 989us/step\n",
      "Epoch 34/1000\n",
      "640/640 - 1s - loss: 0.0015 - root_mean_squared_error: 0.0384 - val_loss: 0.0015 - val_root_mean_squared_error: 0.0382 - 579ms/epoch - 905us/step\n",
      "Epoch 35/1000\n",
      "640/640 - 1s - loss: 0.0012 - root_mean_squared_error: 0.0347 - val_loss: 0.0012 - val_root_mean_squared_error: 0.0340 - 634ms/epoch - 991us/step\n",
      "Epoch 36/1000\n",
      "640/640 - 1s - loss: 9.7790e-04 - root_mean_squared_error: 0.0313 - val_loss: 9.1722e-04 - val_root_mean_squared_error: 0.0303 - 654ms/epoch - 1ms/step\n",
      "Epoch 37/1000\n",
      "640/640 - 1s - loss: 7.9853e-04 - root_mean_squared_error: 0.0283 - val_loss: 7.2884e-04 - val_root_mean_squared_error: 0.0270 - 683ms/epoch - 1ms/step\n",
      "Epoch 38/1000\n",
      "640/640 - 1s - loss: 6.5796e-04 - root_mean_squared_error: 0.0257 - val_loss: 5.8222e-04 - val_root_mean_squared_error: 0.0241 - 611ms/epoch - 954us/step\n",
      "Epoch 39/1000\n",
      "640/640 - 1s - loss: 5.4762e-04 - root_mean_squared_error: 0.0234 - val_loss: 4.7048e-04 - val_root_mean_squared_error: 0.0217 - 623ms/epoch - 974us/step\n",
      "Epoch 40/1000\n",
      "640/640 - 1s - loss: 4.6641e-04 - root_mean_squared_error: 0.0216 - val_loss: 3.9316e-04 - val_root_mean_squared_error: 0.0198 - 560ms/epoch - 874us/step\n",
      "Epoch 41/1000\n",
      "640/640 - 1s - loss: 4.0243e-04 - root_mean_squared_error: 0.0201 - val_loss: 3.3471e-04 - val_root_mean_squared_error: 0.0183 - 573ms/epoch - 896us/step\n",
      "Epoch 42/1000\n",
      "640/640 - 1s - loss: 3.5239e-04 - root_mean_squared_error: 0.0188 - val_loss: 2.8934e-04 - val_root_mean_squared_error: 0.0170 - 567ms/epoch - 885us/step\n",
      "Epoch 43/1000\n",
      "640/640 - 1s - loss: 3.1012e-04 - root_mean_squared_error: 0.0176 - val_loss: 2.5482e-04 - val_root_mean_squared_error: 0.0160 - 546ms/epoch - 853us/step\n",
      "Epoch 44/1000\n",
      "640/640 - 1s - loss: 2.7470e-04 - root_mean_squared_error: 0.0166 - val_loss: 2.2880e-04 - val_root_mean_squared_error: 0.0151 - 652ms/epoch - 1ms/step\n",
      "Epoch 45/1000\n",
      "640/640 - 1s - loss: 2.4501e-04 - root_mean_squared_error: 0.0157 - val_loss: 2.0646e-04 - val_root_mean_squared_error: 0.0144 - 543ms/epoch - 849us/step\n",
      "Epoch 46/1000\n",
      "640/640 - 1s - loss: 2.1897e-04 - root_mean_squared_error: 0.0148 - val_loss: 1.8655e-04 - val_root_mean_squared_error: 0.0137 - 555ms/epoch - 867us/step\n",
      "Epoch 47/1000\n",
      "640/640 - 1s - loss: 1.9570e-04 - root_mean_squared_error: 0.0140 - val_loss: 1.6973e-04 - val_root_mean_squared_error: 0.0130 - 603ms/epoch - 943us/step\n",
      "Epoch 48/1000\n",
      "640/640 - 1s - loss: 1.7507e-04 - root_mean_squared_error: 0.0132 - val_loss: 1.5630e-04 - val_root_mean_squared_error: 0.0125 - 636ms/epoch - 994us/step\n",
      "Epoch 49/1000\n",
      "640/640 - 1s - loss: 1.5752e-04 - root_mean_squared_error: 0.0126 - val_loss: 1.4457e-04 - val_root_mean_squared_error: 0.0120 - 633ms/epoch - 989us/step\n",
      "Epoch 50/1000\n",
      "640/640 - 1s - loss: 1.4204e-04 - root_mean_squared_error: 0.0119 - val_loss: 1.3427e-04 - val_root_mean_squared_error: 0.0116 - 637ms/epoch - 995us/step\n",
      "Epoch 51/1000\n",
      "640/640 - 1s - loss: 1.2762e-04 - root_mean_squared_error: 0.0113 - val_loss: 1.2409e-04 - val_root_mean_squared_error: 0.0111 - 640ms/epoch - 1ms/step\n",
      "Epoch 52/1000\n",
      "640/640 - 1s - loss: 1.1609e-04 - root_mean_squared_error: 0.0108 - val_loss: 1.1602e-04 - val_root_mean_squared_error: 0.0108 - 639ms/epoch - 999us/step\n",
      "Epoch 53/1000\n",
      "640/640 - 1s - loss: 1.0729e-04 - root_mean_squared_error: 0.0104 - val_loss: 1.0919e-04 - val_root_mean_squared_error: 0.0104 - 628ms/epoch - 981us/step\n",
      "Epoch 54/1000\n",
      "640/640 - 1s - loss: 9.9472e-05 - root_mean_squared_error: 0.0100 - val_loss: 1.0386e-04 - val_root_mean_squared_error: 0.0102 - 630ms/epoch - 985us/step\n",
      "Epoch 55/1000\n",
      "640/640 - 1s - loss: 9.2995e-05 - root_mean_squared_error: 0.0096 - val_loss: 9.9773e-05 - val_root_mean_squared_error: 0.0100 - 559ms/epoch - 873us/step\n",
      "Epoch 56/1000\n",
      "640/640 - 1s - loss: 8.8032e-05 - root_mean_squared_error: 0.0094 - val_loss: 9.4750e-05 - val_root_mean_squared_error: 0.0097 - 678ms/epoch - 1ms/step\n",
      "Epoch 57/1000\n",
      "640/640 - 1s - loss: 8.3523e-05 - root_mean_squared_error: 0.0091 - val_loss: 9.0969e-05 - val_root_mean_squared_error: 0.0095 - 715ms/epoch - 1ms/step\n",
      "Epoch 58/1000\n",
      "640/640 - 1s - loss: 7.9585e-05 - root_mean_squared_error: 0.0089 - val_loss: 8.7325e-05 - val_root_mean_squared_error: 0.0093 - 699ms/epoch - 1ms/step\n",
      "Epoch 59/1000\n",
      "640/640 - 1s - loss: 7.5472e-05 - root_mean_squared_error: 0.0087 - val_loss: 8.3554e-05 - val_root_mean_squared_error: 0.0091 - 641ms/epoch - 1ms/step\n",
      "Epoch 60/1000\n",
      "640/640 - 1s - loss: 7.1377e-05 - root_mean_squared_error: 0.0084 - val_loss: 8.1170e-05 - val_root_mean_squared_error: 0.0090 - 632ms/epoch - 988us/step\n",
      "Epoch 61/1000\n",
      "640/640 - 1s - loss: 6.8456e-05 - root_mean_squared_error: 0.0083 - val_loss: 7.7537e-05 - val_root_mean_squared_error: 0.0088 - 553ms/epoch - 864us/step\n",
      "Epoch 62/1000\n",
      "640/640 - 1s - loss: 6.5260e-05 - root_mean_squared_error: 0.0081 - val_loss: 7.4992e-05 - val_root_mean_squared_error: 0.0087 - 645ms/epoch - 1ms/step\n",
      "Epoch 63/1000\n",
      "640/640 - 1s - loss: 6.2656e-05 - root_mean_squared_error: 0.0079 - val_loss: 7.1444e-05 - val_root_mean_squared_error: 0.0085 - 638ms/epoch - 997us/step\n",
      "Epoch 64/1000\n",
      "640/640 - 1s - loss: 6.0145e-05 - root_mean_squared_error: 0.0078 - val_loss: 6.9849e-05 - val_root_mean_squared_error: 0.0084 - 639ms/epoch - 998us/step\n",
      "Epoch 65/1000\n",
      "640/640 - 1s - loss: 5.7707e-05 - root_mean_squared_error: 0.0076 - val_loss: 6.8101e-05 - val_root_mean_squared_error: 0.0083 - 644ms/epoch - 1ms/step\n",
      "Epoch 66/1000\n",
      "640/640 - 1s - loss: 5.5837e-05 - root_mean_squared_error: 0.0075 - val_loss: 6.4521e-05 - val_root_mean_squared_error: 0.0080 - 627ms/epoch - 979us/step\n",
      "Epoch 67/1000\n",
      "640/640 - 1s - loss: 5.3785e-05 - root_mean_squared_error: 0.0073 - val_loss: 6.3325e-05 - val_root_mean_squared_error: 0.0080 - 633ms/epoch - 989us/step\n",
      "Epoch 68/1000\n",
      "640/640 - 1s - loss: 5.2136e-05 - root_mean_squared_error: 0.0072 - val_loss: 6.0329e-05 - val_root_mean_squared_error: 0.0078 - 601ms/epoch - 940us/step\n",
      "Epoch 69/1000\n",
      "640/640 - 1s - loss: 5.0314e-05 - root_mean_squared_error: 0.0071 - val_loss: 5.9911e-05 - val_root_mean_squared_error: 0.0077 - 628ms/epoch - 982us/step\n",
      "Epoch 70/1000\n",
      "640/640 - 1s - loss: 4.8510e-05 - root_mean_squared_error: 0.0070 - val_loss: 5.6874e-05 - val_root_mean_squared_error: 0.0075 - 621ms/epoch - 970us/step\n",
      "Epoch 71/1000\n",
      "640/640 - 1s - loss: 4.7313e-05 - root_mean_squared_error: 0.0069 - val_loss: 5.4494e-05 - val_root_mean_squared_error: 0.0074 - 622ms/epoch - 973us/step\n",
      "Epoch 72/1000\n",
      "640/640 - 1s - loss: 4.5525e-05 - root_mean_squared_error: 0.0067 - val_loss: 5.3492e-05 - val_root_mean_squared_error: 0.0073 - 660ms/epoch - 1ms/step\n",
      "Epoch 73/1000\n",
      "640/640 - 1s - loss: 4.4205e-05 - root_mean_squared_error: 0.0066 - val_loss: 5.1019e-05 - val_root_mean_squared_error: 0.0071 - 664ms/epoch - 1ms/step\n",
      "Epoch 74/1000\n",
      "640/640 - 1s - loss: 4.2741e-05 - root_mean_squared_error: 0.0065 - val_loss: 5.0083e-05 - val_root_mean_squared_error: 0.0071 - 653ms/epoch - 1ms/step\n",
      "Epoch 75/1000\n",
      "640/640 - 1s - loss: 4.1579e-05 - root_mean_squared_error: 0.0064 - val_loss: 4.8816e-05 - val_root_mean_squared_error: 0.0070 - 621ms/epoch - 970us/step\n",
      "Epoch 76/1000\n",
      "640/640 - 1s - loss: 4.0408e-05 - root_mean_squared_error: 0.0064 - val_loss: 4.6605e-05 - val_root_mean_squared_error: 0.0068 - 710ms/epoch - 1ms/step\n",
      "Epoch 77/1000\n",
      "640/640 - 1s - loss: 3.9543e-05 - root_mean_squared_error: 0.0063 - val_loss: 4.6878e-05 - val_root_mean_squared_error: 0.0068 - 587ms/epoch - 918us/step\n",
      "Epoch 78/1000\n",
      "640/640 - 1s - loss: 3.8279e-05 - root_mean_squared_error: 0.0062 - val_loss: 4.4677e-05 - val_root_mean_squared_error: 0.0067 - 578ms/epoch - 904us/step\n",
      "Epoch 79/1000\n",
      "640/640 - 1s - loss: 3.7165e-05 - root_mean_squared_error: 0.0061 - val_loss: 4.3096e-05 - val_root_mean_squared_error: 0.0066 - 606ms/epoch - 947us/step\n",
      "Epoch 80/1000\n",
      "640/640 - 1s - loss: 3.6466e-05 - root_mean_squared_error: 0.0060 - val_loss: 4.1866e-05 - val_root_mean_squared_error: 0.0065 - 640ms/epoch - 1000us/step\n",
      "Epoch 81/1000\n",
      "640/640 - 1s - loss: 3.5613e-05 - root_mean_squared_error: 0.0060 - val_loss: 4.0810e-05 - val_root_mean_squared_error: 0.0064 - 659ms/epoch - 1ms/step\n",
      "Epoch 82/1000\n",
      "640/640 - 1s - loss: 3.4775e-05 - root_mean_squared_error: 0.0059 - val_loss: 3.9884e-05 - val_root_mean_squared_error: 0.0063 - 570ms/epoch - 891us/step\n",
      "Epoch 83/1000\n",
      "640/640 - 1s - loss: 3.3647e-05 - root_mean_squared_error: 0.0058 - val_loss: 3.9813e-05 - val_root_mean_squared_error: 0.0063 - 652ms/epoch - 1ms/step\n",
      "Epoch 84/1000\n",
      "640/640 - 1s - loss: 3.2927e-05 - root_mean_squared_error: 0.0057 - val_loss: 3.8373e-05 - val_root_mean_squared_error: 0.0062 - 575ms/epoch - 898us/step\n",
      "Epoch 85/1000\n",
      "640/640 - 1s - loss: 3.2214e-05 - root_mean_squared_error: 0.0057 - val_loss: 3.6780e-05 - val_root_mean_squared_error: 0.0061 - 626ms/epoch - 978us/step\n",
      "Epoch 86/1000\n",
      "640/640 - 1s - loss: 3.1848e-05 - root_mean_squared_error: 0.0056 - val_loss: 3.5805e-05 - val_root_mean_squared_error: 0.0060 - 532ms/epoch - 832us/step\n",
      "Epoch 87/1000\n",
      "640/640 - 1s - loss: 3.1104e-05 - root_mean_squared_error: 0.0056 - val_loss: 3.4939e-05 - val_root_mean_squared_error: 0.0059 - 581ms/epoch - 907us/step\n",
      "Epoch 88/1000\n",
      "640/640 - 1s - loss: 3.0316e-05 - root_mean_squared_error: 0.0055 - val_loss: 3.4571e-05 - val_root_mean_squared_error: 0.0059 - 655ms/epoch - 1ms/step\n",
      "Epoch 89/1000\n",
      "640/640 - 1s - loss: 2.9829e-05 - root_mean_squared_error: 0.0055 - val_loss: 3.3092e-05 - val_root_mean_squared_error: 0.0058 - 622ms/epoch - 973us/step\n",
      "Epoch 90/1000\n",
      "640/640 - 1s - loss: 2.7778e-05 - root_mean_squared_error: 0.0053 - val_loss: 2.9053e-05 - val_root_mean_squared_error: 0.0054 - 611ms/epoch - 954us/step\n",
      "Epoch 91/1000\n",
      "640/640 - 1s - loss: 2.5437e-05 - root_mean_squared_error: 0.0050 - val_loss: 2.5838e-05 - val_root_mean_squared_error: 0.0051 - 589ms/epoch - 921us/step\n",
      "Epoch 92/1000\n",
      "640/640 - 1s - loss: 2.3730e-05 - root_mean_squared_error: 0.0049 - val_loss: 2.4476e-05 - val_root_mean_squared_error: 0.0049 - 611ms/epoch - 954us/step\n",
      "Epoch 93/1000\n",
      "640/640 - 1s - loss: 2.2374e-05 - root_mean_squared_error: 0.0047 - val_loss: 2.1712e-05 - val_root_mean_squared_error: 0.0047 - 603ms/epoch - 942us/step\n",
      "Epoch 94/1000\n",
      "640/640 - 1s - loss: 2.1127e-05 - root_mean_squared_error: 0.0046 - val_loss: 2.0524e-05 - val_root_mean_squared_error: 0.0045 - 549ms/epoch - 858us/step\n",
      "Epoch 95/1000\n",
      "640/640 - 1s - loss: 2.0305e-05 - root_mean_squared_error: 0.0045 - val_loss: 1.8841e-05 - val_root_mean_squared_error: 0.0043 - 538ms/epoch - 841us/step\n",
      "Epoch 96/1000\n",
      "640/640 - 1s - loss: 1.9480e-05 - root_mean_squared_error: 0.0044 - val_loss: 1.7951e-05 - val_root_mean_squared_error: 0.0042 - 573ms/epoch - 896us/step\n",
      "Epoch 97/1000\n",
      "640/640 - 1s - loss: 1.8440e-05 - root_mean_squared_error: 0.0043 - val_loss: 1.6572e-05 - val_root_mean_squared_error: 0.0041 - 557ms/epoch - 871us/step\n",
      "Epoch 98/1000\n",
      "640/640 - 1s - loss: 1.7468e-05 - root_mean_squared_error: 0.0042 - val_loss: 1.4802e-05 - val_root_mean_squared_error: 0.0038 - 651ms/epoch - 1ms/step\n",
      "Epoch 99/1000\n",
      "640/640 - 1s - loss: 1.6487e-05 - root_mean_squared_error: 0.0041 - val_loss: 1.3735e-05 - val_root_mean_squared_error: 0.0037 - 528ms/epoch - 824us/step\n",
      "Epoch 100/1000\n",
      "640/640 - 1s - loss: 1.5699e-05 - root_mean_squared_error: 0.0040 - val_loss: 1.2884e-05 - val_root_mean_squared_error: 0.0036 - 561ms/epoch - 877us/step\n",
      "Epoch 101/1000\n",
      "640/640 - 1s - loss: 1.5184e-05 - root_mean_squared_error: 0.0039 - val_loss: 1.2281e-05 - val_root_mean_squared_error: 0.0035 - 530ms/epoch - 829us/step\n",
      "Epoch 102/1000\n",
      "640/640 - 1s - loss: 1.4668e-05 - root_mean_squared_error: 0.0038 - val_loss: 1.2174e-05 - val_root_mean_squared_error: 0.0035 - 556ms/epoch - 869us/step\n",
      "Epoch 103/1000\n",
      "640/640 - 1s - loss: 1.4372e-05 - root_mean_squared_error: 0.0038 - val_loss: 1.1093e-05 - val_root_mean_squared_error: 0.0033 - 655ms/epoch - 1ms/step\n",
      "Epoch 104/1000\n",
      "640/640 - 1s - loss: 1.4011e-05 - root_mean_squared_error: 0.0037 - val_loss: 1.0892e-05 - val_root_mean_squared_error: 0.0033 - 681ms/epoch - 1ms/step\n",
      "Epoch 105/1000\n",
      "640/640 - 1s - loss: 1.3763e-05 - root_mean_squared_error: 0.0037 - val_loss: 1.0619e-05 - val_root_mean_squared_error: 0.0033 - 583ms/epoch - 911us/step\n",
      "Epoch 106/1000\n",
      "640/640 - 1s - loss: 1.3666e-05 - root_mean_squared_error: 0.0037 - val_loss: 1.0541e-05 - val_root_mean_squared_error: 0.0032 - 618ms/epoch - 965us/step\n",
      "Epoch 107/1000\n",
      "640/640 - 1s - loss: 1.3503e-05 - root_mean_squared_error: 0.0037 - val_loss: 1.0268e-05 - val_root_mean_squared_error: 0.0032 - 608ms/epoch - 950us/step\n",
      "Epoch 108/1000\n",
      "640/640 - 1s - loss: 1.3496e-05 - root_mean_squared_error: 0.0037 - val_loss: 1.0203e-05 - val_root_mean_squared_error: 0.0032 - 605ms/epoch - 945us/step\n",
      "Epoch 109/1000\n",
      "640/640 - 1s - loss: 1.3328e-05 - root_mean_squared_error: 0.0037 - val_loss: 1.0177e-05 - val_root_mean_squared_error: 0.0032 - 609ms/epoch - 952us/step\n",
      "Epoch 110/1000\n",
      "640/640 - 1s - loss: 1.3279e-05 - root_mean_squared_error: 0.0036 - val_loss: 1.0101e-05 - val_root_mean_squared_error: 0.0032 - 622ms/epoch - 972us/step\n",
      "Epoch 111/1000\n",
      "640/640 - 1s - loss: 1.3186e-05 - root_mean_squared_error: 0.0036 - val_loss: 1.0148e-05 - val_root_mean_squared_error: 0.0032 - 652ms/epoch - 1ms/step\n",
      "Epoch 112/1000\n",
      "640/640 - 1s - loss: 1.3220e-05 - root_mean_squared_error: 0.0036 - val_loss: 1.0118e-05 - val_root_mean_squared_error: 0.0032 - 667ms/epoch - 1ms/step\n"
     ]
    }
   ],
   "source": [
    "# fit the model\n",
    "history = model.fit(\n",
    "    train_inputs, train_targets, batch_size=BATCH_SIZE,epochs=MAX_EPOCHS, callbacks=[early_stopping], validation_data=(validation_inputs, validation_targets), verbose=2\n",
    "          )"
   ]
  },
  {
   "cell_type": "code",
   "execution_count": 7,
   "metadata": {},
   "outputs": [
    {
     "name": "stdout",
     "output_type": "stream",
     "text": [
      "Model: \"sequential\"\n",
      "_________________________________________________________________\n",
      " Layer (type)                Output Shape              Param #   \n",
      "=================================================================\n",
      " dense (Dense)               (1, 3)                    12        \n",
      "                                                                 \n",
      " dense_1 (Dense)             (1, 10)                   40        \n",
      "                                                                 \n",
      " dense_2 (Dense)             (1, 10)                   110       \n",
      "                                                                 \n",
      " dense_3 (Dense)             (1, 10)                   110       \n",
      "                                                                 \n",
      " dense_4 (Dense)             (1, 1)                    11        \n",
      "                                                                 \n",
      "=================================================================\n",
      "Total params: 283\n",
      "Trainable params: 283\n",
      "Non-trainable params: 0\n",
      "_________________________________________________________________\n"
     ]
    }
   ],
   "source": [
    "# ANN model summary\n",
    "model.summary()"
   ]
  },
  {
   "cell_type": "code",
   "execution_count": 8,
   "metadata": {},
   "outputs": [
    {
     "data": {
      "image/png": "[encoded data removed]",
      "text/plain": [
       "<Figure size 640x480 with 1 Axes>"
      ]
     },
     "metadata": {},
     "output_type": "display_data"
    }
   ],
   "source": [
    "import matplotlib.pyplot as plt\n",
    "plt.plot(history.history['loss'], label='Training_loss')\n",
    "plt.plot(history.history['val_loss'], label='Validation_loss')\n",
    "plt.xlabel('epochs')\n",
    "plt.ylabel('loss')\n",
    "plt.legend()\n",
    "plt.show()"
   ]
  },
  {
   "cell_type": "markdown",
   "metadata": {},
   "source": [
    "# Model check on Test data"
   ]
  },
  {
   "cell_type": "code",
   "execution_count": 9,
   "metadata": {},
   "outputs": [
    {
     "name": "stdout",
     "output_type": "stream",
     "text": [
      "3/3 [==============================] - 0s 2ms/step - loss: 1.4219e-05 - root_mean_squared_error: 0.0038\n"
     ]
    }
   ],
   "source": [
    "test_loss, test_accuracy = model.evaluate(test_inputs, test_targets)"
   ]
  },
  {
   "cell_type": "code",
   "execution_count": 10,
   "metadata": {},
   "outputs": [
    {
     "name": "stdout",
     "output_type": "stream",
     "text": [
      "\n",
      "Test loss: 0.0000. Test accuracy: 0.0038 rmse\n"
     ]
    }
   ],
   "source": [
    "print('\\nTest loss: {0:.4f}. Test accuracy: {1:.4f} rmse'.format(test_loss, test_accuracy))"
   ]
  },
  {
   "cell_type": "code",
   "execution_count": 11,
   "metadata": {},
   "outputs": [
    {
     "name": "stdout",
     "output_type": "stream",
     "text": [
      "3/3 [==============================] - 0s 1ms/step\n"
     ]
    },
    {
     "data": {
      "text/html": [
       "<div>\n",
       "<style scoped>\n",
       "    .dataframe tbody tr th:only-of-type {\n",
       "        vertical-align: middle;\n",
       "    }\n",
       "\n",
       "    .dataframe tbody tr th {\n",
       "        vertical-align: top;\n",
       "    }\n",
       "\n",
       "    .dataframe thead th {\n",
       "        text-align: right;\n",
       "    }\n",
       "</style>\n",
       "<table border=\"1\" class=\"dataframe\">\n",
       "  <thead>\n",
       "    <tr style=\"text-align: right;\">\n",
       "      <th></th>\n",
       "      <th>Target-St(%)</th>\n",
       "      <th>Prediction-St(%)</th>\n",
       "      <th>Pred-Accu-St(%)</th>\n",
       "    </tr>\n",
       "  </thead>\n",
       "  <tbody>\n",
       "    <tr>\n",
       "      <th>0</th>\n",
       "      <td>0.97</td>\n",
       "      <td>0.9710</td>\n",
       "      <td>100.10</td>\n",
       "    </tr>\n",
       "    <tr>\n",
       "      <th>1</th>\n",
       "      <td>0.99</td>\n",
       "      <td>0.9907</td>\n",
       "      <td>100.07</td>\n",
       "    </tr>\n",
       "    <tr>\n",
       "      <th>2</th>\n",
       "      <td>0.99</td>\n",
       "      <td>0.9885</td>\n",
       "      <td>99.85</td>\n",
       "    </tr>\n",
       "    <tr>\n",
       "      <th>3</th>\n",
       "      <td>0.99</td>\n",
       "      <td>0.9906</td>\n",
       "      <td>100.06</td>\n",
       "    </tr>\n",
       "    <tr>\n",
       "      <th>4</th>\n",
       "      <td>0.96</td>\n",
       "      <td>0.9638</td>\n",
       "      <td>100.40</td>\n",
       "    </tr>\n",
       "    <tr>\n",
       "      <th>...</th>\n",
       "      <td>...</td>\n",
       "      <td>...</td>\n",
       "      <td>...</td>\n",
       "    </tr>\n",
       "    <tr>\n",
       "      <th>75</th>\n",
       "      <td>0.96</td>\n",
       "      <td>0.9529</td>\n",
       "      <td>99.26</td>\n",
       "    </tr>\n",
       "    <tr>\n",
       "      <th>76</th>\n",
       "      <td>0.98</td>\n",
       "      <td>0.9824</td>\n",
       "      <td>100.24</td>\n",
       "    </tr>\n",
       "    <tr>\n",
       "      <th>77</th>\n",
       "      <td>0.98</td>\n",
       "      <td>0.9795</td>\n",
       "      <td>99.95</td>\n",
       "    </tr>\n",
       "    <tr>\n",
       "      <th>78</th>\n",
       "      <td>0.93</td>\n",
       "      <td>0.9382</td>\n",
       "      <td>100.88</td>\n",
       "    </tr>\n",
       "    <tr>\n",
       "      <th>79</th>\n",
       "      <td>0.94</td>\n",
       "      <td>0.9451</td>\n",
       "      <td>100.54</td>\n",
       "    </tr>\n",
       "  </tbody>\n",
       "</table>\n",
       "<p>80 rows × 3 columns</p>\n",
       "</div>"
      ],
      "text/plain": [
       "    Target-St(%)  Prediction-St(%)  Pred-Accu-St(%)\n",
       "0           0.97            0.9710           100.10\n",
       "1           0.99            0.9907           100.07\n",
       "2           0.99            0.9885            99.85\n",
       "3           0.99            0.9906           100.06\n",
       "4           0.96            0.9638           100.40\n",
       "..           ...               ...              ...\n",
       "75          0.96            0.9529            99.26\n",
       "76          0.98            0.9824           100.24\n",
       "77          0.98            0.9795            99.95\n",
       "78          0.93            0.9382           100.88\n",
       "79          0.94            0.9451           100.54\n",
       "\n",
       "[80 rows x 3 columns]"
      ]
     },
     "execution_count": 11,
     "metadata": {},
     "output_type": "execute_result"
    }
   ],
   "source": [
    "prediction = model.predict(test_inputs)\n",
    "data_inputs = pd.DataFrame(test_inputs)\n",
    "prediction = pd.DataFrame(np.round(prediction,4))\n",
    "test_targets = pd.DataFrame(test_targets)\n",
    "pred_accu = np.round((prediction/test_targets)*100,2)\n",
    "\n",
    "result = pd.concat([test_targets, prediction, pred_accu], axis = 1, ignore_index=True)\n",
    "result.columns = ['Target-St(%)', 'Prediction-St(%)','Pred-Accu-St(%)']\n",
    "result"
   ]
  },
  {
   "cell_type": "code",
   "execution_count": 12,
   "metadata": {},
   "outputs": [
    {
     "data": {
      "text/plain": [
       "Text(0.5, 0, 'Targets (red) & Predictions (blue)')"
      ]
     },
     "execution_count": 12,
     "metadata": {},
     "output_type": "execute_result"
    },
    {
     "data": {
      "image/png": "[encoded data removed]",
      "text/plain": [
       "<Figure size 640x480 with 1 Axes>"
      ]
     },
     "metadata": {},
     "output_type": "display_data"
    }
   ],
   "source": [
    "# plot of targets & predictions vs prediction deviation\n",
    "import matplotlib.pyplot as plt\n",
    "plt.scatter(result['Target-St(%)'], result['Pred-Accu-St(%)'], alpha=0.5, color='r')\n",
    "plt.scatter(result['Prediction-St(%)'], result['Pred-Accu-St(%)'],alpha=0.5, color='b')\n",
    "plt.ylabel('Error in the prediction(%)')\n",
    "plt.xlabel('Targets (red) & Predictions (blue)')"
   ]
  },
  {
   "cell_type": "code",
   "execution_count": 13,
   "metadata": {},
   "outputs": [
    {
     "data": {
      "text/plain": [
       "Text(0.5, 0, 'Targets')"
      ]
     },
     "execution_count": 13,
     "metadata": {},
     "output_type": "execute_result"
    },
    {
     "data": {
      "image/png": "[encoded data removed]",
      "text/plain": [
       "<Figure size 640x480 with 1 Axes>"
      ]
     },
     "metadata": {},
     "output_type": "display_data"
    }
   ],
   "source": [
    "# plot of targets vs prediction comparision\n",
    "plt.scatter(result['Target-St(%)'], result['Target-St(%)'], alpha=0.5, color='r')\n",
    "plt.scatter(result['Target-St(%)'], result['Prediction-St(%)'], alpha=0.2, color='g')\n",
    "\n",
    "plt.ylabel('predictions')\n",
    "plt.xlabel('Targets')"
   ]
  },
  {
   "cell_type": "code",
   "execution_count": 14,
   "metadata": {},
   "outputs": [
    {
     "data": {
      "text/plain": [
       "0.9663"
      ]
     },
     "execution_count": 14,
     "metadata": {},
     "output_type": "execute_result"
    }
   ],
   "source": [
    "# estimation of R2 score\n",
    "from sklearn.metrics import r2_score\n",
    "r2_score_test = r2_score(test_targets, prediction)\n",
    "np.round(r2_score_test,4)"
   ]
  },
  {
   "cell_type": "code",
   "execution_count": 15,
   "metadata": {},
   "outputs": [
    {
     "data": {
      "text/plain": [
       "0.965"
      ]
     },
     "execution_count": 15,
     "metadata": {},
     "output_type": "execute_result"
    }
   ],
   "source": [
    "# estimation of adjusted R2 score\n",
    "n = np.size(test_targets)\n",
    "k = 3 # number of features\n",
    "adj_r2_score = 1 - (((1-r2_score_test)*(n-1))/((n-k-1)))\n",
    "np.round(adj_r2_score,4)"
   ]
  },
  {
   "cell_type": "code",
   "execution_count": 16,
   "metadata": {},
   "outputs": [
    {
     "name": "stdout",
     "output_type": "stream",
     "text": [
      "Uncertainty of the ANN model: 0.39 [%]\n",
      "Average test prediction precision 99.61 [%]\n"
     ]
    }
   ],
   "source": [
    "# estimation of uncertainty and accuracy of the model prediction over the test data\n",
    "mean_pred = pred_accu.mean()\n",
    "std_pred = pred_accu.std()\n",
    "uncertainty_model = std_pred\n",
    "print(\"Uncertainty of the ANN model:\", np.round(uncertainty_model[0],2), '[%]')\n",
    "print(\"Average test prediction precision\", np.round(100 - uncertainty_model[0],2), '[%]')"
   ]
  },
  {
   "cell_type": "markdown",
   "metadata": {},
   "source": [
    "# ANN Model Deployment"
   ]
  },
  {
   "cell_type": "markdown",
   "metadata": {},
   "source": [
    "ANN model deployment for micro DSC error prediction"
   ]
  },
  {
   "cell_type": "code",
   "execution_count": 17,
   "metadata": {},
   "outputs": [],
   "source": [
    "# deploying the ANN model\n",
    "import keras\n",
    "model.save('micro_dsc_dl.h5')"
   ]
  },
  {
   "cell_type": "code",
   "execution_count": null,
   "metadata": {},
   "outputs": [],
   "source": []
  }
 ],
 "metadata": {
  "kernelspec": {
   "display_name": ".venv",
   "language": "python",
   "name": "python3"
  },
  "language_info": {
   "codemirror_mode": {
    "name": "ipython",
    "version": 3
   },
   "file_extension": ".py",
   "mimetype": "text/x-python",
   "name": "python",
   "nbconvert_exporter": "python",
   "pygments_lexer": "ipython3",
   "version": "3.10.8"
  },
  "orig_nbformat": 4,
  "vscode": {
   "interpreter": {
    "hash": "7a894ceb47d099db229f364d40afe4cffd5fd7a0bd37c3a5ba433ad048c7676c"
   }
  }
 },
 "nbformat": 4,
 "nbformat_minor": 2
}
