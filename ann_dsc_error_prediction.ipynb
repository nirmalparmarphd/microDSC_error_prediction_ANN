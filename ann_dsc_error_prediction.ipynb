{
 "cells": [
  {
   "cell_type": "markdown",
   "metadata": {},
   "source": [
    "# DNN Model"
   ]
  },
  {
   "cell_type": "code",
   "execution_count": 342,
   "metadata": {},
   "outputs": [],
   "source": [
    "import numpy as np\n",
    "import pandas as pd\n",
    "import tensorflow as tf"
   ]
  },
  {
   "cell_type": "code",
   "execution_count": 343,
   "metadata": {},
   "outputs": [],
   "source": [
    "# data loading from .npz generated from tcr_data_process.ipynb\n",
    "# loading train data\n",
    "npz = np.load('data_train.npz')\n",
    "train_inputs = npz['input'].astype(np.float64)\n",
    "train_targets = npz['targets'].astype(np.float64)\n",
    "# loading validation data\n",
    "npz = np.load('data_validation.npz')\n",
    "validation_inputs, validation_targets = npz['input'].astype(np.float64), npz['targets'].astype(np.float64)\n",
    "\n",
    "npz = np.load('data_test.npz')\n",
    "test_inputs, test_targets = npz['input'].astype(np.float64), npz['targets'].astype(np.float64)"
   ]
  },
  {
   "cell_type": "markdown",
   "metadata": {},
   "source": [
    "# ANN Model"
   ]
  },
  {
   "cell_type": "markdown",
   "metadata": {},
   "source": [
    "Outline, Optimizer, Loss function, Early stopping and Training rate"
   ]
  },
  {
   "cell_type": "code",
   "execution_count": 344,
   "metadata": {},
   "outputs": [],
   "source": [
    "# NN model prep\n",
    "input_size = 19\n",
    "output_size = 1\n",
    "hidden_layer_1_size = 70\n",
    "hidden_layer_2_size = 70\n",
    "hidden_layer_3_size = 50\n",
    "\n",
    "model = tf.keras.Sequential([\n",
    "    tf.keras.layers.Dense(input_size),\n",
    "    tf.keras.layers.Dense(hidden_layer_1_size, activation='relu'),\n",
    "    tf.keras.layers.Dense(hidden_layer_2_size, activation='relu'),\n",
    "    tf.keras.layers.Dense(hidden_layer_3_size, activation='relu'),\n",
    "    tf.keras.layers.Dense(output_size, activation='sigmoid'),\n",
    "])\n"
   ]
  },
  {
   "cell_type": "code",
   "execution_count": 345,
   "metadata": {},
   "outputs": [],
   "source": [
    "# model prep, optimizer and loss function\n",
    "optimizer = tf.keras.optimizers.Adam(learning_rate=0.0001)\n",
    "model.compile(optimizer, loss=tf.keras.losses.MeanSquaredError(), metrics=[tf.keras.metrics.RootMeanSquaredError()])\n",
    "\n"
   ]
  },
  {
   "cell_type": "code",
   "execution_count": 346,
   "metadata": {},
   "outputs": [],
   "source": [
    "# Training\n",
    "BATCH_SIZE = 1\n",
    "MAX_EPOCHS = 1000\n",
    "early_stopping = tf.keras.callbacks.EarlyStopping(patience=2)"
   ]
  },
  {
   "cell_type": "code",
   "execution_count": 347,
   "metadata": {},
   "outputs": [
    {
     "name": "stdout",
     "output_type": "stream",
     "text": [
      "Epoch 1/1000\n",
      "102/102 - 3s - loss: 0.2284 - root_mean_squared_error: 0.4779 - val_loss: 0.1541 - val_root_mean_squared_error: 0.3925 - 3s/epoch - 29ms/step\n",
      "Epoch 2/1000\n",
      "102/102 - 0s - loss: 0.1284 - root_mean_squared_error: 0.3583 - val_loss: 0.0809 - val_root_mean_squared_error: 0.2844 - 321ms/epoch - 3ms/step\n",
      "Epoch 3/1000\n",
      "102/102 - 0s - loss: 0.0626 - root_mean_squared_error: 0.2503 - val_loss: 0.0377 - val_root_mean_squared_error: 0.1942 - 318ms/epoch - 3ms/step\n",
      "Epoch 4/1000\n",
      "102/102 - 1s - loss: 0.0283 - root_mean_squared_error: 0.1681 - val_loss: 0.0177 - val_root_mean_squared_error: 0.1332 - 699ms/epoch - 7ms/step\n",
      "Epoch 5/1000\n",
      "102/102 - 0s - loss: 0.0138 - root_mean_squared_error: 0.1173 - val_loss: 0.0091 - val_root_mean_squared_error: 0.0953 - 451ms/epoch - 4ms/step\n",
      "Epoch 6/1000\n",
      "102/102 - 0s - loss: 0.0075 - root_mean_squared_error: 0.0867 - val_loss: 0.0051 - val_root_mean_squared_error: 0.0716 - 298ms/epoch - 3ms/step\n",
      "Epoch 7/1000\n",
      "102/102 - 0s - loss: 0.0045 - root_mean_squared_error: 0.0670 - val_loss: 0.0031 - val_root_mean_squared_error: 0.0559 - 303ms/epoch - 3ms/step\n",
      "Epoch 8/1000\n",
      "102/102 - 0s - loss: 0.0029 - root_mean_squared_error: 0.0538 - val_loss: 0.0021 - val_root_mean_squared_error: 0.0453 - 333ms/epoch - 3ms/step\n",
      "Epoch 9/1000\n",
      "102/102 - 0s - loss: 0.0020 - root_mean_squared_error: 0.0447 - val_loss: 0.0015 - val_root_mean_squared_error: 0.0384 - 310ms/epoch - 3ms/step\n",
      "Epoch 10/1000\n",
      "102/102 - 0s - loss: 0.0014 - root_mean_squared_error: 0.0380 - val_loss: 0.0011 - val_root_mean_squared_error: 0.0332 - 465ms/epoch - 5ms/step\n",
      "Epoch 11/1000\n",
      "102/102 - 0s - loss: 0.0011 - root_mean_squared_error: 0.0329 - val_loss: 8.6528e-04 - val_root_mean_squared_error: 0.0294 - 357ms/epoch - 3ms/step\n",
      "Epoch 12/1000\n",
      "102/102 - 0s - loss: 8.4402e-04 - root_mean_squared_error: 0.0291 - val_loss: 7.1405e-04 - val_root_mean_squared_error: 0.0267 - 296ms/epoch - 3ms/step\n",
      "Epoch 13/1000\n",
      "102/102 - 0s - loss: 6.8059e-04 - root_mean_squared_error: 0.0261 - val_loss: 6.1287e-04 - val_root_mean_squared_error: 0.0248 - 272ms/epoch - 3ms/step\n",
      "Epoch 14/1000\n",
      "102/102 - 0s - loss: 5.6455e-04 - root_mean_squared_error: 0.0238 - val_loss: 5.4928e-04 - val_root_mean_squared_error: 0.0234 - 295ms/epoch - 3ms/step\n",
      "Epoch 15/1000\n",
      "102/102 - 0s - loss: 4.8110e-04 - root_mean_squared_error: 0.0219 - val_loss: 4.9720e-04 - val_root_mean_squared_error: 0.0223 - 448ms/epoch - 4ms/step\n",
      "Epoch 16/1000\n",
      "102/102 - 0s - loss: 4.1815e-04 - root_mean_squared_error: 0.0204 - val_loss: 4.6133e-04 - val_root_mean_squared_error: 0.0215 - 273ms/epoch - 3ms/step\n",
      "Epoch 17/1000\n",
      "102/102 - 0s - loss: 3.6885e-04 - root_mean_squared_error: 0.0192 - val_loss: 4.3382e-04 - val_root_mean_squared_error: 0.0208 - 500ms/epoch - 5ms/step\n",
      "Epoch 18/1000\n",
      "102/102 - 0s - loss: 3.3092e-04 - root_mean_squared_error: 0.0182 - val_loss: 4.1088e-04 - val_root_mean_squared_error: 0.0203 - 500ms/epoch - 5ms/step\n",
      "Epoch 19/1000\n",
      "102/102 - 0s - loss: 2.9794e-04 - root_mean_squared_error: 0.0173 - val_loss: 3.9120e-04 - val_root_mean_squared_error: 0.0198 - 275ms/epoch - 3ms/step\n",
      "Epoch 20/1000\n",
      "102/102 - 0s - loss: 2.7114e-04 - root_mean_squared_error: 0.0165 - val_loss: 3.7297e-04 - val_root_mean_squared_error: 0.0193 - 267ms/epoch - 3ms/step\n",
      "Epoch 21/1000\n",
      "102/102 - 0s - loss: 2.4786e-04 - root_mean_squared_error: 0.0157 - val_loss: 3.5709e-04 - val_root_mean_squared_error: 0.0189 - 399ms/epoch - 4ms/step\n",
      "Epoch 22/1000\n",
      "102/102 - 0s - loss: 2.2802e-04 - root_mean_squared_error: 0.0151 - val_loss: 3.3941e-04 - val_root_mean_squared_error: 0.0184 - 279ms/epoch - 3ms/step\n",
      "Epoch 23/1000\n",
      "102/102 - 0s - loss: 2.0984e-04 - root_mean_squared_error: 0.0145 - val_loss: 3.2450e-04 - val_root_mean_squared_error: 0.0180 - 259ms/epoch - 3ms/step\n",
      "Epoch 24/1000\n",
      "102/102 - 0s - loss: 1.9243e-04 - root_mean_squared_error: 0.0139 - val_loss: 3.0827e-04 - val_root_mean_squared_error: 0.0176 - 287ms/epoch - 3ms/step\n",
      "Epoch 25/1000\n",
      "102/102 - 0s - loss: 1.7746e-04 - root_mean_squared_error: 0.0133 - val_loss: 2.9274e-04 - val_root_mean_squared_error: 0.0171 - 263ms/epoch - 3ms/step\n",
      "Epoch 26/1000\n",
      "102/102 - 0s - loss: 1.6319e-04 - root_mean_squared_error: 0.0128 - val_loss: 2.7657e-04 - val_root_mean_squared_error: 0.0166 - 257ms/epoch - 3ms/step\n",
      "Epoch 27/1000\n",
      "102/102 - 0s - loss: 1.4964e-04 - root_mean_squared_error: 0.0122 - val_loss: 2.5832e-04 - val_root_mean_squared_error: 0.0161 - 266ms/epoch - 3ms/step\n",
      "Epoch 28/1000\n",
      "102/102 - 0s - loss: 1.3699e-04 - root_mean_squared_error: 0.0117 - val_loss: 2.4225e-04 - val_root_mean_squared_error: 0.0156 - 260ms/epoch - 3ms/step\n",
      "Epoch 29/1000\n",
      "102/102 - 0s - loss: 1.2496e-04 - root_mean_squared_error: 0.0112 - val_loss: 2.2637e-04 - val_root_mean_squared_error: 0.0150 - 263ms/epoch - 3ms/step\n",
      "Epoch 30/1000\n",
      "102/102 - 0s - loss: 1.1372e-04 - root_mean_squared_error: 0.0107 - val_loss: 2.0737e-04 - val_root_mean_squared_error: 0.0144 - 268ms/epoch - 3ms/step\n",
      "Epoch 31/1000\n",
      "102/102 - 0s - loss: 1.0280e-04 - root_mean_squared_error: 0.0101 - val_loss: 1.9088e-04 - val_root_mean_squared_error: 0.0138 - 278ms/epoch - 3ms/step\n",
      "Epoch 32/1000\n",
      "102/102 - 0s - loss: 9.2548e-05 - root_mean_squared_error: 0.0096 - val_loss: 1.7298e-04 - val_root_mean_squared_error: 0.0132 - 281ms/epoch - 3ms/step\n",
      "Epoch 33/1000\n",
      "102/102 - 0s - loss: 8.3114e-05 - root_mean_squared_error: 0.0091 - val_loss: 1.6140e-04 - val_root_mean_squared_error: 0.0127 - 281ms/epoch - 3ms/step\n",
      "Epoch 34/1000\n",
      "102/102 - 0s - loss: 7.4383e-05 - root_mean_squared_error: 0.0086 - val_loss: 1.4296e-04 - val_root_mean_squared_error: 0.0120 - 268ms/epoch - 3ms/step\n",
      "Epoch 35/1000\n",
      "102/102 - 0s - loss: 6.6813e-05 - root_mean_squared_error: 0.0082 - val_loss: 1.3204e-04 - val_root_mean_squared_error: 0.0115 - 273ms/epoch - 3ms/step\n",
      "Epoch 36/1000\n",
      "102/102 - 0s - loss: 5.9786e-05 - root_mean_squared_error: 0.0077 - val_loss: 1.2033e-04 - val_root_mean_squared_error: 0.0110 - 260ms/epoch - 3ms/step\n",
      "Epoch 37/1000\n",
      "102/102 - 0s - loss: 5.3897e-05 - root_mean_squared_error: 0.0073 - val_loss: 1.0919e-04 - val_root_mean_squared_error: 0.0104 - 266ms/epoch - 3ms/step\n",
      "Epoch 38/1000\n",
      "102/102 - 0s - loss: 4.8472e-05 - root_mean_squared_error: 0.0070 - val_loss: 1.0208e-04 - val_root_mean_squared_error: 0.0101 - 272ms/epoch - 3ms/step\n",
      "Epoch 39/1000\n",
      "102/102 - 0s - loss: 4.3908e-05 - root_mean_squared_error: 0.0066 - val_loss: 9.5532e-05 - val_root_mean_squared_error: 0.0098 - 269ms/epoch - 3ms/step\n",
      "Epoch 40/1000\n",
      "102/102 - 0s - loss: 4.0020e-05 - root_mean_squared_error: 0.0063 - val_loss: 8.9367e-05 - val_root_mean_squared_error: 0.0095 - 276ms/epoch - 3ms/step\n",
      "Epoch 41/1000\n",
      "102/102 - 0s - loss: 3.6727e-05 - root_mean_squared_error: 0.0061 - val_loss: 8.4896e-05 - val_root_mean_squared_error: 0.0092 - 271ms/epoch - 3ms/step\n",
      "Epoch 42/1000\n",
      "102/102 - 0s - loss: 3.3958e-05 - root_mean_squared_error: 0.0058 - val_loss: 8.1111e-05 - val_root_mean_squared_error: 0.0090 - 263ms/epoch - 3ms/step\n",
      "Epoch 43/1000\n",
      "102/102 - 0s - loss: 3.1729e-05 - root_mean_squared_error: 0.0056 - val_loss: 7.8514e-05 - val_root_mean_squared_error: 0.0089 - 270ms/epoch - 3ms/step\n",
      "Epoch 44/1000\n",
      "102/102 - 0s - loss: 2.9809e-05 - root_mean_squared_error: 0.0055 - val_loss: 7.6270e-05 - val_root_mean_squared_error: 0.0087 - 287ms/epoch - 3ms/step\n",
      "Epoch 45/1000\n",
      "102/102 - 0s - loss: 2.8025e-05 - root_mean_squared_error: 0.0053 - val_loss: 7.4525e-05 - val_root_mean_squared_error: 0.0086 - 271ms/epoch - 3ms/step\n",
      "Epoch 46/1000\n",
      "102/102 - 0s - loss: 2.6649e-05 - root_mean_squared_error: 0.0052 - val_loss: 7.3421e-05 - val_root_mean_squared_error: 0.0086 - 268ms/epoch - 3ms/step\n",
      "Epoch 47/1000\n",
      "102/102 - 0s - loss: 2.5378e-05 - root_mean_squared_error: 0.0050 - val_loss: 7.2025e-05 - val_root_mean_squared_error: 0.0085 - 269ms/epoch - 3ms/step\n",
      "Epoch 48/1000\n",
      "102/102 - 0s - loss: 2.4407e-05 - root_mean_squared_error: 0.0049 - val_loss: 7.0547e-05 - val_root_mean_squared_error: 0.0084 - 269ms/epoch - 3ms/step\n",
      "Epoch 49/1000\n",
      "102/102 - 0s - loss: 2.3271e-05 - root_mean_squared_error: 0.0048 - val_loss: 6.9751e-05 - val_root_mean_squared_error: 0.0084 - 265ms/epoch - 3ms/step\n",
      "Epoch 50/1000\n",
      "102/102 - 0s - loss: 2.2388e-05 - root_mean_squared_error: 0.0047 - val_loss: 6.9050e-05 - val_root_mean_squared_error: 0.0083 - 267ms/epoch - 3ms/step\n",
      "Epoch 51/1000\n",
      "102/102 - 0s - loss: 2.1694e-05 - root_mean_squared_error: 0.0047 - val_loss: 6.8866e-05 - val_root_mean_squared_error: 0.0083 - 268ms/epoch - 3ms/step\n",
      "Epoch 52/1000\n",
      "102/102 - 0s - loss: 2.0843e-05 - root_mean_squared_error: 0.0046 - val_loss: 6.8870e-05 - val_root_mean_squared_error: 0.0083 - 270ms/epoch - 3ms/step\n",
      "Epoch 53/1000\n",
      "102/102 - 0s - loss: 2.0164e-05 - root_mean_squared_error: 0.0045 - val_loss: 6.7104e-05 - val_root_mean_squared_error: 0.0082 - 271ms/epoch - 3ms/step\n",
      "Epoch 54/1000\n",
      "102/102 - 0s - loss: 1.9421e-05 - root_mean_squared_error: 0.0044 - val_loss: 6.7454e-05 - val_root_mean_squared_error: 0.0082 - 273ms/epoch - 3ms/step\n",
      "Epoch 55/1000\n",
      "102/102 - 0s - loss: 1.8887e-05 - root_mean_squared_error: 0.0043 - val_loss: 6.6688e-05 - val_root_mean_squared_error: 0.0082 - 336ms/epoch - 3ms/step\n",
      "Epoch 56/1000\n",
      "102/102 - 0s - loss: 1.8203e-05 - root_mean_squared_error: 0.0043 - val_loss: 6.5950e-05 - val_root_mean_squared_error: 0.0081 - 274ms/epoch - 3ms/step\n",
      "Epoch 57/1000\n",
      "102/102 - 0s - loss: 1.7514e-05 - root_mean_squared_error: 0.0042 - val_loss: 6.5769e-05 - val_root_mean_squared_error: 0.0081 - 267ms/epoch - 3ms/step\n",
      "Epoch 58/1000\n",
      "102/102 - 0s - loss: 1.7058e-05 - root_mean_squared_error: 0.0041 - val_loss: 6.5116e-05 - val_root_mean_squared_error: 0.0081 - 282ms/epoch - 3ms/step\n",
      "Epoch 59/1000\n",
      "102/102 - 0s - loss: 1.6524e-05 - root_mean_squared_error: 0.0041 - val_loss: 6.5101e-05 - val_root_mean_squared_error: 0.0081 - 313ms/epoch - 3ms/step\n",
      "Epoch 60/1000\n",
      "102/102 - 0s - loss: 1.6162e-05 - root_mean_squared_error: 0.0040 - val_loss: 6.3857e-05 - val_root_mean_squared_error: 0.0080 - 255ms/epoch - 3ms/step\n",
      "Epoch 61/1000\n",
      "102/102 - 0s - loss: 1.5735e-05 - root_mean_squared_error: 0.0040 - val_loss: 6.2759e-05 - val_root_mean_squared_error: 0.0079 - 263ms/epoch - 3ms/step\n",
      "Epoch 62/1000\n",
      "102/102 - 0s - loss: 1.5284e-05 - root_mean_squared_error: 0.0039 - val_loss: 6.2993e-05 - val_root_mean_squared_error: 0.0079 - 270ms/epoch - 3ms/step\n",
      "Epoch 63/1000\n",
      "102/102 - 0s - loss: 1.4728e-05 - root_mean_squared_error: 0.0038 - val_loss: 6.2335e-05 - val_root_mean_squared_error: 0.0079 - 269ms/epoch - 3ms/step\n",
      "Epoch 64/1000\n",
      "102/102 - 0s - loss: 1.4367e-05 - root_mean_squared_error: 0.0038 - val_loss: 6.3089e-05 - val_root_mean_squared_error: 0.0079 - 261ms/epoch - 3ms/step\n",
      "Epoch 65/1000\n",
      "102/102 - 0s - loss: 1.4065e-05 - root_mean_squared_error: 0.0038 - val_loss: 6.0796e-05 - val_root_mean_squared_error: 0.0078 - 295ms/epoch - 3ms/step\n",
      "Epoch 66/1000\n",
      "102/102 - 0s - loss: 1.3801e-05 - root_mean_squared_error: 0.0037 - val_loss: 6.1256e-05 - val_root_mean_squared_error: 0.0078 - 287ms/epoch - 3ms/step\n",
      "Epoch 67/1000\n",
      "102/102 - 0s - loss: 1.3391e-05 - root_mean_squared_error: 0.0037 - val_loss: 6.0352e-05 - val_root_mean_squared_error: 0.0078 - 367ms/epoch - 4ms/step\n",
      "Epoch 68/1000\n",
      "102/102 - 0s - loss: 1.3118e-05 - root_mean_squared_error: 0.0036 - val_loss: 6.2977e-05 - val_root_mean_squared_error: 0.0079 - 454ms/epoch - 4ms/step\n",
      "Epoch 69/1000\n",
      "102/102 - 0s - loss: 1.2809e-05 - root_mean_squared_error: 0.0036 - val_loss: 6.2831e-05 - val_root_mean_squared_error: 0.0079 - 390ms/epoch - 4ms/step\n"
     ]
    }
   ],
   "source": [
    "# fit the model\n",
    "history = model.fit(\n",
    "    train_inputs, train_targets, batch_size=BATCH_SIZE,epochs=MAX_EPOCHS, callbacks=[early_stopping], validation_data=(validation_inputs, validation_targets), verbose=2\n",
    "          )"
   ]
  },
  {
   "cell_type": "code",
   "execution_count": 348,
   "metadata": {},
   "outputs": [
    {
     "name": "stdout",
     "output_type": "stream",
     "text": [
      "Model: \"sequential_25\"\n",
      "_________________________________________________________________\n",
      " Layer (type)                Output Shape              Param #   \n",
      "=================================================================\n",
      " dense_106 (Dense)           (1, 19)                   380       \n",
      "                                                                 \n",
      " dense_107 (Dense)           (1, 70)                   1400      \n",
      "                                                                 \n",
      " dense_108 (Dense)           (1, 50)                   3550      \n",
      "                                                                 \n",
      " dense_109 (Dense)           (1, 50)                   2550      \n",
      "                                                                 \n",
      " dense_110 (Dense)           (1, 1)                    51        \n",
      "                                                                 \n",
      "=================================================================\n",
      "Total params: 7,931\n",
      "Trainable params: 7,931\n",
      "Non-trainable params: 0\n",
      "_________________________________________________________________\n"
     ]
    }
   ],
   "source": [
    "# ANN model summary\n",
    "model.summary()"
   ]
  },
  {
   "cell_type": "code",
   "execution_count": 349,
   "metadata": {},
   "outputs": [
    {
     "data": {
      "image/png": "[encoded data removed]",
      "text/plain": [
       "<Figure size 640x480 with 1 Axes>"
      ]
     },
     "metadata": {},
     "output_type": "display_data"
    }
   ],
   "source": [
    "import matplotlib.pyplot as plt\n",
    "plt.plot(history.history['loss'], label='Training_loss')\n",
    "plt.plot(history.history['val_loss'], label='Validation_loss')\n",
    "plt.xlabel('epochs')\n",
    "plt.ylabel('loss')\n",
    "plt.legend()\n",
    "plt.show()"
   ]
  },
  {
   "cell_type": "markdown",
   "metadata": {},
   "source": [
    "# Model check on Test data"
   ]
  },
  {
   "cell_type": "code",
   "execution_count": 350,
   "metadata": {},
   "outputs": [
    {
     "name": "stdout",
     "output_type": "stream",
     "text": [
      "1/1 [==============================] - 0s 245ms/step - loss: 1.3556e-05 - root_mean_squared_error: 0.0037\n"
     ]
    }
   ],
   "source": [
    "test_loss, test_accuracy = model.evaluate(test_inputs, test_targets)"
   ]
  },
  {
   "cell_type": "code",
   "execution_count": 351,
   "metadata": {},
   "outputs": [
    {
     "name": "stdout",
     "output_type": "stream",
     "text": [
      "\n",
      "Test loss: 0.0000. Test accuracy: 0.0037 rmse\n"
     ]
    }
   ],
   "source": [
    "print('\\nTest loss: {0:.4f}. Test accuracy: {1:.4f} rmse'.format(test_loss, test_accuracy))"
   ]
  },
  {
   "cell_type": "code",
   "execution_count": 359,
   "metadata": {},
   "outputs": [
    {
     "name": "stdout",
     "output_type": "stream",
     "text": [
      "1/1 [==============================] - 0s 81ms/step\n"
     ]
    },
    {
     "data": {
      "text/html": [
       "<div>\n",
       "<style scoped>\n",
       "    .dataframe tbody tr th:only-of-type {\n",
       "        vertical-align: middle;\n",
       "    }\n",
       "\n",
       "    .dataframe tbody tr th {\n",
       "        vertical-align: top;\n",
       "    }\n",
       "\n",
       "    .dataframe thead th {\n",
       "        text-align: right;\n",
       "    }\n",
       "</style>\n",
       "<table border=\"1\" class=\"dataframe\">\n",
       "  <thead>\n",
       "    <tr style=\"text-align: right;\">\n",
       "      <th></th>\n",
       "      <th>Target-St(%)</th>\n",
       "      <th>Prediction-St(%)</th>\n",
       "      <th>Pred-Accu-St(%)</th>\n",
       "    </tr>\n",
       "  </thead>\n",
       "  <tbody>\n",
       "    <tr>\n",
       "      <th>0</th>\n",
       "      <td>0.97</td>\n",
       "      <td>0.968</td>\n",
       "      <td>99.79</td>\n",
       "    </tr>\n",
       "    <tr>\n",
       "      <th>1</th>\n",
       "      <td>0.98</td>\n",
       "      <td>0.978</td>\n",
       "      <td>99.80</td>\n",
       "    </tr>\n",
       "    <tr>\n",
       "      <th>2</th>\n",
       "      <td>0.99</td>\n",
       "      <td>0.991</td>\n",
       "      <td>100.10</td>\n",
       "    </tr>\n",
       "    <tr>\n",
       "      <th>3</th>\n",
       "      <td>0.99</td>\n",
       "      <td>0.988</td>\n",
       "      <td>99.80</td>\n",
       "    </tr>\n",
       "    <tr>\n",
       "      <th>4</th>\n",
       "      <td>0.99</td>\n",
       "      <td>0.989</td>\n",
       "      <td>99.90</td>\n",
       "    </tr>\n",
       "    <tr>\n",
       "      <th>5</th>\n",
       "      <td>0.94</td>\n",
       "      <td>0.940</td>\n",
       "      <td>100.00</td>\n",
       "    </tr>\n",
       "    <tr>\n",
       "      <th>6</th>\n",
       "      <td>0.97</td>\n",
       "      <td>0.970</td>\n",
       "      <td>100.00</td>\n",
       "    </tr>\n",
       "    <tr>\n",
       "      <th>7</th>\n",
       "      <td>1.00</td>\n",
       "      <td>0.994</td>\n",
       "      <td>99.40</td>\n",
       "    </tr>\n",
       "    <tr>\n",
       "      <th>8</th>\n",
       "      <td>0.98</td>\n",
       "      <td>0.980</td>\n",
       "      <td>100.00</td>\n",
       "    </tr>\n",
       "    <tr>\n",
       "      <th>9</th>\n",
       "      <td>0.99</td>\n",
       "      <td>0.989</td>\n",
       "      <td>99.90</td>\n",
       "    </tr>\n",
       "    <tr>\n",
       "      <th>10</th>\n",
       "      <td>0.97</td>\n",
       "      <td>0.968</td>\n",
       "      <td>99.79</td>\n",
       "    </tr>\n",
       "    <tr>\n",
       "      <th>11</th>\n",
       "      <td>0.99</td>\n",
       "      <td>0.991</td>\n",
       "      <td>100.10</td>\n",
       "    </tr>\n",
       "    <tr>\n",
       "      <th>12</th>\n",
       "      <td>0.98</td>\n",
       "      <td>0.991</td>\n",
       "      <td>101.12</td>\n",
       "    </tr>\n",
       "  </tbody>\n",
       "</table>\n",
       "</div>"
      ],
      "text/plain": [
       "    Target-St(%)  Prediction-St(%)  Pred-Accu-St(%)\n",
       "0           0.97             0.968            99.79\n",
       "1           0.98             0.978            99.80\n",
       "2           0.99             0.991           100.10\n",
       "3           0.99             0.988            99.80\n",
       "4           0.99             0.989            99.90\n",
       "5           0.94             0.940           100.00\n",
       "6           0.97             0.970           100.00\n",
       "7           1.00             0.994            99.40\n",
       "8           0.98             0.980           100.00\n",
       "9           0.99             0.989            99.90\n",
       "10          0.97             0.968            99.79\n",
       "11          0.99             0.991           100.10\n",
       "12          0.98             0.991           101.12"
      ]
     },
     "execution_count": 359,
     "metadata": {},
     "output_type": "execute_result"
    }
   ],
   "source": [
    "prediction = model.predict(test_inputs)\n",
    "data_inputs = pd.DataFrame(test_inputs)\n",
    "prediction = pd.DataFrame(np.round(prediction,3))\n",
    "test_targets = pd.DataFrame(test_targets)\n",
    "pred_accu = np.round((prediction/test_targets)*100,2)\n",
    "\n",
    "result = pd.concat([test_targets, prediction, pred_accu], axis = 1, ignore_index=True)\n",
    "result.columns = ['Target-St(%)', 'Prediction-St(%)','Pred-Accu-St(%)']\n",
    "result"
   ]
  },
  {
   "cell_type": "code",
   "execution_count": 360,
   "metadata": {},
   "outputs": [
    {
     "data": {
      "text/plain": [
       "Text(0.5, 0, 'Targets (red) & Predictions (blue)')"
      ]
     },
     "execution_count": 360,
     "metadata": {},
     "output_type": "execute_result"
    },
    {
     "data": {
      "image/png": "[encoded data removed]",
      "text/plain": [
       "<Figure size 640x480 with 1 Axes>"
      ]
     },
     "metadata": {},
     "output_type": "display_data"
    }
   ],
   "source": [
    "plt.scatter(result['Target-St(%)'], result['Pred-Accu-St(%)'], color='r')\n",
    "plt.scatter(result['Prediction-St(%)'], result['Pred-Accu-St(%)'],alpha=0.4, color='b')\n",
    "plt.ylabel('Error in the prediction(%)')\n",
    "plt.xlabel('Targets (red) & Predictions (blue)')\n"
   ]
  },
  {
   "cell_type": "code",
   "execution_count": 362,
   "metadata": {},
   "outputs": [
    {
     "data": {
      "text/plain": [
       "Text(0.5, 0, 'Targets')"
      ]
     },
     "execution_count": 362,
     "metadata": {},
     "output_type": "execute_result"
    },
    {
     "data": {
      "image/png": "[encoded data removed]",
      "text/plain": [
       "<Figure size 640x480 with 1 Axes>"
      ]
     },
     "metadata": {},
     "output_type": "display_data"
    }
   ],
   "source": [
    "plt.scatter(result['Target-St(%)'], result['Prediction-St(%)'], alpha=0.3, color='g')\n",
    "plt.ylabel('predictions')\n",
    "plt.xlabel('Targets')\n"
   ]
  },
  {
   "cell_type": "code",
   "execution_count": 354,
   "metadata": {},
   "outputs": [
    {
     "data": {
      "text/plain": [
       "0.9285714285700624"
      ]
     },
     "execution_count": 354,
     "metadata": {},
     "output_type": "execute_result"
    }
   ],
   "source": [
    "# estimation of R2 score\n",
    "from sklearn.metrics import r2_score\n",
    "r2_score_test = r2_score(test_targets, prediction)\n",
    "r2_score_test"
   ]
  },
  {
   "cell_type": "code",
   "execution_count": 355,
   "metadata": {},
   "outputs": [
    {
     "data": {
      "text/plain": [
       "0.9047619047600831"
      ]
     },
     "execution_count": 355,
     "metadata": {},
     "output_type": "execute_result"
    }
   ],
   "source": [
    "# estimation of adjusted R2 score\n",
    "n = np.size(test_targets)\n",
    "k = 3 # number of features\n",
    "adj_r2_score = 1 - (((1-r2_score_test)*(n-1))/((n-k-1)))\n",
    "adj_r2_score"
   ]
  },
  {
   "cell_type": "code",
   "execution_count": 356,
   "metadata": {},
   "outputs": [
    {
     "name": "stdout",
     "output_type": "stream",
     "text": [
      "Uncertainty of the ANN model: 0.41 [%]\n",
      "Average test prediction precision 99.59 [%]\n"
     ]
    }
   ],
   "source": [
    "mean_pred = pred_accu.mean()\n",
    "std_pred = pred_accu.std()\n",
    "uncertainty_model = std_pred\n",
    "print(\"Uncertainty of the ANN model:\", np.round(uncertainty_model[0],2), '[%]')\n",
    "print(\"Average test prediction precision\", np.round(100 - uncertainty_model[0],2), '[%]')"
   ]
  },
  {
   "cell_type": "markdown",
   "metadata": {},
   "source": [
    "# ANN Model Deployment"
   ]
  },
  {
   "cell_type": "markdown",
   "metadata": {},
   "source": [
    "ANN model deployment for micro DSC error prediction"
   ]
  },
  {
   "cell_type": "code",
   "execution_count": 357,
   "metadata": {},
   "outputs": [],
   "source": [
    "import keras\n",
    "model.save('micro_dsc_dl.h5')"
   ]
  },
  {
   "cell_type": "code",
   "execution_count": null,
   "metadata": {},
   "outputs": [],
   "source": []
  }
 ],
 "metadata": {
  "kernelspec": {
   "display_name": ".venv",
   "language": "python",
   "name": "python3"
  },
  "language_info": {
   "codemirror_mode": {
    "name": "ipython",
    "version": 3
   },
   "file_extension": ".py",
   "mimetype": "text/x-python",
   "name": "python",
   "nbconvert_exporter": "python",
   "pygments_lexer": "ipython3",
   "version": "3.8.9"
  },
  "orig_nbformat": 4,
  "vscode": {
   "interpreter": {
    "hash": "795fce77f85a68c42812bdf3641cf800dca9a871e04df385e26cc90e90697f34"
   }
  }
 },
 "nbformat": 4,
 "nbformat_minor": 2
}
