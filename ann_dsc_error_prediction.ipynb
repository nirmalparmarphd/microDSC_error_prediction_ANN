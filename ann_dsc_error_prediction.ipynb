{
 "cells": [
  {
   "cell_type": "markdown",
   "metadata": {},
   "source": [
    "# DNN Model"
   ]
  },
  {
   "cell_type": "code",
   "execution_count": 53,
   "metadata": {},
   "outputs": [],
   "source": [
    "import numpy as np\n",
    "import pandas as pd\n",
    "import tensorflow as tf"
   ]
  },
  {
   "cell_type": "code",
   "execution_count": 54,
   "metadata": {},
   "outputs": [],
   "source": [
    "# data loading from .npz generated from tcr_data_process.ipynb\n",
    "# loading train data\n",
    "npz = np.load('data_train.npz')\n",
    "train_inputs = npz['input'].astype(np.float64)\n",
    "train_targets = npz['targets'].astype(np.float64)\n",
    "# loading validation data\n",
    "npz = np.load('data_validation.npz')\n",
    "validation_inputs, validation_targets = npz['input'].astype(np.float64), npz['targets'].astype(np.float64)\n",
    "\n",
    "npz = np.load('data_test.npz')\n",
    "test_inputs, test_targets = npz['input'].astype(np.float64), npz['targets'].astype(np.float64)"
   ]
  },
  {
   "cell_type": "markdown",
   "metadata": {},
   "source": [
    "# ANN Model"
   ]
  },
  {
   "cell_type": "markdown",
   "metadata": {},
   "source": [
    "Outline, Optimizer, Loss function, Early stopping and Training rate"
   ]
  },
  {
   "cell_type": "code",
   "execution_count": 55,
   "metadata": {},
   "outputs": [],
   "source": [
    "# NN model prep\n",
    "input_size = 3\n",
    "output_size = 1\n",
    "hidden_layer_1_size = 15\n",
    "hidden_layer_2_size = 15\n",
    "hidden_layer_3_size = 10\n",
    "\n",
    "model = tf.keras.Sequential([\n",
    "    tf.keras.layers.Dense(input_size),\n",
    "    tf.keras.layers.Dense(hidden_layer_1_size, activation='relu'),\n",
    "    tf.keras.layers.Dense(hidden_layer_2_size, activation='relu'),\n",
    "    tf.keras.layers.Dense(hidden_layer_3_size, activation='relu'),\n",
    "    tf.keras.layers.Dense(output_size, activation='linear')\n",
    "])\n"
   ]
  },
  {
   "cell_type": "code",
   "execution_count": 56,
   "metadata": {},
   "outputs": [],
   "source": [
    "# model prep, optimizer and loss function\n",
    "optimizer = tf.keras.optimizers.Adam(learning_rate=0.00001)\n",
    "model.compile(optimizer, loss=tf.keras.losses.MeanSquaredError(),metrics=[tf.keras.metrics.RootMeanSquaredError()])\n"
   ]
  },
  {
   "cell_type": "code",
   "execution_count": 57,
   "metadata": {},
   "outputs": [],
   "source": [
    "# Training\n",
    "BATCH_SIZE = 1\n",
    "MAX_EPOCHS = 1000\n",
    "early_stopping = tf.keras.callbacks.EarlyStopping(patience=2)"
   ]
  },
  {
   "cell_type": "code",
   "execution_count": 58,
   "metadata": {},
   "outputs": [
    {
     "name": "stdout",
     "output_type": "stream",
     "text": [
      "Epoch 1/1000\n",
      "640/640 - 6s - loss: 1.0919 - root_mean_squared_error: 1.0450 - val_loss: 1.0495 - val_root_mean_squared_error: 1.0245 - 6s/epoch - 10ms/step\n",
      "Epoch 2/1000\n",
      "640/640 - 1s - loss: 0.9802 - root_mean_squared_error: 0.9900 - val_loss: 0.9451 - val_root_mean_squared_error: 0.9721 - 1s/epoch - 2ms/step\n",
      "Epoch 3/1000\n",
      "640/640 - 1s - loss: 0.8774 - root_mean_squared_error: 0.9367 - val_loss: 0.8493 - val_root_mean_squared_error: 0.9216 - 1s/epoch - 2ms/step\n",
      "Epoch 4/1000\n",
      "640/640 - 1s - loss: 0.7832 - root_mean_squared_error: 0.8850 - val_loss: 0.7596 - val_root_mean_squared_error: 0.8715 - 1s/epoch - 2ms/step\n",
      "Epoch 5/1000\n",
      "640/640 - 1s - loss: 0.6974 - root_mean_squared_error: 0.8351 - val_loss: 0.6778 - val_root_mean_squared_error: 0.8233 - 1s/epoch - 2ms/step\n",
      "Epoch 6/1000\n",
      "640/640 - 1s - loss: 0.6204 - root_mean_squared_error: 0.7876 - val_loss: 0.6036 - val_root_mean_squared_error: 0.7769 - 1s/epoch - 2ms/step\n",
      "Epoch 7/1000\n",
      "640/640 - 1s - loss: 0.5520 - root_mean_squared_error: 0.7429 - val_loss: 0.5370 - val_root_mean_squared_error: 0.7328 - 1s/epoch - 2ms/step\n",
      "Epoch 8/1000\n",
      "640/640 - 1s - loss: 0.4921 - root_mean_squared_error: 0.7015 - val_loss: 0.4778 - val_root_mean_squared_error: 0.6912 - 1s/epoch - 2ms/step\n",
      "Epoch 9/1000\n",
      "640/640 - 1s - loss: 0.4388 - root_mean_squared_error: 0.6624 - val_loss: 0.4243 - val_root_mean_squared_error: 0.6514 - 1s/epoch - 2ms/step\n",
      "Epoch 10/1000\n",
      "640/640 - 2s - loss: 0.3927 - root_mean_squared_error: 0.6266 - val_loss: 0.3782 - val_root_mean_squared_error: 0.6149 - 2s/epoch - 3ms/step\n",
      "Epoch 11/1000\n",
      "640/640 - 1s - loss: 0.3524 - root_mean_squared_error: 0.5936 - val_loss: 0.3361 - val_root_mean_squared_error: 0.5797 - 1s/epoch - 2ms/step\n",
      "Epoch 12/1000\n",
      "640/640 - 1s - loss: 0.3146 - root_mean_squared_error: 0.5609 - val_loss: 0.2980 - val_root_mean_squared_error: 0.5459 - 1s/epoch - 2ms/step\n",
      "Epoch 13/1000\n",
      "640/640 - 1s - loss: 0.2810 - root_mean_squared_error: 0.5300 - val_loss: 0.2638 - val_root_mean_squared_error: 0.5137 - 1s/epoch - 2ms/step\n",
      "Epoch 14/1000\n",
      "640/640 - 1s - loss: 0.2499 - root_mean_squared_error: 0.4999 - val_loss: 0.2309 - val_root_mean_squared_error: 0.4806 - 1s/epoch - 2ms/step\n",
      "Epoch 15/1000\n",
      "640/640 - 1s - loss: 0.2152 - root_mean_squared_error: 0.4639 - val_loss: 0.1930 - val_root_mean_squared_error: 0.4393 - 1s/epoch - 2ms/step\n",
      "Epoch 16/1000\n",
      "640/640 - 1s - loss: 0.1826 - root_mean_squared_error: 0.4273 - val_loss: 0.1622 - val_root_mean_squared_error: 0.4027 - 1s/epoch - 2ms/step\n",
      "Epoch 17/1000\n",
      "640/640 - 1s - loss: 0.1556 - root_mean_squared_error: 0.3945 - val_loss: 0.1370 - val_root_mean_squared_error: 0.3701 - 1s/epoch - 2ms/step\n",
      "Epoch 18/1000\n",
      "640/640 - 1s - loss: 0.1327 - root_mean_squared_error: 0.3642 - val_loss: 0.1152 - val_root_mean_squared_error: 0.3394 - 1s/epoch - 2ms/step\n",
      "Epoch 19/1000\n",
      "640/640 - 2s - loss: 0.1129 - root_mean_squared_error: 0.3360 - val_loss: 0.0969 - val_root_mean_squared_error: 0.3113 - 2s/epoch - 3ms/step\n",
      "Epoch 20/1000\n",
      "640/640 - 2s - loss: 0.0962 - root_mean_squared_error: 0.3102 - val_loss: 0.0819 - val_root_mean_squared_error: 0.2861 - 2s/epoch - 3ms/step\n",
      "Epoch 21/1000\n",
      "640/640 - 1s - loss: 0.0825 - root_mean_squared_error: 0.2872 - val_loss: 0.0699 - val_root_mean_squared_error: 0.2643 - 1s/epoch - 2ms/step\n",
      "Epoch 22/1000\n",
      "640/640 - 1s - loss: 0.0714 - root_mean_squared_error: 0.2672 - val_loss: 0.0606 - val_root_mean_squared_error: 0.2461 - 1s/epoch - 2ms/step\n",
      "Epoch 23/1000\n",
      "640/640 - 1s - loss: 0.0624 - root_mean_squared_error: 0.2497 - val_loss: 0.0528 - val_root_mean_squared_error: 0.2297 - 1s/epoch - 2ms/step\n",
      "Epoch 24/1000\n",
      "640/640 - 1s - loss: 0.0542 - root_mean_squared_error: 0.2329 - val_loss: 0.0455 - val_root_mean_squared_error: 0.2132 - 1s/epoch - 2ms/step\n",
      "Epoch 25/1000\n",
      "640/640 - 2s - loss: 0.0467 - root_mean_squared_error: 0.2160 - val_loss: 0.0392 - val_root_mean_squared_error: 0.1979 - 2s/epoch - 2ms/step\n",
      "Epoch 26/1000\n",
      "640/640 - 1s - loss: 0.0400 - root_mean_squared_error: 0.2001 - val_loss: 0.0336 - val_root_mean_squared_error: 0.1833 - 1s/epoch - 2ms/step\n",
      "Epoch 27/1000\n",
      "640/640 - 1s - loss: 0.0342 - root_mean_squared_error: 0.1849 - val_loss: 0.0288 - val_root_mean_squared_error: 0.1698 - 1s/epoch - 2ms/step\n",
      "Epoch 28/1000\n",
      "640/640 - 1s - loss: 0.0290 - root_mean_squared_error: 0.1702 - val_loss: 0.0243 - val_root_mean_squared_error: 0.1559 - 1s/epoch - 2ms/step\n",
      "Epoch 29/1000\n",
      "640/640 - 1s - loss: 0.0240 - root_mean_squared_error: 0.1549 - val_loss: 0.0202 - val_root_mean_squared_error: 0.1420 - 1s/epoch - 2ms/step\n",
      "Epoch 30/1000\n",
      "640/640 - 1s - loss: 0.0197 - root_mean_squared_error: 0.1405 - val_loss: 0.0167 - val_root_mean_squared_error: 0.1293 - 1s/epoch - 2ms/step\n",
      "Epoch 31/1000\n",
      "640/640 - 2s - loss: 0.0162 - root_mean_squared_error: 0.1274 - val_loss: 0.0138 - val_root_mean_squared_error: 0.1175 - 2s/epoch - 3ms/step\n",
      "Epoch 32/1000\n",
      "640/640 - 2s - loss: 0.0131 - root_mean_squared_error: 0.1147 - val_loss: 0.0114 - val_root_mean_squared_error: 0.1066 - 2s/epoch - 3ms/step\n",
      "Epoch 33/1000\n",
      "640/640 - 1s - loss: 0.0107 - root_mean_squared_error: 0.1035 - val_loss: 0.0094 - val_root_mean_squared_error: 0.0972 - 1s/epoch - 2ms/step\n",
      "Epoch 34/1000\n",
      "640/640 - 1s - loss: 0.0089 - root_mean_squared_error: 0.0942 - val_loss: 0.0080 - val_root_mean_squared_error: 0.0893 - 1s/epoch - 2ms/step\n",
      "Epoch 35/1000\n",
      "640/640 - 1s - loss: 0.0074 - root_mean_squared_error: 0.0861 - val_loss: 0.0067 - val_root_mean_squared_error: 0.0820 - 1s/epoch - 2ms/step\n",
      "Epoch 36/1000\n",
      "640/640 - 1s - loss: 0.0060 - root_mean_squared_error: 0.0773 - val_loss: 0.0054 - val_root_mean_squared_error: 0.0733 - 1s/epoch - 2ms/step\n",
      "Epoch 37/1000\n",
      "640/640 - 1s - loss: 0.0048 - root_mean_squared_error: 0.0694 - val_loss: 0.0044 - val_root_mean_squared_error: 0.0664 - 1s/epoch - 2ms/step\n",
      "Epoch 38/1000\n",
      "640/640 - 1s - loss: 0.0039 - root_mean_squared_error: 0.0626 - val_loss: 0.0036 - val_root_mean_squared_error: 0.0599 - 1s/epoch - 2ms/step\n",
      "Epoch 39/1000\n",
      "640/640 - 1s - loss: 0.0032 - root_mean_squared_error: 0.0566 - val_loss: 0.0030 - val_root_mean_squared_error: 0.0544 - 1s/epoch - 2ms/step\n",
      "Epoch 40/1000\n",
      "640/640 - 1s - loss: 0.0026 - root_mean_squared_error: 0.0514 - val_loss: 0.0024 - val_root_mean_squared_error: 0.0494 - 1s/epoch - 2ms/step\n",
      "Epoch 41/1000\n",
      "640/640 - 1s - loss: 0.0022 - root_mean_squared_error: 0.0468 - val_loss: 0.0020 - val_root_mean_squared_error: 0.0450 - 1s/epoch - 2ms/step\n",
      "Epoch 42/1000\n",
      "640/640 - 1s - loss: 0.0018 - root_mean_squared_error: 0.0427 - val_loss: 0.0017 - val_root_mean_squared_error: 0.0410 - 1s/epoch - 2ms/step\n",
      "Epoch 43/1000\n",
      "640/640 - 1s - loss: 0.0015 - root_mean_squared_error: 0.0389 - val_loss: 0.0014 - val_root_mean_squared_error: 0.0372 - 1s/epoch - 2ms/step\n",
      "Epoch 44/1000\n",
      "640/640 - 1s - loss: 0.0012 - root_mean_squared_error: 0.0352 - val_loss: 0.0011 - val_root_mean_squared_error: 0.0335 - 1s/epoch - 2ms/step\n",
      "Epoch 45/1000\n",
      "640/640 - 1s - loss: 0.0010 - root_mean_squared_error: 0.0318 - val_loss: 9.1885e-04 - val_root_mean_squared_error: 0.0303 - 1s/epoch - 2ms/step\n",
      "Epoch 46/1000\n",
      "640/640 - 1s - loss: 8.1602e-04 - root_mean_squared_error: 0.0286 - val_loss: 7.3837e-04 - val_root_mean_squared_error: 0.0272 - 1s/epoch - 2ms/step\n",
      "Epoch 47/1000\n",
      "640/640 - 1s - loss: 6.5627e-04 - root_mean_squared_error: 0.0256 - val_loss: 5.8949e-04 - val_root_mean_squared_error: 0.0243 - 1s/epoch - 2ms/step\n",
      "Epoch 48/1000\n",
      "640/640 - 1s - loss: 5.2196e-04 - root_mean_squared_error: 0.0228 - val_loss: 4.7037e-04 - val_root_mean_squared_error: 0.0217 - 1s/epoch - 2ms/step\n",
      "Epoch 49/1000\n",
      "640/640 - 1s - loss: 4.1809e-04 - root_mean_squared_error: 0.0204 - val_loss: 3.7839e-04 - val_root_mean_squared_error: 0.0195 - 1s/epoch - 2ms/step\n",
      "Epoch 50/1000\n",
      "640/640 - 1s - loss: 3.3949e-04 - root_mean_squared_error: 0.0184 - val_loss: 3.1365e-04 - val_root_mean_squared_error: 0.0177 - 1s/epoch - 2ms/step\n",
      "Epoch 51/1000\n",
      "640/640 - 1s - loss: 2.7716e-04 - root_mean_squared_error: 0.0166 - val_loss: 2.5448e-04 - val_root_mean_squared_error: 0.0160 - 1s/epoch - 2ms/step\n",
      "Epoch 52/1000\n",
      "640/640 - 1s - loss: 2.2658e-04 - root_mean_squared_error: 0.0151 - val_loss: 2.1218e-04 - val_root_mean_squared_error: 0.0146 - 1s/epoch - 2ms/step\n",
      "Epoch 53/1000\n",
      "640/640 - 1s - loss: 1.8402e-04 - root_mean_squared_error: 0.0136 - val_loss: 1.7011e-04 - val_root_mean_squared_error: 0.0130 - 1s/epoch - 2ms/step\n",
      "Epoch 54/1000\n",
      "640/640 - 1s - loss: 1.4846e-04 - root_mean_squared_error: 0.0122 - val_loss: 1.3533e-04 - val_root_mean_squared_error: 0.0116 - 1s/epoch - 2ms/step\n",
      "Epoch 55/1000\n",
      "640/640 - 2s - loss: 1.1766e-04 - root_mean_squared_error: 0.0108 - val_loss: 1.1300e-04 - val_root_mean_squared_error: 0.0106 - 2s/epoch - 3ms/step\n",
      "Epoch 56/1000\n",
      "640/640 - 1s - loss: 9.1883e-05 - root_mean_squared_error: 0.0096 - val_loss: 8.3315e-05 - val_root_mean_squared_error: 0.0091 - 1s/epoch - 2ms/step\n",
      "Epoch 57/1000\n",
      "640/640 - 1s - loss: 7.3019e-05 - root_mean_squared_error: 0.0085 - val_loss: 6.3264e-05 - val_root_mean_squared_error: 0.0080 - 1s/epoch - 2ms/step\n",
      "Epoch 58/1000\n",
      "640/640 - 1s - loss: 5.4324e-05 - root_mean_squared_error: 0.0074 - val_loss: 4.8435e-05 - val_root_mean_squared_error: 0.0070 - 1s/epoch - 2ms/step\n",
      "Epoch 59/1000\n",
      "640/640 - 1s - loss: 4.2363e-05 - root_mean_squared_error: 0.0065 - val_loss: 3.5575e-05 - val_root_mean_squared_error: 0.0060 - 1s/epoch - 2ms/step\n",
      "Epoch 60/1000\n",
      "640/640 - 1s - loss: 3.1896e-05 - root_mean_squared_error: 0.0056 - val_loss: 2.5544e-05 - val_root_mean_squared_error: 0.0051 - 1s/epoch - 2ms/step\n",
      "Epoch 61/1000\n",
      "640/640 - 1s - loss: 2.4414e-05 - root_mean_squared_error: 0.0049 - val_loss: 1.8590e-05 - val_root_mean_squared_error: 0.0043 - 1s/epoch - 2ms/step\n",
      "Epoch 62/1000\n",
      "640/640 - 1s - loss: 1.8236e-05 - root_mean_squared_error: 0.0043 - val_loss: 1.3169e-05 - val_root_mean_squared_error: 0.0036 - 1s/epoch - 2ms/step\n",
      "Epoch 63/1000\n",
      "640/640 - 1s - loss: 1.3545e-05 - root_mean_squared_error: 0.0037 - val_loss: 1.0055e-05 - val_root_mean_squared_error: 0.0032 - 1s/epoch - 2ms/step\n",
      "Epoch 64/1000\n",
      "640/640 - 1s - loss: 1.0656e-05 - root_mean_squared_error: 0.0033 - val_loss: 6.8539e-06 - val_root_mean_squared_error: 0.0026 - 1s/epoch - 2ms/step\n",
      "Epoch 65/1000\n",
      "640/640 - 1s - loss: 8.5799e-06 - root_mean_squared_error: 0.0029 - val_loss: 6.0602e-06 - val_root_mean_squared_error: 0.0025 - 1s/epoch - 2ms/step\n",
      "Epoch 66/1000\n",
      "640/640 - 1s - loss: 7.0276e-06 - root_mean_squared_error: 0.0027 - val_loss: 4.4338e-06 - val_root_mean_squared_error: 0.0021 - 1s/epoch - 2ms/step\n",
      "Epoch 67/1000\n",
      "640/640 - 1s - loss: 6.2239e-06 - root_mean_squared_error: 0.0025 - val_loss: 3.5730e-06 - val_root_mean_squared_error: 0.0019 - 1s/epoch - 2ms/step\n",
      "Epoch 68/1000\n",
      "640/640 - 2s - loss: 5.5327e-06 - root_mean_squared_error: 0.0024 - val_loss: 3.4696e-06 - val_root_mean_squared_error: 0.0019 - 2s/epoch - 2ms/step\n",
      "Epoch 69/1000\n",
      "640/640 - 1s - loss: 5.2234e-06 - root_mean_squared_error: 0.0023 - val_loss: 3.2514e-06 - val_root_mean_squared_error: 0.0018 - 1s/epoch - 2ms/step\n",
      "Epoch 70/1000\n",
      "640/640 - 1s - loss: 4.8164e-06 - root_mean_squared_error: 0.0022 - val_loss: 3.3374e-06 - val_root_mean_squared_error: 0.0018 - 1s/epoch - 2ms/step\n",
      "Epoch 71/1000\n",
      "640/640 - 1s - loss: 4.6721e-06 - root_mean_squared_error: 0.0022 - val_loss: 3.1152e-06 - val_root_mean_squared_error: 0.0018 - 1s/epoch - 2ms/step\n",
      "Epoch 72/1000\n",
      "640/640 - 1s - loss: 4.6116e-06 - root_mean_squared_error: 0.0021 - val_loss: 3.8384e-06 - val_root_mean_squared_error: 0.0020 - 1s/epoch - 2ms/step\n",
      "Epoch 73/1000\n",
      "640/640 - 1s - loss: 4.4737e-06 - root_mean_squared_error: 0.0021 - val_loss: 3.3176e-06 - val_root_mean_squared_error: 0.0018 - 1s/epoch - 2ms/step\n"
     ]
    }
   ],
   "source": [
    "# fit the model\n",
    "history = model.fit(\n",
    "    train_inputs, train_targets, batch_size=BATCH_SIZE,epochs=MAX_EPOCHS, callbacks=[early_stopping], validation_data=(validation_inputs, validation_targets), verbose=2\n",
    "          )"
   ]
  },
  {
   "cell_type": "code",
   "execution_count": 59,
   "metadata": {},
   "outputs": [
    {
     "name": "stdout",
     "output_type": "stream",
     "text": [
      "Model: \"sequential_3\"\n",
      "_________________________________________________________________\n",
      " Layer (type)                Output Shape              Param #   \n",
      "=================================================================\n",
      " dense_15 (Dense)            (1, 3)                    12        \n",
      "                                                                 \n",
      " dense_16 (Dense)            (1, 15)                   60        \n",
      "                                                                 \n",
      " dense_17 (Dense)            (1, 15)                   240       \n",
      "                                                                 \n",
      " dense_18 (Dense)            (1, 10)                   160       \n",
      "                                                                 \n",
      " dense_19 (Dense)            (1, 1)                    11        \n",
      "                                                                 \n",
      "=================================================================\n",
      "Total params: 483\n",
      "Trainable params: 483\n",
      "Non-trainable params: 0\n",
      "_________________________________________________________________\n"
     ]
    }
   ],
   "source": [
    "# ANN model summary\n",
    "model.summary()"
   ]
  },
  {
   "cell_type": "code",
   "execution_count": 60,
   "metadata": {},
   "outputs": [
    {
     "data": {
      "image/png": "[encoded data removed]",
      "text/plain": [
       "<Figure size 640x480 with 1 Axes>"
      ]
     },
     "metadata": {},
     "output_type": "display_data"
    }
   ],
   "source": [
    "import matplotlib.pyplot as plt\n",
    "plt.plot(history.history['loss'], label='Training_loss')\n",
    "plt.plot(history.history['val_loss'], label='Validation_loss')\n",
    "plt.xlabel('epochs')\n",
    "plt.ylabel('loss')\n",
    "plt.legend()\n",
    "plt.show()"
   ]
  },
  {
   "cell_type": "markdown",
   "metadata": {},
   "source": [
    "# Model check on Test data"
   ]
  },
  {
   "cell_type": "code",
   "execution_count": 61,
   "metadata": {},
   "outputs": [
    {
     "name": "stdout",
     "output_type": "stream",
     "text": [
      "3/3 [==============================] - 0s 5ms/step - loss: 3.3971e-06 - root_mean_squared_error: 0.0018\n"
     ]
    }
   ],
   "source": [
    "test_loss, test_accuracy = model.evaluate(test_inputs, test_targets)"
   ]
  },
  {
   "cell_type": "code",
   "execution_count": 62,
   "metadata": {},
   "outputs": [
    {
     "name": "stdout",
     "output_type": "stream",
     "text": [
      "\n",
      "Test loss: 0.0000. Test accuracy: 0.0018 rmse\n"
     ]
    }
   ],
   "source": [
    "print('\\nTest loss: {0:.4f}. Test accuracy: {1:.4f} rmse'.format(test_loss, test_accuracy))"
   ]
  },
  {
   "cell_type": "code",
   "execution_count": 63,
   "metadata": {},
   "outputs": [
    {
     "name": "stdout",
     "output_type": "stream",
     "text": [
      "3/3 [==============================] - 0s 3ms/step\n"
     ]
    },
    {
     "data": {
      "text/html": [
       "<div>\n",
       "<style scoped>\n",
       "    .dataframe tbody tr th:only-of-type {\n",
       "        vertical-align: middle;\n",
       "    }\n",
       "\n",
       "    .dataframe tbody tr th {\n",
       "        vertical-align: top;\n",
       "    }\n",
       "\n",
       "    .dataframe thead th {\n",
       "        text-align: right;\n",
       "    }\n",
       "</style>\n",
       "<table border=\"1\" class=\"dataframe\">\n",
       "  <thead>\n",
       "    <tr style=\"text-align: right;\">\n",
       "      <th></th>\n",
       "      <th>Target-St(%)</th>\n",
       "      <th>Prediction-St(%)</th>\n",
       "      <th>Pred-Accu-St(%)</th>\n",
       "    </tr>\n",
       "  </thead>\n",
       "  <tbody>\n",
       "    <tr>\n",
       "      <th>0</th>\n",
       "      <td>0.990</td>\n",
       "      <td>0.990</td>\n",
       "      <td>100.00</td>\n",
       "    </tr>\n",
       "    <tr>\n",
       "      <th>1</th>\n",
       "      <td>0.985</td>\n",
       "      <td>0.987</td>\n",
       "      <td>100.20</td>\n",
       "    </tr>\n",
       "    <tr>\n",
       "      <th>2</th>\n",
       "      <td>0.990</td>\n",
       "      <td>0.990</td>\n",
       "      <td>100.00</td>\n",
       "    </tr>\n",
       "    <tr>\n",
       "      <th>3</th>\n",
       "      <td>0.990</td>\n",
       "      <td>0.990</td>\n",
       "      <td>100.00</td>\n",
       "    </tr>\n",
       "    <tr>\n",
       "      <th>4</th>\n",
       "      <td>0.934</td>\n",
       "      <td>0.937</td>\n",
       "      <td>100.32</td>\n",
       "    </tr>\n",
       "    <tr>\n",
       "      <th>...</th>\n",
       "      <td>...</td>\n",
       "      <td>...</td>\n",
       "      <td>...</td>\n",
       "    </tr>\n",
       "    <tr>\n",
       "      <th>75</th>\n",
       "      <td>0.991</td>\n",
       "      <td>0.991</td>\n",
       "      <td>100.00</td>\n",
       "    </tr>\n",
       "    <tr>\n",
       "      <th>76</th>\n",
       "      <td>1.000</td>\n",
       "      <td>0.999</td>\n",
       "      <td>99.90</td>\n",
       "    </tr>\n",
       "    <tr>\n",
       "      <th>77</th>\n",
       "      <td>0.961</td>\n",
       "      <td>0.965</td>\n",
       "      <td>100.42</td>\n",
       "    </tr>\n",
       "    <tr>\n",
       "      <th>78</th>\n",
       "      <td>1.000</td>\n",
       "      <td>1.000</td>\n",
       "      <td>100.00</td>\n",
       "    </tr>\n",
       "    <tr>\n",
       "      <th>79</th>\n",
       "      <td>0.976</td>\n",
       "      <td>0.976</td>\n",
       "      <td>100.00</td>\n",
       "    </tr>\n",
       "  </tbody>\n",
       "</table>\n",
       "<p>80 rows × 3 columns</p>\n",
       "</div>"
      ],
      "text/plain": [
       "    Target-St(%)  Prediction-St(%)  Pred-Accu-St(%)\n",
       "0          0.990             0.990           100.00\n",
       "1          0.985             0.987           100.20\n",
       "2          0.990             0.990           100.00\n",
       "3          0.990             0.990           100.00\n",
       "4          0.934             0.937           100.32\n",
       "..           ...               ...              ...\n",
       "75         0.991             0.991           100.00\n",
       "76         1.000             0.999            99.90\n",
       "77         0.961             0.965           100.42\n",
       "78         1.000             1.000           100.00\n",
       "79         0.976             0.976           100.00\n",
       "\n",
       "[80 rows x 3 columns]"
      ]
     },
     "execution_count": 63,
     "metadata": {},
     "output_type": "execute_result"
    }
   ],
   "source": [
    "prediction = model.predict(test_inputs)\n",
    "data_inputs = pd.DataFrame(test_inputs)\n",
    "prediction = pd.DataFrame(np.round(prediction,3))\n",
    "test_targets = pd.DataFrame(test_targets)\n",
    "pred_accu = np.round((prediction/test_targets)*100,2)\n",
    "\n",
    "result = pd.concat([test_targets, prediction, pred_accu], axis = 1, ignore_index=True)\n",
    "result.columns = ['Target-St(%)', 'Prediction-St(%)','Pred-Accu-St(%)']\n",
    "result"
   ]
  },
  {
   "cell_type": "code",
   "execution_count": 64,
   "metadata": {},
   "outputs": [
    {
     "data": {
      "text/plain": [
       "Text(0.5, 0, 'Targets (red) & Predictions (blue)')"
      ]
     },
     "execution_count": 64,
     "metadata": {},
     "output_type": "execute_result"
    },
    {
     "data": {
      "image/png": "[encoded data removed]",
      "text/plain": [
       "<Figure size 640x480 with 1 Axes>"
      ]
     },
     "metadata": {},
     "output_type": "display_data"
    }
   ],
   "source": [
    "import matplotlib.pyplot as plt\n",
    "plt.scatter(result['Target-St(%)'], result['Pred-Accu-St(%)'], alpha=0.5, color='r')\n",
    "plt.scatter(result['Prediction-St(%)'], result['Pred-Accu-St(%)'],alpha=0.5, color='b')\n",
    "plt.ylabel('Error in the prediction(%)')\n",
    "plt.xlabel('Targets (red) & Predictions (blue)')"
   ]
  },
  {
   "cell_type": "code",
   "execution_count": 65,
   "metadata": {},
   "outputs": [
    {
     "data": {
      "text/plain": [
       "Text(0.5, 0, 'Targets (red) & Predictions (green)')"
      ]
     },
     "execution_count": 65,
     "metadata": {},
     "output_type": "execute_result"
    },
    {
     "data": {
      "image/png": "[encoded data removed]",
      "text/plain": [
       "<Figure size 640x480 with 1 Axes>"
      ]
     },
     "metadata": {},
     "output_type": "display_data"
    }
   ],
   "source": [
    "plt.scatter(result['Target-St(%)'], result['Target-St(%)'], alpha=0.5, color='r')\n",
    "plt.scatter(result['Target-St(%)'], result['Prediction-St(%)'], alpha=0.4, color='g')\n",
    "\n",
    "plt.ylabel('predictions')\n",
    "plt.xlabel('Targets (red) & Predictions (green)')"
   ]
  },
  {
   "cell_type": "code",
   "execution_count": 66,
   "metadata": {},
   "outputs": [
    {
     "data": {
      "text/plain": [
       "0.9917"
      ]
     },
     "execution_count": 66,
     "metadata": {},
     "output_type": "execute_result"
    }
   ],
   "source": [
    "# estimation of R2 score\n",
    "from sklearn.metrics import r2_score\n",
    "r2_score_test = r2_score(test_targets, prediction)\n",
    "np.round(r2_score_test,4)"
   ]
  },
  {
   "cell_type": "code",
   "execution_count": 67,
   "metadata": {},
   "outputs": [
    {
     "data": {
      "text/plain": [
       "0.9914"
      ]
     },
     "execution_count": 67,
     "metadata": {},
     "output_type": "execute_result"
    }
   ],
   "source": [
    "# estimation of adjusted R2 score\n",
    "n = np.size(test_targets)\n",
    "k = 3 # number of features\n",
    "adj_r2_score = 1 - (((1-r2_score_test)*(n-1))/((n-k-1)))\n",
    "np.round(adj_r2_score,4)"
   ]
  },
  {
   "cell_type": "code",
   "execution_count": 68,
   "metadata": {},
   "outputs": [
    {
     "name": "stdout",
     "output_type": "stream",
     "text": [
      "Uncertainty of the ANN model: 0.19 [%]\n",
      "Average test prediction precision 99.81 [%]\n"
     ]
    }
   ],
   "source": [
    "mean_pred = pred_accu.mean()\n",
    "std_pred = pred_accu.std()\n",
    "uncertainty_model = std_pred\n",
    "print(\"Uncertainty of the ANN model:\", np.round(uncertainty_model[0],2), '[%]')\n",
    "print(\"Average test prediction precision\", np.round(100 - uncertainty_model[0],2), '[%]')"
   ]
  },
  {
   "cell_type": "markdown",
   "metadata": {},
   "source": [
    "# ANN Model Deployment"
   ]
  },
  {
   "cell_type": "markdown",
   "metadata": {},
   "source": [
    "ANN model deployment for micro DSC error prediction"
   ]
  },
  {
   "cell_type": "code",
   "execution_count": 69,
   "metadata": {},
   "outputs": [],
   "source": [
    "import keras\n",
    "model.save('micro_dsc_dl.h5')"
   ]
  },
  {
   "cell_type": "code",
   "execution_count": null,
   "metadata": {},
   "outputs": [],
   "source": []
  }
 ],
 "metadata": {
  "kernelspec": {
   "display_name": ".venv",
   "language": "python",
   "name": "python3"
  },
  "language_info": {
   "codemirror_mode": {
    "name": "ipython",
    "version": 3
   },
   "file_extension": ".py",
   "mimetype": "text/x-python",
   "name": "python",
   "nbconvert_exporter": "python",
   "pygments_lexer": "ipython3",
   "version": "3.8.9"
  },
  "orig_nbformat": 4,
  "vscode": {
   "interpreter": {
    "hash": "6922cdaeb71861185ead2220765f61360c8c577271e89b0df9cb02b0ddb1fa67"
   }
  }
 },
 "nbformat": 4,
 "nbformat_minor": 2
}
