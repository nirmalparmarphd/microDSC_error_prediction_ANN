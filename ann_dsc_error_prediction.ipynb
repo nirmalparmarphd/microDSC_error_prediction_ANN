{
 "cells": [
  {
   "cell_type": "markdown",
   "metadata": {},
   "source": [
    "# DNN Model"
   ]
  },
  {
   "cell_type": "code",
   "execution_count": 128,
   "metadata": {},
   "outputs": [],
   "source": [
    "import numpy as np\n",
    "import pandas as pd\n",
    "import tensorflow as tf\n",
    "import matplotlib.pyplot as plt\n",
    "import seaborn as sns\n",
    "sns.set()"
   ]
  },
  {
   "cell_type": "code",
   "execution_count": 129,
   "metadata": {},
   "outputs": [],
   "source": [
    "# data loading from .npz generated from tcr_data_process.ipynb\n",
    "# loading train data\n",
    "npz = np.load('data_train.npz')\n",
    "train_inputs = npz['input'].astype(np.float64)\n",
    "train_targets = npz['targets'].astype(np.float64)\n",
    "# loading validation data\n",
    "npz = np.load('data_validation.npz')\n",
    "validation_inputs, validation_targets = npz['input'].astype(np.float64), npz['targets'].astype(np.float64)\n",
    "\n",
    "npz = np.load('data_test.npz')\n",
    "test_inputs, test_targets = npz['input'].astype(np.float64), npz['targets'].astype(np.float64)"
   ]
  },
  {
   "cell_type": "markdown",
   "metadata": {},
   "source": [
    "# ANN Model"
   ]
  },
  {
   "cell_type": "markdown",
   "metadata": {},
   "source": [
    "Outline, Optimizer, Loss function, Early stopping and Training rate"
   ]
  },
  {
   "cell_type": "code",
   "execution_count": 130,
   "metadata": {},
   "outputs": [],
   "source": [
    "# NN model prep\n",
    "input_size = 3\n",
    "output_size = 1\n",
    "hidden_layer_1_size = 15\n",
    "hidden_layer_2_size = 15\n",
    "hidden_layer_3_size = 10\n",
    "\n",
    "model = tf.keras.Sequential([\n",
    "    tf.keras.layers.Dense(input_size),\n",
    "    tf.keras.layers.Dense(hidden_layer_1_size, activation='relu', kernel_initializer='he_normal'),\n",
    "    tf.keras.layers.Dense(hidden_layer_2_size, activation='relu', kernel_initializer='he_normal'),\n",
    "    tf.keras.layers.Dense(hidden_layer_3_size, activation='relu', kernel_initializer='he_normal'),\n",
    "    tf.keras.layers.Dense(output_size, activation='linear')\n",
    "])\n"
   ]
  },
  {
   "cell_type": "code",
   "execution_count": 131,
   "metadata": {},
   "outputs": [
    {
     "name": "stderr",
     "output_type": "stream",
     "text": [
      "WARNING:absl:At this time, the v2.11+ optimizer `tf.keras.optimizers.Adam` runs slowly on M1/M2 Macs, please use the legacy Keras optimizer instead, located at `tf.keras.optimizers.legacy.Adam`.\n"
     ]
    }
   ],
   "source": [
    "# model prep, optimizer and loss function\n",
    "optimizer = tf.keras.optimizers.Adam(learning_rate=0.00001)\n",
    "model.compile(optimizer, loss=tf.keras.losses.MeanSquaredError(),metrics=[tf.keras.metrics.RootMeanSquaredError()])\n"
   ]
  },
  {
   "cell_type": "code",
   "execution_count": 132,
   "metadata": {},
   "outputs": [],
   "source": [
    "# Training\n",
    "BATCH_SIZE = 1\n",
    "MAX_EPOCHS = 500\n",
    "early_stopping = tf.keras.callbacks.EarlyStopping(patience=5)"
   ]
  },
  {
   "cell_type": "code",
   "execution_count": 133,
   "metadata": {},
   "outputs": [
    {
     "name": "stdout",
     "output_type": "stream",
     "text": [
      "Epoch 1/500\n",
      "640/640 - 1s - loss: 4.8654 - root_mean_squared_error: 2.2058 - val_loss: 4.2281 - val_root_mean_squared_error: 2.0562 - 544ms/epoch - 851us/step\n",
      "Epoch 2/500\n",
      "640/640 - 0s - loss: 3.7730 - root_mean_squared_error: 1.9424 - val_loss: 3.2728 - val_root_mean_squared_error: 1.8091 - 230ms/epoch - 360us/step\n",
      "Epoch 3/500\n",
      "640/640 - 0s - loss: 2.9029 - root_mean_squared_error: 1.7038 - val_loss: 2.5169 - val_root_mean_squared_error: 1.5865 - 229ms/epoch - 358us/step\n",
      "Epoch 4/500\n",
      "640/640 - 0s - loss: 2.2230 - root_mean_squared_error: 1.4910 - val_loss: 1.9329 - val_root_mean_squared_error: 1.3903 - 228ms/epoch - 356us/step\n",
      "Epoch 5/500\n",
      "640/640 - 0s - loss: 1.6928 - root_mean_squared_error: 1.3011 - val_loss: 1.4772 - val_root_mean_squared_error: 1.2154 - 229ms/epoch - 358us/step\n",
      "Epoch 6/500\n",
      "640/640 - 0s - loss: 1.2845 - root_mean_squared_error: 1.1333 - val_loss: 1.1265 - val_root_mean_squared_error: 1.0614 - 243ms/epoch - 380us/step\n",
      "Epoch 7/500\n",
      "640/640 - 0s - loss: 0.9751 - root_mean_squared_error: 0.9875 - val_loss: 0.8693 - val_root_mean_squared_error: 0.9324 - 236ms/epoch - 368us/step\n",
      "Epoch 8/500\n",
      "640/640 - 0s - loss: 0.7495 - root_mean_squared_error: 0.8658 - val_loss: 0.6842 - val_root_mean_squared_error: 0.8272 - 233ms/epoch - 365us/step\n",
      "Epoch 9/500\n",
      "640/640 - 0s - loss: 0.5853 - root_mean_squared_error: 0.7650 - val_loss: 0.5501 - val_root_mean_squared_error: 0.7417 - 234ms/epoch - 366us/step\n",
      "Epoch 10/500\n",
      "640/640 - 0s - loss: 0.4682 - root_mean_squared_error: 0.6843 - val_loss: 0.4573 - val_root_mean_squared_error: 0.6763 - 232ms/epoch - 363us/step\n",
      "Epoch 11/500\n",
      "640/640 - 0s - loss: 0.3886 - root_mean_squared_error: 0.6234 - val_loss: 0.3961 - val_root_mean_squared_error: 0.6294 - 239ms/epoch - 373us/step\n",
      "Epoch 12/500\n",
      "640/640 - 0s - loss: 0.3370 - root_mean_squared_error: 0.5805 - val_loss: 0.3537 - val_root_mean_squared_error: 0.5947 - 237ms/epoch - 370us/step\n",
      "Epoch 13/500\n",
      "640/640 - 0s - loss: 0.3005 - root_mean_squared_error: 0.5482 - val_loss: 0.3208 - val_root_mean_squared_error: 0.5664 - 257ms/epoch - 402us/step\n",
      "Epoch 14/500\n",
      "640/640 - 0s - loss: 0.2722 - root_mean_squared_error: 0.5217 - val_loss: 0.2936 - val_root_mean_squared_error: 0.5419 - 252ms/epoch - 394us/step\n",
      "Epoch 15/500\n",
      "640/640 - 0s - loss: 0.2496 - root_mean_squared_error: 0.4996 - val_loss: 0.2714 - val_root_mean_squared_error: 0.5210 - 265ms/epoch - 414us/step\n",
      "Epoch 16/500\n",
      "640/640 - 0s - loss: 0.2320 - root_mean_squared_error: 0.4816 - val_loss: 0.2537 - val_root_mean_squared_error: 0.5037 - 235ms/epoch - 367us/step\n",
      "Epoch 17/500\n",
      "640/640 - 0s - loss: 0.2184 - root_mean_squared_error: 0.4673 - val_loss: 0.2402 - val_root_mean_squared_error: 0.4901 - 251ms/epoch - 393us/step\n",
      "Epoch 18/500\n",
      "640/640 - 0s - loss: 0.2080 - root_mean_squared_error: 0.4561 - val_loss: 0.2275 - val_root_mean_squared_error: 0.4770 - 236ms/epoch - 368us/step\n",
      "Epoch 19/500\n",
      "640/640 - 0s - loss: 0.1955 - root_mean_squared_error: 0.4421 - val_loss: 0.2138 - val_root_mean_squared_error: 0.4624 - 265ms/epoch - 414us/step\n",
      "Epoch 20/500\n",
      "640/640 - 0s - loss: 0.1825 - root_mean_squared_error: 0.4271 - val_loss: 0.1982 - val_root_mean_squared_error: 0.4452 - 234ms/epoch - 365us/step\n",
      "Epoch 21/500\n",
      "640/640 - 0s - loss: 0.1701 - root_mean_squared_error: 0.4125 - val_loss: 0.1855 - val_root_mean_squared_error: 0.4307 - 232ms/epoch - 362us/step\n",
      "Epoch 22/500\n",
      "640/640 - 0s - loss: 0.1600 - root_mean_squared_error: 0.4000 - val_loss: 0.1751 - val_root_mean_squared_error: 0.4184 - 236ms/epoch - 369us/step\n",
      "Epoch 23/500\n",
      "640/640 - 0s - loss: 0.1508 - root_mean_squared_error: 0.3883 - val_loss: 0.1650 - val_root_mean_squared_error: 0.4062 - 234ms/epoch - 366us/step\n",
      "Epoch 24/500\n",
      "640/640 - 0s - loss: 0.1423 - root_mean_squared_error: 0.3772 - val_loss: 0.1557 - val_root_mean_squared_error: 0.3945 - 228ms/epoch - 356us/step\n",
      "Epoch 25/500\n",
      "640/640 - 0s - loss: 0.1343 - root_mean_squared_error: 0.3665 - val_loss: 0.1471 - val_root_mean_squared_error: 0.3835 - 230ms/epoch - 359us/step\n",
      "Epoch 26/500\n",
      "640/640 - 0s - loss: 0.1268 - root_mean_squared_error: 0.3560 - val_loss: 0.1390 - val_root_mean_squared_error: 0.3728 - 227ms/epoch - 355us/step\n",
      "Epoch 27/500\n",
      "640/640 - 0s - loss: 0.1196 - root_mean_squared_error: 0.3459 - val_loss: 0.1312 - val_root_mean_squared_error: 0.3621 - 237ms/epoch - 371us/step\n",
      "Epoch 28/500\n",
      "640/640 - 0s - loss: 0.1127 - root_mean_squared_error: 0.3358 - val_loss: 0.1236 - val_root_mean_squared_error: 0.3516 - 229ms/epoch - 358us/step\n",
      "Epoch 29/500\n",
      "640/640 - 0s - loss: 0.1062 - root_mean_squared_error: 0.3258 - val_loss: 0.1166 - val_root_mean_squared_error: 0.3415 - 229ms/epoch - 358us/step\n",
      "Epoch 30/500\n",
      "640/640 - 0s - loss: 0.1000 - root_mean_squared_error: 0.3162 - val_loss: 0.1098 - val_root_mean_squared_error: 0.3314 - 229ms/epoch - 358us/step\n",
      "Epoch 31/500\n",
      "640/640 - 0s - loss: 0.0938 - root_mean_squared_error: 0.3062 - val_loss: 0.1029 - val_root_mean_squared_error: 0.3208 - 249ms/epoch - 388us/step\n",
      "Epoch 32/500\n",
      "640/640 - 0s - loss: 0.0878 - root_mean_squared_error: 0.2963 - val_loss: 0.0963 - val_root_mean_squared_error: 0.3104 - 229ms/epoch - 358us/step\n",
      "Epoch 33/500\n",
      "640/640 - 0s - loss: 0.0819 - root_mean_squared_error: 0.2862 - val_loss: 0.0895 - val_root_mean_squared_error: 0.2991 - 229ms/epoch - 357us/step\n",
      "Epoch 34/500\n",
      "640/640 - 0s - loss: 0.0757 - root_mean_squared_error: 0.2751 - val_loss: 0.0826 - val_root_mean_squared_error: 0.2874 - 229ms/epoch - 358us/step\n",
      "Epoch 35/500\n",
      "640/640 - 0s - loss: 0.0696 - root_mean_squared_error: 0.2638 - val_loss: 0.0759 - val_root_mean_squared_error: 0.2754 - 229ms/epoch - 357us/step\n",
      "Epoch 36/500\n",
      "640/640 - 0s - loss: 0.0639 - root_mean_squared_error: 0.2529 - val_loss: 0.0697 - val_root_mean_squared_error: 0.2639 - 233ms/epoch - 363us/step\n",
      "Epoch 37/500\n",
      "640/640 - 0s - loss: 0.0586 - root_mean_squared_error: 0.2422 - val_loss: 0.0639 - val_root_mean_squared_error: 0.2528 - 232ms/epoch - 363us/step\n",
      "Epoch 38/500\n",
      "640/640 - 0s - loss: 0.0536 - root_mean_squared_error: 0.2316 - val_loss: 0.0584 - val_root_mean_squared_error: 0.2416 - 228ms/epoch - 356us/step\n",
      "Epoch 39/500\n",
      "640/640 - 0s - loss: 0.0490 - root_mean_squared_error: 0.2214 - val_loss: 0.0534 - val_root_mean_squared_error: 0.2310 - 227ms/epoch - 355us/step\n",
      "Epoch 40/500\n",
      "640/640 - 0s - loss: 0.0447 - root_mean_squared_error: 0.2115 - val_loss: 0.0487 - val_root_mean_squared_error: 0.2207 - 228ms/epoch - 357us/step\n",
      "Epoch 41/500\n",
      "640/640 - 0s - loss: 0.0407 - root_mean_squared_error: 0.2018 - val_loss: 0.0442 - val_root_mean_squared_error: 0.2102 - 226ms/epoch - 353us/step\n",
      "Epoch 42/500\n",
      "640/640 - 0s - loss: 0.0369 - root_mean_squared_error: 0.1921 - val_loss: 0.0399 - val_root_mean_squared_error: 0.1998 - 227ms/epoch - 355us/step\n",
      "Epoch 43/500\n",
      "640/640 - 0s - loss: 0.0332 - root_mean_squared_error: 0.1823 - val_loss: 0.0360 - val_root_mean_squared_error: 0.1896 - 227ms/epoch - 355us/step\n",
      "Epoch 44/500\n",
      "640/640 - 0s - loss: 0.0298 - root_mean_squared_error: 0.1726 - val_loss: 0.0321 - val_root_mean_squared_error: 0.1793 - 227ms/epoch - 355us/step\n",
      "Epoch 45/500\n",
      "640/640 - 0s - loss: 0.0265 - root_mean_squared_error: 0.1629 - val_loss: 0.0286 - val_root_mean_squared_error: 0.1690 - 227ms/epoch - 355us/step\n",
      "Epoch 46/500\n",
      "640/640 - 0s - loss: 0.0234 - root_mean_squared_error: 0.1531 - val_loss: 0.0251 - val_root_mean_squared_error: 0.1584 - 228ms/epoch - 356us/step\n",
      "Epoch 47/500\n",
      "640/640 - 0s - loss: 0.0206 - root_mean_squared_error: 0.1434 - val_loss: 0.0221 - val_root_mean_squared_error: 0.1485 - 226ms/epoch - 353us/step\n",
      "Epoch 48/500\n",
      "640/640 - 0s - loss: 0.0179 - root_mean_squared_error: 0.1339 - val_loss: 0.0191 - val_root_mean_squared_error: 0.1382 - 226ms/epoch - 353us/step\n",
      "Epoch 49/500\n",
      "640/640 - 0s - loss: 0.0155 - root_mean_squared_error: 0.1244 - val_loss: 0.0165 - val_root_mean_squared_error: 0.1285 - 232ms/epoch - 362us/step\n",
      "Epoch 50/500\n",
      "640/640 - 0s - loss: 0.0133 - root_mean_squared_error: 0.1152 - val_loss: 0.0141 - val_root_mean_squared_error: 0.1187 - 228ms/epoch - 356us/step\n",
      "Epoch 51/500\n",
      "640/640 - 0s - loss: 0.0112 - root_mean_squared_error: 0.1061 - val_loss: 0.0119 - val_root_mean_squared_error: 0.1090 - 226ms/epoch - 354us/step\n",
      "Epoch 52/500\n",
      "640/640 - 0s - loss: 0.0094 - root_mean_squared_error: 0.0972 - val_loss: 0.0100 - val_root_mean_squared_error: 0.0999 - 232ms/epoch - 362us/step\n",
      "Epoch 53/500\n",
      "640/640 - 0s - loss: 0.0078 - root_mean_squared_error: 0.0886 - val_loss: 0.0083 - val_root_mean_squared_error: 0.0910 - 229ms/epoch - 357us/step\n",
      "Epoch 54/500\n",
      "640/640 - 0s - loss: 0.0065 - root_mean_squared_error: 0.0803 - val_loss: 0.0067 - val_root_mean_squared_error: 0.0820 - 233ms/epoch - 364us/step\n",
      "Epoch 55/500\n",
      "640/640 - 0s - loss: 0.0053 - root_mean_squared_error: 0.0726 - val_loss: 0.0055 - val_root_mean_squared_error: 0.0744 - 227ms/epoch - 355us/step\n",
      "Epoch 56/500\n",
      "640/640 - 0s - loss: 0.0043 - root_mean_squared_error: 0.0653 - val_loss: 0.0045 - val_root_mean_squared_error: 0.0671 - 226ms/epoch - 353us/step\n",
      "Epoch 57/500\n",
      "640/640 - 0s - loss: 0.0034 - root_mean_squared_error: 0.0587 - val_loss: 0.0037 - val_root_mean_squared_error: 0.0605 - 227ms/epoch - 354us/step\n",
      "Epoch 58/500\n",
      "640/640 - 0s - loss: 0.0028 - root_mean_squared_error: 0.0530 - val_loss: 0.0029 - val_root_mean_squared_error: 0.0541 - 227ms/epoch - 355us/step\n",
      "Epoch 59/500\n",
      "640/640 - 0s - loss: 0.0023 - root_mean_squared_error: 0.0478 - val_loss: 0.0025 - val_root_mean_squared_error: 0.0499 - 227ms/epoch - 355us/step\n",
      "Epoch 60/500\n",
      "640/640 - 0s - loss: 0.0019 - root_mean_squared_error: 0.0437 - val_loss: 0.0020 - val_root_mean_squared_error: 0.0451 - 227ms/epoch - 355us/step\n",
      "Epoch 61/500\n",
      "640/640 - 0s - loss: 0.0016 - root_mean_squared_error: 0.0403 - val_loss: 0.0017 - val_root_mean_squared_error: 0.0415 - 228ms/epoch - 356us/step\n",
      "Epoch 62/500\n",
      "640/640 - 0s - loss: 0.0014 - root_mean_squared_error: 0.0370 - val_loss: 0.0015 - val_root_mean_squared_error: 0.0387 - 227ms/epoch - 355us/step\n",
      "Epoch 63/500\n",
      "640/640 - 0s - loss: 0.0012 - root_mean_squared_error: 0.0345 - val_loss: 0.0013 - val_root_mean_squared_error: 0.0363 - 227ms/epoch - 354us/step\n",
      "Epoch 64/500\n",
      "640/640 - 0s - loss: 0.0010 - root_mean_squared_error: 0.0324 - val_loss: 0.0012 - val_root_mean_squared_error: 0.0340 - 227ms/epoch - 354us/step\n",
      "Epoch 65/500\n",
      "640/640 - 0s - loss: 9.3143e-04 - root_mean_squared_error: 0.0305 - val_loss: 0.0010 - val_root_mean_squared_error: 0.0320 - 318ms/epoch - 497us/step\n",
      "Epoch 66/500\n",
      "640/640 - 0s - loss: 8.3353e-04 - root_mean_squared_error: 0.0289 - val_loss: 9.2320e-04 - val_root_mean_squared_error: 0.0304 - 225ms/epoch - 351us/step\n",
      "Epoch 67/500\n",
      "640/640 - 0s - loss: 7.5448e-04 - root_mean_squared_error: 0.0275 - val_loss: 8.9353e-04 - val_root_mean_squared_error: 0.0299 - 226ms/epoch - 353us/step\n",
      "Epoch 68/500\n",
      "640/640 - 0s - loss: 6.9198e-04 - root_mean_squared_error: 0.0263 - val_loss: 7.7482e-04 - val_root_mean_squared_error: 0.0278 - 226ms/epoch - 353us/step\n",
      "Epoch 69/500\n",
      "640/640 - 0s - loss: 6.2860e-04 - root_mean_squared_error: 0.0251 - val_loss: 7.3376e-04 - val_root_mean_squared_error: 0.0271 - 226ms/epoch - 353us/step\n",
      "Epoch 70/500\n",
      "640/640 - 0s - loss: 5.7857e-04 - root_mean_squared_error: 0.0241 - val_loss: 6.7010e-04 - val_root_mean_squared_error: 0.0259 - 227ms/epoch - 355us/step\n",
      "Epoch 71/500\n",
      "640/640 - 0s - loss: 5.3370e-04 - root_mean_squared_error: 0.0231 - val_loss: 6.2050e-04 - val_root_mean_squared_error: 0.0249 - 226ms/epoch - 353us/step\n",
      "Epoch 72/500\n",
      "640/640 - 0s - loss: 4.9223e-04 - root_mean_squared_error: 0.0222 - val_loss: 5.9742e-04 - val_root_mean_squared_error: 0.0244 - 227ms/epoch - 354us/step\n",
      "Epoch 73/500\n",
      "640/640 - 0s - loss: 4.4972e-04 - root_mean_squared_error: 0.0212 - val_loss: 5.3173e-04 - val_root_mean_squared_error: 0.0231 - 227ms/epoch - 354us/step\n",
      "Epoch 74/500\n",
      "640/640 - 0s - loss: 4.2246e-04 - root_mean_squared_error: 0.0206 - val_loss: 4.9538e-04 - val_root_mean_squared_error: 0.0223 - 227ms/epoch - 355us/step\n",
      "Epoch 75/500\n",
      "640/640 - 0s - loss: 3.9278e-04 - root_mean_squared_error: 0.0198 - val_loss: 4.4324e-04 - val_root_mean_squared_error: 0.0211 - 226ms/epoch - 353us/step\n",
      "Epoch 76/500\n",
      "640/640 - 0s - loss: 3.6599e-04 - root_mean_squared_error: 0.0191 - val_loss: 4.1207e-04 - val_root_mean_squared_error: 0.0203 - 226ms/epoch - 353us/step\n",
      "Epoch 77/500\n",
      "640/640 - 0s - loss: 3.4214e-04 - root_mean_squared_error: 0.0185 - val_loss: 3.8024e-04 - val_root_mean_squared_error: 0.0195 - 226ms/epoch - 352us/step\n",
      "Epoch 78/500\n",
      "640/640 - 0s - loss: 3.1864e-04 - root_mean_squared_error: 0.0179 - val_loss: 3.6591e-04 - val_root_mean_squared_error: 0.0191 - 235ms/epoch - 368us/step\n",
      "Epoch 79/500\n",
      "640/640 - 0s - loss: 2.9884e-04 - root_mean_squared_error: 0.0173 - val_loss: 3.4877e-04 - val_root_mean_squared_error: 0.0187 - 227ms/epoch - 354us/step\n",
      "Epoch 80/500\n",
      "640/640 - 0s - loss: 2.7539e-04 - root_mean_squared_error: 0.0166 - val_loss: 3.0675e-04 - val_root_mean_squared_error: 0.0175 - 227ms/epoch - 354us/step\n",
      "Epoch 81/500\n",
      "640/640 - 0s - loss: 2.5407e-04 - root_mean_squared_error: 0.0159 - val_loss: 2.9118e-04 - val_root_mean_squared_error: 0.0171 - 237ms/epoch - 370us/step\n",
      "Epoch 82/500\n",
      "640/640 - 0s - loss: 2.2833e-04 - root_mean_squared_error: 0.0151 - val_loss: 2.5894e-04 - val_root_mean_squared_error: 0.0161 - 227ms/epoch - 354us/step\n",
      "Epoch 83/500\n",
      "640/640 - 0s - loss: 2.1042e-04 - root_mean_squared_error: 0.0145 - val_loss: 2.5921e-04 - val_root_mean_squared_error: 0.0161 - 228ms/epoch - 357us/step\n",
      "Epoch 84/500\n",
      "640/640 - 0s - loss: 1.9309e-04 - root_mean_squared_error: 0.0139 - val_loss: 2.1664e-04 - val_root_mean_squared_error: 0.0147 - 226ms/epoch - 353us/step\n",
      "Epoch 85/500\n",
      "640/640 - 0s - loss: 1.7224e-04 - root_mean_squared_error: 0.0131 - val_loss: 2.1729e-04 - val_root_mean_squared_error: 0.0147 - 226ms/epoch - 354us/step\n",
      "Epoch 86/500\n",
      "640/640 - 0s - loss: 1.5653e-04 - root_mean_squared_error: 0.0125 - val_loss: 1.9547e-04 - val_root_mean_squared_error: 0.0140 - 227ms/epoch - 355us/step\n",
      "Epoch 87/500\n",
      "640/640 - 0s - loss: 1.4327e-04 - root_mean_squared_error: 0.0120 - val_loss: 1.5674e-04 - val_root_mean_squared_error: 0.0125 - 227ms/epoch - 355us/step\n",
      "Epoch 88/500\n",
      "640/640 - 0s - loss: 1.2966e-04 - root_mean_squared_error: 0.0114 - val_loss: 1.4550e-04 - val_root_mean_squared_error: 0.0121 - 227ms/epoch - 355us/step\n",
      "Epoch 89/500\n",
      "640/640 - 0s - loss: 1.1333e-04 - root_mean_squared_error: 0.0106 - val_loss: 1.3046e-04 - val_root_mean_squared_error: 0.0114 - 227ms/epoch - 354us/step\n",
      "Epoch 90/500\n",
      "640/640 - 0s - loss: 9.4933e-05 - root_mean_squared_error: 0.0097 - val_loss: 1.3548e-04 - val_root_mean_squared_error: 0.0116 - 227ms/epoch - 354us/step\n",
      "Epoch 91/500\n",
      "640/640 - 0s - loss: 8.6361e-05 - root_mean_squared_error: 0.0093 - val_loss: 1.1306e-04 - val_root_mean_squared_error: 0.0106 - 226ms/epoch - 353us/step\n",
      "Epoch 92/500\n",
      "640/640 - 0s - loss: 7.8009e-05 - root_mean_squared_error: 0.0088 - val_loss: 1.0845e-04 - val_root_mean_squared_error: 0.0104 - 227ms/epoch - 354us/step\n",
      "Epoch 93/500\n",
      "640/640 - 0s - loss: 7.1789e-05 - root_mean_squared_error: 0.0085 - val_loss: 7.6715e-05 - val_root_mean_squared_error: 0.0088 - 228ms/epoch - 356us/step\n",
      "Epoch 94/500\n",
      "640/640 - 0s - loss: 6.2996e-05 - root_mean_squared_error: 0.0079 - val_loss: 7.3973e-05 - val_root_mean_squared_error: 0.0086 - 226ms/epoch - 353us/step\n",
      "Epoch 95/500\n",
      "640/640 - 0s - loss: 5.6241e-05 - root_mean_squared_error: 0.0075 - val_loss: 5.6478e-05 - val_root_mean_squared_error: 0.0075 - 226ms/epoch - 353us/step\n",
      "Epoch 96/500\n",
      "640/640 - 0s - loss: 5.1041e-05 - root_mean_squared_error: 0.0071 - val_loss: 5.3852e-05 - val_root_mean_squared_error: 0.0073 - 228ms/epoch - 356us/step\n",
      "Epoch 97/500\n",
      "640/640 - 0s - loss: 4.5948e-05 - root_mean_squared_error: 0.0068 - val_loss: 4.2207e-05 - val_root_mean_squared_error: 0.0065 - 227ms/epoch - 354us/step\n",
      "Epoch 98/500\n",
      "640/640 - 0s - loss: 4.0284e-05 - root_mean_squared_error: 0.0063 - val_loss: 3.6792e-05 - val_root_mean_squared_error: 0.0061 - 227ms/epoch - 355us/step\n",
      "Epoch 99/500\n",
      "640/640 - 0s - loss: 3.7676e-05 - root_mean_squared_error: 0.0061 - val_loss: 4.4565e-05 - val_root_mean_squared_error: 0.0067 - 226ms/epoch - 354us/step\n",
      "Epoch 100/500\n",
      "640/640 - 0s - loss: 3.2567e-05 - root_mean_squared_error: 0.0057 - val_loss: 2.9843e-05 - val_root_mean_squared_error: 0.0055 - 227ms/epoch - 355us/step\n",
      "Epoch 101/500\n",
      "640/640 - 0s - loss: 2.9775e-05 - root_mean_squared_error: 0.0055 - val_loss: 2.5546e-05 - val_root_mean_squared_error: 0.0051 - 228ms/epoch - 356us/step\n",
      "Epoch 102/500\n",
      "640/640 - 0s - loss: 2.6640e-05 - root_mean_squared_error: 0.0052 - val_loss: 2.7642e-05 - val_root_mean_squared_error: 0.0053 - 244ms/epoch - 381us/step\n",
      "Epoch 103/500\n",
      "640/640 - 0s - loss: 2.5109e-05 - root_mean_squared_error: 0.0050 - val_loss: 2.1552e-05 - val_root_mean_squared_error: 0.0046 - 227ms/epoch - 354us/step\n",
      "Epoch 104/500\n",
      "640/640 - 0s - loss: 2.2792e-05 - root_mean_squared_error: 0.0048 - val_loss: 1.9424e-05 - val_root_mean_squared_error: 0.0044 - 226ms/epoch - 353us/step\n",
      "Epoch 105/500\n",
      "640/640 - 0s - loss: 2.2390e-05 - root_mean_squared_error: 0.0047 - val_loss: 1.8175e-05 - val_root_mean_squared_error: 0.0043 - 226ms/epoch - 353us/step\n",
      "Epoch 106/500\n",
      "640/640 - 0s - loss: 2.0092e-05 - root_mean_squared_error: 0.0045 - val_loss: 1.5989e-05 - val_root_mean_squared_error: 0.0040 - 226ms/epoch - 352us/step\n",
      "Epoch 107/500\n",
      "640/640 - 0s - loss: 1.8291e-05 - root_mean_squared_error: 0.0043 - val_loss: 1.5915e-05 - val_root_mean_squared_error: 0.0040 - 228ms/epoch - 356us/step\n",
      "Epoch 108/500\n",
      "640/640 - 0s - loss: 1.8417e-05 - root_mean_squared_error: 0.0043 - val_loss: 1.4817e-05 - val_root_mean_squared_error: 0.0038 - 227ms/epoch - 354us/step\n",
      "Epoch 109/500\n",
      "640/640 - 0s - loss: 1.5410e-05 - root_mean_squared_error: 0.0039 - val_loss: 2.0818e-05 - val_root_mean_squared_error: 0.0046 - 226ms/epoch - 354us/step\n",
      "Epoch 110/500\n",
      "640/640 - 0s - loss: 1.4137e-05 - root_mean_squared_error: 0.0038 - val_loss: 1.0540e-05 - val_root_mean_squared_error: 0.0032 - 226ms/epoch - 353us/step\n",
      "Epoch 111/500\n",
      "640/640 - 0s - loss: 1.3550e-05 - root_mean_squared_error: 0.0037 - val_loss: 1.0340e-05 - val_root_mean_squared_error: 0.0032 - 226ms/epoch - 354us/step\n",
      "Epoch 112/500\n",
      "640/640 - 0s - loss: 1.2299e-05 - root_mean_squared_error: 0.0035 - val_loss: 1.4430e-05 - val_root_mean_squared_error: 0.0038 - 227ms/epoch - 355us/step\n",
      "Epoch 113/500\n",
      "640/640 - 0s - loss: 1.0685e-05 - root_mean_squared_error: 0.0033 - val_loss: 8.3339e-06 - val_root_mean_squared_error: 0.0029 - 227ms/epoch - 354us/step\n",
      "Epoch 114/500\n",
      "640/640 - 0s - loss: 9.9021e-06 - root_mean_squared_error: 0.0031 - val_loss: 7.9691e-06 - val_root_mean_squared_error: 0.0028 - 226ms/epoch - 353us/step\n",
      "Epoch 115/500\n",
      "640/640 - 0s - loss: 9.5399e-06 - root_mean_squared_error: 0.0031 - val_loss: 7.0097e-06 - val_root_mean_squared_error: 0.0026 - 226ms/epoch - 354us/step\n",
      "Epoch 116/500\n",
      "640/640 - 0s - loss: 8.5026e-06 - root_mean_squared_error: 0.0029 - val_loss: 7.8702e-06 - val_root_mean_squared_error: 0.0028 - 226ms/epoch - 353us/step\n",
      "Epoch 117/500\n",
      "640/640 - 0s - loss: 7.9201e-06 - root_mean_squared_error: 0.0028 - val_loss: 5.6308e-06 - val_root_mean_squared_error: 0.0024 - 235ms/epoch - 368us/step\n",
      "Epoch 118/500\n",
      "640/640 - 0s - loss: 7.7305e-06 - root_mean_squared_error: 0.0028 - val_loss: 9.6767e-06 - val_root_mean_squared_error: 0.0031 - 222ms/epoch - 347us/step\n",
      "Epoch 119/500\n",
      "640/640 - 0s - loss: 7.1432e-06 - root_mean_squared_error: 0.0027 - val_loss: 5.5186e-06 - val_root_mean_squared_error: 0.0023 - 221ms/epoch - 346us/step\n",
      "Epoch 120/500\n",
      "640/640 - 0s - loss: 6.9001e-06 - root_mean_squared_error: 0.0026 - val_loss: 8.0470e-06 - val_root_mean_squared_error: 0.0028 - 221ms/epoch - 346us/step\n",
      "Epoch 121/500\n",
      "640/640 - 0s - loss: 6.0528e-06 - root_mean_squared_error: 0.0025 - val_loss: 5.8526e-06 - val_root_mean_squared_error: 0.0024 - 223ms/epoch - 348us/step\n",
      "Epoch 122/500\n",
      "640/640 - 0s - loss: 6.1560e-06 - root_mean_squared_error: 0.0025 - val_loss: 4.0141e-06 - val_root_mean_squared_error: 0.0020 - 221ms/epoch - 345us/step\n",
      "Epoch 123/500\n",
      "640/640 - 0s - loss: 5.7476e-06 - root_mean_squared_error: 0.0024 - val_loss: 3.2087e-06 - val_root_mean_squared_error: 0.0018 - 222ms/epoch - 347us/step\n",
      "Epoch 124/500\n",
      "640/640 - 0s - loss: 5.3802e-06 - root_mean_squared_error: 0.0023 - val_loss: 4.4027e-06 - val_root_mean_squared_error: 0.0021 - 222ms/epoch - 347us/step\n",
      "Epoch 125/500\n",
      "640/640 - 0s - loss: 5.1124e-06 - root_mean_squared_error: 0.0023 - val_loss: 4.6658e-06 - val_root_mean_squared_error: 0.0022 - 221ms/epoch - 346us/step\n",
      "Epoch 126/500\n",
      "640/640 - 0s - loss: 5.1323e-06 - root_mean_squared_error: 0.0023 - val_loss: 5.0994e-06 - val_root_mean_squared_error: 0.0023 - 222ms/epoch - 346us/step\n",
      "Epoch 127/500\n",
      "640/640 - 0s - loss: 5.0577e-06 - root_mean_squared_error: 0.0022 - val_loss: 1.0775e-05 - val_root_mean_squared_error: 0.0033 - 222ms/epoch - 346us/step\n",
      "Epoch 128/500\n",
      "640/640 - 0s - loss: 4.9827e-06 - root_mean_squared_error: 0.0022 - val_loss: 3.1703e-06 - val_root_mean_squared_error: 0.0018 - 222ms/epoch - 347us/step\n",
      "Epoch 129/500\n",
      "640/640 - 0s - loss: 4.8419e-06 - root_mean_squared_error: 0.0022 - val_loss: 4.6760e-06 - val_root_mean_squared_error: 0.0022 - 221ms/epoch - 346us/step\n",
      "Epoch 130/500\n",
      "640/640 - 0s - loss: 4.9547e-06 - root_mean_squared_error: 0.0022 - val_loss: 4.0633e-06 - val_root_mean_squared_error: 0.0020 - 222ms/epoch - 346us/step\n",
      "Epoch 131/500\n",
      "640/640 - 0s - loss: 5.0401e-06 - root_mean_squared_error: 0.0022 - val_loss: 4.8070e-06 - val_root_mean_squared_error: 0.0022 - 235ms/epoch - 368us/step\n",
      "Epoch 132/500\n",
      "640/640 - 0s - loss: 5.2514e-06 - root_mean_squared_error: 0.0023 - val_loss: 3.8086e-06 - val_root_mean_squared_error: 0.0020 - 223ms/epoch - 348us/step\n",
      "Epoch 133/500\n",
      "640/640 - 0s - loss: 5.2385e-06 - root_mean_squared_error: 0.0023 - val_loss: 6.2941e-06 - val_root_mean_squared_error: 0.0025 - 222ms/epoch - 347us/step\n"
     ]
    }
   ],
   "source": [
    "# fit the model\n",
    "history = model.fit(\n",
    "    train_inputs, train_targets, batch_size=BATCH_SIZE,epochs=MAX_EPOCHS, callbacks=[early_stopping], validation_data=(validation_inputs, validation_targets), verbose=2\n",
    "          )"
   ]
  },
  {
   "cell_type": "code",
   "execution_count": 134,
   "metadata": {},
   "outputs": [
    {
     "name": "stdout",
     "output_type": "stream",
     "text": [
      "Model: \"sequential_6\"\n",
      "_________________________________________________________________\n",
      " Layer (type)                Output Shape              Param #   \n",
      "=================================================================\n",
      " dense_30 (Dense)            (1, 3)                    12        \n",
      "                                                                 \n",
      " dense_31 (Dense)            (1, 15)                   60        \n",
      "                                                                 \n",
      " dense_32 (Dense)            (1, 15)                   240       \n",
      "                                                                 \n",
      " dense_33 (Dense)            (1, 10)                   160       \n",
      "                                                                 \n",
      " dense_34 (Dense)            (1, 1)                    11        \n",
      "                                                                 \n",
      "=================================================================\n",
      "Total params: 483 (1.89 KB)\n",
      "Trainable params: 483 (1.89 KB)\n",
      "Non-trainable params: 0 (0.00 Byte)\n",
      "_________________________________________________________________\n"
     ]
    }
   ],
   "source": [
    "# ANN model summary\n",
    "model.summary()"
   ]
  },
  {
   "cell_type": "code",
   "execution_count": 135,
   "metadata": {},
   "outputs": [
    {
     "data": {
      "text/html": [
       "<div>\n",
       "<style scoped>\n",
       "    .dataframe tbody tr th:only-of-type {\n",
       "        vertical-align: middle;\n",
       "    }\n",
       "\n",
       "    .dataframe tbody tr th {\n",
       "        vertical-align: top;\n",
       "    }\n",
       "\n",
       "    .dataframe thead th {\n",
       "        text-align: right;\n",
       "    }\n",
       "</style>\n",
       "<table border=\"1\" class=\"dataframe\">\n",
       "  <thead>\n",
       "    <tr style=\"text-align: right;\">\n",
       "      <th></th>\n",
       "      <th>loss</th>\n",
       "      <th>root_mean_squared_error</th>\n",
       "      <th>val_loss</th>\n",
       "      <th>val_root_mean_squared_error</th>\n",
       "    </tr>\n",
       "  </thead>\n",
       "  <tbody>\n",
       "    <tr>\n",
       "      <th>0</th>\n",
       "      <td>4.865413</td>\n",
       "      <td>2.205768</td>\n",
       "      <td>4.228098</td>\n",
       "      <td>2.056234</td>\n",
       "    </tr>\n",
       "    <tr>\n",
       "      <th>1</th>\n",
       "      <td>3.772968</td>\n",
       "      <td>1.942413</td>\n",
       "      <td>3.272797</td>\n",
       "      <td>1.809087</td>\n",
       "    </tr>\n",
       "    <tr>\n",
       "      <th>2</th>\n",
       "      <td>2.902865</td>\n",
       "      <td>1.703780</td>\n",
       "      <td>2.516881</td>\n",
       "      <td>1.586468</td>\n",
       "    </tr>\n",
       "    <tr>\n",
       "      <th>3</th>\n",
       "      <td>2.222952</td>\n",
       "      <td>1.490957</td>\n",
       "      <td>1.932884</td>\n",
       "      <td>1.390282</td>\n",
       "    </tr>\n",
       "    <tr>\n",
       "      <th>4</th>\n",
       "      <td>1.692755</td>\n",
       "      <td>1.301059</td>\n",
       "      <td>1.477183</td>\n",
       "      <td>1.215394</td>\n",
       "    </tr>\n",
       "    <tr>\n",
       "      <th>...</th>\n",
       "      <td>...</td>\n",
       "      <td>...</td>\n",
       "      <td>...</td>\n",
       "      <td>...</td>\n",
       "    </tr>\n",
       "    <tr>\n",
       "      <th>128</th>\n",
       "      <td>0.000005</td>\n",
       "      <td>0.002200</td>\n",
       "      <td>0.000005</td>\n",
       "      <td>0.002162</td>\n",
       "    </tr>\n",
       "    <tr>\n",
       "      <th>129</th>\n",
       "      <td>0.000005</td>\n",
       "      <td>0.002226</td>\n",
       "      <td>0.000004</td>\n",
       "      <td>0.002016</td>\n",
       "    </tr>\n",
       "    <tr>\n",
       "      <th>130</th>\n",
       "      <td>0.000005</td>\n",
       "      <td>0.002245</td>\n",
       "      <td>0.000005</td>\n",
       "      <td>0.002192</td>\n",
       "    </tr>\n",
       "    <tr>\n",
       "      <th>131</th>\n",
       "      <td>0.000005</td>\n",
       "      <td>0.002292</td>\n",
       "      <td>0.000004</td>\n",
       "      <td>0.001952</td>\n",
       "    </tr>\n",
       "    <tr>\n",
       "      <th>132</th>\n",
       "      <td>0.000005</td>\n",
       "      <td>0.002289</td>\n",
       "      <td>0.000006</td>\n",
       "      <td>0.002509</td>\n",
       "    </tr>\n",
       "  </tbody>\n",
       "</table>\n",
       "<p>133 rows × 4 columns</p>\n",
       "</div>"
      ],
      "text/plain": [
       "         loss  root_mean_squared_error  val_loss  val_root_mean_squared_error\n",
       "0    4.865413                 2.205768  4.228098                     2.056234\n",
       "1    3.772968                 1.942413  3.272797                     1.809087\n",
       "2    2.902865                 1.703780  2.516881                     1.586468\n",
       "3    2.222952                 1.490957  1.932884                     1.390282\n",
       "4    1.692755                 1.301059  1.477183                     1.215394\n",
       "..        ...                      ...       ...                          ...\n",
       "128  0.000005                 0.002200  0.000005                     0.002162\n",
       "129  0.000005                 0.002226  0.000004                     0.002016\n",
       "130  0.000005                 0.002245  0.000005                     0.002192\n",
       "131  0.000005                 0.002292  0.000004                     0.001952\n",
       "132  0.000005                 0.002289  0.000006                     0.002509\n",
       "\n",
       "[133 rows x 4 columns]"
      ]
     },
     "metadata": {},
     "output_type": "display_data"
    }
   ],
   "source": [
    "# saving training history as a dataframe\n",
    "df_history = pd.DataFrame(history.history)\n",
    "df_history.to_csv('data/training_histroy.csv')\n",
    "display(df_history)"
   ]
  },
  {
   "cell_type": "code",
   "execution_count": 136,
   "metadata": {},
   "outputs": [
    {
     "data": {
      "image/png": "[encoded data removed]",
      "text/plain": [
       "<Figure size 640x480 with 1 Axes>"
      ]
     },
     "metadata": {},
     "output_type": "display_data"
    },
    {
     "data": {
      "text/plain": [
       "<Figure size 640x480 with 0 Axes>"
      ]
     },
     "metadata": {},
     "output_type": "display_data"
    }
   ],
   "source": [
    "import matplotlib.pyplot as plt\n",
    "plt.plot(history.history['loss'], label='Training loss')\n",
    "plt.plot(history.history['val_loss'], label='Validation loss')\n",
    "plt.xlabel('epochs')\n",
    "plt.ylabel('MSE loss')\n",
    "plt.legend()\n",
    "plt.show()\n",
    "plt.savefig('loss_ann1.png')"
   ]
  },
  {
   "cell_type": "markdown",
   "metadata": {},
   "source": [
    "# Model check on Test data"
   ]
  },
  {
   "cell_type": "code",
   "execution_count": 137,
   "metadata": {},
   "outputs": [
    {
     "name": "stdout",
     "output_type": "stream",
     "text": [
      "3/3 [==============================] - 0s 1ms/step - loss: 4.4193e-06 - root_mean_squared_error: 0.0021\n"
     ]
    }
   ],
   "source": [
    "test_loss, test_accuracy = model.evaluate(test_inputs, test_targets)"
   ]
  },
  {
   "cell_type": "code",
   "execution_count": 138,
   "metadata": {},
   "outputs": [
    {
     "name": "stdout",
     "output_type": "stream",
     "text": [
      "\n",
      "Test loss: 0.0000. Test accuracy: 0.0021 rmse\n"
     ]
    }
   ],
   "source": [
    "print('\\nTest loss: {0:.4f}. Test accuracy: {1:.4f} rmse'.format(test_loss, test_accuracy))"
   ]
  },
  {
   "cell_type": "code",
   "execution_count": 139,
   "metadata": {},
   "outputs": [
    {
     "name": "stdout",
     "output_type": "stream",
     "text": [
      "3/3 [==============================] - 0s 1ms/step\n"
     ]
    },
    {
     "data": {
      "text/html": [
       "<div>\n",
       "<style scoped>\n",
       "    .dataframe tbody tr th:only-of-type {\n",
       "        vertical-align: middle;\n",
       "    }\n",
       "\n",
       "    .dataframe tbody tr th {\n",
       "        vertical-align: top;\n",
       "    }\n",
       "\n",
       "    .dataframe thead th {\n",
       "        text-align: right;\n",
       "    }\n",
       "</style>\n",
       "<table border=\"1\" class=\"dataframe\">\n",
       "  <thead>\n",
       "    <tr style=\"text-align: right;\">\n",
       "      <th></th>\n",
       "      <th>Target-St(%)</th>\n",
       "      <th>Prediction-St(%)</th>\n",
       "      <th>Pred-Accu-St(%)</th>\n",
       "    </tr>\n",
       "  </thead>\n",
       "  <tbody>\n",
       "    <tr>\n",
       "      <th>0</th>\n",
       "      <td>0.968</td>\n",
       "      <td>0.967</td>\n",
       "      <td>99.90</td>\n",
       "    </tr>\n",
       "    <tr>\n",
       "      <th>1</th>\n",
       "      <td>0.975</td>\n",
       "      <td>0.976</td>\n",
       "      <td>100.10</td>\n",
       "    </tr>\n",
       "    <tr>\n",
       "      <th>2</th>\n",
       "      <td>0.968</td>\n",
       "      <td>0.967</td>\n",
       "      <td>99.90</td>\n",
       "    </tr>\n",
       "    <tr>\n",
       "      <th>3</th>\n",
       "      <td>0.977</td>\n",
       "      <td>0.975</td>\n",
       "      <td>99.80</td>\n",
       "    </tr>\n",
       "    <tr>\n",
       "      <th>4</th>\n",
       "      <td>0.985</td>\n",
       "      <td>0.984</td>\n",
       "      <td>99.90</td>\n",
       "    </tr>\n",
       "    <tr>\n",
       "      <th>...</th>\n",
       "      <td>...</td>\n",
       "      <td>...</td>\n",
       "      <td>...</td>\n",
       "    </tr>\n",
       "    <tr>\n",
       "      <th>75</th>\n",
       "      <td>0.930</td>\n",
       "      <td>0.933</td>\n",
       "      <td>100.32</td>\n",
       "    </tr>\n",
       "    <tr>\n",
       "      <th>76</th>\n",
       "      <td>0.961</td>\n",
       "      <td>0.963</td>\n",
       "      <td>100.21</td>\n",
       "    </tr>\n",
       "    <tr>\n",
       "      <th>77</th>\n",
       "      <td>0.977</td>\n",
       "      <td>0.975</td>\n",
       "      <td>99.80</td>\n",
       "    </tr>\n",
       "    <tr>\n",
       "      <th>78</th>\n",
       "      <td>0.971</td>\n",
       "      <td>0.967</td>\n",
       "      <td>99.59</td>\n",
       "    </tr>\n",
       "    <tr>\n",
       "      <th>79</th>\n",
       "      <td>0.932</td>\n",
       "      <td>0.933</td>\n",
       "      <td>100.11</td>\n",
       "    </tr>\n",
       "  </tbody>\n",
       "</table>\n",
       "<p>80 rows × 3 columns</p>\n",
       "</div>"
      ],
      "text/plain": [
       "    Target-St(%)  Prediction-St(%)  Pred-Accu-St(%)\n",
       "0          0.968             0.967            99.90\n",
       "1          0.975             0.976           100.10\n",
       "2          0.968             0.967            99.90\n",
       "3          0.977             0.975            99.80\n",
       "4          0.985             0.984            99.90\n",
       "..           ...               ...              ...\n",
       "75         0.930             0.933           100.32\n",
       "76         0.961             0.963           100.21\n",
       "77         0.977             0.975            99.80\n",
       "78         0.971             0.967            99.59\n",
       "79         0.932             0.933           100.11\n",
       "\n",
       "[80 rows x 3 columns]"
      ]
     },
     "execution_count": 139,
     "metadata": {},
     "output_type": "execute_result"
    }
   ],
   "source": [
    "prediction = model.predict(test_inputs)\n",
    "data_inputs = pd.DataFrame(test_inputs)\n",
    "prediction = pd.DataFrame(np.round(prediction,3))\n",
    "test_targets = pd.DataFrame(test_targets)\n",
    "pred_accu = np.round((prediction/test_targets)*100,2)\n",
    "\n",
    "result = pd.concat([test_targets, prediction, pred_accu], axis = 1, ignore_index=True)\n",
    "result.columns = ['Target-St(%)', 'Prediction-St(%)','Pred-Accu-St(%)']\n",
    "result.to_csv('data/error_prediction.csv')\n",
    "result"
   ]
  },
  {
   "cell_type": "code",
   "execution_count": 140,
   "metadata": {},
   "outputs": [
    {
     "data": {
      "image/png": "[encoded data removed]",
      "text/plain": [
       "<Figure size 640x480 with 1 Axes>"
      ]
     },
     "metadata": {},
     "output_type": "display_data"
    }
   ],
   "source": [
    "import matplotlib.pyplot as plt\n",
    "plt.scatter(result['Target-St(%)'], result['Pred-Accu-St(%)'], alpha=0.5, color='r', label='Targets')\n",
    "plt.scatter(result['Prediction-St(%)'], result['Pred-Accu-St(%)'],alpha=0.5, color='b', label='Predictions')\n",
    "plt.ylabel('Error in the prediction(%)')\n",
    "plt.xlabel('Targets (red) & Predictions (blue)')\n",
    "plt.legend()\n",
    "plt.savefig('pred1.png')\n"
   ]
  },
  {
   "cell_type": "code",
   "execution_count": 141,
   "metadata": {},
   "outputs": [
    {
     "data": {
      "image/png": "[encoded data removed]",
      "text/plain": [
       "<Figure size 640x480 with 1 Axes>"
      ]
     },
     "metadata": {},
     "output_type": "display_data"
    }
   ],
   "source": [
    "plt.scatter(result['Target-St(%)'], result['Target-St(%)'], alpha=0.5, color='r', label='Targets')\n",
    "plt.scatter(result['Target-St(%)'], result['Prediction-St(%)'], alpha=0.4, color='g', label='Predictions')\n",
    "\n",
    "plt.ylabel('predictions')\n",
    "plt.xlabel('Targets (red) & Predictions (green)')\n",
    "plt.legend()\n",
    "plt.savefig('pred2.png')"
   ]
  },
  {
   "cell_type": "code",
   "execution_count": 142,
   "metadata": {},
   "outputs": [
    {
     "data": {
      "text/plain": [
       "0.9896"
      ]
     },
     "execution_count": 142,
     "metadata": {},
     "output_type": "execute_result"
    }
   ],
   "source": [
    "# estimation of R2 score\n",
    "from sklearn.metrics import r2_score\n",
    "r2_score_test = r2_score(test_targets, prediction)\n",
    "np.round(r2_score_test,4)"
   ]
  },
  {
   "cell_type": "code",
   "execution_count": 143,
   "metadata": {},
   "outputs": [
    {
     "data": {
      "text/plain": [
       "0.9892"
      ]
     },
     "execution_count": 143,
     "metadata": {},
     "output_type": "execute_result"
    }
   ],
   "source": [
    "# estimation of adjusted R2 score\n",
    "n = np.size(test_targets)\n",
    "k = 3 # number of features\n",
    "adj_r2_score = 1 - (((1-r2_score_test)*(n-1))/((n-k-1)))\n",
    "np.round(adj_r2_score,4)"
   ]
  },
  {
   "cell_type": "code",
   "execution_count": 144,
   "metadata": {},
   "outputs": [
    {
     "name": "stdout",
     "output_type": "stream",
     "text": [
      "Uncertainty of the ANN model: 0.18 [%]\n",
      "Average test prediction precision 99.82 [%]\n"
     ]
    }
   ],
   "source": [
    "mean_pred = pred_accu.mean()\n",
    "std_pred = pred_accu.std()\n",
    "uncertainty_model = std_pred\n",
    "print(\"Uncertainty of the ANN model:\", np.round(uncertainty_model[0],2), '[%]')\n",
    "print(\"Average test prediction precision\", np.round(100 - uncertainty_model[0],2), '[%]')"
   ]
  },
  {
   "cell_type": "markdown",
   "metadata": {},
   "source": [
    "# ANN Model Deployment"
   ]
  },
  {
   "cell_type": "markdown",
   "metadata": {},
   "source": [
    "ANN model deployment for micro DSC error prediction"
   ]
  },
  {
   "cell_type": "code",
   "execution_count": 145,
   "metadata": {},
   "outputs": [
    {
     "name": "stderr",
     "output_type": "stream",
     "text": [
      "/Users/nirmal/Documents/np_dsci_codes/.venv/lib/python3.11/site-packages/keras/src/engine/training.py:3079: UserWarning: You are saving your model as an HDF5 file via `model.save()`. This file format is considered legacy. We recommend using instead the native Keras format, e.g. `model.save('my_model.keras')`.\n",
      "  saving_api.save_model(\n"
     ]
    }
   ],
   "source": [
    "import keras\n",
    "model.save('micro_dsc_dl.h5')"
   ]
  },
  {
   "cell_type": "code",
   "execution_count": 146,
   "metadata": {},
   "outputs": [],
   "source": [
    "import keras\n",
    "model.save('micro_dsc_dl.hdf5')"
   ]
  }
 ],
 "metadata": {
  "kernelspec": {
   "display_name": ".venv",
   "language": "python",
   "name": "python3"
  },
  "language_info": {
   "codemirror_mode": {
    "name": "ipython",
    "version": 3
   },
   "file_extension": ".py",
   "mimetype": "text/x-python",
   "name": "python",
   "nbconvert_exporter": "python",
   "pygments_lexer": "ipython3",
   "version": "3.11.2"
  },
  "orig_nbformat": 4,
  "vscode": {
   "interpreter": {
    "hash": "936e48570c6d8e03aadc3812174f41544386c43126f76ed1b891f4cd7747e266"
   }
  }
 },
 "nbformat": 4,
 "nbformat_minor": 2
}
