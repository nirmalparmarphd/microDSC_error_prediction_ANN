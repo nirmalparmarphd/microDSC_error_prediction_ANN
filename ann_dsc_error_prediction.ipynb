{
 "cells": [
  {
   "cell_type": "markdown",
   "metadata": {},
   "source": [
    "# DNN Model"
   ]
  },
  {
   "cell_type": "code",
   "execution_count": 62,
   "metadata": {},
   "outputs": [],
   "source": [
    "import numpy as np\n",
    "import pandas as pd\n",
    "import tensorflow as tf"
   ]
  },
  {
   "cell_type": "code",
   "execution_count": 63,
   "metadata": {},
   "outputs": [],
   "source": [
    "# data loading from .npz generated from tcr_data_process.ipynb\n",
    "# loading train data\n",
    "npz = np.load('data_train.npz')\n",
    "train_inputs = npz['input'].astype(np.float64)\n",
    "train_targets = npz['targets'].astype(np.float64)\n",
    "# loading validation data\n",
    "npz = np.load('data_validation.npz')\n",
    "validation_inputs, validation_targets = npz['input'].astype(np.float64), npz['targets'].astype(np.float64)\n",
    "\n",
    "npz = np.load('data_test.npz')\n",
    "test_inputs, test_targets = npz['input'].astype(np.float64), npz['targets'].astype(np.float64)"
   ]
  },
  {
   "cell_type": "markdown",
   "metadata": {},
   "source": [
    "# ANN Model"
   ]
  },
  {
   "cell_type": "markdown",
   "metadata": {},
   "source": [
    "Outline, Optimizer, Loss function, Early stopping and Training rate"
   ]
  },
  {
   "cell_type": "code",
   "execution_count": 64,
   "metadata": {},
   "outputs": [],
   "source": [
    "# NN model prep\n",
    "input_size = 3\n",
    "output_size = 1\n",
    "hidden_layer_1_size = 15\n",
    "hidden_layer_2_size = 15\n",
    "hidden_layer_3_size = 10\n",
    "\n",
    "model = tf.keras.Sequential([\n",
    "    tf.keras.layers.Dense(input_size),\n",
    "    tf.keras.layers.Dense(hidden_layer_1_size, activation='relu'),\n",
    "    tf.keras.layers.Dense(hidden_layer_2_size, activation='relu'),\n",
    "    tf.keras.layers.Dense(hidden_layer_3_size, activation='relu'),\n",
    "    tf.keras.layers.Dense(output_size, activation='linear')\n",
    "])\n"
   ]
  },
  {
   "cell_type": "code",
   "execution_count": 65,
   "metadata": {},
   "outputs": [],
   "source": [
    "# model prep, optimizer and loss function\n",
    "optimizer = tf.keras.optimizers.Adam(learning_rate=0.00001)\n",
    "model.compile(optimizer, loss=tf.keras.losses.MeanSquaredError(),metrics=[tf.keras.metrics.RootMeanSquaredError()])\n"
   ]
  },
  {
   "cell_type": "code",
   "execution_count": 66,
   "metadata": {},
   "outputs": [],
   "source": [
    "# Training\n",
    "BATCH_SIZE = 1\n",
    "MAX_EPOCHS = 1000\n",
    "early_stopping = tf.keras.callbacks.EarlyStopping(patience=2)"
   ]
  },
  {
   "cell_type": "code",
   "execution_count": 67,
   "metadata": {},
   "outputs": [
    {
     "name": "stdout",
     "output_type": "stream",
     "text": [
      "Epoch 1/1000\n",
      "640/640 - 4s - loss: 1.0315 - root_mean_squared_error: 1.0156 - val_loss: 0.9902 - val_root_mean_squared_error: 0.9951 - 4s/epoch - 6ms/step\n",
      "Epoch 2/1000\n",
      "640/640 - 2s - loss: 0.9334 - root_mean_squared_error: 0.9661 - val_loss: 0.8978 - val_root_mean_squared_error: 0.9475 - 2s/epoch - 3ms/step\n",
      "Epoch 3/1000\n",
      "640/640 - 1s - loss: 0.8413 - root_mean_squared_error: 0.9172 - val_loss: 0.8108 - val_root_mean_squared_error: 0.9004 - 1s/epoch - 2ms/step\n",
      "Epoch 4/1000\n",
      "640/640 - 1s - loss: 0.7544 - root_mean_squared_error: 0.8685 - val_loss: 0.7286 - val_root_mean_squared_error: 0.8536 - 1s/epoch - 2ms/step\n",
      "Epoch 5/1000\n",
      "640/640 - 1s - loss: 0.6735 - root_mean_squared_error: 0.8207 - val_loss: 0.6526 - val_root_mean_squared_error: 0.8078 - 1s/epoch - 2ms/step\n",
      "Epoch 6/1000\n",
      "640/640 - 1s - loss: 0.5986 - root_mean_squared_error: 0.7737 - val_loss: 0.5812 - val_root_mean_squared_error: 0.7624 - 1s/epoch - 2ms/step\n",
      "Epoch 7/1000\n",
      "640/640 - 1s - loss: 0.5268 - root_mean_squared_error: 0.7258 - val_loss: 0.5105 - val_root_mean_squared_error: 0.7145 - 1s/epoch - 2ms/step\n",
      "Epoch 8/1000\n",
      "640/640 - 1s - loss: 0.4575 - root_mean_squared_error: 0.6764 - val_loss: 0.4430 - val_root_mean_squared_error: 0.6656 - 1s/epoch - 2ms/step\n",
      "Epoch 9/1000\n",
      "640/640 - 1s - loss: 0.3917 - root_mean_squared_error: 0.6259 - val_loss: 0.3805 - val_root_mean_squared_error: 0.6169 - 1s/epoch - 2ms/step\n",
      "Epoch 10/1000\n",
      "640/640 - 1s - loss: 0.3321 - root_mean_squared_error: 0.5763 - val_loss: 0.3244 - val_root_mean_squared_error: 0.5695 - 1s/epoch - 2ms/step\n",
      "Epoch 11/1000\n",
      "640/640 - 1s - loss: 0.2794 - root_mean_squared_error: 0.5286 - val_loss: 0.2749 - val_root_mean_squared_error: 0.5243 - 1s/epoch - 2ms/step\n",
      "Epoch 12/1000\n",
      "640/640 - 1s - loss: 0.2338 - root_mean_squared_error: 0.4835 - val_loss: 0.2321 - val_root_mean_squared_error: 0.4818 - 1s/epoch - 2ms/step\n",
      "Epoch 13/1000\n",
      "640/640 - 1s - loss: 0.1969 - root_mean_squared_error: 0.4437 - val_loss: 0.1983 - val_root_mean_squared_error: 0.4453 - 1s/epoch - 2ms/step\n",
      "Epoch 14/1000\n",
      "640/640 - 1s - loss: 0.1682 - root_mean_squared_error: 0.4101 - val_loss: 0.1704 - val_root_mean_squared_error: 0.4128 - 1s/epoch - 2ms/step\n",
      "Epoch 15/1000\n",
      "640/640 - 1s - loss: 0.1450 - root_mean_squared_error: 0.3808 - val_loss: 0.1492 - val_root_mean_squared_error: 0.3863 - 1s/epoch - 2ms/step\n",
      "Epoch 16/1000\n",
      "640/640 - 1s - loss: 0.1287 - root_mean_squared_error: 0.3588 - val_loss: 0.1336 - val_root_mean_squared_error: 0.3655 - 1s/epoch - 2ms/step\n",
      "Epoch 17/1000\n",
      "640/640 - 1s - loss: 0.1166 - root_mean_squared_error: 0.3414 - val_loss: 0.1213 - val_root_mean_squared_error: 0.3483 - 1s/epoch - 2ms/step\n",
      "Epoch 18/1000\n",
      "640/640 - 1s - loss: 0.1066 - root_mean_squared_error: 0.3265 - val_loss: 0.1113 - val_root_mean_squared_error: 0.3336 - 1s/epoch - 2ms/step\n",
      "Epoch 19/1000\n",
      "640/640 - 1s - loss: 0.0983 - root_mean_squared_error: 0.3135 - val_loss: 0.1028 - val_root_mean_squared_error: 0.3206 - 1s/epoch - 2ms/step\n",
      "Epoch 20/1000\n",
      "640/640 - 1s - loss: 0.0911 - root_mean_squared_error: 0.3018 - val_loss: 0.0953 - val_root_mean_squared_error: 0.3086 - 1s/epoch - 2ms/step\n",
      "Epoch 21/1000\n",
      "640/640 - 1s - loss: 0.0844 - root_mean_squared_error: 0.2905 - val_loss: 0.0883 - val_root_mean_squared_error: 0.2972 - 1s/epoch - 2ms/step\n",
      "Epoch 22/1000\n",
      "640/640 - 1s - loss: 0.0781 - root_mean_squared_error: 0.2795 - val_loss: 0.0817 - val_root_mean_squared_error: 0.2858 - 1s/epoch - 2ms/step\n",
      "Epoch 23/1000\n",
      "640/640 - 1s - loss: 0.0722 - root_mean_squared_error: 0.2686 - val_loss: 0.0757 - val_root_mean_squared_error: 0.2751 - 1s/epoch - 2ms/step\n",
      "Epoch 24/1000\n",
      "640/640 - 1s - loss: 0.0666 - root_mean_squared_error: 0.2580 - val_loss: 0.0699 - val_root_mean_squared_error: 0.2644 - 1s/epoch - 2ms/step\n",
      "Epoch 25/1000\n",
      "640/640 - 1s - loss: 0.0612 - root_mean_squared_error: 0.2475 - val_loss: 0.0645 - val_root_mean_squared_error: 0.2540 - 1s/epoch - 2ms/step\n",
      "Epoch 26/1000\n",
      "640/640 - 1s - loss: 0.0562 - root_mean_squared_error: 0.2371 - val_loss: 0.0592 - val_root_mean_squared_error: 0.2434 - 1s/epoch - 2ms/step\n",
      "Epoch 27/1000\n",
      "640/640 - 1s - loss: 0.0513 - root_mean_squared_error: 0.2266 - val_loss: 0.0541 - val_root_mean_squared_error: 0.2326 - 1s/epoch - 2ms/step\n",
      "Epoch 28/1000\n",
      "640/640 - 1s - loss: 0.0467 - root_mean_squared_error: 0.2161 - val_loss: 0.0494 - val_root_mean_squared_error: 0.2222 - 1s/epoch - 2ms/step\n",
      "Epoch 29/1000\n",
      "640/640 - 1s - loss: 0.0424 - root_mean_squared_error: 0.2059 - val_loss: 0.0450 - val_root_mean_squared_error: 0.2121 - 1s/epoch - 2ms/step\n",
      "Epoch 30/1000\n",
      "640/640 - 1s - loss: 0.0384 - root_mean_squared_error: 0.1960 - val_loss: 0.0409 - val_root_mean_squared_error: 0.2021 - 1s/epoch - 2ms/step\n",
      "Epoch 31/1000\n",
      "640/640 - 1s - loss: 0.0348 - root_mean_squared_error: 0.1864 - val_loss: 0.0371 - val_root_mean_squared_error: 0.1925 - 1s/epoch - 2ms/step\n",
      "Epoch 32/1000\n",
      "640/640 - 1s - loss: 0.0314 - root_mean_squared_error: 0.1772 - val_loss: 0.0335 - val_root_mean_squared_error: 0.1831 - 1s/epoch - 2ms/step\n",
      "Epoch 33/1000\n",
      "640/640 - 1s - loss: 0.0283 - root_mean_squared_error: 0.1681 - val_loss: 0.0302 - val_root_mean_squared_error: 0.1739 - 1s/epoch - 2ms/step\n",
      "Epoch 34/1000\n",
      "640/640 - 1s - loss: 0.0254 - root_mean_squared_error: 0.1593 - val_loss: 0.0271 - val_root_mean_squared_error: 0.1647 - 1s/epoch - 2ms/step\n",
      "Epoch 35/1000\n",
      "640/640 - 1s - loss: 0.0227 - root_mean_squared_error: 0.1506 - val_loss: 0.0243 - val_root_mean_squared_error: 0.1557 - 1s/epoch - 2ms/step\n",
      "Epoch 36/1000\n",
      "640/640 - 1s - loss: 0.0202 - root_mean_squared_error: 0.1420 - val_loss: 0.0216 - val_root_mean_squared_error: 0.1468 - 1s/epoch - 2ms/step\n",
      "Epoch 37/1000\n",
      "640/640 - 1s - loss: 0.0178 - root_mean_squared_error: 0.1335 - val_loss: 0.0190 - val_root_mean_squared_error: 0.1380 - 1s/epoch - 2ms/step\n",
      "Epoch 38/1000\n",
      "640/640 - 1s - loss: 0.0157 - root_mean_squared_error: 0.1253 - val_loss: 0.0167 - val_root_mean_squared_error: 0.1294 - 1s/epoch - 2ms/step\n",
      "Epoch 39/1000\n",
      "640/640 - 1s - loss: 0.0137 - root_mean_squared_error: 0.1171 - val_loss: 0.0146 - val_root_mean_squared_error: 0.1209 - 1s/epoch - 2ms/step\n",
      "Epoch 40/1000\n",
      "640/640 - 1s - loss: 0.0119 - root_mean_squared_error: 0.1093 - val_loss: 0.0127 - val_root_mean_squared_error: 0.1127 - 1s/epoch - 2ms/step\n",
      "Epoch 41/1000\n",
      "640/640 - 1s - loss: 0.0103 - root_mean_squared_error: 0.1017 - val_loss: 0.0110 - val_root_mean_squared_error: 0.1048 - 1s/epoch - 2ms/step\n",
      "Epoch 42/1000\n",
      "640/640 - 1s - loss: 0.0089 - root_mean_squared_error: 0.0945 - val_loss: 0.0094 - val_root_mean_squared_error: 0.0972 - 1s/epoch - 2ms/step\n",
      "Epoch 43/1000\n",
      "640/640 - 1s - loss: 0.0077 - root_mean_squared_error: 0.0877 - val_loss: 0.0081 - val_root_mean_squared_error: 0.0900 - 1s/epoch - 2ms/step\n",
      "Epoch 44/1000\n",
      "640/640 - 1s - loss: 0.0066 - root_mean_squared_error: 0.0812 - val_loss: 0.0069 - val_root_mean_squared_error: 0.0830 - 1s/epoch - 2ms/step\n",
      "Epoch 45/1000\n",
      "640/640 - 1s - loss: 0.0057 - root_mean_squared_error: 0.0752 - val_loss: 0.0059 - val_root_mean_squared_error: 0.0769 - 1s/epoch - 2ms/step\n",
      "Epoch 46/1000\n",
      "640/640 - 1s - loss: 0.0049 - root_mean_squared_error: 0.0698 - val_loss: 0.0051 - val_root_mean_squared_error: 0.0712 - 1s/epoch - 2ms/step\n",
      "Epoch 47/1000\n",
      "640/640 - 1s - loss: 0.0042 - root_mean_squared_error: 0.0648 - val_loss: 0.0043 - val_root_mean_squared_error: 0.0659 - 1s/epoch - 2ms/step\n",
      "Epoch 48/1000\n",
      "640/640 - 1s - loss: 0.0036 - root_mean_squared_error: 0.0600 - val_loss: 0.0037 - val_root_mean_squared_error: 0.0610 - 1s/epoch - 2ms/step\n",
      "Epoch 49/1000\n",
      "640/640 - 1s - loss: 0.0031 - root_mean_squared_error: 0.0556 - val_loss: 0.0031 - val_root_mean_squared_error: 0.0561 - 1s/epoch - 2ms/step\n",
      "Epoch 50/1000\n",
      "640/640 - 1s - loss: 0.0026 - root_mean_squared_error: 0.0512 - val_loss: 0.0026 - val_root_mean_squared_error: 0.0514 - 1s/epoch - 2ms/step\n",
      "Epoch 51/1000\n",
      "640/640 - 1s - loss: 0.0022 - root_mean_squared_error: 0.0470 - val_loss: 0.0022 - val_root_mean_squared_error: 0.0470 - 1s/epoch - 2ms/step\n",
      "Epoch 52/1000\n",
      "640/640 - 1s - loss: 0.0019 - root_mean_squared_error: 0.0431 - val_loss: 0.0018 - val_root_mean_squared_error: 0.0427 - 1s/epoch - 2ms/step\n",
      "Epoch 53/1000\n",
      "640/640 - 1s - loss: 0.0015 - root_mean_squared_error: 0.0393 - val_loss: 0.0015 - val_root_mean_squared_error: 0.0388 - 1s/epoch - 2ms/step\n",
      "Epoch 54/1000\n",
      "640/640 - 1s - loss: 0.0013 - root_mean_squared_error: 0.0359 - val_loss: 0.0012 - val_root_mean_squared_error: 0.0351 - 1s/epoch - 2ms/step\n",
      "Epoch 55/1000\n",
      "640/640 - 1s - loss: 0.0011 - root_mean_squared_error: 0.0327 - val_loss: 0.0010 - val_root_mean_squared_error: 0.0317 - 1s/epoch - 2ms/step\n",
      "Epoch 56/1000\n",
      "640/640 - 2s - loss: 8.6470e-04 - root_mean_squared_error: 0.0294 - val_loss: 7.7048e-04 - val_root_mean_squared_error: 0.0278 - 2s/epoch - 3ms/step\n",
      "Epoch 57/1000\n",
      "640/640 - 2s - loss: 6.6326e-04 - root_mean_squared_error: 0.0258 - val_loss: 5.8895e-04 - val_root_mean_squared_error: 0.0243 - 2s/epoch - 3ms/step\n",
      "Epoch 58/1000\n",
      "640/640 - 1s - loss: 5.1133e-04 - root_mean_squared_error: 0.0226 - val_loss: 4.5320e-04 - val_root_mean_squared_error: 0.0213 - 1s/epoch - 2ms/step\n",
      "Epoch 59/1000\n",
      "640/640 - 1s - loss: 3.9620e-04 - root_mean_squared_error: 0.0199 - val_loss: 3.5048e-04 - val_root_mean_squared_error: 0.0187 - 1s/epoch - 2ms/step\n",
      "Epoch 60/1000\n",
      "640/640 - 2s - loss: 3.0910e-04 - root_mean_squared_error: 0.0176 - val_loss: 2.6726e-04 - val_root_mean_squared_error: 0.0163 - 2s/epoch - 3ms/step\n",
      "Epoch 61/1000\n",
      "640/640 - 1s - loss: 2.3939e-04 - root_mean_squared_error: 0.0155 - val_loss: 2.0449e-04 - val_root_mean_squared_error: 0.0143 - 1s/epoch - 2ms/step\n",
      "Epoch 62/1000\n",
      "640/640 - 1s - loss: 1.8582e-04 - root_mean_squared_error: 0.0136 - val_loss: 1.6159e-04 - val_root_mean_squared_error: 0.0127 - 1s/epoch - 2ms/step\n",
      "Epoch 63/1000\n",
      "640/640 - 1s - loss: 1.4993e-04 - root_mean_squared_error: 0.0122 - val_loss: 1.3403e-04 - val_root_mean_squared_error: 0.0116 - 1s/epoch - 2ms/step\n",
      "Epoch 64/1000\n",
      "640/640 - 2s - loss: 1.2342e-04 - root_mean_squared_error: 0.0111 - val_loss: 1.1259e-04 - val_root_mean_squared_error: 0.0106 - 2s/epoch - 2ms/step\n",
      "Epoch 65/1000\n",
      "640/640 - 2s - loss: 1.0322e-04 - root_mean_squared_error: 0.0102 - val_loss: 9.5468e-05 - val_root_mean_squared_error: 0.0098 - 2s/epoch - 4ms/step\n",
      "Epoch 66/1000\n",
      "640/640 - 2s - loss: 8.7943e-05 - root_mean_squared_error: 0.0094 - val_loss: 8.3936e-05 - val_root_mean_squared_error: 0.0092 - 2s/epoch - 3ms/step\n",
      "Epoch 67/1000\n",
      "640/640 - 1s - loss: 7.4291e-05 - root_mean_squared_error: 0.0086 - val_loss: 7.2272e-05 - val_root_mean_squared_error: 0.0085 - 1s/epoch - 2ms/step\n",
      "Epoch 68/1000\n",
      "640/640 - 1s - loss: 6.3138e-05 - root_mean_squared_error: 0.0079 - val_loss: 6.2785e-05 - val_root_mean_squared_error: 0.0079 - 1s/epoch - 2ms/step\n",
      "Epoch 69/1000\n",
      "640/640 - 1s - loss: 5.4643e-05 - root_mean_squared_error: 0.0074 - val_loss: 5.5250e-05 - val_root_mean_squared_error: 0.0074 - 1s/epoch - 2ms/step\n",
      "Epoch 70/1000\n",
      "640/640 - 1s - loss: 4.7741e-05 - root_mean_squared_error: 0.0069 - val_loss: 4.7321e-05 - val_root_mean_squared_error: 0.0069 - 1s/epoch - 2ms/step\n",
      "Epoch 71/1000\n",
      "640/640 - 1s - loss: 4.1780e-05 - root_mean_squared_error: 0.0065 - val_loss: 4.2270e-05 - val_root_mean_squared_error: 0.0065 - 1s/epoch - 2ms/step\n",
      "Epoch 72/1000\n",
      "640/640 - 2s - loss: 3.5704e-05 - root_mean_squared_error: 0.0060 - val_loss: 3.6653e-05 - val_root_mean_squared_error: 0.0061 - 2s/epoch - 2ms/step\n",
      "Epoch 73/1000\n",
      "640/640 - 1s - loss: 3.1298e-05 - root_mean_squared_error: 0.0056 - val_loss: 3.2059e-05 - val_root_mean_squared_error: 0.0057 - 1s/epoch - 2ms/step\n",
      "Epoch 74/1000\n",
      "640/640 - 1s - loss: 2.7148e-05 - root_mean_squared_error: 0.0052 - val_loss: 3.0478e-05 - val_root_mean_squared_error: 0.0055 - 1s/epoch - 2ms/step\n",
      "Epoch 75/1000\n",
      "640/640 - 1s - loss: 2.3614e-05 - root_mean_squared_error: 0.0049 - val_loss: 2.6077e-05 - val_root_mean_squared_error: 0.0051 - 1s/epoch - 2ms/step\n",
      "Epoch 76/1000\n",
      "640/640 - 1s - loss: 2.1229e-05 - root_mean_squared_error: 0.0046 - val_loss: 2.2337e-05 - val_root_mean_squared_error: 0.0047 - 1s/epoch - 2ms/step\n",
      "Epoch 77/1000\n",
      "640/640 - 1s - loss: 1.8189e-05 - root_mean_squared_error: 0.0043 - val_loss: 1.8646e-05 - val_root_mean_squared_error: 0.0043 - 1s/epoch - 2ms/step\n",
      "Epoch 78/1000\n",
      "640/640 - 1s - loss: 1.5775e-05 - root_mean_squared_error: 0.0040 - val_loss: 1.7626e-05 - val_root_mean_squared_error: 0.0042 - 1s/epoch - 2ms/step\n",
      "Epoch 79/1000\n",
      "640/640 - 1s - loss: 1.4324e-05 - root_mean_squared_error: 0.0038 - val_loss: 1.3979e-05 - val_root_mean_squared_error: 0.0037 - 1s/epoch - 2ms/step\n",
      "Epoch 80/1000\n",
      "640/640 - 1s - loss: 1.2788e-05 - root_mean_squared_error: 0.0036 - val_loss: 1.2666e-05 - val_root_mean_squared_error: 0.0036 - 1s/epoch - 2ms/step\n",
      "Epoch 81/1000\n",
      "640/640 - 1s - loss: 1.1186e-05 - root_mean_squared_error: 0.0033 - val_loss: 1.2108e-05 - val_root_mean_squared_error: 0.0035 - 1s/epoch - 2ms/step\n",
      "Epoch 82/1000\n",
      "640/640 - 1s - loss: 9.8512e-06 - root_mean_squared_error: 0.0031 - val_loss: 9.3226e-06 - val_root_mean_squared_error: 0.0031 - 1s/epoch - 2ms/step\n",
      "Epoch 83/1000\n",
      "640/640 - 1s - loss: 8.6484e-06 - root_mean_squared_error: 0.0029 - val_loss: 9.2824e-06 - val_root_mean_squared_error: 0.0030 - 1s/epoch - 2ms/step\n",
      "Epoch 84/1000\n",
      "640/640 - 1s - loss: 8.0653e-06 - root_mean_squared_error: 0.0028 - val_loss: 7.9481e-06 - val_root_mean_squared_error: 0.0028 - 1s/epoch - 2ms/step\n",
      "Epoch 85/1000\n",
      "640/640 - 1s - loss: 7.3240e-06 - root_mean_squared_error: 0.0027 - val_loss: 6.4585e-06 - val_root_mean_squared_error: 0.0025 - 1s/epoch - 2ms/step\n",
      "Epoch 86/1000\n",
      "640/640 - 1s - loss: 6.6575e-06 - root_mean_squared_error: 0.0026 - val_loss: 5.9589e-06 - val_root_mean_squared_error: 0.0024 - 1s/epoch - 2ms/step\n",
      "Epoch 87/1000\n",
      "640/640 - 1s - loss: 5.8975e-06 - root_mean_squared_error: 0.0024 - val_loss: 5.4127e-06 - val_root_mean_squared_error: 0.0023 - 1s/epoch - 2ms/step\n",
      "Epoch 88/1000\n",
      "640/640 - 1s - loss: 5.6542e-06 - root_mean_squared_error: 0.0024 - val_loss: 5.1195e-06 - val_root_mean_squared_error: 0.0023 - 1s/epoch - 2ms/step\n",
      "Epoch 89/1000\n",
      "640/640 - 1s - loss: 5.2886e-06 - root_mean_squared_error: 0.0023 - val_loss: 4.2120e-06 - val_root_mean_squared_error: 0.0021 - 1s/epoch - 2ms/step\n",
      "Epoch 90/1000\n",
      "640/640 - 1s - loss: 5.0969e-06 - root_mean_squared_error: 0.0023 - val_loss: 3.7156e-06 - val_root_mean_squared_error: 0.0019 - 1s/epoch - 2ms/step\n",
      "Epoch 91/1000\n",
      "640/640 - 1s - loss: 4.5306e-06 - root_mean_squared_error: 0.0021 - val_loss: 3.8121e-06 - val_root_mean_squared_error: 0.0020 - 1s/epoch - 2ms/step\n",
      "Epoch 92/1000\n",
      "640/640 - 1s - loss: 4.4988e-06 - root_mean_squared_error: 0.0021 - val_loss: 3.3603e-06 - val_root_mean_squared_error: 0.0018 - 1s/epoch - 2ms/step\n",
      "Epoch 93/1000\n",
      "640/640 - 1s - loss: 4.4234e-06 - root_mean_squared_error: 0.0021 - val_loss: 3.3072e-06 - val_root_mean_squared_error: 0.0018 - 1s/epoch - 2ms/step\n",
      "Epoch 94/1000\n",
      "640/640 - 1s - loss: 4.1906e-06 - root_mean_squared_error: 0.0020 - val_loss: 3.2215e-06 - val_root_mean_squared_error: 0.0018 - 1s/epoch - 2ms/step\n",
      "Epoch 95/1000\n",
      "640/640 - 1s - loss: 4.0949e-06 - root_mean_squared_error: 0.0020 - val_loss: 2.9663e-06 - val_root_mean_squared_error: 0.0017 - 1s/epoch - 2ms/step\n",
      "Epoch 96/1000\n",
      "640/640 - 1s - loss: 4.0342e-06 - root_mean_squared_error: 0.0020 - val_loss: 3.8576e-06 - val_root_mean_squared_error: 0.0020 - 1s/epoch - 2ms/step\n",
      "Epoch 97/1000\n",
      "640/640 - 1s - loss: 4.0884e-06 - root_mean_squared_error: 0.0020 - val_loss: 4.4218e-06 - val_root_mean_squared_error: 0.0021 - 1s/epoch - 2ms/step\n"
     ]
    }
   ],
   "source": [
    "# fit the model\n",
    "history = model.fit(\n",
    "    train_inputs, train_targets, batch_size=BATCH_SIZE,epochs=MAX_EPOCHS, callbacks=[early_stopping], validation_data=(validation_inputs, validation_targets), verbose=2\n",
    "          )"
   ]
  },
  {
   "cell_type": "code",
   "execution_count": 68,
   "metadata": {},
   "outputs": [
    {
     "name": "stdout",
     "output_type": "stream",
     "text": [
      "Model: \"sequential_4\"\n",
      "_________________________________________________________________\n",
      " Layer (type)                Output Shape              Param #   \n",
      "=================================================================\n",
      " dense_20 (Dense)            (1, 3)                    12        \n",
      "                                                                 \n",
      " dense_21 (Dense)            (1, 15)                   60        \n",
      "                                                                 \n",
      " dense_22 (Dense)            (1, 15)                   240       \n",
      "                                                                 \n",
      " dense_23 (Dense)            (1, 10)                   160       \n",
      "                                                                 \n",
      " dense_24 (Dense)            (1, 1)                    11        \n",
      "                                                                 \n",
      "=================================================================\n",
      "Total params: 483\n",
      "Trainable params: 483\n",
      "Non-trainable params: 0\n",
      "_________________________________________________________________\n"
     ]
    }
   ],
   "source": [
    "# ANN model summary\n",
    "model.summary()"
   ]
  },
  {
   "cell_type": "code",
   "execution_count": 69,
   "metadata": {},
   "outputs": [
    {
     "data": {
      "image/png": "[encoded data removed]",
      "text/plain": [
       "<Figure size 640x480 with 1 Axes>"
      ]
     },
     "metadata": {},
     "output_type": "display_data"
    }
   ],
   "source": [
    "import matplotlib.pyplot as plt\n",
    "plt.plot(history.history['loss'], label='Training_loss')\n",
    "plt.plot(history.history['val_loss'], label='Validation_loss')\n",
    "plt.xlabel('epochs')\n",
    "plt.ylabel('loss')\n",
    "plt.legend()\n",
    "plt.show()"
   ]
  },
  {
   "cell_type": "markdown",
   "metadata": {},
   "source": [
    "# Model check on Test data"
   ]
  },
  {
   "cell_type": "code",
   "execution_count": 70,
   "metadata": {},
   "outputs": [
    {
     "name": "stdout",
     "output_type": "stream",
     "text": [
      "3/3 [==============================] - 0s 5ms/step - loss: 2.8194e-06 - root_mean_squared_error: 0.0017\n"
     ]
    }
   ],
   "source": [
    "test_loss, test_accuracy = model.evaluate(test_inputs, test_targets)"
   ]
  },
  {
   "cell_type": "code",
   "execution_count": 71,
   "metadata": {},
   "outputs": [
    {
     "name": "stdout",
     "output_type": "stream",
     "text": [
      "\n",
      "Test loss: 0.0000. Test accuracy: 0.0017 rmse\n"
     ]
    }
   ],
   "source": [
    "print('\\nTest loss: {0:.4f}. Test accuracy: {1:.4f} rmse'.format(test_loss, test_accuracy))"
   ]
  },
  {
   "cell_type": "code",
   "execution_count": 72,
   "metadata": {},
   "outputs": [
    {
     "name": "stdout",
     "output_type": "stream",
     "text": [
      "3/3 [==============================] - 0s 3ms/step\n"
     ]
    },
    {
     "data": {
      "text/html": [
       "<div>\n",
       "<style scoped>\n",
       "    .dataframe tbody tr th:only-of-type {\n",
       "        vertical-align: middle;\n",
       "    }\n",
       "\n",
       "    .dataframe tbody tr th {\n",
       "        vertical-align: top;\n",
       "    }\n",
       "\n",
       "    .dataframe thead th {\n",
       "        text-align: right;\n",
       "    }\n",
       "</style>\n",
       "<table border=\"1\" class=\"dataframe\">\n",
       "  <thead>\n",
       "    <tr style=\"text-align: right;\">\n",
       "      <th></th>\n",
       "      <th>Target-St(%)</th>\n",
       "      <th>Prediction-St(%)</th>\n",
       "      <th>Pred-Accu-St(%)</th>\n",
       "    </tr>\n",
       "  </thead>\n",
       "  <tbody>\n",
       "    <tr>\n",
       "      <th>0</th>\n",
       "      <td>0.968</td>\n",
       "      <td>0.968</td>\n",
       "      <td>100.00</td>\n",
       "    </tr>\n",
       "    <tr>\n",
       "      <th>1</th>\n",
       "      <td>0.975</td>\n",
       "      <td>0.976</td>\n",
       "      <td>100.10</td>\n",
       "    </tr>\n",
       "    <tr>\n",
       "      <th>2</th>\n",
       "      <td>0.968</td>\n",
       "      <td>0.968</td>\n",
       "      <td>100.00</td>\n",
       "    </tr>\n",
       "    <tr>\n",
       "      <th>3</th>\n",
       "      <td>0.977</td>\n",
       "      <td>0.976</td>\n",
       "      <td>99.90</td>\n",
       "    </tr>\n",
       "    <tr>\n",
       "      <th>4</th>\n",
       "      <td>0.985</td>\n",
       "      <td>0.985</td>\n",
       "      <td>100.00</td>\n",
       "    </tr>\n",
       "    <tr>\n",
       "      <th>...</th>\n",
       "      <td>...</td>\n",
       "      <td>...</td>\n",
       "      <td>...</td>\n",
       "    </tr>\n",
       "    <tr>\n",
       "      <th>75</th>\n",
       "      <td>0.930</td>\n",
       "      <td>0.934</td>\n",
       "      <td>100.43</td>\n",
       "    </tr>\n",
       "    <tr>\n",
       "      <th>76</th>\n",
       "      <td>0.961</td>\n",
       "      <td>0.963</td>\n",
       "      <td>100.21</td>\n",
       "    </tr>\n",
       "    <tr>\n",
       "      <th>77</th>\n",
       "      <td>0.977</td>\n",
       "      <td>0.975</td>\n",
       "      <td>99.80</td>\n",
       "    </tr>\n",
       "    <tr>\n",
       "      <th>78</th>\n",
       "      <td>0.971</td>\n",
       "      <td>0.968</td>\n",
       "      <td>99.69</td>\n",
       "    </tr>\n",
       "    <tr>\n",
       "      <th>79</th>\n",
       "      <td>0.932</td>\n",
       "      <td>0.934</td>\n",
       "      <td>100.21</td>\n",
       "    </tr>\n",
       "  </tbody>\n",
       "</table>\n",
       "<p>80 rows × 3 columns</p>\n",
       "</div>"
      ],
      "text/plain": [
       "    Target-St(%)  Prediction-St(%)  Pred-Accu-St(%)\n",
       "0          0.968             0.968           100.00\n",
       "1          0.975             0.976           100.10\n",
       "2          0.968             0.968           100.00\n",
       "3          0.977             0.976            99.90\n",
       "4          0.985             0.985           100.00\n",
       "..           ...               ...              ...\n",
       "75         0.930             0.934           100.43\n",
       "76         0.961             0.963           100.21\n",
       "77         0.977             0.975            99.80\n",
       "78         0.971             0.968            99.69\n",
       "79         0.932             0.934           100.21\n",
       "\n",
       "[80 rows x 3 columns]"
      ]
     },
     "execution_count": 72,
     "metadata": {},
     "output_type": "execute_result"
    }
   ],
   "source": [
    "prediction = model.predict(test_inputs)\n",
    "data_inputs = pd.DataFrame(test_inputs)\n",
    "prediction = pd.DataFrame(np.round(prediction,3))\n",
    "test_targets = pd.DataFrame(test_targets)\n",
    "pred_accu = np.round((prediction/test_targets)*100,2)\n",
    "\n",
    "result = pd.concat([test_targets, prediction, pred_accu], axis = 1, ignore_index=True)\n",
    "result.columns = ['Target-St(%)', 'Prediction-St(%)','Pred-Accu-St(%)']\n",
    "result"
   ]
  },
  {
   "cell_type": "code",
   "execution_count": 73,
   "metadata": {},
   "outputs": [
    {
     "data": {
      "text/plain": [
       "Text(0.5, 0, 'Targets (red) & Predictions (blue)')"
      ]
     },
     "execution_count": 73,
     "metadata": {},
     "output_type": "execute_result"
    },
    {
     "data": {
      "image/png": "[encoded data removed]",
      "text/plain": [
       "<Figure size 640x480 with 1 Axes>"
      ]
     },
     "metadata": {},
     "output_type": "display_data"
    }
   ],
   "source": [
    "import matplotlib.pyplot as plt\n",
    "plt.scatter(result['Target-St(%)'], result['Pred-Accu-St(%)'], alpha=0.5, color='r')\n",
    "plt.scatter(result['Prediction-St(%)'], result['Pred-Accu-St(%)'],alpha=0.5, color='b')\n",
    "plt.ylabel('Error in the prediction(%)')\n",
    "plt.xlabel('Targets (red) & Predictions (blue)')"
   ]
  },
  {
   "cell_type": "code",
   "execution_count": 74,
   "metadata": {},
   "outputs": [
    {
     "data": {
      "text/plain": [
       "Text(0.5, 0, 'Targets (red) & Predictions (green)')"
      ]
     },
     "execution_count": 74,
     "metadata": {},
     "output_type": "execute_result"
    },
    {
     "data": {
      "image/png": "[encoded data removed]",
      "text/plain": [
       "<Figure size 640x480 with 1 Axes>"
      ]
     },
     "metadata": {},
     "output_type": "display_data"
    }
   ],
   "source": [
    "plt.scatter(result['Target-St(%)'], result['Target-St(%)'], alpha=0.5, color='r')\n",
    "plt.scatter(result['Target-St(%)'], result['Prediction-St(%)'], alpha=0.4, color='g')\n",
    "\n",
    "plt.ylabel('predictions')\n",
    "plt.xlabel('Targets (red) & Predictions (green)')"
   ]
  },
  {
   "cell_type": "code",
   "execution_count": 75,
   "metadata": {},
   "outputs": [
    {
     "data": {
      "text/plain": [
       "0.9939"
      ]
     },
     "execution_count": 75,
     "metadata": {},
     "output_type": "execute_result"
    }
   ],
   "source": [
    "# estimation of R2 score\n",
    "from sklearn.metrics import r2_score\n",
    "r2_score_test = r2_score(test_targets, prediction)\n",
    "np.round(r2_score_test,4)"
   ]
  },
  {
   "cell_type": "code",
   "execution_count": 76,
   "metadata": {},
   "outputs": [
    {
     "data": {
      "text/plain": [
       "0.9936"
      ]
     },
     "execution_count": 76,
     "metadata": {},
     "output_type": "execute_result"
    }
   ],
   "source": [
    "# estimation of adjusted R2 score\n",
    "n = np.size(test_targets)\n",
    "k = 3 # number of features\n",
    "adj_r2_score = 1 - (((1-r2_score_test)*(n-1))/((n-k-1)))\n",
    "np.round(adj_r2_score,4)"
   ]
  },
  {
   "cell_type": "code",
   "execution_count": 77,
   "metadata": {},
   "outputs": [
    {
     "name": "stdout",
     "output_type": "stream",
     "text": [
      "Uncertainty of the ANN model: 0.17 [%]\n",
      "Average test prediction precision 99.83 [%]\n"
     ]
    }
   ],
   "source": [
    "mean_pred = pred_accu.mean()\n",
    "std_pred = pred_accu.std()\n",
    "uncertainty_model = std_pred\n",
    "print(\"Uncertainty of the ANN model:\", np.round(uncertainty_model[0],2), '[%]')\n",
    "print(\"Average test prediction precision\", np.round(100 - uncertainty_model[0],2), '[%]')"
   ]
  },
  {
   "cell_type": "markdown",
   "metadata": {},
   "source": [
    "# ANN Model Deployment"
   ]
  },
  {
   "cell_type": "markdown",
   "metadata": {},
   "source": [
    "ANN model deployment for micro DSC error prediction"
   ]
  },
  {
   "cell_type": "code",
   "execution_count": 78,
   "metadata": {},
   "outputs": [],
   "source": [
    "import keras\n",
    "model.save('micro_dsc_dl.h5')"
   ]
  },
  {
   "cell_type": "code",
   "execution_count": 79,
   "metadata": {},
   "outputs": [],
   "source": [
    "import keras\n",
    "model.save('micro_dsc_dl.hdf5')"
   ]
  }
 ],
 "metadata": {
  "kernelspec": {
   "display_name": ".venv",
   "language": "python",
   "name": "python3"
  },
  "language_info": {
   "codemirror_mode": {
    "name": "ipython",
    "version": 3
   },
   "file_extension": ".py",
   "mimetype": "text/x-python",
   "name": "python",
   "nbconvert_exporter": "python",
   "pygments_lexer": "ipython3",
   "version": "3.8.9"
  },
  "orig_nbformat": 4,
  "vscode": {
   "interpreter": {
    "hash": "6922cdaeb71861185ead2220765f61360c8c577271e89b0df9cb02b0ddb1fa67"
   }
  }
 },
 "nbformat": 4,
 "nbformat_minor": 2
}
