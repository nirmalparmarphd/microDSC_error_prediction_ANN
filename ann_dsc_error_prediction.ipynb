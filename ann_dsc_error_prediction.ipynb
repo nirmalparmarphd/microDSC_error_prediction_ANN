{
 "cells": [
  {
   "cell_type": "markdown",
   "metadata": {},
   "source": [
    "# DNN Model"
   ]
  },
  {
   "cell_type": "code",
   "execution_count": 91,
   "metadata": {},
   "outputs": [],
   "source": [
    "import numpy as np\n",
    "import pandas as pd\n",
    "import tensorflow as tf"
   ]
  },
  {
   "cell_type": "code",
   "execution_count": 92,
   "metadata": {},
   "outputs": [],
   "source": [
    "# data loading from .npz generated from tcr_data_process.ipynb\n",
    "# loading train data\n",
    "npz = np.load('data_train.npz')\n",
    "train_inputs = npz['input'].astype(np.float64)\n",
    "train_targets = npz['targets'].astype(np.float64)\n",
    "# loading validation data\n",
    "npz = np.load('data_validation.npz')\n",
    "validation_inputs, validation_targets = npz['input'].astype(np.float64), npz['targets'].astype(np.float64)\n",
    "\n",
    "npz = np.load('data_test.npz')\n",
    "test_inputs, test_targets = npz['input'].astype(np.float64), npz['targets'].astype(np.float64)"
   ]
  },
  {
   "cell_type": "markdown",
   "metadata": {},
   "source": [
    "# ANN Model"
   ]
  },
  {
   "cell_type": "markdown",
   "metadata": {},
   "source": [
    "Outline, Optimizer, Loss function, Early stopping and Training rate"
   ]
  },
  {
   "cell_type": "code",
   "execution_count": 93,
   "metadata": {},
   "outputs": [],
   "source": [
    "# NN model prep\n",
    "input_size = 3\n",
    "output_size = 1\n",
    "hidden_layer_1_size = 5\n",
    "hidden_layer_2_size = 5\n",
    "hidden_layer_3_size = 5\n",
    "\n",
    "model = tf.keras.Sequential([\n",
    "    tf.keras.layers.Dense(input_size),\n",
    "    tf.keras.layers.Dense(hidden_layer_1_size, activation='relu'),\n",
    "    tf.keras.layers.Dense(hidden_layer_2_size, activation='relu'),\n",
    "    tf.keras.layers.Dense(hidden_layer_3_size, activation='softmax'),\n",
    "    tf.keras.layers.Dense(output_size, activation='linear')\n",
    "])\n"
   ]
  },
  {
   "cell_type": "code",
   "execution_count": 94,
   "metadata": {},
   "outputs": [],
   "source": [
    "# model prep, optimizer and loss function\n",
    "optimizer = tf.keras.optimizers.Adam(learning_rate=0.0001)\n",
    "model.compile(optimizer, loss=tf.keras.losses.MeanSquaredError(),metrics=[tf.keras.metrics.RootMeanSquaredError()])\n"
   ]
  },
  {
   "cell_type": "code",
   "execution_count": 95,
   "metadata": {},
   "outputs": [],
   "source": [
    "# Training\n",
    "BATCH_SIZE = 1\n",
    "MAX_EPOCHS = 1000\n",
    "early_stopping = tf.keras.callbacks.EarlyStopping(patience=2)"
   ]
  },
  {
   "cell_type": "code",
   "execution_count": 96,
   "metadata": {},
   "outputs": [
    {
     "name": "stdout",
     "output_type": "stream",
     "text": [
      "Epoch 1/1000\n",
      "102/102 - 2s - loss: 0.6169 - root_mean_squared_error: 0.7855 - val_loss: 0.5930 - val_root_mean_squared_error: 0.7700 - 2s/epoch - 20ms/step\n",
      "Epoch 2/1000\n",
      "102/102 - 0s - loss: 0.5708 - root_mean_squared_error: 0.7555 - val_loss: 0.5474 - val_root_mean_squared_error: 0.7398 - 352ms/epoch - 3ms/step\n",
      "Epoch 3/1000\n",
      "102/102 - 0s - loss: 0.5267 - root_mean_squared_error: 0.7257 - val_loss: 0.5039 - val_root_mean_squared_error: 0.7099 - 327ms/epoch - 3ms/step\n",
      "Epoch 4/1000\n",
      "102/102 - 1s - loss: 0.4845 - root_mean_squared_error: 0.6961 - val_loss: 0.4623 - val_root_mean_squared_error: 0.6799 - 581ms/epoch - 6ms/step\n",
      "Epoch 5/1000\n",
      "102/102 - 0s - loss: 0.4442 - root_mean_squared_error: 0.6665 - val_loss: 0.4225 - val_root_mean_squared_error: 0.6500 - 349ms/epoch - 3ms/step\n",
      "Epoch 6/1000\n",
      "102/102 - 0s - loss: 0.4056 - root_mean_squared_error: 0.6369 - val_loss: 0.3845 - val_root_mean_squared_error: 0.6201 - 494ms/epoch - 5ms/step\n",
      "Epoch 7/1000\n",
      "102/102 - 1s - loss: 0.3690 - root_mean_squared_error: 0.6075 - val_loss: 0.3487 - val_root_mean_squared_error: 0.5905 - 553ms/epoch - 5ms/step\n",
      "Epoch 8/1000\n",
      "102/102 - 0s - loss: 0.3343 - root_mean_squared_error: 0.5782 - val_loss: 0.3146 - val_root_mean_squared_error: 0.5609 - 318ms/epoch - 3ms/step\n",
      "Epoch 9/1000\n",
      "102/102 - 1s - loss: 0.3014 - root_mean_squared_error: 0.5490 - val_loss: 0.2827 - val_root_mean_squared_error: 0.5317 - 655ms/epoch - 6ms/step\n",
      "Epoch 10/1000\n",
      "102/102 - 0s - loss: 0.2703 - root_mean_squared_error: 0.5199 - val_loss: 0.2524 - val_root_mean_squared_error: 0.5024 - 423ms/epoch - 4ms/step\n",
      "Epoch 11/1000\n",
      "102/102 - 0s - loss: 0.2410 - root_mean_squared_error: 0.4910 - val_loss: 0.2244 - val_root_mean_squared_error: 0.4738 - 310ms/epoch - 3ms/step\n",
      "Epoch 12/1000\n",
      "102/102 - 0s - loss: 0.2139 - root_mean_squared_error: 0.4625 - val_loss: 0.1985 - val_root_mean_squared_error: 0.4455 - 323ms/epoch - 3ms/step\n",
      "Epoch 13/1000\n",
      "102/102 - 0s - loss: 0.1888 - root_mean_squared_error: 0.4345 - val_loss: 0.1749 - val_root_mean_squared_error: 0.4182 - 326ms/epoch - 3ms/step\n",
      "Epoch 14/1000\n",
      "102/102 - 1s - loss: 0.1659 - root_mean_squared_error: 0.4073 - val_loss: 0.1534 - val_root_mean_squared_error: 0.3916 - 636ms/epoch - 6ms/step\n",
      "Epoch 15/1000\n",
      "102/102 - 0s - loss: 0.1452 - root_mean_squared_error: 0.3811 - val_loss: 0.1342 - val_root_mean_squared_error: 0.3663 - 356ms/epoch - 3ms/step\n",
      "Epoch 16/1000\n",
      "102/102 - 0s - loss: 0.1266 - root_mean_squared_error: 0.3559 - val_loss: 0.1169 - val_root_mean_squared_error: 0.3419 - 277ms/epoch - 3ms/step\n",
      "Epoch 17/1000\n",
      "102/102 - 0s - loss: 0.1100 - root_mean_squared_error: 0.3317 - val_loss: 0.1017 - val_root_mean_squared_error: 0.3190 - 288ms/epoch - 3ms/step\n",
      "Epoch 18/1000\n",
      "102/102 - 0s - loss: 0.0954 - root_mean_squared_error: 0.3088 - val_loss: 0.0883 - val_root_mean_squared_error: 0.2972 - 269ms/epoch - 3ms/step\n",
      "Epoch 19/1000\n",
      "102/102 - 0s - loss: 0.0825 - root_mean_squared_error: 0.2872 - val_loss: 0.0768 - val_root_mean_squared_error: 0.2771 - 275ms/epoch - 3ms/step\n",
      "Epoch 20/1000\n",
      "102/102 - 0s - loss: 0.0713 - root_mean_squared_error: 0.2670 - val_loss: 0.0668 - val_root_mean_squared_error: 0.2584 - 274ms/epoch - 3ms/step\n",
      "Epoch 21/1000\n",
      "102/102 - 0s - loss: 0.0616 - root_mean_squared_error: 0.2482 - val_loss: 0.0580 - val_root_mean_squared_error: 0.2409 - 282ms/epoch - 3ms/step\n",
      "Epoch 22/1000\n",
      "102/102 - 0s - loss: 0.0532 - root_mean_squared_error: 0.2306 - val_loss: 0.0507 - val_root_mean_squared_error: 0.2251 - 280ms/epoch - 3ms/step\n",
      "Epoch 23/1000\n",
      "102/102 - 0s - loss: 0.0459 - root_mean_squared_error: 0.2143 - val_loss: 0.0443 - val_root_mean_squared_error: 0.2105 - 267ms/epoch - 3ms/step\n",
      "Epoch 24/1000\n",
      "102/102 - 0s - loss: 0.0398 - root_mean_squared_error: 0.1994 - val_loss: 0.0388 - val_root_mean_squared_error: 0.1970 - 278ms/epoch - 3ms/step\n",
      "Epoch 25/1000\n",
      "102/102 - 0s - loss: 0.0346 - root_mean_squared_error: 0.1859 - val_loss: 0.0342 - val_root_mean_squared_error: 0.1850 - 280ms/epoch - 3ms/step\n",
      "Epoch 26/1000\n",
      "102/102 - 0s - loss: 0.0302 - root_mean_squared_error: 0.1739 - val_loss: 0.0303 - val_root_mean_squared_error: 0.1741 - 281ms/epoch - 3ms/step\n",
      "Epoch 27/1000\n",
      "102/102 - 0s - loss: 0.0265 - root_mean_squared_error: 0.1629 - val_loss: 0.0270 - val_root_mean_squared_error: 0.1642 - 274ms/epoch - 3ms/step\n",
      "Epoch 28/1000\n",
      "102/102 - 0s - loss: 0.0234 - root_mean_squared_error: 0.1530 - val_loss: 0.0240 - val_root_mean_squared_error: 0.1549 - 268ms/epoch - 3ms/step\n",
      "Epoch 29/1000\n",
      "102/102 - 0s - loss: 0.0208 - root_mean_squared_error: 0.1441 - val_loss: 0.0215 - val_root_mean_squared_error: 0.1468 - 266ms/epoch - 3ms/step\n",
      "Epoch 30/1000\n",
      "102/102 - 0s - loss: 0.0185 - root_mean_squared_error: 0.1361 - val_loss: 0.0194 - val_root_mean_squared_error: 0.1393 - 314ms/epoch - 3ms/step\n",
      "Epoch 31/1000\n",
      "102/102 - 0s - loss: 0.0167 - root_mean_squared_error: 0.1291 - val_loss: 0.0176 - val_root_mean_squared_error: 0.1326 - 277ms/epoch - 3ms/step\n",
      "Epoch 32/1000\n",
      "102/102 - 0s - loss: 0.0151 - root_mean_squared_error: 0.1227 - val_loss: 0.0159 - val_root_mean_squared_error: 0.1262 - 278ms/epoch - 3ms/step\n",
      "Epoch 33/1000\n",
      "102/102 - 0s - loss: 0.0137 - root_mean_squared_error: 0.1169 - val_loss: 0.0145 - val_root_mean_squared_error: 0.1205 - 283ms/epoch - 3ms/step\n",
      "Epoch 34/1000\n",
      "102/102 - 0s - loss: 0.0125 - root_mean_squared_error: 0.1118 - val_loss: 0.0133 - val_root_mean_squared_error: 0.1153 - 276ms/epoch - 3ms/step\n",
      "Epoch 35/1000\n",
      "102/102 - 0s - loss: 0.0114 - root_mean_squared_error: 0.1069 - val_loss: 0.0121 - val_root_mean_squared_error: 0.1101 - 263ms/epoch - 3ms/step\n",
      "Epoch 36/1000\n",
      "102/102 - 0s - loss: 0.0104 - root_mean_squared_error: 0.1020 - val_loss: 0.0110 - val_root_mean_squared_error: 0.1050 - 274ms/epoch - 3ms/step\n",
      "Epoch 37/1000\n",
      "102/102 - 0s - loss: 0.0095 - root_mean_squared_error: 0.0975 - val_loss: 0.0101 - val_root_mean_squared_error: 0.1003 - 283ms/epoch - 3ms/step\n",
      "Epoch 38/1000\n",
      "102/102 - 0s - loss: 0.0087 - root_mean_squared_error: 0.0933 - val_loss: 0.0092 - val_root_mean_squared_error: 0.0958 - 285ms/epoch - 3ms/step\n",
      "Epoch 39/1000\n",
      "102/102 - 0s - loss: 0.0080 - root_mean_squared_error: 0.0895 - val_loss: 0.0084 - val_root_mean_squared_error: 0.0915 - 275ms/epoch - 3ms/step\n",
      "Epoch 40/1000\n",
      "102/102 - 0s - loss: 0.0074 - root_mean_squared_error: 0.0858 - val_loss: 0.0077 - val_root_mean_squared_error: 0.0875 - 271ms/epoch - 3ms/step\n",
      "Epoch 41/1000\n",
      "102/102 - 0s - loss: 0.0068 - root_mean_squared_error: 0.0825 - val_loss: 0.0070 - val_root_mean_squared_error: 0.0837 - 265ms/epoch - 3ms/step\n",
      "Epoch 42/1000\n",
      "102/102 - 0s - loss: 0.0063 - root_mean_squared_error: 0.0794 - val_loss: 0.0064 - val_root_mean_squared_error: 0.0802 - 285ms/epoch - 3ms/step\n",
      "Epoch 43/1000\n",
      "102/102 - 0s - loss: 0.0058 - root_mean_squared_error: 0.0762 - val_loss: 0.0059 - val_root_mean_squared_error: 0.0767 - 298ms/epoch - 3ms/step\n",
      "Epoch 44/1000\n",
      "102/102 - 0s - loss: 0.0054 - root_mean_squared_error: 0.0734 - val_loss: 0.0054 - val_root_mean_squared_error: 0.0734 - 267ms/epoch - 3ms/step\n",
      "Epoch 45/1000\n",
      "102/102 - 0s - loss: 0.0050 - root_mean_squared_error: 0.0707 - val_loss: 0.0049 - val_root_mean_squared_error: 0.0702 - 286ms/epoch - 3ms/step\n",
      "Epoch 46/1000\n",
      "102/102 - 0s - loss: 0.0047 - root_mean_squared_error: 0.0682 - val_loss: 0.0045 - val_root_mean_squared_error: 0.0674 - 276ms/epoch - 3ms/step\n",
      "Epoch 47/1000\n",
      "102/102 - 0s - loss: 0.0043 - root_mean_squared_error: 0.0659 - val_loss: 0.0042 - val_root_mean_squared_error: 0.0646 - 285ms/epoch - 3ms/step\n",
      "Epoch 48/1000\n",
      "102/102 - 0s - loss: 0.0041 - root_mean_squared_error: 0.0637 - val_loss: 0.0039 - val_root_mean_squared_error: 0.0622 - 273ms/epoch - 3ms/step\n",
      "Epoch 49/1000\n",
      "102/102 - 0s - loss: 0.0038 - root_mean_squared_error: 0.0614 - val_loss: 0.0035 - val_root_mean_squared_error: 0.0594 - 296ms/epoch - 3ms/step\n",
      "Epoch 50/1000\n",
      "102/102 - 0s - loss: 0.0035 - root_mean_squared_error: 0.0590 - val_loss: 0.0033 - val_root_mean_squared_error: 0.0572 - 300ms/epoch - 3ms/step\n",
      "Epoch 51/1000\n",
      "102/102 - 0s - loss: 0.0032 - root_mean_squared_error: 0.0567 - val_loss: 0.0030 - val_root_mean_squared_error: 0.0546 - 294ms/epoch - 3ms/step\n",
      "Epoch 52/1000\n",
      "102/102 - 0s - loss: 0.0030 - root_mean_squared_error: 0.0545 - val_loss: 0.0028 - val_root_mean_squared_error: 0.0526 - 288ms/epoch - 3ms/step\n",
      "Epoch 53/1000\n",
      "102/102 - 0s - loss: 0.0028 - root_mean_squared_error: 0.0526 - val_loss: 0.0026 - val_root_mean_squared_error: 0.0507 - 283ms/epoch - 3ms/step\n",
      "Epoch 54/1000\n",
      "102/102 - 0s - loss: 0.0026 - root_mean_squared_error: 0.0507 - val_loss: 0.0024 - val_root_mean_squared_error: 0.0485 - 271ms/epoch - 3ms/step\n",
      "Epoch 55/1000\n",
      "102/102 - 0s - loss: 0.0024 - root_mean_squared_error: 0.0489 - val_loss: 0.0022 - val_root_mean_squared_error: 0.0468 - 286ms/epoch - 3ms/step\n",
      "Epoch 56/1000\n",
      "102/102 - 0s - loss: 0.0022 - root_mean_squared_error: 0.0472 - val_loss: 0.0020 - val_root_mean_squared_error: 0.0452 - 289ms/epoch - 3ms/step\n",
      "Epoch 57/1000\n",
      "102/102 - 0s - loss: 0.0021 - root_mean_squared_error: 0.0456 - val_loss: 0.0019 - val_root_mean_squared_error: 0.0436 - 272ms/epoch - 3ms/step\n",
      "Epoch 58/1000\n",
      "102/102 - 0s - loss: 0.0019 - root_mean_squared_error: 0.0441 - val_loss: 0.0018 - val_root_mean_squared_error: 0.0423 - 272ms/epoch - 3ms/step\n",
      "Epoch 59/1000\n",
      "102/102 - 0s - loss: 0.0018 - root_mean_squared_error: 0.0427 - val_loss: 0.0017 - val_root_mean_squared_error: 0.0408 - 264ms/epoch - 3ms/step\n",
      "Epoch 60/1000\n",
      "102/102 - 0s - loss: 0.0017 - root_mean_squared_error: 0.0413 - val_loss: 0.0016 - val_root_mean_squared_error: 0.0396 - 268ms/epoch - 3ms/step\n",
      "Epoch 61/1000\n",
      "102/102 - 0s - loss: 0.0016 - root_mean_squared_error: 0.0400 - val_loss: 0.0015 - val_root_mean_squared_error: 0.0383 - 264ms/epoch - 3ms/step\n",
      "Epoch 62/1000\n",
      "102/102 - 0s - loss: 0.0015 - root_mean_squared_error: 0.0387 - val_loss: 0.0014 - val_root_mean_squared_error: 0.0372 - 271ms/epoch - 3ms/step\n",
      "Epoch 63/1000\n",
      "102/102 - 0s - loss: 0.0014 - root_mean_squared_error: 0.0377 - val_loss: 0.0013 - val_root_mean_squared_error: 0.0360 - 270ms/epoch - 3ms/step\n",
      "Epoch 64/1000\n",
      "102/102 - 0s - loss: 0.0013 - root_mean_squared_error: 0.0365 - val_loss: 0.0012 - val_root_mean_squared_error: 0.0352 - 278ms/epoch - 3ms/step\n",
      "Epoch 65/1000\n",
      "102/102 - 0s - loss: 0.0013 - root_mean_squared_error: 0.0354 - val_loss: 0.0012 - val_root_mean_squared_error: 0.0343 - 270ms/epoch - 3ms/step\n",
      "Epoch 66/1000\n",
      "102/102 - 0s - loss: 0.0012 - root_mean_squared_error: 0.0346 - val_loss: 0.0011 - val_root_mean_squared_error: 0.0335 - 259ms/epoch - 3ms/step\n",
      "Epoch 67/1000\n",
      "102/102 - 0s - loss: 0.0011 - root_mean_squared_error: 0.0334 - val_loss: 0.0010 - val_root_mean_squared_error: 0.0323 - 269ms/epoch - 3ms/step\n",
      "Epoch 68/1000\n",
      "102/102 - 0s - loss: 0.0011 - root_mean_squared_error: 0.0326 - val_loss: 0.0010 - val_root_mean_squared_error: 0.0317 - 258ms/epoch - 3ms/step\n",
      "Epoch 69/1000\n",
      "102/102 - 0s - loss: 9.9963e-04 - root_mean_squared_error: 0.0316 - val_loss: 9.4520e-04 - val_root_mean_squared_error: 0.0307 - 273ms/epoch - 3ms/step\n",
      "Epoch 70/1000\n",
      "102/102 - 0s - loss: 9.4323e-04 - root_mean_squared_error: 0.0307 - val_loss: 9.0823e-04 - val_root_mean_squared_error: 0.0301 - 274ms/epoch - 3ms/step\n",
      "Epoch 71/1000\n",
      "102/102 - 0s - loss: 8.9143e-04 - root_mean_squared_error: 0.0299 - val_loss: 8.6332e-04 - val_root_mean_squared_error: 0.0294 - 272ms/epoch - 3ms/step\n",
      "Epoch 72/1000\n",
      "102/102 - 0s - loss: 8.4367e-04 - root_mean_squared_error: 0.0290 - val_loss: 8.2138e-04 - val_root_mean_squared_error: 0.0287 - 269ms/epoch - 3ms/step\n",
      "Epoch 73/1000\n",
      "102/102 - 0s - loss: 7.9266e-04 - root_mean_squared_error: 0.0282 - val_loss: 7.6857e-04 - val_root_mean_squared_error: 0.0277 - 270ms/epoch - 3ms/step\n",
      "Epoch 74/1000\n",
      "102/102 - 0s - loss: 7.4795e-04 - root_mean_squared_error: 0.0273 - val_loss: 7.2713e-04 - val_root_mean_squared_error: 0.0270 - 267ms/epoch - 3ms/step\n",
      "Epoch 75/1000\n",
      "102/102 - 0s - loss: 7.0539e-04 - root_mean_squared_error: 0.0266 - val_loss: 6.9170e-04 - val_root_mean_squared_error: 0.0263 - 270ms/epoch - 3ms/step\n",
      "Epoch 76/1000\n",
      "102/102 - 0s - loss: 6.6670e-04 - root_mean_squared_error: 0.0258 - val_loss: 6.5496e-04 - val_root_mean_squared_error: 0.0256 - 269ms/epoch - 3ms/step\n",
      "Epoch 77/1000\n",
      "102/102 - 0s - loss: 6.2808e-04 - root_mean_squared_error: 0.0251 - val_loss: 6.2342e-04 - val_root_mean_squared_error: 0.0250 - 265ms/epoch - 3ms/step\n",
      "Epoch 78/1000\n",
      "102/102 - 0s - loss: 5.9222e-04 - root_mean_squared_error: 0.0243 - val_loss: 5.8928e-04 - val_root_mean_squared_error: 0.0243 - 269ms/epoch - 3ms/step\n",
      "Epoch 79/1000\n",
      "102/102 - 0s - loss: 5.5708e-04 - root_mean_squared_error: 0.0236 - val_loss: 5.6507e-04 - val_root_mean_squared_error: 0.0238 - 297ms/epoch - 3ms/step\n",
      "Epoch 80/1000\n",
      "102/102 - 0s - loss: 5.2262e-04 - root_mean_squared_error: 0.0229 - val_loss: 5.3021e-04 - val_root_mean_squared_error: 0.0230 - 286ms/epoch - 3ms/step\n",
      "Epoch 81/1000\n",
      "102/102 - 0s - loss: 4.8992e-04 - root_mean_squared_error: 0.0221 - val_loss: 4.8963e-04 - val_root_mean_squared_error: 0.0221 - 294ms/epoch - 3ms/step\n",
      "Epoch 82/1000\n",
      "102/102 - 0s - loss: 4.5824e-04 - root_mean_squared_error: 0.0214 - val_loss: 4.5973e-04 - val_root_mean_squared_error: 0.0214 - 302ms/epoch - 3ms/step\n",
      "Epoch 83/1000\n",
      "102/102 - 0s - loss: 4.2686e-04 - root_mean_squared_error: 0.0207 - val_loss: 4.3463e-04 - val_root_mean_squared_error: 0.0208 - 299ms/epoch - 3ms/step\n",
      "Epoch 84/1000\n",
      "102/102 - 0s - loss: 4.0059e-04 - root_mean_squared_error: 0.0200 - val_loss: 4.1572e-04 - val_root_mean_squared_error: 0.0204 - 284ms/epoch - 3ms/step\n",
      "Epoch 85/1000\n",
      "102/102 - 0s - loss: 3.7601e-04 - root_mean_squared_error: 0.0194 - val_loss: 3.8914e-04 - val_root_mean_squared_error: 0.0197 - 292ms/epoch - 3ms/step\n",
      "Epoch 86/1000\n",
      "102/102 - 0s - loss: 3.5051e-04 - root_mean_squared_error: 0.0187 - val_loss: 3.6597e-04 - val_root_mean_squared_error: 0.0191 - 280ms/epoch - 3ms/step\n",
      "Epoch 87/1000\n",
      "102/102 - 0s - loss: 3.2970e-04 - root_mean_squared_error: 0.0182 - val_loss: 3.5487e-04 - val_root_mean_squared_error: 0.0188 - 284ms/epoch - 3ms/step\n",
      "Epoch 88/1000\n",
      "102/102 - 0s - loss: 3.0859e-04 - root_mean_squared_error: 0.0176 - val_loss: 3.2385e-04 - val_root_mean_squared_error: 0.0180 - 283ms/epoch - 3ms/step\n",
      "Epoch 89/1000\n",
      "102/102 - 0s - loss: 2.8927e-04 - root_mean_squared_error: 0.0170 - val_loss: 3.1015e-04 - val_root_mean_squared_error: 0.0176 - 306ms/epoch - 3ms/step\n",
      "Epoch 90/1000\n",
      "102/102 - 0s - loss: 2.7252e-04 - root_mean_squared_error: 0.0165 - val_loss: 2.9122e-04 - val_root_mean_squared_error: 0.0171 - 301ms/epoch - 3ms/step\n",
      "Epoch 91/1000\n",
      "102/102 - 0s - loss: 2.5606e-04 - root_mean_squared_error: 0.0160 - val_loss: 2.7179e-04 - val_root_mean_squared_error: 0.0165 - 353ms/epoch - 3ms/step\n",
      "Epoch 92/1000\n",
      "102/102 - 0s - loss: 2.3926e-04 - root_mean_squared_error: 0.0155 - val_loss: 2.5672e-04 - val_root_mean_squared_error: 0.0160 - 305ms/epoch - 3ms/step\n",
      "Epoch 93/1000\n",
      "102/102 - 0s - loss: 2.2097e-04 - root_mean_squared_error: 0.0149 - val_loss: 2.3844e-04 - val_root_mean_squared_error: 0.0154 - 268ms/epoch - 3ms/step\n",
      "Epoch 94/1000\n",
      "102/102 - 0s - loss: 2.0583e-04 - root_mean_squared_error: 0.0143 - val_loss: 2.2020e-04 - val_root_mean_squared_error: 0.0148 - 264ms/epoch - 3ms/step\n",
      "Epoch 95/1000\n",
      "102/102 - 0s - loss: 1.9139e-04 - root_mean_squared_error: 0.0138 - val_loss: 2.0936e-04 - val_root_mean_squared_error: 0.0145 - 355ms/epoch - 3ms/step\n",
      "Epoch 96/1000\n",
      "102/102 - 0s - loss: 1.8051e-04 - root_mean_squared_error: 0.0134 - val_loss: 1.9888e-04 - val_root_mean_squared_error: 0.0141 - 277ms/epoch - 3ms/step\n",
      "Epoch 97/1000\n",
      "102/102 - 0s - loss: 1.6604e-04 - root_mean_squared_error: 0.0129 - val_loss: 1.8647e-04 - val_root_mean_squared_error: 0.0137 - 272ms/epoch - 3ms/step\n",
      "Epoch 98/1000\n",
      "102/102 - 0s - loss: 1.5468e-04 - root_mean_squared_error: 0.0124 - val_loss: 1.7717e-04 - val_root_mean_squared_error: 0.0133 - 289ms/epoch - 3ms/step\n",
      "Epoch 99/1000\n",
      "102/102 - 0s - loss: 1.4522e-04 - root_mean_squared_error: 0.0121 - val_loss: 1.6023e-04 - val_root_mean_squared_error: 0.0127 - 273ms/epoch - 3ms/step\n",
      "Epoch 100/1000\n",
      "102/102 - 0s - loss: 1.3344e-04 - root_mean_squared_error: 0.0116 - val_loss: 1.4889e-04 - val_root_mean_squared_error: 0.0122 - 277ms/epoch - 3ms/step\n",
      "Epoch 101/1000\n",
      "102/102 - 0s - loss: 1.2463e-04 - root_mean_squared_error: 0.0112 - val_loss: 1.4680e-04 - val_root_mean_squared_error: 0.0121 - 285ms/epoch - 3ms/step\n",
      "Epoch 102/1000\n",
      "102/102 - 0s - loss: 1.1615e-04 - root_mean_squared_error: 0.0108 - val_loss: 1.3077e-04 - val_root_mean_squared_error: 0.0114 - 274ms/epoch - 3ms/step\n",
      "Epoch 103/1000\n",
      "102/102 - 0s - loss: 1.0880e-04 - root_mean_squared_error: 0.0104 - val_loss: 1.2487e-04 - val_root_mean_squared_error: 0.0112 - 269ms/epoch - 3ms/step\n",
      "Epoch 104/1000\n",
      "102/102 - 0s - loss: 1.0254e-04 - root_mean_squared_error: 0.0101 - val_loss: 1.1649e-04 - val_root_mean_squared_error: 0.0108 - 287ms/epoch - 3ms/step\n",
      "Epoch 105/1000\n",
      "102/102 - 0s - loss: 9.5467e-05 - root_mean_squared_error: 0.0098 - val_loss: 1.1444e-04 - val_root_mean_squared_error: 0.0107 - 317ms/epoch - 3ms/step\n",
      "Epoch 106/1000\n",
      "102/102 - 0s - loss: 9.0437e-05 - root_mean_squared_error: 0.0095 - val_loss: 1.0062e-04 - val_root_mean_squared_error: 0.0100 - 273ms/epoch - 3ms/step\n",
      "Epoch 107/1000\n",
      "102/102 - 0s - loss: 8.4977e-05 - root_mean_squared_error: 0.0092 - val_loss: 9.3772e-05 - val_root_mean_squared_error: 0.0097 - 279ms/epoch - 3ms/step\n",
      "Epoch 108/1000\n",
      "102/102 - 0s - loss: 7.8895e-05 - root_mean_squared_error: 0.0089 - val_loss: 8.9482e-05 - val_root_mean_squared_error: 0.0095 - 270ms/epoch - 3ms/step\n",
      "Epoch 109/1000\n",
      "102/102 - 0s - loss: 7.3645e-05 - root_mean_squared_error: 0.0086 - val_loss: 8.3200e-05 - val_root_mean_squared_error: 0.0091 - 283ms/epoch - 3ms/step\n",
      "Epoch 110/1000\n",
      "102/102 - 0s - loss: 6.9890e-05 - root_mean_squared_error: 0.0084 - val_loss: 8.1288e-05 - val_root_mean_squared_error: 0.0090 - 286ms/epoch - 3ms/step\n",
      "Epoch 111/1000\n",
      "102/102 - 0s - loss: 6.5712e-05 - root_mean_squared_error: 0.0081 - val_loss: 8.3389e-05 - val_root_mean_squared_error: 0.0091 - 266ms/epoch - 3ms/step\n",
      "Epoch 112/1000\n",
      "102/102 - 0s - loss: 6.3024e-05 - root_mean_squared_error: 0.0079 - val_loss: 7.5632e-05 - val_root_mean_squared_error: 0.0087 - 271ms/epoch - 3ms/step\n",
      "Epoch 113/1000\n",
      "102/102 - 0s - loss: 6.1498e-05 - root_mean_squared_error: 0.0078 - val_loss: 7.5381e-05 - val_root_mean_squared_error: 0.0087 - 268ms/epoch - 3ms/step\n",
      "Epoch 114/1000\n",
      "102/102 - 0s - loss: 5.7452e-05 - root_mean_squared_error: 0.0076 - val_loss: 7.0813e-05 - val_root_mean_squared_error: 0.0084 - 279ms/epoch - 3ms/step\n",
      "Epoch 115/1000\n",
      "102/102 - 0s - loss: 5.5827e-05 - root_mean_squared_error: 0.0075 - val_loss: 6.7461e-05 - val_root_mean_squared_error: 0.0082 - 269ms/epoch - 3ms/step\n",
      "Epoch 116/1000\n",
      "102/102 - 0s - loss: 5.3566e-05 - root_mean_squared_error: 0.0073 - val_loss: 6.5033e-05 - val_root_mean_squared_error: 0.0081 - 264ms/epoch - 3ms/step\n",
      "Epoch 117/1000\n",
      "102/102 - 0s - loss: 5.2857e-05 - root_mean_squared_error: 0.0073 - val_loss: 6.8210e-05 - val_root_mean_squared_error: 0.0083 - 289ms/epoch - 3ms/step\n",
      "Epoch 118/1000\n",
      "102/102 - 0s - loss: 5.2741e-05 - root_mean_squared_error: 0.0073 - val_loss: 6.2600e-05 - val_root_mean_squared_error: 0.0079 - 282ms/epoch - 3ms/step\n",
      "Epoch 119/1000\n",
      "102/102 - 0s - loss: 4.8360e-05 - root_mean_squared_error: 0.0070 - val_loss: 6.3988e-05 - val_root_mean_squared_error: 0.0080 - 276ms/epoch - 3ms/step\n",
      "Epoch 120/1000\n",
      "102/102 - 0s - loss: 4.6513e-05 - root_mean_squared_error: 0.0068 - val_loss: 5.7734e-05 - val_root_mean_squared_error: 0.0076 - 282ms/epoch - 3ms/step\n",
      "Epoch 121/1000\n",
      "102/102 - 0s - loss: 4.6302e-05 - root_mean_squared_error: 0.0068 - val_loss: 5.6617e-05 - val_root_mean_squared_error: 0.0075 - 275ms/epoch - 3ms/step\n",
      "Epoch 122/1000\n",
      "102/102 - 0s - loss: 4.6035e-05 - root_mean_squared_error: 0.0068 - val_loss: 5.6509e-05 - val_root_mean_squared_error: 0.0075 - 266ms/epoch - 3ms/step\n",
      "Epoch 123/1000\n",
      "102/102 - 0s - loss: 4.4211e-05 - root_mean_squared_error: 0.0066 - val_loss: 5.3919e-05 - val_root_mean_squared_error: 0.0073 - 272ms/epoch - 3ms/step\n",
      "Epoch 124/1000\n",
      "102/102 - 0s - loss: 4.3739e-05 - root_mean_squared_error: 0.0066 - val_loss: 5.3925e-05 - val_root_mean_squared_error: 0.0073 - 267ms/epoch - 3ms/step\n",
      "Epoch 125/1000\n",
      "102/102 - 0s - loss: 4.2800e-05 - root_mean_squared_error: 0.0065 - val_loss: 5.2641e-05 - val_root_mean_squared_error: 0.0073 - 273ms/epoch - 3ms/step\n",
      "Epoch 126/1000\n",
      "102/102 - 0s - loss: 4.1634e-05 - root_mean_squared_error: 0.0065 - val_loss: 5.1288e-05 - val_root_mean_squared_error: 0.0072 - 271ms/epoch - 3ms/step\n",
      "Epoch 127/1000\n",
      "102/102 - 0s - loss: 4.0982e-05 - root_mean_squared_error: 0.0064 - val_loss: 4.9714e-05 - val_root_mean_squared_error: 0.0071 - 272ms/epoch - 3ms/step\n",
      "Epoch 128/1000\n",
      "102/102 - 0s - loss: 4.0866e-05 - root_mean_squared_error: 0.0064 - val_loss: 4.9271e-05 - val_root_mean_squared_error: 0.0070 - 278ms/epoch - 3ms/step\n",
      "Epoch 129/1000\n",
      "102/102 - 0s - loss: 4.0263e-05 - root_mean_squared_error: 0.0063 - val_loss: 4.8512e-05 - val_root_mean_squared_error: 0.0070 - 273ms/epoch - 3ms/step\n",
      "Epoch 130/1000\n",
      "102/102 - 0s - loss: 3.9140e-05 - root_mean_squared_error: 0.0063 - val_loss: 4.7564e-05 - val_root_mean_squared_error: 0.0069 - 270ms/epoch - 3ms/step\n",
      "Epoch 131/1000\n",
      "102/102 - 0s - loss: 3.8596e-05 - root_mean_squared_error: 0.0062 - val_loss: 4.7256e-05 - val_root_mean_squared_error: 0.0069 - 270ms/epoch - 3ms/step\n",
      "Epoch 132/1000\n",
      "102/102 - 0s - loss: 3.7392e-05 - root_mean_squared_error: 0.0061 - val_loss: 5.1306e-05 - val_root_mean_squared_error: 0.0072 - 271ms/epoch - 3ms/step\n",
      "Epoch 133/1000\n",
      "102/102 - 0s - loss: 3.7812e-05 - root_mean_squared_error: 0.0061 - val_loss: 4.9651e-05 - val_root_mean_squared_error: 0.0070 - 267ms/epoch - 3ms/step\n"
     ]
    }
   ],
   "source": [
    "# fit the model\n",
    "history = model.fit(\n",
    "    train_inputs, train_targets, batch_size=BATCH_SIZE,epochs=MAX_EPOCHS, callbacks=[early_stopping], validation_data=(validation_inputs, validation_targets), verbose=2\n",
    "          )"
   ]
  },
  {
   "cell_type": "code",
   "execution_count": 97,
   "metadata": {},
   "outputs": [
    {
     "name": "stdout",
     "output_type": "stream",
     "text": [
      "Model: \"sequential_6\"\n",
      "_________________________________________________________________\n",
      " Layer (type)                Output Shape              Param #   \n",
      "=================================================================\n",
      " dense_30 (Dense)            (1, 3)                    12        \n",
      "                                                                 \n",
      " dense_31 (Dense)            (1, 5)                    20        \n",
      "                                                                 \n",
      " dense_32 (Dense)            (1, 5)                    30        \n",
      "                                                                 \n",
      " dense_33 (Dense)            (1, 5)                    30        \n",
      "                                                                 \n",
      " dense_34 (Dense)            (1, 1)                    6         \n",
      "                                                                 \n",
      "=================================================================\n",
      "Total params: 98\n",
      "Trainable params: 98\n",
      "Non-trainable params: 0\n",
      "_________________________________________________________________\n"
     ]
    }
   ],
   "source": [
    "# ANN model summary\n",
    "model.summary()"
   ]
  },
  {
   "cell_type": "code",
   "execution_count": 98,
   "metadata": {},
   "outputs": [
    {
     "data": {
      "image/png": "[encoded data removed]",
      "text/plain": [
       "<Figure size 640x480 with 1 Axes>"
      ]
     },
     "metadata": {},
     "output_type": "display_data"
    }
   ],
   "source": [
    "import matplotlib.pyplot as plt\n",
    "plt.plot(history.history['loss'], label='Training_loss')\n",
    "plt.plot(history.history['val_loss'], label='Validation_loss')\n",
    "plt.xlabel('epochs')\n",
    "plt.ylabel('loss')\n",
    "plt.legend()\n",
    "plt.show()"
   ]
  },
  {
   "cell_type": "markdown",
   "metadata": {},
   "source": [
    "# Model check on Test data"
   ]
  },
  {
   "cell_type": "code",
   "execution_count": 99,
   "metadata": {},
   "outputs": [
    {
     "name": "stdout",
     "output_type": "stream",
     "text": [
      "1/1 [==============================] - 1s 557ms/step - loss: 4.0013e-05 - root_mean_squared_error: 0.0063\n"
     ]
    }
   ],
   "source": [
    "test_loss, test_accuracy = model.evaluate(test_inputs, test_targets)"
   ]
  },
  {
   "cell_type": "code",
   "execution_count": 100,
   "metadata": {},
   "outputs": [
    {
     "name": "stdout",
     "output_type": "stream",
     "text": [
      "\n",
      "Test loss: 0.0000. Test accuracy: 0.0063 rmse\n"
     ]
    }
   ],
   "source": [
    "print('\\nTest loss: {0:.4f}. Test accuracy: {1:.4f} rmse'.format(test_loss, test_accuracy))"
   ]
  },
  {
   "cell_type": "code",
   "execution_count": 101,
   "metadata": {},
   "outputs": [
    {
     "name": "stdout",
     "output_type": "stream",
     "text": [
      "1/1 [==============================] - 0s 117ms/step\n"
     ]
    },
    {
     "data": {
      "text/html": [
       "<div>\n",
       "<style scoped>\n",
       "    .dataframe tbody tr th:only-of-type {\n",
       "        vertical-align: middle;\n",
       "    }\n",
       "\n",
       "    .dataframe tbody tr th {\n",
       "        vertical-align: top;\n",
       "    }\n",
       "\n",
       "    .dataframe thead th {\n",
       "        text-align: right;\n",
       "    }\n",
       "</style>\n",
       "<table border=\"1\" class=\"dataframe\">\n",
       "  <thead>\n",
       "    <tr style=\"text-align: right;\">\n",
       "      <th></th>\n",
       "      <th>Target-St(%)</th>\n",
       "      <th>Prediction-St(%)</th>\n",
       "      <th>prediction-accuracy(%)</th>\n",
       "    </tr>\n",
       "  </thead>\n",
       "  <tbody>\n",
       "    <tr>\n",
       "      <th>0</th>\n",
       "      <td>0.939463</td>\n",
       "      <td>0.934516</td>\n",
       "      <td>99.473390</td>\n",
       "    </tr>\n",
       "    <tr>\n",
       "      <th>1</th>\n",
       "      <td>0.939397</td>\n",
       "      <td>0.934516</td>\n",
       "      <td>99.480451</td>\n",
       "    </tr>\n",
       "    <tr>\n",
       "      <th>2</th>\n",
       "      <td>0.950768</td>\n",
       "      <td>0.966461</td>\n",
       "      <td>101.650528</td>\n",
       "    </tr>\n",
       "    <tr>\n",
       "      <th>3</th>\n",
       "      <td>0.979012</td>\n",
       "      <td>0.978456</td>\n",
       "      <td>99.943242</td>\n",
       "    </tr>\n",
       "    <tr>\n",
       "      <th>4</th>\n",
       "      <td>0.983239</td>\n",
       "      <td>0.975934</td>\n",
       "      <td>99.257014</td>\n",
       "    </tr>\n",
       "    <tr>\n",
       "      <th>5</th>\n",
       "      <td>0.970551</td>\n",
       "      <td>0.970074</td>\n",
       "      <td>99.950872</td>\n",
       "    </tr>\n",
       "    <tr>\n",
       "      <th>6</th>\n",
       "      <td>0.966854</td>\n",
       "      <td>0.970074</td>\n",
       "      <td>100.333024</td>\n",
       "    </tr>\n",
       "    <tr>\n",
       "      <th>7</th>\n",
       "      <td>0.977105</td>\n",
       "      <td>0.966461</td>\n",
       "      <td>98.910649</td>\n",
       "    </tr>\n",
       "    <tr>\n",
       "      <th>8</th>\n",
       "      <td>0.984452</td>\n",
       "      <td>0.989824</td>\n",
       "      <td>100.545682</td>\n",
       "    </tr>\n",
       "    <tr>\n",
       "      <th>9</th>\n",
       "      <td>0.971389</td>\n",
       "      <td>0.972335</td>\n",
       "      <td>100.097358</td>\n",
       "    </tr>\n",
       "    <tr>\n",
       "      <th>10</th>\n",
       "      <td>0.946806</td>\n",
       "      <td>0.950362</td>\n",
       "      <td>100.375528</td>\n",
       "    </tr>\n",
       "    <tr>\n",
       "      <th>11</th>\n",
       "      <td>1.003557</td>\n",
       "      <td>1.004318</td>\n",
       "      <td>100.075800</td>\n",
       "    </tr>\n",
       "    <tr>\n",
       "      <th>12</th>\n",
       "      <td>0.990412</td>\n",
       "      <td>0.988161</td>\n",
       "      <td>99.772778</td>\n",
       "    </tr>\n",
       "  </tbody>\n",
       "</table>\n",
       "</div>"
      ],
      "text/plain": [
       "    Target-St(%)  Prediction-St(%)  prediction-accuracy(%)\n",
       "0       0.939463          0.934516               99.473390\n",
       "1       0.939397          0.934516               99.480451\n",
       "2       0.950768          0.966461              101.650528\n",
       "3       0.979012          0.978456               99.943242\n",
       "4       0.983239          0.975934               99.257014\n",
       "5       0.970551          0.970074               99.950872\n",
       "6       0.966854          0.970074              100.333024\n",
       "7       0.977105          0.966461               98.910649\n",
       "8       0.984452          0.989824              100.545682\n",
       "9       0.971389          0.972335              100.097358\n",
       "10      0.946806          0.950362              100.375528\n",
       "11      1.003557          1.004318              100.075800\n",
       "12      0.990412          0.988161               99.772778"
      ]
     },
     "execution_count": 101,
     "metadata": {},
     "output_type": "execute_result"
    }
   ],
   "source": [
    "prediction = model.predict(test_inputs)\n",
    "data_inputs = pd.DataFrame(test_inputs)\n",
    "prediction = pd.DataFrame(prediction)\n",
    "test_targets = pd.DataFrame(test_targets)\n",
    "pred_accu = (prediction/test_targets)*100\n",
    "pred_accu_avg = pred_accu.sum()/pred_accu.shape[0]\n",
    "\n",
    "result = pd.concat([test_targets, prediction, pred_accu], axis = 1, ignore_index=True)\n",
    "result.columns = ['Target-St(%)', 'Prediction-St(%)','prediction-accuracy(%)']\n",
    "result"
   ]
  },
  {
   "cell_type": "code",
   "execution_count": 102,
   "metadata": {},
   "outputs": [
    {
     "data": {
      "text/plain": [
       "0.8926133991411751"
      ]
     },
     "execution_count": 102,
     "metadata": {},
     "output_type": "execute_result"
    }
   ],
   "source": [
    "# estimation of R2 score\n",
    "from sklearn.metrics import r2_score\n",
    "r2_score_test = r2_score(test_targets, prediction)\n",
    "r2_score_test"
   ]
  },
  {
   "cell_type": "code",
   "execution_count": 103,
   "metadata": {},
   "outputs": [
    {
     "data": {
      "text/plain": [
       "0.8568178655215668"
      ]
     },
     "execution_count": 103,
     "metadata": {},
     "output_type": "execute_result"
    }
   ],
   "source": [
    "# estimation of adjusted R2 score\n",
    "n = np.size(test_targets)\n",
    "k = 3 # number of features\n",
    "adj_r2_score = 1 - (((1-r2_score_test)*(n-1))/((n-k-1)))\n",
    "adj_r2_score"
   ]
  },
  {
   "cell_type": "code",
   "execution_count": 104,
   "metadata": {},
   "outputs": [
    {
     "name": "stdout",
     "output_type": "stream",
     "text": [
      "Uncertainty of the ANN model: 0.01 [%]\n",
      "Average test prediction precision 99.99 [%]\n"
     ]
    }
   ],
   "source": [
    "uncertainty_model = abs(pred_accu_avg-100) \n",
    "print(\"Uncertainty of the ANN model:\", np.round(uncertainty_model[0],2), '[%]')\n",
    "print(\"Average test prediction precision\", np.round(100 - uncertainty_model[0],2), '[%]')"
   ]
  },
  {
   "cell_type": "markdown",
   "metadata": {},
   "source": [
    "# ANN Model Deployment"
   ]
  },
  {
   "cell_type": "markdown",
   "metadata": {},
   "source": [
    "ANN model deployment for micro DSC error prediction"
   ]
  },
  {
   "cell_type": "code",
   "execution_count": 105,
   "metadata": {},
   "outputs": [],
   "source": [
    "import keras\n",
    "model.save('micro_dsc_dl.h5')"
   ]
  },
  {
   "cell_type": "code",
   "execution_count": null,
   "metadata": {},
   "outputs": [],
   "source": []
  }
 ],
 "metadata": {
  "kernelspec": {
   "display_name": ".venv",
   "language": "python",
   "name": "python3"
  },
  "language_info": {
   "codemirror_mode": {
    "name": "ipython",
    "version": 3
   },
   "file_extension": ".py",
   "mimetype": "text/x-python",
   "name": "python",
   "nbconvert_exporter": "python",
   "pygments_lexer": "ipython3",
   "version": "3.8.9"
  },
  "orig_nbformat": 4,
  "vscode": {
   "interpreter": {
    "hash": "795fce77f85a68c42812bdf3641cf800dca9a871e04df385e26cc90e90697f34"
   }
  }
 },
 "nbformat": 4,
 "nbformat_minor": 2
}
